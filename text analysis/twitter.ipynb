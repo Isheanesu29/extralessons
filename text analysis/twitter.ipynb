{
 "cells": [
  {
   "cell_type": "code",
   "execution_count": null,
   "source": [
    "import tweepy\r\n",
    "import webbrowser\r\n",
    "import time\r\n",
    "import pandas as pd\r\n",
    "import csv\r\n",
    "import datetime\r\n",
    "import pandas as pd\r\n",
    "import matplotlib.pyplot as plt \r\n",
    "import numpy as np\r\n",
    "import re\r\n",
    "import string\r\n",
    "import nltk"
   ],
   "outputs": [],
   "metadata": {}
  },
  {
   "cell_type": "code",
   "execution_count": null,
   "source": [
    "consumer_key = '5iM7WsOnBxmuLwg7N4yFgRGgv'\r\n",
    "consumer_secret ='AprvWHmF9hXWdbEYPMUE3vq4dnJHmRrx7GCJZbi3g4IWPrTFZ3'"
   ],
   "outputs": [],
   "metadata": {}
  },
  {
   "cell_type": "code",
   "execution_count": null,
   "source": [
    "callback_url= 'oob'"
   ],
   "outputs": [],
   "metadata": {}
  },
  {
   "cell_type": "code",
   "execution_count": null,
   "source": [
    "auth= tweepy.OAuthHandler(consumer_key,consumer_secret,callback_url)\r\n",
    "redirect_url = auth.get_authorization_url()\r\n",
    "print(redirect_url)"
   ],
   "outputs": [],
   "metadata": {}
  },
  {
   "cell_type": "code",
   "execution_count": null,
   "source": [],
   "outputs": [],
   "metadata": {}
  },
  {
   "cell_type": "code",
   "execution_count": null,
   "source": [
    "webbrowser.open(redirect_url)"
   ],
   "outputs": [],
   "metadata": {}
  },
  {
   "cell_type": "code",
   "execution_count": null,
   "source": [
    "user_pint_input = input (\"What's the pin value? \")"
   ],
   "outputs": [],
   "metadata": {}
  },
  {
   "cell_type": "code",
   "execution_count": null,
   "source": [
    "user_pint_input\r\n"
   ],
   "outputs": [],
   "metadata": {}
  },
  {
   "cell_type": "code",
   "execution_count": null,
   "source": [
    "auth.get_access_token(user_pint_input)"
   ],
   "outputs": [],
   "metadata": {}
  },
  {
   "cell_type": "code",
   "execution_count": null,
   "source": [
    "print(auth.access_token, auth.access_token_secret)"
   ],
   "outputs": [],
   "metadata": {}
  },
  {
   "cell_type": "code",
   "execution_count": null,
   "source": [
    "api= tweepy.API(auth)"
   ],
   "outputs": [],
   "metadata": {}
  },
  {
   "cell_type": "code",
   "execution_count": null,
   "source": [
    "me = api.me()"
   ],
   "outputs": [],
   "metadata": {}
  },
  {
   "cell_type": "code",
   "execution_count": null,
   "source": [
    "screen_name = (me.screen_name)\r\n",
    "print(screen_name)"
   ],
   "outputs": [],
   "metadata": {}
  },
  {
   "cell_type": "code",
   "execution_count": null,
   "source": [
    "my_timeline= api.home_timeline()\r\n",
    "print(my_timeline)"
   ],
   "outputs": [],
   "metadata": {}
  },
  {
   "cell_type": "code",
   "execution_count": null,
   "source": [
    "api = tweepy.API(auth)\r\n",
    "\r\n",
    "public_tweets = api.home_timeline()\r\n",
    "for tweet in public_tweets:\r\n",
    "    print(tweet.text)\r\n",
    "           "
   ],
   "outputs": [],
   "metadata": {}
  },
  {
   "cell_type": "code",
   "execution_count": null,
   "source": [
    "today = datetime.date.today()\r\n",
    "yesterday= today - datetime.timedelta(days=1)"
   ],
   "outputs": [],
   "metadata": {}
  },
  {
   "cell_type": "markdown",
   "source": [],
   "metadata": {}
  },
  {
   "cell_type": "code",
   "execution_count": null,
   "source": [
    "tweets_list = tweepy.Cursor(api.search, q=\"#vaccine since:\" + str(yesterday)+ \" until:\" + str(today),tweet_mode='extended', lang='en').items()"
   ],
   "outputs": [],
   "metadata": {}
  },
  {
   "cell_type": "code",
   "execution_count": null,
   "source": [
    "import retry\r\n",
    "\r\n",
    "output = []\r\n",
    "api = tweepy.API(auth,wait_on_rate_limit=True, wait_on_rate_limit_notify=True)\r\n",
    "\r\n",
    "for tweet in tweets_list:\r\n",
    "    text = tweet._json[\"full_text\"]\r\n",
    "    print(text)\r\n",
    "    favourite_count = tweet.favorite_count\r\n",
    "    retweet_count = tweet.retweet_count\r\n",
    "    created_at = tweet.created_at\r\n",
    "    \r\n",
    "    line = {'text' : text, 'favourite_count' : favourite_count, 'retweet_count' : retweet_count, 'created_at' : created_at}\r\n",
    "    output.append(line)"
   ],
   "outputs": [],
   "metadata": {}
  },
  {
   "cell_type": "code",
   "execution_count": null,
   "source": [
    "import pandas as pd\r\n",
    "df = pd.DataFrame(output)\r\n",
    "df.to_csv('output.csv')"
   ],
   "outputs": [],
   "metadata": {}
  },
  {
   "cell_type": "code",
   "execution_count": null,
   "source": [
    "print(df)"
   ],
   "outputs": [],
   "metadata": {}
  },
  {
   "cell_type": "code",
   "execution_count": null,
   "source": [
    "df.describe()\r\n"
   ],
   "outputs": [],
   "metadata": {}
  },
  {
   "cell_type": "code",
   "execution_count": null,
   "source": [
    "df.info()"
   ],
   "outputs": [],
   "metadata": {}
  },
  {
   "cell_type": "code",
   "execution_count": null,
   "source": [
    "\r\n",
    "from nltk.tokenize import sent_tokenize\r\n",
    "sent_token = [sent_tokenize(doc) for doc in df['text']]\r\n",
    "print(sent_token)"
   ],
   "outputs": [],
   "metadata": {}
  },
  {
   "cell_type": "code",
   "execution_count": null,
   "source": [
    "regex = re.compile('[%s]' % re.escape(string.punctuation))\r\n",
    "\r\n",
    "sent_token_no_punctuation = []\r\n",
    "\r\n",
    "for review in sent_token:\r\n",
    "    new_review = []\r\n",
    "    for token in review:\r\n",
    "        new_token = regex.sub(u'', token) # \r\n",
    "        if not new_token == u'':\r\n",
    "            new_review.append(new_token)\r\n",
    "            \r\n",
    "    sent_token_no_punctuation.append(new_review)\r\n",
    "\r\n",
    "print(sent_token_no_punctuation)"
   ],
   "outputs": [],
   "metadata": {}
  },
  {
   "cell_type": "code",
   "execution_count": null,
   "source": [
    "from nltk.corpus import stopwords\r\n",
    "\r\n",
    "sent_token_no_stopwords = []\r\n",
    "\r\n",
    "for doc in sent_token_no_punctuation:\r\n",
    "    new_term_vector = []\r\n",
    "    for word in doc:\r\n",
    "        if not word in stopwords.words('english'):\r\n",
    "            new_term_vector.append(word)\r\n",
    "    \r\n",
    "    sent_token_no_stopwords.append(new_term_vector)\r\n",
    "\r\n",
    "print(sent_token_no_stopwords)"
   ],
   "outputs": [],
   "metadata": {}
  },
  {
   "cell_type": "code",
   "execution_count": null,
   "source": [],
   "outputs": [],
   "metadata": {}
  },
  {
   "cell_type": "code",
   "execution_count": null,
   "source": [],
   "outputs": [],
   "metadata": {}
  },
  {
   "cell_type": "code",
   "execution_count": null,
   "source": [
    "from nltk.stem.porter import PorterStemmer\r\n",
    "from nltk.stem.wordnet import WordNetLemmatizer\r\n",
    "\r\n",
    "porter = PorterStemmer()\r\n",
    "wordnet = WordNetLemmatizer()\r\n",
    "\r\n",
    "preprocessed_docs = []\r\n",
    "\r\n",
    "for doc in sent_token_no_stopwords:\r\n",
    "    final_doc =[]\r\n",
    "    for word in doc:\r\n",
    "        #final_doc.append(porter.stem(word))\r\n",
    "        final_doc.append(wordnet.lemmatize(word))\r\n",
    "        \r\n",
    "    preprocessed_docs.append(final_doc)\r\n",
    "print(preprocessed_docs)"
   ],
   "outputs": [],
   "metadata": {}
  },
  {
   "cell_type": "code",
   "execution_count": null,
   "source": [
    "preprocessed_docs = pd.DataFrame({'twitter_text':[' '.join(map(str, x)) for x in text['preprocessed_docs']]})\r\n",
    "print(preprocessed_docs)"
   ],
   "outputs": [],
   "metadata": {}
  }
 ],
 "metadata": {
  "interpreter": {
   "hash": "247ab06e135bb35fa78c5eff31b2a9a0050dcb5fb773c2631d2a29ac689eeccb"
  },
  "kernelspec": {
   "name": "python3",
   "display_name": "Python 3.9.7 64-bit"
  },
  "language_info": {
   "codemirror_mode": {
    "name": "ipython",
    "version": 3
   },
   "file_extension": ".py",
   "mimetype": "text/x-python",
   "name": "python",
   "nbconvert_exporter": "python",
   "pygments_lexer": "ipython3",
   "version": "3.9.7"
  }
 },
 "nbformat": 4,
 "nbformat_minor": 4
}