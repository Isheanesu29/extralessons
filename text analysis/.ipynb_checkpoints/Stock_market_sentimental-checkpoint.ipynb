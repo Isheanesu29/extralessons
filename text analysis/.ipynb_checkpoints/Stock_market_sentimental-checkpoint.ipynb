{
 "cells": [
  {
   "cell_type": "code",
   "execution_count": 40,
   "metadata": {},
   "outputs": [
    {
     "name": "stderr",
     "output_type": "stream",
     "text": [
      "[nltk_data] Downloading package vader_lexicon to\n",
      "[nltk_data]     C:\\Users\\user\\AppData\\Roaming\\nltk_data...\n",
      "[nltk_data]   Package vader_lexicon is already up-to-date!\n"
     ]
    },
    {
     "data": {
      "text/plain": [
       "True"
      ]
     },
     "execution_count": 40,
     "metadata": {},
     "output_type": "execute_result"
    }
   ],
   "source": [
    "from urllib.request import urlopen, Request\n",
    "from bs4 import BeautifulSoup\n",
    "from nltk.sentiment.vader import SentimentIntensityAnalyzer\n",
    "import pandas as pd\n",
    "import matplotlib.pyplot as plt\n",
    "import nltk\n",
    "import textblob\n",
    "from textblob import TextBlob\n",
    "import re\n",
    "import numpy as np\n",
    "import time\n",
    "import seaborn as sns\n",
    "from wordcloud import WordCloud\n",
    "# nltk\n",
    "from nltk.stem import WordNetLemmatizer\n",
    "# sklearn\n",
    "from sklearn.svm import LinearSVC\n",
    "from sklearn.naive_bayes import BernoulliNB\n",
    "from sklearn.linear_model import LogisticRegression\n",
    "from sklearn.model_selection import train_test_split\n",
    "from sklearn.feature_extraction.text import TfidfVectorizer\n",
    "from sklearn.metrics import confusion_matrix, classification_report\n",
    "import stop_words\n",
    "\n",
    "\n",
    "nltk.downloader.download('vader_lexicon')"
   ]
  },
  {
   "cell_type": "code",
   "execution_count": 41,
   "metadata": {},
   "outputs": [],
   "source": [
    "finviz_url = 'https://finviz.com/quote.ashx?t='\n",
    "Companies = ['AMZN', 'GOOG', 'FB','TWTR'] # stock companies\n",
    "\n",
    "news_tables = {} # Declare empty dictionary to store results from finviz"
   ]
  },
  {
   "cell_type": "code",
   "execution_count": null,
   "metadata": {},
   "outputs": [],
   "source": [
    "\n"
   ]
  },
  {
   "cell_type": "code",
   "execution_count": 42,
   "metadata": {},
   "outputs": [
    {
     "name": "stdout",
     "output_type": "stream",
     "text": [
      "{'AMZN': <table border=\"0\" cellpadding=\"1\" cellspacing=\"0\" class=\"fullview-news-outer\" id=\"news-table\" width=\"100%\">\n",
      "<tr><td align=\"right\" style=\"white-space:nowrap\" width=\"130\">Oct-10-21 10:30AM  </td><td align=\"left\"><div class=\"news-link-container\"><div class=\"news-link-left\"><a class=\"tab-link-news\" href=\"https://www.fool.com/investing/2021/10/10/could-robotics-be-amazons-next-big-growth-driver/?source=eptyholnk0000202&amp;utm_source=yahoo-host&amp;utm_medium=feed&amp;utm_campaign=article\" target=\"_blank\">Could Robotics Be Amazon's Next Big Growth Driver?</a></div><div class=\"news-link-right\"><span style=\"color:#aa6dc0;font-size:9px\"> Motley Fool</span></div></div></td></tr>\n",
      "<tr><td align=\"right\" width=\"130\">09:45AM  </td><td align=\"left\"><div class=\"news-link-container\"><div class=\"news-link-left\"><a class=\"tab-link-news\" href=\"https://www.fool.com/investing/2021/10/10/3-brick-and-mortar-stores-that-can-thrive-in-an-ag/?source=eptyholnk0000202&amp;utm_source=yahoo-host&amp;utm_medium=feed&amp;utm_campaign=article\" target=\"_blank\">3 Brick-and-Mortar Stores That Can Thrive in an Age of E-Commerce</a></div><div class=\"news-link-right\"><span style=\"color:#aa6dc0;font-size:9px\"> Motley Fool</span></div></div></td></tr>\n",
      "<tr><td align=\"right\" style=\"white-space:nowrap\" width=\"130\">Oct-09-21 11:33AM  </td><td align=\"left\"><div class=\"news-link-container\"><div class=\"news-link-left\"><a class=\"tab-link-news\" href=\"https://www.fool.com/investing/2021/10/09/3-investors-compare-the-market-crash-of-2020-with/?source=eptyholnk0000202&amp;utm_source=yahoo-host&amp;utm_medium=feed&amp;utm_campaign=article\" target=\"_blank\">3 Investors Compare the Market Crash of 2020 With the Market Crash of 2008</a></div><div class=\"news-link-right\"><span style=\"color:#aa6dc0;font-size:9px\"> Motley Fool</span></div></div></td></tr>\n",
      "<tr><td align=\"right\" width=\"130\">11:00AM  </td><td align=\"left\"><div class=\"news-link-container\"><div class=\"news-link-left\"><a class=\"tab-link-news\" href=\"https://www.fool.com/investing/2021/10/09/why-the-holiday-season-could-be-better-than-hoped/?source=eptyholnk0000202&amp;utm_source=yahoo-host&amp;utm_medium=feed&amp;utm_campaign=article\" target=\"_blank\">Why The Holiday Season Could Be Better Than You Think</a></div><div class=\"news-link-right\"><span style=\"color:#aa6dc0;font-size:9px\"> Motley Fool</span></div></div></td></tr>\n",
      "<tr><td align=\"right\" width=\"130\">10:52AM  </td><td align=\"left\"><div class=\"news-link-container\"><div class=\"news-link-left\"><a class=\"tab-link-news\" href=\"https://finance.yahoo.com/news/10-stocks-better-walmart-wmt-145208073.html\" target=\"_blank\">10 Stocks Better than Walmart (WMT) According to Hedge Funds</a></div><div class=\"news-link-right\"><span style=\"color:#aa6dc0;font-size:9px\"> Insider Monkey</span></div></div></td></tr>\n",
      "<tr><td align=\"right\" width=\"130\">07:00AM  </td><td align=\"left\"><div class=\"news-link-container\"><div class=\"news-link-left\"><a class=\"tab-link-news\" href=\"https://qz.com/2071624/how-much-should-grocery-delivery-really-cost/?utm_source=YPL\" target=\"_blank\">How much should grocery delivery really cost?</a></div><div class=\"news-link-right\"><span style=\"color:#aa6dc0;font-size:9px\"> Quartz</span></div></div></td></tr>\n",
      "<tr><td align=\"right\" width=\"130\">06:35AM  </td><td align=\"left\"><div class=\"news-link-container\"><div class=\"news-link-left\"><a class=\"tab-link-news\" href=\"https://www.fool.com/investing/2021/10/09/2-artificial-intelligence-stocks-you-can-buy-and-h/?source=eptyholnk0000202&amp;utm_source=yahoo-host&amp;utm_medium=feed&amp;utm_campaign=article\" target=\"_blank\">2 Artificial Intelligence Stocks You Can Buy and Hold for the Next Decade</a></div><div class=\"news-link-right\"><span style=\"color:#aa6dc0;font-size:9px\"> Motley Fool</span></div></div></td></tr>\n",
      "<tr><td align=\"right\" style=\"white-space:nowrap\" width=\"130\">Oct-08-21 08:49PM  </td><td align=\"left\"><div class=\"news-link-container\"><div class=\"news-link-left\"><a class=\"tab-link-news\" href=\"https://www.bizjournals.com/seattle/news/2021/10/08/grow-bellevue-real-estate-cafe-cesura.html?ana=yahoo\" target=\"_blank\">'Now every week there's news of another big project' in Bellevue</a></div><div class=\"news-link-right\"><span style=\"color:#aa6dc0;font-size:9px\"> American City Business Journals</span></div></div></td></tr>\n",
      "<tr><td align=\"right\" width=\"130\">08:19PM  </td><td align=\"left\"><div class=\"news-link-container\"><div class=\"news-link-left\"><a class=\"tab-link-news\" href=\"https://www.bizjournals.com/seattle/news/2021/10/08/kraken-ceo-sees-a-business-renaissance-ahead.html?ana=yahoo\" target=\"_blank\">Kraken CEO Tod Leiweke predicts business 'renaissance' as Seattle emerges from pandemic</a></div><div class=\"news-link-right\"><span style=\"color:#aa6dc0;font-size:9px\"> American City Business Journals</span></div></div></td></tr>\n",
      "<tr><td align=\"right\" width=\"130\">03:12PM  </td><td align=\"left\"><div class=\"news-link-container\"><div class=\"news-link-left\"><a class=\"tab-link-news\" href=\"https://www.bizjournals.com/nashville/news/2021/10/08/nashville-yards-bass-berry-sims-hq.html?ana=yahoo\" target=\"_blank\">Bass, Berry &amp; Sims law firm to relocate headquarters to Nashville Yards</a></div><div class=\"news-link-right\"><span style=\"color:#aa6dc0;font-size:9px\"> American City Business Journals</span></div></div></td></tr>\n",
      "<tr><td align=\"right\" width=\"130\">01:48PM  </td><td align=\"left\"><div class=\"news-link-container\"><div class=\"news-link-left\"><a class=\"tab-link-news\" href=\"https://finance.yahoo.com/news/this-nearly-40-billion-tech-company-has-unleashed-a-secret-weapon-to-attract-workers-174808952.html\" target=\"_blank\">This nearly $40 billion tech company has unleashed a secret weapon to attract workers</a></div><div class=\"news-link-right\"><span style=\"color:#aa6dc0;font-size:9px\"> Yahoo Finance</span></div></div></td></tr>\n",
      "<tr><td align=\"right\" width=\"130\">01:39PM  </td><td align=\"left\"><div class=\"news-link-container\"><div class=\"news-link-left\"><a class=\"tab-link-news\" href=\"https://finance.yahoo.com/news/why-investors-just-bought-amazon-173908963.html\" target=\"_blank\">Why These Investors Just Bought Amazon Stock And Call Options</a></div><div class=\"news-link-right\"><span style=\"color:#aa6dc0;font-size:9px\"> Benzinga</span></div></div></td></tr>\n",
      "<tr><td align=\"right\" width=\"130\">12:59PM  </td><td align=\"left\"><div class=\"news-link-container\"><div class=\"news-link-left\"><a class=\"tab-link-news\" href=\"https://www.bizjournals.com/nashville/news/2021/10/08/nashville-loses-a-billionaire-on-forbes-list.html?ana=yahoo\" target=\"_blank\">Nashville down to three billionaires on Forbes' annual list of the 400 richest people in America</a></div><div class=\"news-link-right\"><span style=\"color:#aa6dc0;font-size:9px\"> American City Business Journals</span></div></div></td></tr>\n",
      "<tr><td align=\"right\" width=\"130\">12:40PM  </td><td align=\"left\"><div class=\"news-link-container\"><div class=\"news-link-left\"><a class=\"tab-link-news\" href=\"https://finance.yahoo.com/news/worm-capital-amazon-amzn-value-164043238.html\" target=\"_blank\">Worm Capital: Amazon (AMZN)s Value-Creation Becomes Obvious in Hindsight</a></div><div class=\"news-link-right\"><span style=\"color:#aa6dc0;font-size:9px\"> Insider Monkey</span></div></div></td></tr>\n",
      "<tr><td align=\"right\" width=\"130\">11:14AM  </td><td align=\"left\"><div class=\"news-link-container\"><div class=\"news-link-left\"><a class=\"tab-link-news\" href=\"https://www.fool.com/investing/2021/10/08/how-mongodb-beat-amazon/?source=eptyholnk0000202&amp;utm_source=yahoo-host&amp;utm_medium=feed&amp;utm_campaign=article\" target=\"_blank\">How MongoDB Beat Amazon</a></div><div class=\"news-link-right\"><span style=\"color:#aa6dc0;font-size:9px\"> Motley Fool</span></div></div></td></tr>\n",
      "<tr><td align=\"right\" width=\"130\">11:03AM  </td><td align=\"left\"><div class=\"news-link-container\"><div class=\"news-link-left\"><a class=\"tab-link-news\" href=\"https://finance.yahoo.com/news/xpo-names-cio-harik-run-150324126.html\" target=\"_blank\">XPO Names CIO Harik to Run LTL Business</a></div><div class=\"news-link-right\"><span style=\"color:#aa6dc0;font-size:9px\"> Benzinga</span></div></div></td></tr>\n",
      "<tr><td align=\"right\" width=\"130\">09:39AM  </td><td align=\"left\"><div class=\"news-link-container\"><div class=\"news-link-left\"><a class=\"tab-link-news\" href=\"https://www.marketwatch.com/story/the-return-of-jedi-sequel-to-military-cloud-contract-will-be-much-more-complex-11633640142?siteid=yhoof2\" target=\"_blank\">The return of JEDI: Why the sequel to militarys cloud contract could cost much more than the $10 billion original</a></div><div class=\"news-link-right\"><span style=\"color:#aa6dc0;font-size:9px\"> MarketWatch</span></div></div></td></tr>\n",
      "<tr><td align=\"right\" width=\"130\">09:23AM  </td><td align=\"left\"><div class=\"news-link-container\"><div class=\"news-link-left\"><a class=\"tab-link-news\" href=\"https://www.fool.com/investing/2021/10/08/1-stock-to-avoid-no-matter-what/?source=eptyholnk0000202&amp;utm_source=yahoo-host&amp;utm_medium=feed&amp;utm_campaign=article\" target=\"_blank\">1 Stock to Avoid No Matter What</a></div><div class=\"news-link-right\"><span style=\"color:#aa6dc0;font-size:9px\"> Motley Fool</span></div></div></td></tr>\n",
      "<tr><td align=\"right\" width=\"130\">09:05AM  </td><td align=\"left\"><div class=\"news-link-container\"><div class=\"news-link-left\"><a class=\"tab-link-news\" href=\"https://www.fool.com/investing/2021/10/08/microsoft-windows-11-what-investors-need-to-know/?source=eptyholnk0000202&amp;utm_source=yahoo-host&amp;utm_medium=feed&amp;utm_campaign=article\" target=\"_blank\">Microsoft Windows 11: What Investors Need to Know</a></div><div class=\"news-link-right\"><span style=\"color:#aa6dc0;font-size:9px\"> Motley Fool</span></div></div></td></tr>\n",
      "<tr><td align=\"right\" width=\"130\">08:57AM  </td><td align=\"left\"><div class=\"news-link-container\"><div class=\"news-link-left\"><a class=\"tab-link-news\" href=\"https://www.fool.com/investing/2021/10/08/why-is-everyone-talking-about-palantir-stock/?source=eptyholnk0000202&amp;utm_source=yahoo-host&amp;utm_medium=feed&amp;utm_campaign=article\" target=\"_blank\">Why Is Everyone Talking About Palantir Stock?</a></div><div class=\"news-link-right\"><span style=\"color:#aa6dc0;font-size:9px\"> Motley Fool</span></div></div></td></tr>\n",
      "<tr><td align=\"right\" width=\"130\">08:22AM  </td><td align=\"left\"><div class=\"news-link-container\"><div class=\"news-link-left\"><a class=\"tab-link-news\" href=\"https://www.fool.com/investing/2021/10/08/heres-why-investors-should-put-this-recent-ipo-on/?source=eptyholnk0000202&amp;utm_source=yahoo-host&amp;utm_medium=feed&amp;utm_campaign=article\" target=\"_blank\">Here's Why Investors Should Put This Recent IPO on Their Radar</a></div><div class=\"news-link-right\"><span style=\"color:#aa6dc0;font-size:9px\"> Motley Fool</span></div></div></td></tr>\n",
      "<tr><td align=\"right\" width=\"130\">07:45AM  </td><td align=\"left\"><div class=\"news-link-container\"><div class=\"news-link-left\"><a class=\"tab-link-news\" href=\"https://www.fool.com/investing/2021/10/08/how-doordash-attracts-workers/?source=eptyholnk0000202&amp;utm_source=yahoo-host&amp;utm_medium=feed&amp;utm_campaign=article\" target=\"_blank\">How DoorDash Attracts Workers</a></div><div class=\"news-link-right\"><span style=\"color:#aa6dc0;font-size:9px\"> Motley Fool</span></div></div></td></tr>\n",
      "<tr><td align=\"right\" width=\"130\">07:40AM  </td><td align=\"left\"><div class=\"news-link-container\"><div class=\"news-link-left\"><a class=\"tab-link-news\" href=\"https://finance.yahoo.com/news/paul-marshall-ian-wace-stock-114055239.html\" target=\"_blank\">Paul Marshall and Ian Waces Stock Picks: Biogen Inc (BIIB), Apple Inc (AAPL) and More</a></div><div class=\"news-link-right\"><span style=\"color:#aa6dc0;font-size:9px\"> Insider Monkey</span></div></div></td></tr>\n",
      "<tr><td align=\"right\" width=\"130\">06:00AM  </td><td align=\"left\"><div class=\"news-link-container\"><div class=\"news-link-left\"><a class=\"tab-link-news\" href=\"https://finance.yahoo.com/video/concerns-michael-dell-most-100000299.html\" target=\"_blank\">What concerns Michael Dell the most about A.I.</a></div><div class=\"news-link-right\"><span style=\"color:#aa6dc0;font-size:9px\"> Yahoo Finance Video</span></div></div></td></tr>\n",
      "<tr><td align=\"right\" width=\"130\">03:29AM  </td><td align=\"left\"><div class=\"news-link-container\"><div class=\"news-link-left\"><a class=\"tab-link-news\" href=\"https://finance.yahoo.com/news/george-soros-stock-portfolio-top-072941640.html\" target=\"_blank\">George Soros Stock Portfolio: Top 10 Stock Picks</a></div><div class=\"news-link-right\"><span style=\"color:#aa6dc0;font-size:9px\"> Insider Monkey</span></div></div></td></tr>\n",
      "<tr><td align=\"right\" style=\"white-space:nowrap\" width=\"130\">Oct-07-21 06:03PM  </td><td align=\"left\"><div class=\"news-link-container\"><div class=\"news-link-left\"><a class=\"tab-link-news\" href=\"https://finance.yahoo.com/news/jeff-bezos-87m-indonesian-investment-220300219.html\" target=\"_blank\">Jeff Bezos' big Indonesian investment is off-limits to you  try these 3 stocks instead</a></div><div class=\"news-link-right\"><span style=\"color:#aa6dc0;font-size:9px\"> MoneyWise</span></div></div></td></tr>\n",
      "<tr><td align=\"right\" width=\"130\">04:35PM  </td><td align=\"left\"><div class=\"news-link-container\"><div class=\"news-link-left\"><a class=\"tab-link-news\" href=\"https://finance.yahoo.com/video/market-recap-thursday-october-7-203522100.html\" target=\"_blank\">Market Recap: Thursday, October 7</a></div><div class=\"news-link-right\"><span style=\"color:#aa6dc0;font-size:9px\"> Yahoo Finance Video</span></div></div></td></tr>\n",
      "<tr><td align=\"right\" width=\"130\">04:23PM  </td><td align=\"left\"><div class=\"news-link-container\"><div class=\"news-link-left\"><a class=\"tab-link-news\" href=\"https://www.bizjournals.com/albuquerque/news/2021/10/07/amazon-linked-to-new-construction-at-sunport.html?ana=yahoo\" target=\"_blank\">Amazon listed on building permit at Albuquerque International Sunport</a></div><div class=\"news-link-right\"><span style=\"color:#aa6dc0;font-size:9px\"> American City Business Journals</span></div></div></td></tr>\n",
      "<tr><td align=\"right\" width=\"130\">01:48PM  </td><td align=\"left\"><div class=\"news-link-container\"><div class=\"news-link-left\"><a class=\"tab-link-news\" href=\"https://www.investors.com/news/technology/amazon-stock-buy-now/?src=A00220\" target=\"_blank\">Is Amazon Stock A Buy Right Now As Epic Battle With Walmart Escalates</a></div><div class=\"news-link-right\"><span style=\"color:#aa6dc0;font-size:9px\"> Investor's Business Daily</span></div></div></td></tr>\n",
      "<tr><td align=\"right\" width=\"130\">10:32AM  </td><td align=\"left\"><div class=\"news-link-container\"><div class=\"news-link-left\"><a class=\"tab-link-news\" href=\"https://finance.yahoo.com/news/thinking-buying-stock-options-bank-143229403.html\" target=\"_blank\">Thinking About Buying Stock Or Options In Bank Of America, AT&amp;T, Amazon Or Costco?</a></div><div class=\"news-link-right\"><span style=\"color:#aa6dc0;font-size:9px\"> Benzinga</span></div></div></td></tr>\n",
      "<tr><td align=\"right\" width=\"130\">10:13AM  </td><td align=\"left\"><div class=\"news-link-container\"><div class=\"news-link-left\"><a class=\"tab-link-news\" href=\"https://finance.yahoo.com/video/squid-game-global-demand-grown-141331777.html\" target=\"_blank\">'Squid Game' global demand has grown over 500+ since Netflix launch: RPT</a></div><div class=\"news-link-right\"><span style=\"color:#aa6dc0;font-size:9px\"> Yahoo Finance Video</span></div></div></td></tr>\n",
      "<tr><td align=\"right\" width=\"130\">10:11AM  </td><td align=\"left\"><div class=\"news-link-container\"><div class=\"news-link-left\"><a class=\"tab-link-news\" href=\"https://finance.yahoo.com/video/president-biden-ftc-push-antitrust-141154595.html\" target=\"_blank\">President Biden And The FTC Push For Antitrust Enforcement  Take On Amazon, Google And The Supreme Court</a></div><div class=\"news-link-right\"><span style=\"color:#aa6dc0;font-size:9px\"> Investor's Business Daily Video</span></div></div></td></tr>\n",
      "<tr><td align=\"right\" width=\"130\">10:00AM  </td><td align=\"left\"><div class=\"news-link-container\"><div class=\"news-link-left\"><a class=\"tab-link-news\" href=\"https://finance.yahoo.com/news/amazon-delivery-partners-rage-against-140011285.html\" target=\"_blank\">Amazon Delivery Partners Rage Against the Machines: We Were Treated Like Robots</a></div><div class=\"news-link-right\"><span style=\"color:#aa6dc0;font-size:9px\"> Bloomberg</span></div></div></td></tr>\n",
      "<tr><td align=\"right\" width=\"130\">09:24AM  </td><td align=\"left\"><div class=\"news-link-container\"><div class=\"news-link-left\"><a class=\"tab-link-news\" href=\"https://www.fool.com/investing/2021/10/07/where-will-ibm-be-in-3-years/?source=eptyholnk0000202&amp;utm_source=yahoo-host&amp;utm_medium=feed&amp;utm_campaign=article\" target=\"_blank\">Where Will IBM Be in 3 Years?</a></div><div class=\"news-link-right\"><span style=\"color:#aa6dc0;font-size:9px\"> Motley Fool</span></div></div></td></tr>\n",
      "<tr><td align=\"right\" width=\"130\">09:00AM  </td><td align=\"left\"><div class=\"news-link-container\"><div class=\"news-link-left\"><a class=\"tab-link-news\" href=\"https://www.fool.com/investing/2021/10/07/how-atlas-is-driving-mongodbs-growth/?source=eptyholnk0000202&amp;utm_source=yahoo-host&amp;utm_medium=feed&amp;utm_campaign=article\" target=\"_blank\">How Atlas Is Driving MongoDB's Growth</a></div><div class=\"news-link-right\"><span style=\"color:#aa6dc0;font-size:9px\"> Motley Fool</span></div></div></td></tr>\n",
      "<tr><td align=\"right\" width=\"130\">08:30AM  </td><td align=\"left\"><div class=\"news-link-container\"><div class=\"news-link-left\"><a class=\"tab-link-news\" href=\"https://www.fool.com/investing/2021/10/07/amazons-gearing-up-for-a-massive-fourth-quarter/?source=eptyholnk0000202&amp;utm_source=yahoo-host&amp;utm_medium=feed&amp;utm_campaign=article\" target=\"_blank\">Amazon's Gearing Up for a Massive Fourth Quarter</a></div><div class=\"news-link-right\"><span style=\"color:#aa6dc0;font-size:9px\"> Motley Fool</span></div></div></td></tr>\n",
      "<tr><td align=\"right\" width=\"130\">08:24AM  </td><td align=\"left\"><div class=\"news-link-container\"><div class=\"news-link-left\"><a class=\"tab-link-news\" href=\"https://www.marketwatch.com/story/whole-foods-to-sell-lightlife-brand-plant-based-chicken-exclusively-in-prepared-foods-departments-in-north-america-2021-10-07?siteid=yhoof2\" target=\"_blank\">Whole Foods to sell Lightlife brand plant-based chicken exclusively in prepared foods departments in North America</a></div><div class=\"news-link-right\"><span style=\"color:#aa6dc0;font-size:9px\"> MarketWatch</span></div></div></td></tr>\n",
      "<tr><td align=\"right\" width=\"130\">07:52AM  </td><td align=\"left\"><div class=\"news-link-container\"><div class=\"news-link-left\"><a class=\"tab-link-news\" href=\"https://www.fool.com/investing/2021/10/07/these-are-5-of-the-fastest-growing-large-cap-stock/?source=eptyholnk0000202&amp;utm_source=yahoo-host&amp;utm_medium=feed&amp;utm_campaign=article\" target=\"_blank\">These Are 5 of the Fastest-Growing Large-Cap Stocks on the Planet</a></div><div class=\"news-link-right\"><span style=\"color:#aa6dc0;font-size:9px\"> Motley Fool</span></div></div></td></tr>\n",
      "<tr><td align=\"right\" width=\"130\">07:15AM  </td><td align=\"left\"><div class=\"news-link-container\"><div class=\"news-link-left\"><a class=\"tab-link-news\" href=\"https://www.fool.com/investing/2021/10/07/small-stocks-could-have-100-billion-market-cap/?source=eptyholnk0000202&amp;utm_source=yahoo-host&amp;utm_medium=feed&amp;utm_campaign=article\" target=\"_blank\">3 Small Stocks That Could Have $100 Billion Market Caps in 10 Years</a></div><div class=\"news-link-right\"><span style=\"color:#aa6dc0;font-size:9px\"> Motley Fool</span></div></div></td></tr>\n",
      "<tr><td align=\"right\" width=\"130\">07:00AM  </td><td align=\"left\"><div class=\"news-link-container\"><div class=\"news-link-left\"><a class=\"tab-link-news\" href=\"https://finance.yahoo.com/video/u-china-relationship-little-bit-110000840.html\" target=\"_blank\">The U.S.-China relationship is a little bit frosty: Michael Dell</a></div><div class=\"news-link-right\"><span style=\"color:#aa6dc0;font-size:9px\"> Yahoo Finance Video</span></div></div></td></tr>\n",
      "<tr><td align=\"right\" width=\"130\">07:00AM  </td><td align=\"left\"><div class=\"news-link-container\"><div class=\"news-link-left\"><a class=\"tab-link-news\" href=\"https://www.fool.com/investing/2021/10/07/cloudflare-taking-on-amazon-edge-computing/?source=eptyholnk0000202&amp;utm_source=yahoo-host&amp;utm_medium=feed&amp;utm_campaign=article\" target=\"_blank\">Cloudflare Is Taking On Amazon by Harnessing the Edge</a></div><div class=\"news-link-right\"><span style=\"color:#aa6dc0;font-size:9px\"> Motley Fool</span></div></div></td></tr>\n",
      "<tr><td align=\"right\" width=\"130\">06:00AM  </td><td align=\"left\"><div class=\"news-link-container\"><div class=\"news-link-left\"><a class=\"tab-link-news\" href=\"https://finance.yahoo.com/video/influencers-andy-serwer-michael-dell-100000127.html\" target=\"_blank\">Influencers with Andy Serwer: Michael Dell</a></div><div class=\"news-link-right\"><span style=\"color:#aa6dc0;font-size:9px\"> Yahoo Finance Video</span></div></div></td></tr>\n",
      "<tr><td align=\"right\" width=\"130\">03:58AM  </td><td align=\"left\"><div class=\"news-link-container\"><div class=\"news-link-left\"><a class=\"tab-link-news\" href=\"https://finance.yahoo.com/news/twitter-levi-strauss-conagra-brands-075853645.html\" target=\"_blank\">Twitter, Levi Strauss, Conagra Brands and Tilray Rise Premarket</a></div><div class=\"news-link-right\"><span style=\"color:#aa6dc0;font-size:9px\"> Investing.com</span></div></div></td></tr>\n",
      "<tr><td align=\"right\" width=\"130\">02:37AM  </td><td align=\"left\"><div class=\"news-link-container\"><div class=\"news-link-left\"><a class=\"tab-link-news\" href=\"https://finance.yahoo.com/news/amazon-1-shrugs-off-twitch-063746002.html\" target=\"_blank\">Amazon Up 1% as It Shrugs Off Twitch Data Hack</a></div><div class=\"news-link-right\"><span style=\"color:#aa6dc0;font-size:9px\"> Investing.com</span></div></div></td></tr>\n",
      "<tr><td align=\"right\" width=\"130\">12:10AM  </td><td align=\"left\"><div class=\"news-link-container\"><div class=\"news-link-left\"><a class=\"tab-link-news\" href=\"https://finance.yahoo.com/news/rivian-electric-truck-gets-attention-130003172.html\" target=\"_blank\">Rivians Electric Truck Gets All the Attention, But Its Fate Is Tied to Amazon</a></div><div class=\"news-link-right\"><span style=\"color:#aa6dc0;font-size:9px\"> Bloomberg</span></div></div></td></tr>\n",
      "<tr><td align=\"right\" style=\"white-space:nowrap\" width=\"130\">Oct-06-21 08:00PM  </td><td align=\"left\"><div class=\"news-link-container\"><div class=\"news-link-left\"><a class=\"tab-link-news\" href=\"https://www.fool.com/investing/2021/10/06/amazon-scores-big-tax-breaks-as-it-expands-deliver/?source=eptyholnk0000202&amp;utm_source=yahoo-host&amp;utm_medium=feed&amp;utm_campaign=article\" target=\"_blank\">Amazon Scores Big Tax Breaks as It Expands Delivery Network</a></div><div class=\"news-link-right\"><span style=\"color:#aa6dc0;font-size:9px\"> Motley Fool</span></div></div></td></tr>\n",
      "<tr><td align=\"right\" width=\"130\">05:42PM  </td><td align=\"left\"><div class=\"news-link-container\"><div class=\"news-link-left\"><a class=\"tab-link-news\" href=\"https://www.bizjournals.com/seattle/news/2021/10/06/amazon-microsoft-boeing-largest-employers.html?ana=yahoo\" target=\"_blank\">Tech giants overtook Boeing during pandemic as state's largest employers</a></div><div class=\"news-link-right\"><span style=\"color:#aa6dc0;font-size:9px\"> American City Business Journals</span></div></div></td></tr>\n",
      "<tr><td align=\"right\" width=\"130\">05:38PM  </td><td align=\"left\"><div class=\"news-link-container\"><div class=\"news-link-left\"><a class=\"tab-link-news\" href=\"https://www.barrons.com/articles/amazon-twitch-security-breach-51633556097?siteid=yhoof2\" target=\"_blank\">Amazons Streaming Platform, Twitch, Suffers Security Breach. What Investors Need to Know.</a></div><div class=\"news-link-right\"><span style=\"color:#aa6dc0;font-size:9px\"> Barrons.com</span></div></div></td></tr>\n",
      "<tr><td align=\"right\" width=\"130\">05:07PM  </td><td align=\"left\"><div class=\"news-link-container\"><div class=\"news-link-left\"><a class=\"tab-link-news\" href=\"https://www.investopedia.com/amazon-stock-amzn-5094245?utm_campaign=quote-yahoo&amp;utm_source=yahoo&amp;utm_medium=referral\" target=\"_blank\">Investing in Amazon Stock (AMZN)</a></div><div class=\"news-link-right\"><span style=\"color:#aa6dc0;font-size:9px\"> Investopedia</span></div></div></td></tr>\n",
      "<tr><td align=\"right\" width=\"130\">04:08PM  </td><td align=\"left\"><div class=\"news-link-container\"><div class=\"news-link-left\"><a class=\"tab-link-news\" href=\"https://www.investors.com/news/affirm-stock-jumps-target-joins-buy-now-pay-later-boom/?src=A00220\" target=\"_blank\">Affirm Stock Skyrockets As Target Joins 'Buy Now, Pay Later' Financing Boom</a></div><div class=\"news-link-right\"><span style=\"color:#aa6dc0;font-size:9px\"> Investor's Business Daily</span></div></div></td></tr>\n",
      "<tr><td align=\"right\" width=\"130\">03:29PM  </td><td align=\"left\"><div class=\"news-link-container\"><div class=\"news-link-left\"><a class=\"tab-link-news\" href=\"https://finance.yahoo.com/news/why-10-stocks-trending-wednesday-192903672.html\" target=\"_blank\">Why These 10 Stocks Are Trending on Wednesday</a></div><div class=\"news-link-right\"><span style=\"color:#aa6dc0;font-size:9px\"> Insider Monkey</span></div></div></td></tr>\n",
      "<tr><td align=\"right\" width=\"130\">03:02PM  </td><td align=\"left\"><div class=\"news-link-container\"><div class=\"news-link-left\"><a class=\"tab-link-news\" href=\"https://www.bizjournals.com/washington/news/2021/10/06/northern-virginia-workforce-employer.html?ana=yahoo\" target=\"_blank\">New Northern Virginia research points to these unconventional recruiting routes to spur more diverse hiring</a></div><div class=\"news-link-right\"><span style=\"color:#aa6dc0;font-size:9px\"> American City Business Journals</span></div></div></td></tr>\n",
      "<tr><td align=\"right\" width=\"130\">02:58PM  </td><td align=\"left\"><div class=\"news-link-container\"><div class=\"news-link-left\"><a class=\"tab-link-news\" href=\"https://finance.yahoo.com/news/amazon-sued-warehouse-workers-over-185831166.html\" target=\"_blank\">Amazon sued by warehouse workers over COVID-19 screening pay</a></div><div class=\"news-link-right\"><span style=\"color:#aa6dc0;font-size:9px\"> Reuters</span></div></div></td></tr>\n",
      "<tr><td align=\"right\" width=\"130\">02:55PM  </td><td align=\"left\"><div class=\"news-link-container\"><div class=\"news-link-left\"><a class=\"tab-link-news\" href=\"https://finance.yahoo.com/news/echo-had-another-serious-suitor-185513114.html\" target=\"_blank\">Echo Had Another Serious Suitor Before Accepting Jordan's Bid, Filing Says</a></div><div class=\"news-link-right\"><span style=\"color:#aa6dc0;font-size:9px\"> Benzinga</span></div></div></td></tr>\n",
      "<tr><td align=\"right\" width=\"130\">02:27PM  </td><td align=\"left\"><div class=\"news-link-container\"><div class=\"news-link-left\"><a class=\"tab-link-news\" href=\"https://finance.yahoo.com/news/amazon-sued-warehouse-workers-over-182719321.html\" target=\"_blank\">Amazon sued by warehouse workers over COVID-19 screening pay</a></div><div class=\"news-link-right\"><span style=\"color:#aa6dc0;font-size:9px\"> Reuters</span></div></div></td></tr>\n",
      "<tr><td align=\"right\" width=\"130\">02:07PM  </td><td align=\"left\"><div class=\"news-link-container\"><div class=\"news-link-left\"><a class=\"tab-link-news\" href=\"https://finance.yahoo.com/news/amazon-twitch-hacked-exposing-source-133528339.html\" target=\"_blank\">Amazons Twitch Hack Shows Top Gamers Rake In Six-Figure Payouts</a></div><div class=\"news-link-right\"><span style=\"color:#aa6dc0;font-size:9px\"> Bloomberg</span></div></div></td></tr>\n",
      "<tr><td align=\"right\" width=\"130\">01:37PM  </td><td align=\"left\"><div class=\"news-link-container\"><div class=\"news-link-left\"><a class=\"tab-link-news\" href=\"https://www.fool.com/investing/2021/10/06/why-affirm-stock-jumped-15-today/?source=eptyholnk0000202&amp;utm_source=yahoo-host&amp;utm_medium=feed&amp;utm_campaign=article\" target=\"_blank\">Why Affirm Stock Jumped 15% Today</a></div><div class=\"news-link-right\"><span style=\"color:#aa6dc0;font-size:9px\"> Motley Fool</span></div></div></td></tr>\n",
      "<tr><td align=\"right\" width=\"130\">01:16PM  </td><td align=\"left\"><div class=\"news-link-container\"><div class=\"news-link-left\"><a class=\"tab-link-news\" href=\"https://finance.yahoo.com/news/amazon-amzn-boosts-retail-reach-171605065.html\" target=\"_blank\">Amazon (AMZN) Boosts Retail Reach in U.K. With 4-star Store</a></div><div class=\"news-link-right\"><span style=\"color:#aa6dc0;font-size:9px\"> Zacks</span></div></div></td></tr>\n",
      "<tr><td align=\"right\" width=\"130\">01:10PM  </td><td align=\"left\"><div class=\"news-link-container\"><div class=\"news-link-left\"><a class=\"tab-link-news\" href=\"https://finance.yahoo.com/news/amazons-twitch-hack-everything-know-171045760.html\" target=\"_blank\">Amazon's Twitch Hack: Everything You Need To Know</a></div><div class=\"news-link-right\"><span style=\"color:#aa6dc0;font-size:9px\"> Benzinga</span></div></div></td></tr>\n",
      "<tr><td align=\"right\" width=\"130\">12:18PM  </td><td align=\"left\"><div class=\"news-link-container\"><div class=\"news-link-left\"><a class=\"tab-link-news\" href=\"https://www.bizjournals.com/baltimore/news/2021/10/06/seven-maryland-billionaires-make-forbes-400-list.html?ana=yahoo\" target=\"_blank\">Seven Maryland billionaires make Forbes 400 list of the richest Americans</a></div><div class=\"news-link-right\"><span style=\"color:#aa6dc0;font-size:9px\"> American City Business Journals</span></div></div></td></tr>\n",
      "<tr><td align=\"right\" width=\"130\">11:55AM  </td><td align=\"left\"><div class=\"news-link-container\"><div class=\"news-link-left\"><a class=\"tab-link-news\" href=\"https://www.marketwatch.com/story/reported-twitch-hacker-leaks-entire-source-code-and-streamers-incomes-for-the-past-three-years-11633533597?siteid=yhoof2\" target=\"_blank\">Twitch hacker leaks entire source code and streamers incomes for the past three years</a></div><div class=\"news-link-right\"><span style=\"color:#aa6dc0;font-size:9px\"> MarketWatch</span></div></div></td></tr>\n",
      "<tr><td align=\"right\" width=\"130\">11:21AM  </td><td align=\"left\"><div class=\"news-link-container\"><div class=\"news-link-left\"><a class=\"tab-link-news\" href=\"https://www.fool.com/investing/2021/10/06/5-reasons-its-not-too-late-to-buy-shopify-stock/?source=eptyholnk0000202&amp;utm_source=yahoo-host&amp;utm_medium=feed&amp;utm_campaign=article\" target=\"_blank\">5 Reasons It's Not too Late to Buy Shopify Stock</a></div><div class=\"news-link-right\"><span style=\"color:#aa6dc0;font-size:9px\"> Motley Fool</span></div></div></td></tr>\n",
      "<tr><td align=\"right\" width=\"130\">10:43AM  </td><td align=\"left\"><div class=\"news-link-container\"><div class=\"news-link-left\"><a class=\"tab-link-news\" href=\"https://finance.yahoo.com/news/oracles-orcl-cloud-platform-utilized-144302646.html\" target=\"_blank\">Oracle's (ORCL) Cloud Platform Utilized by K-12 School Systems</a></div><div class=\"news-link-right\"><span style=\"color:#aa6dc0;font-size:9px\"> Zacks</span></div></div></td></tr>\n",
      "<tr><td align=\"right\" width=\"130\">10:20AM  </td><td align=\"left\"><div class=\"news-link-container\"><div class=\"news-link-left\"><a class=\"tab-link-news\" href=\"https://finance.yahoo.com/news/amazon-twitch-hacked-streaming-data-breach-142013240.html\" target=\"_blank\">Amazon's streaming giant Twitch hacked, exposing crucial internal data</a></div><div class=\"news-link-right\"><span style=\"color:#aa6dc0;font-size:9px\"> Yahoo Finance UK</span></div></div></td></tr>\n",
      "<tr><td align=\"right\" width=\"130\">10:00AM  </td><td align=\"left\"><div class=\"news-link-container\"><div class=\"news-link-left\"><a class=\"tab-link-news\" href=\"https://www.fool.com/investing/2021/10/06/4-large-cap-stocks-to-watch-after-mondays-dips/?source=eptyholnk0000202&amp;utm_source=yahoo-host&amp;utm_medium=feed&amp;utm_campaign=article\" target=\"_blank\">4 Large-Cap Stocks to Watch After Monday's Dips</a></div><div class=\"news-link-right\"><span style=\"color:#aa6dc0;font-size:9px\"> Motley Fool</span></div></div></td></tr>\n",
      "<tr><td align=\"right\" width=\"130\">09:20AM  </td><td align=\"left\"><div class=\"news-link-container\"><div class=\"news-link-left\"><a class=\"tab-link-news\" href=\"https://finance.yahoo.com/news/amazon-e-commerce-boom-pushes-132059539.html\" target=\"_blank\">Amazon E-Commerce Boom Pushes Startup to $2 Billion Valuation</a></div><div class=\"news-link-right\"><span style=\"color:#aa6dc0;font-size:9px\"> Bloomberg</span></div></div></td></tr>\n",
      "<tr><td align=\"right\" width=\"130\">09:05AM  </td><td align=\"left\"><div class=\"news-link-container\"><div class=\"news-link-left\"><a class=\"tab-link-news\" href=\"https://finance.yahoo.com/news/11-best-growth-stocks-buy-130523417.html\" target=\"_blank\">11 Best Growth Stocks To Buy According To Hedge Funds</a></div><div class=\"news-link-right\"><span style=\"color:#aa6dc0;font-size:9px\"> Insider Monkey</span></div></div></td></tr>\n",
      "<tr><td align=\"right\" width=\"130\">09:04AM  </td><td align=\"left\"><div class=\"news-link-container\"><div class=\"news-link-left\"><a class=\"tab-link-news\" href=\"https://finance.yahoo.com/news/goldman-alum-takes-team-assets-130455007.html\" target=\"_blank\">Goldman Alum Takes Team, Assets to Chase Africas Unicorns</a></div><div class=\"news-link-right\"><span style=\"color:#aa6dc0;font-size:9px\"> Bloomberg</span></div></div></td></tr>\n",
      "<tr><td align=\"right\" width=\"130\">09:00AM  </td><td align=\"left\"><div class=\"news-link-container\"><div class=\"news-link-left\"><a class=\"tab-link-news\" href=\"https://finance.yahoo.com/news/mall-retailers-boost-alphabet-drones-130000640.html\" target=\"_blank\">Mall Retailers Get Boost from Alphabet Drones Delivering Sushi</a></div><div class=\"news-link-right\"><span style=\"color:#aa6dc0;font-size:9px\"> Bloomberg</span></div></div></td></tr>\n",
      "<tr><td align=\"right\" width=\"130\">08:25AM  </td><td align=\"left\"><div class=\"news-link-container\"><div class=\"news-link-left\"><a class=\"tab-link-news\" href=\"https://www.fool.com/investing/2021/10/06/how-cloudflare-will-disrupt-amazon/?source=eptyholnk0000202&amp;utm_source=yahoo-host&amp;utm_medium=feed&amp;utm_campaign=article\" target=\"_blank\">How Cloudflare Will Disrupt Amazon</a></div><div class=\"news-link-right\"><span style=\"color:#aa6dc0;font-size:9px\"> Motley Fool</span></div></div></td></tr>\n",
      "<tr><td align=\"right\" width=\"130\">08:15AM  </td><td align=\"left\"><div class=\"news-link-container\"><div class=\"news-link-left\"><a class=\"tab-link-news\" href=\"https://www.fool.com/investing/2021/10/06/is-it-time-to-play-defense-in-the-stock-market/?source=eptyholnk0000202&amp;utm_source=yahoo-host&amp;utm_medium=feed&amp;utm_campaign=article\" target=\"_blank\">Is It Time to Play Defense in the Stock Market?</a></div><div class=\"news-link-right\"><span style=\"color:#aa6dc0;font-size:9px\"> Motley Fool</span></div></div></td></tr>\n",
      "<tr><td align=\"right\" width=\"130\">08:04AM  </td><td align=\"left\"><div class=\"news-link-container\"><div class=\"news-link-left\"><a class=\"tab-link-news\" href=\"https://www.fool.com/investing/2021/10/06/acquisition-spree-cant-mask-desktop-metals-fiscal/?source=eptyholnk0000202&amp;utm_source=yahoo-host&amp;utm_medium=feed&amp;utm_campaign=article\" target=\"_blank\">Acquisition Spree Can't Mask Desktop Metal's Fiscal Challenges</a></div><div class=\"news-link-right\"><span style=\"color:#aa6dc0;font-size:9px\"> Motley Fool</span></div></div></td></tr>\n",
      "<tr><td align=\"right\" width=\"130\">07:46AM  </td><td align=\"left\"><div class=\"news-link-container\"><div class=\"news-link-left\"><a class=\"tab-link-news\" href=\"https://www.fool.com/investing/2021/10/06/heres-1-commercial-real-estate-trend-investors-nee/?source=eptyholnk0000202&amp;utm_source=yahoo-host&amp;utm_medium=feed&amp;utm_campaign=article\" target=\"_blank\">Here's 1 Commercial Real Estate Trend Investors Need to Know</a></div><div class=\"news-link-right\"><span style=\"color:#aa6dc0;font-size:9px\"> Motley Fool</span></div></div></td></tr>\n",
      "<tr><td align=\"right\" width=\"130\">07:43AM  </td><td align=\"left\"><div class=\"news-link-container\"><div class=\"news-link-left\"><a class=\"tab-link-news\" href=\"https://www.fool.com/investing/2021/10/06/2-recent-ipo-stocks-that-could-produce-10x-returns/?source=eptyholnk0000202&amp;utm_source=yahoo-host&amp;utm_medium=feed&amp;utm_campaign=article\" target=\"_blank\">2 Recent IPO Stocks That Could Produce 10X Returns</a></div><div class=\"news-link-right\"><span style=\"color:#aa6dc0;font-size:9px\"> Motley Fool</span></div></div></td></tr>\n",
      "<tr><td align=\"right\" width=\"130\">07:25AM  </td><td align=\"left\"><div class=\"news-link-container\"><div class=\"news-link-left\"><a class=\"tab-link-news\" href=\"https://www.fool.com/investing/2021/10/06/amazon-throws-down-the-gauntlet-at-these-5-compani/?source=eptyholnk0000202&amp;utm_source=yahoo-host&amp;utm_medium=feed&amp;utm_campaign=article\" target=\"_blank\">Amazon Throws Down the Gauntlet at These 5 Companies</a></div><div class=\"news-link-right\"><span style=\"color:#aa6dc0;font-size:9px\"> Motley Fool</span></div></div></td></tr>\n",
      "<tr><td align=\"right\" width=\"130\">07:00AM  </td><td align=\"left\"><div class=\"news-link-container\"><div class=\"news-link-left\"><a class=\"tab-link-news\" href=\"https://www.fool.com/investing/2021/10/06/new-investor-great-starter-stocks-amazon/?source=eptyholnk0000202&amp;utm_source=yahoo-host&amp;utm_medium=feed&amp;utm_campaign=article\" target=\"_blank\">New Investor? Here Are 3 Great Starter Stocks</a></div><div class=\"news-link-right\"><span style=\"color:#aa6dc0;font-size:9px\"> Motley Fool</span></div></div></td></tr>\n",
      "<tr><td align=\"right\" width=\"130\">07:00AM  </td><td align=\"left\"><div class=\"news-link-container\"><div class=\"news-link-left\"><a class=\"tab-link-news\" href=\"https://finance.yahoo.com/news/amazon-future-engineer-awards-first-110000192.html\" target=\"_blank\">Amazon Future Engineer Awards First University Scholarships to Canadian Students</a></div><div class=\"news-link-right\"><span style=\"color:#aa6dc0;font-size:9px\"> CNW Group</span></div></div></td></tr>\n",
      "<tr><td align=\"right\" width=\"130\">06:45AM  </td><td align=\"left\"><div class=\"news-link-container\"><div class=\"news-link-left\"><a class=\"tab-link-news\" href=\"https://www.fool.com/investing/2021/10/06/is-affirm-the-next-paypal/?source=eptyholnk0000202&amp;utm_source=yahoo-host&amp;utm_medium=feed&amp;utm_campaign=article\" target=\"_blank\">Is Affirm the Next PayPal?</a></div><div class=\"news-link-right\"><span style=\"color:#aa6dc0;font-size:9px\"> Motley Fool</span></div></div></td></tr>\n",
      "<tr><td align=\"right\" width=\"130\">06:35AM  </td><td align=\"left\"><div class=\"news-link-container\"><div class=\"news-link-left\"><a class=\"tab-link-news\" href=\"https://finance.yahoo.com/news/fake-reviews-facebook-boost-ratings-103507835.html\" target=\"_blank\">Fake reviews infiltrate Facebook to boost ratings</a></div><div class=\"news-link-right\"><span style=\"color:#aa6dc0;font-size:9px\"> Yahoo Finance UK</span></div></div></td></tr>\n",
      "<tr><td align=\"right\" width=\"130\">06:00AM  </td><td align=\"left\"><div class=\"news-link-container\"><div class=\"news-link-left\"><a class=\"tab-link-news\" href=\"https://finance.yahoo.com/video/michael-dell-learned-lessons-steve-100000372.html\" target=\"_blank\">Michael Dell learned these lessons from Steve Jobs and Bill Gates</a></div><div class=\"news-link-right\"><span style=\"color:#aa6dc0;font-size:9px\"> Yahoo Finance Video</span></div></div></td></tr>\n",
      "<tr><td align=\"right\" width=\"130\">05:35AM  </td><td align=\"left\"><div class=\"news-link-container\"><div class=\"news-link-left\"><a class=\"tab-link-news\" href=\"https://www.fool.com/investing/2021/10/06/amazon-starts-black-friday-early/?source=eptyholnk0000202&amp;utm_source=yahoo-host&amp;utm_medium=feed&amp;utm_campaign=article\" target=\"_blank\">Amazon Starts Black-Friday Deals Early: What it Could Mean for Investors</a></div><div class=\"news-link-right\"><span style=\"color:#aa6dc0;font-size:9px\"> Motley Fool</span></div></div></td></tr>\n",
      "<tr><td align=\"right\" width=\"130\">04:23AM  </td><td align=\"left\"><div class=\"news-link-container\"><div class=\"news-link-left\"><a class=\"tab-link-news\" href=\"https://finance.yahoo.com/news/amazon-opens-first-non-food-retail-store-in-the-uk-082350417.html\" target=\"_blank\">Amazon opens first non-food retail store in the UK</a></div><div class=\"news-link-right\"><span style=\"color:#aa6dc0;font-size:9px\"> Yahoo Finance UK</span></div></div></td></tr>\n",
      "<tr><td align=\"right\" width=\"130\">12:14AM  </td><td align=\"left\"><div class=\"news-link-container\"><div class=\"news-link-left\"><a class=\"tab-link-news\" href=\"https://www.bizjournals.com/seattle/news/2021/10/05/state-ag-office-rainier-square-suble.html?ana=yahoo\" target=\"_blank\">State AG's office takes a pass on big Amazon sublease at Rainier Square</a></div><div class=\"news-link-right\"><span style=\"color:#aa6dc0;font-size:9px\"> American City Business Journals</span></div></div></td></tr>\n",
      "<tr><td align=\"right\" style=\"white-space:nowrap\" width=\"130\">Oct-05-21 11:41PM  </td><td align=\"left\"><div class=\"news-link-container\"><div class=\"news-link-left\"><a class=\"tab-link-news\" href=\"https://www.fool.com/investing/2021/10/05/why-shares-of-teladoc-dropped-122-in-september/?source=eptyholnk0000202&amp;utm_source=yahoo-host&amp;utm_medium=feed&amp;utm_campaign=article\" target=\"_blank\">Why Shares of Teladoc Dropped 12.2% in September</a></div><div class=\"news-link-right\"><span style=\"color:#aa6dc0;font-size:9px\"> Motley Fool</span></div></div></td></tr>\n",
      "<tr><td align=\"right\" width=\"130\">07:01PM  </td><td align=\"left\"><div class=\"news-link-container\"><div class=\"news-link-left\"><a class=\"tab-link-news\" href=\"https://finance.yahoo.com/news/amazon-furthers-physical-retail-expansion-230100395.html\" target=\"_blank\">Amazon furthers physical retail expansion with first UK general store</a></div><div class=\"news-link-right\"><span style=\"color:#aa6dc0;font-size:9px\"> The Independent</span></div></div></td></tr>\n",
      "<tr><td align=\"right\" width=\"130\">06:34PM  </td><td align=\"left\"><div class=\"news-link-container\"><div class=\"news-link-left\"><a class=\"tab-link-news\" href=\"https://finance.yahoo.com/news/amazon-ceo-says-video-games-223411794.html\" target=\"_blank\">Amazon CEO Says Video Games Could Become the Largest Entertainment Business</a></div><div class=\"news-link-right\"><span style=\"color:#aa6dc0;font-size:9px\"> Bloomberg</span></div></div></td></tr>\n",
      "<tr><td align=\"right\" width=\"130\">05:45PM  </td><td align=\"left\"><div class=\"news-link-container\"><div class=\"news-link-left\"><a class=\"tab-link-news\" href=\"https://finance.yahoo.com/news/amazon-amzn-gains-lags-market-214509773.html\" target=\"_blank\">Amazon (AMZN) Gains But Lags Market: What You Should Know</a></div><div class=\"news-link-right\"><span style=\"color:#aa6dc0;font-size:9px\"> Zacks</span></div></div></td></tr>\n",
      "<tr><td align=\"right\" width=\"130\">05:28PM  </td><td align=\"left\"><div class=\"news-link-container\"><div class=\"news-link-left\"><a class=\"tab-link-news\" href=\"https://www.barrons.com/articles/amazon-stock-price-51633445576?siteid=yhoof2\" target=\"_blank\">Amazon Stock Has Had a Tough Year. Why J.P. Morgan Sees Big Gains Ahead.</a></div><div class=\"news-link-right\"><span style=\"color:#aa6dc0;font-size:9px\"> Barrons.com</span></div></div></td></tr>\n",
      "<tr><td align=\"right\" width=\"130\">03:43PM  </td><td align=\"left\"><div class=\"news-link-container\"><div class=\"news-link-left\"><a class=\"tab-link-news\" href=\"https://www.barrons.com/articles/facebook-teens-51633447300?siteid=yhoof2\" target=\"_blank\">Facebook Is Not a Teen Favorite, Survey Says. These Social Media Sites Are.</a></div><div class=\"news-link-right\"><span style=\"color:#aa6dc0;font-size:9px\"> Barrons.com</span></div></div></td></tr>\n",
      "<tr><td align=\"right\" width=\"130\">02:44PM  </td><td align=\"left\"><div class=\"news-link-container\"><div class=\"news-link-left\"><a class=\"tab-link-news\" href=\"https://finance.yahoo.com/news/scared-of-facebook-whistleblower-fallout-look-at-these-tech-stocks-analyst-says-184453613.html\" target=\"_blank\">Scared of Facebook whistleblower fallout? Look at these tech stocks, analyst says</a></div><div class=\"news-link-right\"><span style=\"color:#aa6dc0;font-size:9px\"> Yahoo Finance</span></div></div></td></tr>\n",
      "<tr><td align=\"right\" width=\"130\">02:31PM  </td><td align=\"left\"><div class=\"news-link-container\"><div class=\"news-link-left\"><a class=\"tab-link-news\" href=\"https://www.fool.com/investing/2021/10/05/why-amazoncom-stock-bounced-higher-today/?source=eptyholnk0000202&amp;utm_source=yahoo-host&amp;utm_medium=feed&amp;utm_campaign=article\" target=\"_blank\">Why Amazon Stock Bounced Higher Today</a></div><div class=\"news-link-right\"><span style=\"color:#aa6dc0;font-size:9px\"> Motley Fool</span></div></div></td></tr>\n",
      "<tr><td align=\"right\" width=\"130\">02:19PM  </td><td align=\"left\"><div class=\"news-link-container\"><div class=\"news-link-left\"><a class=\"tab-link-news\" href=\"https://finance.yahoo.com/video/faangs-bounce-back-pepsi-raises-181922693.html\" target=\"_blank\">FAANGs bounce back, Pepsi raises its full-year forecast</a></div><div class=\"news-link-right\"><span style=\"color:#aa6dc0;font-size:9px\"> Yahoo Finance Video</span></div></div></td></tr>\n",
      "<tr><td align=\"right\" width=\"130\">12:49PM  </td><td align=\"left\"><div class=\"news-link-container\"><div class=\"news-link-left\"><a class=\"tab-link-news\" href=\"https://finance.yahoo.com/news/oppenheimer-3-stocks-buy-despite-164948714.html\" target=\"_blank\">Oppenheimer: 3 Stocks to Buy Despite Growing Supply-Chain Issues (And 1 to Avoid)</a></div><div class=\"news-link-right\"><span style=\"color:#aa6dc0;font-size:9px\"> TipRanks</span></div></div></td></tr>\n",
      "<tr><td align=\"right\" width=\"130\">12:38PM  </td><td align=\"left\"><div class=\"news-link-container\"><div class=\"news-link-left\"><a class=\"tab-link-news\" href=\"https://www.marketwatch.com/story/rivian-ipo-5-things-to-know-about-the-amazon-backed-electric-vehicle-maker-11633451932?siteid=yhoof2\" target=\"_blank\">Rivian IPO: 5 things to know about the Amazon-backed electric-vehicle maker</a></div><div class=\"news-link-right\"><span style=\"color:#aa6dc0;font-size:9px\"> MarketWatch</span></div></div></td></tr>\n",
      "<tr><td align=\"right\" width=\"130\">12:07PM  </td><td align=\"left\"><div class=\"news-link-container\"><div class=\"news-link-left\"><a class=\"tab-link-news\" href=\"https://www.thestreet.com/technology/tech-stocks-roundup-facebook-shutdown-whistleblower-accusations?puc=yahoo&amp;cm_ven=YAHOO\" target=\"_blank\">Tech Stocks Roundup: Facebook Shutdown, Whistleblower Accusations</a></div><div class=\"news-link-right\"><span style=\"color:#aa6dc0;font-size:9px\"> TheStreet.com</span></div></div></td></tr>\n",
      "<tr><td align=\"right\" width=\"130\">12:03PM  </td><td align=\"left\"><div class=\"news-link-container\"><div class=\"news-link-left\"><a class=\"tab-link-news\" href=\"https://finance.yahoo.com/news/billionaire-lee-cooperman-10-large-160345036.html\" target=\"_blank\">Billionaire Lee Coopermans 10 Large-Cap Stock Picks</a></div><div class=\"news-link-right\"><span style=\"color:#aa6dc0;font-size:9px\"> Insider Monkey</span></div></div></td></tr>\n",
      "<tr><td align=\"right\" width=\"130\">11:47AM  </td><td align=\"left\"><div class=\"news-link-container\"><div class=\"news-link-left\"><a class=\"tab-link-news\" href=\"https://finance.yahoo.com/news/george-soros-stock-portfolio-top-154726481.html\" target=\"_blank\">George Soros Stock Portfolio: Top 10 Large-Cap Stock Picks</a></div><div class=\"news-link-right\"><span style=\"color:#aa6dc0;font-size:9px\"> Insider Monkey</span></div></div></td></tr>\n",
      "<tr><td align=\"right\" width=\"130\">11:21AM  </td><td align=\"left\"><div class=\"news-link-container\"><div class=\"news-link-left\"><a class=\"tab-link-news\" href=\"https://www.barrons.com/articles/teens-like-amazon-iphones-and-netflix-facebook-not-so-much-51633447300?siteid=yhoof2\" target=\"_blank\">Teens Like Amazon, iPhones, and Netflix. Facebook? Not So Much.</a></div><div class=\"news-link-right\"><span style=\"color:#aa6dc0;font-size:9px\"> Barrons.com</span></div></div></td></tr>\n",
      "<tr><td align=\"right\" width=\"130\">11:00AM  </td><td align=\"left\"><div class=\"news-link-container\"><div class=\"news-link-left\"><a class=\"tab-link-news\" href=\"https://finance.yahoo.com/news/abbott-is-first-health-care-company-to-keynote-at-ces-150008838.html\" target=\"_blank\">Abbott is first health care company to keynote at CES</a></div><div class=\"news-link-right\"><span style=\"color:#aa6dc0;font-size:9px\"> Yahoo Finance</span></div></div></td></tr>\n",
      "<tr><td align=\"right\" width=\"130\">10:55AM  </td><td align=\"left\"><div class=\"news-link-container\"><div class=\"news-link-left\"><a class=\"tab-link-news\" href=\"https://finance.yahoo.com/news/oracle-orcl-jedi-lawsuit-appeal-145502200.html\" target=\"_blank\">Oracle (ORCL) JEDI Lawsuit Appeal Quashed by the Supreme Court</a></div><div class=\"news-link-right\"><span style=\"color:#aa6dc0;font-size:9px\"> Zacks</span></div></div></td></tr>\n",
      "</table>, 'GOOG': <table border=\"0\" cellpadding=\"1\" cellspacing=\"0\" class=\"fullview-news-outer\" id=\"news-table\" width=\"100%\">\n",
      "<tr><td align=\"right\" style=\"white-space:nowrap\" width=\"130\">Oct-11-21 12:43AM  </td><td align=\"left\"><div class=\"news-link-container\"><div class=\"news-link-left\"><a class=\"tab-link-news\" href=\"https://finance.yahoo.com/news/1-facebook-backed-group-launches-044342223.html\" target=\"_blank\">UPDATE 2-Facebook-backed group launches misinformation adjudication panel in Australia</a></div><div class=\"news-link-right\"><span style=\"color:#aa6dc0;font-size:9px\"> Reuters</span></div></div></td></tr>\n",
      "<tr><td align=\"right\" style=\"white-space:nowrap\" width=\"130\">Oct-10-21 11:10PM  </td><td align=\"left\"><div class=\"news-link-container\"><div class=\"news-link-left\"><a class=\"tab-link-news\" href=\"https://www.investors.com/market-trend/stock-market-today/dow-jones-futures-market-rally-5-stocks-at-inflection-points-tesla-fsd-beta-opens-up/?src=A00220\" target=\"_blank\">Dow Jones Futures: Market Rally Is At Inflection Point, What To Do Now; Tesla FSD Beta Rollout Looms</a></div><div class=\"news-link-right\"><span style=\"color:#aa6dc0;font-size:9px\"> Investor's Business Daily</span></div></div></td></tr>\n",
      "<tr><td align=\"right\" width=\"130\">09:08PM  </td><td align=\"left\"><div class=\"news-link-container\"><div class=\"news-link-left\"><a class=\"tab-link-news\" href=\"https://www.investors.com/research/best-robinhood-stocks-to-buy-now/?src=A00220\" target=\"_blank\">These Are The Best Robinhood Stocks To Buy Or Watch Now</a></div><div class=\"news-link-right\"><span style=\"color:#aa6dc0;font-size:9px\"> Investor's Business Daily</span></div></div></td></tr>\n",
      "<tr><td align=\"right\" width=\"130\">08:59PM  </td><td align=\"left\"><div class=\"news-link-container\"><div class=\"news-link-left\"><a class=\"tab-link-news\" href=\"https://finance.yahoo.com/news/facebook-backed-group-launches-misinformation-005959001.html\" target=\"_blank\">Facebook-backed group launches misinformation adjudication panel in Australia</a></div><div class=\"news-link-right\"><span style=\"color:#aa6dc0;font-size:9px\"> Reuters</span></div></div></td></tr>\n",
      "<tr><td align=\"right\" width=\"130\">08:52PM  </td><td align=\"left\"><div class=\"news-link-container\"><div class=\"news-link-left\"><a class=\"tab-link-news\" href=\"https://finance.yahoo.com/news/facebook-backed-group-launches-misinformation-005236794.html\" target=\"_blank\">Facebook-backed group launches misinformation adjudication panel in Australia</a></div><div class=\"news-link-right\"><span style=\"color:#aa6dc0;font-size:9px\"> Reuters</span></div></div></td></tr>\n",
      "<tr><td align=\"right\" style=\"white-space:nowrap\" width=\"130\">Oct-09-21 05:02PM  </td><td align=\"left\"><div class=\"news-link-container\"><div class=\"news-link-left\"><a class=\"tab-link-news\" href=\"https://www.investopedia.com/financial-edge/0712/should-google-pay-a-dividend.aspx?utm_campaign=quote-yahoo&amp;utm_source=yahoo&amp;utm_medium=referral\" target=\"_blank\">Should Google Pay a Stock Dividend?</a></div><div class=\"news-link-right\"><span style=\"color:#aa6dc0;font-size:9px\"> Investopedia</span></div></div></td></tr>\n",
      "<tr><td align=\"right\" width=\"130\">11:15AM  </td><td align=\"left\"><div class=\"news-link-container\"><div class=\"news-link-left\"><a class=\"tab-link-news\" href=\"https://www.marketwatch.com/story/how-global-deal-stems-corporate-use-of-tax-havens-01633792542?siteid=yhoof2\" target=\"_blank\">How global deal stems corporate use of tax havens</a></div><div class=\"news-link-right\"><span style=\"color:#aa6dc0;font-size:9px\"> MarketWatch</span></div></div></td></tr>\n",
      "<tr><td align=\"right\" width=\"130\">10:30AM  </td><td align=\"left\"><div class=\"news-link-container\"><div class=\"news-link-left\"><a class=\"tab-link-news\" href=\"https://www.fool.com/investing/2021/10/09/where-to-invest-5000-right-now/?source=eptyholnk0000202&amp;utm_source=yahoo-host&amp;utm_medium=feed&amp;utm_campaign=article\" target=\"_blank\">Where to Invest $5,000 Right Now</a></div><div class=\"news-link-right\"><span style=\"color:#aa6dc0;font-size:9px\"> Motley Fool</span></div></div></td></tr>\n",
      "<tr><td align=\"right\" width=\"130\">09:02AM  </td><td align=\"left\"><div class=\"news-link-container\"><div class=\"news-link-left\"><a class=\"tab-link-news\" href=\"https://www.fool.com/investing/2021/10/09/google-is-still-pioneering-artificial-intelligence/?source=eptyholnk0000202&amp;utm_source=yahoo-host&amp;utm_medium=feed&amp;utm_campaign=article\" target=\"_blank\">Google Is (Still) Pioneering Artificial Intelligence</a></div><div class=\"news-link-right\"><span style=\"color:#aa6dc0;font-size:9px\"> Motley Fool</span></div></div></td></tr>\n",
      "<tr><td align=\"right\" width=\"130\">09:00AM  </td><td align=\"left\"><div class=\"news-link-container\"><div class=\"news-link-left\"><a class=\"tab-link-news\" href=\"https://www.fool.com/investing/2021/10/09/apples-app-store-empire-is-finally-cracking/?source=eptyholnk0000202&amp;utm_source=yahoo-host&amp;utm_medium=feed&amp;utm_campaign=article\" target=\"_blank\">Apple's App Store Empire Is Finally Starting to Crack</a></div><div class=\"news-link-right\"><span style=\"color:#aa6dc0;font-size:9px\"> Motley Fool</span></div></div></td></tr>\n",
      "<tr><td align=\"right\" width=\"130\">06:35AM  </td><td align=\"left\"><div class=\"news-link-container\"><div class=\"news-link-left\"><a class=\"tab-link-news\" href=\"https://www.fool.com/investing/2021/10/09/is-outbrain-stock-a-buy/?source=eptyholnk0000202&amp;utm_source=yahoo-host&amp;utm_medium=feed&amp;utm_campaign=article\" target=\"_blank\">Is Outbrain Stock a Buy?</a></div><div class=\"news-link-right\"><span style=\"color:#aa6dc0;font-size:9px\"> Motley Fool</span></div></div></td></tr>\n",
      "<tr><td align=\"right\" width=\"130\">05:51AM  </td><td align=\"left\"><div class=\"news-link-container\"><div class=\"news-link-left\"><a class=\"tab-link-news\" href=\"https://www.fool.com/investing/2021/10/09/3-surefire-stocks-to-buy-if-stock-market-crash/?source=eptyholnk0000202&amp;utm_source=yahoo-host&amp;utm_medium=feed&amp;utm_campaign=article\" target=\"_blank\">3 Surefire Stocks to Buy If There's a Stock Market Crash</a></div><div class=\"news-link-right\"><span style=\"color:#aa6dc0;font-size:9px\"> Motley Fool</span></div></div></td></tr>\n",
      "<tr><td align=\"right\" width=\"130\">03:00AM  </td><td align=\"left\"><div class=\"news-link-container\"><div class=\"news-link-left\"><a class=\"tab-link-news\" href=\"https://finance.yahoo.com/news/uk-contactless-payments-limit-rising-070027107.html\" target=\"_blank\">UK contactless payments limit is rising to £100  should you be worried?</a></div><div class=\"news-link-right\"><span style=\"color:#aa6dc0;font-size:9px\"> The Guardian</span></div></div></td></tr>\n",
      "<tr><td align=\"right\" style=\"white-space:nowrap\" width=\"130\">Oct-08-21 05:25PM  </td><td align=\"left\"><div class=\"news-link-container\"><div class=\"news-link-left\"><a class=\"tab-link-news\" href=\"https://finance.yahoo.com/news/google-tests-ways-showcase-breaking-212533612.html\" target=\"_blank\">Google Tests Ways to Showcase Breaking News in Twitter-Like Move</a></div><div class=\"news-link-right\"><span style=\"color:#aa6dc0;font-size:9px\"> Bloomberg</span></div></div></td></tr>\n",
      "<tr><td align=\"right\" width=\"130\">02:05PM  </td><td align=\"left\"><div class=\"news-link-container\"><div class=\"news-link-left\"><a class=\"tab-link-news\" href=\"https://www.investors.com/etfs-and-funds/mutual-funds/best-mutual-funds-buy-googl-stock-tech-stocks-but-stock-market-correction-hits/?src=A00220\" target=\"_blank\">New Buys By The Best Mutual Funds: GOOGL Stock Leads List As Market Corrects</a></div><div class=\"news-link-right\"><span style=\"color:#aa6dc0;font-size:9px\"> Investor's Business Daily</span></div></div></td></tr>\n",
      "<tr><td align=\"right\" width=\"130\">01:48PM  </td><td align=\"left\"><div class=\"news-link-container\"><div class=\"news-link-left\"><a class=\"tab-link-news\" href=\"https://finance.yahoo.com/news/this-nearly-40-billion-tech-company-has-unleashed-a-secret-weapon-to-attract-workers-174808952.html\" target=\"_blank\">This nearly $40 billion tech company has unleashed a secret weapon to attract workers</a></div><div class=\"news-link-right\"><span style=\"color:#aa6dc0;font-size:9px\"> Yahoo Finance</span></div></div></td></tr>\n",
      "<tr><td align=\"right\" width=\"130\">12:53PM  </td><td align=\"left\"><div class=\"news-link-container\"><div class=\"news-link-left\"><a class=\"tab-link-news\" href=\"https://www.marketwatch.com/story/google-to-block-ads-from-appearing-next-to-content-denying-climate-change-11633712015?siteid=yhoof2\" target=\"_blank\">Google to block ads from appearing next to content denying climate change</a></div><div class=\"news-link-right\"><span style=\"color:#aa6dc0;font-size:9px\"> MarketWatch</span></div></div></td></tr>\n",
      "<tr><td align=\"right\" width=\"130\">12:10PM  </td><td align=\"left\"><div class=\"news-link-container\"><div class=\"news-link-left\"><a class=\"tab-link-news\" href=\"https://finance.yahoo.com/video/google-50-day-line-161032695.html\" target=\"_blank\">Google At 50-Day Line</a></div><div class=\"news-link-right\"><span style=\"color:#aa6dc0;font-size:9px\"> Investor's Business Daily Video</span></div></div></td></tr>\n",
      "<tr><td align=\"right\" width=\"130\">11:16AM  </td><td align=\"left\"><div class=\"news-link-container\"><div class=\"news-link-left\"><a class=\"tab-link-news\" href=\"https://finance.yahoo.com/video/ireland-joins-global-tax-agreement-151600371.html\" target=\"_blank\">Ireland joins global tax agreement, Googles cracks down on climate change denial, Sen. Lummis investment in crypto</a></div><div class=\"news-link-right\"><span style=\"color:#aa6dc0;font-size:9px\"> Yahoo Finance Video</span></div></div></td></tr>\n",
      "<tr><td align=\"right\" width=\"130\">09:05AM  </td><td align=\"left\"><div class=\"news-link-container\"><div class=\"news-link-left\"><a class=\"tab-link-news\" href=\"https://www.fool.com/investing/2021/10/08/microsoft-windows-11-what-investors-need-to-know/?source=eptyholnk0000202&amp;utm_source=yahoo-host&amp;utm_medium=feed&amp;utm_campaign=article\" target=\"_blank\">Microsoft Windows 11: What Investors Need to Know</a></div><div class=\"news-link-right\"><span style=\"color:#aa6dc0;font-size:9px\"> Motley Fool</span></div></div></td></tr>\n",
      "<tr><td align=\"right\" width=\"130\">08:57AM  </td><td align=\"left\"><div class=\"news-link-container\"><div class=\"news-link-left\"><a class=\"tab-link-news\" href=\"https://www.fool.com/investing/2021/10/08/why-is-everyone-talking-about-palantir-stock/?source=eptyholnk0000202&amp;utm_source=yahoo-host&amp;utm_medium=feed&amp;utm_campaign=article\" target=\"_blank\">Why Is Everyone Talking About Palantir Stock?</a></div><div class=\"news-link-right\"><span style=\"color:#aa6dc0;font-size:9px\"> Motley Fool</span></div></div></td></tr>\n",
      "<tr><td align=\"right\" width=\"130\">08:16AM  </td><td align=\"left\"><div class=\"news-link-container\"><div class=\"news-link-left\"><a class=\"tab-link-news\" href=\"https://finance.yahoo.com/news/biotricity-launches-biocare-cardiac-application-121616944.html\" target=\"_blank\">Biotricity Launches Biocare Cardiac Application for Samsung's Galaxy Watch4 Series</a></div><div class=\"news-link-right\"><span style=\"color:#aa6dc0;font-size:9px\"> Benzinga</span></div></div></td></tr>\n",
      "<tr><td align=\"right\" width=\"130\">08:13AM  </td><td align=\"left\"><div class=\"news-link-container\"><div class=\"news-link-left\"><a class=\"tab-link-news\" href=\"https://www.investors.com/market-trend/stock-market-today/dow-jones-futures-treasury-yields-rise-key-jobs-report-pivotal-for-market-rally/?src=A00220\" target=\"_blank\">Dow Jones Futures: Treasury Yields Rise Ahead Of Key Jobs Report For Market Rally</a></div><div class=\"news-link-right\"><span style=\"color:#aa6dc0;font-size:9px\"> Investor's Business Daily</span></div></div></td></tr>\n",
      "<tr><td align=\"right\" width=\"130\">06:55AM  </td><td align=\"left\"><div class=\"news-link-container\"><div class=\"news-link-left\"><a class=\"tab-link-news\" href=\"https://finance.yahoo.com/news/google-goes-tougher-climate-change-105542408.html\" target=\"_blank\">Google Goes Tougher On Climate Change Policies</a></div><div class=\"news-link-right\"><span style=\"color:#aa6dc0;font-size:9px\"> Benzinga</span></div></div></td></tr>\n",
      "<tr><td align=\"right\" width=\"130\">06:50AM  </td><td align=\"left\"><div class=\"news-link-container\"><div class=\"news-link-left\"><a class=\"tab-link-news\" href=\"https://www.thestreet.com/investing/google-bars-ads-for-climate-change-deniers?puc=yahoo&amp;cm_ven=YAHOO\" target=\"_blank\">Google Bars Ads for Content Denying Climate Change</a></div><div class=\"news-link-right\"><span style=\"color:#aa6dc0;font-size:9px\"> TheStreet.com</span></div></div></td></tr>\n",
      "<tr><td align=\"right\" width=\"130\">06:46AM  </td><td align=\"left\"><div class=\"news-link-container\"><div class=\"news-link-left\"><a class=\"tab-link-news\" href=\"https://www.barrons.com/articles/apple-stock-price-rally-caution-51633620422?siteid=yhoof2\" target=\"_blank\">Apple Stock Could Struggle. This Analyst Explains Why.</a></div><div class=\"news-link-right\"><span style=\"color:#aa6dc0;font-size:9px\"> Barrons.com</span></div></div></td></tr>\n",
      "<tr><td align=\"right\" width=\"130\">06:00AM  </td><td align=\"left\"><div class=\"news-link-container\"><div class=\"news-link-left\"><a class=\"tab-link-news\" href=\"https://finance.yahoo.com/video/concerns-michael-dell-most-100000299.html\" target=\"_blank\">What concerns Michael Dell the most about A.I.</a></div><div class=\"news-link-right\"><span style=\"color:#aa6dc0;font-size:9px\"> Yahoo Finance Video</span></div></div></td></tr>\n",
      "<tr><td align=\"right\" width=\"130\">05:15AM  </td><td align=\"left\"><div class=\"news-link-container\"><div class=\"news-link-left\"><a class=\"tab-link-news\" href=\"https://www.fool.com/investing/2021/10/08/3-stock-market-myths-that-cost-investors/?source=eptyholnk0000202&amp;utm_source=yahoo-host&amp;utm_medium=feed&amp;utm_campaign=article\" target=\"_blank\">3 Stock Market Myths That Cost Investors</a></div><div class=\"news-link-right\"><span style=\"color:#aa6dc0;font-size:9px\"> Motley Fool</span></div></div></td></tr>\n",
      "<tr><td align=\"right\" width=\"130\">04:29AM  </td><td align=\"left\"><div class=\"news-link-container\"><div class=\"news-link-left\"><a class=\"tab-link-news\" href=\"https://finance.yahoo.com/news/7-oil-gas-stocks-buy-082904616.html\" target=\"_blank\">7 Oil and Gas Stocks to Buy According to Billionaire Leon Cooperman</a></div><div class=\"news-link-right\"><span style=\"color:#aa6dc0;font-size:9px\"> Insider Monkey</span></div></div></td></tr>\n",
      "<tr><td align=\"right\" width=\"130\">03:29AM  </td><td align=\"left\"><div class=\"news-link-container\"><div class=\"news-link-left\"><a class=\"tab-link-news\" href=\"https://finance.yahoo.com/news/george-soros-stock-portfolio-top-072941640.html\" target=\"_blank\">George Soros Stock Portfolio: Top 10 Stock Picks</a></div><div class=\"news-link-right\"><span style=\"color:#aa6dc0;font-size:9px\"> Insider Monkey</span></div></div></td></tr>\n",
      "<tr><td align=\"right\" width=\"130\">03:00AM  </td><td align=\"left\"><div class=\"news-link-container\"><div class=\"news-link-left\"><a class=\"tab-link-news\" href=\"https://www.barrons.com/articles/carvana-and-vroom-still-have-room-to-drive-according-to-internet-traffic-51633641198?siteid=yhoof2\" target=\"_blank\">Carvana and Vroom Still Have Room to Drive, According to Internet Traffic</a></div><div class=\"news-link-right\"><span style=\"color:#aa6dc0;font-size:9px\"> Barrons.com</span></div></div></td></tr>\n",
      "<tr><td align=\"right\" style=\"white-space:nowrap\" width=\"130\">Oct-07-21 10:55PM  </td><td align=\"left\"><div class=\"news-link-container\"><div class=\"news-link-left\"><a class=\"tab-link-news\" href=\"https://finance.yahoo.com/news/google-youtube-ban-ads-content-045504775.html\" target=\"_blank\">Google, YouTube Ban Ads on Content Denying Climate Change Science</a></div><div class=\"news-link-right\"><span style=\"color:#aa6dc0;font-size:9px\"> Variety</span></div></div></td></tr>\n",
      "<tr><td align=\"right\" width=\"130\">10:34PM  </td><td align=\"left\"><div class=\"news-link-container\"><div class=\"news-link-left\"><a class=\"tab-link-news\" href=\"https://www.investors.com/market-trend/stock-market-today/dow-jones-futures-jobs-report-pivotal-for-market-rally-tesla-meeting-in-focus/?src=A00220\" target=\"_blank\">Dow Jones Futures: Jobs Report Key For Market Rally As Leaders Flash Buy Signals; Senate OKs Debt Limit Hike</a></div><div class=\"news-link-right\"><span style=\"color:#aa6dc0;font-size:9px\"> Investor's Business Daily</span></div></div></td></tr>\n",
      "<tr><td align=\"right\" width=\"130\">09:11PM  </td><td align=\"left\"><div class=\"news-link-container\"><div class=\"news-link-left\"><a class=\"tab-link-news\" href=\"https://finance.yahoo.com/news/lasertec-gets-first-next-gen-210000893.html\" target=\"_blank\">Lasertec Gets First Next-Gen Gear Orders From Memory Makers</a></div><div class=\"news-link-right\"><span style=\"color:#aa6dc0;font-size:9px\"> Bloomberg</span></div></div></td></tr>\n",
      "<tr><td align=\"right\" width=\"130\">06:53PM  </td><td align=\"left\"><div class=\"news-link-container\"><div class=\"news-link-left\"><a class=\"tab-link-news\" href=\"https://www.wsj.com/articles/google-to-block-ads-from-appearing-next-to-content-denying-climate-change-11633647234?mod=itp_wsj\" target=\"_blank\">Google to Block Ads From Appearing Next to Content Denying Climate Change</a></div><div class=\"news-link-right\"><span style=\"color:#aa6dc0;font-size:9px\"> The Wall Street Journal</span></div></div></td></tr>\n",
      "<tr><td align=\"right\" width=\"130\">04:04PM  </td><td align=\"left\"><div class=\"news-link-container\"><div class=\"news-link-left\"><a class=\"tab-link-news\" href=\"https://finance.yahoo.com/news/microsoft-allow-more-repair-shops-200432760.html\" target=\"_blank\">Microsoft Will Allow More Repair Shops After Activist Protests</a></div><div class=\"news-link-right\"><span style=\"color:#aa6dc0;font-size:9px\"> Bloomberg</span></div></div></td></tr>\n",
      "<tr><td align=\"right\" width=\"130\">03:00PM  </td><td align=\"left\"><div class=\"news-link-container\"><div class=\"news-link-left\"><a class=\"tab-link-news\" href=\"https://finance.yahoo.com/news/google-won-t-fund-sites-190001419.html\" target=\"_blank\">Google Wont Fund Sites, YouTube Videos That Deny Climate Change</a></div><div class=\"news-link-right\"><span style=\"color:#aa6dc0;font-size:9px\"> Bloomberg</span></div></div></td></tr>\n",
      "<tr><td align=\"right\" width=\"130\">11:43AM  </td><td align=\"left\"><div class=\"news-link-container\"><div class=\"news-link-left\"><a class=\"tab-link-news\" href=\"https://finance.yahoo.com/news/read-why-oppenheimer-bumped-applovin-154307898.html\" target=\"_blank\">Read Why Oppenheimer Bumped Up AppLovin Price Target By 27%</a></div><div class=\"news-link-right\"><span style=\"color:#aa6dc0;font-size:9px\"> Benzinga</span></div></div></td></tr>\n",
      "<tr><td align=\"right\" width=\"130\">11:30AM  </td><td align=\"left\"><div class=\"news-link-container\"><div class=\"news-link-left\"><a class=\"tab-link-news\" href=\"https://www.barrons.com/articles/apple-shares-will-struggle-to-rally-bernstein-51633620422?siteid=yhoof2\" target=\"_blank\">Apple Shares Will Struggle To Rally From Here, Bernstein Analyst Cautions</a></div><div class=\"news-link-right\"><span style=\"color:#aa6dc0;font-size:9px\"> Barrons.com</span></div></div></td></tr>\n",
      "<tr><td align=\"right\" width=\"130\">11:09AM  </td><td align=\"left\"><div class=\"news-link-container\"><div class=\"news-link-left\"><a class=\"tab-link-news\" href=\"https://finance.yahoo.com/video/social-media-changing-stock-market-150926999.html\" target=\"_blank\">How social media is changing the stock market</a></div><div class=\"news-link-right\"><span style=\"color:#aa6dc0;font-size:9px\"> Yahoo Finance Video</span></div></div></td></tr>\n",
      "<tr><td align=\"right\" width=\"130\">10:20AM  </td><td align=\"left\"><div class=\"news-link-container\"><div class=\"news-link-left\"><a class=\"tab-link-news\" href=\"https://www.marketwatch.com/story/is-the-new-google-flights-carbon-emissions-feature-just-greenwashing-or-a-useful-tool-for-travelers-11633555915?siteid=yhoof2\" target=\"_blank\">Google Flights lets travelers see their carbon footprint  but can you trust it?</a></div><div class=\"news-link-right\"><span style=\"color:#aa6dc0;font-size:9px\"> MarketWatch</span></div></div></td></tr>\n",
      "<tr><td align=\"right\" width=\"130\">10:11AM  </td><td align=\"left\"><div class=\"news-link-container\"><div class=\"news-link-left\"><a class=\"tab-link-news\" href=\"https://finance.yahoo.com/video/president-biden-ftc-push-antitrust-141154595.html\" target=\"_blank\">President Biden And The FTC Push For Antitrust Enforcement  Take On Amazon, Google And The Supreme Court</a></div><div class=\"news-link-right\"><span style=\"color:#aa6dc0;font-size:9px\"> Investor's Business Daily Video</span></div></div></td></tr>\n",
      "<tr><td align=\"right\" width=\"130\">10:03AM  </td><td align=\"left\"><div class=\"news-link-container\"><div class=\"news-link-left\"><a class=\"tab-link-news\" href=\"https://www.marketwatch.com/story/microsoft-alphabet-stocks-rise-back-above-50-day-moving-averages-2021-10-07?siteid=yhoof2\" target=\"_blank\">Microsoft, Alphabet stocks rise back above 50-day moving averages</a></div><div class=\"news-link-right\"><span style=\"color:#aa6dc0;font-size:9px\"> MarketWatch</span></div></div></td></tr>\n",
      "<tr><td align=\"right\" width=\"130\">09:55AM  </td><td align=\"left\"><div class=\"news-link-container\"><div class=\"news-link-left\"><a class=\"tab-link-news\" href=\"https://finance.yahoo.com/news/apple-plan-cars-using-iphone-110000604.html\" target=\"_blank\">Apples Plan for Cars: Using iPhone to Control A/C, Seats, Radio and More</a></div><div class=\"news-link-right\"><span style=\"color:#aa6dc0;font-size:9px\"> Bloomberg</span></div></div></td></tr>\n",
      "<tr><td align=\"right\" width=\"130\">08:49AM  </td><td align=\"left\"><div class=\"news-link-container\"><div class=\"news-link-left\"><a class=\"tab-link-news\" href=\"https://finance.yahoo.com/news/bing-most-popular-search-word-103400028.html\" target=\"_blank\">Bings most popular search word is Google, says Google</a></div><div class=\"news-link-right\"><span style=\"color:#aa6dc0;font-size:9px\"> The Independent</span></div></div></td></tr>\n",
      "<tr><td align=\"right\" width=\"130\">08:43AM  </td><td align=\"left\"><div class=\"news-link-container\"><div class=\"news-link-left\"><a class=\"tab-link-news\" href=\"https://finance.yahoo.com/news/why-vinco-ventures-shares-surging-124341357.html\" target=\"_blank\">Why Vinco Ventures Shares Are Surging Higher Today</a></div><div class=\"news-link-right\"><span style=\"color:#aa6dc0;font-size:9px\"> Benzinga</span></div></div></td></tr>\n",
      "<tr><td align=\"right\" width=\"130\">08:10AM  </td><td align=\"left\"><div class=\"news-link-container\"><div class=\"news-link-left\"><a class=\"tab-link-news\" href=\"https://www.fool.com/investing/2021/10/07/why-marqeta-sank-238-in-september/?source=eptyholnk0000202&amp;utm_source=yahoo-host&amp;utm_medium=feed&amp;utm_campaign=article\" target=\"_blank\">Why Marqeta Sank 23.8% in September</a></div><div class=\"news-link-right\"><span style=\"color:#aa6dc0;font-size:9px\"> Motley Fool</span></div></div></td></tr>\n",
      "<tr><td align=\"right\" width=\"130\">07:00AM  </td><td align=\"left\"><div class=\"news-link-container\"><div class=\"news-link-left\"><a class=\"tab-link-news\" href=\"https://finance.yahoo.com/video/u-china-relationship-little-bit-110000840.html\" target=\"_blank\">The U.S.-China relationship is a little bit frosty: Michael Dell</a></div><div class=\"news-link-right\"><span style=\"color:#aa6dc0;font-size:9px\"> Yahoo Finance Video</span></div></div></td></tr>\n",
      "<tr><td align=\"right\" width=\"130\">06:00AM  </td><td align=\"left\"><div class=\"news-link-container\"><div class=\"news-link-left\"><a class=\"tab-link-news\" href=\"https://finance.yahoo.com/video/influencers-andy-serwer-michael-dell-100000127.html\" target=\"_blank\">Influencers with Andy Serwer: Michael Dell</a></div><div class=\"news-link-right\"><span style=\"color:#aa6dc0;font-size:9px\"> Yahoo Finance Video</span></div></div></td></tr>\n",
      "<tr><td align=\"right\" width=\"130\">04:15AM  </td><td align=\"left\"><div class=\"news-link-container\"><div class=\"news-link-left\"><a class=\"tab-link-news\" href=\"https://finance.yahoo.com/news/13-best-tech-gifts-spoil-113740805.html\" target=\"_blank\">14 best tech gifts to spoil a gadget geek this Christmas</a></div><div class=\"news-link-right\"><span style=\"color:#aa6dc0;font-size:9px\"> The Independent</span></div></div></td></tr>\n",
      "<tr><td align=\"right\" width=\"130\">01:09AM  </td><td align=\"left\"><div class=\"news-link-container\"><div class=\"news-link-left\"><a class=\"tab-link-news\" href=\"https://finance.yahoo.com/news/google-rivals-want-eu-lawmakers-050940354.html\" target=\"_blank\">Google rivals want EU lawmakers to act via new tech rules</a></div><div class=\"news-link-right\"><span style=\"color:#aa6dc0;font-size:9px\"> Reuters</span></div></div></td></tr>\n",
      "<tr><td align=\"right\" width=\"130\">01:00AM  </td><td align=\"left\"><div class=\"news-link-container\"><div class=\"news-link-left\"><a class=\"tab-link-news\" href=\"https://finance.yahoo.com/news/google-rivals-want-eu-lawmakers-050000021.html\" target=\"_blank\">Google rivals want EU lawmakers to act via new tech rules</a></div><div class=\"news-link-right\"><span style=\"color:#aa6dc0;font-size:9px\"> Reuters</span></div></div></td></tr>\n",
      "<tr><td align=\"right\" style=\"white-space:nowrap\" width=\"130\">Oct-06-21 08:09PM  </td><td align=\"left\"><div class=\"news-link-container\"><div class=\"news-link-left\"><a class=\"tab-link-news\" href=\"https://finance.yahoo.com/news/1-u-justice-dept-antitrust-000905540.html\" target=\"_blank\">UPDATE 1-U.S. Justice Dept antitrust nominee says he is eager to tackle more than just Big Tech</a></div><div class=\"news-link-right\"><span style=\"color:#aa6dc0;font-size:9px\"> Reuters</span></div></div></td></tr>\n",
      "<tr><td align=\"right\" width=\"130\">05:45PM  </td><td align=\"left\"><div class=\"news-link-container\"><div class=\"news-link-left\"><a class=\"tab-link-news\" href=\"https://finance.yahoo.com/news/does-return-old-school-marketing-214526567.html\" target=\"_blank\">Does the Return of Old School Marketing Make This Ad-Tech Alternative Bigger than Blockchain?</a></div><div class=\"news-link-right\"><span style=\"color:#aa6dc0;font-size:9px\"> Benzinga</span></div></div></td></tr>\n",
      "<tr><td align=\"right\" width=\"130\">04:08PM  </td><td align=\"left\"><div class=\"news-link-container\"><div class=\"news-link-left\"><a class=\"tab-link-news\" href=\"https://www.investors.com/news/technology/microsoft-stock-called-favorite-name-after-cio-survey/?src=A00220\" target=\"_blank\">Microsoft Stands Out In Enterprise Tech Spending Survey</a></div><div class=\"news-link-right\"><span style=\"color:#aa6dc0;font-size:9px\"> Investor's Business Daily</span></div></div></td></tr>\n",
      "<tr><td align=\"right\" width=\"130\">02:07PM  </td><td align=\"left\"><div class=\"news-link-container\"><div class=\"news-link-left\"><a class=\"tab-link-news\" href=\"https://finance.yahoo.com/news/amazon-twitch-hacked-exposing-source-133528339.html\" target=\"_blank\">Amazons Twitch Hack Shows Top Gamers Rake In Six-Figure Payouts</a></div><div class=\"news-link-right\"><span style=\"color:#aa6dc0;font-size:9px\"> Bloomberg</span></div></div></td></tr>\n",
      "<tr><td align=\"right\" width=\"130\">01:53PM  </td><td align=\"left\"><div class=\"news-link-container\"><div class=\"news-link-left\"><a class=\"tab-link-news\" href=\"https://finance.yahoo.com/news/u-justice-antitrust-nominee-says-175342708.html\" target=\"_blank\">U.S. Justice Dept antitrust nominee says he is eager to tackle more than just Big Tech</a></div><div class=\"news-link-right\"><span style=\"color:#aa6dc0;font-size:9px\"> Reuters</span></div></div></td></tr>\n",
      "<tr><td align=\"right\" width=\"130\">01:48PM  </td><td align=\"left\"><div class=\"news-link-container\"><div class=\"news-link-left\"><a class=\"tab-link-news\" href=\"https://finance.yahoo.com/news/u-justice-antitrust-nominee-says-174848687.html\" target=\"_blank\">U.S. Justice antitrust nominee says eager to tackle more than just Big Tech</a></div><div class=\"news-link-right\"><span style=\"color:#aa6dc0;font-size:9px\"> Reuters</span></div></div></td></tr>\n",
      "<tr><td align=\"right\" width=\"130\">12:39PM  </td><td align=\"left\"><div class=\"news-link-container\"><div class=\"news-link-left\"><a class=\"tab-link-news\" href=\"https://finance.yahoo.com/news/retail-traders-follow-nancy-pelosis-stock-moves-to-find-winners-163943788.html\" target=\"_blank\">Retail traders follow Nancy Pelosi's husband's stock moves to find winners</a></div><div class=\"news-link-right\"><span style=\"color:#aa6dc0;font-size:9px\"> Yahoo Finance</span></div></div></td></tr>\n",
      "<tr><td align=\"right\" width=\"130\">12:00PM  </td><td align=\"left\"><div class=\"news-link-container\"><div class=\"news-link-left\"><a class=\"tab-link-news\" href=\"https://finance.yahoo.com/news/prius-hacking-silicon-valley-star-160000955.html\" target=\"_blank\">The Prius-Hacking Silicon Valley Star Shaping Toyotas Future</a></div><div class=\"news-link-right\"><span style=\"color:#aa6dc0;font-size:9px\"> Bloomberg</span></div></div></td></tr>\n",
      "<tr><td align=\"right\" width=\"130\">10:47AM  </td><td align=\"left\"><div class=\"news-link-container\"><div class=\"news-link-left\"><a class=\"tab-link-news\" href=\"https://finance.yahoo.com/news/1-google-invest-1-billion-144702351.html\" target=\"_blank\">UPDATE 1-Google to invest $1 billion in Africa over five years</a></div><div class=\"news-link-right\"><span style=\"color:#aa6dc0;font-size:9px\"> Reuters</span></div></div></td></tr>\n",
      "<tr><td align=\"right\" width=\"130\">10:46AM  </td><td align=\"left\"><div class=\"news-link-container\"><div class=\"news-link-left\"><a class=\"tab-link-news\" href=\"https://finance.yahoo.com/video/biden-meets-bank-ceos-google-144640020.html\" target=\"_blank\">Biden meets with bank CEOs, Googles new eco-friendly feature, Walmart teams up with Home Depot for delivery</a></div><div class=\"news-link-right\"><span style=\"color:#aa6dc0;font-size:9px\"> Yahoo Finance Video</span></div></div></td></tr>\n",
      "<tr><td align=\"right\" width=\"130\">10:39AM  </td><td align=\"left\"><div class=\"news-link-container\"><div class=\"news-link-left\"><a class=\"tab-link-news\" href=\"https://finance.yahoo.com/news/billionaire-rob-citrone-selling-10-143949686.html\" target=\"_blank\">Billionaire Rob Citrone is Selling These 10 Stocks</a></div><div class=\"news-link-right\"><span style=\"color:#aa6dc0;font-size:9px\"> Insider Monkey</span></div></div></td></tr>\n",
      "<tr><td align=\"right\" width=\"130\">09:32AM  </td><td align=\"left\"><div class=\"news-link-container\"><div class=\"news-link-left\"><a class=\"tab-link-news\" href=\"https://www.investors.com/research/fb-stock-buy-now-facebook-stock-branch-3/?src=A00220\" target=\"_blank\">FB Stock A Buy? Facebook's Zuckerberg Under Fire, Calls For Regulation</a></div><div class=\"news-link-right\"><span style=\"color:#aa6dc0;font-size:9px\"> Investor's Business Daily</span></div></div></td></tr>\n",
      "<tr><td align=\"right\" width=\"130\">09:19AM  </td><td align=\"left\"><div class=\"news-link-container\"><div class=\"news-link-left\"><a class=\"tab-link-news\" href=\"https://finance.yahoo.com/news/google-outlines-digital-transformation-plans-131942107.html\" target=\"_blank\">Google Outlines Digital Transformation Plans In Africa</a></div><div class=\"news-link-right\"><span style=\"color:#aa6dc0;font-size:9px\"> Benzinga</span></div></div></td></tr>\n",
      "<tr><td align=\"right\" width=\"130\">09:00AM  </td><td align=\"left\"><div class=\"news-link-container\"><div class=\"news-link-left\"><a class=\"tab-link-news\" href=\"https://finance.yahoo.com/news/mall-retailers-boost-alphabet-drones-130000640.html\" target=\"_blank\">Mall Retailers Get Boost from Alphabet Drones Delivering Sushi</a></div><div class=\"news-link-right\"><span style=\"color:#aa6dc0;font-size:9px\"> Bloomberg</span></div></div></td></tr>\n",
      "<tr><td align=\"right\" width=\"130\">08:18AM  </td><td align=\"left\"><div class=\"news-link-container\"><div class=\"news-link-left\"><a class=\"tab-link-news\" href=\"https://www.investors.com/market-trend/stock-market-today/dow-jones-futures-market-rally-signal-legs-watch-google-microsoft-datadog/?src=A00220\" target=\"_blank\">Dow Jones Futures Tumble: Look For This Market Rally Signal; Google, Datadog Lead 9 Stocks To Watch</a></div><div class=\"news-link-right\"><span style=\"color:#aa6dc0;font-size:9px\"> Investor's Business Daily</span></div></div></td></tr>\n",
      "<tr><td align=\"right\" width=\"130\">07:25AM  </td><td align=\"left\"><div class=\"news-link-container\"><div class=\"news-link-left\"><a class=\"tab-link-news\" href=\"https://www.fool.com/investing/2021/10/06/amazon-throws-down-the-gauntlet-at-these-5-compani/?source=eptyholnk0000202&amp;utm_source=yahoo-host&amp;utm_medium=feed&amp;utm_campaign=article\" target=\"_blank\">Amazon Throws Down the Gauntlet at These 5 Companies</a></div><div class=\"news-link-right\"><span style=\"color:#aa6dc0;font-size:9px\"> Motley Fool</span></div></div></td></tr>\n",
      "<tr><td align=\"right\" width=\"130\">06:35AM  </td><td align=\"left\"><div class=\"news-link-container\"><div class=\"news-link-left\"><a class=\"tab-link-news\" href=\"https://finance.yahoo.com/news/fake-reviews-facebook-boost-ratings-103507835.html\" target=\"_blank\">Fake reviews infiltrate Facebook to boost ratings</a></div><div class=\"news-link-right\"><span style=\"color:#aa6dc0;font-size:9px\"> Yahoo Finance UK</span></div></div></td></tr>\n",
      "<tr><td align=\"right\" width=\"130\">06:32AM  </td><td align=\"left\"><div class=\"news-link-container\"><div class=\"news-link-left\"><a class=\"tab-link-news\" href=\"https://finance.yahoo.com/news/google-invest-1-billion-africa-103257546.html\" target=\"_blank\">Google to invest $1 billion in Africa over five years</a></div><div class=\"news-link-right\"><span style=\"color:#aa6dc0;font-size:9px\"> Reuters</span></div></div></td></tr>\n",
      "<tr><td align=\"right\" width=\"130\">06:29AM  </td><td align=\"left\"><div class=\"news-link-container\"><div class=\"news-link-left\"><a class=\"tab-link-news\" href=\"https://finance.yahoo.com/news/google-invest-1-billion-africa-102921114.html\" target=\"_blank\">Google to invest $1 billion in Africa over five years</a></div><div class=\"news-link-right\"><span style=\"color:#aa6dc0;font-size:9px\"> Reuters</span></div></div></td></tr>\n",
      "<tr><td align=\"right\" width=\"130\">06:13AM  </td><td align=\"left\"><div class=\"news-link-container\"><div class=\"news-link-left\"><a class=\"tab-link-news\" href=\"https://finance.yahoo.com/news/10-small-cap-stocks-buy-101300375.html\" target=\"_blank\">10 Small-Cap Stocks to Buy According to Australias Warren Buffett Kerr Neilson</a></div><div class=\"news-link-right\"><span style=\"color:#aa6dc0;font-size:9px\"> Insider Monkey</span></div></div></td></tr>\n",
      "<tr><td align=\"right\" width=\"130\">06:00AM  </td><td align=\"left\"><div class=\"news-link-container\"><div class=\"news-link-left\"><a class=\"tab-link-news\" href=\"https://finance.yahoo.com/video/michael-dell-learned-lessons-steve-100000372.html\" target=\"_blank\">Michael Dell learned these lessons from Steve Jobs and Bill Gates</a></div><div class=\"news-link-right\"><span style=\"color:#aa6dc0;font-size:9px\"> Yahoo Finance Video</span></div></div></td></tr>\n",
      "<tr><td align=\"right\" width=\"130\">03:05AM  </td><td align=\"left\"><div class=\"news-link-container\"><div class=\"news-link-left\"><a class=\"tab-link-news\" href=\"https://finance.yahoo.com/news/google-wants-ai-time-traffic-070534442.html\" target=\"_blank\">Google wants to use AI to time traffic lights more efficiently</a></div><div class=\"news-link-right\"><span style=\"color:#aa6dc0;font-size:9px\"> Reuters</span></div></div></td></tr>\n",
      "<tr><td align=\"right\" width=\"130\">03:01AM  </td><td align=\"left\"><div class=\"news-link-container\"><div class=\"news-link-left\"><a class=\"tab-link-news\" href=\"https://finance.yahoo.com/news/google-flights-adds-carbon-emission-070114322.html\" target=\"_blank\">Google Flights Adds Carbon Emission Estimates to Search</a></div><div class=\"news-link-right\"><span style=\"color:#aa6dc0;font-size:9px\"> Skift</span></div></div></td></tr>\n",
      "<tr><td align=\"right\" width=\"130\">01:03AM  </td><td align=\"left\"><div class=\"news-link-container\"><div class=\"news-link-left\"><a class=\"tab-link-news\" href=\"https://finance.yahoo.com/news/frances-thales-partners-google-secure-050303756.html\" target=\"_blank\">France's Thales partners with Google on secure cloud services</a></div><div class=\"news-link-right\"><span style=\"color:#aa6dc0;font-size:9px\"> Reuters</span></div></div></td></tr>\n",
      "<tr><td align=\"right\" style=\"white-space:nowrap\" width=\"130\">Oct-05-21 11:37PM  </td><td align=\"left\"><div class=\"news-link-container\"><div class=\"news-link-left\"><a class=\"tab-link-news\" href=\"https://finance.yahoo.com/news/korea-antitrust-regulator-steers-away-210000627.html\" target=\"_blank\">Top Antitrust Cop Steers Korea Away From Hard Tech Crackdown</a></div><div class=\"news-link-right\"><span style=\"color:#aa6dc0;font-size:9px\"> Bloomberg</span></div></div></td></tr>\n",
      "<tr><td align=\"right\" width=\"130\">08:38PM  </td><td align=\"left\"><div class=\"news-link-container\"><div class=\"news-link-left\"><a class=\"tab-link-news\" href=\"https://finance.yahoo.com/news/youtube-removes-r-kelly-channels-003832737.html\" target=\"_blank\">YouTube Removes R. Kellys Channels, But Still Offers His Songs</a></div><div class=\"news-link-right\"><span style=\"color:#aa6dc0;font-size:9px\"> Bloomberg</span></div></div></td></tr>\n",
      "<tr><td align=\"right\" width=\"130\">08:00PM  </td><td align=\"left\"><div class=\"news-link-container\"><div class=\"news-link-left\"><a class=\"tab-link-news\" href=\"https://www.fool.com/investing/2021/10/05/googles-deepmind-artificial-intelligence-unit-is-n/?source=eptyholnk0000202&amp;utm_source=yahoo-host&amp;utm_medium=feed&amp;utm_campaign=article\" target=\"_blank\">Google's DeepMind Artificial Intelligence Unit Is No Longer a Money Loser</a></div><div class=\"news-link-right\"><span style=\"color:#aa6dc0;font-size:9px\"> Motley Fool</span></div></div></td></tr>\n",
      "<tr><td align=\"right\" width=\"130\">07:21PM  </td><td align=\"left\"><div class=\"news-link-container\"><div class=\"news-link-left\"><a class=\"tab-link-news\" href=\"https://www.investopedia.com/facebook-fb-whistleblower-testifies-before-us-senate-5204699?utm_campaign=quote-yahoo&amp;utm_source=yahoo&amp;utm_medium=referral\" target=\"_blank\">Facebook (FB) Whistleblower Testifies Before US Senate</a></div><div class=\"news-link-right\"><span style=\"color:#aa6dc0;font-size:9px\"> Investopedia</span></div></div></td></tr>\n",
      "<tr><td align=\"right\" width=\"130\">04:34PM  </td><td align=\"left\"><div class=\"news-link-container\"><div class=\"news-link-left\"><a class=\"tab-link-news\" href=\"https://finance.yahoo.com/news/big-tech-rebounds-bulls-see-203451312.html\" target=\"_blank\">Big Tech Rebounds as Bulls See Buying Opportunity in Selloff</a></div><div class=\"news-link-right\"><span style=\"color:#aa6dc0;font-size:9px\"> Bloomberg</span></div></div></td></tr>\n",
      "<tr><td align=\"right\" width=\"130\">04:13PM  </td><td align=\"left\"><div class=\"news-link-container\"><div class=\"news-link-left\"><a class=\"tab-link-news\" href=\"https://www.investors.com/research/how-to-find-the-best-stocks-to-buy/nvda-stock-growth-stocks-during-stock-market-correction/?src=A00220\" target=\"_blank\">Sell Or Hold? NVDA Stock Shows How To Handle Growth Stocks In A Stock Market Correction</a></div><div class=\"news-link-right\"><span style=\"color:#aa6dc0;font-size:9px\"> Investor's Business Daily</span></div></div></td></tr>\n",
      "<tr><td align=\"right\" width=\"130\">03:09PM  </td><td align=\"left\"><div class=\"news-link-container\"><div class=\"news-link-left\"><a class=\"tab-link-news\" href=\"https://finance.yahoo.com/news/downdetector-become-online-disruptions-174857353.html\" target=\"_blank\">How Downdetector Has Become Go-To Site for Online Disruptions</a></div><div class=\"news-link-right\"><span style=\"color:#aa6dc0;font-size:9px\"> Bloomberg</span></div></div></td></tr>\n",
      "<tr><td align=\"right\" width=\"130\">02:58PM  </td><td align=\"left\"><div class=\"news-link-container\"><div class=\"news-link-left\"><a class=\"tab-link-news\" href=\"https://finance.yahoo.com/news/why-google-shares-rising-185826237.html\" target=\"_blank\">Why Google Shares Are Rising</a></div><div class=\"news-link-right\"><span style=\"color:#aa6dc0;font-size:9px\"> Benzinga</span></div></div></td></tr>\n",
      "<tr><td align=\"right\" width=\"130\">02:44PM  </td><td align=\"left\"><div class=\"news-link-container\"><div class=\"news-link-left\"><a class=\"tab-link-news\" href=\"https://finance.yahoo.com/news/scared-of-facebook-whistleblower-fallout-look-at-these-tech-stocks-analyst-says-184453613.html\" target=\"_blank\">Scared of Facebook whistleblower fallout? Look at these tech stocks, analyst says</a></div><div class=\"news-link-right\"><span style=\"color:#aa6dc0;font-size:9px\"> Yahoo Finance</span></div></div></td></tr>\n",
      "<tr><td align=\"right\" width=\"130\">02:19PM  </td><td align=\"left\"><div class=\"news-link-container\"><div class=\"news-link-left\"><a class=\"tab-link-news\" href=\"https://finance.yahoo.com/video/faangs-bounce-back-pepsi-raises-181922693.html\" target=\"_blank\">FAANGs bounce back, Pepsi raises its full-year forecast</a></div><div class=\"news-link-right\"><span style=\"color:#aa6dc0;font-size:9px\"> Yahoo Finance Video</span></div></div></td></tr>\n",
      "<tr><td align=\"right\" width=\"130\">01:39PM  </td><td align=\"left\"><div class=\"news-link-container\"><div class=\"news-link-left\"><a class=\"tab-link-news\" href=\"https://finance.yahoo.com/news/eu-lawmaker-says-u-tech-173948594.html\" target=\"_blank\">EU lawmaker says U.S. tech giants should be regulated where they are based</a></div><div class=\"news-link-right\"><span style=\"color:#aa6dc0;font-size:9px\"> Reuters</span></div></div></td></tr>\n",
      "<tr><td align=\"right\" width=\"130\">01:39PM  </td><td align=\"left\"><div class=\"news-link-container\"><div class=\"news-link-left\"><a class=\"tab-link-news\" href=\"https://finance.yahoo.com/news/google-pixel-6-release-date-173929465.html\" target=\"_blank\">Google Pixel 6 release date revealed for iPhone killer</a></div><div class=\"news-link-right\"><span style=\"color:#aa6dc0;font-size:9px\"> The Independent</span></div></div></td></tr>\n",
      "<tr><td align=\"right\" width=\"130\">01:35PM  </td><td align=\"left\"><div class=\"news-link-container\"><div class=\"news-link-left\"><a class=\"tab-link-news\" href=\"https://www.fool.com/investing/2021/10/05/these-2-stocks-are-powering-the-market-higher-on-t/?source=eptyholnk0000202&amp;utm_source=yahoo-host&amp;utm_medium=feed&amp;utm_campaign=article\" target=\"_blank\">These 2 Stocks Are Powering the Market Higher on Tuesday</a></div><div class=\"news-link-right\"><span style=\"color:#aa6dc0;font-size:9px\"> Motley Fool</span></div></div></td></tr>\n",
      "<tr><td align=\"right\" width=\"130\">01:32PM  </td><td align=\"left\"><div class=\"news-link-container\"><div class=\"news-link-left\"><a class=\"tab-link-news\" href=\"https://finance.yahoo.com/news/eu-lawmaker-says-u-tech-173236529.html\" target=\"_blank\">EU lawmaker says U.S. tech giants should be regulated where they are based</a></div><div class=\"news-link-right\"><span style=\"color:#aa6dc0;font-size:9px\"> Reuters</span></div></div></td></tr>\n",
      "<tr><td align=\"right\" width=\"130\">01:19PM  </td><td align=\"left\"><div class=\"news-link-container\"><div class=\"news-link-left\"><a class=\"tab-link-news\" href=\"https://finance.yahoo.com/news/why-10-stocks-spotlight-tuesday-171911633.html\" target=\"_blank\">Why These 10 Stocks Are in the Spotlight on Tuesday</a></div><div class=\"news-link-right\"><span style=\"color:#aa6dc0;font-size:9px\"> Insider Monkey</span></div></div></td></tr>\n",
      "<tr><td align=\"right\" width=\"130\">12:07PM  </td><td align=\"left\"><div class=\"news-link-container\"><div class=\"news-link-left\"><a class=\"tab-link-news\" href=\"https://www.thestreet.com/technology/tech-stocks-roundup-facebook-shutdown-whistleblower-accusations?puc=yahoo&amp;cm_ven=YAHOO\" target=\"_blank\">Tech Stocks Roundup: Facebook Shutdown, Whistleblower Accusations</a></div><div class=\"news-link-right\"><span style=\"color:#aa6dc0;font-size:9px\"> TheStreet.com</span></div></div></td></tr>\n",
      "<tr><td align=\"right\" width=\"130\">12:00PM  </td><td align=\"left\"><div class=\"news-link-container\"><div class=\"news-link-left\"><a class=\"tab-link-news\" href=\"https://finance.yahoo.com/news/ex-google-engineer-builds-unicorn-160000471.html\" target=\"_blank\">Ex-Google Engineer Builds Unicorn at Tiger Global-Backed Firm</a></div><div class=\"news-link-right\"><span style=\"color:#aa6dc0;font-size:9px\"> Bloomberg</span></div></div></td></tr>\n",
      "<tr><td align=\"right\" width=\"130\">11:51AM  </td><td align=\"left\"><div class=\"news-link-container\"><div class=\"news-link-left\"><a class=\"tab-link-news\" href=\"https://finance.yahoo.com/news/alphabets-googl-youtube-music-roll-155103920.html\" target=\"_blank\">Alphabet's (GOOGL) YouTube Music to Roll Out New Features</a></div><div class=\"news-link-right\"><span style=\"color:#aa6dc0;font-size:9px\"> Zacks</span></div></div></td></tr>\n",
      "<tr><td align=\"right\" width=\"130\">11:47AM  </td><td align=\"left\"><div class=\"news-link-container\"><div class=\"news-link-left\"><a class=\"tab-link-news\" href=\"https://finance.yahoo.com/news/george-soros-stock-portfolio-top-154726481.html\" target=\"_blank\">George Soros Stock Portfolio: Top 10 Large-Cap Stock Picks</a></div><div class=\"news-link-right\"><span style=\"color:#aa6dc0;font-size:9px\"> Insider Monkey</span></div></div></td></tr>\n",
      "<tr><td align=\"right\" width=\"130\">11:27AM  </td><td align=\"left\"><div class=\"news-link-container\"><div class=\"news-link-left\"><a class=\"tab-link-news\" href=\"https://finance.yahoo.com/news/best-password-managers-secure-accounts-160350093.html\" target=\"_blank\">Best password managers: Secure your accounts and never forget your login details again</a></div><div class=\"news-link-right\"><span style=\"color:#aa6dc0;font-size:9px\"> The Independent</span></div></div></td></tr>\n",
      "<tr><td align=\"right\" width=\"130\">11:00AM  </td><td align=\"left\"><div class=\"news-link-container\"><div class=\"news-link-left\"><a class=\"tab-link-news\" href=\"https://finance.yahoo.com/news/abbott-is-first-health-care-company-to-keynote-at-ces-150008838.html\" target=\"_blank\">Abbott is first health care company to keynote at CES</a></div><div class=\"news-link-right\"><span style=\"color:#aa6dc0;font-size:9px\"> Yahoo Finance</span></div></div></td></tr>\n",
      "<tr><td align=\"right\" width=\"130\">10:43AM  </td><td align=\"left\"><div class=\"news-link-container\"><div class=\"news-link-left\"><a class=\"tab-link-news\" href=\"https://finance.yahoo.com/video/facebook-isnt-tobacco-thats-ridiculous-144306767.html\" target=\"_blank\">Facebook isn't tobacco; that's ridiculous: analyst</a></div><div class=\"news-link-right\"><span style=\"color:#aa6dc0;font-size:9px\"> Yahoo Finance Video</span></div></div></td></tr>\n",
      "<tr><td align=\"right\" width=\"130\">10:29AM  </td><td align=\"left\"><div class=\"news-link-container\"><div class=\"news-link-left\"><a class=\"tab-link-news\" href=\"https://finance.yahoo.com/video/facebook-whistleblower-testifies-congress-outage-142939177.html\" target=\"_blank\">Facebook whistleblower testifies before Congress, outage affects billions worldwide</a></div><div class=\"news-link-right\"><span style=\"color:#aa6dc0;font-size:9px\"> Yahoo Finance Video</span></div></div></td></tr>\n",
      "<tr><td align=\"right\" width=\"130\">10:23AM  </td><td align=\"left\"><div class=\"news-link-container\"><div class=\"news-link-left\"><a class=\"tab-link-news\" href=\"https://finance.yahoo.com/video/faang-stocks-recovery-proves-resilience-142307562.html\" target=\"_blank\">How the FAANG stocks recovery proves the resilience of tech</a></div><div class=\"news-link-right\"><span style=\"color:#aa6dc0;font-size:9px\"> Yahoo Finance Video</span></div></div></td></tr>\n",
      "</table>, 'FB': <table border=\"0\" cellpadding=\"1\" cellspacing=\"0\" class=\"fullview-news-outer\" id=\"news-table\" width=\"100%\">\n",
      "<tr><td align=\"right\" style=\"white-space:nowrap\" width=\"130\">Oct-11-21 12:43AM  </td><td align=\"left\"><div class=\"news-link-container\"><div class=\"news-link-left\"><a class=\"tab-link-news\" href=\"https://finance.yahoo.com/news/1-facebook-backed-group-launches-044342223.html\" target=\"_blank\">UPDATE 2-Facebook-backed group launches misinformation adjudication panel in Australia</a></div><div class=\"news-link-right\"><span style=\"color:#aa6dc0;font-size:9px\"> Reuters</span></div></div></td></tr>\n",
      "<tr><td align=\"right\" style=\"white-space:nowrap\" width=\"130\">Oct-10-21 09:24PM  </td><td align=\"left\"><div class=\"news-link-container\"><div class=\"news-link-left\"><a class=\"tab-link-news\" href=\"https://www.barrons.com/articles/teens-facebook-instagram-tiktok-snapchat-51633736150?siteid=yhoof2\" target=\"_blank\">Which Social-Media Networks Do Teens Like the Most? Not Facebook and Twitter.</a></div><div class=\"news-link-right\"><span style=\"color:#aa6dc0;font-size:9px\"> Barrons.com</span></div></div></td></tr>\n",
      "<tr><td align=\"right\" width=\"130\">08:59PM  </td><td align=\"left\"><div class=\"news-link-container\"><div class=\"news-link-left\"><a class=\"tab-link-news\" href=\"https://finance.yahoo.com/news/facebook-backed-group-launches-misinformation-005959001.html\" target=\"_blank\">Facebook-backed group launches misinformation adjudication panel in Australia</a></div><div class=\"news-link-right\"><span style=\"color:#aa6dc0;font-size:9px\"> Reuters</span></div></div></td></tr>\n",
      "<tr><td align=\"right\" width=\"130\">08:52PM  </td><td align=\"left\"><div class=\"news-link-container\"><div class=\"news-link-left\"><a class=\"tab-link-news\" href=\"https://finance.yahoo.com/news/facebook-backed-group-launches-misinformation-005236794.html\" target=\"_blank\">Facebook-backed group launches misinformation adjudication panel in Australia</a></div><div class=\"news-link-right\"><span style=\"color:#aa6dc0;font-size:9px\"> Reuters</span></div></div></td></tr>\n",
      "<tr><td align=\"right\" width=\"130\">08:25PM  </td><td align=\"left\"><div class=\"news-link-container\"><div class=\"news-link-left\"><a class=\"tab-link-news\" href=\"https://www.barrons.com/articles/facebook-regulation-51633887947?siteid=yhoof2\" target=\"_blank\">Social Media Companies Should Be Accountable For Policies, Facebook Exec Says</a></div><div class=\"news-link-right\"><span style=\"color:#aa6dc0;font-size:9px\"> Barrons.com</span></div></div></td></tr>\n",
      "<tr><td align=\"right\" width=\"130\">02:13PM  </td><td align=\"left\"><div class=\"news-link-container\"><div class=\"news-link-left\"><a class=\"tab-link-news\" href=\"https://www.barrons.com/articles/live-updates-51633887947?siteid=yhoof2\" target=\"_blank\">Social Media Companies Should Be Accountable For Policies, Facebook Exec Says</a></div><div class=\"news-link-right\"><span style=\"color:#aa6dc0;font-size:9px\"> Barrons.com</span></div></div></td></tr>\n",
      "<tr><td align=\"right\" width=\"130\">01:12PM  </td><td align=\"left\"><div class=\"news-link-container\"><div class=\"news-link-left\"><a class=\"tab-link-news\" href=\"https://finance.yahoo.com/news/facebook-try-nudge-teens-away-171252076.html\" target=\"_blank\">Facebook will try to 'nudge' teens away from harmful content</a></div><div class=\"news-link-right\"><span style=\"color:#aa6dc0;font-size:9px\"> Reuters</span></div></div></td></tr>\n",
      "<tr><td align=\"right\" width=\"130\">12:13PM  </td><td align=\"left\"><div class=\"news-link-container\"><div class=\"news-link-left\"><a class=\"tab-link-news\" href=\"https://www.investors.com/research/best-stocks-to-buy-now/?src=A00220\" target=\"_blank\">These Are The 5 Best Stocks To Buy And Watch Now</a></div><div class=\"news-link-right\"><span style=\"color:#aa6dc0;font-size:9px\"> Investor's Business Daily</span></div></div></td></tr>\n",
      "<tr><td align=\"right\" width=\"130\">10:46AM  </td><td align=\"left\"><div class=\"news-link-container\"><div class=\"news-link-left\"><a class=\"tab-link-news\" href=\"https://finance.yahoo.com/news/facebook-willing-open-algorithms-regulators-144628180.html\" target=\"_blank\">Facebook Is Willing to Open Algorithms to Regulators, Clegg Says</a></div><div class=\"news-link-right\"><span style=\"color:#aa6dc0;font-size:9px\"> Bloomberg</span></div></div></td></tr>\n",
      "<tr><td align=\"right\" width=\"130\">08:00AM  </td><td align=\"left\"><div class=\"news-link-container\"><div class=\"news-link-left\"><a class=\"tab-link-news\" href=\"https://www.fool.com/investing/2021/10/10/why-facebook-is-still-bulletproof/?source=eptyholnk0000202&amp;utm_source=yahoo-host&amp;utm_medium=feed&amp;utm_campaign=article\" target=\"_blank\">Why Facebook Is Still Bulletproof</a></div><div class=\"news-link-right\"><span style=\"color:#aa6dc0;font-size:9px\"> Motley Fool</span></div></div></td></tr>\n",
      "<tr><td align=\"right\" style=\"white-space:nowrap\" width=\"130\">Oct-09-21 05:18PM  </td><td align=\"left\"><div class=\"news-link-container\"><div class=\"news-link-left\"><a class=\"tab-link-news\" href=\"https://www.barrons.com/articles/tech-stocks-facebook-apple-amazon-microsoft-alphabet-51633814273?siteid=yhoof2\" target=\"_blank\">Big Techs Stocks Have Bounced Back. But Theyre Not Out of The Woods.</a></div><div class=\"news-link-right\"><span style=\"color:#aa6dc0;font-size:9px\"> Barrons.com</span></div></div></td></tr>\n",
      "<tr><td align=\"right\" width=\"130\">05:17PM  </td><td align=\"left\"><div class=\"news-link-container\"><div class=\"news-link-left\"><a class=\"tab-link-news\" href=\"https://finance.yahoo.com/news/facebook-nasdaq-fb-zigging-where-211712087.html\" target=\"_blank\">Facebook (NASDAQ:FB) is Zigging Where it Should be Zagging</a></div><div class=\"news-link-right\"><span style=\"color:#aa6dc0;font-size:9px\"> Simply Wall St.</span></div></div></td></tr>\n",
      "<tr><td align=\"right\" width=\"130\">09:00AM  </td><td align=\"left\"><div class=\"news-link-container\"><div class=\"news-link-left\"><a class=\"tab-link-news\" href=\"https://www.fool.com/investing/2021/10/09/why-facebook-is-a-better-buy-than-apple/?source=eptyholnk0000202&amp;utm_source=yahoo-host&amp;utm_medium=feed&amp;utm_campaign=article\" target=\"_blank\">Why Facebook Is a Better Buy Than Apple</a></div><div class=\"news-link-right\"><span style=\"color:#aa6dc0;font-size:9px\"> Motley Fool</span></div></div></td></tr>\n",
      "<tr><td align=\"right\" width=\"130\">08:34AM  </td><td align=\"left\"><div class=\"news-link-container\"><div class=\"news-link-left\"><a class=\"tab-link-news\" href=\"https://finance.yahoo.com/news/1-philippine-nobel-winner-ressa-123456874.html\" target=\"_blank\">UPDATE 1-Philippine Nobel winner Ressa calls Facebook 'biased against facts'</a></div><div class=\"news-link-right\"><span style=\"color:#aa6dc0;font-size:9px\"> Reuters</span></div></div></td></tr>\n",
      "<tr><td align=\"right\" width=\"130\">05:12AM  </td><td align=\"left\"><div class=\"news-link-container\"><div class=\"news-link-left\"><a class=\"tab-link-news\" href=\"https://finance.yahoo.com/news/philippine-nobel-winner-ressa-calls-091201331.html\" target=\"_blank\">Philippine Nobel winner Ressa calls Facebook \"biased against facts\"</a></div><div class=\"news-link-right\"><span style=\"color:#aa6dc0;font-size:9px\"> Reuters</span></div></div></td></tr>\n",
      "<tr><td align=\"right\" style=\"white-space:nowrap\" width=\"130\">Oct-08-21 07:40PM  </td><td align=\"left\"><div class=\"news-link-container\"><div class=\"news-link-left\"><a class=\"tab-link-news\" href=\"https://www.wsj.com/articles/southwest-airlines-facebook-pfizer-stocks-that-defined-the-week-11633736453?mod=itp_wsj\" target=\"_blank\">Southwest Airlines, Facebook, Pfizer: Stocks That Defined the Week</a></div><div class=\"news-link-right\"><span style=\"color:#aa6dc0;font-size:9px\"> The Wall Street Journal</span></div></div></td></tr>\n",
      "<tr><td align=\"right\" width=\"130\">07:38PM  </td><td align=\"left\"><div class=\"news-link-container\"><div class=\"news-link-left\"><a class=\"tab-link-news\" href=\"https://www.barrons.com/articles/teens-like-snapchat-and-tiktok-facebook-except-for-instagram-not-so-much-51633736282?siteid=yhoof2\" target=\"_blank\">Teens Like Snapchat and TikTok. Facebook? Except for Instagram, Not So Much.</a></div><div class=\"news-link-right\"><span style=\"color:#aa6dc0;font-size:9px\"> Barrons.com</span></div></div></td></tr>\n",
      "<tr><td align=\"right\" width=\"130\">06:13PM  </td><td align=\"left\"><div class=\"news-link-container\"><div class=\"news-link-left\"><a class=\"tab-link-news\" href=\"https://finance.yahoo.com/news/facebook-apologizes-second-outage-week-221335502.html\" target=\"_blank\">Facebook apologizes for second outage in a week, services back up</a></div><div class=\"news-link-right\"><span style=\"color:#aa6dc0;font-size:9px\"> FX Empire</span></div></div></td></tr>\n",
      "<tr><td align=\"right\" width=\"130\">05:34PM  </td><td align=\"left\"><div class=\"news-link-container\"><div class=\"news-link-left\"><a class=\"tab-link-news\" href=\"https://finance.yahoo.com/news/facebook-instagram-users-report-having-191702871.html\" target=\"_blank\">Facebook, Instagram Back to Normal Following Another Outage</a></div><div class=\"news-link-right\"><span style=\"color:#aa6dc0;font-size:9px\"> Bloomberg</span></div></div></td></tr>\n",
      "<tr><td align=\"right\" width=\"130\">05:25PM  </td><td align=\"left\"><div class=\"news-link-container\"><div class=\"news-link-left\"><a class=\"tab-link-news\" href=\"https://finance.yahoo.com/news/google-tests-ways-showcase-breaking-212533612.html\" target=\"_blank\">Google Tests Ways to Showcase Breaking News in Twitter-Like Move</a></div><div class=\"news-link-right\"><span style=\"color:#aa6dc0;font-size:9px\"> Bloomberg</span></div></div></td></tr>\n",
      "<tr><td align=\"right\" width=\"130\">04:43PM  </td><td align=\"left\"><div class=\"news-link-container\"><div class=\"news-link-left\"><a class=\"tab-link-news\" href=\"https://www.investors.com/news/stock-market-rally-attempt-underway-faces-resistance-oil-prices-treasury-yields-hits-highs/?src=A00220\" target=\"_blank\">Stock Market Rally Attempt Faces Resistance; Oil Prices, Treasury Yields Hit Highs</a></div><div class=\"news-link-right\"><span style=\"color:#aa6dc0;font-size:9px\"> Investor's Business Daily</span></div></div></td></tr>\n",
      "<tr><td align=\"right\" width=\"130\">04:43PM  </td><td align=\"left\"><div class=\"news-link-container\"><div class=\"news-link-left\"><a class=\"tab-link-news\" href=\"https://finance.yahoo.com/news/facebook-forced-apologise-instagram-crashes-204357388.html\" target=\"_blank\">Fury as Facebook and Instagram down for second time in a week</a></div><div class=\"news-link-right\"><span style=\"color:#aa6dc0;font-size:9px\"> The Telegraph</span></div></div></td></tr>\n",
      "<tr><td align=\"right\" width=\"130\">04:42PM  </td><td align=\"left\"><div class=\"news-link-container\"><div class=\"news-link-left\"><a class=\"tab-link-news\" href=\"https://www.barrons.com/articles/facebook-stock-regulation-51633725659?siteid=yhoof2\" target=\"_blank\">Facebooks Problems Have Grown. The Will to Regulate It Hasnt.</a></div><div class=\"news-link-right\"><span style=\"color:#aa6dc0;font-size:9px\"> Barrons.com</span></div></div></td></tr>\n",
      "<tr><td align=\"right\" width=\"130\">04:29PM  </td><td align=\"left\"><div class=\"news-link-container\"><div class=\"news-link-left\"><a class=\"tab-link-news\" href=\"https://finance.yahoo.com/news/facebook-set-longest-streak-weekly-135340139.html\" target=\"_blank\">Facebook Left Out of Big Tech Rebound in 4th Week of Losses</a></div><div class=\"news-link-right\"><span style=\"color:#aa6dc0;font-size:9px\"> Bloomberg</span></div></div></td></tr>\n",
      "<tr><td align=\"right\" width=\"130\">03:18PM  </td><td align=\"left\"><div class=\"news-link-container\"><div class=\"news-link-left\"><a class=\"tab-link-news\" href=\"https://finance.yahoo.com/news/1-instagram-feeds-not-loading-191801736.html\" target=\"_blank\">UPDATE 3-Facebook apologizes for second outage in a week, services back up</a></div><div class=\"news-link-right\"><span style=\"color:#aa6dc0;font-size:9px\"> Reuters</span></div></div></td></tr>\n",
      "<tr><td align=\"right\" width=\"130\">03:07PM  </td><td align=\"left\"><div class=\"news-link-container\"><div class=\"news-link-left\"><a class=\"tab-link-news\" href=\"https://finance.yahoo.com/news/instagram-feeds-not-loading-users-190736369.html\" target=\"_blank\">Facebook apologizes for second outage in a week, services back up</a></div><div class=\"news-link-right\"><span style=\"color:#aa6dc0;font-size:9px\"> Reuters</span></div></div></td></tr>\n",
      "<tr><td align=\"right\" width=\"130\">02:08PM  </td><td align=\"left\"><div class=\"news-link-container\"><div class=\"news-link-left\"><a class=\"tab-link-news\" href=\"https://www.marketwatch.com/story/dont-count-on-facebook-to-be-the-right-source-of-information-nih-head-urges-unvaccinated-not-to-listen-to-unreliable-sources-on-vaccines-11633716503?siteid=yhoof2\" target=\"_blank\">Dont count on Facebook to be the right source of information: NIH head urges the unvaccinated not to listen to unreliable sources on vaccines</a></div><div class=\"news-link-right\"><span style=\"color:#aa6dc0;font-size:9px\"> MarketWatch</span></div></div></td></tr>\n",
      "<tr><td align=\"right\" width=\"130\">01:50PM  </td><td align=\"left\"><div class=\"news-link-container\"><div class=\"news-link-left\"><a class=\"tab-link-news\" href=\"https://finance.yahoo.com/news/facebook-global-tax-deal-could-175026645.html\" target=\"_blank\">Facebook: global tax deal could mean us paying more tax</a></div><div class=\"news-link-right\"><span style=\"color:#aa6dc0;font-size:9px\"> Reuters</span></div></div></td></tr>\n",
      "<tr><td align=\"right\" width=\"130\">01:22PM  </td><td align=\"left\"><div class=\"news-link-container\"><div class=\"news-link-left\"><a class=\"tab-link-news\" href=\"https://www.marketwatch.com/story/weekend-reads-could-the-irs-monitor-your-bank-account-11633713724?siteid=yhoof2\" target=\"_blank\">Weekend reads: Could the IRS monitor your bank account?</a></div><div class=\"news-link-right\"><span style=\"color:#aa6dc0;font-size:9px\"> MarketWatch</span></div></div></td></tr>\n",
      "<tr><td align=\"right\" width=\"130\">12:45PM  </td><td align=\"left\"><div class=\"news-link-container\"><div class=\"news-link-left\"><a class=\"tab-link-news\" href=\"https://finance.yahoo.com/news/investigation-reminder-schall-law-firm-164500713.html\" target=\"_blank\">INVESTIGATION REMINDER: The Schall Law Firm Announces it is Investigating Claims Against Facebook, Inc. and Encourages Investors with Losses to Contact the Firm</a></div><div class=\"news-link-right\"><span style=\"color:#aa6dc0;font-size:9px\"> Business Wire</span></div></div></td></tr>\n",
      "<tr><td align=\"right\" width=\"130\">11:59AM  </td><td align=\"left\"><div class=\"news-link-container\"><div class=\"news-link-left\"><a class=\"tab-link-news\" href=\"https://finance.yahoo.com/news/fb-investor-alert-rosen-top-155900462.html\" target=\"_blank\">FB INVESTOR ALERT: ROSEN, A TOP RANKED LAW FIRM, Encourages Facebook, Inc. Investors with Losses to Inquire About Class Action Investigation  FB</a></div><div class=\"news-link-right\"><span style=\"color:#aa6dc0;font-size:9px\"> Business Wire</span></div></div></td></tr>\n",
      "<tr><td align=\"right\" width=\"130\">11:50AM  </td><td align=\"left\"><div class=\"news-link-container\"><div class=\"news-link-left\"><a class=\"tab-link-news\" href=\"https://finance.yahoo.com/news/zuckerberg-skip-testifying-court-case-155023420.html\" target=\"_blank\">Zuckerberg Can Skip Testifying in Court Case, as Rough Week Ends</a></div><div class=\"news-link-right\"><span style=\"color:#aa6dc0;font-size:9px\"> Bloomberg</span></div></div></td></tr>\n",
      "<tr><td align=\"right\" width=\"130\">11:01AM  </td><td align=\"left\"><div class=\"news-link-container\"><div class=\"news-link-left\"><a class=\"tab-link-news\" href=\"https://finance.yahoo.com/news/1-lawmakers-ftc-must-ensure-150108062.html\" target=\"_blank\">UPDATE 1-Lawmakers: FTC must ensure tech companies uphold youth online privacy</a></div><div class=\"news-link-right\"><span style=\"color:#aa6dc0;font-size:9px\"> Reuters</span></div></div></td></tr>\n",
      "<tr><td align=\"right\" width=\"130\">10:31AM  </td><td align=\"left\"><div class=\"news-link-container\"><div class=\"news-link-left\"><a class=\"tab-link-news\" href=\"https://finance.yahoo.com/news/lawmakers-ftc-must-ensure-tech-143136399.html\" target=\"_blank\">Lawmakers: FTC must ensure tech companies uphold youth online privacy</a></div><div class=\"news-link-right\"><span style=\"color:#aa6dc0;font-size:9px\"> Reuters</span></div></div></td></tr>\n",
      "<tr><td align=\"right\" width=\"130\">09:14AM  </td><td align=\"left\"><div class=\"news-link-container\"><div class=\"news-link-left\"><a class=\"tab-link-news\" href=\"https://qz.com/2071423/maria-ressas-nobel-peace-prize-win-is-an-indictment-of-facebook/?utm_source=YPL\" target=\"_blank\">Maria Ressas Nobel peace prize win is an indictment of Facebook</a></div><div class=\"news-link-right\"><span style=\"color:#aa6dc0;font-size:9px\"> Quartz</span></div></div></td></tr>\n",
      "<tr><td align=\"right\" width=\"130\">07:15AM  </td><td align=\"left\"><div class=\"news-link-container\"><div class=\"news-link-left\"><a class=\"tab-link-news\" href=\"https://www.fool.com/investing/2021/10/08/market-sell-off-2-monster-growth-stocks-to-buy/?source=eptyholnk0000202&amp;utm_source=yahoo-host&amp;utm_medium=feed&amp;utm_campaign=article\" target=\"_blank\">Market Sell-Off: 2 Monster Growth Stocks to Buy at a Discount</a></div><div class=\"news-link-right\"><span style=\"color:#aa6dc0;font-size:9px\"> Motley Fool</span></div></div></td></tr>\n",
      "<tr><td align=\"right\" width=\"130\">06:46AM  </td><td align=\"left\"><div class=\"news-link-container\"><div class=\"news-link-left\"><a class=\"tab-link-news\" href=\"https://www.barrons.com/articles/apple-stock-price-rally-caution-51633620422?siteid=yhoof2\" target=\"_blank\">Apple Stock Could Struggle. This Analyst Explains Why.</a></div><div class=\"news-link-right\"><span style=\"color:#aa6dc0;font-size:9px\"> Barrons.com</span></div></div></td></tr>\n",
      "<tr><td align=\"right\" width=\"130\">06:30AM  </td><td align=\"left\"><div class=\"news-link-container\"><div class=\"news-link-left\"><a class=\"tab-link-news\" href=\"https://finance.yahoo.com/news/public-investment-fund-new-owners-saudi-newcastle-united-103035353.html\" target=\"_blank\">Public Investment Fund: Meet the new Saudi owners of Newcastle United</a></div><div class=\"news-link-right\"><span style=\"color:#aa6dc0;font-size:9px\"> Yahoo Finance UK</span></div></div></td></tr>\n",
      "<tr><td align=\"right\" width=\"130\">06:00AM  </td><td align=\"left\"><div class=\"news-link-container\"><div class=\"news-link-left\"><a class=\"tab-link-news\" href=\"https://finance.yahoo.com/video/concerns-michael-dell-most-100000299.html\" target=\"_blank\">What concerns Michael Dell the most about A.I.</a></div><div class=\"news-link-right\"><span style=\"color:#aa6dc0;font-size:9px\"> Yahoo Finance Video</span></div></div></td></tr>\n",
      "<tr><td align=\"right\" style=\"white-space:nowrap\" width=\"130\">Oct-07-21 09:00PM  </td><td align=\"left\"><div class=\"news-link-container\"><div class=\"news-link-left\"><a class=\"tab-link-news\" href=\"https://finance.yahoo.com/news/billionaire-peter-thiels-palantir-pops-181900797.html\" target=\"_blank\">Billionaire Peter Thiel's Palantir pops  3 more of his ideas that could surge next</a></div><div class=\"news-link-right\"><span style=\"color:#aa6dc0;font-size:9px\"> MoneyWise</span></div></div></td></tr>\n",
      "<tr><td align=\"right\" width=\"130\">05:41PM  </td><td align=\"left\"><div class=\"news-link-container\"><div class=\"news-link-left\"><a class=\"tab-link-news\" href=\"https://finance.yahoo.com/news/surveymonkey-owner-momentive-exploring-potential-214128297.html\" target=\"_blank\">SurveyMonkey Owner Momentive Is Exploring Potential Sale</a></div><div class=\"news-link-right\"><span style=\"color:#aa6dc0;font-size:9px\"> Bloomberg</span></div></div></td></tr>\n",
      "<tr><td align=\"right\" width=\"130\">03:00PM  </td><td align=\"left\"><div class=\"news-link-container\"><div class=\"news-link-left\"><a class=\"tab-link-news\" href=\"https://finance.yahoo.com/news/google-won-t-fund-sites-190001419.html\" target=\"_blank\">Google Wont Fund Sites, YouTube Videos That Deny Climate Change</a></div><div class=\"news-link-right\"><span style=\"color:#aa6dc0;font-size:9px\"> Bloomberg</span></div></div></td></tr>\n",
      "<tr><td align=\"right\" width=\"130\">02:20PM  </td><td align=\"left\"><div class=\"news-link-container\"><div class=\"news-link-left\"><a class=\"tab-link-news\" href=\"https://qz.com/2070628/facebook-stock-is-more-at-risk-from-apple-than-the-whistleblower/?utm_source=YPL\" target=\"_blank\">Facebooks stock price has more to lose from Apple than the whistleblower</a></div><div class=\"news-link-right\"><span style=\"color:#aa6dc0;font-size:9px\"> Quartz</span></div></div></td></tr>\n",
      "<tr><td align=\"right\" width=\"130\">02:02PM  </td><td align=\"left\"><div class=\"news-link-container\"><div class=\"news-link-left\"><a class=\"tab-link-news\" href=\"https://finance.yahoo.com/news/storm-upon-facebooks-empire-180222646.html\" target=\"_blank\">A Storm is Upon Facebook's Empire</a></div><div class=\"news-link-right\"><span style=\"color:#aa6dc0;font-size:9px\"> Benzinga</span></div></div></td></tr>\n",
      "<tr><td align=\"right\" width=\"130\">11:09AM  </td><td align=\"left\"><div class=\"news-link-container\"><div class=\"news-link-left\"><a class=\"tab-link-news\" href=\"https://finance.yahoo.com/video/social-media-changing-stock-market-150926999.html\" target=\"_blank\">How social media is changing the stock market</a></div><div class=\"news-link-right\"><span style=\"color:#aa6dc0;font-size:9px\"> Yahoo Finance Video</span></div></div></td></tr>\n",
      "<tr><td align=\"right\" width=\"130\">10:31AM  </td><td align=\"left\"><div class=\"news-link-container\"><div class=\"news-link-left\"><a class=\"tab-link-news\" href=\"https://finance.yahoo.com/news/russian-court-tells-bailiffs-enforce-143110843.html\" target=\"_blank\">Russian court tells bailiffs to enforce collection of unpaid Facebook fines</a></div><div class=\"news-link-right\"><span style=\"color:#aa6dc0;font-size:9px\"> Reuters</span></div></div></td></tr>\n",
      "<tr><td align=\"right\" width=\"130\">08:02AM  </td><td align=\"left\"><div class=\"news-link-container\"><div class=\"news-link-left\"><a class=\"tab-link-news\" href=\"https://finance.yahoo.com/news/4-stocks-insiders-selling-120230230.html\" target=\"_blank\">4 Stocks Insiders Are Selling</a></div><div class=\"news-link-right\"><span style=\"color:#aa6dc0;font-size:9px\"> Benzinga</span></div></div></td></tr>\n",
      "<tr><td align=\"right\" width=\"130\">07:58AM  </td><td align=\"left\"><div class=\"news-link-container\"><div class=\"news-link-left\"><a class=\"tab-link-news\" href=\"https://www.marketwatch.com/story/australia-wants-facebook-held-liable-for-anonymous-comments-01633607824?siteid=yhoof2\" target=\"_blank\">Australia wants Facebook held liable for anonymous comments</a></div><div class=\"news-link-right\"><span style=\"color:#aa6dc0;font-size:9px\"> MarketWatch</span></div></div></td></tr>\n",
      "<tr><td align=\"right\" width=\"130\">07:00AM  </td><td align=\"left\"><div class=\"news-link-container\"><div class=\"news-link-left\"><a class=\"tab-link-news\" href=\"https://qz.com/2070290/why-the-facebook-whistleblower-doesnt-want-the-company-broken-up/?utm_source=YPL\" target=\"_blank\">Why the Facebook whistleblower doesnt want the company broken up</a></div><div class=\"news-link-right\"><span style=\"color:#aa6dc0;font-size:9px\"> Quartz</span></div></div></td></tr>\n",
      "<tr><td align=\"right\" width=\"130\">07:00AM  </td><td align=\"left\"><div class=\"news-link-container\"><div class=\"news-link-left\"><a class=\"tab-link-news\" href=\"https://finance.yahoo.com/video/u-china-relationship-little-bit-110000840.html\" target=\"_blank\">The U.S.-China relationship is a little bit frosty: Michael Dell</a></div><div class=\"news-link-right\"><span style=\"color:#aa6dc0;font-size:9px\"> Yahoo Finance Video</span></div></div></td></tr>\n",
      "<tr><td align=\"right\" width=\"130\">06:39AM  </td><td align=\"left\"><div class=\"news-link-container\"><div class=\"news-link-left\"><a class=\"tab-link-news\" href=\"https://www.barrons.com/articles/facebook-has-reportedly-slowed-product-rollouts-amid-reputational-crisis-51633603180?siteid=yhoof2\" target=\"_blank\">Facebook Has Reportedly Slowed Product Rollouts Amid Reputational Crisis</a></div><div class=\"news-link-right\"><span style=\"color:#aa6dc0;font-size:9px\"> Barrons.com</span></div></div></td></tr>\n",
      "<tr><td align=\"right\" width=\"130\">06:11AM  </td><td align=\"left\"><div class=\"news-link-container\"><div class=\"news-link-left\"><a class=\"tab-link-news\" href=\"https://www.investopedia.com/articles/insights/082216/top-9-shareholders-facebook-fb.asp?utm_campaign=quote-yahoo&amp;utm_source=yahoo&amp;utm_medium=referral\" target=\"_blank\">Top Facebook Shareholders</a></div><div class=\"news-link-right\"><span style=\"color:#aa6dc0;font-size:9px\"> Investopedia</span></div></div></td></tr>\n",
      "<tr><td align=\"right\" width=\"130\">06:01AM  </td><td align=\"left\"><div class=\"news-link-container\"><div class=\"news-link-left\"><a class=\"tab-link-news\" href=\"https://www.thestreet.com/investing/facebook-stock-rises-as-jpmorgan-says-buy-on-the-pullback?puc=yahoo&amp;cm_ven=YAHOO\" target=\"_blank\">Facebook Stock Rises; JPMorgan Says Buy on the Pullback</a></div><div class=\"news-link-right\"><span style=\"color:#aa6dc0;font-size:9px\"> TheStreet.com</span></div></div></td></tr>\n",
      "<tr><td align=\"right\" width=\"130\">06:00AM  </td><td align=\"left\"><div class=\"news-link-container\"><div class=\"news-link-left\"><a class=\"tab-link-news\" href=\"https://finance.yahoo.com/news/think-of-facebook-as-a-money-maker-but-not-a-babysitter-morning-brief-091547082.html\" target=\"_blank\">Think of Facebook as a money maker, not a babysitter: Morning Brief</a></div><div class=\"news-link-right\"><span style=\"color:#aa6dc0;font-size:9px\"> Yahoo Finance</span></div></div></td></tr>\n",
      "<tr><td align=\"right\" width=\"130\">06:00AM  </td><td align=\"left\"><div class=\"news-link-container\"><div class=\"news-link-left\"><a class=\"tab-link-news\" href=\"https://finance.yahoo.com/video/influencers-andy-serwer-michael-dell-100000127.html\" target=\"_blank\">Influencers with Andy Serwer: Michael Dell</a></div><div class=\"news-link-right\"><span style=\"color:#aa6dc0;font-size:9px\"> Yahoo Finance Video</span></div></div></td></tr>\n",
      "<tr><td align=\"right\" style=\"white-space:nowrap\" width=\"130\">Oct-06-21 11:47PM  </td><td align=\"left\"><div class=\"news-link-container\"><div class=\"news-link-left\"><a class=\"tab-link-news\" href=\"https://finance.yahoo.com/news/1-amid-facebook-fracas-australia-034747279.html\" target=\"_blank\">UPDATE 4-'A coward's palace': Australian PM slams social media amid defamation law controversy</a></div><div class=\"news-link-right\"><span style=\"color:#aa6dc0;font-size:9px\"> Reuters</span></div></div></td></tr>\n",
      "<tr><td align=\"right\" width=\"130\">08:42PM  </td><td align=\"left\"><div class=\"news-link-container\"><div class=\"news-link-left\"><a class=\"tab-link-news\" href=\"https://www.marketwatch.com/story/facebook-will-never-go-away-and-it-never-wants-us-to-look-away-11633534257?siteid=yhoof2\" target=\"_blank\">We will never be free from the Facebook News Feed</a></div><div class=\"news-link-right\"><span style=\"color:#aa6dc0;font-size:9px\"> MarketWatch</span></div></div></td></tr>\n",
      "<tr><td align=\"right\" width=\"130\">05:45PM  </td><td align=\"left\"><div class=\"news-link-container\"><div class=\"news-link-left\"><a class=\"tab-link-news\" href=\"https://finance.yahoo.com/news/does-return-old-school-marketing-214526567.html\" target=\"_blank\">Does the Return of Old School Marketing Make This Ad-Tech Alternative Bigger than Blockchain?</a></div><div class=\"news-link-right\"><span style=\"color:#aa6dc0;font-size:9px\"> Benzinga</span></div></div></td></tr>\n",
      "<tr><td align=\"right\" width=\"130\">05:45PM  </td><td align=\"left\"><div class=\"news-link-container\"><div class=\"news-link-left\"><a class=\"tab-link-news\" href=\"https://finance.yahoo.com/news/facebook-fb-gains-lags-market-214509265.html\" target=\"_blank\">Facebook (FB) Gains But Lags Market: What You Should Know</a></div><div class=\"news-link-right\"><span style=\"color:#aa6dc0;font-size:9px\"> Zacks</span></div></div></td></tr>\n",
      "<tr><td align=\"right\" width=\"130\">05:04PM  </td><td align=\"left\"><div class=\"news-link-container\"><div class=\"news-link-left\"><a class=\"tab-link-news\" href=\"https://finance.yahoo.com/video/professor-calls-access-facebook-algorithms-210423471.html\" target=\"_blank\">Professor calls for access to Facebook algorithms and data</a></div><div class=\"news-link-right\"><span style=\"color:#aa6dc0;font-size:9px\"> Yahoo Finance Video</span></div></div></td></tr>\n",
      "<tr><td align=\"right\" width=\"130\">03:26PM  </td><td align=\"left\"><div class=\"news-link-container\"><div class=\"news-link-left\"><a class=\"tab-link-news\" href=\"https://finance.yahoo.com/news/facebook-stock-faces-serious-problems-from-whistleblower-cio-192628096.html\" target=\"_blank\">Facebook stock faces 'serious problems' from whistleblower: Analyst</a></div><div class=\"news-link-right\"><span style=\"color:#aa6dc0;font-size:9px\"> Yahoo Finance</span></div></div></td></tr>\n",
      "<tr><td align=\"right\" width=\"130\">02:37PM  </td><td align=\"left\"><div class=\"news-link-container\"><div class=\"news-link-left\"><a class=\"tab-link-news\" href=\"https://finance.yahoo.com/news/facebook-stock-familiar-crisis-cycle-183733316.html\" target=\"_blank\">Facebook Stocks Familiar Crisis Cycle: Decline, Rebound, Repeat</a></div><div class=\"news-link-right\"><span style=\"color:#aa6dc0;font-size:9px\"> Bloomberg</span></div></div></td></tr>\n",
      "<tr><td align=\"right\" width=\"130\">02:35PM  </td><td align=\"left\"><div class=\"news-link-container\"><div class=\"news-link-left\"><a class=\"tab-link-news\" href=\"https://finance.yahoo.com/news/facebook-under-pressure-lawmakers-consumers-183515146.html\" target=\"_blank\">Facebook Is Under Pressure From Lawmakers, Consumers And Investors</a></div><div class=\"news-link-right\"><span style=\"color:#aa6dc0;font-size:9px\"> FX Empire</span></div></div></td></tr>\n",
      "<tr><td align=\"right\" width=\"130\">02:23PM  </td><td align=\"left\"><div class=\"news-link-container\"><div class=\"news-link-left\"><a class=\"tab-link-news\" href=\"https://www.marketwatch.com/story/messaging-apps-signal-and-telegram-say-they-gained-millions-of-new-users-during-facebooks-outage-11633544624?siteid=yhoof2\" target=\"_blank\">Messaging apps Signal and Telegram say they gained millions of new users during Facebooks outage</a></div><div class=\"news-link-right\"><span style=\"color:#aa6dc0;font-size:9px\"> MarketWatch</span></div></div></td></tr>\n",
      "<tr><td align=\"right\" width=\"130\">01:29PM  </td><td align=\"left\"><div class=\"news-link-container\"><div class=\"news-link-left\"><a class=\"tab-link-news\" href=\"https://finance.yahoo.com/news/1-facebook-slows-down-product-172930793.html\" target=\"_blank\">UPDATE 1-Facebook slows down new product rollouts - WSJ</a></div><div class=\"news-link-right\"><span style=\"color:#aa6dc0;font-size:9px\"> Reuters</span></div></div></td></tr>\n",
      "<tr><td align=\"right\" width=\"130\">01:04PM  </td><td align=\"left\"><div class=\"news-link-container\"><div class=\"news-link-left\"><a class=\"tab-link-news\" href=\"https://finance.yahoo.com/news/facebook-slowing-down-product-rollouts-170401883.html\" target=\"_blank\">Facebook slows down new product rollouts - WSJ</a></div><div class=\"news-link-right\"><span style=\"color:#aa6dc0;font-size:9px\"> Reuters</span></div></div></td></tr>\n",
      "<tr><td align=\"right\" width=\"130\">12:27PM  </td><td align=\"left\"><div class=\"news-link-container\"><div class=\"news-link-left\"><a class=\"tab-link-news\" href=\"https://finance.yahoo.com/video/facebook-outage-whistleblower-presents-buying-162718840.html\" target=\"_blank\">Facebook outage, whistleblower presents buying opportunity: Analyst</a></div><div class=\"news-link-right\"><span style=\"color:#aa6dc0;font-size:9px\"> Yahoo Finance Video</span></div></div></td></tr>\n",
      "<tr><td align=\"right\" width=\"130\">12:16PM  </td><td align=\"left\"><div class=\"news-link-container\"><div class=\"news-link-left\"><a class=\"tab-link-news\" href=\"https://www.marketwatch.com/story/oh-facebook-how-i-missed-you-mondays-6-hour-outage-was-a-reminder-of-the-valuable-role-the-platform-plays-in-our-lives-11633458958?siteid=yhoof2\" target=\"_blank\">If Facebook went away I would be lonely</a></div><div class=\"news-link-right\"><span style=\"color:#aa6dc0;font-size:9px\"> MarketWatch</span></div></div></td></tr>\n",
      "<tr><td align=\"right\" width=\"130\">12:03PM  </td><td align=\"left\"><div class=\"news-link-container\"><div class=\"news-link-left\"><a class=\"tab-link-news\" href=\"https://finance.yahoo.com/news/facebook-exec-on-moderating-hate-speech-outside-of-us-language-a-challenge-160356598.html\" target=\"_blank\">Facebook exec on moderating hate speech outside the US: Language is a challenge</a></div><div class=\"news-link-right\"><span style=\"color:#aa6dc0;font-size:9px\"> Yahoo Finance</span></div></div></td></tr>\n",
      "<tr><td align=\"right\" width=\"130\">11:49AM  </td><td align=\"left\"><div class=\"news-link-container\"><div class=\"news-link-left\"><a class=\"tab-link-news\" href=\"https://finance.yahoo.com/news/facebook-exec-regulation-is-a-big-part-of-getting-social-media-to-a-better-place-154904927.html\" target=\"_blank\">Facebook Exec: Regulation is a big part of getting social media to a better place</a></div><div class=\"news-link-right\"><span style=\"color:#aa6dc0;font-size:9px\"> Yahoo Finance</span></div></div></td></tr>\n",
      "<tr><td align=\"right\" width=\"130\">11:19AM  </td><td align=\"left\"><div class=\"news-link-container\"><div class=\"news-link-left\"><a class=\"tab-link-news\" href=\"https://finance.yahoo.com/video/facebook-putting-profits-ahead-people-151958615.html\" target=\"_blank\">Facebook is putting its profits ahead of people: expert</a></div><div class=\"news-link-right\"><span style=\"color:#aa6dc0;font-size:9px\"> Yahoo Finance Video</span></div></div></td></tr>\n",
      "<tr><td align=\"right\" width=\"130\">10:47AM  </td><td align=\"left\"><div class=\"news-link-container\"><div class=\"news-link-left\"><a class=\"tab-link-news\" href=\"https://www.fool.com/investing/2021/10/06/why-facebook-stock-fell-this-morning/?source=eptyholnk0000202&amp;utm_source=yahoo-host&amp;utm_medium=feed&amp;utm_campaign=article\" target=\"_blank\">Why Facebook Stock Fell This Morning</a></div><div class=\"news-link-right\"><span style=\"color:#aa6dc0;font-size:9px\"> Motley Fool</span></div></div></td></tr>\n",
      "<tr><td align=\"right\" width=\"130\">10:20AM  </td><td align=\"left\"><div class=\"news-link-container\"><div class=\"news-link-left\"><a class=\"tab-link-news\" href=\"https://finance.yahoo.com/news/amazon-twitch-hacked-streaming-data-breach-142013240.html\" target=\"_blank\">Amazon's streaming giant Twitch hacked, exposing crucial internal data</a></div><div class=\"news-link-right\"><span style=\"color:#aa6dc0;font-size:9px\"> Yahoo Finance UK</span></div></div></td></tr>\n",
      "<tr><td align=\"right\" width=\"130\">09:32AM  </td><td align=\"left\"><div class=\"news-link-container\"><div class=\"news-link-left\"><a class=\"tab-link-news\" href=\"https://www.investors.com/research/fb-stock-buy-now-facebook-stock-branch-3/?src=A00220\" target=\"_blank\">FB Stock A Buy? Facebook's Zuckerberg Under Fire, Calls For Regulation</a></div><div class=\"news-link-right\"><span style=\"color:#aa6dc0;font-size:9px\"> Investor's Business Daily</span></div></div></td></tr>\n",
      "<tr><td align=\"right\" width=\"130\">08:23AM  </td><td align=\"left\"><div class=\"news-link-container\"><div class=\"news-link-left\"><a class=\"tab-link-news\" href=\"https://finance.yahoo.com/news/real-fallout-facebook-may-still-122339075.html\" target=\"_blank\">The Real Fallout for Facebook May Be Still to Come</a></div><div class=\"news-link-right\"><span style=\"color:#aa6dc0;font-size:9px\"> WWD</span></div></div></td></tr>\n",
      "<tr><td align=\"right\" width=\"130\">06:56AM  </td><td align=\"left\"><div class=\"news-link-container\"><div class=\"news-link-left\"><a class=\"tab-link-news\" href=\"https://www.barrons.com/articles/mark-zuckerberg-breaks-his-silence-on-the-facebook-whistleblower-what-he-said-51633517769?siteid=yhoof2\" target=\"_blank\">Mark Zuckerberg Breaks Silence After Facebook Whistleblowers Testimony. What He Said.</a></div><div class=\"news-link-right\"><span style=\"color:#aa6dc0;font-size:9px\"> Barrons.com</span></div></div></td></tr>\n",
      "<tr><td align=\"right\" width=\"130\">06:50AM  </td><td align=\"left\"><div class=\"news-link-container\"><div class=\"news-link-left\"><a class=\"tab-link-news\" href=\"https://www.fool.com/investing/2021/10/06/3-reasons-to-buy-pinterest-and-1-reason-to-sell/?source=eptyholnk0000202&amp;utm_source=yahoo-host&amp;utm_medium=feed&amp;utm_campaign=article\" target=\"_blank\">3 Reasons to Buy Pinterest, And 1 Reason To Sell</a></div><div class=\"news-link-right\"><span style=\"color:#aa6dc0;font-size:9px\"> Motley Fool</span></div></div></td></tr>\n",
      "<tr><td align=\"right\" width=\"130\">06:35AM  </td><td align=\"left\"><div class=\"news-link-container\"><div class=\"news-link-left\"><a class=\"tab-link-news\" href=\"https://finance.yahoo.com/news/fake-reviews-facebook-boost-ratings-103507835.html\" target=\"_blank\">Fake reviews infiltrate Facebook to boost ratings</a></div><div class=\"news-link-right\"><span style=\"color:#aa6dc0;font-size:9px\"> Yahoo Finance UK</span></div></div></td></tr>\n",
      "<tr><td align=\"right\" width=\"130\">06:13AM  </td><td align=\"left\"><div class=\"news-link-container\"><div class=\"news-link-left\"><a class=\"tab-link-news\" href=\"https://finance.yahoo.com/news/10-small-cap-stocks-buy-101300375.html\" target=\"_blank\">10 Small-Cap Stocks to Buy According to Australias Warren Buffett Kerr Neilson</a></div><div class=\"news-link-right\"><span style=\"color:#aa6dc0;font-size:9px\"> Insider Monkey</span></div></div></td></tr>\n",
      "<tr><td align=\"right\" width=\"130\">06:07AM  </td><td align=\"left\"><div class=\"news-link-container\"><div class=\"news-link-left\"><a class=\"tab-link-news\" href=\"https://finance.yahoo.com/news/facebook-problem-social-media-regulator-100745630.html\" target=\"_blank\">If Facebook is the problem, is a social media regulator the fix?</a></div><div class=\"news-link-right\"><span style=\"color:#aa6dc0;font-size:9px\"> Reuters</span></div></div></td></tr>\n",
      "<tr><td align=\"right\" width=\"130\">06:02AM  </td><td align=\"left\"><div class=\"news-link-container\"><div class=\"news-link-left\"><a class=\"tab-link-news\" href=\"https://www.fool.com/investing/2021/10/06/why-is-everyone-talking-about-facebook-stock/?source=eptyholnk0000202&amp;utm_source=yahoo-host&amp;utm_medium=feed&amp;utm_campaign=article\" target=\"_blank\">Why Is Everyone Talking About Facebook Stock?</a></div><div class=\"news-link-right\"><span style=\"color:#aa6dc0;font-size:9px\"> Motley Fool</span></div></div></td></tr>\n",
      "<tr><td align=\"right\" width=\"130\">06:00AM  </td><td align=\"left\"><div class=\"news-link-container\"><div class=\"news-link-left\"><a class=\"tab-link-news\" href=\"https://finance.yahoo.com/news/facebook-exec-has-seen-serious-mischaracterizations-of-leaked-documents-100011352.html\" target=\"_blank\">Facebook exec has seen serious mischaracterizations of leaked documents</a></div><div class=\"news-link-right\"><span style=\"color:#aa6dc0;font-size:9px\"> Yahoo Finance</span></div></div></td></tr>\n",
      "<tr><td align=\"right\" width=\"130\">06:00AM  </td><td align=\"left\"><div class=\"news-link-container\"><div class=\"news-link-left\"><a class=\"tab-link-news\" href=\"https://finance.yahoo.com/video/yahoo-finance-presents-facebook-vp-100000843.html\" target=\"_blank\">Yahoo Finance Presents: Facebook VP of Content Policy Monika Bickert</a></div><div class=\"news-link-right\"><span style=\"color:#aa6dc0;font-size:9px\"> Yahoo Finance Video</span></div></div></td></tr>\n",
      "<tr><td align=\"right\" width=\"130\">06:00AM  </td><td align=\"left\"><div class=\"news-link-container\"><div class=\"news-link-left\"><a class=\"tab-link-news\" href=\"https://finance.yahoo.com/news/facebook-problem-social-media-regulator-100000798.html\" target=\"_blank\">If Facebook is the problem, is a social media regulator the fix?</a></div><div class=\"news-link-right\"><span style=\"color:#aa6dc0;font-size:9px\"> Reuters</span></div></div></td></tr>\n",
      "<tr><td align=\"right\" width=\"130\">04:16AM  </td><td align=\"left\"><div class=\"news-link-container\"><div class=\"news-link-left\"><a class=\"tab-link-news\" href=\"https://finance.yahoo.com/news/facebook-outage-prompts-south-africa-081614921.html\" target=\"_blank\">Facebook Outage Prompts South Africa to Promote Local Developers</a></div><div class=\"news-link-right\"><span style=\"color:#aa6dc0;font-size:9px\"> Bloomberg</span></div></div></td></tr>\n",
      "<tr><td align=\"right\" width=\"130\">03:04AM  </td><td align=\"left\"><div class=\"news-link-container\"><div class=\"news-link-left\"><a class=\"tab-link-news\" href=\"https://finance.yahoo.com/news/facebook-down-live-updates-instagram-160009765.html\" target=\"_blank\">Facebook down - live updates: Company explains outage as WhatsApp, Instagram and other apps come back online</a></div><div class=\"news-link-right\"><span style=\"color:#aa6dc0;font-size:9px\"> The Independent</span></div></div></td></tr>\n",
      "<tr><td align=\"right\" width=\"130\">02:56AM  </td><td align=\"left\"><div class=\"news-link-container\"><div class=\"news-link-left\"><a class=\"tab-link-news\" href=\"https://finance.yahoo.com/news/facebook-outage-single-wrong-command-065657704.html\" target=\"_blank\">Facebook outage: Single wrong command took down backbone of network, says company</a></div><div class=\"news-link-right\"><span style=\"color:#aa6dc0;font-size:9px\"> The Independent</span></div></div></td></tr>\n",
      "<tr><td align=\"right\" width=\"130\">01:55AM  </td><td align=\"left\"><div class=\"news-link-container\"><div class=\"news-link-left\"><a class=\"tab-link-news\" href=\"https://finance.yahoo.com/news/snapchat-biggest-winner-day-facebook-055538043.html\" target=\"_blank\">Snapchat Was the Biggest Winner the Day Facebook Went Dark</a></div><div class=\"news-link-right\"><span style=\"color:#aa6dc0;font-size:9px\"> Bloomberg</span></div></div></td></tr>\n",
      "<tr><td align=\"right\" style=\"white-space:nowrap\" width=\"130\">Oct-05-21 09:28PM  </td><td align=\"left\"><div class=\"news-link-container\"><div class=\"news-link-left\"><a class=\"tab-link-news\" href=\"https://finance.yahoo.com/news/zuckerberg-responds-claims-facebook-prioritizes-004412602.html\" target=\"_blank\">Zuckerberg Responds to Claims That Facebook Prioritizes Profit as Just Not True</a></div><div class=\"news-link-right\"><span style=\"color:#aa6dc0;font-size:9px\"> Bloomberg</span></div></div></td></tr>\n",
      "<tr><td align=\"right\" width=\"130\">07:22PM  </td><td align=\"left\"><div class=\"news-link-container\"><div class=\"news-link-left\"><a class=\"tab-link-news\" href=\"https://finance.yahoo.com/news/millions-flock-signal-facebook-whatsapp-014056278.html\" target=\"_blank\">Millions Flock to Signal and Telegram After Facebook Outage</a></div><div class=\"news-link-right\"><span style=\"color:#aa6dc0;font-size:9px\"> Bloomberg</span></div></div></td></tr>\n",
      "<tr><td align=\"right\" width=\"130\">07:21PM  </td><td align=\"left\"><div class=\"news-link-container\"><div class=\"news-link-left\"><a class=\"tab-link-news\" href=\"https://www.investopedia.com/facebook-fb-whistleblower-testifies-before-us-senate-5204699?utm_campaign=quote-yahoo&amp;utm_source=yahoo&amp;utm_medium=referral\" target=\"_blank\">Facebook (FB) Whistleblower Testifies Before US Senate</a></div><div class=\"news-link-right\"><span style=\"color:#aa6dc0;font-size:9px\"> Investopedia</span></div></div></td></tr>\n",
      "<tr><td align=\"right\" width=\"130\">07:13PM  </td><td align=\"left\"><div class=\"news-link-container\"><div class=\"news-link-left\"><a class=\"tab-link-news\" href=\"https://finance.yahoo.com/news/70m-people-signed-telegram-messaging-231352466.html\" target=\"_blank\">70m people signed up for Telegram messaging app during Facebooks hours-long outage, founder says</a></div><div class=\"news-link-right\"><span style=\"color:#aa6dc0;font-size:9px\"> The Independent</span></div></div></td></tr>\n",
      "<tr><td align=\"right\" width=\"130\">06:42PM  </td><td align=\"left\"><div class=\"news-link-container\"><div class=\"news-link-left\"><a class=\"tab-link-news\" href=\"https://www.marketwatch.com/story/facebook-wont-get-in-trouble-for-putting-profit-over-people-but-that-is-far-from-the-only-issue-11633473727?siteid=yhoof2\" target=\"_blank\">Facebook wont get in trouble for putting profit over people, but that is far from the only issue</a></div><div class=\"news-link-right\"><span style=\"color:#aa6dc0;font-size:9px\"> MarketWatch</span></div></div></td></tr>\n",
      "<tr><td align=\"right\" width=\"130\">06:07PM  </td><td align=\"left\"><div class=\"news-link-container\"><div class=\"news-link-left\"><a class=\"tab-link-news\" href=\"https://finance.yahoo.com/video/why-case-breaking-facebook-weaker-220754940.html\" target=\"_blank\">Why the case for breaking up Facebook Is 'weaker than ever'</a></div><div class=\"news-link-right\"><span style=\"color:#aa6dc0;font-size:9px\"> Yahoo Finance Video</span></div></div></td></tr>\n",
      "<tr><td align=\"right\" width=\"130\">05:49PM  </td><td align=\"left\"><div class=\"news-link-container\"><div class=\"news-link-left\"><a class=\"tab-link-news\" href=\"https://finance.yahoo.com/news/facebook-needs-serious-talks-policy-214953818.html\" target=\"_blank\">Facebook Needs Serious Talks With Policy Makers, Bickert Says</a></div><div class=\"news-link-right\"><span style=\"color:#aa6dc0;font-size:9px\"> Bloomberg</span></div></div></td></tr>\n",
      "<tr><td align=\"right\" width=\"130\">05:23PM  </td><td align=\"left\"><div class=\"news-link-container\"><div class=\"news-link-left\"><a class=\"tab-link-news\" href=\"https://finance.yahoo.com/video/senator-warren-powell-fed-chair-212312329.html\" target=\"_blank\">Senator Warren on Powell as Fed Chair, Stablecoins, Facebook</a></div><div class=\"news-link-right\"><span style=\"color:#aa6dc0;font-size:9px\"> Bloomberg</span></div></div></td></tr>\n",
      "<tr><td align=\"right\" width=\"130\">05:07PM  </td><td align=\"left\"><div class=\"news-link-container\"><div class=\"news-link-left\"><a class=\"tab-link-news\" href=\"https://finance.yahoo.com/news/facebook-outage-felt-acutely-small-210705034.html\" target=\"_blank\">Facebook Outage Is Felt Acutely by Small-Business Owners</a></div><div class=\"news-link-right\"><span style=\"color:#aa6dc0;font-size:9px\"> Bloomberg</span></div></div></td></tr>\n",
      "<tr><td align=\"right\" width=\"130\">04:45PM  </td><td align=\"left\"><div class=\"news-link-container\"><div class=\"news-link-left\"><a class=\"tab-link-news\" href=\"https://www.marketwatch.com/story/facebooks-6-hour-outage-highlights-how-vital-the-app-has-become-worldwide-01633466711?siteid=yhoof2\" target=\"_blank\">Facebooks 6-hour outage highlights how vital the app has become worldwide</a></div><div class=\"news-link-right\"><span style=\"color:#aa6dc0;font-size:9px\"> MarketWatch</span></div></div></td></tr>\n",
      "<tr><td align=\"right\" width=\"130\">04:33PM  </td><td align=\"left\"><div class=\"news-link-container\"><div class=\"news-link-left\"><a class=\"tab-link-news\" href=\"https://www.investors.com/news/technology/facebook-hearing-spurs-call-for-tighter-grip-on-social-network/?src=A00220\" target=\"_blank\">Facebook Hearing Elevates Washington's Distrust Of Big Tech</a></div><div class=\"news-link-right\"><span style=\"color:#aa6dc0;font-size:9px\"> Investor's Business Daily</span></div></div></td></tr>\n",
      "<tr><td align=\"right\" width=\"130\">04:25PM  </td><td align=\"left\"><div class=\"news-link-container\"><div class=\"news-link-left\"><a class=\"tab-link-news\" href=\"https://www.investors.com/market-trend/stock-market-today/dow-jones-rallies-as-apple-stock-pops-chuck-schumer-makes-debt-ceiling-move-facebook-stock-up-as-whistleblower-testifies/?src=A00220\" target=\"_blank\">Dow Jones Gains As Apple Pops; Schumer Makes This Debt Move; Facebook Up As Whistleblower Testifies</a></div><div class=\"news-link-right\"><span style=\"color:#aa6dc0;font-size:9px\"> Investor's Business Daily</span></div></div></td></tr>\n",
      "</table>, 'TWTR': <table border=\"0\" cellpadding=\"1\" cellspacing=\"0\" class=\"fullview-news-outer\" id=\"news-table\" width=\"100%\">\n",
      "<tr><td align=\"right\" style=\"white-space:nowrap\" width=\"130\">Oct-10-21 08:59PM  </td><td align=\"left\"><div class=\"news-link-container\"><div class=\"news-link-left\"><a class=\"tab-link-news\" href=\"https://finance.yahoo.com/news/facebook-backed-group-launches-misinformation-005959001.html\" target=\"_blank\">Facebook-backed group launches misinformation adjudication panel in Australia</a></div><div class=\"news-link-right\"><span style=\"color:#aa6dc0;font-size:9px\"> Reuters</span></div></div></td></tr>\n",
      "<tr><td align=\"right\" width=\"130\">08:52PM  </td><td align=\"left\"><div class=\"news-link-container\"><div class=\"news-link-left\"><a class=\"tab-link-news\" href=\"https://finance.yahoo.com/news/facebook-backed-group-launches-misinformation-005236794.html\" target=\"_blank\">Facebook-backed group launches misinformation adjudication panel in Australia</a></div><div class=\"news-link-right\"><span style=\"color:#aa6dc0;font-size:9px\"> Reuters</span></div></div></td></tr>\n",
      "<tr><td align=\"right\" width=\"130\">03:05AM  </td><td align=\"left\"><div class=\"news-link-container\"><div class=\"news-link-left\"><a class=\"tab-link-news\" href=\"https://finance.yahoo.com/news/tesla-software-ready-sunday-delay-070518819.html\" target=\"_blank\">Tesla Software Update Ready to Go Sunday After Delay, Musk Says</a></div><div class=\"news-link-right\"><span style=\"color:#aa6dc0;font-size:9px\"> Bloomberg</span></div></div></td></tr>\n",
      "<tr><td align=\"right\" style=\"white-space:nowrap\" width=\"130\">Oct-08-21 08:47PM  </td><td align=\"left\"><div class=\"news-link-container\"><div class=\"news-link-left\"><a class=\"tab-link-news\" href=\"https://finance.yahoo.com/news/apple-seeks-delay-ruling-loosening-230855311.html\" target=\"_blank\">Apple Seeks to Delay Ruling Loosening Its Grip on App Store</a></div><div class=\"news-link-right\"><span style=\"color:#aa6dc0;font-size:9px\"> Bloomberg</span></div></div></td></tr>\n",
      "<tr><td align=\"right\" width=\"130\">05:34PM  </td><td align=\"left\"><div class=\"news-link-container\"><div class=\"news-link-left\"><a class=\"tab-link-news\" href=\"https://finance.yahoo.com/news/facebook-instagram-back-normal-following-213412535.html\" target=\"_blank\">Facebook, Instagram Back to Normal Following Another Outage</a></div><div class=\"news-link-right\"><span style=\"color:#aa6dc0;font-size:9px\"> Bloomberg</span></div></div></td></tr>\n",
      "<tr><td align=\"right\" width=\"130\">05:25PM  </td><td align=\"left\"><div class=\"news-link-container\"><div class=\"news-link-left\"><a class=\"tab-link-news\" href=\"https://finance.yahoo.com/news/google-tests-ways-showcase-breaking-212533612.html\" target=\"_blank\">Google Tests Ways to Showcase Breaking News in Twitter-Like Move</a></div><div class=\"news-link-right\"><span style=\"color:#aa6dc0;font-size:9px\"> Bloomberg</span></div></div></td></tr>\n",
      "<tr><td align=\"right\" width=\"130\">02:07PM  </td><td align=\"left\"><div class=\"news-link-container\"><div class=\"news-link-left\"><a class=\"tab-link-news\" href=\"https://finance.yahoo.com/news/whats-going-datchats-stock-today-180704947.html\" target=\"_blank\">What's Going On With DatChat's Stock Today?</a></div><div class=\"news-link-right\"><span style=\"color:#aa6dc0;font-size:9px\"> Benzinga</span></div></div></td></tr>\n",
      "<tr><td align=\"right\" width=\"130\">12:52PM  </td><td align=\"left\"><div class=\"news-link-container\"><div class=\"news-link-left\"><a class=\"tab-link-news\" href=\"https://finance.yahoo.com/news/chile-president-investigated-pandora-revelations-165226437.html\" target=\"_blank\">Chiles President to Be Investigated After Pandora Revelations</a></div><div class=\"news-link-right\"><span style=\"color:#aa6dc0;font-size:9px\"> Bloomberg</span></div></div></td></tr>\n",
      "<tr><td align=\"right\" width=\"130\">12:09PM  </td><td align=\"left\"><div class=\"news-link-container\"><div class=\"news-link-left\"><a class=\"tab-link-news\" href=\"https://finance.yahoo.com/news/twitter-twtr-sell-mobile-ad-160904468.html\" target=\"_blank\">Twitter (TWTR) To Sell Mobile Ad Unit MoPub to AppLovin for $1B</a></div><div class=\"news-link-right\"><span style=\"color:#aa6dc0;font-size:9px\"> Zacks</span></div></div></td></tr>\n",
      "<tr><td align=\"right\" width=\"130\">10:01AM  </td><td align=\"left\"><div class=\"news-link-container\"><div class=\"news-link-left\"><a class=\"tab-link-news\" href=\"https://www.fool.com/investing/2021/10/08/earnings-2-growth-stocks-to-watch-in-october/?source=eptyholnk0000202&amp;utm_source=yahoo-host&amp;utm_medium=feed&amp;utm_campaign=article\" target=\"_blank\">Earnings: 2 Growth Stocks to Watch in October</a></div><div class=\"news-link-right\"><span style=\"color:#aa6dc0;font-size:9px\"> Motley Fool</span></div></div></td></tr>\n",
      "<tr><td align=\"right\" width=\"130\">09:52AM  </td><td align=\"left\"><div class=\"news-link-container\"><div class=\"news-link-left\"><a class=\"tab-link-news\" href=\"https://finance.yahoo.com/news/4-stocks-insiders-selling-135258860.html\" target=\"_blank\">4 Stocks Insiders Are Selling</a></div><div class=\"news-link-right\"><span style=\"color:#aa6dc0;font-size:9px\"> Benzinga</span></div></div></td></tr>\n",
      "<tr><td align=\"right\" width=\"130\">09:31AM  </td><td align=\"left\"><div class=\"news-link-container\"><div class=\"news-link-left\"><a class=\"tab-link-news\" href=\"https://finance.yahoo.com/news/company-news-oct-8-2021-133101445.html\" target=\"_blank\">Company News for Oct 8, 2021</a></div><div class=\"news-link-right\"><span style=\"color:#aa6dc0;font-size:9px\"> Zacks</span></div></div></td></tr>\n",
      "<tr><td align=\"right\" style=\"white-space:nowrap\" width=\"130\">Oct-07-21 09:38PM  </td><td align=\"left\"><div class=\"news-link-container\"><div class=\"news-link-left\"><a class=\"tab-link-news\" href=\"https://finance.yahoo.com/news/puerto-rico-plan-rescue-aid-170657708.html\" target=\"_blank\">Puerto Ricos Plan For Rescue Aid? A New Years Bash</a></div><div class=\"news-link-right\"><span style=\"color:#aa6dc0;font-size:9px\"> Bloomberg</span></div></div></td></tr>\n",
      "<tr><td align=\"right\" width=\"130\">09:00PM  </td><td align=\"left\"><div class=\"news-link-container\"><div class=\"news-link-left\"><a class=\"tab-link-news\" href=\"https://finance.yahoo.com/news/billionaire-peter-thiels-palantir-pops-181900797.html\" target=\"_blank\">Billionaire Peter Thiel's Palantir pops  3 more of his ideas that could surge next</a></div><div class=\"news-link-right\"><span style=\"color:#aa6dc0;font-size:9px\"> MoneyWise</span></div></div></td></tr>\n",
      "<tr><td align=\"right\" width=\"130\">03:44PM  </td><td align=\"left\"><div class=\"news-link-container\"><div class=\"news-link-left\"><a class=\"tab-link-news\" href=\"https://finance.yahoo.com/news/austria-government-peril-bribery-probe-194448629.html\" target=\"_blank\">Austrias Government in Peril as Bribery Probe Engulfs Kurz</a></div><div class=\"news-link-right\"><span style=\"color:#aa6dc0;font-size:9px\"> Bloomberg</span></div></div></td></tr>\n",
      "<tr><td align=\"right\" width=\"130\">11:36AM  </td><td align=\"left\"><div class=\"news-link-container\"><div class=\"news-link-left\"><a class=\"tab-link-news\" href=\"https://finance.yahoo.com/news/the-rise-of-social-trading-how-the-internet-is-changing-investing-153643100.html\" target=\"_blank\">The rise of social trading: How the internet is changing investing</a></div><div class=\"news-link-right\"><span style=\"color:#aa6dc0;font-size:9px\"> Yahoo Finance</span></div></div></td></tr>\n",
      "<tr><td align=\"right\" width=\"130\">11:12AM  </td><td align=\"left\"><div class=\"news-link-container\"><div class=\"news-link-left\"><a class=\"tab-link-news\" href=\"https://finance.yahoo.com/video/hurricane-ida-impact-royal-dutch-151246839.html\" target=\"_blank\">Hurricane Idas impact on Royal Dutch Shell, Safeway CEO testifies in Holmes Trial, Applovin acquires Mopub from Twitter</a></div><div class=\"news-link-right\"><span style=\"color:#aa6dc0;font-size:9px\"> Yahoo Finance Video</span></div></div></td></tr>\n",
      "<tr><td align=\"right\" width=\"130\">11:09AM  </td><td align=\"left\"><div class=\"news-link-container\"><div class=\"news-link-left\"><a class=\"tab-link-news\" href=\"https://finance.yahoo.com/video/social-media-changing-stock-market-150926999.html\" target=\"_blank\">How social media is changing the stock market</a></div><div class=\"news-link-right\"><span style=\"color:#aa6dc0;font-size:9px\"> Yahoo Finance Video</span></div></div></td></tr>\n",
      "<tr><td align=\"right\" width=\"130\">10:41AM  </td><td align=\"left\"><div class=\"news-link-container\"><div class=\"news-link-left\"><a class=\"tab-link-news\" href=\"https://finance.yahoo.com/news/peru-president-replaces-leftist-prime-213345423.html\" target=\"_blank\">Peru Assets Rally as Investors Cheer Moderate Cabinet Picks</a></div><div class=\"news-link-right\"><span style=\"color:#aa6dc0;font-size:9px\"> Bloomberg</span></div></div></td></tr>\n",
      "<tr><td align=\"right\" width=\"130\">08:59AM  </td><td align=\"left\"><div class=\"news-link-container\"><div class=\"news-link-left\"><a class=\"tab-link-news\" href=\"https://finance.yahoo.com/news/twitter-rolls-pre-tweet-warning-125900519.html\" target=\"_blank\">Twitter rolls out pre-tweet warning about entering intense conversations</a></div><div class=\"news-link-right\"><span style=\"color:#aa6dc0;font-size:9px\"> The Independent</span></div></div></td></tr>\n",
      "<tr><td align=\"right\" width=\"130\">07:08AM  </td><td align=\"left\"><div class=\"news-link-container\"><div class=\"news-link-left\"><a class=\"tab-link-news\" href=\"https://finance.yahoo.com/news/zanzibar-author-abdulrazak-gurnah-wins-110827683.html\" target=\"_blank\">Zanzibar Author Abdulrazak Gurnah Wins Nobel Prize in Literature</a></div><div class=\"news-link-right\"><span style=\"color:#aa6dc0;font-size:9px\"> Bloomberg</span></div></div></td></tr>\n",
      "<tr><td align=\"right\" width=\"130\">06:08AM  </td><td align=\"left\"><div class=\"news-link-container\"><div class=\"news-link-left\"><a class=\"tab-link-news\" href=\"https://finance.yahoo.com/news/twitter-gains-1-billion-sale-100809933.html\" target=\"_blank\">Twitter Gains on $1-Billion Sale of Ad Unit MoPub, Affirms  2023 Guidance</a></div><div class=\"news-link-right\"><span style=\"color:#aa6dc0;font-size:9px\"> Investing.com</span></div></div></td></tr>\n",
      "<tr><td align=\"right\" width=\"130\">04:44AM  </td><td align=\"left\"><div class=\"news-link-container\"><div class=\"news-link-left\"><a class=\"tab-link-news\" href=\"https://www.thestreet.com/investing/premarket-movers-thursday-twitter-levistrauss-pfizer-disney-costco?puc=yahoo&amp;cm_ven=YAHOO\" target=\"_blank\">Premarket Movers Thursday - Twitter, Levi Strauss, Pfizer, Costco, Disney</a></div><div class=\"news-link-right\"><span style=\"color:#aa6dc0;font-size:9px\"> TheStreet.com</span></div></div></td></tr>\n",
      "<tr><td align=\"right\" width=\"130\">02:40AM  </td><td align=\"left\"><div class=\"news-link-container\"><div class=\"news-link-left\"><a class=\"tab-link-news\" href=\"https://finance.yahoo.com/news/ecb-said-study-bond-buying-174830154.html\" target=\"_blank\">ECB Said to Study New Bond-Buying Plan for When Crisis Tool Ends</a></div><div class=\"news-link-right\"><span style=\"color:#aa6dc0;font-size:9px\"> Bloomberg</span></div></div></td></tr>\n",
      "<tr><td align=\"right\" width=\"130\">01:37AM  </td><td align=\"left\"><div class=\"news-link-container\"><div class=\"news-link-left\"><a class=\"tab-link-news\" href=\"https://finance.yahoo.com/news/twitter-agrees-sell-mopub-1-053742359.html\" target=\"_blank\">Twitter Agrees to Sell MoPub for $1.05B</a></div><div class=\"news-link-right\"><span style=\"color:#aa6dc0;font-size:9px\"> SmarterAnalyst</span></div></div></td></tr>\n",
      "<tr><td align=\"right\" style=\"white-space:nowrap\" width=\"130\">Oct-06-21 05:44PM  </td><td align=\"left\"><div class=\"news-link-container\"><div class=\"news-link-left\"><a class=\"tab-link-news\" href=\"https://www.investors.com/news/technology/twitter-stock-climbs-on-sale-of-mopub-unit-to-applovin/?src=A00220\" target=\"_blank\">Twitter Sells App Company MoPub To AppLovin For $1.05 Billion</a></div><div class=\"news-link-right\"><span style=\"color:#aa6dc0;font-size:9px\"> Investor's Business Daily</span></div></div></td></tr>\n",
      "<tr><td align=\"right\" width=\"130\">05:31PM  </td><td align=\"left\"><div class=\"news-link-container\"><div class=\"news-link-left\"><a class=\"tab-link-news\" href=\"https://www.bizjournals.com/sanjose/news/2021/10/06/applovin-to-buy-twitter-ad-network-mopub-105b.html?ana=yahoo\" target=\"_blank\">AppLovin to pay $1.05B to buy MoPub, Twitter's mobile ad network</a></div><div class=\"news-link-right\"><span style=\"color:#aa6dc0;font-size:9px\"> American City Business Journals</span></div></div></td></tr>\n",
      "<tr><td align=\"right\" width=\"130\">05:30PM  </td><td align=\"left\"><div class=\"news-link-container\"><div class=\"news-link-left\"><a class=\"tab-link-news\" href=\"https://www.barrons.com/articles/twitter-mopub-applovin-sale-51633555773?siteid=yhoof2\" target=\"_blank\">Twitter Is Doubling Down on Advertising With a $1 Billion Asset Sale</a></div><div class=\"news-link-right\"><span style=\"color:#aa6dc0;font-size:9px\"> Barrons.com</span></div></div></td></tr>\n",
      "<tr><td align=\"right\" width=\"130\">05:00PM  </td><td align=\"left\"><div class=\"news-link-container\"><div class=\"news-link-left\"><a class=\"tab-link-news\" href=\"https://www.marketwatch.com/story/twitter-selling-mopub-mobile-ad-network-to-applovin-for-1-05-billion-11633554029?siteid=yhoof2\" target=\"_blank\">Twitter selling MoPub mobile-ad network to AppLovin for $1.05 billion</a></div><div class=\"news-link-right\"><span style=\"color:#aa6dc0;font-size:9px\"> MarketWatch</span></div></div></td></tr>\n",
      "<tr><td align=\"right\" width=\"130\">04:48PM  </td><td align=\"left\"><div class=\"news-link-container\"><div class=\"news-link-left\"><a class=\"tab-link-news\" href=\"https://finance.yahoo.com/news/twitter-sells-mopub-ad-platform-204855430.html\" target=\"_blank\">Twitter Sells MoPub Ad Platform to AppLovin for $1.05 Billion</a></div><div class=\"news-link-right\"><span style=\"color:#aa6dc0;font-size:9px\"> Bloomberg</span></div></div></td></tr>\n",
      "<tr><td align=\"right\" width=\"130\">04:43PM  </td><td align=\"left\"><div class=\"news-link-container\"><div class=\"news-link-left\"><a class=\"tab-link-news\" href=\"https://finance.yahoo.com/news/twitter-sell-mopub-app-advertising-204309688.html\" target=\"_blank\">Twitter to Sell MoPub In-App Advertising Division for $1.05 Billion</a></div><div class=\"news-link-right\"><span style=\"color:#aa6dc0;font-size:9px\"> Variety</span></div></div></td></tr>\n",
      "<tr><td align=\"right\" width=\"130\">04:29PM  </td><td align=\"left\"><div class=\"news-link-container\"><div class=\"news-link-left\"><a class=\"tab-link-news\" href=\"https://finance.yahoo.com/news/1-twitter-sell-mobile-ads-202900034.html\" target=\"_blank\">UPDATE 3-Twitter to sell mobile ad unit MoPub for $1 bln</a></div><div class=\"news-link-right\"><span style=\"color:#aa6dc0;font-size:9px\"> Reuters</span></div></div></td></tr>\n",
      "<tr><td align=\"right\" width=\"130\">04:21PM  </td><td align=\"left\"><div class=\"news-link-container\"><div class=\"news-link-left\"><a class=\"tab-link-news\" href=\"https://finance.yahoo.com/news/twitter-sell-mopub-applovin-1-202156935.html\" target=\"_blank\">Twitter to sell mobile ad unit MoPub for $1 billion</a></div><div class=\"news-link-right\"><span style=\"color:#aa6dc0;font-size:9px\"> Reuters</span></div></div></td></tr>\n",
      "<tr><td align=\"right\" width=\"130\">04:15PM  </td><td align=\"left\"><div class=\"news-link-container\"><div class=\"news-link-left\"><a class=\"tab-link-news\" href=\"https://finance.yahoo.com/news/twitter-enters-definitive-agreement-sell-201500506.html\" target=\"_blank\">Twitter Enters into Definitive Agreement to Sell MoPub to AppLovin for $1.05 Billion in Cash</a></div><div class=\"news-link-right\"><span style=\"color:#aa6dc0;font-size:9px\"> PR Newswire</span></div></div></td></tr>\n",
      "<tr><td align=\"right\" width=\"130\">02:40PM  </td><td align=\"left\"><div class=\"news-link-container\"><div class=\"news-link-left\"><a class=\"tab-link-news\" href=\"https://finance.yahoo.com/news/tiktok-promises-remove-rumored-slap-184038291.html\" target=\"_blank\">TikTok Promises to Remove Any Rumored Slap a Teacher Content</a></div><div class=\"news-link-right\"><span style=\"color:#aa6dc0;font-size:9px\"> Bloomberg</span></div></div></td></tr>\n",
      "<tr><td align=\"right\" width=\"130\">10:08AM  </td><td align=\"left\"><div class=\"news-link-container\"><div class=\"news-link-left\"><a class=\"tab-link-news\" href=\"https://finance.yahoo.com/news/u-k-inflation-emerges-risk-131346222.html\" target=\"_blank\">Surging U.K. Inflation Is Already a Problem for Johnsons Agenda</a></div><div class=\"news-link-right\"><span style=\"color:#aa6dc0;font-size:9px\"> Bloomberg</span></div></div></td></tr>\n",
      "<tr><td align=\"right\" width=\"130\">08:12AM  </td><td align=\"left\"><div class=\"news-link-container\"><div class=\"news-link-left\"><a class=\"tab-link-news\" href=\"https://finance.yahoo.com/news/sweden-economy-shrinks-much-more-094419530.html\" target=\"_blank\">Swedens Economy Shrinks Much More Than Expected on Exports</a></div><div class=\"news-link-right\"><span style=\"color:#aa6dc0;font-size:9px\"> Bloomberg</span></div></div></td></tr>\n",
      "<tr><td align=\"right\" width=\"130\">01:55AM  </td><td align=\"left\"><div class=\"news-link-container\"><div class=\"news-link-left\"><a class=\"tab-link-news\" href=\"https://finance.yahoo.com/news/snapchat-biggest-winner-day-facebook-055538043.html\" target=\"_blank\">Snapchat Was the Biggest Winner the Day Facebook Went Dark</a></div><div class=\"news-link-right\"><span style=\"color:#aa6dc0;font-size:9px\"> Bloomberg</span></div></div></td></tr>\n",
      "<tr><td align=\"right\" style=\"white-space:nowrap\" width=\"130\">Oct-05-21 07:22PM  </td><td align=\"left\"><div class=\"news-link-container\"><div class=\"news-link-left\"><a class=\"tab-link-news\" href=\"https://finance.yahoo.com/news/millions-flock-signal-facebook-whatsapp-014056278.html\" target=\"_blank\">Millions Flock to Signal and Telegram After Facebook Outage</a></div><div class=\"news-link-right\"><span style=\"color:#aa6dc0;font-size:9px\"> Bloomberg</span></div></div></td></tr>\n",
      "<tr><td align=\"right\" width=\"130\">05:07PM  </td><td align=\"left\"><div class=\"news-link-container\"><div class=\"news-link-left\"><a class=\"tab-link-news\" href=\"https://finance.yahoo.com/news/facebook-outage-felt-acutely-small-210705034.html\" target=\"_blank\">Facebook Outage Is Felt Acutely by Small-Business Owners</a></div><div class=\"news-link-right\"><span style=\"color:#aa6dc0;font-size:9px\"> Bloomberg</span></div></div></td></tr>\n",
      "<tr><td align=\"right\" width=\"130\">01:17PM  </td><td align=\"left\"><div class=\"news-link-container\"><div class=\"news-link-left\"><a class=\"tab-link-news\" href=\"https://finance.yahoo.com/news/read-tim-cook-staff-memo-171738040.html\" target=\"_blank\">Read Tim Cooks Staff Memo on 10th Anniversary of Jobss Death</a></div><div class=\"news-link-right\"><span style=\"color:#aa6dc0;font-size:9px\"> Bloomberg</span></div></div></td></tr>\n",
      "<tr><td align=\"right\" width=\"130\">11:32AM  </td><td align=\"left\"><div class=\"news-link-container\"><div class=\"news-link-left\"><a class=\"tab-link-news\" href=\"https://finance.yahoo.com/news/nintendo-smash-bros-gets-final-153251639.html\" target=\"_blank\">Nintendos Smash Bros. Gets Final Character in Hit Fighter Game</a></div><div class=\"news-link-right\"><span style=\"color:#aa6dc0;font-size:9px\"> Bloomberg</span></div></div></td></tr>\n",
      "<tr><td align=\"right\" width=\"130\">10:43AM  </td><td align=\"left\"><div class=\"news-link-container\"><div class=\"news-link-left\"><a class=\"tab-link-news\" href=\"https://finance.yahoo.com/video/facebook-isnt-tobacco-thats-ridiculous-144306767.html\" target=\"_blank\">Facebook isn't tobacco; that's ridiculous: analyst</a></div><div class=\"news-link-right\"><span style=\"color:#aa6dc0;font-size:9px\"> Yahoo Finance Video</span></div></div></td></tr>\n",
      "<tr><td align=\"right\" width=\"130\">10:29AM  </td><td align=\"left\"><div class=\"news-link-container\"><div class=\"news-link-left\"><a class=\"tab-link-news\" href=\"https://finance.yahoo.com/video/facebook-whistleblower-testifies-congress-outage-142939177.html\" target=\"_blank\">Facebook whistleblower testifies before Congress, outage affects billions worldwide</a></div><div class=\"news-link-right\"><span style=\"color:#aa6dc0;font-size:9px\"> Yahoo Finance Video</span></div></div></td></tr>\n",
      "<tr><td align=\"right\" width=\"130\">10:01AM  </td><td align=\"left\"><div class=\"news-link-container\"><div class=\"news-link-left\"><a class=\"tab-link-news\" href=\"https://finance.yahoo.com/news/mark-zuckerberg-had-terrible-week-140114064.html\" target=\"_blank\">Mark Zuckerberg Has Had a Terrible Week. And Its Only Tuesday</a></div><div class=\"news-link-right\"><span style=\"color:#aa6dc0;font-size:9px\"> Bloomberg</span></div></div></td></tr>\n",
      "<tr><td align=\"right\" width=\"130\">07:07AM  </td><td align=\"left\"><div class=\"news-link-container\"><div class=\"news-link-left\"><a class=\"tab-link-news\" href=\"https://finance.yahoo.com/news/twitter-nyse-twtr-improves-selection-110703798.html\" target=\"_blank\">If Twitter (NYSE:TWTR) Improves the Selection Effect, it has a Potential to be a Multi-Bagger</a></div><div class=\"news-link-right\"><span style=\"color:#aa6dc0;font-size:9px\"> Simply Wall St.</span></div></div></td></tr>\n",
      "<tr><td align=\"right\" width=\"130\">05:26AM  </td><td align=\"left\"><div class=\"news-link-container\"><div class=\"news-link-left\"><a class=\"tab-link-news\" href=\"https://finance.yahoo.com/news/suzuki-touts-japan-capitalism-sounds-080917416.html\" target=\"_blank\">Japan Touts New Capitalism But New Finance Chief Sounds The Same</a></div><div class=\"news-link-right\"><span style=\"color:#aa6dc0;font-size:9px\"> Bloomberg</span></div></div></td></tr>\n",
      "<tr><td align=\"right\" width=\"130\">04:37AM  </td><td align=\"left\"><div class=\"news-link-container\"><div class=\"news-link-left\"><a class=\"tab-link-news\" href=\"https://finance.yahoo.com/news/facebook-says-triggered-massive-outage-025514846.html\" target=\"_blank\">Heres What Facebook Says Triggered the Massive Outage on Its Apps</a></div><div class=\"news-link-right\"><span style=\"color:#aa6dc0;font-size:9px\"> Bloomberg</span></div></div></td></tr>\n",
      "<tr><td align=\"right\" width=\"130\">04:02AM  </td><td align=\"left\"><div class=\"news-link-container\"><div class=\"news-link-left\"><a class=\"tab-link-news\" href=\"https://finance.yahoo.com/news/facebook-outage-happened-blame-happen-080246768.html\" target=\"_blank\">Facebook outage: What happened, who is to blame and will it happen again?</a></div><div class=\"news-link-right\"><span style=\"color:#aa6dc0;font-size:9px\"> The Telegraph</span></div></div></td></tr>\n",
      "<tr><td align=\"right\" style=\"white-space:nowrap\" width=\"130\">Oct-04-21 06:54PM  </td><td align=\"left\"><div class=\"news-link-container\"><div class=\"news-link-left\"><a class=\"tab-link-news\" href=\"https://finance.yahoo.com/news/facebook-users-around-world-report-164831493.html\" target=\"_blank\">Facebook Begins Recovery After Major Outage Shut Down Apps</a></div><div class=\"news-link-right\"><span style=\"color:#aa6dc0;font-size:9px\"> Bloomberg</span> <span class=\"body-table-news-loss\">-5.79%</span></div></div></td></tr>\n",
      "<tr><td align=\"right\" width=\"130\">02:11PM  </td><td align=\"left\"><div class=\"news-link-container\"><div class=\"news-link-left\"><a class=\"tab-link-news\" href=\"https://finance.yahoo.com/news/facebook-blackout-sends-users-flocking-175729022.html\" target=\"_blank\">Facebook blackout sends users flocking to Twitter: Hello literally everyone</a></div><div class=\"news-link-right\"><span style=\"color:#aa6dc0;font-size:9px\"> The Independent</span></div></div></td></tr>\n",
      "<tr><td align=\"right\" width=\"130\">01:31PM  </td><td align=\"left\"><div class=\"news-link-container\"><div class=\"news-link-left\"><a class=\"tab-link-news\" href=\"https://finance.yahoo.com/news/why-twitter-shares-falling-173105875.html\" target=\"_blank\">Why Twitter Shares Are Falling</a></div><div class=\"news-link-right\"><span style=\"color:#aa6dc0;font-size:9px\"> Benzinga</span></div></div></td></tr>\n",
      "<tr><td align=\"right\" width=\"130\">05:30AM  </td><td align=\"left\"><div class=\"news-link-container\"><div class=\"news-link-left\"><a class=\"tab-link-news\" href=\"https://finance.yahoo.com/news/three-day-week-one-startup-093000327.html\" target=\"_blank\">A Three-Day Work Week? One Startup Experiments to Draw Talent</a></div><div class=\"news-link-right\"><span style=\"color:#aa6dc0;font-size:9px\"> Bloomberg</span></div></div></td></tr>\n",
      "<tr><td align=\"right\" style=\"white-space:nowrap\" width=\"130\">Oct-03-21 10:00AM  </td><td align=\"left\"><div class=\"news-link-container\"><div class=\"news-link-left\"><a class=\"tab-link-news\" href=\"https://www.fool.com/the-ascent/cryptocurrency/articles/does-twitter-ceo-jack-dorsey-hate-ethereum/?source=eptyholnk0000202&amp;utm_source=yahoo-host&amp;utm_medium=feed&amp;utm_campaign=article\" target=\"_blank\">Does Twitter CEO Jack Dorsey Hate Ethereum?</a></div><div class=\"news-link-right\"><span style=\"color:#aa6dc0;font-size:9px\"> Motley Fool</span></div></div></td></tr>\n",
      "<tr><td align=\"right\" width=\"130\">07:23AM  </td><td align=\"left\"><div class=\"news-link-container\"><div class=\"news-link-left\"><a class=\"tab-link-news\" href=\"https://finance.yahoo.com/news/uae-oman-alert-cyclone-shaheen-052315292.html\" target=\"_blank\">UAE on High Alert, Oman Suspends Flights as Cyclone Nears</a></div><div class=\"news-link-right\"><span style=\"color:#aa6dc0;font-size:9px\"> Bloomberg</span></div></div></td></tr>\n",
      "<tr><td align=\"right\" style=\"white-space:nowrap\" width=\"130\">Oct-02-21 10:22AM  </td><td align=\"left\"><div class=\"news-link-container\"><div class=\"news-link-left\"><a class=\"tab-link-news\" href=\"https://finance.yahoo.com/news/u-k-government-clears-army-210000443.html\" target=\"_blank\">U.K. Fuel Shortages Ease but Situation Worsens Around London</a></div><div class=\"news-link-right\"><span style=\"color:#aa6dc0;font-size:9px\"> Bloomberg</span></div></div></td></tr>\n",
      "<tr><td align=\"right\" width=\"130\">03:10AM  </td><td align=\"left\"><div class=\"news-link-container\"><div class=\"news-link-left\"><a class=\"tab-link-news\" href=\"https://finance.yahoo.com/news/1-trump-asks-florida-judge-071022900.html\" target=\"_blank\">UPDATE 2-Trump asks U.S. judge to force Twitter to restart his account</a></div><div class=\"news-link-right\"><span style=\"color:#aa6dc0;font-size:9px\"> Reuters</span></div></div></td></tr>\n",
      "<tr><td align=\"right\" style=\"white-space:nowrap\" width=\"130\">Oct-01-21 11:58PM  </td><td align=\"left\"><div class=\"news-link-container\"><div class=\"news-link-left\"><a class=\"tab-link-news\" href=\"https://finance.yahoo.com/news/trump-asks-florida-judge-force-035845406.html\" target=\"_blank\">Trump asks U.S. judge to force Twitter to restart his account</a></div><div class=\"news-link-right\"><span style=\"color:#aa6dc0;font-size:9px\"> Reuters</span></div></div></td></tr>\n",
      "<tr><td align=\"right\" width=\"130\">11:37PM  </td><td align=\"left\"><div class=\"news-link-container\"><div class=\"news-link-left\"><a class=\"tab-link-news\" href=\"https://finance.yahoo.com/news/trump-asks-florida-judge-force-033734327.html\" target=\"_blank\">Trump asks Florida judge to force Twitter to restart his account - Bloomberg News</a></div><div class=\"news-link-right\"><span style=\"color:#aa6dc0;font-size:9px\"> Reuters</span></div></div></td></tr>\n",
      "<tr><td align=\"right\" width=\"130\">05:27PM  </td><td align=\"left\"><div class=\"news-link-container\"><div class=\"news-link-left\"><a class=\"tab-link-news\" href=\"https://www.fool.com/investing/2021/10/01/why-twitter-stock-fell-sharply-this-week/?source=eptyholnk0000202&amp;utm_source=yahoo-host&amp;utm_medium=feed&amp;utm_campaign=article\" target=\"_blank\">Why Twitter Stock Fell Sharply This Week</a></div><div class=\"news-link-right\"><span style=\"color:#aa6dc0;font-size:9px\"> Motley Fool</span></div></div></td></tr>\n",
      "<tr><td align=\"right\" width=\"130\">12:43PM  </td><td align=\"left\"><div class=\"news-link-container\"><div class=\"news-link-left\"><a class=\"tab-link-news\" href=\"https://www.investors.com/research/twitter-stock-buy-now-branch-2/?src=A00220\" target=\"_blank\">Is Twitter Stock A Buy Right Now? Here's What Earnings, Charts Show</a></div><div class=\"news-link-right\"><span style=\"color:#aa6dc0;font-size:9px\"> Investor's Business Daily</span></div></div></td></tr>\n",
      "<tr><td align=\"right\" style=\"white-space:nowrap\" width=\"130\">Sep-30-21 11:23AM  </td><td align=\"left\"><div class=\"news-link-container\"><div class=\"news-link-left\"><a class=\"tab-link-news\" href=\"https://finance.yahoo.com/video/securitize-providing-platform-investors-access-152326656.html\" target=\"_blank\">How Securitize is providing a platform for investors to access private markets</a></div><div class=\"news-link-right\"><span style=\"color:#aa6dc0;font-size:9px\"> Yahoo Finance Video</span></div></div></td></tr>\n",
      "<tr><td align=\"right\" style=\"white-space:nowrap\" width=\"130\">Sep-29-21 01:04PM  </td><td align=\"left\"><div class=\"news-link-container\"><div class=\"news-link-left\"><a class=\"tab-link-news\" href=\"https://finance.yahoo.com/news/u-k-soldiers-deployed-days-100450992.html\" target=\"_blank\">U.K. Oil Firms Say Fuel Crisis Easing as Government Steps In</a></div><div class=\"news-link-right\"><span style=\"color:#aa6dc0;font-size:9px\"> Bloomberg</span></div></div></td></tr>\n",
      "<tr><td align=\"right\" width=\"130\">12:02PM  </td><td align=\"left\"><div class=\"news-link-container\"><div class=\"news-link-left\"><a class=\"tab-link-news\" href=\"https://finance.yahoo.com/video/la-palma-volcano-lava-reaches-160204308.html\" target=\"_blank\">La Palma volcano lava reaches Atlantic Ocean, Japan's new Prime Minister, Hong Kong tightens anti-doxxing law</a></div><div class=\"news-link-right\"><span style=\"color:#aa6dc0;font-size:9px\"> Yahoo Finance Video</span></div></div></td></tr>\n",
      "<tr><td align=\"right\" width=\"130\">09:00AM  </td><td align=\"left\"><div class=\"news-link-container\"><div class=\"news-link-left\"><a class=\"tab-link-news\" href=\"https://finance.yahoo.com/news/youtube-remove-videos-misinformation-vaccine-130000490.html\" target=\"_blank\">YouTube Will Remove Videos With Misinformation About Any Vaccine</a></div><div class=\"news-link-right\"><span style=\"color:#aa6dc0;font-size:9px\"> Bloomberg</span></div></div></td></tr>\n",
      "<tr><td align=\"right\" width=\"130\">07:07AM  </td><td align=\"left\"><div class=\"news-link-container\"><div class=\"news-link-left\"><a class=\"tab-link-news\" href=\"https://finance.yahoo.com/news/rave-james-bond-reviews-raise-110742055.html\" target=\"_blank\">Rave James Bond Reviews Raise Hopes for Moviegoing Revival</a></div><div class=\"news-link-right\"><span style=\"color:#aa6dc0;font-size:9px\"> Bloomberg</span></div></div></td></tr>\n",
      "<tr><td align=\"right\" width=\"130\">07:05AM  </td><td align=\"left\"><div class=\"news-link-container\"><div class=\"news-link-left\"><a class=\"tab-link-news\" href=\"https://finance.yahoo.com/news/hong-kong-passes-tougher-anti-110559815.html\" target=\"_blank\">Hong Kong Passes Tougher Anti-Doxxing Bill That Spooked Big Tech</a></div><div class=\"news-link-right\"><span style=\"color:#aa6dc0;font-size:9px\"> Bloomberg</span></div></div></td></tr>\n",
      "<tr><td align=\"right\" style=\"white-space:nowrap\" width=\"130\">Sep-28-21 10:54AM  </td><td align=\"left\"><div class=\"news-link-container\"><div class=\"news-link-left\"><a class=\"tab-link-news\" href=\"https://finance.yahoo.com/news/why-twitter-shares-falling-145445107.html\" target=\"_blank\">Why Twitter Shares Are Falling</a></div><div class=\"news-link-right\"><span style=\"color:#aa6dc0;font-size:9px\"> Benzinga</span></div></div></td></tr>\n",
      "<tr><td align=\"right\" style=\"white-space:nowrap\" width=\"130\">Sep-25-21 11:23AM  </td><td align=\"left\"><div class=\"news-link-container\"><div class=\"news-link-left\"><a class=\"tab-link-news\" href=\"https://finance.yahoo.com/news/u-move-end-huawei-saga-095244466.html\" target=\"_blank\">U.S. Move to End Huawei Saga Helps China Ties - at a Cost</a></div><div class=\"news-link-right\"><span style=\"color:#aa6dc0;font-size:9px\"> Bloomberg</span></div></div></td></tr>\n",
      "<tr><td align=\"right\" style=\"white-space:nowrap\" width=\"130\">Sep-24-21 08:26PM  </td><td align=\"left\"><div class=\"news-link-container\"><div class=\"news-link-left\"><a class=\"tab-link-news\" href=\"https://finance.yahoo.com/news/huawei-meng-gets-deal-breakthrough-172434462.html\" target=\"_blank\">Huawei CFO Meng Wanzhou Leaves Canada on a Flight to China</a></div><div class=\"news-link-right\"><span style=\"color:#aa6dc0;font-size:9px\"> Bloomberg</span></div></div></td></tr>\n",
      "<tr><td align=\"right\" width=\"130\">11:32AM  </td><td align=\"left\"><div class=\"news-link-container\"><div class=\"news-link-left\"><a class=\"tab-link-news\" href=\"https://www.fool.com/the-ascent/cryptocurrency/articles/twitters-bitcoin-tipping-feature-could-be-a-fatal-disrupter-to-entire-wire-transfer-industry/?source=eptyholnk0000202&amp;utm_source=yahoo-host&amp;utm_medium=feed&amp;utm_campaign=article\" target=\"_blank\">Twitter's Bitcoin Tipping Feature Could Be a Fatal Disrupter to Entire Wire Transfer Industry</a></div><div class=\"news-link-right\"><span style=\"color:#aa6dc0;font-size:9px\"> Motley Fool</span></div></div></td></tr>\n",
      "<tr><td align=\"right\" width=\"130\">11:19AM  </td><td align=\"left\"><div class=\"news-link-container\"><div class=\"news-link-left\"><a class=\"tab-link-news\" href=\"https://finance.yahoo.com/video/iac-push-acquire-meredith-boppy-151942694.html\" target=\"_blank\">IACs push to acquire Meredith, Boppy baby pillow recall, Twitter enables Bitcoin tips</a></div><div class=\"news-link-right\"><span style=\"color:#aa6dc0;font-size:9px\"> Yahoo Finance Video</span></div></div></td></tr>\n",
      "<tr><td align=\"right\" width=\"130\">11:09AM  </td><td align=\"left\"><div class=\"news-link-container\"><div class=\"news-link-left\"><a class=\"tab-link-news\" href=\"https://finance.yahoo.com/news/twitter-twtr-enables-bitcoin-tipping-150903508.html\" target=\"_blank\">Twitter (TWTR) Enables Bitcoin Tipping, Safety Features &amp; More</a></div><div class=\"news-link-right\"><span style=\"color:#aa6dc0;font-size:9px\"> Zacks</span></div></div></td></tr>\n",
      "<tr><td align=\"right\" width=\"130\">06:24AM  </td><td align=\"left\"><div class=\"news-link-container\"><div class=\"news-link-left\"><a class=\"tab-link-news\" href=\"https://www.fool.com/the-ascent/cryptocurrency/articles/everything-investors-need-to-know-about-twitters-bitcoin-tipping/?source=eptyholnk0000202&amp;utm_source=yahoo-host&amp;utm_medium=feed&amp;utm_campaign=article\" target=\"_blank\">Everything Investors Need to Know About Twitter's Bitcoin Tipping</a></div><div class=\"news-link-right\"><span style=\"color:#aa6dc0;font-size:9px\"> Motley Fool</span></div></div></td></tr>\n",
      "<tr><td align=\"right\" width=\"130\">06:17AM  </td><td align=\"left\"><div class=\"news-link-container\"><div class=\"news-link-left\"><a class=\"tab-link-news\" href=\"https://finance.yahoo.com/news/bitcoin-ticks-up-as-twitter-embraces-the-crypto-101724624.html\" target=\"_blank\">Bitcoin falls as China declares all crypto transactions illegal</a></div><div class=\"news-link-right\"><span style=\"color:#aa6dc0;font-size:9px\"> Yahoo Finance UK</span></div></div></td></tr>\n",
      "<tr><td align=\"right\" style=\"white-space:nowrap\" width=\"130\">Sep-23-21 07:35PM  </td><td align=\"left\"><div class=\"news-link-container\"><div class=\"news-link-left\"><a class=\"tab-link-news\" href=\"https://finance.yahoo.com/news/1-twitter-rolls-bitcoin-tipping-233515474.html\" target=\"_blank\">UPDATE 1-Twitter rolls out bitcoin tipping, safety features in product push</a></div><div class=\"news-link-right\"><span style=\"color:#aa6dc0;font-size:9px\"> Reuters</span></div></div></td></tr>\n",
      "<tr><td align=\"right\" width=\"130\">06:29PM  </td><td align=\"left\"><div class=\"news-link-container\"><div class=\"news-link-left\"><a class=\"tab-link-news\" href=\"https://finance.yahoo.com/news/twitter-readies-bitcoin-payments-explores-222907941.html\" target=\"_blank\">Twitter Readies Bitcoin Payments, Explores NFTs</a></div><div class=\"news-link-right\"><span style=\"color:#aa6dc0;font-size:9px\"> FX Empire</span></div></div></td></tr>\n",
      "<tr><td align=\"right\" width=\"130\">03:52PM  </td><td align=\"left\"><div class=\"news-link-container\"><div class=\"news-link-left\"><a class=\"tab-link-news\" href=\"https://www.fool.com/investing/2021/09/23/why-dogecoin-ethereum-and-bitcoin-popped-today/?source=eptyholnk0000202&amp;utm_source=yahoo-host&amp;utm_medium=feed&amp;utm_campaign=article\" target=\"_blank\">Why Dogecoin, Ethereum, and Bitcoin Popped Today</a></div><div class=\"news-link-right\"><span style=\"color:#aa6dc0;font-size:9px\"> Motley Fool</span></div></div></td></tr>\n",
      "<tr><td align=\"right\" width=\"130\">03:13PM  </td><td align=\"left\"><div class=\"news-link-container\"><div class=\"news-link-left\"><a class=\"tab-link-news\" href=\"https://www.marketwatch.com/story/why-the-debut-of-tipping-bitcoin-on-twitter-isnt-just-about-tipping-11632424386?siteid=yhoof2\" target=\"_blank\">Why the debut of tipping bitcoin on Twitter isnt just about tipping</a></div><div class=\"news-link-right\"><span style=\"color:#aa6dc0;font-size:9px\"> MarketWatch</span></div></div></td></tr>\n",
      "<tr><td align=\"right\" width=\"130\">02:35PM  </td><td align=\"left\"><div class=\"news-link-container\"><div class=\"news-link-left\"><a class=\"tab-link-news\" href=\"https://www.barrons.com/articles/twitter-tipping-creators-monetization-51632422047?siteid=yhoof2\" target=\"_blank\">Twitter Will Now Let People Pay You for Your Tweets</a></div><div class=\"news-link-right\"><span style=\"color:#aa6dc0;font-size:9px\"> Barrons.com</span></div></div></td></tr>\n",
      "<tr><td align=\"right\" width=\"130\">02:29PM  </td><td align=\"left\"><div class=\"news-link-container\"><div class=\"news-link-left\"><a class=\"tab-link-news\" href=\"https://www.marketwatch.com/story/tip-your-top-tweeter-with-bitcoin-starting-soon-11632421783?siteid=yhoof2\" target=\"_blank\">Tip your top tweeter with bitcoin, starting soon</a></div><div class=\"news-link-right\"><span style=\"color:#aa6dc0;font-size:9px\"> MarketWatch</span></div></div></td></tr>\n",
      "<tr><td align=\"right\" width=\"130\">02:24PM  </td><td align=\"left\"><div class=\"news-link-container\"><div class=\"news-link-left\"><a class=\"tab-link-news\" href=\"https://www.investors.com/research/twitter-stock-buy-now/?src=A00220\" target=\"_blank\">Is Twitter Stock A Buy Right Now? Here's What Earnings, Charts Show</a></div><div class=\"news-link-right\"><span style=\"color:#aa6dc0;font-size:9px\"> Investor's Business Daily</span></div></div></td></tr>\n",
      "<tr><td align=\"right\" width=\"130\">01:24PM  </td><td align=\"left\"><div class=\"news-link-container\"><div class=\"news-link-left\"><a class=\"tab-link-news\" href=\"https://finance.yahoo.com/news/fauci-envisons-three-dose-regimen-214427645.html\" target=\"_blank\">N.Y. Readies for Worker Shortage; Singapore Record: Virus Update</a></div><div class=\"news-link-right\"><span style=\"color:#aa6dc0;font-size:9px\"> Bloomberg</span></div></div></td></tr>\n",
      "<tr><td align=\"right\" width=\"130\">01:03PM  </td><td align=\"left\"><div class=\"news-link-container\"><div class=\"news-link-left\"><a class=\"tab-link-news\" href=\"https://finance.yahoo.com/news/twitter-rolls-bitcoin-tipping-safety-170300459.html\" target=\"_blank\">Twitter rolls out bitcoin tipping, safety features in product push</a></div><div class=\"news-link-right\"><span style=\"color:#aa6dc0;font-size:9px\"> Reuters</span></div></div></td></tr>\n",
      "<tr><td align=\"right\" width=\"130\">01:00PM  </td><td align=\"left\"><div class=\"news-link-container\"><div class=\"news-link-left\"><a class=\"tab-link-news\" href=\"https://finance.yahoo.com/news/twitter-adding-bitcoin-payments-app-170040173.html\" target=\"_blank\">Twitter is adding Bitcoin payments to its app to send another user crypto</a></div><div class=\"news-link-right\"><span style=\"color:#aa6dc0;font-size:9px\"> The Independent</span></div></div></td></tr>\n",
      "<tr><td align=\"right\" width=\"130\">01:00PM  </td><td align=\"left\"><div class=\"news-link-container\"><div class=\"news-link-left\"><a class=\"tab-link-news\" href=\"https://finance.yahoo.com/news/twitter-rolls-tips-feature-globally-170000903.html\" target=\"_blank\">Twitter rolls out tips feature globally and adds support for Bitcoin</a></div><div class=\"news-link-right\"><span style=\"color:#aa6dc0;font-size:9px\"> The Independent</span></div></div></td></tr>\n",
      "<tr><td align=\"right\" width=\"130\">01:00PM  </td><td align=\"left\"><div class=\"news-link-container\"><div class=\"news-link-left\"><a class=\"tab-link-news\" href=\"https://finance.yahoo.com/news/twitter-rolls-bitcoin-tipping-safety-170000879.html\" target=\"_blank\">Twitter rolls out bitcoin tipping, safety features in product push</a></div><div class=\"news-link-right\"><span style=\"color:#aa6dc0;font-size:9px\"> Reuters</span></div></div></td></tr>\n",
      "<tr><td align=\"right\" width=\"130\">01:00PM  </td><td align=\"left\"><div class=\"news-link-container\"><div class=\"news-link-left\"><a class=\"tab-link-news\" href=\"https://finance.yahoo.com/news/twitter-adds-bitcoin-tipping-pushes-170000004.html\" target=\"_blank\">Twitter Adds Bitcoin Tipping, Pushes Further Into NFTs</a></div><div class=\"news-link-right\"><span style=\"color:#aa6dc0;font-size:9px\"> Bloomberg</span></div></div></td></tr>\n",
      "<tr><td align=\"right\" style=\"white-space:nowrap\" width=\"130\">Sep-22-21 06:01PM  </td><td align=\"left\"><div class=\"news-link-container\"><div class=\"news-link-left\"><a class=\"tab-link-news\" href=\"https://finance.yahoo.com/news/eu-warned-green-label-gas-220100342.html\" target=\"_blank\">EU Is Warned Green Label for Gas Would Be Disastrous Mistake</a></div><div class=\"news-link-right\"><span style=\"color:#aa6dc0;font-size:9px\"> Bloomberg</span></div></div></td></tr>\n",
      "<tr><td align=\"right\" width=\"130\">01:36PM  </td><td align=\"left\"><div class=\"news-link-container\"><div class=\"news-link-left\"><a class=\"tab-link-news\" href=\"https://finance.yahoo.com/news/apple-bans-fortnite-until-appeals-164701095.html\" target=\"_blank\">Apple Bans Fortnite Until Appeals Are Exhausted in Lawsuit</a></div><div class=\"news-link-right\"><span style=\"color:#aa6dc0;font-size:9px\"> Bloomberg</span></div></div></td></tr>\n",
      "<tr><td align=\"right\" width=\"130\">08:40AM  </td><td align=\"left\"><div class=\"news-link-container\"><div class=\"news-link-left\"><a class=\"tab-link-news\" href=\"https://finance.yahoo.com/news/ecb-weigh-raising-qe-covid-072527887.html\" target=\"_blank\">ECB to Weigh QE Boost When Covid Bond Buys End, Muller Says</a></div><div class=\"news-link-right\"><span style=\"color:#aa6dc0;font-size:9px\"> Bloomberg</span></div></div></td></tr>\n",
      "<tr><td align=\"right\" style=\"white-space:nowrap\" width=\"130\">Sep-21-21 10:04PM  </td><td align=\"left\"><div class=\"news-link-container\"><div class=\"news-link-left\"><a class=\"tab-link-news\" href=\"https://finance.yahoo.com/news/hedge-funds-dumping-twitter-inc-020457780.html\" target=\"_blank\">Hedge Funds Are Dumping Twitter Inc (TWTR)</a></div><div class=\"news-link-right\"><span style=\"color:#aa6dc0;font-size:9px\"> Insider Monkey</span></div></div></td></tr>\n",
      "<tr><td align=\"right\" width=\"130\">04:00AM  </td><td align=\"left\"><div class=\"news-link-container\"><div class=\"news-link-left\"><a class=\"tab-link-news\" href=\"https://finance.yahoo.com/news/googlers-protest-removal-russian-app-080000894.html\" target=\"_blank\">Google Worker Unrest Rises After Removal of Russia Voting App</a></div><div class=\"news-link-right\"><span style=\"color:#aa6dc0;font-size:9px\"> Bloomberg</span></div></div></td></tr>\n",
      "<tr><td align=\"right\" style=\"white-space:nowrap\" width=\"130\">Sep-20-21 04:36PM  </td><td align=\"left\"><div class=\"news-link-container\"><div class=\"news-link-left\"><a class=\"tab-link-news\" href=\"https://finance.yahoo.com/news/facebook-alphabet-poised-bigger-fines-203629027.html\" target=\"_blank\">Facebook, Alphabet Poised for Bigger Fines Over Russia Content</a></div><div class=\"news-link-right\"><span style=\"color:#aa6dc0;font-size:9px\"> Bloomberg</span></div></div></td></tr>\n",
      "<tr><td align=\"right\" width=\"130\">03:04PM  </td><td align=\"left\"><div class=\"news-link-container\"><div class=\"news-link-left\"><a class=\"tab-link-news\" href=\"https://www.barrons.com/articles/twitter-stock-settlement-51632164601?siteid=yhoof2\" target=\"_blank\">Twitter to Pay $810 Million to Settle Lawsuit</a></div><div class=\"news-link-right\"><span style=\"color:#aa6dc0;font-size:9px\"> Barrons.com</span></div></div></td></tr>\n",
      "<tr><td align=\"right\" width=\"130\">01:53PM  </td><td align=\"left\"><div class=\"news-link-container\"><div class=\"news-link-left\"><a class=\"tab-link-news\" href=\"https://finance.yahoo.com/news/twitter-nyse-twtr-pretty-healthy-175349174.html\" target=\"_blank\">Twitter (NYSE:TWTR) Has A Pretty Healthy Balance Sheet</a></div><div class=\"news-link-right\"><span style=\"color:#aa6dc0;font-size:9px\"> Simply Wall St.</span></div></div></td></tr>\n",
      "<tr><td align=\"right\" width=\"130\">11:30AM  </td><td align=\"left\"><div class=\"news-link-container\"><div class=\"news-link-left\"><a class=\"tab-link-news\" href=\"https://finance.yahoo.com/news/why-twitter-stock-under-pressure-153041763.html\" target=\"_blank\">Why Twitter Stock Is Under Pressure Today</a></div><div class=\"news-link-right\"><span style=\"color:#aa6dc0;font-size:9px\"> FX Empire</span></div></div></td></tr>\n",
      "<tr><td align=\"right\" width=\"130\">10:35AM  </td><td align=\"left\"><div class=\"news-link-container\"><div class=\"news-link-left\"><a class=\"tab-link-news\" href=\"https://finance.yahoo.com/news/twitter-810-million-settlement-shareholder-143553829.html\" target=\"_blank\">Twitter in $810 Million Settlement of Shareholder Suit on Growth</a></div><div class=\"news-link-right\"><span style=\"color:#aa6dc0;font-size:9px\"> Bloomberg</span></div></div></td></tr>\n",
      "<tr><td align=\"right\" width=\"130\">09:44AM  </td><td align=\"left\"><div class=\"news-link-container\"><div class=\"news-link-left\"><a class=\"tab-link-news\" href=\"https://finance.yahoo.com/news/1-twitter-seeks-settle-2016-134403813.html\" target=\"_blank\">UPDATE 2-Twitter seeks to settle 2016 class action lawsuit for $800 mln</a></div><div class=\"news-link-right\"><span style=\"color:#aa6dc0;font-size:9px\"> Reuters</span></div></div></td></tr>\n",
      "<tr><td align=\"right\" width=\"130\">09:32AM  </td><td align=\"left\"><div class=\"news-link-container\"><div class=\"news-link-left\"><a class=\"tab-link-news\" href=\"https://www.marketwatch.com/story/twitter-to-pay-800-million-in-class-action-settlement-2021-09-20?siteid=yhoof2\" target=\"_blank\">Twitter to pay $800 million in class-action settlement</a></div><div class=\"news-link-right\"><span style=\"color:#aa6dc0;font-size:9px\"> MarketWatch</span></div></div></td></tr>\n",
      "</table>}\n"
     ]
    }
   ],
   "source": [
    "for company in Companies:\n",
    "    url = finviz_url + company # so it's going to loop first and get the company and url and then page and then comments from people after it will go back and take another company like GOOG\n",
    "    req = Request(url=url, headers={'user-agent':'my-app'}) # Specify headers or else access will be denied\n",
    "    response = urlopen(req)\n",
    "    soup = BeautifulSoup(response,features='html.parser')\n",
    "    news_table = soup.find(id='news-table')\n",
    "    news_tables.update({company:news_table})\n",
    "\n",
    "\n",
    "print(news_tables)\n"
   ]
  },
  {
   "cell_type": "code",
   "execution_count": 43,
   "metadata": {},
   "outputs": [
    {
     "name": "stdout",
     "output_type": "stream",
     "text": [
      "[['AMZN', 'Oct-10-21', '10:30AM\\xa0\\xa0', \"Could Robotics Be Amazon's Next Big Growth Driver?\"], ['AMZN', 'Oct-10-21', '09:45AM\\xa0\\xa0', '3 Brick-and-Mortar Stores That Can Thrive in an Age of E-Commerce'], ['AMZN', 'Oct-09-21', '11:33AM\\xa0\\xa0', '3 Investors Compare the Market Crash of 2020 With the Market Crash of 2008'], ['AMZN', 'Oct-09-21', '11:00AM\\xa0\\xa0', 'Why The Holiday Season Could Be Better Than You Think'], ['AMZN', 'Oct-09-21', '10:52AM\\xa0\\xa0', '10 Stocks Better than Walmart (WMT) According to Hedge Funds'], ['AMZN', 'Oct-09-21', '07:00AM\\xa0\\xa0', 'How much should grocery delivery really cost?'], ['AMZN', 'Oct-09-21', '06:35AM\\xa0\\xa0', '2 Artificial Intelligence Stocks You Can Buy and Hold for the Next Decade'], ['AMZN', 'Oct-08-21', '08:49PM\\xa0\\xa0', \"'Now every week there's news of another big project' in Bellevue\"], ['AMZN', 'Oct-08-21', '08:19PM\\xa0\\xa0', \"Kraken CEO Tod Leiweke predicts business 'renaissance' as Seattle emerges from pandemic\"], ['AMZN', 'Oct-08-21', '03:12PM\\xa0\\xa0', 'Bass, Berry & Sims law firm to relocate headquarters to Nashville Yards'], ['AMZN', 'Oct-08-21', '01:48PM\\xa0\\xa0', 'This nearly $40 billion tech company has unleashed a secret weapon to attract workers'], ['AMZN', 'Oct-08-21', '01:39PM\\xa0\\xa0', 'Why These Investors Just Bought Amazon Stock And Call Options'], ['AMZN', 'Oct-08-21', '12:59PM\\xa0\\xa0', \"Nashville down to three billionaires on Forbes' annual list of the 400 richest people in America\"], ['AMZN', 'Oct-08-21', '12:40PM\\xa0\\xa0', 'Worm Capital: Amazon (AMZN)s Value-Creation Becomes Obvious in Hindsight'], ['AMZN', 'Oct-08-21', '11:14AM\\xa0\\xa0', 'How MongoDB Beat Amazon'], ['AMZN', 'Oct-08-21', '11:03AM\\xa0\\xa0', 'XPO Names CIO Harik to Run LTL Business'], ['AMZN', 'Oct-08-21', '09:39AM\\xa0\\xa0', 'The return of JEDI: Why the sequel to militarys cloud contract could cost much more than the $10 billion original'], ['AMZN', 'Oct-08-21', '09:23AM\\xa0\\xa0', '1 Stock to Avoid No Matter What'], ['AMZN', 'Oct-08-21', '09:05AM\\xa0\\xa0', 'Microsoft Windows 11: What Investors Need to Know'], ['AMZN', 'Oct-08-21', '08:57AM\\xa0\\xa0', 'Why Is Everyone Talking About Palantir Stock?'], ['AMZN', 'Oct-08-21', '08:22AM\\xa0\\xa0', \"Here's Why Investors Should Put This Recent IPO on Their Radar\"], ['AMZN', 'Oct-08-21', '07:45AM\\xa0\\xa0', 'How DoorDash Attracts Workers'], ['AMZN', 'Oct-08-21', '07:40AM\\xa0\\xa0', 'Paul Marshall and Ian Waces Stock Picks: Biogen Inc (BIIB), Apple Inc (AAPL) and More'], ['AMZN', 'Oct-08-21', '06:00AM\\xa0\\xa0', 'What concerns Michael Dell the most about A.I.'], ['AMZN', 'Oct-08-21', '03:29AM\\xa0\\xa0', 'George Soros Stock Portfolio: Top 10 Stock Picks'], ['AMZN', 'Oct-07-21', '06:03PM\\xa0\\xa0', \"Jeff Bezos' big Indonesian investment is off-limits to you  try these 3 stocks instead\"], ['AMZN', 'Oct-07-21', '04:35PM\\xa0\\xa0', 'Market Recap: Thursday, October 7'], ['AMZN', 'Oct-07-21', '04:23PM\\xa0\\xa0', 'Amazon listed on building permit at Albuquerque International Sunport'], ['AMZN', 'Oct-07-21', '01:48PM\\xa0\\xa0', 'Is Amazon Stock A Buy Right Now As Epic Battle With Walmart Escalates'], ['AMZN', 'Oct-07-21', '10:32AM\\xa0\\xa0', 'Thinking About Buying Stock Or Options In Bank Of America, AT&T, Amazon Or Costco?'], ['AMZN', 'Oct-07-21', '10:13AM\\xa0\\xa0', \"'Squid Game' global demand has grown over 500+ since Netflix launch: RPT\"], ['AMZN', 'Oct-07-21', '10:11AM\\xa0\\xa0', 'President Biden And The FTC Push For Antitrust Enforcement  Take On Amazon, Google And The Supreme Court'], ['AMZN', 'Oct-07-21', '10:00AM\\xa0\\xa0', 'Amazon\\xa0Delivery Partners Rage Against the\\xa0Machines: We Were Treated Like Robots'], ['AMZN', 'Oct-07-21', '09:24AM\\xa0\\xa0', 'Where Will IBM Be in 3 Years?'], ['AMZN', 'Oct-07-21', '09:00AM\\xa0\\xa0', \"How Atlas Is Driving MongoDB's Growth\"], ['AMZN', 'Oct-07-21', '08:30AM\\xa0\\xa0', \"Amazon's Gearing Up for a Massive Fourth Quarter\"], ['AMZN', 'Oct-07-21', '08:24AM\\xa0\\xa0', 'Whole Foods to sell Lightlife brand plant-based chicken exclusively in prepared foods departments in North America'], ['AMZN', 'Oct-07-21', '07:52AM\\xa0\\xa0', 'These Are 5 of the Fastest-Growing Large-Cap Stocks on the Planet'], ['AMZN', 'Oct-07-21', '07:15AM\\xa0\\xa0', '3 Small Stocks That Could Have $100 Billion Market Caps in 10 Years'], ['AMZN', 'Oct-07-21', '07:00AM\\xa0\\xa0', 'The U.S.-China relationship is a little bit frosty: Michael Dell'], ['AMZN', 'Oct-07-21', '07:00AM\\xa0\\xa0', 'Cloudflare Is Taking On Amazon by Harnessing the Edge'], ['AMZN', 'Oct-07-21', '06:00AM\\xa0\\xa0', 'Influencers with Andy Serwer: Michael Dell'], ['AMZN', 'Oct-07-21', '03:58AM\\xa0\\xa0', 'Twitter, Levi Strauss, Conagra Brands and Tilray Rise Premarket'], ['AMZN', 'Oct-07-21', '02:37AM\\xa0\\xa0', 'Amazon Up 1% as It Shrugs Off Twitch Data Hack'], ['AMZN', 'Oct-07-21', '12:10AM\\xa0\\xa0', 'Rivians Electric Truck Gets All the Attention, But Its Fate Is Tied to Amazon'], ['AMZN', 'Oct-06-21', '08:00PM\\xa0\\xa0', 'Amazon Scores Big Tax Breaks as It Expands Delivery Network'], ['AMZN', 'Oct-06-21', '05:42PM\\xa0\\xa0', \"Tech giants overtook Boeing during pandemic as state's largest employers\"], ['AMZN', 'Oct-06-21', '05:38PM\\xa0\\xa0', 'Amazons Streaming Platform, Twitch, Suffers Security Breach. What Investors Need to Know.'], ['AMZN', 'Oct-06-21', '05:07PM\\xa0\\xa0', 'Investing in Amazon Stock (AMZN)'], ['AMZN', 'Oct-06-21', '04:08PM\\xa0\\xa0', \"Affirm Stock Skyrockets As Target Joins 'Buy Now, Pay Later' Financing Boom\"], ['AMZN', 'Oct-06-21', '03:29PM\\xa0\\xa0', 'Why These 10 Stocks Are Trending on Wednesday'], ['AMZN', 'Oct-06-21', '03:02PM\\xa0\\xa0', 'New Northern Virginia research points to these unconventional recruiting routes to spur more diverse hiring'], ['AMZN', 'Oct-06-21', '02:58PM\\xa0\\xa0', 'Amazon sued by warehouse workers over COVID-19 screening pay'], ['AMZN', 'Oct-06-21', '02:55PM\\xa0\\xa0', \"Echo Had Another Serious Suitor Before Accepting Jordan's Bid, Filing Says\"], ['AMZN', 'Oct-06-21', '02:27PM\\xa0\\xa0', 'Amazon sued by warehouse workers over COVID-19 screening pay'], ['AMZN', 'Oct-06-21', '02:07PM\\xa0\\xa0', 'Amazons Twitch Hack Shows Top Gamers Rake In Six-Figure Payouts'], ['AMZN', 'Oct-06-21', '01:37PM\\xa0\\xa0', 'Why Affirm Stock Jumped 15% Today'], ['AMZN', 'Oct-06-21', '01:16PM\\xa0\\xa0', 'Amazon (AMZN) Boosts Retail Reach in U.K. With 4-star Store'], ['AMZN', 'Oct-06-21', '01:10PM\\xa0\\xa0', \"Amazon's Twitch Hack: Everything You Need To Know\"], ['AMZN', 'Oct-06-21', '12:18PM\\xa0\\xa0', 'Seven Maryland billionaires make Forbes 400 list of the richest Americans'], ['AMZN', 'Oct-06-21', '11:55AM\\xa0\\xa0', 'Twitch hacker leaks entire source code and streamers incomes for the past three years'], ['AMZN', 'Oct-06-21', '11:21AM\\xa0\\xa0', \"5 Reasons It's Not too Late to Buy Shopify Stock\"], ['AMZN', 'Oct-06-21', '10:43AM\\xa0\\xa0', \"Oracle's (ORCL) Cloud Platform Utilized by K-12 School Systems\"], ['AMZN', 'Oct-06-21', '10:20AM\\xa0\\xa0', \"Amazon's streaming giant Twitch hacked, exposing crucial internal data\"], ['AMZN', 'Oct-06-21', '10:00AM\\xa0\\xa0', \"4 Large-Cap Stocks to Watch After Monday's Dips\"], ['AMZN', 'Oct-06-21', '09:20AM\\xa0\\xa0', 'Amazon E-Commerce Boom Pushes Startup to\\xa0$2 Billion Valuation'], ['AMZN', 'Oct-06-21', '09:05AM\\xa0\\xa0', '11 Best Growth Stocks To Buy According To Hedge Funds'], ['AMZN', 'Oct-06-21', '09:04AM\\xa0\\xa0', 'Goldman Alum Takes Team, Assets to Chase Africas Unicorns'], ['AMZN', 'Oct-06-21', '09:00AM\\xa0\\xa0', 'Mall Retailers Get Boost from Alphabet Drones Delivering Sushi'], ['AMZN', 'Oct-06-21', '08:25AM\\xa0\\xa0', 'How Cloudflare Will Disrupt Amazon'], ['AMZN', 'Oct-06-21', '08:15AM\\xa0\\xa0', 'Is It Time to Play Defense in the Stock Market?'], ['AMZN', 'Oct-06-21', '08:04AM\\xa0\\xa0', \"Acquisition Spree Can't Mask Desktop Metal's Fiscal Challenges\"], ['AMZN', 'Oct-06-21', '07:46AM\\xa0\\xa0', \"Here's 1 Commercial Real Estate Trend Investors Need to Know\"], ['AMZN', 'Oct-06-21', '07:43AM\\xa0\\xa0', '2 Recent IPO Stocks That Could Produce 10X Returns'], ['AMZN', 'Oct-06-21', '07:25AM\\xa0\\xa0', 'Amazon Throws Down the Gauntlet at These 5 Companies'], ['AMZN', 'Oct-06-21', '07:00AM\\xa0\\xa0', 'New Investor? Here Are 3 Great Starter Stocks'], ['AMZN', 'Oct-06-21', '07:00AM\\xa0\\xa0', 'Amazon Future Engineer Awards First University Scholarships to Canadian Students'], ['AMZN', 'Oct-06-21', '06:45AM\\xa0\\xa0', 'Is Affirm the Next PayPal?'], ['AMZN', 'Oct-06-21', '06:35AM\\xa0\\xa0', 'Fake reviews infiltrate Facebook to boost ratings'], ['AMZN', 'Oct-06-21', '06:00AM\\xa0\\xa0', 'Michael Dell learned these lessons from Steve Jobs and Bill Gates'], ['AMZN', 'Oct-06-21', '05:35AM\\xa0\\xa0', 'Amazon Starts Black-Friday Deals Early: What it Could Mean for Investors'], ['AMZN', 'Oct-06-21', '04:23AM\\xa0\\xa0', 'Amazon opens first non-food retail store in the UK'], ['AMZN', 'Oct-06-21', '12:14AM\\xa0\\xa0', \"State AG's office takes a pass on big Amazon sublease at Rainier Square\"], ['AMZN', 'Oct-05-21', '11:41PM\\xa0\\xa0', 'Why Shares of Teladoc Dropped 12.2% in September'], ['AMZN', 'Oct-05-21', '07:01PM\\xa0\\xa0', 'Amazon furthers physical retail expansion with first UK general store'], ['AMZN', 'Oct-05-21', '06:34PM\\xa0\\xa0', 'Amazon CEO Says\\xa0Video Games\\xa0Could Become the Largest Entertainment Business'], ['AMZN', 'Oct-05-21', '05:45PM\\xa0\\xa0', 'Amazon (AMZN) Gains But Lags Market: What You Should Know'], ['AMZN', 'Oct-05-21', '05:28PM\\xa0\\xa0', 'Amazon Stock Has Had a Tough Year. Why J.P. Morgan Sees Big Gains Ahead.'], ['AMZN', 'Oct-05-21', '03:43PM\\xa0\\xa0', 'Facebook Is Not a Teen Favorite, Survey Says. These Social Media Sites Are.'], ['AMZN', 'Oct-05-21', '02:44PM\\xa0\\xa0', 'Scared of Facebook whistleblower fallout? Look at these tech stocks, analyst says'], ['AMZN', 'Oct-05-21', '02:31PM\\xa0\\xa0', 'Why Amazon Stock Bounced Higher Today'], ['AMZN', 'Oct-05-21', '02:19PM\\xa0\\xa0', 'FAANGs bounce back, Pepsi raises its full-year forecast'], ['AMZN', 'Oct-05-21', '12:49PM\\xa0\\xa0', 'Oppenheimer: 3 Stocks to Buy Despite Growing Supply-Chain Issues (And 1 to Avoid)'], ['AMZN', 'Oct-05-21', '12:38PM\\xa0\\xa0', 'Rivian IPO: 5 things to know about the Amazon-backed electric-vehicle maker'], ['AMZN', 'Oct-05-21', '12:07PM\\xa0\\xa0', 'Tech Stocks Roundup: Facebook Shutdown, Whistleblower Accusations'], ['AMZN', 'Oct-05-21', '12:03PM\\xa0\\xa0', 'Billionaire Lee Coopermans 10 Large-Cap Stock Picks'], ['AMZN', 'Oct-05-21', '11:47AM\\xa0\\xa0', 'George Soros Stock Portfolio: Top 10 Large-Cap Stock Picks'], ['AMZN', 'Oct-05-21', '11:21AM\\xa0\\xa0', 'Teens Like Amazon, iPhones, and Netflix. Facebook? Not So Much.'], ['AMZN', 'Oct-05-21', '11:00AM\\xa0\\xa0', 'Abbott is first health care company to keynote at CES'], ['AMZN', 'Oct-05-21', '10:55AM\\xa0\\xa0', 'Oracle (ORCL) JEDI Lawsuit Appeal Quashed by the Supreme Court'], ['GOOG', 'Oct-11-21', '12:43AM\\xa0\\xa0', 'UPDATE 2-Facebook-backed group launches misinformation adjudication panel in Australia'], ['GOOG', 'Oct-10-21', '11:10PM\\xa0\\xa0', 'Dow Jones Futures: Market Rally Is At Inflection Point, What To Do Now; Tesla FSD Beta Rollout Looms'], ['GOOG', 'Oct-10-21', '09:08PM\\xa0\\xa0', 'These Are The Best Robinhood Stocks To Buy Or Watch Now'], ['GOOG', 'Oct-10-21', '08:59PM\\xa0\\xa0', 'Facebook-backed group launches misinformation adjudication panel in Australia'], ['GOOG', 'Oct-10-21', '08:52PM\\xa0\\xa0', 'Facebook-backed group launches misinformation adjudication panel in Australia'], ['GOOG', 'Oct-09-21', '05:02PM\\xa0\\xa0', 'Should Google Pay a Stock Dividend?'], ['GOOG', 'Oct-09-21', '11:15AM\\xa0\\xa0', 'How global deal stems corporate use of tax havens'], ['GOOG', 'Oct-09-21', '10:30AM\\xa0\\xa0', 'Where to Invest $5,000 Right Now'], ['GOOG', 'Oct-09-21', '09:02AM\\xa0\\xa0', 'Google Is (Still) Pioneering Artificial Intelligence'], ['GOOG', 'Oct-09-21', '09:00AM\\xa0\\xa0', \"Apple's App Store Empire Is Finally Starting to Crack\"], ['GOOG', 'Oct-09-21', '06:35AM\\xa0\\xa0', 'Is Outbrain Stock a Buy?'], ['GOOG', 'Oct-09-21', '05:51AM\\xa0\\xa0', \"3 Surefire Stocks to Buy If There's a Stock Market Crash\"], ['GOOG', 'Oct-09-21', '03:00AM\\xa0\\xa0', 'UK contactless payments limit is rising to £100 \\xa0should you be worried?'], ['GOOG', 'Oct-08-21', '05:25PM\\xa0\\xa0', 'Google Tests Ways to Showcase Breaking News in Twitter-Like Move'], ['GOOG', 'Oct-08-21', '02:05PM\\xa0\\xa0', 'New Buys By The Best Mutual Funds: GOOGL Stock Leads List As Market Corrects'], ['GOOG', 'Oct-08-21', '01:48PM\\xa0\\xa0', 'This nearly $40 billion tech company has unleashed a secret weapon to attract workers'], ['GOOG', 'Oct-08-21', '12:53PM\\xa0\\xa0', 'Google to block ads from appearing next to content denying climate change'], ['GOOG', 'Oct-08-21', '12:10PM\\xa0\\xa0', 'Google At 50-Day Line'], ['GOOG', 'Oct-08-21', '11:16AM\\xa0\\xa0', 'Ireland joins global tax agreement, Googles cracks down on climate change denial, Sen. Lummis investment in crypto'], ['GOOG', 'Oct-08-21', '09:05AM\\xa0\\xa0', 'Microsoft Windows 11: What Investors Need to Know'], ['GOOG', 'Oct-08-21', '08:57AM\\xa0\\xa0', 'Why Is Everyone Talking About Palantir Stock?'], ['GOOG', 'Oct-08-21', '08:16AM\\xa0\\xa0', \"Biotricity Launches Biocare Cardiac Application for Samsung's Galaxy Watch4 Series\"], ['GOOG', 'Oct-08-21', '08:13AM\\xa0\\xa0', 'Dow Jones Futures: Treasury Yields Rise Ahead Of Key Jobs Report For Market Rally'], ['GOOG', 'Oct-08-21', '06:55AM\\xa0\\xa0', 'Google Goes Tougher On Climate Change Policies'], ['GOOG', 'Oct-08-21', '06:50AM\\xa0\\xa0', 'Google Bars Ads for Content Denying Climate Change'], ['GOOG', 'Oct-08-21', '06:46AM\\xa0\\xa0', 'Apple Stock Could Struggle. This Analyst Explains Why.'], ['GOOG', 'Oct-08-21', '06:00AM\\xa0\\xa0', 'What concerns Michael Dell the most about A.I.'], ['GOOG', 'Oct-08-21', '05:15AM\\xa0\\xa0', '3 Stock Market Myths That Cost Investors'], ['GOOG', 'Oct-08-21', '04:29AM\\xa0\\xa0', '7 Oil and Gas Stocks to Buy According to Billionaire Leon Cooperman'], ['GOOG', 'Oct-08-21', '03:29AM\\xa0\\xa0', 'George Soros Stock Portfolio: Top 10 Stock Picks'], ['GOOG', 'Oct-08-21', '03:00AM\\xa0\\xa0', 'Carvana and Vroom Still Have Room to Drive, According to Internet Traffic'], ['GOOG', 'Oct-07-21', '10:55PM\\xa0\\xa0', 'Google, YouTube Ban Ads on Content Denying Climate Change Science'], ['GOOG', 'Oct-07-21', '10:34PM\\xa0\\xa0', 'Dow Jones Futures: Jobs Report Key For Market Rally As Leaders Flash Buy Signals; Senate OKs Debt Limit Hike'], ['GOOG', 'Oct-07-21', '09:11PM\\xa0\\xa0', 'Lasertec Gets First Next-Gen Gear Orders From Memory Makers'], ['GOOG', 'Oct-07-21', '06:53PM\\xa0\\xa0', 'Google to Block Ads From Appearing Next to Content Denying Climate Change'], ['GOOG', 'Oct-07-21', '04:04PM\\xa0\\xa0', 'Microsoft Will Allow More Repair Shops After Activist Protests'], ['GOOG', 'Oct-07-21', '03:00PM\\xa0\\xa0', 'Google Wont Fund Sites, YouTube Videos That Deny Climate Change'], ['GOOG', 'Oct-07-21', '11:43AM\\xa0\\xa0', 'Read Why Oppenheimer Bumped Up AppLovin Price Target By 27%'], ['GOOG', 'Oct-07-21', '11:30AM\\xa0\\xa0', 'Apple Shares Will Struggle To Rally From Here, Bernstein Analyst Cautions'], ['GOOG', 'Oct-07-21', '11:09AM\\xa0\\xa0', 'How social media is changing the stock market'], ['GOOG', 'Oct-07-21', '10:20AM\\xa0\\xa0', 'Google Flights lets travelers see their carbon footprint  but can you trust it?'], ['GOOG', 'Oct-07-21', '10:11AM\\xa0\\xa0', 'President Biden And The FTC Push For Antitrust Enforcement  Take On Amazon, Google And The Supreme Court'], ['GOOG', 'Oct-07-21', '10:03AM\\xa0\\xa0', 'Microsoft, Alphabet stocks rise back above 50-day moving averages'], ['GOOG', 'Oct-07-21', '09:55AM\\xa0\\xa0', 'Apples Plan for Cars: Using iPhone to Control A/C, Seats,\\xa0Radio and More'], ['GOOG', 'Oct-07-21', '08:49AM\\xa0\\xa0', 'Bings most popular search word is Google, says Google'], ['GOOG', 'Oct-07-21', '08:43AM\\xa0\\xa0', 'Why Vinco Ventures Shares Are Surging Higher Today'], ['GOOG', 'Oct-07-21', '08:10AM\\xa0\\xa0', 'Why Marqeta Sank 23.8% in September'], ['GOOG', 'Oct-07-21', '07:00AM\\xa0\\xa0', 'The U.S.-China relationship is a little bit frosty: Michael Dell'], ['GOOG', 'Oct-07-21', '06:00AM\\xa0\\xa0', 'Influencers with Andy Serwer: Michael Dell'], ['GOOG', 'Oct-07-21', '04:15AM\\xa0\\xa0', '14 best tech gifts to spoil a gadget geek this Christmas'], ['GOOG', 'Oct-07-21', '01:09AM\\xa0\\xa0', 'Google rivals want EU lawmakers to act via new tech rules'], ['GOOG', 'Oct-07-21', '01:00AM\\xa0\\xa0', 'Google rivals want EU lawmakers to act via new tech rules'], ['GOOG', 'Oct-06-21', '08:09PM\\xa0\\xa0', 'UPDATE 1-U.S. Justice Dept antitrust nominee says he is eager to tackle more than just Big Tech'], ['GOOG', 'Oct-06-21', '05:45PM\\xa0\\xa0', 'Does the Return of Old School Marketing Make This Ad-Tech Alternative Bigger than Blockchain?'], ['GOOG', 'Oct-06-21', '04:08PM\\xa0\\xa0', 'Microsoft Stands Out In Enterprise Tech Spending Survey'], ['GOOG', 'Oct-06-21', '02:07PM\\xa0\\xa0', 'Amazons Twitch Hack Shows Top Gamers Rake In Six-Figure Payouts'], ['GOOG', 'Oct-06-21', '01:53PM\\xa0\\xa0', 'U.S. Justice Dept antitrust nominee says he is eager to tackle more than just Big Tech'], ['GOOG', 'Oct-06-21', '01:48PM\\xa0\\xa0', 'U.S. Justice antitrust nominee says eager to tackle more than just Big Tech'], ['GOOG', 'Oct-06-21', '12:39PM\\xa0\\xa0', \"Retail traders follow Nancy Pelosi's husband's stock moves to find winners\"], ['GOOG', 'Oct-06-21', '12:00PM\\xa0\\xa0', 'The Prius-Hacking Silicon Valley Star Shaping Toyotas Future'], ['GOOG', 'Oct-06-21', '10:47AM\\xa0\\xa0', 'UPDATE 1-Google to invest $1 billion in Africa over five years'], ['GOOG', 'Oct-06-21', '10:46AM\\xa0\\xa0', 'Biden meets with bank CEOs, Googles new eco-friendly feature, Walmart teams up with Home Depot for delivery'], ['GOOG', 'Oct-06-21', '10:39AM\\xa0\\xa0', 'Billionaire Rob Citrone is Selling These 10 Stocks'], ['GOOG', 'Oct-06-21', '09:32AM\\xa0\\xa0', \"FB Stock A Buy? Facebook's Zuckerberg Under Fire, Calls For Regulation\"], ['GOOG', 'Oct-06-21', '09:19AM\\xa0\\xa0', 'Google Outlines Digital Transformation Plans In Africa'], ['GOOG', 'Oct-06-21', '09:00AM\\xa0\\xa0', 'Mall Retailers Get Boost from Alphabet Drones Delivering Sushi'], ['GOOG', 'Oct-06-21', '08:18AM\\xa0\\xa0', 'Dow Jones Futures Tumble: Look For This Market Rally Signal; Google, Datadog Lead 9 Stocks To Watch'], ['GOOG', 'Oct-06-21', '07:25AM\\xa0\\xa0', 'Amazon Throws Down the Gauntlet at These 5 Companies'], ['GOOG', 'Oct-06-21', '06:35AM\\xa0\\xa0', 'Fake reviews infiltrate Facebook to boost ratings'], ['GOOG', 'Oct-06-21', '06:32AM\\xa0\\xa0', 'Google to invest $1 billion in Africa over five years'], ['GOOG', 'Oct-06-21', '06:29AM\\xa0\\xa0', 'Google to invest $1 billion in Africa over five years'], ['GOOG', 'Oct-06-21', '06:13AM\\xa0\\xa0', '10 Small-Cap Stocks to Buy According to Australias Warren Buffett Kerr Neilson'], ['GOOG', 'Oct-06-21', '06:00AM\\xa0\\xa0', 'Michael Dell learned these lessons from Steve Jobs and Bill Gates'], ['GOOG', 'Oct-06-21', '03:05AM\\xa0\\xa0', 'Google wants to use AI to time traffic lights more efficiently'], ['GOOG', 'Oct-06-21', '03:01AM\\xa0\\xa0', 'Google Flights Adds Carbon Emission Estimates to Search'], ['GOOG', 'Oct-06-21', '01:03AM\\xa0\\xa0', \"France's Thales partners with Google on secure cloud services\"], ['GOOG', 'Oct-05-21', '11:37PM\\xa0\\xa0', 'Top Antitrust Cop Steers Korea Away From Hard Tech Crackdown'], ['GOOG', 'Oct-05-21', '08:38PM\\xa0\\xa0', 'YouTube Removes R. Kellys Channels, But Still Offers His Songs'], ['GOOG', 'Oct-05-21', '08:00PM\\xa0\\xa0', \"Google's DeepMind Artificial Intelligence Unit Is No Longer a Money Loser\"], ['GOOG', 'Oct-05-21', '07:21PM\\xa0\\xa0', 'Facebook (FB) Whistleblower Testifies Before US Senate'], ['GOOG', 'Oct-05-21', '04:34PM\\xa0\\xa0', 'Big Tech Rebounds as Bulls See Buying Opportunity in Selloff'], ['GOOG', 'Oct-05-21', '04:13PM\\xa0\\xa0', 'Sell Or Hold? NVDA Stock Shows How To Handle Growth Stocks In A Stock Market Correction'], ['GOOG', 'Oct-05-21', '03:09PM\\xa0\\xa0', 'How Downdetector Has Become Go-To Site for Online Disruptions'], ['GOOG', 'Oct-05-21', '02:58PM\\xa0\\xa0', 'Why Google Shares Are Rising'], ['GOOG', 'Oct-05-21', '02:44PM\\xa0\\xa0', 'Scared of Facebook whistleblower fallout? Look at these tech stocks, analyst says'], ['GOOG', 'Oct-05-21', '02:19PM\\xa0\\xa0', 'FAANGs bounce back, Pepsi raises its full-year forecast'], ['GOOG', 'Oct-05-21', '01:39PM\\xa0\\xa0', 'EU lawmaker says U.S. tech giants should be regulated where they are based'], ['GOOG', 'Oct-05-21', '01:39PM\\xa0\\xa0', 'Google Pixel 6 release date revealed for iPhone killer'], ['GOOG', 'Oct-05-21', '01:35PM\\xa0\\xa0', 'These 2 Stocks Are Powering the Market Higher on Tuesday'], ['GOOG', 'Oct-05-21', '01:32PM\\xa0\\xa0', 'EU lawmaker says U.S. tech giants should be regulated where they are based'], ['GOOG', 'Oct-05-21', '01:19PM\\xa0\\xa0', 'Why These 10 Stocks Are in the Spotlight on Tuesday'], ['GOOG', 'Oct-05-21', '12:07PM\\xa0\\xa0', 'Tech Stocks Roundup: Facebook Shutdown, Whistleblower Accusations'], ['GOOG', 'Oct-05-21', '12:00PM\\xa0\\xa0', 'Ex-Google Engineer Builds Unicorn at Tiger Global-Backed Firm'], ['GOOG', 'Oct-05-21', '11:51AM\\xa0\\xa0', \"Alphabet's (GOOGL) YouTube Music to Roll Out New Features\"], ['GOOG', 'Oct-05-21', '11:47AM\\xa0\\xa0', 'George Soros Stock Portfolio: Top 10 Large-Cap Stock Picks'], ['GOOG', 'Oct-05-21', '11:27AM\\xa0\\xa0', 'Best password managers: Secure your accounts and never forget your login details again'], ['GOOG', 'Oct-05-21', '11:00AM\\xa0\\xa0', 'Abbott is first health care company to keynote at CES'], ['GOOG', 'Oct-05-21', '10:43AM\\xa0\\xa0', \"Facebook isn't tobacco; that's ridiculous: analyst\"], ['GOOG', 'Oct-05-21', '10:29AM\\xa0\\xa0', 'Facebook whistleblower testifies before Congress, outage affects billions worldwide'], ['GOOG', 'Oct-05-21', '10:23AM\\xa0\\xa0', 'How the FAANG stocks recovery proves the resilience of tech'], ['FB', 'Oct-11-21', '12:43AM\\xa0\\xa0', 'UPDATE 2-Facebook-backed group launches misinformation adjudication panel in Australia'], ['FB', 'Oct-10-21', '09:24PM\\xa0\\xa0', 'Which Social-Media Networks Do Teens Like the Most? Not Facebook and Twitter.'], ['FB', 'Oct-10-21', '08:59PM\\xa0\\xa0', 'Facebook-backed group launches misinformation adjudication panel in Australia'], ['FB', 'Oct-10-21', '08:52PM\\xa0\\xa0', 'Facebook-backed group launches misinformation adjudication panel in Australia'], ['FB', 'Oct-10-21', '08:25PM\\xa0\\xa0', 'Social Media Companies Should Be Accountable For Policies, Facebook Exec Says'], ['FB', 'Oct-10-21', '02:13PM\\xa0\\xa0', 'Social Media Companies Should Be Accountable For Policies, Facebook Exec Says'], ['FB', 'Oct-10-21', '01:12PM\\xa0\\xa0', \"Facebook will try to 'nudge' teens away from harmful content\"], ['FB', 'Oct-10-21', '12:13PM\\xa0\\xa0', 'These Are The 5 Best Stocks To Buy And Watch Now'], ['FB', 'Oct-10-21', '10:46AM\\xa0\\xa0', 'Facebook\\xa0Is Willing to Open Algorithms to Regulators, Clegg Says'], ['FB', 'Oct-10-21', '08:00AM\\xa0\\xa0', 'Why Facebook Is Still Bulletproof'], ['FB', 'Oct-09-21', '05:18PM\\xa0\\xa0', 'Big Techs Stocks Have Bounced Back. But Theyre Not Out of The Woods.'], ['FB', 'Oct-09-21', '05:17PM\\xa0\\xa0', 'Facebook (NASDAQ:FB) is Zigging Where it Should be Zagging'], ['FB', 'Oct-09-21', '09:00AM\\xa0\\xa0', 'Why Facebook Is a Better Buy Than Apple'], ['FB', 'Oct-09-21', '08:34AM\\xa0\\xa0', \"UPDATE 1-Philippine Nobel winner Ressa calls Facebook 'biased against facts'\"], ['FB', 'Oct-09-21', '05:12AM\\xa0\\xa0', 'Philippine Nobel winner Ressa calls Facebook \"biased against facts\"'], ['FB', 'Oct-08-21', '07:40PM\\xa0\\xa0', 'Southwest Airlines, Facebook, Pfizer: Stocks That Defined the Week'], ['FB', 'Oct-08-21', '07:38PM\\xa0\\xa0', 'Teens Like Snapchat and TikTok. Facebook? Except for Instagram, Not So Much.'], ['FB', 'Oct-08-21', '06:13PM\\xa0\\xa0', 'Facebook apologizes for second outage in a week, services back up'], ['FB', 'Oct-08-21', '05:34PM\\xa0\\xa0', 'Facebook, Instagram Back to Normal Following Another Outage'], ['FB', 'Oct-08-21', '05:25PM\\xa0\\xa0', 'Google Tests Ways to Showcase Breaking News in Twitter-Like Move'], ['FB', 'Oct-08-21', '04:43PM\\xa0\\xa0', 'Stock Market Rally Attempt Faces Resistance; Oil Prices, Treasury Yields Hit Highs'], ['FB', 'Oct-08-21', '04:43PM\\xa0\\xa0', 'Fury as Facebook and Instagram down for second time in a week'], ['FB', 'Oct-08-21', '04:42PM\\xa0\\xa0', 'Facebooks Problems Have Grown. The Will to Regulate It Hasnt.'], ['FB', 'Oct-08-21', '04:29PM\\xa0\\xa0', 'Facebook Left Out of Big Tech Rebound in 4th Week of Losses'], ['FB', 'Oct-08-21', '03:18PM\\xa0\\xa0', 'UPDATE 3-Facebook apologizes for second outage in a week, services back up'], ['FB', 'Oct-08-21', '03:07PM\\xa0\\xa0', 'Facebook apologizes for second outage in a week, services back up'], ['FB', 'Oct-08-21', '02:08PM\\xa0\\xa0', 'Dont count on Facebook to be the right source of information: NIH head urges the unvaccinated not to listen to unreliable sources on vaccines'], ['FB', 'Oct-08-21', '01:50PM\\xa0\\xa0', 'Facebook: global tax deal could mean us paying more tax'], ['FB', 'Oct-08-21', '01:22PM\\xa0\\xa0', 'Weekend reads: Could the IRS monitor your bank account?'], ['FB', 'Oct-08-21', '12:45PM\\xa0\\xa0', 'INVESTIGATION REMINDER: The Schall Law Firm Announces it is Investigating Claims Against Facebook, Inc. and Encourages Investors with Losses to Contact the Firm'], ['FB', 'Oct-08-21', '11:59AM\\xa0\\xa0', 'FB INVESTOR ALERT: ROSEN, A TOP RANKED LAW FIRM, Encourages Facebook, Inc. Investors with Losses to Inquire About Class Action Investigation  FB'], ['FB', 'Oct-08-21', '11:50AM\\xa0\\xa0', 'Zuckerberg Can Skip Testifying in Court Case, as Rough Week Ends'], ['FB', 'Oct-08-21', '11:01AM\\xa0\\xa0', 'UPDATE 1-Lawmakers: FTC must ensure tech companies uphold youth online privacy'], ['FB', 'Oct-08-21', '10:31AM\\xa0\\xa0', 'Lawmakers: FTC must ensure tech companies uphold youth online privacy'], ['FB', 'Oct-08-21', '09:14AM\\xa0\\xa0', 'Maria Ressas Nobel peace prize win is an indictment of Facebook'], ['FB', 'Oct-08-21', '07:15AM\\xa0\\xa0', 'Market Sell-Off: 2 Monster Growth Stocks to Buy at a Discount'], ['FB', 'Oct-08-21', '06:46AM\\xa0\\xa0', 'Apple Stock Could Struggle. This Analyst Explains Why.'], ['FB', 'Oct-08-21', '06:30AM\\xa0\\xa0', 'Public Investment Fund: Meet the new Saudi owners of Newcastle United'], ['FB', 'Oct-08-21', '06:00AM\\xa0\\xa0', 'What concerns Michael Dell the most about A.I.'], ['FB', 'Oct-07-21', '09:00PM\\xa0\\xa0', \"Billionaire Peter Thiel's Palantir pops  3 more of his ideas that could surge next\"], ['FB', 'Oct-07-21', '05:41PM\\xa0\\xa0', 'SurveyMonkey Owner Momentive Is Exploring\\xa0Potential Sale'], ['FB', 'Oct-07-21', '03:00PM\\xa0\\xa0', 'Google Wont Fund Sites, YouTube Videos That Deny Climate Change'], ['FB', 'Oct-07-21', '02:20PM\\xa0\\xa0', 'Facebooks stock price has more to lose from Apple than the whistleblower'], ['FB', 'Oct-07-21', '02:02PM\\xa0\\xa0', \"A Storm is Upon Facebook's Empire\"], ['FB', 'Oct-07-21', '11:09AM\\xa0\\xa0', 'How social media is changing the stock market'], ['FB', 'Oct-07-21', '10:31AM\\xa0\\xa0', 'Russian court tells bailiffs to enforce collection of unpaid Facebook fines'], ['FB', 'Oct-07-21', '08:02AM\\xa0\\xa0', '4 Stocks Insiders Are Selling'], ['FB', 'Oct-07-21', '07:58AM\\xa0\\xa0', 'Australia wants Facebook held liable for anonymous comments'], ['FB', 'Oct-07-21', '07:00AM\\xa0\\xa0', 'Why the Facebook whistleblower doesnt want the company broken up'], ['FB', 'Oct-07-21', '07:00AM\\xa0\\xa0', 'The U.S.-China relationship is a little bit frosty: Michael Dell'], ['FB', 'Oct-07-21', '06:39AM\\xa0\\xa0', 'Facebook Has Reportedly Slowed Product Rollouts Amid Reputational Crisis'], ['FB', 'Oct-07-21', '06:11AM\\xa0\\xa0', 'Top Facebook Shareholders'], ['FB', 'Oct-07-21', '06:01AM\\xa0\\xa0', 'Facebook Stock Rises; JPMorgan Says Buy on the Pullback'], ['FB', 'Oct-07-21', '06:00AM\\xa0\\xa0', 'Think of Facebook as a money maker, not a babysitter: Morning Brief'], ['FB', 'Oct-07-21', '06:00AM\\xa0\\xa0', 'Influencers with Andy Serwer: Michael Dell'], ['FB', 'Oct-06-21', '11:47PM\\xa0\\xa0', \"UPDATE 4-'A coward's palace': Australian PM slams social media amid defamation law controversy\"], ['FB', 'Oct-06-21', '08:42PM\\xa0\\xa0', 'We will never be free from the Facebook News Feed'], ['FB', 'Oct-06-21', '05:45PM\\xa0\\xa0', 'Does the Return of Old School Marketing Make This Ad-Tech Alternative Bigger than Blockchain?'], ['FB', 'Oct-06-21', '05:45PM\\xa0\\xa0', 'Facebook (FB) Gains But Lags Market: What You Should Know'], ['FB', 'Oct-06-21', '05:04PM\\xa0\\xa0', 'Professor calls for access to Facebook algorithms and data'], ['FB', 'Oct-06-21', '03:26PM\\xa0\\xa0', \"Facebook stock faces 'serious problems' from whistleblower: Analyst\"], ['FB', 'Oct-06-21', '02:37PM\\xa0\\xa0', 'Facebook Stocks Familiar Crisis Cycle: Decline, Rebound, Repeat'], ['FB', 'Oct-06-21', '02:35PM\\xa0\\xa0', 'Facebook Is Under Pressure From Lawmakers, Consumers And Investors'], ['FB', 'Oct-06-21', '02:23PM\\xa0\\xa0', 'Messaging apps Signal and Telegram say they gained millions of new users during Facebooks outage'], ['FB', 'Oct-06-21', '01:29PM\\xa0\\xa0', 'UPDATE 1-Facebook slows down new product rollouts - WSJ'], ['FB', 'Oct-06-21', '01:04PM\\xa0\\xa0', 'Facebook slows down new product rollouts - WSJ'], ['FB', 'Oct-06-21', '12:27PM\\xa0\\xa0', 'Facebook outage, whistleblower presents buying opportunity: Analyst'], ['FB', 'Oct-06-21', '12:16PM\\xa0\\xa0', 'If Facebook went away I would be lonely'], ['FB', 'Oct-06-21', '12:03PM\\xa0\\xa0', 'Facebook exec on moderating hate speech outside the US: Language is a challenge'], ['FB', 'Oct-06-21', '11:49AM\\xa0\\xa0', 'Facebook Exec: Regulation is a big part of getting social media to a better place'], ['FB', 'Oct-06-21', '11:19AM\\xa0\\xa0', 'Facebook is putting its profits ahead of people: expert'], ['FB', 'Oct-06-21', '10:47AM\\xa0\\xa0', 'Why Facebook Stock Fell This Morning'], ['FB', 'Oct-06-21', '10:20AM\\xa0\\xa0', \"Amazon's streaming giant Twitch hacked, exposing crucial internal data\"], ['FB', 'Oct-06-21', '09:32AM\\xa0\\xa0', \"FB Stock A Buy? Facebook's Zuckerberg Under Fire, Calls For Regulation\"], ['FB', 'Oct-06-21', '08:23AM\\xa0\\xa0', 'The Real Fallout for Facebook May Be Still to\\xa0Come'], ['FB', 'Oct-06-21', '06:56AM\\xa0\\xa0', 'Mark Zuckerberg Breaks Silence After Facebook Whistleblowers Testimony. What He Said.'], ['FB', 'Oct-06-21', '06:50AM\\xa0\\xa0', '3 Reasons to Buy Pinterest, And 1 Reason To Sell'], ['FB', 'Oct-06-21', '06:35AM\\xa0\\xa0', 'Fake reviews infiltrate Facebook to boost ratings'], ['FB', 'Oct-06-21', '06:13AM\\xa0\\xa0', '10 Small-Cap Stocks to Buy According to Australias Warren Buffett Kerr Neilson'], ['FB', 'Oct-06-21', '06:07AM\\xa0\\xa0', 'If Facebook is the problem, is a social media regulator the fix?'], ['FB', 'Oct-06-21', '06:02AM\\xa0\\xa0', 'Why Is Everyone Talking About Facebook Stock?'], ['FB', 'Oct-06-21', '06:00AM\\xa0\\xa0', 'Facebook exec has seen serious mischaracterizations of leaked documents'], ['FB', 'Oct-06-21', '06:00AM\\xa0\\xa0', 'Yahoo Finance Presents: Facebook VP of Content Policy Monika Bickert'], ['FB', 'Oct-06-21', '06:00AM\\xa0\\xa0', 'If Facebook is the problem, is a social media regulator the fix?'], ['FB', 'Oct-06-21', '04:16AM\\xa0\\xa0', 'Facebook Outage Prompts South Africa to Promote Local Developers'], ['FB', 'Oct-06-21', '03:04AM\\xa0\\xa0', 'Facebook down - live updates: Company explains outage as WhatsApp, Instagram and other apps come back online'], ['FB', 'Oct-06-21', '02:56AM\\xa0\\xa0', 'Facebook outage: Single wrong command took down backbone of network, says company'], ['FB', 'Oct-06-21', '01:55AM\\xa0\\xa0', 'Snapchat Was the Biggest Winner the Day Facebook Went Dark'], ['FB', 'Oct-05-21', '09:28PM\\xa0\\xa0', 'Zuckerberg Responds to Claims That Facebook Prioritizes Profit as Just Not True'], ['FB', 'Oct-05-21', '07:22PM\\xa0\\xa0', 'Millions Flock to Signal and Telegram After Facebook Outage'], ['FB', 'Oct-05-21', '07:21PM\\xa0\\xa0', 'Facebook (FB) Whistleblower Testifies Before US Senate'], ['FB', 'Oct-05-21', '07:13PM\\xa0\\xa0', '70m people signed up for Telegram messaging app during Facebooks hours-long outage, founder says'], ['FB', 'Oct-05-21', '06:42PM\\xa0\\xa0', 'Facebook wont get in trouble for putting profit over people, but that is far from the only issue'], ['FB', 'Oct-05-21', '06:07PM\\xa0\\xa0', \"Why the case for breaking up Facebook Is 'weaker than ever'\"], ['FB', 'Oct-05-21', '05:49PM\\xa0\\xa0', 'Facebook Needs Serious Talks With Policy Makers, Bickert Says'], ['FB', 'Oct-05-21', '05:23PM\\xa0\\xa0', 'Senator Warren on Powell as Fed Chair, Stablecoins, Facebook'], ['FB', 'Oct-05-21', '05:07PM\\xa0\\xa0', 'Facebook Outage Is Felt Acutely by Small-Business Owners'], ['FB', 'Oct-05-21', '04:45PM\\xa0\\xa0', 'Facebooks 6-hour outage highlights how vital the app has become worldwide'], ['FB', 'Oct-05-21', '04:33PM\\xa0\\xa0', \"Facebook Hearing Elevates Washington's Distrust Of Big Tech\"], ['FB', 'Oct-05-21', '04:25PM\\xa0\\xa0', 'Dow Jones Gains As Apple Pops; Schumer Makes This Debt Move; Facebook Up As Whistleblower Testifies'], ['TWTR', 'Oct-10-21', '08:59PM\\xa0\\xa0', 'Facebook-backed group launches misinformation adjudication panel in Australia'], ['TWTR', 'Oct-10-21', '08:52PM\\xa0\\xa0', 'Facebook-backed group launches misinformation adjudication panel in Australia'], ['TWTR', 'Oct-10-21', '03:05AM\\xa0\\xa0', 'Tesla Software Update Ready to Go Sunday After Delay, Musk Says'], ['TWTR', 'Oct-08-21', '08:47PM\\xa0\\xa0', 'Apple Seeks to Delay Ruling Loosening Its Grip on App Store'], ['TWTR', 'Oct-08-21', '05:34PM\\xa0\\xa0', 'Facebook, Instagram Back to Normal Following Another Outage'], ['TWTR', 'Oct-08-21', '05:25PM\\xa0\\xa0', 'Google Tests Ways to Showcase Breaking News in Twitter-Like Move'], ['TWTR', 'Oct-08-21', '02:07PM\\xa0\\xa0', \"What's Going On With DatChat's Stock Today?\"], ['TWTR', 'Oct-08-21', '12:52PM\\xa0\\xa0', 'Chiles President to Be Investigated After Pandora Revelations'], ['TWTR', 'Oct-08-21', '12:09PM\\xa0\\xa0', 'Twitter (TWTR) To Sell Mobile Ad Unit MoPub to AppLovin for $1B'], ['TWTR', 'Oct-08-21', '10:01AM\\xa0\\xa0', 'Earnings: 2 Growth Stocks to Watch in October'], ['TWTR', 'Oct-08-21', '09:52AM\\xa0\\xa0', '4 Stocks Insiders Are Selling'], ['TWTR', 'Oct-08-21', '09:31AM\\xa0\\xa0', 'Company News for Oct 8, 2021'], ['TWTR', 'Oct-07-21', '09:38PM\\xa0\\xa0', 'Puerto Ricos Plan For Rescue Aid? A New Years Bash'], ['TWTR', 'Oct-07-21', '09:00PM\\xa0\\xa0', \"Billionaire Peter Thiel's Palantir pops  3 more of his ideas that could surge next\"], ['TWTR', 'Oct-07-21', '03:44PM\\xa0\\xa0', 'Austrias Government in Peril as Bribery Probe Engulfs Kurz'], ['TWTR', 'Oct-07-21', '11:36AM\\xa0\\xa0', 'The rise of social trading: How the internet is changing investing'], ['TWTR', 'Oct-07-21', '11:12AM\\xa0\\xa0', 'Hurricane Idas impact on Royal Dutch Shell, Safeway CEO testifies in Holmes Trial, Applovin acquires Mopub from Twitter'], ['TWTR', 'Oct-07-21', '11:09AM\\xa0\\xa0', 'How social media is changing the stock market'], ['TWTR', 'Oct-07-21', '10:41AM\\xa0\\xa0', 'Peru Assets Rally as Investors Cheer Moderate Cabinet Picks'], ['TWTR', 'Oct-07-21', '08:59AM\\xa0\\xa0', 'Twitter rolls out pre-tweet warning about entering intense conversations'], ['TWTR', 'Oct-07-21', '07:08AM\\xa0\\xa0', 'Zanzibar Author Abdulrazak Gurnah Wins Nobel Prize in Literature'], ['TWTR', 'Oct-07-21', '06:08AM\\xa0\\xa0', 'Twitter Gains on $1-Billion Sale of Ad Unit MoPub, Affirms  2023 Guidance'], ['TWTR', 'Oct-07-21', '04:44AM\\xa0\\xa0', 'Premarket Movers Thursday - Twitter, Levi Strauss, Pfizer, Costco, Disney'], ['TWTR', 'Oct-07-21', '02:40AM\\xa0\\xa0', 'ECB Said to Study New Bond-Buying Plan for When Crisis Tool Ends'], ['TWTR', 'Oct-07-21', '01:37AM\\xa0\\xa0', 'Twitter Agrees to Sell MoPub for $1.05B'], ['TWTR', 'Oct-06-21', '05:44PM\\xa0\\xa0', 'Twitter Sells App Company MoPub To AppLovin For $1.05 Billion'], ['TWTR', 'Oct-06-21', '05:31PM\\xa0\\xa0', \"AppLovin to pay $1.05B to buy MoPub, Twitter's mobile ad network\"], ['TWTR', 'Oct-06-21', '05:30PM\\xa0\\xa0', 'Twitter Is Doubling Down on Advertising With a $1 Billion Asset Sale'], ['TWTR', 'Oct-06-21', '05:00PM\\xa0\\xa0', 'Twitter selling MoPub mobile-ad network to AppLovin for $1.05 billion'], ['TWTR', 'Oct-06-21', '04:48PM\\xa0\\xa0', 'Twitter Sells MoPub Ad Platform to AppLovin for $1.05 Billion'], ['TWTR', 'Oct-06-21', '04:43PM\\xa0\\xa0', 'Twitter to Sell MoPub In-App Advertising Division for $1.05 Billion'], ['TWTR', 'Oct-06-21', '04:29PM\\xa0\\xa0', 'UPDATE 3-Twitter to sell mobile ad unit MoPub for $1 bln'], ['TWTR', 'Oct-06-21', '04:21PM\\xa0\\xa0', 'Twitter to sell mobile ad unit MoPub for $1 billion'], ['TWTR', 'Oct-06-21', '04:15PM\\xa0\\xa0', 'Twitter Enters into Definitive Agreement to Sell MoPub to AppLovin for $1.05 Billion in Cash'], ['TWTR', 'Oct-06-21', '02:40PM\\xa0\\xa0', 'TikTok Promises to Remove Any Rumored Slap a Teacher Content'], ['TWTR', 'Oct-06-21', '10:08AM\\xa0\\xa0', 'Surging U.K. Inflation Is Already a Problem for Johnsons Agenda'], ['TWTR', 'Oct-06-21', '08:12AM\\xa0\\xa0', 'Swedens Economy Shrinks Much More Than Expected on Exports'], ['TWTR', 'Oct-06-21', '01:55AM\\xa0\\xa0', 'Snapchat Was the Biggest Winner the Day Facebook Went Dark'], ['TWTR', 'Oct-05-21', '07:22PM\\xa0\\xa0', 'Millions Flock to Signal and Telegram After Facebook Outage'], ['TWTR', 'Oct-05-21', '05:07PM\\xa0\\xa0', 'Facebook Outage Is Felt Acutely by Small-Business Owners'], ['TWTR', 'Oct-05-21', '01:17PM\\xa0\\xa0', 'Read Tim Cooks Staff Memo on 10th Anniversary of Jobss Death'], ['TWTR', 'Oct-05-21', '11:32AM\\xa0\\xa0', 'Nintendos Smash Bros. Gets Final Character in Hit Fighter Game'], ['TWTR', 'Oct-05-21', '10:43AM\\xa0\\xa0', \"Facebook isn't tobacco; that's ridiculous: analyst\"], ['TWTR', 'Oct-05-21', '10:29AM\\xa0\\xa0', 'Facebook whistleblower testifies before Congress, outage affects billions worldwide'], ['TWTR', 'Oct-05-21', '10:01AM\\xa0\\xa0', 'Mark Zuckerberg Has Had a Terrible Week. And Its Only Tuesday'], ['TWTR', 'Oct-05-21', '07:07AM\\xa0\\xa0', 'If Twitter (NYSE:TWTR) Improves the Selection Effect, it has a Potential to be a Multi-Bagger'], ['TWTR', 'Oct-05-21', '05:26AM\\xa0\\xa0', 'Japan Touts New Capitalism But New Finance Chief Sounds The Same'], ['TWTR', 'Oct-05-21', '04:37AM\\xa0\\xa0', 'Heres What Facebook Says Triggered the Massive Outage on Its Apps'], ['TWTR', 'Oct-05-21', '04:02AM\\xa0\\xa0', 'Facebook outage: What happened, who is to blame and will it happen again?'], ['TWTR', 'Oct-04-21', '06:54PM\\xa0\\xa0', 'Facebook Begins Recovery After Major Outage Shut Down Apps'], ['TWTR', 'Oct-04-21', '02:11PM\\xa0\\xa0', 'Facebook blackout sends users flocking to Twitter: Hello literally everyone'], ['TWTR', 'Oct-04-21', '01:31PM\\xa0\\xa0', 'Why Twitter Shares Are Falling'], ['TWTR', 'Oct-04-21', '05:30AM\\xa0\\xa0', 'A Three-Day Work Week? One Startup Experiments to Draw Talent'], ['TWTR', 'Oct-03-21', '10:00AM\\xa0\\xa0', 'Does Twitter CEO Jack Dorsey Hate Ethereum?'], ['TWTR', 'Oct-03-21', '07:23AM\\xa0\\xa0', 'UAE on High Alert, Oman Suspends Flights as Cyclone Nears'], ['TWTR', 'Oct-02-21', '10:22AM\\xa0\\xa0', 'U.K. Fuel Shortages Ease but Situation Worsens Around London'], ['TWTR', 'Oct-02-21', '03:10AM\\xa0\\xa0', 'UPDATE 2-Trump asks U.S. judge to force Twitter to restart his account'], ['TWTR', 'Oct-01-21', '11:58PM\\xa0\\xa0', 'Trump asks U.S. judge to force Twitter to restart his account'], ['TWTR', 'Oct-01-21', '11:37PM\\xa0\\xa0', 'Trump asks Florida judge to force Twitter to restart his account - Bloomberg News'], ['TWTR', 'Oct-01-21', '05:27PM\\xa0\\xa0', 'Why Twitter Stock Fell Sharply This Week'], ['TWTR', 'Oct-01-21', '12:43PM\\xa0\\xa0', \"Is Twitter Stock A Buy Right Now? Here's What Earnings, Charts Show\"], ['TWTR', 'Sep-30-21', '11:23AM\\xa0\\xa0', 'How Securitize is providing a platform for investors to access private markets'], ['TWTR', 'Sep-29-21', '01:04PM\\xa0\\xa0', 'U.K. Oil Firms Say Fuel Crisis Easing as Government Steps In'], ['TWTR', 'Sep-29-21', '12:02PM\\xa0\\xa0', \"La Palma volcano lava reaches Atlantic Ocean, Japan's new Prime Minister, Hong Kong tightens anti-doxxing law\"], ['TWTR', 'Sep-29-21', '09:00AM\\xa0\\xa0', 'YouTube Will Remove Videos With Misinformation About Any Vaccine'], ['TWTR', 'Sep-29-21', '07:07AM\\xa0\\xa0', 'Rave James Bond Reviews Raise Hopes for Moviegoing Revival'], ['TWTR', 'Sep-29-21', '07:05AM\\xa0\\xa0', 'Hong Kong Passes Tougher Anti-Doxxing Bill That Spooked Big Tech'], ['TWTR', 'Sep-28-21', '10:54AM\\xa0\\xa0', 'Why Twitter Shares Are Falling'], ['TWTR', 'Sep-25-21', '11:23AM\\xa0\\xa0', 'U.S. Move to End Huawei Saga Helps China Ties - at a Cost'], ['TWTR', 'Sep-24-21', '08:26PM\\xa0\\xa0', 'Huawei CFO Meng Wanzhou Leaves Canada on a Flight to China'], ['TWTR', 'Sep-24-21', '11:32AM\\xa0\\xa0', \"Twitter's Bitcoin Tipping Feature Could Be a Fatal Disrupter to Entire Wire Transfer Industry\"], ['TWTR', 'Sep-24-21', '11:19AM\\xa0\\xa0', 'IACs push to acquire Meredith, Boppy baby pillow recall, Twitter enables Bitcoin tips'], ['TWTR', 'Sep-24-21', '11:09AM\\xa0\\xa0', 'Twitter (TWTR) Enables Bitcoin Tipping, Safety Features & More'], ['TWTR', 'Sep-24-21', '06:24AM\\xa0\\xa0', \"Everything Investors Need to Know About Twitter's Bitcoin Tipping\"], ['TWTR', 'Sep-24-21', '06:17AM\\xa0\\xa0', 'Bitcoin falls as China declares all crypto transactions illegal'], ['TWTR', 'Sep-23-21', '07:35PM\\xa0\\xa0', 'UPDATE 1-Twitter rolls out bitcoin tipping, safety features in product push'], ['TWTR', 'Sep-23-21', '06:29PM\\xa0\\xa0', 'Twitter Readies Bitcoin Payments, Explores NFTs'], ['TWTR', 'Sep-23-21', '03:52PM\\xa0\\xa0', 'Why Dogecoin, Ethereum, and Bitcoin Popped Today'], ['TWTR', 'Sep-23-21', '03:13PM\\xa0\\xa0', 'Why the debut of tipping bitcoin on Twitter isnt just about tipping'], ['TWTR', 'Sep-23-21', '02:35PM\\xa0\\xa0', 'Twitter Will Now Let People Pay You for Your Tweets'], ['TWTR', 'Sep-23-21', '02:29PM\\xa0\\xa0', 'Tip your top tweeter with bitcoin, starting soon'], ['TWTR', 'Sep-23-21', '02:24PM\\xa0\\xa0', \"Is Twitter Stock A Buy Right Now? Here's What Earnings, Charts Show\"], ['TWTR', 'Sep-23-21', '01:24PM\\xa0\\xa0', 'N.Y. Readies for Worker Shortage; Singapore Record: Virus Update'], ['TWTR', 'Sep-23-21', '01:03PM\\xa0\\xa0', 'Twitter rolls out bitcoin tipping, safety features in product push'], ['TWTR', 'Sep-23-21', '01:00PM\\xa0\\xa0', 'Twitter is adding Bitcoin payments to its app to send another user crypto'], ['TWTR', 'Sep-23-21', '01:00PM\\xa0\\xa0', 'Twitter rolls out tips feature globally and adds support for Bitcoin'], ['TWTR', 'Sep-23-21', '01:00PM\\xa0\\xa0', 'Twitter rolls out bitcoin tipping, safety features in product push'], ['TWTR', 'Sep-23-21', '01:00PM\\xa0\\xa0', 'Twitter Adds Bitcoin Tipping, Pushes Further Into NFTs'], ['TWTR', 'Sep-22-21', '06:01PM\\xa0\\xa0', 'EU Is Warned Green Label for Gas Would Be Disastrous Mistake'], ['TWTR', 'Sep-22-21', '01:36PM\\xa0\\xa0', 'Apple Bans Fortnite Until Appeals Are Exhausted in Lawsuit'], ['TWTR', 'Sep-22-21', '08:40AM\\xa0\\xa0', 'ECB to Weigh QE Boost When Covid Bond Buys End, Muller Says'], ['TWTR', 'Sep-21-21', '10:04PM\\xa0\\xa0', 'Hedge Funds Are Dumping Twitter Inc (TWTR)'], ['TWTR', 'Sep-21-21', '04:00AM\\xa0\\xa0', 'Google Worker Unrest Rises After Removal of Russia Voting App'], ['TWTR', 'Sep-20-21', '04:36PM\\xa0\\xa0', 'Facebook, Alphabet Poised for Bigger Fines Over Russia Content'], ['TWTR', 'Sep-20-21', '03:04PM\\xa0\\xa0', 'Twitter to Pay $810 Million to Settle Lawsuit'], ['TWTR', 'Sep-20-21', '01:53PM\\xa0\\xa0', 'Twitter (NYSE:TWTR) Has A Pretty Healthy Balance Sheet'], ['TWTR', 'Sep-20-21', '11:30AM\\xa0\\xa0', 'Why Twitter Stock Is Under Pressure Today'], ['TWTR', 'Sep-20-21', '10:35AM\\xa0\\xa0', 'Twitter in $810 Million Settlement of Shareholder Suit on Growth'], ['TWTR', 'Sep-20-21', '09:44AM\\xa0\\xa0', 'UPDATE 2-Twitter seeks to settle 2016 class action lawsuit for $800 mln'], ['TWTR', 'Sep-20-21', '09:32AM\\xa0\\xa0', 'Twitter to pay $800 million in class-action settlement']]\n"
     ]
    }
   ],
   "source": [
    "parsed_data = []\n",
    "\n",
    "for company, news_table in news_tables.items(): # this will go through the keys we created above, company and texts\n",
    "    for row in news_table.find_all('tr'): # the text in in tr, inorder to get all text we need to write find_all if we say find we will get  only tr\n",
    "        comment = row.a.text\n",
    "        date_data = row.td.text.split(' ')\n",
    "        if len(date_data) == 1:\n",
    "            time = date_data[0]\n",
    "        else:\n",
    "            date = date_data[0]\n",
    "            time = date_data[1]\n",
    "        parsed_data.append([company,date,time,comment])\n",
    "\n",
    "        \n",
    "print(parsed_data)"
   ]
  },
  {
   "cell_type": "code",
   "execution_count": 44,
   "metadata": {},
   "outputs": [
    {
     "name": "stdout",
     "output_type": "stream",
     "text": [
      "    Company       Date       Time  \\\n",
      "0      AMZN  Oct-10-21  10:30AM     \n",
      "1      AMZN  Oct-10-21  09:45AM     \n",
      "2      AMZN  Oct-09-21  11:33AM     \n",
      "3      AMZN  Oct-09-21  11:00AM     \n",
      "4      AMZN  Oct-09-21  10:52AM     \n",
      "..      ...        ...        ...   \n",
      "395    TWTR  Sep-20-21  01:53PM     \n",
      "396    TWTR  Sep-20-21  11:30AM     \n",
      "397    TWTR  Sep-20-21  10:35AM     \n",
      "398    TWTR  Sep-20-21  09:44AM     \n",
      "399    TWTR  Sep-20-21  09:32AM     \n",
      "\n",
      "                                              Comments  \n",
      "0    Could Robotics Be Amazon's Next Big Growth Dri...  \n",
      "1    3 Brick-and-Mortar Stores That Can Thrive in a...  \n",
      "2    3 Investors Compare the Market Crash of 2020 W...  \n",
      "3    Why The Holiday Season Could Be Better Than Yo...  \n",
      "4    10 Stocks Better than Walmart (WMT) According ...  \n",
      "..                                                 ...  \n",
      "395  Twitter (NYSE:TWTR) Has A Pretty Healthy Balan...  \n",
      "396          Why Twitter Stock Is Under Pressure Today  \n",
      "397  Twitter in $810 Million Settlement of Sharehol...  \n",
      "398  UPDATE 2-Twitter seeks to settle 2016 class ac...  \n",
      "399  Twitter to pay $800 million in class-action se...  \n",
      "\n",
      "[400 rows x 4 columns]\n"
     ]
    }
   ],
   "source": [
    "\n",
    "df = pd.DataFrame(parsed_data, columns=['Company','Date','Time','Comments'])\n",
    "# Analyse your text\n",
    "vader = SentimentIntensityAnalyzer()\n",
    "\n",
    "print(df)"
   ]
  },
  {
   "cell_type": "code",
   "execution_count": 45,
   "metadata": {},
   "outputs": [
    {
     "data": {
      "text/plain": [
       "Index(['Company', 'Date', 'Time', 'Comments'], dtype='object')"
      ]
     },
     "execution_count": 45,
     "metadata": {},
     "output_type": "execute_result"
    }
   ],
   "source": [
    "df.columns"
   ]
  },
  {
   "cell_type": "code",
   "execution_count": 46,
   "metadata": {},
   "outputs": [
    {
     "data": {
      "text/html": [
       "<div>\n",
       "<style scoped>\n",
       "    .dataframe tbody tr th:only-of-type {\n",
       "        vertical-align: middle;\n",
       "    }\n",
       "\n",
       "    .dataframe tbody tr th {\n",
       "        vertical-align: top;\n",
       "    }\n",
       "\n",
       "    .dataframe thead th {\n",
       "        text-align: right;\n",
       "    }\n",
       "</style>\n",
       "<table border=\"1\" class=\"dataframe\">\n",
       "  <thead>\n",
       "    <tr style=\"text-align: right;\">\n",
       "      <th></th>\n",
       "      <th>Company</th>\n",
       "      <th>Date</th>\n",
       "      <th>Time</th>\n",
       "      <th>Comments</th>\n",
       "    </tr>\n",
       "  </thead>\n",
       "  <tbody>\n",
       "    <tr>\n",
       "      <th>0</th>\n",
       "      <td>AMZN</td>\n",
       "      <td>Oct-10-21</td>\n",
       "      <td>10:30AM</td>\n",
       "      <td>Could Robotics Be Amazon's Next Big Growth Dri...</td>\n",
       "    </tr>\n",
       "    <tr>\n",
       "      <th>1</th>\n",
       "      <td>AMZN</td>\n",
       "      <td>Oct-10-21</td>\n",
       "      <td>09:45AM</td>\n",
       "      <td>3 Brick-and-Mortar Stores That Can Thrive in a...</td>\n",
       "    </tr>\n",
       "    <tr>\n",
       "      <th>2</th>\n",
       "      <td>AMZN</td>\n",
       "      <td>Oct-09-21</td>\n",
       "      <td>11:33AM</td>\n",
       "      <td>3 Investors Compare the Market Crash of 2020 W...</td>\n",
       "    </tr>\n",
       "    <tr>\n",
       "      <th>3</th>\n",
       "      <td>AMZN</td>\n",
       "      <td>Oct-09-21</td>\n",
       "      <td>11:00AM</td>\n",
       "      <td>Why The Holiday Season Could Be Better Than Yo...</td>\n",
       "    </tr>\n",
       "    <tr>\n",
       "      <th>4</th>\n",
       "      <td>AMZN</td>\n",
       "      <td>Oct-09-21</td>\n",
       "      <td>10:52AM</td>\n",
       "      <td>10 Stocks Better than Walmart (WMT) According ...</td>\n",
       "    </tr>\n",
       "  </tbody>\n",
       "</table>\n",
       "</div>"
      ],
      "text/plain": [
       "  Company       Date       Time  \\\n",
       "0    AMZN  Oct-10-21  10:30AM     \n",
       "1    AMZN  Oct-10-21  09:45AM     \n",
       "2    AMZN  Oct-09-21  11:33AM     \n",
       "3    AMZN  Oct-09-21  11:00AM     \n",
       "4    AMZN  Oct-09-21  10:52AM     \n",
       "\n",
       "                                            Comments  \n",
       "0  Could Robotics Be Amazon's Next Big Growth Dri...  \n",
       "1  3 Brick-and-Mortar Stores That Can Thrive in a...  \n",
       "2  3 Investors Compare the Market Crash of 2020 W...  \n",
       "3  Why The Holiday Season Could Be Better Than Yo...  \n",
       "4  10 Stocks Better than Walmart (WMT) According ...  "
      ]
     },
     "execution_count": 46,
     "metadata": {},
     "output_type": "execute_result"
    }
   ],
   "source": [
    "df.head()"
   ]
  },
  {
   "cell_type": "code",
   "execution_count": 47,
   "metadata": {},
   "outputs": [],
   "source": [
    "scores = []\n",
    "# Declare variables for scores\n",
    "compound_list = []\n",
    "positive_list = []\n",
    "negative_list = []\n",
    "neutral_list = []\n",
    "for i in range(df['Comments'].shape[0]):\n",
    "#print(analyser.polarity_scores(sentiments_pd['text'][i]))\n",
    "    compound =vader.polarity_scores(df['Comments'][i])[\"compound\"]\n",
    "    pos = vader.polarity_scores(df['Comments'][i])[\"pos\"]\n",
    "    neu = vader.polarity_scores(df['Comments'][i])[\"neu\"]\n",
    "    neg = vader.polarity_scores(df['Comments'][i])[\"neg\"]\n",
    "    \n",
    "    scores.append({\"Compound\": compound,\n",
    "                       \"Positive\": pos,\n",
    "                       \"Negative\": neg,\n",
    "                       \"Neutral\": neu\n",
    "                  })"
   ]
  },
  {
   "cell_type": "code",
   "execution_count": 48,
   "metadata": {},
   "outputs": [
    {
     "name": "stdout",
     "output_type": "stream",
     "text": [
      "[{'Compound': 0.3818, 'Positive': 0.271, 'Negative': 0.0, 'Neutral': 0.729}, {'Compound': 0.0, 'Positive': 0.0, 'Negative': 0.0, 'Neutral': 1.0}, {'Compound': -0.6597, 'Positive': 0.0, 'Negative': 0.329, 'Neutral': 0.671}, {'Compound': 0.6808, 'Positive': 0.412, 'Negative': 0.0, 'Neutral': 0.588}, {'Compound': 0.4404, 'Positive': 0.244, 'Negative': 0.0, 'Neutral': 0.756}, {'Compound': 0.0, 'Positive': 0.0, 'Negative': 0.0, 'Neutral': 1.0}, {'Compound': 0.4767, 'Positive': 0.22, 'Negative': 0.0, 'Neutral': 0.78}, {'Compound': 0.0, 'Positive': 0.0, 'Negative': 0.0, 'Neutral': 1.0}, {'Compound': 0.0, 'Positive': 0.0, 'Negative': 0.0, 'Neutral': 1.0}, {'Compound': 0.0, 'Positive': 0.0, 'Negative': 0.0, 'Neutral': 1.0}, {'Compound': 0.0772, 'Positive': 0.159, 'Negative': 0.14, 'Neutral': 0.701}, {'Compound': 0.1779, 'Positive': 0.159, 'Negative': 0.0, 'Neutral': 0.841}, {'Compound': 0.5267, 'Positive': 0.185, 'Negative': 0.0, 'Neutral': 0.815}, {'Compound': 0.1779, 'Positive': 0.175, 'Negative': 0.0, 'Neutral': 0.825}, {'Compound': 0.1779, 'Positive': 0.362, 'Negative': 0.0, 'Neutral': 0.638}, {'Compound': 0.0, 'Positive': 0.0, 'Negative': 0.0, 'Neutral': 1.0}, {'Compound': 0.3182, 'Positive': 0.108, 'Negative': 0.0, 'Neutral': 0.892}, {'Compound': -0.5106, 'Positive': 0.129, 'Negative': 0.518, 'Neutral': 0.353}, {'Compound': 0.0, 'Positive': 0.0, 'Negative': 0.0, 'Neutral': 1.0}, {'Compound': 0.0, 'Positive': 0.0, 'Negative': 0.0, 'Neutral': 1.0}, {'Compound': 0.0, 'Positive': 0.0, 'Negative': 0.0, 'Neutral': 1.0}, {'Compound': 0.4019, 'Positive': 0.474, 'Negative': 0.0, 'Neutral': 0.526}, {'Compound': 0.0, 'Positive': 0.0, 'Negative': 0.0, 'Neutral': 1.0}, {'Compound': 0.0, 'Positive': 0.0, 'Negative': 0.0, 'Neutral': 1.0}, {'Compound': 0.2023, 'Positive': 0.205, 'Negative': 0.0, 'Neutral': 0.795}, {'Compound': 0.0, 'Positive': 0.0, 'Negative': 0.0, 'Neutral': 1.0}, {'Compound': 0.0, 'Positive': 0.0, 'Negative': 0.0, 'Neutral': 1.0}, {'Compound': 0.1779, 'Positive': 0.175, 'Negative': 0.0, 'Neutral': 0.825}, {'Compound': -0.2263, 'Positive': 0.119, 'Negative': 0.182, 'Neutral': 0.699}, {'Compound': 0.1779, 'Positive': 0.116, 'Negative': 0.0, 'Neutral': 0.884}, {'Compound': -0.128, 'Positive': 0.0, 'Negative': 0.12, 'Neutral': 0.88}, {'Compound': 0.6486, 'Positive': 0.261, 'Negative': 0.0, 'Neutral': 0.739}, {'Compound': -0.1027, 'Positive': 0.25, 'Negative': 0.214, 'Neutral': 0.536}, {'Compound': 0.0, 'Positive': 0.0, 'Negative': 0.0, 'Neutral': 1.0}, {'Compound': 0.3818, 'Positive': 0.342, 'Negative': 0.0, 'Neutral': 0.658}, {'Compound': 0.0, 'Positive': 0.0, 'Negative': 0.0, 'Neutral': 1.0}, {'Compound': 0.2263, 'Positive': 0.112, 'Negative': 0.0, 'Neutral': 0.888}, {'Compound': 0.0, 'Positive': 0.0, 'Negative': 0.0, 'Neutral': 1.0}, {'Compound': 0.0, 'Positive': 0.0, 'Negative': 0.0, 'Neutral': 1.0}, {'Compound': 0.0, 'Positive': 0.0, 'Negative': 0.0, 'Neutral': 1.0}, {'Compound': 0.1779, 'Positive': 0.175, 'Negative': 0.0, 'Neutral': 0.825}, {'Compound': 0.0, 'Positive': 0.0, 'Negative': 0.0, 'Neutral': 1.0}, {'Compound': 0.0, 'Positive': 0.0, 'Negative': 0.0, 'Neutral': 1.0}, {'Compound': 0.1779, 'Positive': 0.159, 'Negative': 0.0, 'Neutral': 0.841}, {'Compound': 0.2617, 'Positive': 0.136, 'Negative': 0.0, 'Neutral': 0.864}, {'Compound': 0.2732, 'Positive': 0.279, 'Negative': 0.0, 'Neutral': 0.721}, {'Compound': 0.0, 'Positive': 0.0, 'Negative': 0.0, 'Neutral': 1.0}, {'Compound': -0.2023, 'Positive': 0.154, 'Negative': 0.269, 'Neutral': 0.577}, {'Compound': 0.1779, 'Positive': 0.298, 'Negative': 0.0, 'Neutral': 0.702}, {'Compound': -0.1027, 'Positive': 0.0, 'Negative': 0.113, 'Neutral': 0.887}, {'Compound': 0.0, 'Positive': 0.0, 'Negative': 0.0, 'Neutral': 1.0}, {'Compound': 0.0, 'Positive': 0.0, 'Negative': 0.0, 'Neutral': 1.0}, {'Compound': 0.0772, 'Positive': 0.168, 'Negative': 0.139, 'Neutral': 0.693}, {'Compound': 0.3182, 'Positive': 0.202, 'Negative': 0.101, 'Neutral': 0.698}, {'Compound': 0.0772, 'Positive': 0.168, 'Negative': 0.139, 'Neutral': 0.693}, {'Compound': 0.1779, 'Positive': 0.165, 'Negative': 0.101, 'Neutral': 0.734}, {'Compound': 0.0, 'Positive': 0.0, 'Negative': 0.0, 'Neutral': 1.0}, {'Compound': 0.4767, 'Positive': 0.421, 'Negative': 0.0, 'Neutral': 0.579}, {'Compound': 0.0, 'Positive': 0.0, 'Negative': 0.0, 'Neutral': 1.0}, {'Compound': 0.5267, 'Positive': 0.254, 'Negative': 0.0, 'Neutral': 0.746}, {'Compound': 0.0, 'Positive': 0.0, 'Negative': 0.0, 'Neutral': 1.0}, {'Compound': 0.0, 'Positive': 0.0, 'Negative': 0.0, 'Neutral': 1.0}, {'Compound': 0.0, 'Positive': 0.0, 'Negative': 0.0, 'Neutral': 1.0}, {'Compound': -0.5859, 'Positive': 0.0, 'Negative': 0.407, 'Neutral': 0.593}, {'Compound': 0.0, 'Positive': 0.0, 'Negative': 0.0, 'Neutral': 1.0}, {'Compound': 0.1779, 'Positive': 0.175, 'Negative': 0.0, 'Neutral': 0.825}, {'Compound': 0.7783, 'Positive': 0.459, 'Negative': 0.0, 'Neutral': 0.541}, {'Compound': 0.1779, 'Positive': 0.175, 'Negative': 0.0, 'Neutral': 0.825}, {'Compound': 0.4019, 'Positive': 0.252, 'Negative': 0.0, 'Neutral': 0.748}, {'Compound': 0.1779, 'Positive': 0.298, 'Negative': 0.0, 'Neutral': 0.702}, {'Compound': 0.4404, 'Positive': 0.328, 'Negative': 0.0, 'Neutral': 0.672}, {'Compound': 0.0772, 'Positive': 0.157, 'Negative': 0.0, 'Neutral': 0.843}, {'Compound': 0.0, 'Positive': 0.0, 'Negative': 0.0, 'Neutral': 1.0}, {'Compound': 0.0, 'Positive': 0.0, 'Negative': 0.0, 'Neutral': 1.0}, {'Compound': 0.1779, 'Positive': 0.195, 'Negative': 0.0, 'Neutral': 0.805}, {'Compound': 0.6249, 'Positive': 0.406, 'Negative': 0.0, 'Neutral': 0.594}, {'Compound': 0.5719, 'Positive': 0.37, 'Negative': 0.0, 'Neutral': 0.63}, {'Compound': 0.0, 'Positive': 0.0, 'Negative': 0.0, 'Neutral': 1.0}, {'Compound': -0.1027, 'Positive': 0.25, 'Negative': 0.287, 'Neutral': 0.463}, {'Compound': 0.0, 'Positive': 0.0, 'Negative': 0.0, 'Neutral': 1.0}, {'Compound': 0.1779, 'Positive': 0.145, 'Negative': 0.0, 'Neutral': 0.855}, {'Compound': 0.1779, 'Positive': 0.175, 'Negative': 0.0, 'Neutral': 0.825}, {'Compound': 0.1779, 'Positive': 0.134, 'Negative': 0.0, 'Neutral': 0.866}, {'Compound': 0.296, 'Positive': 0.239, 'Negative': 0.0, 'Neutral': 0.761}, {'Compound': 0.1779, 'Positive': 0.159, 'Negative': 0.0, 'Neutral': 0.841}, {'Compound': 0.5423, 'Positive': 0.333, 'Negative': 0.0, 'Neutral': 0.667}, {'Compound': -0.296, 'Positive': 0.229, 'Negative': 0.244, 'Neutral': 0.526}, {'Compound': 0.3818, 'Positive': 0.263, 'Negative': 0.096, 'Neutral': 0.641}, {'Compound': -0.357, 'Positive': 0.0, 'Negative': 0.184, 'Neutral': 0.816}, {'Compound': -0.4404, 'Positive': 0.0, 'Negative': 0.209, 'Neutral': 0.791}, {'Compound': 0.1779, 'Positive': 0.254, 'Negative': 0.0, 'Neutral': 0.746}, {'Compound': 0.0, 'Positive': 0.0, 'Negative': 0.0, 'Neutral': 1.0}, {'Compound': -0.1326, 'Positive': 0.0, 'Negative': 0.132, 'Neutral': 0.868}, {'Compound': 0.0, 'Positive': 0.0, 'Negative': 0.0, 'Neutral': 1.0}, {'Compound': -0.3182, 'Positive': 0.0, 'Negative': 0.277, 'Neutral': 0.723}, {'Compound': 0.0, 'Positive': 0.0, 'Negative': 0.0, 'Neutral': 1.0}, {'Compound': 0.2023, 'Positive': 0.184, 'Negative': 0.0, 'Neutral': 0.816}, {'Compound': 0.4939, 'Positive': 0.344, 'Negative': 0.0, 'Neutral': 0.656}, {'Compound': 0.4939, 'Positive': 0.262, 'Negative': 0.0, 'Neutral': 0.738}, {'Compound': 0.4019, 'Positive': 0.267, 'Negative': 0.141, 'Neutral': 0.593}, {'Compound': -0.3182, 'Positive': 0.0, 'Negative': 0.223, 'Neutral': 0.777}, {'Compound': -0.1531, 'Positive': 0.0, 'Negative': 0.086, 'Neutral': 0.914}, {'Compound': 0.6369, 'Positive': 0.296, 'Negative': 0.0, 'Neutral': 0.704}, {'Compound': -0.3182, 'Positive': 0.0, 'Negative': 0.247, 'Neutral': 0.753}, {'Compound': -0.3182, 'Positive': 0.0, 'Negative': 0.247, 'Neutral': 0.753}, {'Compound': -0.1027, 'Positive': 0.0, 'Negative': 0.259, 'Neutral': 0.741}, {'Compound': 0.0, 'Positive': 0.0, 'Negative': 0.0, 'Neutral': 1.0}, {'Compound': 0.0, 'Positive': 0.0, 'Negative': 0.0, 'Neutral': 1.0}, {'Compound': 0.4767, 'Positive': 0.383, 'Negative': 0.0, 'Neutral': 0.617}, {'Compound': 0.0, 'Positive': 0.0, 'Negative': 0.0, 'Neutral': 1.0}, {'Compound': 0.0, 'Positive': 0.0, 'Negative': 0.0, 'Neutral': 1.0}, {'Compound': -0.1779, 'Positive': 0.171, 'Negative': 0.231, 'Neutral': 0.598}, {'Compound': -0.296, 'Positive': 0.0, 'Negative': 0.167, 'Neutral': 0.833}, {'Compound': 0.0, 'Positive': 0.0, 'Negative': 0.0, 'Neutral': 1.0}, {'Compound': 0.6369, 'Positive': 0.244, 'Negative': 0.0, 'Neutral': 0.756}, {'Compound': 0.0772, 'Positive': 0.159, 'Negative': 0.14, 'Neutral': 0.701}, {'Compound': -0.6486, 'Positive': 0.0, 'Negative': 0.346, 'Neutral': 0.654}, {'Compound': 0.0, 'Positive': 0.0, 'Negative': 0.0, 'Neutral': 1.0}, {'Compound': 0.4939, 'Positive': 0.167, 'Negative': 0.0, 'Neutral': 0.833}, {'Compound': 0.0, 'Positive': 0.0, 'Negative': 0.0, 'Neutral': 1.0}, {'Compound': 0.0, 'Positive': 0.0, 'Negative': 0.0, 'Neutral': 1.0}, {'Compound': 0.0, 'Positive': 0.0, 'Negative': 0.0, 'Neutral': 1.0}, {'Compound': 0.2023, 'Positive': 0.122, 'Negative': 0.0, 'Neutral': 0.878}, {'Compound': 0.1779, 'Positive': 0.221, 'Negative': 0.0, 'Neutral': 0.779}, {'Compound': -0.34, 'Positive': 0.0, 'Negative': 0.255, 'Neutral': 0.745}, {'Compound': -0.3182, 'Positive': 0.0, 'Negative': 0.247, 'Neutral': 0.753}, {'Compound': 0.0, 'Positive': 0.0, 'Negative': 0.0, 'Neutral': 1.0}, {'Compound': 0.0, 'Positive': 0.0, 'Negative': 0.0, 'Neutral': 1.0}, {'Compound': 0.0, 'Positive': 0.0, 'Negative': 0.0, 'Neutral': 1.0}, {'Compound': 0.2023, 'Positive': 0.205, 'Negative': 0.0, 'Neutral': 0.795}, {'Compound': 0.0, 'Positive': 0.0, 'Negative': 0.0, 'Neutral': 1.0}, {'Compound': -0.7184, 'Positive': 0.0, 'Negative': 0.429, 'Neutral': 0.571}, {'Compound': -0.3612, 'Positive': 0.0, 'Negative': 0.122, 'Neutral': 0.878}, {'Compound': 0.0, 'Positive': 0.0, 'Negative': 0.0, 'Neutral': 1.0}, {'Compound': -0.6486, 'Positive': 0.0, 'Negative': 0.346, 'Neutral': 0.654}, {'Compound': 0.0, 'Positive': 0.176, 'Negative': 0.176, 'Neutral': 0.648}, {'Compound': -0.34, 'Positive': 0.0, 'Negative': 0.211, 'Neutral': 0.789}, {'Compound': 0.0, 'Positive': 0.0, 'Negative': 0.0, 'Neutral': 1.0}, {'Compound': -0.0258, 'Positive': 0.163, 'Negative': 0.17, 'Neutral': 0.667}, {'Compound': 0.0, 'Positive': 0.0, 'Negative': 0.0, 'Neutral': 1.0}, {'Compound': 0.6652, 'Positive': 0.271, 'Negative': 0.0, 'Neutral': 0.729}, {'Compound': 0.6486, 'Positive': 0.261, 'Negative': 0.0, 'Neutral': 0.739}, {'Compound': 0.0, 'Positive': 0.0, 'Negative': 0.0, 'Neutral': 1.0}, {'Compound': 0.0, 'Positive': 0.0, 'Negative': 0.0, 'Neutral': 1.0}, {'Compound': 0.4754, 'Positive': 0.279, 'Negative': 0.0, 'Neutral': 0.721}, {'Compound': 0.296, 'Positive': 0.239, 'Negative': 0.0, 'Neutral': 0.761}, {'Compound': 0.0, 'Positive': 0.0, 'Negative': 0.0, 'Neutral': 1.0}, {'Compound': 0.0, 'Positive': 0.0, 'Negative': 0.0, 'Neutral': 1.0}, {'Compound': 0.0, 'Positive': 0.0, 'Negative': 0.0, 'Neutral': 1.0}, {'Compound': 0.5267, 'Positive': 0.3, 'Negative': 0.129, 'Neutral': 0.571}, {'Compound': 0.0772, 'Positive': 0.115, 'Negative': 0.0, 'Neutral': 0.885}, {'Compound': 0.0772, 'Positive': 0.115, 'Negative': 0.0, 'Neutral': 0.885}, {'Compound': 0.7096, 'Positive': 0.282, 'Negative': 0.0, 'Neutral': 0.718}, {'Compound': 0.0, 'Positive': 0.0, 'Negative': 0.0, 'Neutral': 1.0}, {'Compound': 0.0, 'Positive': 0.0, 'Negative': 0.0, 'Neutral': 1.0}, {'Compound': 0.1779, 'Positive': 0.165, 'Negative': 0.101, 'Neutral': 0.734}, {'Compound': 0.7096, 'Positive': 0.296, 'Negative': 0.0, 'Neutral': 0.704}, {'Compound': 0.7096, 'Positive': 0.349, 'Negative': 0.0, 'Neutral': 0.651}, {'Compound': 0.4767, 'Positive': 0.237, 'Negative': 0.0, 'Neutral': 0.763}, {'Compound': 0.0, 'Positive': 0.0, 'Negative': 0.0, 'Neutral': 1.0}, {'Compound': 0.0, 'Positive': 0.0, 'Negative': 0.0, 'Neutral': 1.0}, {'Compound': 0.0, 'Positive': 0.0, 'Negative': 0.0, 'Neutral': 1.0}, {'Compound': -0.5574, 'Positive': 0.0, 'Negative': 0.34, 'Neutral': 0.66}, {'Compound': -0.34, 'Positive': 0.0, 'Negative': 0.211, 'Neutral': 0.789}, {'Compound': 0.0, 'Positive': 0.0, 'Negative': 0.0, 'Neutral': 1.0}, {'Compound': 0.4019, 'Positive': 0.252, 'Negative': 0.0, 'Neutral': 0.748}, {'Compound': 0.0, 'Positive': 0.0, 'Negative': 0.0, 'Neutral': 1.0}, {'Compound': 0.1779, 'Positive': 0.195, 'Negative': 0.0, 'Neutral': 0.805}, {'Compound': -0.1027, 'Positive': 0.25, 'Negative': 0.287, 'Neutral': 0.463}, {'Compound': 0.0, 'Positive': 0.0, 'Negative': 0.0, 'Neutral': 1.0}, {'Compound': 0.0, 'Positive': 0.0, 'Negative': 0.0, 'Neutral': 1.0}, {'Compound': 0.0, 'Positive': 0.0, 'Negative': 0.0, 'Neutral': 1.0}, {'Compound': 0.0, 'Positive': 0.0, 'Negative': 0.0, 'Neutral': 1.0}, {'Compound': 0.4576, 'Positive': 0.23, 'Negative': 0.0, 'Neutral': 0.77}, {'Compound': 0.0, 'Positive': 0.0, 'Negative': 0.0, 'Neutral': 1.0}, {'Compound': 0.34, 'Positive': 0.231, 'Negative': 0.0, 'Neutral': 0.769}, {'Compound': 0.1027, 'Positive': 0.161, 'Negative': 0.125, 'Neutral': 0.714}, {'Compound': 0.0, 'Positive': 0.0, 'Negative': 0.0, 'Neutral': 1.0}, {'Compound': -0.3612, 'Positive': 0.197, 'Negative': 0.357, 'Neutral': 0.446}, {'Compound': 0.0, 'Positive': 0.0, 'Negative': 0.0, 'Neutral': 1.0}, {'Compound': 0.4215, 'Positive': 0.237, 'Negative': 0.0, 'Neutral': 0.763}, {'Compound': 0.3818, 'Positive': 0.157, 'Negative': 0.0, 'Neutral': 0.843}, {'Compound': -0.34, 'Positive': 0.0, 'Negative': 0.231, 'Neutral': 0.769}, {'Compound': 0.296, 'Positive': 0.355, 'Negative': 0.0, 'Neutral': 0.645}, {'Compound': -0.4404, 'Positive': 0.0, 'Negative': 0.209, 'Neutral': 0.791}, {'Compound': 0.0, 'Positive': 0.0, 'Negative': 0.0, 'Neutral': 1.0}, {'Compound': 0.0, 'Positive': 0.0, 'Negative': 0.0, 'Neutral': 1.0}, {'Compound': -0.6486, 'Positive': 0.0, 'Negative': 0.381, 'Neutral': 0.619}, {'Compound': 0.0, 'Positive': 0.0, 'Negative': 0.0, 'Neutral': 1.0}, {'Compound': 0.0, 'Positive': 0.0, 'Negative': 0.0, 'Neutral': 1.0}, {'Compound': 0.0, 'Positive': 0.0, 'Negative': 0.0, 'Neutral': 1.0}, {'Compound': -0.3182, 'Positive': 0.0, 'Negative': 0.277, 'Neutral': 0.723}, {'Compound': 0.0, 'Positive': 0.0, 'Negative': 0.0, 'Neutral': 1.0}, {'Compound': 0.0, 'Positive': 0.0, 'Negative': 0.0, 'Neutral': 1.0}, {'Compound': 0.2023, 'Positive': 0.184, 'Negative': 0.0, 'Neutral': 0.816}, {'Compound': 0.8056, 'Positive': 0.453, 'Negative': 0.0, 'Neutral': 0.547}, {'Compound': 0.4939, 'Positive': 0.262, 'Negative': 0.0, 'Neutral': 0.738}, {'Compound': 0.2755, 'Positive': 0.297, 'Negative': 0.0, 'Neutral': 0.703}, {'Compound': 0.0, 'Positive': 0.0, 'Negative': 0.0, 'Neutral': 1.0}, {'Compound': 0.0, 'Positive': 0.0, 'Negative': 0.0, 'Neutral': 1.0}, {'Compound': -0.3182, 'Positive': 0.0, 'Negative': 0.223, 'Neutral': 0.777}, {'Compound': 0.3612, 'Positive': 0.185, 'Negative': 0.0, 'Neutral': 0.815}, {'Compound': -0.3182, 'Positive': 0.0, 'Negative': 0.247, 'Neutral': 0.753}, {'Compound': -0.3182, 'Positive': 0.0, 'Negative': 0.247, 'Neutral': 0.753}, {'Compound': 0.0, 'Positive': 0.0, 'Negative': 0.0, 'Neutral': 1.0}, {'Compound': 0.0, 'Positive': 0.0, 'Negative': 0.0, 'Neutral': 1.0}, {'Compound': 0.0, 'Positive': 0.0, 'Negative': 0.0, 'Neutral': 1.0}, {'Compound': 0.6369, 'Positive': 0.318, 'Negative': 0.0, 'Neutral': 0.682}, {'Compound': 0.0, 'Positive': 0.0, 'Negative': 0.0, 'Neutral': 1.0}, {'Compound': 0.0, 'Positive': 0.0, 'Negative': 0.0, 'Neutral': 1.0}, {'Compound': 0.0, 'Positive': 0.0, 'Negative': 0.0, 'Neutral': 1.0}, {'Compound': 0.0, 'Positive': 0.0, 'Negative': 0.0, 'Neutral': 1.0}, {'Compound': 0.4404, 'Positive': 0.326, 'Negative': 0.0, 'Neutral': 0.674}, {'Compound': 0.4019, 'Positive': 0.273, 'Negative': 0.151, 'Neutral': 0.576}, {'Compound': 0.4019, 'Positive': 0.295, 'Negative': 0.163, 'Neutral': 0.543}, {'Compound': 0.0, 'Positive': 0.0, 'Negative': 0.0, 'Neutral': 1.0}, {'Compound': 0.3612, 'Positive': 0.185, 'Negative': 0.0, 'Neutral': 0.815}, {'Compound': 0.3612, 'Positive': 0.217, 'Negative': 0.0, 'Neutral': 0.783}, {'Compound': 0.0, 'Positive': 0.0, 'Negative': 0.0, 'Neutral': 1.0}, {'Compound': 0.0, 'Positive': 0.0, 'Negative': 0.0, 'Neutral': 1.0}, {'Compound': 0.2023, 'Positive': 0.141, 'Negative': 0.0, 'Neutral': 0.859}, {'Compound': -0.5719, 'Positive': 0.0, 'Negative': 0.27, 'Neutral': 0.73}, {'Compound': -0.4019, 'Positive': 0.0, 'Negative': 0.231, 'Neutral': 0.769}, {'Compound': -0.4019, 'Positive': 0.0, 'Negative': 0.197, 'Neutral': 0.803}, {'Compound': 0.3612, 'Positive': 0.2, 'Negative': 0.0, 'Neutral': 0.8}, {'Compound': 0.3612, 'Positive': 0.217, 'Negative': 0.0, 'Neutral': 0.783}, {'Compound': 0.0, 'Positive': 0.0, 'Negative': 0.0, 'Neutral': 1.0}, {'Compound': 0.0, 'Positive': 0.0, 'Negative': 0.0, 'Neutral': 1.0}, {'Compound': 0.0, 'Positive': 0.0, 'Negative': 0.0, 'Neutral': 1.0}, {'Compound': 0.0516, 'Positive': 0.109, 'Negative': 0.102, 'Neutral': 0.789}, {'Compound': 0.6874, 'Positive': 0.298, 'Negative': 0.096, 'Neutral': 0.606}, {'Compound': 0.0, 'Positive': 0.0, 'Negative': 0.0, 'Neutral': 1.0}, {'Compound': 0.3818, 'Positive': 0.206, 'Negative': 0.0, 'Neutral': 0.794}, {'Compound': 0.3818, 'Positive': 0.224, 'Negative': 0.0, 'Neutral': 0.776}, {'Compound': 0.891, 'Positive': 0.57, 'Negative': 0.0, 'Neutral': 0.43}, {'Compound': 0.3818, 'Positive': 0.245, 'Negative': 0.0, 'Neutral': 0.755}, {'Compound': -0.3182, 'Positive': 0.0, 'Negative': 0.247, 'Neutral': 0.753}, {'Compound': 0.4215, 'Positive': 0.219, 'Negative': 0.0, 'Neutral': 0.781}, {'Compound': 0.0, 'Positive': 0.0, 'Negative': 0.0, 'Neutral': 1.0}, {'Compound': 0.0, 'Positive': 0.0, 'Negative': 0.0, 'Neutral': 1.0}, {'Compound': 0.0, 'Positive': 0.0, 'Negative': 0.0, 'Neutral': 1.0}, {'Compound': -0.34, 'Positive': 0.0, 'Negative': 0.211, 'Neutral': 0.789}, {'Compound': -0.4549, 'Positive': 0.0, 'Negative': 0.213, 'Neutral': 0.787}, {'Compound': 0.0, 'Positive': 0.0, 'Negative': 0.0, 'Neutral': 1.0}, {'Compound': 0.0, 'Positive': 0.0, 'Negative': 0.0, 'Neutral': 1.0}, {'Compound': 0.0, 'Positive': 0.0, 'Negative': 0.0, 'Neutral': 1.0}, {'Compound': 0.0, 'Positive': 0.0, 'Negative': 0.0, 'Neutral': 1.0}, {'Compound': 0.0, 'Positive': 0.0, 'Negative': 0.0, 'Neutral': 1.0}, {'Compound': -0.5142, 'Positive': 0.0, 'Negative': 0.351, 'Neutral': 0.649}, {'Compound': 0.0, 'Positive': 0.0, 'Negative': 0.0, 'Neutral': 1.0}, {'Compound': -0.6249, 'Positive': 0.0, 'Negative': 0.339, 'Neutral': 0.661}, {'Compound': 0.2023, 'Positive': 0.474, 'Negative': 0.0, 'Neutral': 0.526}, {'Compound': 0.0, 'Positive': 0.0, 'Negative': 0.0, 'Neutral': 1.0}, {'Compound': 0.0, 'Positive': 0.0, 'Negative': 0.0, 'Neutral': 1.0}, {'Compound': 0.0, 'Positive': 0.0, 'Negative': 0.0, 'Neutral': 1.0}, {'Compound': 0.0, 'Positive': 0.0, 'Negative': 0.0, 'Neutral': 1.0}, {'Compound': -0.4023, 'Positive': 0.0, 'Negative': 0.231, 'Neutral': 0.769}, {'Compound': 0.0, 'Positive': 0.0, 'Negative': 0.0, 'Neutral': 1.0}, {'Compound': -0.3716, 'Positive': 0.131, 'Negative': 0.251, 'Neutral': 0.618}, {'Compound': 0.0, 'Positive': 0.0, 'Negative': 0.0, 'Neutral': 1.0}, {'Compound': -0.4588, 'Positive': 0.0, 'Negative': 0.4, 'Neutral': 0.6}, {'Compound': -0.6249, 'Positive': 0.0, 'Negative': 0.369, 'Neutral': 0.631}, {'Compound': -0.296, 'Positive': 0.0, 'Negative': 0.216, 'Neutral': 0.784}, {'Compound': 0.3818, 'Positive': 0.157, 'Negative': 0.0, 'Neutral': 0.843}, {'Compound': 0.0, 'Positive': 0.0, 'Negative': 0.0, 'Neutral': 1.0}, {'Compound': 0.0, 'Positive': 0.0, 'Negative': 0.0, 'Neutral': 1.0}, {'Compound': 0.4215, 'Positive': 0.318, 'Negative': 0.0, 'Neutral': 0.682}, {'Compound': -0.3612, 'Positive': 0.0, 'Negative': 0.294, 'Neutral': 0.706}, {'Compound': -0.5267, 'Positive': 0.087, 'Negative': 0.247, 'Neutral': 0.667}, {'Compound': 0.4404, 'Positive': 0.195, 'Negative': 0.0, 'Neutral': 0.805}, {'Compound': 0.4404, 'Positive': 0.266, 'Negative': 0.0, 'Neutral': 0.734}, {'Compound': 0.0, 'Positive': 0.0, 'Negative': 0.0, 'Neutral': 1.0}, {'Compound': -0.5859, 'Positive': 0.0, 'Negative': 0.407, 'Neutral': 0.593}, {'Compound': -0.34, 'Positive': 0.0, 'Negative': 0.211, 'Neutral': 0.789}, {'Compound': 0.0, 'Positive': 0.0, 'Negative': 0.0, 'Neutral': 1.0}, {'Compound': 0.0, 'Positive': 0.0, 'Negative': 0.0, 'Neutral': 1.0}, {'Compound': 0.0, 'Positive': 0.0, 'Negative': 0.0, 'Neutral': 1.0}, {'Compound': -0.1027, 'Positive': 0.25, 'Negative': 0.287, 'Neutral': 0.463}, {'Compound': 0.0, 'Positive': 0.0, 'Negative': 0.0, 'Neutral': 1.0}, {'Compound': -0.4019, 'Positive': 0.0, 'Negative': 0.213, 'Neutral': 0.787}, {'Compound': 0.0, 'Positive': 0.0, 'Negative': 0.0, 'Neutral': 1.0}, {'Compound': -0.3818, 'Positive': 0.0, 'Negative': 0.34, 'Neutral': 0.66}, {'Compound': 0.0, 'Positive': 0.0, 'Negative': 0.0, 'Neutral': 1.0}, {'Compound': -0.4019, 'Positive': 0.0, 'Negative': 0.213, 'Neutral': 0.787}, {'Compound': 0.3818, 'Positive': 0.245, 'Negative': 0.0, 'Neutral': 0.755}, {'Compound': 0.0, 'Positive': 0.0, 'Negative': 0.0, 'Neutral': 1.0}, {'Compound': -0.4767, 'Positive': 0.0, 'Negative': 0.22, 'Neutral': 0.78}, {'Compound': 0.5859, 'Positive': 0.297, 'Negative': 0.0, 'Neutral': 0.703}, {'Compound': 0.1451, 'Positive': 0.19, 'Negative': 0.153, 'Neutral': 0.657}, {'Compound': 0.0, 'Positive': 0.0, 'Negative': 0.0, 'Neutral': 1.0}, {'Compound': 0.0, 'Positive': 0.0, 'Negative': 0.0, 'Neutral': 1.0}, {'Compound': 0.0, 'Positive': 0.0, 'Negative': 0.0, 'Neutral': 1.0}, {'Compound': 0.3775, 'Positive': 0.183, 'Negative': 0.0, 'Neutral': 0.817}, {'Compound': -0.4404, 'Positive': 0.0, 'Negative': 0.225, 'Neutral': 0.775}, {'Compound': -0.0772, 'Positive': 0.0, 'Negative': 0.14, 'Neutral': 0.86}, {'Compound': 0.0, 'Positive': 0.0, 'Negative': 0.0, 'Neutral': 1.0}, {'Compound': 0.0, 'Positive': 0.0, 'Negative': 0.0, 'Neutral': 1.0}, {'Compound': 0.296, 'Positive': 0.18, 'Negative': 0.0, 'Neutral': 0.82}, {'Compound': -0.4215, 'Positive': 0.0, 'Negative': 0.286, 'Neutral': 0.714}, {'Compound': -0.0258, 'Positive': 0.127, 'Negative': 0.132, 'Neutral': 0.741}, {'Compound': -0.3182, 'Positive': 0.0, 'Negative': 0.247, 'Neutral': 0.753}, {'Compound': -0.3182, 'Positive': 0.0, 'Negative': 0.247, 'Neutral': 0.753}, {'Compound': 0.0516, 'Positive': 0.181, 'Negative': 0.167, 'Neutral': 0.652}, {'Compound': -0.3182, 'Positive': 0.0, 'Negative': 0.187, 'Neutral': 0.813}, {'Compound': 0.0, 'Positive': 0.0, 'Negative': 0.0, 'Neutral': 1.0}, {'Compound': 0.0, 'Positive': 0.0, 'Negative': 0.0, 'Neutral': 1.0}, {'Compound': 0.0, 'Positive': 0.0, 'Negative': 0.0, 'Neutral': 1.0}, {'Compound': 0.0, 'Positive': 0.0, 'Negative': 0.0, 'Neutral': 1.0}, {'Compound': 0.0, 'Positive': 0.0, 'Negative': 0.0, 'Neutral': 1.0}, {'Compound': 0.3818, 'Positive': 0.302, 'Negative': 0.0, 'Neutral': 0.698}, {'Compound': 0.0, 'Positive': 0.0, 'Negative': 0.0, 'Neutral': 1.0}, {'Compound': 0.0, 'Positive': 0.0, 'Negative': 0.0, 'Neutral': 1.0}, {'Compound': 0.5106, 'Positive': 0.292, 'Negative': 0.0, 'Neutral': 0.708}, {'Compound': 0.0, 'Positive': 0.0, 'Negative': 0.0, 'Neutral': 1.0}, {'Compound': -0.4019, 'Positive': 0.0, 'Negative': 0.252, 'Neutral': 0.748}, {'Compound': 0.0, 'Positive': 0.0, 'Negative': 0.0, 'Neutral': 1.0}, {'Compound': 0.0, 'Positive': 0.0, 'Negative': 0.0, 'Neutral': 1.0}, {'Compound': 0.0, 'Positive': 0.0, 'Negative': 0.0, 'Neutral': 1.0}, {'Compound': 0.6124, 'Positive': 0.417, 'Negative': 0.0, 'Neutral': 0.583}, {'Compound': -0.2732, 'Positive': 0.121, 'Negative': 0.224, 'Neutral': 0.654}, {'Compound': 0.7906, 'Positive': 0.5, 'Negative': 0.0, 'Neutral': 0.5}, {'Compound': 0.34, 'Positive': 0.179, 'Negative': 0.0, 'Neutral': 0.821}, {'Compound': 0.0, 'Positive': 0.0, 'Negative': 0.0, 'Neutral': 1.0}, {'Compound': -0.6249, 'Positive': 0.0, 'Negative': 0.272, 'Neutral': 0.728}, {'Compound': 0.2023, 'Positive': 0.231, 'Negative': 0.0, 'Neutral': 0.769}, {'Compound': 0.0, 'Positive': 0.0, 'Negative': 0.0, 'Neutral': 1.0}, {'Compound': -0.1027, 'Positive': 0.0, 'Negative': 0.123, 'Neutral': 0.877}, {'Compound': 0.3612, 'Positive': 0.2, 'Negative': 0.0, 'Neutral': 0.8}, {'Compound': 0.0, 'Positive': 0.0, 'Negative': 0.0, 'Neutral': 1.0}, {'Compound': 0.0, 'Positive': 0.0, 'Negative': 0.0, 'Neutral': 1.0}, {'Compound': 0.0, 'Positive': 0.0, 'Negative': 0.0, 'Neutral': 1.0}, {'Compound': 0.0, 'Positive': 0.0, 'Negative': 0.0, 'Neutral': 1.0}, {'Compound': 0.0, 'Positive': 0.0, 'Negative': 0.0, 'Neutral': 1.0}, {'Compound': 0.4939, 'Positive': 0.186, 'Negative': 0.0, 'Neutral': 0.814}, {'Compound': 0.4939, 'Positive': 0.375, 'Negative': 0.0, 'Neutral': 0.625}, {'Compound': -0.4019, 'Positive': 0.0, 'Negative': 0.252, 'Neutral': 0.748}, {'Compound': 0.0, 'Positive': 0.0, 'Negative': 0.0, 'Neutral': 1.0}, {'Compound': 0.5859, 'Positive': 0.297, 'Negative': 0.0, 'Neutral': 0.703}, {'Compound': 0.0, 'Positive': 0.0, 'Negative': 0.0, 'Neutral': 1.0}, {'Compound': 0.0, 'Positive': 0.0, 'Negative': 0.0, 'Neutral': 1.0}, {'Compound': -0.5994, 'Positive': 0.0, 'Negative': 0.281, 'Neutral': 0.719}, {'Compound': 0.1531, 'Positive': 0.151, 'Negative': 0.0, 'Neutral': 0.849}, {'Compound': 0.2755, 'Positive': 0.297, 'Negative': 0.0, 'Neutral': 0.703}, {'Compound': 0.0, 'Positive': 0.0, 'Negative': 0.0, 'Neutral': 1.0}, {'Compound': -0.4767, 'Positive': 0.0, 'Negative': 0.256, 'Neutral': 0.744}, {'Compound': 0.4215, 'Positive': 0.189, 'Negative': 0.0, 'Neutral': 0.811}, {'Compound': -0.0129, 'Positive': 0.0, 'Negative': 0.095, 'Neutral': 0.905}, {'Compound': 0.0, 'Positive': 0.0, 'Negative': 0.0, 'Neutral': 1.0}, {'Compound': -0.34, 'Positive': 0.0, 'Negative': 0.167, 'Neutral': 0.833}, {'Compound': 0.0, 'Positive': 0.0, 'Negative': 0.0, 'Neutral': 1.0}, {'Compound': 0.0, 'Positive': 0.0, 'Negative': 0.0, 'Neutral': 1.0}, {'Compound': 0.1531, 'Positive': 0.324, 'Negative': 0.235, 'Neutral': 0.441}, {'Compound': 0.4215, 'Positive': 0.259, 'Negative': 0.0, 'Neutral': 0.741}, {'Compound': -0.5719, 'Positive': 0.0, 'Negative': 0.381, 'Neutral': 0.619}, {'Compound': 0.296, 'Positive': 0.196, 'Negative': 0.0, 'Neutral': 0.804}, {'Compound': -0.5719, 'Positive': 0.133, 'Negative': 0.413, 'Neutral': 0.455}, {'Compound': 0.0, 'Positive': 0.0, 'Negative': 0.0, 'Neutral': 1.0}, {'Compound': 0.0, 'Positive': 0.0, 'Negative': 0.0, 'Neutral': 1.0}, {'Compound': 0.0, 'Positive': 0.0, 'Negative': 0.0, 'Neutral': 1.0}, {'Compound': 0.0, 'Positive': 0.0, 'Negative': 0.0, 'Neutral': 1.0}, {'Compound': 0.0, 'Positive': 0.0, 'Negative': 0.0, 'Neutral': 1.0}, {'Compound': 0.0772, 'Positive': 0.115, 'Negative': 0.0, 'Neutral': 0.885}, {'Compound': -0.4767, 'Positive': 0.132, 'Negative': 0.272, 'Neutral': 0.596}, {'Compound': 0.0516, 'Positive': 0.074, 'Negative': 0.0, 'Neutral': 0.926}, {'Compound': -0.3182, 'Positive': 0.0, 'Negative': 0.223, 'Neutral': 0.777}, {'Compound': 0.4215, 'Positive': 0.259, 'Negative': 0.0, 'Neutral': 0.741}, {'Compound': 0.1779, 'Positive': 0.159, 'Negative': 0.0, 'Neutral': 0.841}, {'Compound': 0.1531, 'Positive': 0.324, 'Negative': 0.235, 'Neutral': 0.441}, {'Compound': 0.3818, 'Positive': 0.206, 'Negative': 0.0, 'Neutral': 0.794}, {'Compound': 0.0, 'Positive': 0.0, 'Negative': 0.0, 'Neutral': 1.0}, {'Compound': -0.5423, 'Positive': 0.0, 'Negative': 0.226, 'Neutral': 0.774}, {'Compound': 0.0, 'Positive': 0.0, 'Negative': 0.0, 'Neutral': 1.0}, {'Compound': 0.4215, 'Positive': 0.286, 'Negative': 0.0, 'Neutral': 0.714}, {'Compound': 0.0, 'Positive': 0.0, 'Negative': 0.0, 'Neutral': 1.0}, {'Compound': -0.5574, 'Positive': 0.0, 'Negative': 0.31, 'Neutral': 0.69}, {'Compound': 0.4215, 'Positive': 0.219, 'Negative': 0.0, 'Neutral': 0.781}, {'Compound': 0.0, 'Positive': 0.0, 'Negative': 0.0, 'Neutral': 1.0}, {'Compound': 0.0, 'Positive': 0.0, 'Negative': 0.0, 'Neutral': 1.0}, {'Compound': 0.0, 'Positive': 0.0, 'Negative': 0.0, 'Neutral': 1.0}, {'Compound': -0.1027, 'Positive': 0.0, 'Negative': 0.135, 'Neutral': 0.865}, {'Compound': 0.2023, 'Positive': 0.205, 'Negative': 0.0, 'Neutral': 0.795}, {'Compound': 0.0, 'Positive': 0.0, 'Negative': 0.0, 'Neutral': 1.0}, {'Compound': -0.25, 'Positive': 0.0, 'Negative': 0.2, 'Neutral': 0.8}, {'Compound': 0.4215, 'Positive': 0.237, 'Negative': 0.0, 'Neutral': 0.763}, {'Compound': 0.0, 'Positive': 0.0, 'Negative': 0.0, 'Neutral': 1.0}, {'Compound': 0.4019, 'Positive': 0.213, 'Negative': 0.0, 'Neutral': 0.787}, {'Compound': 0.4215, 'Positive': 0.237, 'Negative': 0.0, 'Neutral': 0.763}, {'Compound': 0.0, 'Positive': 0.0, 'Negative': 0.0, 'Neutral': 1.0}, {'Compound': -0.8126, 'Positive': 0.0, 'Negative': 0.512, 'Neutral': 0.488}, {'Compound': -0.5267, 'Positive': 0.0, 'Negative': 0.386, 'Neutral': 0.614}, {'Compound': 0.4019, 'Positive': 0.197, 'Negative': 0.0, 'Neutral': 0.803}, {'Compound': -0.3182, 'Positive': 0.0, 'Negative': 0.277, 'Neutral': 0.723}, {'Compound': 0.0, 'Positive': 0.0, 'Negative': 0.0, 'Neutral': 1.0}, {'Compound': 0.25, 'Positive': 0.2, 'Negative': 0.0, 'Neutral': 0.8}, {'Compound': -0.3182, 'Positive': 0.0, 'Negative': 0.355, 'Neutral': 0.645}, {'Compound': 0.7096, 'Positive': 0.541, 'Negative': 0.0, 'Neutral': 0.459}, {'Compound': -0.296, 'Positive': 0.0, 'Negative': 0.268, 'Neutral': 0.732}, {'Compound': 0.3818, 'Positive': 0.224, 'Negative': 0.0, 'Neutral': 0.776}, {'Compound': -0.2263, 'Positive': 0.0, 'Negative': 0.147, 'Neutral': 0.853}, {'Compound': -0.1027, 'Positive': 0.0, 'Negative': 0.167, 'Neutral': 0.833}]\n"
     ]
    }
   ],
   "source": [
    "print(scores)"
   ]
  },
  {
   "cell_type": "code",
   "execution_count": 49,
   "metadata": {},
   "outputs": [
    {
     "data": {
      "text/html": [
       "<div>\n",
       "<style scoped>\n",
       "    .dataframe tbody tr th:only-of-type {\n",
       "        vertical-align: middle;\n",
       "    }\n",
       "\n",
       "    .dataframe tbody tr th {\n",
       "        vertical-align: top;\n",
       "    }\n",
       "\n",
       "    .dataframe thead th {\n",
       "        text-align: right;\n",
       "    }\n",
       "</style>\n",
       "<table border=\"1\" class=\"dataframe\">\n",
       "  <thead>\n",
       "    <tr style=\"text-align: right;\">\n",
       "      <th></th>\n",
       "      <th>Company</th>\n",
       "      <th>Date</th>\n",
       "      <th>Time</th>\n",
       "      <th>Comments</th>\n",
       "      <th>Compound</th>\n",
       "      <th>Positive</th>\n",
       "      <th>Negative</th>\n",
       "      <th>Neutral</th>\n",
       "    </tr>\n",
       "  </thead>\n",
       "  <tbody>\n",
       "    <tr>\n",
       "      <th>0</th>\n",
       "      <td>AMZN</td>\n",
       "      <td>Oct-10-21</td>\n",
       "      <td>10:30AM</td>\n",
       "      <td>Could Robotics Be Amazon's Next Big Growth Dri...</td>\n",
       "      <td>0.3818</td>\n",
       "      <td>0.271</td>\n",
       "      <td>0.000</td>\n",
       "      <td>0.729</td>\n",
       "    </tr>\n",
       "    <tr>\n",
       "      <th>1</th>\n",
       "      <td>AMZN</td>\n",
       "      <td>Oct-10-21</td>\n",
       "      <td>09:45AM</td>\n",
       "      <td>3 Brick-and-Mortar Stores That Can Thrive in a...</td>\n",
       "      <td>0.0000</td>\n",
       "      <td>0.000</td>\n",
       "      <td>0.000</td>\n",
       "      <td>1.000</td>\n",
       "    </tr>\n",
       "    <tr>\n",
       "      <th>2</th>\n",
       "      <td>AMZN</td>\n",
       "      <td>Oct-09-21</td>\n",
       "      <td>11:33AM</td>\n",
       "      <td>3 Investors Compare the Market Crash of 2020 W...</td>\n",
       "      <td>-0.6597</td>\n",
       "      <td>0.000</td>\n",
       "      <td>0.329</td>\n",
       "      <td>0.671</td>\n",
       "    </tr>\n",
       "    <tr>\n",
       "      <th>3</th>\n",
       "      <td>AMZN</td>\n",
       "      <td>Oct-09-21</td>\n",
       "      <td>11:00AM</td>\n",
       "      <td>Why The Holiday Season Could Be Better Than Yo...</td>\n",
       "      <td>0.6808</td>\n",
       "      <td>0.412</td>\n",
       "      <td>0.000</td>\n",
       "      <td>0.588</td>\n",
       "    </tr>\n",
       "    <tr>\n",
       "      <th>4</th>\n",
       "      <td>AMZN</td>\n",
       "      <td>Oct-09-21</td>\n",
       "      <td>10:52AM</td>\n",
       "      <td>10 Stocks Better than Walmart (WMT) According ...</td>\n",
       "      <td>0.4404</td>\n",
       "      <td>0.244</td>\n",
       "      <td>0.000</td>\n",
       "      <td>0.756</td>\n",
       "    </tr>\n",
       "  </tbody>\n",
       "</table>\n",
       "</div>"
      ],
      "text/plain": [
       "  Company       Date       Time  \\\n",
       "0    AMZN  Oct-10-21  10:30AM     \n",
       "1    AMZN  Oct-10-21  09:45AM     \n",
       "2    AMZN  Oct-09-21  11:33AM     \n",
       "3    AMZN  Oct-09-21  11:00AM     \n",
       "4    AMZN  Oct-09-21  10:52AM     \n",
       "\n",
       "                                            Comments  Compound  Positive  \\\n",
       "0  Could Robotics Be Amazon's Next Big Growth Dri...    0.3818     0.271   \n",
       "1  3 Brick-and-Mortar Stores That Can Thrive in a...    0.0000     0.000   \n",
       "2  3 Investors Compare the Market Crash of 2020 W...   -0.6597     0.000   \n",
       "3  Why The Holiday Season Could Be Better Than Yo...    0.6808     0.412   \n",
       "4  10 Stocks Better than Walmart (WMT) According ...    0.4404     0.244   \n",
       "\n",
       "   Negative  Neutral  \n",
       "0     0.000    0.729  \n",
       "1     0.000    1.000  \n",
       "2     0.329    0.671  \n",
       "3     0.000    0.588  \n",
       "4     0.000    0.756  "
      ]
     },
     "execution_count": 49,
     "metadata": {},
     "output_type": "execute_result"
    }
   ],
   "source": [
    "sentiments_score = pd.DataFrame.from_dict(scores)\n",
    "df = df.join(sentiments_score)\n",
    "df.head()"
   ]
  },
  {
   "cell_type": "code",
   "execution_count": 50,
   "metadata": {},
   "outputs": [
    {
     "data": {
      "text/html": [
       "<div>\n",
       "<style scoped>\n",
       "    .dataframe tbody tr th:only-of-type {\n",
       "        vertical-align: middle;\n",
       "    }\n",
       "\n",
       "    .dataframe tbody tr th {\n",
       "        vertical-align: top;\n",
       "    }\n",
       "\n",
       "    .dataframe thead th {\n",
       "        text-align: right;\n",
       "    }\n",
       "</style>\n",
       "<table border=\"1\" class=\"dataframe\">\n",
       "  <thead>\n",
       "    <tr style=\"text-align: right;\">\n",
       "      <th></th>\n",
       "      <th>Company</th>\n",
       "      <th>Date</th>\n",
       "      <th>Time</th>\n",
       "      <th>Comments</th>\n",
       "      <th>Compound</th>\n",
       "      <th>Positive</th>\n",
       "      <th>Negative</th>\n",
       "      <th>Neutral</th>\n",
       "    </tr>\n",
       "  </thead>\n",
       "  <tbody>\n",
       "    <tr>\n",
       "      <th>0</th>\n",
       "      <td>AMZN</td>\n",
       "      <td>Oct-10-21</td>\n",
       "      <td>10:30AM</td>\n",
       "      <td>Could Robotics Be Amazon's Next Big Growth Dri...</td>\n",
       "      <td>0.3818</td>\n",
       "      <td>0.271</td>\n",
       "      <td>0.000</td>\n",
       "      <td>0.729</td>\n",
       "    </tr>\n",
       "    <tr>\n",
       "      <th>1</th>\n",
       "      <td>AMZN</td>\n",
       "      <td>Oct-10-21</td>\n",
       "      <td>09:45AM</td>\n",
       "      <td>3 Brick-and-Mortar Stores That Can Thrive in a...</td>\n",
       "      <td>0.0000</td>\n",
       "      <td>0.000</td>\n",
       "      <td>0.000</td>\n",
       "      <td>1.000</td>\n",
       "    </tr>\n",
       "    <tr>\n",
       "      <th>2</th>\n",
       "      <td>AMZN</td>\n",
       "      <td>Oct-09-21</td>\n",
       "      <td>11:33AM</td>\n",
       "      <td>3 Investors Compare the Market Crash of 2020 W...</td>\n",
       "      <td>-0.6597</td>\n",
       "      <td>0.000</td>\n",
       "      <td>0.329</td>\n",
       "      <td>0.671</td>\n",
       "    </tr>\n",
       "    <tr>\n",
       "      <th>3</th>\n",
       "      <td>AMZN</td>\n",
       "      <td>Oct-09-21</td>\n",
       "      <td>11:00AM</td>\n",
       "      <td>Why The Holiday Season Could Be Better Than Yo...</td>\n",
       "      <td>0.6808</td>\n",
       "      <td>0.412</td>\n",
       "      <td>0.000</td>\n",
       "      <td>0.588</td>\n",
       "    </tr>\n",
       "    <tr>\n",
       "      <th>4</th>\n",
       "      <td>AMZN</td>\n",
       "      <td>Oct-09-21</td>\n",
       "      <td>10:52AM</td>\n",
       "      <td>10 Stocks Better than Walmart (WMT) According ...</td>\n",
       "      <td>0.4404</td>\n",
       "      <td>0.244</td>\n",
       "      <td>0.000</td>\n",
       "      <td>0.756</td>\n",
       "    </tr>\n",
       "    <tr>\n",
       "      <th>...</th>\n",
       "      <td>...</td>\n",
       "      <td>...</td>\n",
       "      <td>...</td>\n",
       "      <td>...</td>\n",
       "      <td>...</td>\n",
       "      <td>...</td>\n",
       "      <td>...</td>\n",
       "      <td>...</td>\n",
       "    </tr>\n",
       "    <tr>\n",
       "      <th>395</th>\n",
       "      <td>TWTR</td>\n",
       "      <td>Sep-20-21</td>\n",
       "      <td>01:53PM</td>\n",
       "      <td>Twitter (NYSE:TWTR) Has A Pretty Healthy Balan...</td>\n",
       "      <td>0.7096</td>\n",
       "      <td>0.541</td>\n",
       "      <td>0.000</td>\n",
       "      <td>0.459</td>\n",
       "    </tr>\n",
       "    <tr>\n",
       "      <th>396</th>\n",
       "      <td>TWTR</td>\n",
       "      <td>Sep-20-21</td>\n",
       "      <td>11:30AM</td>\n",
       "      <td>Why Twitter Stock Is Under Pressure Today</td>\n",
       "      <td>-0.2960</td>\n",
       "      <td>0.000</td>\n",
       "      <td>0.268</td>\n",
       "      <td>0.732</td>\n",
       "    </tr>\n",
       "    <tr>\n",
       "      <th>397</th>\n",
       "      <td>TWTR</td>\n",
       "      <td>Sep-20-21</td>\n",
       "      <td>10:35AM</td>\n",
       "      <td>Twitter in $810 Million Settlement of Sharehol...</td>\n",
       "      <td>0.3818</td>\n",
       "      <td>0.224</td>\n",
       "      <td>0.000</td>\n",
       "      <td>0.776</td>\n",
       "    </tr>\n",
       "    <tr>\n",
       "      <th>398</th>\n",
       "      <td>TWTR</td>\n",
       "      <td>Sep-20-21</td>\n",
       "      <td>09:44AM</td>\n",
       "      <td>UPDATE 2-Twitter seeks to settle 2016 class ac...</td>\n",
       "      <td>-0.2263</td>\n",
       "      <td>0.000</td>\n",
       "      <td>0.147</td>\n",
       "      <td>0.853</td>\n",
       "    </tr>\n",
       "    <tr>\n",
       "      <th>399</th>\n",
       "      <td>TWTR</td>\n",
       "      <td>Sep-20-21</td>\n",
       "      <td>09:32AM</td>\n",
       "      <td>Twitter to pay $800 million in class-action se...</td>\n",
       "      <td>-0.1027</td>\n",
       "      <td>0.000</td>\n",
       "      <td>0.167</td>\n",
       "      <td>0.833</td>\n",
       "    </tr>\n",
       "  </tbody>\n",
       "</table>\n",
       "<p>400 rows × 8 columns</p>\n",
       "</div>"
      ],
      "text/plain": [
       "    Company       Date       Time  \\\n",
       "0      AMZN  Oct-10-21  10:30AM     \n",
       "1      AMZN  Oct-10-21  09:45AM     \n",
       "2      AMZN  Oct-09-21  11:33AM     \n",
       "3      AMZN  Oct-09-21  11:00AM     \n",
       "4      AMZN  Oct-09-21  10:52AM     \n",
       "..      ...        ...        ...   \n",
       "395    TWTR  Sep-20-21  01:53PM     \n",
       "396    TWTR  Sep-20-21  11:30AM     \n",
       "397    TWTR  Sep-20-21  10:35AM     \n",
       "398    TWTR  Sep-20-21  09:44AM     \n",
       "399    TWTR  Sep-20-21  09:32AM     \n",
       "\n",
       "                                              Comments  Compound  Positive  \\\n",
       "0    Could Robotics Be Amazon's Next Big Growth Dri...    0.3818     0.271   \n",
       "1    3 Brick-and-Mortar Stores That Can Thrive in a...    0.0000     0.000   \n",
       "2    3 Investors Compare the Market Crash of 2020 W...   -0.6597     0.000   \n",
       "3    Why The Holiday Season Could Be Better Than Yo...    0.6808     0.412   \n",
       "4    10 Stocks Better than Walmart (WMT) According ...    0.4404     0.244   \n",
       "..                                                 ...       ...       ...   \n",
       "395  Twitter (NYSE:TWTR) Has A Pretty Healthy Balan...    0.7096     0.541   \n",
       "396          Why Twitter Stock Is Under Pressure Today   -0.2960     0.000   \n",
       "397  Twitter in $810 Million Settlement of Sharehol...    0.3818     0.224   \n",
       "398  UPDATE 2-Twitter seeks to settle 2016 class ac...   -0.2263     0.000   \n",
       "399  Twitter to pay $800 million in class-action se...   -0.1027     0.000   \n",
       "\n",
       "     Negative  Neutral  \n",
       "0       0.000    0.729  \n",
       "1       0.000    1.000  \n",
       "2       0.329    0.671  \n",
       "3       0.000    0.588  \n",
       "4       0.000    0.756  \n",
       "..        ...      ...  \n",
       "395     0.000    0.459  \n",
       "396     0.268    0.732  \n",
       "397     0.000    0.776  \n",
       "398     0.147    0.853  \n",
       "399     0.167    0.833  \n",
       "\n",
       "[400 rows x 8 columns]"
      ]
     },
     "execution_count": 50,
     "metadata": {},
     "output_type": "execute_result"
    }
   ],
   "source": [
    "df"
   ]
  },
  {
   "cell_type": "code",
   "execution_count": 51,
   "metadata": {},
   "outputs": [
    {
     "data": {
      "text/html": [
       "<div>\n",
       "<style scoped>\n",
       "    .dataframe tbody tr th:only-of-type {\n",
       "        vertical-align: middle;\n",
       "    }\n",
       "\n",
       "    .dataframe tbody tr th {\n",
       "        vertical-align: top;\n",
       "    }\n",
       "\n",
       "    .dataframe thead th {\n",
       "        text-align: right;\n",
       "    }\n",
       "</style>\n",
       "<table border=\"1\" class=\"dataframe\">\n",
       "  <thead>\n",
       "    <tr style=\"text-align: right;\">\n",
       "      <th></th>\n",
       "      <th>Neutral</th>\n",
       "    </tr>\n",
       "    <tr>\n",
       "      <th>Company</th>\n",
       "      <th></th>\n",
       "    </tr>\n",
       "  </thead>\n",
       "  <tbody>\n",
       "    <tr>\n",
       "      <th>AMZN</th>\n",
       "      <td>0.82549</td>\n",
       "    </tr>\n",
       "    <tr>\n",
       "      <th>FB</th>\n",
       "      <td>0.84551</td>\n",
       "    </tr>\n",
       "    <tr>\n",
       "      <th>GOOG</th>\n",
       "      <td>0.84773</td>\n",
       "    </tr>\n",
       "    <tr>\n",
       "      <th>TWTR</th>\n",
       "      <td>0.83830</td>\n",
       "    </tr>\n",
       "  </tbody>\n",
       "</table>\n",
       "</div>"
      ],
      "text/plain": [
       "         Neutral\n",
       "Company         \n",
       "AMZN     0.82549\n",
       "FB       0.84551\n",
       "GOOG     0.84773\n",
       "TWTR     0.83830"
      ]
     },
     "execution_count": 51,
     "metadata": {},
     "output_type": "execute_result"
    }
   ],
   "source": [
    "#Collect the compound values for each news source\n",
    "score_table = df.pivot_table(index='Company',  values=\"Neutral\", aggfunc = np.mean)\n",
    "score_table"
   ]
  },
  {
   "cell_type": "code",
   "execution_count": 52,
   "metadata": {},
   "outputs": [
    {
     "data": {
      "text/plain": [
       "<AxesSubplot:xlabel='Company'>"
      ]
     },
     "execution_count": 52,
     "metadata": {},
     "output_type": "execute_result"
    },
    {
     "data": {
      "image/png": "[encoded data removed]",
      "text/plain": [
       "<Figure size 432x288 with 1 Axes>"
      ]
     },
     "metadata": {
      "needs_background": "light"
     },
     "output_type": "display_data"
    }
   ],
   "source": [
    "score_table.plot(kind='bar')"
   ]
  },
  {
   "cell_type": "code",
   "execution_count": 53,
   "metadata": {},
   "outputs": [
    {
     "data": {
      "text/html": [
       "<div>\n",
       "<style scoped>\n",
       "    .dataframe tbody tr th:only-of-type {\n",
       "        vertical-align: middle;\n",
       "    }\n",
       "\n",
       "    .dataframe tbody tr th {\n",
       "        vertical-align: top;\n",
       "    }\n",
       "\n",
       "    .dataframe thead th {\n",
       "        text-align: right;\n",
       "    }\n",
       "</style>\n",
       "<table border=\"1\" class=\"dataframe\">\n",
       "  <thead>\n",
       "    <tr style=\"text-align: right;\">\n",
       "      <th></th>\n",
       "      <th>Compound</th>\n",
       "    </tr>\n",
       "    <tr>\n",
       "      <th>Company</th>\n",
       "      <th></th>\n",
       "    </tr>\n",
       "  </thead>\n",
       "  <tbody>\n",
       "    <tr>\n",
       "      <th>AMZN</th>\n",
       "      <td>0.115174</td>\n",
       "    </tr>\n",
       "    <tr>\n",
       "      <th>FB</th>\n",
       "      <td>-0.005208</td>\n",
       "    </tr>\n",
       "    <tr>\n",
       "      <th>GOOG</th>\n",
       "      <td>0.046169</td>\n",
       "    </tr>\n",
       "    <tr>\n",
       "      <th>TWTR</th>\n",
       "      <td>0.016615</td>\n",
       "    </tr>\n",
       "  </tbody>\n",
       "</table>\n",
       "</div>"
      ],
      "text/plain": [
       "         Compound\n",
       "Company          \n",
       "AMZN     0.115174\n",
       "FB      -0.005208\n",
       "GOOG     0.046169\n",
       "TWTR     0.016615"
      ]
     },
     "execution_count": 53,
     "metadata": {},
     "output_type": "execute_result"
    }
   ],
   "source": [
    "#Collect the compound values for each news source\n",
    "score_table = df.pivot_table(index='Company',  values=\"Compound\", aggfunc = np.mean)\n",
    "score_table"
   ]
  },
  {
   "cell_type": "code",
   "execution_count": 54,
   "metadata": {},
   "outputs": [
    {
     "data": {
      "text/plain": [
       "<AxesSubplot:xlabel='Company'>"
      ]
     },
     "execution_count": 54,
     "metadata": {},
     "output_type": "execute_result"
    },
    {
     "data": {
      "image/png": "[encoded data removed]",
      "text/plain": [
       "<Figure size 432x288 with 1 Axes>"
      ]
     },
     "metadata": {
      "needs_background": "light"
     },
     "output_type": "display_data"
    }
   ],
   "source": [
    "#plotting \n",
    "score_table.plot(kind='bar')"
   ]
  },
  {
   "cell_type": "code",
   "execution_count": 55,
   "metadata": {},
   "outputs": [
    {
     "data": {
      "text/html": [
       "<div>\n",
       "<style scoped>\n",
       "    .dataframe tbody tr th:only-of-type {\n",
       "        vertical-align: middle;\n",
       "    }\n",
       "\n",
       "    .dataframe tbody tr th {\n",
       "        vertical-align: top;\n",
       "    }\n",
       "\n",
       "    .dataframe thead th {\n",
       "        text-align: right;\n",
       "    }\n",
       "</style>\n",
       "<table border=\"1\" class=\"dataframe\">\n",
       "  <thead>\n",
       "    <tr style=\"text-align: right;\">\n",
       "      <th></th>\n",
       "      <th>Negative</th>\n",
       "    </tr>\n",
       "    <tr>\n",
       "      <th>Company</th>\n",
       "      <th></th>\n",
       "    </tr>\n",
       "  </thead>\n",
       "  <tbody>\n",
       "    <tr>\n",
       "      <th>AMZN</th>\n",
       "      <td>0.04342</td>\n",
       "    </tr>\n",
       "    <tr>\n",
       "      <th>FB</th>\n",
       "      <td>0.08123</td>\n",
       "    </tr>\n",
       "    <tr>\n",
       "      <th>GOOG</th>\n",
       "      <td>0.06550</td>\n",
       "    </tr>\n",
       "    <tr>\n",
       "      <th>TWTR</th>\n",
       "      <td>0.07512</td>\n",
       "    </tr>\n",
       "  </tbody>\n",
       "</table>\n",
       "</div>"
      ],
      "text/plain": [
       "         Negative\n",
       "Company          \n",
       "AMZN      0.04342\n",
       "FB        0.08123\n",
       "GOOG      0.06550\n",
       "TWTR      0.07512"
      ]
     },
     "execution_count": 55,
     "metadata": {},
     "output_type": "execute_result"
    }
   ],
   "source": [
    "#Collect the negative values for each news source\n",
    "neg_score_table = df.pivot_table(index='Company',  values=\"Negative\", aggfunc = np.mean)\n",
    "neg_score_table"
   ]
  },
  {
   "cell_type": "code",
   "execution_count": 56,
   "metadata": {},
   "outputs": [
    {
     "data": {
      "text/plain": [
       "<AxesSubplot:xlabel='Company'>"
      ]
     },
     "execution_count": 56,
     "metadata": {},
     "output_type": "execute_result"
    },
    {
     "data": {
      "image/png": "[encoded data removed]",
      "text/plain": [
       "<Figure size 432x288 with 1 Axes>"
      ]
     },
     "metadata": {
      "needs_background": "light"
     },
     "output_type": "display_data"
    }
   ],
   "source": [
    "#plotting \n",
    "neg_score_table.plot(kind='bar')"
   ]
  },
  {
   "cell_type": "code",
   "execution_count": 57,
   "metadata": {},
   "outputs": [
    {
     "data": {
      "text/plain": [
       "to          128\n",
       "Facebook     77\n",
       "the          61\n",
       "in           50\n",
       "Stock        40\n",
       "           ... \n",
       "Teen          1\n",
       "acquire       1\n",
       "Meng          1\n",
       "make          1\n",
       "Forbes        1\n",
       "Length: 1792, dtype: int64"
      ]
     },
     "execution_count": 57,
     "metadata": {},
     "output_type": "execute_result"
    }
   ],
   "source": [
    "df.Comments.str.split(expand=True).stack().value_counts()"
   ]
  },
  {
   "cell_type": "code",
   "execution_count": 58,
   "metadata": {},
   "outputs": [
    {
     "data": {
      "text/html": [
       "<div>\n",
       "<style scoped>\n",
       "    .dataframe tbody tr th:only-of-type {\n",
       "        vertical-align: middle;\n",
       "    }\n",
       "\n",
       "    .dataframe tbody tr th {\n",
       "        vertical-align: top;\n",
       "    }\n",
       "\n",
       "    .dataframe thead th {\n",
       "        text-align: right;\n",
       "    }\n",
       "</style>\n",
       "<table border=\"1\" class=\"dataframe\">\n",
       "  <thead>\n",
       "    <tr style=\"text-align: right;\">\n",
       "      <th></th>\n",
       "      <th>Company</th>\n",
       "      <th>Date</th>\n",
       "      <th>Time</th>\n",
       "      <th>Comments</th>\n",
       "      <th>Compound</th>\n",
       "      <th>Positive</th>\n",
       "      <th>Negative</th>\n",
       "      <th>Neutral</th>\n",
       "    </tr>\n",
       "  </thead>\n",
       "  <tbody>\n",
       "    <tr>\n",
       "      <th>395</th>\n",
       "      <td>TWTR</td>\n",
       "      <td>Sep-20-21</td>\n",
       "      <td>01:53PM</td>\n",
       "      <td>twitter (nyse:twtr) has a pretty healthy balan...</td>\n",
       "      <td>0.7096</td>\n",
       "      <td>0.541</td>\n",
       "      <td>0.000</td>\n",
       "      <td>0.459</td>\n",
       "    </tr>\n",
       "    <tr>\n",
       "      <th>396</th>\n",
       "      <td>TWTR</td>\n",
       "      <td>Sep-20-21</td>\n",
       "      <td>11:30AM</td>\n",
       "      <td>why twitter stock is under pressure today</td>\n",
       "      <td>-0.2960</td>\n",
       "      <td>0.000</td>\n",
       "      <td>0.268</td>\n",
       "      <td>0.732</td>\n",
       "    </tr>\n",
       "    <tr>\n",
       "      <th>397</th>\n",
       "      <td>TWTR</td>\n",
       "      <td>Sep-20-21</td>\n",
       "      <td>10:35AM</td>\n",
       "      <td>twitter in $810 million settlement of sharehol...</td>\n",
       "      <td>0.3818</td>\n",
       "      <td>0.224</td>\n",
       "      <td>0.000</td>\n",
       "      <td>0.776</td>\n",
       "    </tr>\n",
       "    <tr>\n",
       "      <th>398</th>\n",
       "      <td>TWTR</td>\n",
       "      <td>Sep-20-21</td>\n",
       "      <td>09:44AM</td>\n",
       "      <td>update 2-twitter seeks to settle 2016 class ac...</td>\n",
       "      <td>-0.2263</td>\n",
       "      <td>0.000</td>\n",
       "      <td>0.147</td>\n",
       "      <td>0.853</td>\n",
       "    </tr>\n",
       "    <tr>\n",
       "      <th>399</th>\n",
       "      <td>TWTR</td>\n",
       "      <td>Sep-20-21</td>\n",
       "      <td>09:32AM</td>\n",
       "      <td>twitter to pay $800 million in class-action se...</td>\n",
       "      <td>-0.1027</td>\n",
       "      <td>0.000</td>\n",
       "      <td>0.167</td>\n",
       "      <td>0.833</td>\n",
       "    </tr>\n",
       "  </tbody>\n",
       "</table>\n",
       "</div>"
      ],
      "text/plain": [
       "    Company       Date       Time  \\\n",
       "395    TWTR  Sep-20-21  01:53PM     \n",
       "396    TWTR  Sep-20-21  11:30AM     \n",
       "397    TWTR  Sep-20-21  10:35AM     \n",
       "398    TWTR  Sep-20-21  09:44AM     \n",
       "399    TWTR  Sep-20-21  09:32AM     \n",
       "\n",
       "                                              Comments  Compound  Positive  \\\n",
       "395  twitter (nyse:twtr) has a pretty healthy balan...    0.7096     0.541   \n",
       "396          why twitter stock is under pressure today   -0.2960     0.000   \n",
       "397  twitter in $810 million settlement of sharehol...    0.3818     0.224   \n",
       "398  update 2-twitter seeks to settle 2016 class ac...   -0.2263     0.000   \n",
       "399  twitter to pay $800 million in class-action se...   -0.1027     0.000   \n",
       "\n",
       "     Negative  Neutral  \n",
       "395     0.000    0.459  \n",
       "396     0.268    0.732  \n",
       "397     0.000    0.776  \n",
       "398     0.147    0.853  \n",
       "399     0.167    0.833  "
      ]
     },
     "execution_count": 58,
     "metadata": {},
     "output_type": "execute_result"
    }
   ],
   "source": [
    "df['Comments']=df['Comments'].str.lower()\n",
    "df.tail()"
   ]
  },
  {
   "cell_type": "code",
   "execution_count": 59,
   "metadata": {},
   "outputs": [],
   "source": [
    "stopwordlist = ['a', 'about', 'above', 'after', 'again', 'ain', 'all', 'am', 'an',\n",
    "             'and','any','are', 'as', 'at', 'be', 'because', 'been', 'before',\n",
    "             'being', 'below', 'between','both', 'by', 'can', 'd', 'did', 'do',\n",
    "             'does', 'doing', 'down', 'during', 'each','few', 'for', 'from',\n",
    "             'further', 'had', 'has', 'have', 'having', 'he', 'her', 'here',\n",
    "             'hers', 'herself', 'him', 'himself', 'his', 'how', 'i', 'if', 'in',\n",
    "             'into','is', 'it', 'its', 'itself', 'just', 'll', 'm', 'ma',\n",
    "             'me', 'more', 'most','my', 'myself', 'now', 'o', 'of', 'on', 'once',\n",
    "             'only', 'or', 'other', 'our', 'ours','ourselves', 'out', 'own', 're','s', 'same', 'she', \"shes\", 'should', \"shouldve\",'so', 'some', 'such',\n",
    "             't', 'than', 'that', \"thatll\", 'the', 'their', 'theirs', 'them',\n",
    "             'themselves', 'then', 'there', 'these', 'they', 'this', 'those',\n",
    "             'through', 'to', 'too','under', 'until', 'up', 've', 'very', 'was',\n",
    "             'we', 'were', 'what', 'when', 'where','which','while', 'who', 'whom',\n",
    "             'why', 'will', 'with', 'won', 'y', 'you', \"youd\",\"youll\", \"youre\",\n",
    "             \"youve\", 'your', 'yours', 'yourself', 'yourselves']"
   ]
  },
  {
   "cell_type": "code",
   "execution_count": null,
   "metadata": {},
   "outputs": [],
   "source": []
  },
  {
   "cell_type": "code",
   "execution_count": 60,
   "metadata": {},
   "outputs": [
    {
     "data": {
      "text/plain": [
       "0      could robotics amazon's next big growth driver?\n",
       "1      3 brick-and-mortar stores thrive age e-commerce\n",
       "2    3 investors compare market crash 2020 market c...\n",
       "3                    holiday season could better think\n",
       "4    10 stocks better walmart (wmt) according hedge...\n",
       "Name: Comments, dtype: object"
      ]
     },
     "execution_count": 60,
     "metadata": {},
     "output_type": "execute_result"
    }
   ],
   "source": [
    "STOPWORDS = set(stopwordlist)\n",
    "def cleaning_stopwords(text):\n",
    "    return \" \".join([word for word in str(text).split() if word not in STOPWORDS])\n",
    "df['Comments'] = df['Comments'].apply(lambda text: cleaning_stopwords(text))\n",
    "df['Comments'].head()"
   ]
  },
  {
   "cell_type": "code",
   "execution_count": 61,
   "metadata": {},
   "outputs": [
    {
     "data": {
      "text/plain": [
       "395        twitter nysetwtr pretty healthy balance sheet\n",
       "396                         twitter stock pressure today\n",
       "397    twitter 810 million settlement shareholder sui...\n",
       "398    update 2twitter seeks settle 2016 class action...\n",
       "399       twitter pay 800 million classaction settlement\n",
       "Name: Comments, dtype: object"
      ]
     },
     "execution_count": 61,
     "metadata": {},
     "output_type": "execute_result"
    }
   ],
   "source": [
    "import string\n",
    "english_punctuations = string.punctuation\n",
    "punctuations_list = english_punctuations\n",
    "def cleaning_punctuations(Comments):\n",
    "    translator = str.maketrans('', '', punctuations_list)\n",
    "    return Comments.translate(translator)\n",
    "df['Comments']= df['Comments'].apply(lambda x: cleaning_punctuations(x))\n",
    "df['Comments'].tail()"
   ]
  },
  {
   "cell_type": "code",
   "execution_count": 62,
   "metadata": {},
   "outputs": [
    {
     "data": {
      "text/plain": [
       "395        twitter nysetwtr pretty healthy balance sheet\n",
       "396                         twitter stock pressure today\n",
       "397    twitter 10 million settlement shareholder suit...\n",
       "398    update 2twitter seeks settle 216 class action ...\n",
       "399       twitter pay 800 million classaction settlement\n",
       "Name: Comments, dtype: object"
      ]
     },
     "execution_count": 62,
     "metadata": {},
     "output_type": "execute_result"
    }
   ],
   "source": [
    "def cleaning_repeating_char(Comments):\n",
    "    return re.sub(r'(.)1+', r'1', Comments)\n",
    "df['Comments'] = df['Comments'].apply(lambda x: cleaning_repeating_char(x))\n",
    "df['Comments'].tail()"
   ]
  },
  {
   "cell_type": "code",
   "execution_count": 63,
   "metadata": {},
   "outputs": [
    {
     "data": {
      "text/plain": [
       "395        twitter nysetwtr pretty healthy balance sheet\n",
       "396                         twitter stock pressure today\n",
       "397    twitter  million settlement shareholder suit g...\n",
       "398    update twitter seeks settle  class action laws...\n",
       "399          twitter pay  million classaction settlement\n",
       "Name: Comments, dtype: object"
      ]
     },
     "execution_count": 63,
     "metadata": {},
     "output_type": "execute_result"
    }
   ],
   "source": [
    "def cleaning_numbers(data):\n",
    "    return re.sub('[0-9]+', '', data)\n",
    "df['Comments'] = df['Comments'].apply(lambda x: cleaning_numbers(x))\n",
    "df['Comments'].tail()"
   ]
  },
  {
   "cell_type": "code",
   "execution_count": null,
   "metadata": {},
   "outputs": [],
   "source": []
  },
  {
   "cell_type": "code",
   "execution_count": 64,
   "metadata": {},
   "outputs": [
    {
     "data": {
      "text/plain": [
       "0    [could, robotics, amazons, next, big, growth, ...\n",
       "1     [brickandmortar, stores, thrive, age, ecommerce]\n",
       "2    [investors, compare, market, crash, market, cr...\n",
       "3              [holiday, season, could, better, think]\n",
       "4    [stocks, better, walmart, wmt, according, hedg...\n",
       "Name: Comments, dtype: object"
      ]
     },
     "execution_count": 64,
     "metadata": {},
     "output_type": "execute_result"
    }
   ],
   "source": [
    "from nltk.tokenize import RegexpTokenizer\n",
    "\n",
    "\n",
    "tokenizer = RegexpTokenizer(r'\\w+')\n",
    "df['Comments'] = df['Comments'].apply(tokenizer.tokenize)\n",
    "df['Comments'].head()\n"
   ]
  },
  {
   "cell_type": "code",
   "execution_count": 65,
   "metadata": {},
   "outputs": [
    {
     "data": {
      "text/plain": [
       "0    [could, robotics, amazons, next, big, growth, ...\n",
       "1     [brickandmortar, stores, thrive, age, ecommerce]\n",
       "2    [investors, compare, market, crash, market, cr...\n",
       "3              [holiday, season, could, better, think]\n",
       "4    [stocks, better, walmart, wmt, according, hedg...\n",
       "Name: Comments, dtype: object"
      ]
     },
     "execution_count": 65,
     "metadata": {},
     "output_type": "execute_result"
    }
   ],
   "source": [
    "import nltk\n",
    "st = nltk.PorterStemmer()\n",
    "def stemming_on_text(data):\n",
    "    text = [st.stem(word) for word in data]\n",
    "    return data\n",
    "df['Comments']= df['Comments'].apply(lambda x: stemming_on_text(x))\n",
    "df['Comments'].head()"
   ]
  },
  {
   "cell_type": "code",
   "execution_count": 66,
   "metadata": {},
   "outputs": [
    {
     "data": {
      "text/plain": [
       "0    [could, robotics, amazons, next, big, growth, ...\n",
       "1     [brickandmortar, stores, thrive, age, ecommerce]\n",
       "2    [investors, compare, market, crash, market, cr...\n",
       "3              [holiday, season, could, better, think]\n",
       "4    [stocks, better, walmart, wmt, according, hedg...\n",
       "Name: Comments, dtype: object"
      ]
     },
     "execution_count": 66,
     "metadata": {},
     "output_type": "execute_result"
    }
   ],
   "source": [
    "lm = nltk.WordNetLemmatizer()\n",
    "def lemmatizer_on_text(data):\n",
    "    text = [lm.lemmatize(word) for word in data]\n",
    "    return data\n",
    "df['Comments'] = df['Comments'].apply(lambda x: lemmatizer_on_text(x))\n",
    "df['Comments'].head()\n"
   ]
  },
  {
   "cell_type": "code",
   "execution_count": 67,
   "metadata": {},
   "outputs": [
    {
     "data": {
      "text/plain": [
       "0          could robotics amazons next big growth driver\n",
       "1             brickandmortar stores thrive age ecommerce\n",
       "2            investors compare market crash market crash\n",
       "3                      holiday season could better think\n",
       "4        stocks better walmart wmt according hedge funds\n",
       "                             ...                        \n",
       "395        twitter nysetwtr pretty healthy balance sheet\n",
       "396                         twitter stock pressure today\n",
       "397    twitter million settlement shareholder suit gr...\n",
       "398    update twitter seeks settle class action lawsu...\n",
       "399           twitter pay million classaction settlement\n",
       "Name: Comments, Length: 400, dtype: object"
      ]
     },
     "execution_count": 67,
     "metadata": {},
     "output_type": "execute_result"
    }
   ],
   "source": [
    " \n",
    "df['Comments'] = pd.Series([' '.join(map(str, x)) for x in df['Comments']])\n",
    "df['Comments']"
   ]
  },
  {
   "cell_type": "code",
   "execution_count": null,
   "metadata": {},
   "outputs": [],
   "source": [
    "\n"
   ]
  },
  {
   "cell_type": "code",
   "execution_count": 68,
   "metadata": {},
   "outputs": [],
   "source": [
    "X= df.Comments\n",
    "y= df.Compound"
   ]
  },
  {
   "cell_type": "code",
   "execution_count": 69,
   "metadata": {},
   "outputs": [],
   "source": [
    "##data_neg = \n",
    "#plt.figure(figsize = (20,20))\n",
    "#wc = WordCloud(max_words = 1000 , width = 1600 , height = 800,\n",
    "               #collocations=False).generate(\" \".join(data_neg))\n",
    "#plt.imshow(wc)"
   ]
  },
  {
   "cell_type": "code",
   "execution_count": 70,
   "metadata": {},
   "outputs": [],
   "source": [
    "# Separating the 95% data for training data and 5% for testing data\n",
    "X_train, X_test, y_train, y_test = train_test_split(X,y,test_size = 0.05, random_state =26105111)"
   ]
  },
  {
   "cell_type": "code",
   "execution_count": 71,
   "metadata": {},
   "outputs": [
    {
     "data": {
      "text/plain": [
       "72     heres commercial real estate trend investors n...\n",
       "316    hurricane idas impact royal dutch shell safewa...\n",
       "341    nintendos smash bros gets final character hit ...\n",
       "346    japan touts new capitalism but new finance chi...\n",
       "370    twitters bitcoin tipping feature could fatal d...\n",
       "                             ...                        \n",
       "215    southwest airlines facebook pfizer stocks defi...\n",
       "204    social media companies accountable policies fa...\n",
       "321    twitter gainsbillion sale ad unit mopub affirm...\n",
       "174    google flights adds carbon emission estimates ...\n",
       "244                   social media changing stock market\n",
       "Name: Comments, Length: 380, dtype: object"
      ]
     },
     "execution_count": 71,
     "metadata": {},
     "output_type": "execute_result"
    }
   ],
   "source": [
    "X_train"
   ]
  },
  {
   "cell_type": "code",
   "execution_count": null,
   "metadata": {},
   "outputs": [],
   "source": []
  },
  {
   "cell_type": "code",
   "execution_count": 72,
   "metadata": {},
   "outputs": [
    {
     "name": "stdout",
     "output_type": "stream",
     "text": [
      "No. of feature_words:  8\n"
     ]
    }
   ],
   "source": [
    "vectoriser = TfidfVectorizer(ngram_range=(1,2), max_features=1180)\n",
    "vectoriser.fit(df)\n",
    "print('No. of feature_words: ', len(vectoriser.get_feature_names()))"
   ]
  },
  {
   "cell_type": "code",
   "execution_count": 73,
   "metadata": {},
   "outputs": [
    {
     "name": "stdout",
     "output_type": "stream",
     "text": [
      "['comments', 'company', 'compound', 'date', 'negative', 'neutral', 'positive', 'time']\n",
      "(8, 8)\n"
     ]
    }
   ],
   "source": [
    "\n",
    "vectoriser = TfidfVectorizer()\n",
    "x = vectoriser.fit_transform(df)\n",
    "print(vectoriser.get_feature_names())\n",
    "print(x.shape)\n"
   ]
  },
  {
   "cell_type": "code",
   "execution_count": 74,
   "metadata": {},
   "outputs": [
    {
     "name": "stdout",
     "output_type": "stream",
     "text": [
      "  (2, 3)\t1.0\n",
      "  (19, 1)\t1.0\n"
     ]
    }
   ],
   "source": [
    "X_train = vectoriser.transform(X_train)\n",
    "X_test  = vectoriser.transform(X_test)\n",
    "print(X_test)"
   ]
  },
  {
   "cell_type": "code",
   "execution_count": 75,
   "metadata": {},
   "outputs": [],
   "source": [
    "def model_Evaluate(model):  # Predict values for Test dataset\n",
    "    y_pred = model.predict(X_test)\n",
    "    print(classification_report(y_test, y_pred))\n",
    "\n"
   ]
  },
  {
   "cell_type": "code",
   "execution_count": 76,
   "metadata": {},
   "outputs": [
    {
     "data": {
      "text/plain": [
       "Text(0.5, 1.0, 'Confusion Matrix')"
      ]
     },
     "execution_count": 76,
     "metadata": {},
     "output_type": "execute_result"
    },
    {
     "data": {
      "image/png": "[encoded data removed]",
      "text/plain": [
       "<Figure size 432x288 with 1 Axes>"
      ]
     },
     "metadata": {
      "needs_background": "light"
     },
     "output_type": "display_data"
    }
   ],
   "source": [
    "def model_Evaluate(model):  # Predict values for Test dataset\n",
    "    y_pred = model.predict(X_test)\n",
    "    print(classification_report(y_test, y_pred))  # Print the evaluation metrics for the dataset.\n",
    "    cf_matrix = confusion_matrix(y_test, y_pred)  # Compute and plot the Confusion matrix\n",
    "    categories = ['Compound','Comments']\n",
    "    group_names = ['True Neg','False Pos', 'False Neg','True Pos']\n",
    "    group_percentages = ['{0:.2%}'.format(value) for value in cf_matrix.flatten() / np.sum(cf_matrix)]\n",
    "    labels = [f'{v1}n{v2}' for v1, v2 in zip(group_names,group_percentages)]\n",
    "    labels = np.asarray(labels).reshape(2,2)\n",
    "    sns.heatmap(cf_matrix, annot = labels, cmap = 'Blues',fmt = '',\n",
    "xticklabels = categories, yticklabels = categories)\n",
    "plt.xlabel(\"Predicted values\", fontdict = {'size':14}, labelpad = 10)\n",
    "plt.ylabel(\"Actual values\" , fontdict = {'size':14}, labelpad = 10)\n",
    "plt.title (\"Confusion Matrix\", fontdict = {'size':18}, pad = 20)"
   ]
  },
  {
   "cell_type": "code",
   "execution_count": 77,
   "metadata": {},
   "outputs": [],
   "source": [
    "# BNBmodel = BernoulliNB()\n",
    "# BNBmodel.fit(X_train, y_train)\n",
    "# model_Evaluate(BNBmodel)\n",
    "# y_pred1 = BNBmodel.predict(X_test)"
   ]
  },
  {
   "cell_type": "code",
   "execution_count": 78,
   "metadata": {},
   "outputs": [
    {
     "name": "stdout",
     "output_type": "stream",
     "text": [
      "total words from movie review corpus:  342\n"
     ]
    },
    {
     "ename": "AttributeError",
     "evalue": "'int' object has no attribute 'lower'",
     "output_type": "error",
     "traceback": [
      "\u001b[1;31m---------------------------------------------------------------------------\u001b[0m",
      "\u001b[1;31mAttributeError\u001b[0m                            Traceback (most recent call last)",
      "\u001b[1;32m~\\AppData\\Local\\Temp/ipykernel_13832/329506885.py\u001b[0m in \u001b[0;36m<module>\u001b[1;34m\u001b[0m\n\u001b[0;32m      2\u001b[0m \u001b[1;33m\u001b[0m\u001b[0m\n\u001b[0;32m      3\u001b[0m \u001b[1;31m# load all the words in freq distribution\u001b[0m\u001b[1;33m\u001b[0m\u001b[1;33m\u001b[0m\u001b[0m\n\u001b[1;32m----> 4\u001b[1;33m \u001b[0mall_words\u001b[0m \u001b[1;33m=\u001b[0m \u001b[0mnltk\u001b[0m\u001b[1;33m.\u001b[0m\u001b[0mFreqDist\u001b[0m\u001b[1;33m(\u001b[0m\u001b[0mw\u001b[0m\u001b[1;33m.\u001b[0m\u001b[0mlower\u001b[0m\u001b[1;33m(\u001b[0m\u001b[1;33m)\u001b[0m \u001b[1;32mfor\u001b[0m \u001b[0mw\u001b[0m \u001b[1;32min\u001b[0m \u001b[0mdf\u001b[0m\u001b[1;33m[\u001b[0m\u001b[1;34m'Comments'\u001b[0m\u001b[1;33m]\u001b[0m\u001b[1;33m.\u001b[0m\u001b[0mvalue_counts\u001b[0m\u001b[1;33m(\u001b[0m\u001b[1;33m)\u001b[0m\u001b[1;33m)\u001b[0m\u001b[1;33m\u001b[0m\u001b[1;33m\u001b[0m\u001b[0m\n\u001b[0m\u001b[0;32m      5\u001b[0m \u001b[1;33m\u001b[0m\u001b[0m\n\u001b[0;32m      6\u001b[0m \u001b[1;31m#construct a list of the 2000 most frequent words in the overall corpus (you can try with other numbers as well)\u001b[0m\u001b[1;33m\u001b[0m\u001b[1;33m\u001b[0m\u001b[0m\n",
      "\u001b[1;32m~\\AppData\\Local\\Programs\\Python\\Python39\\lib\\site-packages\\nltk\\probability.py\u001b[0m in \u001b[0;36m__init__\u001b[1;34m(self, samples)\u001b[0m\n\u001b[0;32m    102\u001b[0m         \u001b[1;33m:\u001b[0m\u001b[0mtype\u001b[0m \u001b[0msamples\u001b[0m\u001b[1;33m:\u001b[0m \u001b[0mSequence\u001b[0m\u001b[1;33m\u001b[0m\u001b[1;33m\u001b[0m\u001b[0m\n\u001b[0;32m    103\u001b[0m         \"\"\"\n\u001b[1;32m--> 104\u001b[1;33m         \u001b[0mCounter\u001b[0m\u001b[1;33m.\u001b[0m\u001b[0m__init__\u001b[0m\u001b[1;33m(\u001b[0m\u001b[0mself\u001b[0m\u001b[1;33m,\u001b[0m \u001b[0msamples\u001b[0m\u001b[1;33m)\u001b[0m\u001b[1;33m\u001b[0m\u001b[1;33m\u001b[0m\u001b[0m\n\u001b[0m\u001b[0;32m    105\u001b[0m \u001b[1;33m\u001b[0m\u001b[0m\n\u001b[0;32m    106\u001b[0m         \u001b[1;31m# Cached number of samples in this FreqDist\u001b[0m\u001b[1;33m\u001b[0m\u001b[1;33m\u001b[0m\u001b[0m\n",
      "\u001b[1;32m~\\AppData\\Local\\Programs\\Python\\Python39\\lib\\collections\\__init__.py\u001b[0m in \u001b[0;36m__init__\u001b[1;34m(self, iterable, **kwds)\u001b[0m\n\u001b[0;32m    591\u001b[0m         '''\n\u001b[0;32m    592\u001b[0m         \u001b[0msuper\u001b[0m\u001b[1;33m(\u001b[0m\u001b[1;33m)\u001b[0m\u001b[1;33m.\u001b[0m\u001b[0m__init__\u001b[0m\u001b[1;33m(\u001b[0m\u001b[1;33m)\u001b[0m\u001b[1;33m\u001b[0m\u001b[1;33m\u001b[0m\u001b[0m\n\u001b[1;32m--> 593\u001b[1;33m         \u001b[0mself\u001b[0m\u001b[1;33m.\u001b[0m\u001b[0mupdate\u001b[0m\u001b[1;33m(\u001b[0m\u001b[0miterable\u001b[0m\u001b[1;33m,\u001b[0m \u001b[1;33m**\u001b[0m\u001b[0mkwds\u001b[0m\u001b[1;33m)\u001b[0m\u001b[1;33m\u001b[0m\u001b[1;33m\u001b[0m\u001b[0m\n\u001b[0m\u001b[0;32m    594\u001b[0m \u001b[1;33m\u001b[0m\u001b[0m\n\u001b[0;32m    595\u001b[0m     \u001b[1;32mdef\u001b[0m \u001b[0m__missing__\u001b[0m\u001b[1;33m(\u001b[0m\u001b[0mself\u001b[0m\u001b[1;33m,\u001b[0m \u001b[0mkey\u001b[0m\u001b[1;33m)\u001b[0m\u001b[1;33m:\u001b[0m\u001b[1;33m\u001b[0m\u001b[1;33m\u001b[0m\u001b[0m\n",
      "\u001b[1;32m~\\AppData\\Local\\Programs\\Python\\Python39\\lib\\site-packages\\nltk\\probability.py\u001b[0m in \u001b[0;36mupdate\u001b[1;34m(self, *args, **kwargs)\u001b[0m\n\u001b[0;32m    140\u001b[0m         \"\"\"\n\u001b[0;32m    141\u001b[0m         \u001b[0mself\u001b[0m\u001b[1;33m.\u001b[0m\u001b[0m_N\u001b[0m \u001b[1;33m=\u001b[0m \u001b[1;32mNone\u001b[0m\u001b[1;33m\u001b[0m\u001b[1;33m\u001b[0m\u001b[0m\n\u001b[1;32m--> 142\u001b[1;33m         \u001b[0msuper\u001b[0m\u001b[1;33m(\u001b[0m\u001b[0mFreqDist\u001b[0m\u001b[1;33m,\u001b[0m \u001b[0mself\u001b[0m\u001b[1;33m)\u001b[0m\u001b[1;33m.\u001b[0m\u001b[0mupdate\u001b[0m\u001b[1;33m(\u001b[0m\u001b[1;33m*\u001b[0m\u001b[0margs\u001b[0m\u001b[1;33m,\u001b[0m \u001b[1;33m**\u001b[0m\u001b[0mkwargs\u001b[0m\u001b[1;33m)\u001b[0m\u001b[1;33m\u001b[0m\u001b[1;33m\u001b[0m\u001b[0m\n\u001b[0m\u001b[0;32m    143\u001b[0m \u001b[1;33m\u001b[0m\u001b[0m\n\u001b[0;32m    144\u001b[0m     \u001b[1;32mdef\u001b[0m \u001b[0msetdefault\u001b[0m\u001b[1;33m(\u001b[0m\u001b[0mself\u001b[0m\u001b[1;33m,\u001b[0m \u001b[0mkey\u001b[0m\u001b[1;33m,\u001b[0m \u001b[0mval\u001b[0m\u001b[1;33m)\u001b[0m\u001b[1;33m:\u001b[0m\u001b[1;33m\u001b[0m\u001b[1;33m\u001b[0m\u001b[0m\n",
      "\u001b[1;32m~\\AppData\\Local\\Programs\\Python\\Python39\\lib\\collections\\__init__.py\u001b[0m in \u001b[0;36mupdate\u001b[1;34m(self, iterable, **kwds)\u001b[0m\n\u001b[0;32m    677\u001b[0m                     \u001b[0msuper\u001b[0m\u001b[1;33m(\u001b[0m\u001b[1;33m)\u001b[0m\u001b[1;33m.\u001b[0m\u001b[0mupdate\u001b[0m\u001b[1;33m(\u001b[0m\u001b[0miterable\u001b[0m\u001b[1;33m)\u001b[0m\u001b[1;33m\u001b[0m\u001b[1;33m\u001b[0m\u001b[0m\n\u001b[0;32m    678\u001b[0m             \u001b[1;32melse\u001b[0m\u001b[1;33m:\u001b[0m\u001b[1;33m\u001b[0m\u001b[1;33m\u001b[0m\u001b[0m\n\u001b[1;32m--> 679\u001b[1;33m                 \u001b[0m_count_elements\u001b[0m\u001b[1;33m(\u001b[0m\u001b[0mself\u001b[0m\u001b[1;33m,\u001b[0m \u001b[0miterable\u001b[0m\u001b[1;33m)\u001b[0m\u001b[1;33m\u001b[0m\u001b[1;33m\u001b[0m\u001b[0m\n\u001b[0m\u001b[0;32m    680\u001b[0m         \u001b[1;32mif\u001b[0m \u001b[0mkwds\u001b[0m\u001b[1;33m:\u001b[0m\u001b[1;33m\u001b[0m\u001b[1;33m\u001b[0m\u001b[0m\n\u001b[0;32m    681\u001b[0m             \u001b[0mself\u001b[0m\u001b[1;33m.\u001b[0m\u001b[0mupdate\u001b[0m\u001b[1;33m(\u001b[0m\u001b[0mkwds\u001b[0m\u001b[1;33m)\u001b[0m\u001b[1;33m\u001b[0m\u001b[1;33m\u001b[0m\u001b[0m\n",
      "\u001b[1;32m~\\AppData\\Local\\Temp/ipykernel_13832/329506885.py\u001b[0m in \u001b[0;36m<genexpr>\u001b[1;34m(.0)\u001b[0m\n\u001b[0;32m      2\u001b[0m \u001b[1;33m\u001b[0m\u001b[0m\n\u001b[0;32m      3\u001b[0m \u001b[1;31m# load all the words in freq distribution\u001b[0m\u001b[1;33m\u001b[0m\u001b[1;33m\u001b[0m\u001b[0m\n\u001b[1;32m----> 4\u001b[1;33m \u001b[0mall_words\u001b[0m \u001b[1;33m=\u001b[0m \u001b[0mnltk\u001b[0m\u001b[1;33m.\u001b[0m\u001b[0mFreqDist\u001b[0m\u001b[1;33m(\u001b[0m\u001b[0mw\u001b[0m\u001b[1;33m.\u001b[0m\u001b[0mlower\u001b[0m\u001b[1;33m(\u001b[0m\u001b[1;33m)\u001b[0m \u001b[1;32mfor\u001b[0m \u001b[0mw\u001b[0m \u001b[1;32min\u001b[0m \u001b[0mdf\u001b[0m\u001b[1;33m[\u001b[0m\u001b[1;34m'Comments'\u001b[0m\u001b[1;33m]\u001b[0m\u001b[1;33m.\u001b[0m\u001b[0mvalue_counts\u001b[0m\u001b[1;33m(\u001b[0m\u001b[1;33m)\u001b[0m\u001b[1;33m)\u001b[0m\u001b[1;33m\u001b[0m\u001b[1;33m\u001b[0m\u001b[0m\n\u001b[0m\u001b[0;32m      5\u001b[0m \u001b[1;33m\u001b[0m\u001b[0m\n\u001b[0;32m      6\u001b[0m \u001b[1;31m#construct a list of the 2000 most frequent words in the overall corpus (you can try with other numbers as well)\u001b[0m\u001b[1;33m\u001b[0m\u001b[1;33m\u001b[0m\u001b[0m\n",
      "\u001b[1;31mAttributeError\u001b[0m: 'int' object has no attribute 'lower'"
     ]
    }
   ],
   "source": [
    "print('total words from movie review corpus: ', len(df['Comments'].value_counts()))\n",
    "\n",
    "# load all the words in freq distribution\n",
    "all_words = nltk.FreqDist(w.lower() for w in df['Comments'].value_counts())\n",
    "\n",
    "#construct a list of the 2000 most frequent words in the overall corpus (you can try with other numbers as well)\n",
    "most_freq_words = all_words.most_common(2000)\n",
    "print('most freq words: ', most_freq_words[100:110])\n",
    "\n",
    "word_features = [word for (word, count) in most_freq_words]\n",
    "print('word_features[:25]: ', word_features[:25])"
   ]
  },
  {
   "cell_type": "code",
   "execution_count": null,
   "metadata": {},
   "outputs": [],
   "source": [
    "def hashtag_extract(x):\n",
    "    hashtags = []\n",
    "    # Loop over the words in the tweet\n",
    "    for i in x:\n",
    "        ht = re.findall(r\"#(\\w+)\", i)\n",
    "        hashtags.append(ht)\n",
    "    return hashtags\n",
    "\n",
    "\n",
    "HT_positive = hashtag_extract(df['Comments'][df['Compound'] > 0.5])\n",
    "HT_positive"
   ]
  },
  {
   "cell_type": "code",
   "execution_count": null,
   "metadata": {},
   "outputs": [],
   "source": []
  },
  {
   "cell_type": "code",
   "execution_count": null,
   "metadata": {},
   "outputs": [],
   "source": []
  },
  {
   "cell_type": "code",
   "execution_count": null,
   "metadata": {},
   "outputs": [],
   "source": []
  },
  {
   "cell_type": "code",
   "execution_count": null,
   "metadata": {},
   "outputs": [],
   "source": [
    "HT_positive = []\n",
    "def hashtag_extract(x):\n",
    "    hashtags = []\n",
    "    # Loop over the words in the tweet\n",
    "    for i in x:\n",
    "        ht = re.findall(r\"#(\\w+)\", i)\n",
    "        hashtags.append(ht)\n",
    "    return hashtags\n",
    "# extracting hashtags from positive tweetsHT_positive = hashtag_extract(df_tws['text'][df_tws['sent'] == 1])\n",
    "# extracting hashtags from  tweets\n",
    "HT_positive = hashtag_extract(df['Comments'][df['Compound'] > 0.5])\n",
    "# unnesting list\n",
    "HT_positive = sum(HT_positive,[])\n",
    "HT_positive"
   ]
  },
  {
   "cell_type": "code",
   "execution_count": null,
   "metadata": {},
   "outputs": [],
   "source": [
    "function = lambda x: vader.polarity_scores(x)['compound']\n",
    "# We want to loop through our comments column\n",
    "df['Compound'] = df['Comments'].apply(function) #The compound score is the sum of positive, negative & neutral scores which is then normalized between -1(most extreme negative) and +1 (most extreme positive). The more Compound score closer to +1, the higher the positivity of the text. Above text is 49.2% Positive, 0% Negative, 50.8% Neutral\n",
    "# Convert date column to date time\n",
    "df['Date'] = pd.to_datetime(df.Date).dt.date\n",
    "\n",
    "\n",
    "\n",
    "# print(vader.polarity_scores('I hate eating cheese'))\n",
    "print(df)"
   ]
  },
  {
   "cell_type": "code",
   "execution_count": null,
   "metadata": {},
   "outputs": [],
   "source": [
    "plt.figure(figsize=(6,8))\n",
    "# Using groupby makes us to have one date entry\n",
    "mean_df = df.groupby(['Company','Date']).mean()\n",
    "#print(mean_df)\n",
    "\n",
    "# Allow us to have date as x-axis\n",
    "mean_df = mean_df.unstack()\n",
    "# Remove compound column\n",
    "mean_df = mean_df.xs('Compound', axis='columns').transpose()\n",
    "mean_df.plot(kind='bar')\n",
    "plt.show()\n",
    "#print(mean_df)"
   ]
  },
  {
   "cell_type": "code",
   "execution_count": null,
   "metadata": {},
   "outputs": [],
   "source": []
  }
 ],
 "metadata": {
  "interpreter": {
   "hash": "247ab06e135bb35fa78c5eff31b2a9a0050dcb5fb773c2631d2a29ac689eeccb"
  },
  "kernelspec": {
   "display_name": "Python 3.9.7 64-bit",
   "name": "python3"
  },
  "language_info": {
   "codemirror_mode": {
    "name": "ipython",
    "version": 3
   },
   "file_extension": ".py",
   "mimetype": "text/x-python",
   "name": "python",
   "nbconvert_exporter": "python",
   "pygments_lexer": "ipython3",
   "version": "3.9.7"
  }
 },
 "nbformat": 4,
 "nbformat_minor": 2
}
