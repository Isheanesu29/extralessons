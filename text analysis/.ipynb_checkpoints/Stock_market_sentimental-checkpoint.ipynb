{
 "cells": [
  {
   "cell_type": "code",
   "execution_count": 1,
   "metadata": {},
   "outputs": [
    {
     "name": "stderr",
     "output_type": "stream",
     "text": [
      "[nltk_data] Downloading package vader_lexicon to\n",
      "[nltk_data]     C:\\Users\\user\\AppData\\Roaming\\nltk_data...\n",
      "[nltk_data]   Package vader_lexicon is already up-to-date!\n"
     ]
    },
    {
     "data": {
      "text/plain": [
       "True"
      ]
     },
     "execution_count": 1,
     "metadata": {},
     "output_type": "execute_result"
    }
   ],
   "source": [
    "from urllib.request import urlopen, Request\n",
    "from bs4 import BeautifulSoup\n",
    "from nltk.sentiment.vader import SentimentIntensityAnalyzer\n",
    "import pandas as pd\n",
    "import matplotlib.pyplot as plt\n",
    "import nltk\n",
    "import textblob\n",
    "from textblob import TextBlob\n",
    "import re\n",
    "import numpy as np\n",
    "import time\n",
    "import seaborn as sns\n",
    "from wordcloud import WordCloud\n",
    "# nltk\n",
    "from nltk.stem import WordNetLemmatizer\n",
    "# sklearn\n",
    "from sklearn.svm import LinearSVC\n",
    "from sklearn.naive_bayes import BernoulliNB\n",
    "from sklearn.linear_model import LogisticRegression\n",
    "from sklearn.model_selection import train_test_split\n",
    "from sklearn.feature_extraction.text import TfidfVectorizer\n",
    "from sklearn.metrics import confusion_matrix, classification_report\n",
    "import stop_words\n",
    "\n",
    "\n",
    "nltk.downloader.download('vader_lexicon')"
   ]
  },
  {
   "cell_type": "code",
   "execution_count": 2,
   "metadata": {},
   "outputs": [],
   "source": [
    "finviz_url = 'https://finviz.com/quote.ashx?t='\n",
    "Companies = ['AMZN', 'GOOG', 'FB','TWTR'] # stock companies\n",
    "\n",
    "news_tables = {} # Declare empty dictionary to store results from finviz"
   ]
  },
  {
   "cell_type": "code",
   "execution_count": null,
   "metadata": {},
   "outputs": [],
   "source": [
    "\n"
   ]
  },
  {
   "cell_type": "code",
   "execution_count": 3,
   "metadata": {},
   "outputs": [
    {
     "name": "stdout",
     "output_type": "stream",
     "text": [
      "{'AMZN': <table border=\"0\" cellpadding=\"1\" cellspacing=\"0\" class=\"fullview-news-outer\" id=\"news-table\" width=\"100%\">\n",
      "<tr><td align=\"right\" style=\"white-space:nowrap\" width=\"130\">Oct-15-21 10:50AM  </td><td align=\"left\"><div class=\"news-link-container\"><div class=\"news-link-left\"><a class=\"tab-link-news\" href=\"https://finance.yahoo.com/video/sept-retail-sales-report-indicates-145012953.html\" target=\"_blank\">Sept. retail sales report indicates strong consumer resilience: economist</a></div><div class=\"news-link-right\"><span style=\"color:#aa6dc0;font-size:9px\"> Yahoo Finance Video</span></div></div></td></tr>\n",
      "<tr><td align=\"right\" width=\"130\">09:53AM  </td><td align=\"left\"><div class=\"news-link-container\"><div class=\"news-link-left\"><a class=\"tab-link-news\" href=\"https://finance.yahoo.com/news/mark-cuban-just-tripled-stake-135300112.html\" target=\"_blank\">Mark Cuban just tripled his stake in Dogecoin  but his bet on these 2 stocks is 667x larger</a></div><div class=\"news-link-right\"><span style=\"color:#aa6dc0;font-size:9px\"> MoneyWise</span></div></div></td></tr>\n",
      "<tr><td align=\"right\" width=\"130\">09:00AM  </td><td align=\"left\"><div class=\"news-link-container\"><div class=\"news-link-left\"><a class=\"tab-link-news\" href=\"https://finance.yahoo.com/news/ipo-saga-auto-world-continues-130001361.html\" target=\"_blank\">IPO Saga in Auto World Continues: Rivian the Latest Aspirant</a></div><div class=\"news-link-right\"><span style=\"color:#aa6dc0;font-size:9px\"> Zacks</span></div></div></td></tr>\n",
      "<tr><td align=\"right\" width=\"130\">09:00AM  </td><td align=\"left\"><div class=\"news-link-container\"><div class=\"news-link-left\"><a class=\"tab-link-news\" href=\"https://finance.yahoo.com/news/digital-transformation-buyouts-fueling-salesforces-130001118.html\" target=\"_blank\">Digital Transformation, Buyouts Fueling Salesforce's (CRM) Growth</a></div><div class=\"news-link-right\"><span style=\"color:#aa6dc0;font-size:9px\"> Zacks</span></div></div></td></tr>\n",
      "<tr><td align=\"right\" width=\"130\">08:25AM  </td><td align=\"left\"><div class=\"news-link-container\"><div class=\"news-link-left\"><a class=\"tab-link-news\" href=\"https://www.fool.com/investing/2021/10/15/is-it-too-late-to-buy-digitalocean-stock/?source=eptyholnk0000202&amp;utm_source=yahoo-host&amp;utm_medium=feed&amp;utm_campaign=article\" target=\"_blank\">Is It Too Late to Buy DigitalOcean Stock?</a></div><div class=\"news-link-right\"><span style=\"color:#aa6dc0;font-size:9px\"> Motley Fool</span></div></div></td></tr>\n",
      "<tr><td align=\"right\" width=\"130\">07:40AM  </td><td align=\"left\"><div class=\"news-link-container\"><div class=\"news-link-left\"><a class=\"tab-link-news\" href=\"https://www.fool.com/investing/2021/10/15/inflation-is-back-heres-how-to-adjust-your-investm/?source=eptyholnk0000202&amp;utm_source=yahoo-host&amp;utm_medium=feed&amp;utm_campaign=article\" target=\"_blank\">Inflation is Back. Are Your Investments Ready?</a></div><div class=\"news-link-right\"><span style=\"color:#aa6dc0;font-size:9px\"> Motley Fool</span></div></div></td></tr>\n",
      "<tr><td align=\"right\" width=\"130\">07:22AM  </td><td align=\"left\"><div class=\"news-link-container\"><div class=\"news-link-left\"><a class=\"tab-link-news\" href=\"https://www.fool.com/investing/2021/10/15/e-commerce-stocks-buy-and-hold-for-next-decade/?source=eptyholnk0000202&amp;utm_source=yahoo-host&amp;utm_medium=feed&amp;utm_campaign=article\" target=\"_blank\">3 E-Commerce Stocks You Can Buy and Hold for the Next Decade</a></div><div class=\"news-link-right\"><span style=\"color:#aa6dc0;font-size:9px\"> Motley Fool</span></div></div></td></tr>\n",
      "<tr><td align=\"right\" width=\"130\">07:07AM  </td><td align=\"left\"><div class=\"news-link-container\"><div class=\"news-link-left\"><a class=\"tab-link-news\" href=\"https://www.thestreet.com/investing/amazon-reiterated-outperform-at-cowen-gen-z-and-millennials?puc=yahoo&amp;cm_ven=YAHOO\" target=\"_blank\">Amazon Affirmed Outperform; Cowen Sees Millennial, Gen-Z Strength</a></div><div class=\"news-link-right\"><span style=\"color:#aa6dc0;font-size:9px\"> TheStreet.com</span></div></div></td></tr>\n",
      "<tr><td align=\"right\" width=\"130\">05:53AM  </td><td align=\"left\"><div class=\"news-link-container\"><div class=\"news-link-left\"><a class=\"tab-link-news\" href=\"https://finance.yahoo.com/news/vaccine-mandates-are-the-new-labor-market-wild-card-morning-brief-090604358.html\" target=\"_blank\">Vaccine mandates are the new labor market wild card: Morning Brief</a></div><div class=\"news-link-right\"><span style=\"color:#aa6dc0;font-size:9px\"> Yahoo Finance</span></div></div></td></tr>\n",
      "<tr><td align=\"right\" style=\"white-space:nowrap\" width=\"130\">Oct-14-21 06:27PM  </td><td align=\"left\"><div class=\"news-link-container\"><div class=\"news-link-left\"><a class=\"tab-link-news\" href=\"https://finance.yahoo.com/news/shopify-aims-stores-lean-mean-222750985.html\" target=\"_blank\">Shopify Aims to Make Stores Lean, Mean Retailing Machines</a></div><div class=\"news-link-right\"><span style=\"color:#aa6dc0;font-size:9px\"> WWD</span></div></div></td></tr>\n",
      "<tr><td align=\"right\" width=\"130\">05:15PM  </td><td align=\"left\"><div class=\"news-link-container\"><div class=\"news-link-left\"><a class=\"tab-link-news\" href=\"https://finance.yahoo.com/news/apple-hires-homepod-software-head-211545452.html\" target=\"_blank\">Apple Hires New HomePod Software Head as It Takes on Amazon Echo</a></div><div class=\"news-link-right\"><span style=\"color:#aa6dc0;font-size:9px\"> Bloomberg</span></div></div></td></tr>\n",
      "<tr><td align=\"right\" width=\"130\">04:01PM  </td><td align=\"left\"><div class=\"news-link-container\"><div class=\"news-link-left\"><a class=\"tab-link-news\" href=\"https://finance.yahoo.com/news/amazon-com-webcast-third-quarter-200100389.html\" target=\"_blank\">Amazon.com to Webcast Third Quarter 2021 Financial Results Conference Call</a></div><div class=\"news-link-right\"><span style=\"color:#aa6dc0;font-size:9px\"> Business Wire</span></div></div></td></tr>\n",
      "<tr><td align=\"right\" width=\"130\">02:56PM  </td><td align=\"left\"><div class=\"news-link-container\"><div class=\"news-link-left\"><a class=\"tab-link-news\" href=\"https://www.marketwatch.com/story/new-bills-aim-at-apple-google-and-facebook-as-u-s-attempts-to-catch-up-to-europes-big-tech-push-11634237758?siteid=yhoof2\" target=\"_blank\">New bills aim at Apple, Google and Facebook as U.S. attempts to catch up to Europes Big Tech push</a></div><div class=\"news-link-right\"><span style=\"color:#aa6dc0;font-size:9px\"> MarketWatch</span></div></div></td></tr>\n",
      "<tr><td align=\"right\" width=\"130\">02:53PM  </td><td align=\"left\"><div class=\"news-link-container\"><div class=\"news-link-left\"><a class=\"tab-link-news\" href=\"https://www.bizjournals.com/pittsburgh/news/2021/10/14/records-show-amazon-buys-eastland-site.html?ana=yahoo\" target=\"_blank\">Real estate record reveals Amazon closes on buying former Eastland Mall site in North Versailles</a></div><div class=\"news-link-right\"><span style=\"color:#aa6dc0;font-size:9px\"> American City Business Journals</span></div></div></td></tr>\n",
      "<tr><td align=\"right\" width=\"130\">02:36PM  </td><td align=\"left\"><div class=\"news-link-container\"><div class=\"news-link-left\"><a class=\"tab-link-news\" href=\"https://finance.yahoo.com/news/us-senates-latest-antitrust-bill-183601762.html\" target=\"_blank\">US Senate's Latest Antitrust Bill Targets Amazon, Apple, Google: CNBC</a></div><div class=\"news-link-right\"><span style=\"color:#aa6dc0;font-size:9px\"> Benzinga</span></div></div></td></tr>\n",
      "<tr><td align=\"right\" width=\"130\">02:00PM  </td><td align=\"left\"><div class=\"news-link-container\"><div class=\"news-link-left\"><a class=\"tab-link-news\" href=\"https://www.millionacres.com/market/new-york/new-york-city/articles/macys-supposedly-amazon-fighting-like-kong-vs-godzilla-over-this-landmark/?source=eptyholnk0000202&amp;utm_source=yahoo-host&amp;utm_medium=feed&amp;utm_campaign=article\" target=\"_blank\">Macy's, (Supposedly) Amazon Fighting Like Kong vs. Godzilla Over This Landmark</a></div><div class=\"news-link-right\"><span style=\"color:#aa6dc0;font-size:9px\"> Motley Fool</span></div></div></td></tr>\n",
      "<tr><td align=\"right\" width=\"130\">01:55PM  </td><td align=\"left\"><div class=\"news-link-container\"><div class=\"news-link-left\"><a class=\"tab-link-news\" href=\"https://www.investors.com/research/stock-picks-best-stocks-to-buy-and-watch-branch/?src=A00220\" target=\"_blank\">Stock Picks: Nvidia, Microsoft Reveal 7 Telltale Traits As Market Looks To Rebound</a></div><div class=\"news-link-right\"><span style=\"color:#aa6dc0;font-size:9px\"> Investor's Business Daily</span></div></div></td></tr>\n",
      "<tr><td align=\"right\" width=\"130\">01:08PM  </td><td align=\"left\"><div class=\"news-link-container\"><div class=\"news-link-left\"><a class=\"tab-link-news\" href=\"https://www.marketwatch.com/story/amazons-top-videogame-exec-on-the-success-of-new-world-and-why-everyone-is-chasing-roblox-11634222096?siteid=yhoof2\" target=\"_blank\">Amazon videogame exec on the success of New World and why everyone is chasing Roblox</a></div><div class=\"news-link-right\"><span style=\"color:#aa6dc0;font-size:9px\"> MarketWatch</span></div></div></td></tr>\n",
      "<tr><td align=\"right\" width=\"130\">12:30PM  </td><td align=\"left\"><div class=\"news-link-container\"><div class=\"news-link-left\"><a class=\"tab-link-news\" href=\"https://finance.yahoo.com/news/warren-buffetts-hand-man-getting-163000107.html\" target=\"_blank\">Warren Buffett's right-hand man is getting greedy on Alibaba  try these 3 China plays instead</a></div><div class=\"news-link-right\"><span style=\"color:#aa6dc0;font-size:9px\"> MoneyWise</span></div></div></td></tr>\n",
      "<tr><td align=\"right\" width=\"130\">12:22PM  </td><td align=\"left\"><div class=\"news-link-container\"><div class=\"news-link-left\"><a class=\"tab-link-news\" href=\"https://finance.yahoo.com/news/senate-bill-restrict-tech-firms-090000725.html\" target=\"_blank\">Big Tech Faces New Bills on Liability and Competition in U.S.</a></div><div class=\"news-link-right\"><span style=\"color:#aa6dc0;font-size:9px\"> Bloomberg</span></div></div></td></tr>\n",
      "<tr><td align=\"right\" width=\"130\">11:18AM  </td><td align=\"left\"><div class=\"news-link-container\"><div class=\"news-link-left\"><a class=\"tab-link-news\" href=\"https://www.marketwatch.com/story/prince-william-to-bezos-and-other-space-billionaires-repair-this-planet-not-find-the-next-11634224707?siteid=yhoof2\" target=\"_blank\">Prince William to Bezos and other space billionaires: Repair this planet, not find the next</a></div><div class=\"news-link-right\"><span style=\"color:#aa6dc0;font-size:9px\"> MarketWatch</span></div></div></td></tr>\n",
      "<tr><td align=\"right\" width=\"130\">11:09AM  </td><td align=\"left\"><div class=\"news-link-container\"><div class=\"news-link-left\"><a class=\"tab-link-news\" href=\"https://finance.yahoo.com/news/amazon-amzn-boosts-festive-efforts-150903425.html\" target=\"_blank\">Amazon (AMZN) Boosts Festive Efforts in India With Prime Fridays</a></div><div class=\"news-link-right\"><span style=\"color:#aa6dc0;font-size:9px\"> Zacks</span></div></div></td></tr>\n",
      "<tr><td align=\"right\" width=\"130\">10:45AM  </td><td align=\"left\"><div class=\"news-link-container\"><div class=\"news-link-left\"><a class=\"tab-link-news\" href=\"https://www.marketwatch.com/story/why-amazon-and-microsoft-wont-have-a-stranglehold-on-cloud-computing-forever-11634222741?siteid=yhoof2\" target=\"_blank\">Why Amazon and Microsoft wont have a stranglehold on cloud computing forever</a></div><div class=\"news-link-right\"><span style=\"color:#aa6dc0;font-size:9px\"> MarketWatch</span></div></div></td></tr>\n",
      "<tr><td align=\"right\" width=\"130\">10:25AM  </td><td align=\"left\"><div class=\"news-link-container\"><div class=\"news-link-left\"><a class=\"tab-link-news\" href=\"https://finance.yahoo.com/news/why-grove-shares-surging-today-142509856.html\" target=\"_blank\">Why Grove Shares Are Surging Today</a></div><div class=\"news-link-right\"><span style=\"color:#aa6dc0;font-size:9px\"> Benzinga</span></div></div></td></tr>\n",
      "<tr><td align=\"right\" width=\"130\">10:10AM  </td><td align=\"left\"><div class=\"news-link-container\"><div class=\"news-link-left\"><a class=\"tab-link-news\" href=\"https://www.investors.com/news/technology/snowflake-snow-stock-buy-now/?src=A00220\" target=\"_blank\">Is Snowflake Stock A Buy? Data Analytics Specialist Rides Cloud Computing Wave</a></div><div class=\"news-link-right\"><span style=\"color:#aa6dc0;font-size:9px\"> Investor's Business Daily</span></div></div></td></tr>\n",
      "<tr><td align=\"right\" width=\"130\">09:02AM  </td><td align=\"left\"><div class=\"news-link-container\"><div class=\"news-link-left\"><a class=\"tab-link-news\" href=\"https://finance.yahoo.com/news/amazon-ring-doorbell-how-data-breach-ruling-may-impact-you-130237079.html\" target=\"_blank\">Amazon Ring doorbell: How data breach ruling may impact you</a></div><div class=\"news-link-right\"><span style=\"color:#aa6dc0;font-size:9px\"> Yahoo Finance UK</span></div></div></td></tr>\n",
      "<tr><td align=\"right\" width=\"130\">08:56AM  </td><td align=\"left\"><div class=\"news-link-container\"><div class=\"news-link-left\"><a class=\"tab-link-news\" href=\"https://finance.yahoo.com/news/cbd-products-slow-hit-mainstream-125621631.html\" target=\"_blank\">CBD Products Slow to Hit Mainstream Retail Shelves</a></div><div class=\"news-link-right\"><span style=\"color:#aa6dc0;font-size:9px\"> Benzinga</span></div></div></td></tr>\n",
      "<tr><td align=\"right\" width=\"130\">08:37AM  </td><td align=\"left\"><div class=\"news-link-container\"><div class=\"news-link-left\"><a class=\"tab-link-news\" href=\"https://www.fool.com/investing/2021/10/14/best-stocks-to-buy-now-and-hold-forever/?source=eptyholnk0000202&amp;utm_source=yahoo-host&amp;utm_medium=feed&amp;utm_campaign=article\" target=\"_blank\">My Best Stocks to Buy Now and Hold Forever</a></div><div class=\"news-link-right\"><span style=\"color:#aa6dc0;font-size:9px\"> Motley Fool</span></div></div></td></tr>\n",
      "<tr><td align=\"right\" width=\"130\">08:25AM  </td><td align=\"left\"><div class=\"news-link-container\"><div class=\"news-link-left\"><a class=\"tab-link-news\" href=\"https://www.bizjournals.com/washington/news/2021/10/14/washington-football-team-investigation-report.html?ana=yahoo\" target=\"_blank\">Former Washington Football Team employees ask sponsors to pressure NFL to release report on franchise's workplace culture</a></div><div class=\"news-link-right\"><span style=\"color:#aa6dc0;font-size:9px\"> American City Business Journals</span></div></div></td></tr>\n",
      "<tr><td align=\"right\" width=\"130\">08:23AM  </td><td align=\"left\"><div class=\"news-link-container\"><div class=\"news-link-left\"><a class=\"tab-link-news\" href=\"https://www.fool.com/investing/2021/10/14/nvidias-pending-arm-acquisition-what-investors-nee/?source=eptyholnk0000202&amp;utm_source=yahoo-host&amp;utm_medium=feed&amp;utm_campaign=article\" target=\"_blank\">Nvidia's Pending Arm Acquisition: What Investors Need to Know</a></div><div class=\"news-link-right\"><span style=\"color:#aa6dc0;font-size:9px\"> Motley Fool</span></div></div></td></tr>\n",
      "<tr><td align=\"right\" width=\"130\">08:03AM  </td><td align=\"left\"><div class=\"news-link-container\"><div class=\"news-link-left\"><a class=\"tab-link-news\" href=\"https://finance.yahoo.com/news/1-u-senator-warren-urges-120331414.html\" target=\"_blank\">UPDATE 1-U.S. Senator Warren urges Amazon breakup, India retailers want probe after Reuters story</a></div><div class=\"news-link-right\"><span style=\"color:#aa6dc0;font-size:9px\"> Reuters</span></div></div></td></tr>\n",
      "<tr><td align=\"right\" width=\"130\">08:02AM  </td><td align=\"left\"><div class=\"news-link-container\"><div class=\"news-link-left\"><a class=\"tab-link-news\" href=\"https://www.fool.com/investing/2021/10/14/does-shopify-still-have-room-to-grow/?source=eptyholnk0000202&amp;utm_source=yahoo-host&amp;utm_medium=feed&amp;utm_campaign=article\" target=\"_blank\">Does Shopify Still Have Room to Grow?</a></div><div class=\"news-link-right\"><span style=\"color:#aa6dc0;font-size:9px\"> Motley Fool</span></div></div></td></tr>\n",
      "<tr><td align=\"right\" width=\"130\">07:37AM  </td><td align=\"left\"><div class=\"news-link-container\"><div class=\"news-link-left\"><a class=\"tab-link-news\" href=\"https://www.fool.com/investing/2021/10/14/is-it-time-to-buy-the-alibaba-bounce/?source=eptyholnk0000202&amp;utm_source=yahoo-host&amp;utm_medium=feed&amp;utm_campaign=article\" target=\"_blank\">Is It Time to Buy the Alibaba Bounce?</a></div><div class=\"news-link-right\"><span style=\"color:#aa6dc0;font-size:9px\"> Motley Fool</span></div></div></td></tr>\n",
      "<tr><td align=\"right\" width=\"130\">07:27AM  </td><td align=\"left\"><div class=\"news-link-container\"><div class=\"news-link-left\"><a class=\"tab-link-news\" href=\"https://www.fool.com/investing/2021/10/14/is-a-wave-of-fintech-acquisitions-coming-soon/?source=eptyholnk0000202&amp;utm_source=yahoo-host&amp;utm_medium=feed&amp;utm_campaign=article\" target=\"_blank\">Is a Wave of Fintech Acquisitions Coming Soon?</a></div><div class=\"news-link-right\"><span style=\"color:#aa6dc0;font-size:9px\"> Motley Fool</span></div></div></td></tr>\n",
      "<tr><td align=\"right\" width=\"130\">07:25AM  </td><td align=\"left\"><div class=\"news-link-container\"><div class=\"news-link-left\"><a class=\"tab-link-news\" href=\"https://www.fool.com/investing/2021/10/14/netflix-is-finally-taking-a-hint-from-disney/?source=eptyholnk0000202&amp;utm_source=yahoo-host&amp;utm_medium=feed&amp;utm_campaign=article\" target=\"_blank\">Netflix Is Finally Taking a Hint From Disney</a></div><div class=\"news-link-right\"><span style=\"color:#aa6dc0;font-size:9px\"> Motley Fool</span></div></div></td></tr>\n",
      "<tr><td align=\"right\" width=\"130\">07:15AM  </td><td align=\"left\"><div class=\"news-link-container\"><div class=\"news-link-left\"><a class=\"tab-link-news\" href=\"https://www.fool.com/investing/2021/10/14/my-2-favorite-stocks-right-now/?source=eptyholnk0000202&amp;utm_source=yahoo-host&amp;utm_medium=feed&amp;utm_campaign=article\" target=\"_blank\">My 2 Favorite Stocks Right Now</a></div><div class=\"news-link-right\"><span style=\"color:#aa6dc0;font-size:9px\"> Motley Fool</span></div></div></td></tr>\n",
      "<tr><td align=\"right\" width=\"130\">07:04AM  </td><td align=\"left\"><div class=\"news-link-container\"><div class=\"news-link-left\"><a class=\"tab-link-news\" href=\"https://www.fool.com/investing/2021/10/14/4-reasons-to-buy-spotify-stock-right-now/?source=eptyholnk0000202&amp;utm_source=yahoo-host&amp;utm_medium=feed&amp;utm_campaign=article\" target=\"_blank\">4 Reasons to Buy Spotify Stock Right Now</a></div><div class=\"news-link-right\"><span style=\"color:#aa6dc0;font-size:9px\"> Motley Fool</span></div></div></td></tr>\n",
      "<tr><td align=\"right\" width=\"130\">06:45AM  </td><td align=\"left\"><div class=\"news-link-container\"><div class=\"news-link-left\"><a class=\"tab-link-news\" href=\"https://www.fool.com/investing/2021/10/14/3-stocks-that-can-help-you-retire-in-more-ways/?source=eptyholnk0000202&amp;utm_source=yahoo-host&amp;utm_medium=feed&amp;utm_campaign=article\" target=\"_blank\">3 Stocks That Can Help You Retire in More Ways Than You Think</a></div><div class=\"news-link-right\"><span style=\"color:#aa6dc0;font-size:9px\"> Motley Fool</span></div></div></td></tr>\n",
      "<tr><td align=\"right\" width=\"130\">06:06AM  </td><td align=\"left\"><div class=\"news-link-container\"><div class=\"news-link-left\"><a class=\"tab-link-news\" href=\"https://www.barrons.com/articles/rivian-blue-origin-amazon-bezos-51634135080?siteid=yhoof2\" target=\"_blank\">A Rivian Truck Showed Up at Blue Origin Flight. Jeff Bezos Was Driving.</a></div><div class=\"news-link-right\"><span style=\"color:#aa6dc0;font-size:9px\"> Barrons.com</span></div></div></td></tr>\n",
      "<tr><td align=\"right\" width=\"130\">05:02AM  </td><td align=\"left\"><div class=\"news-link-container\"><div class=\"news-link-left\"><a class=\"tab-link-news\" href=\"https://finance.yahoo.com/news/u-senator-warren-urges-amazon-090209241.html\" target=\"_blank\">U.S. Senator Warren urges Amazon breakup, India retailers want probe after Reuters story</a></div><div class=\"news-link-right\"><span style=\"color:#aa6dc0;font-size:9px\"> Reuters</span></div></div></td></tr>\n",
      "<tr><td align=\"right\" width=\"130\">04:45AM  </td><td align=\"left\"><div class=\"news-link-container\"><div class=\"news-link-left\"><a class=\"tab-link-news\" href=\"https://finance.yahoo.com/news/u-senator-warren-urges-amazon-084519964.html\" target=\"_blank\">U.S. Senator Warren urges Amazon breakup, India retailers want probe after Reuters story</a></div><div class=\"news-link-right\"><span style=\"color:#aa6dc0;font-size:9px\"> Reuters</span></div></div></td></tr>\n",
      "<tr><td align=\"right\" width=\"130\">01:32AM  </td><td align=\"left\"><div class=\"news-link-container\"><div class=\"news-link-left\"><a class=\"tab-link-news\" href=\"https://www.bizjournals.com/seattle/news/2021/10/13/amazon-is-opening-another-fresh-store.html?ana=yahoo\" target=\"_blank\">Amazon Fresh store pops up in North Seattle</a></div><div class=\"news-link-right\"><span style=\"color:#aa6dc0;font-size:9px\"> American City Business Journals</span></div></div></td></tr>\n",
      "<tr><td align=\"right\" width=\"130\">12:01AM  </td><td align=\"left\"><div class=\"news-link-container\"><div class=\"news-link-left\"><a class=\"tab-link-news\" href=\"https://finance.yahoo.com/news/nxp-semiconductors-selects-aws-preferred-040100031.html\" target=\"_blank\">NXP Semiconductors Selects AWS as Its Preferred Cloud Provider to Power Electronic Design Automation in the Cloud</a></div><div class=\"news-link-right\"><span style=\"color:#aa6dc0;font-size:9px\"> Business Wire</span></div></div></td></tr>\n",
      "<tr><td align=\"right\" style=\"white-space:nowrap\" width=\"130\">Oct-13-21 07:44PM  </td><td align=\"left\"><div class=\"news-link-container\"><div class=\"news-link-left\"><a class=\"tab-link-news\" href=\"https://finance.yahoo.com/news/smoothie-king-on-worker-shortage-it-comes-down-to-how-you-take-care-of-your-people-234455602.html\" target=\"_blank\">Smoothie King on worker shortage: 'Hire them right. Train them right. Treat them right.'</a></div><div class=\"news-link-right\"><span style=\"color:#aa6dc0;font-size:9px\"> Yahoo Finance</span></div></div></td></tr>\n",
      "<tr><td align=\"right\" width=\"130\">07:15PM  </td><td align=\"left\"><div class=\"news-link-container\"><div class=\"news-link-left\"><a class=\"tab-link-news\" href=\"https://www.fool.com/investing/2021/10/13/why-mercadolibre-is-a-compelling-e-commerce-stock/?source=eptyholnk0000202&amp;utm_source=yahoo-host&amp;utm_medium=feed&amp;utm_campaign=article\" target=\"_blank\">Why MercadoLibre Is a Compelling E-Commerce Stock</a></div><div class=\"news-link-right\"><span style=\"color:#aa6dc0;font-size:9px\"> Motley Fool</span></div></div></td></tr>\n",
      "<tr><td align=\"right\" width=\"130\">05:47PM  </td><td align=\"left\"><div class=\"news-link-container\"><div class=\"news-link-left\"><a class=\"tab-link-news\" href=\"https://finance.yahoo.com/news/affirm-buy-now-pay-later-space-214754238.html\" target=\"_blank\">'Affirm is clear bright spot' in the buy now, pay later space: BofA</a></div><div class=\"news-link-right\"><span style=\"color:#aa6dc0;font-size:9px\"> Yahoo Finance</span></div></div></td></tr>\n",
      "<tr><td align=\"right\" width=\"130\">04:55PM  </td><td align=\"left\"><div class=\"news-link-container\"><div class=\"news-link-left\"><a class=\"tab-link-news\" href=\"https://finance.yahoo.com/news/11-best-robinhood-stocks-buy-205527901.html\" target=\"_blank\">11 Best Robinhood Stocks To Buy According To Hedge Funds</a></div><div class=\"news-link-right\"><span style=\"color:#aa6dc0;font-size:9px\"> Insider Monkey</span></div></div></td></tr>\n",
      "<tr><td align=\"right\" width=\"130\">04:30PM  </td><td align=\"left\"><div class=\"news-link-container\"><div class=\"news-link-left\"><a class=\"tab-link-news\" href=\"https://finance.yahoo.com/news/amazon-india-accused-copying-sellers-203003926.html\" target=\"_blank\">Amazon India Accused of Copying Sellers Products And Rigging Search Results</a></div><div class=\"news-link-right\"><span style=\"color:#aa6dc0;font-size:9px\"> FX Empire</span></div></div></td></tr>\n",
      "<tr><td align=\"right\" width=\"130\">02:59PM  </td><td align=\"left\"><div class=\"news-link-container\"><div class=\"news-link-left\"><a class=\"tab-link-news\" href=\"https://www.fool.com/investing/2021/10/13/what-pepsico-is-doing-right/?source=eptyholnk0000202&amp;utm_source=yahoo-host&amp;utm_medium=feed&amp;utm_campaign=article\" target=\"_blank\">What PepsiCo Is Doing Right</a></div><div class=\"news-link-right\"><span style=\"color:#aa6dc0;font-size:9px\"> Motley Fool</span></div></div></td></tr>\n",
      "<tr><td align=\"right\" width=\"130\">02:50PM  </td><td align=\"left\"><div class=\"news-link-container\"><div class=\"news-link-left\"><a class=\"tab-link-news\" href=\"https://finance.yahoo.com/news/amazon-third-party-sellers-spur-185008123.html\" target=\"_blank\">Amazon, Third-Party Sellers Spur Fake Goods, Group Says</a></div><div class=\"news-link-right\"><span style=\"color:#aa6dc0;font-size:9px\"> Bloomberg</span></div></div></td></tr>\n",
      "<tr><td align=\"right\" width=\"130\">02:24PM  </td><td align=\"left\"><div class=\"news-link-container\"><div class=\"news-link-left\"><a class=\"tab-link-news\" href=\"https://www.bizjournals.com/washington/news/2021/10/13/amazon-affordable-transit-grant-program.html?ana=yahoo\" target=\"_blank\">Amazon backs grant program to spur affordable development near D.C.-area transit</a></div><div class=\"news-link-right\"><span style=\"color:#aa6dc0;font-size:9px\"> American City Business Journals</span></div></div></td></tr>\n",
      "<tr><td align=\"right\" width=\"130\">02:10PM  </td><td align=\"left\"><div class=\"news-link-container\"><div class=\"news-link-left\"><a class=\"tab-link-news\" href=\"https://www.barrons.com/articles/amazon-stock-price-51634137068?siteid=yhoof2\" target=\"_blank\">Amazon Stock Faces Painful Headwinds. Why Its Time to Buy.</a></div><div class=\"news-link-right\"><span style=\"color:#aa6dc0;font-size:9px\"> Barrons.com</span></div></div></td></tr>\n",
      "<tr><td align=\"right\" width=\"130\">01:05PM  </td><td align=\"left\"><div class=\"news-link-container\"><div class=\"news-link-left\"><a class=\"tab-link-news\" href=\"https://finance.yahoo.com/news/amazon-seeks-used-long-range-170531162.html\" target=\"_blank\">Amazon Seeks Used Long-Range Cargo Jets Able to Fly From China</a></div><div class=\"news-link-right\"><span style=\"color:#aa6dc0;font-size:9px\"> Bloomberg</span></div></div></td></tr>\n",
      "<tr><td align=\"right\" width=\"130\">12:49PM  </td><td align=\"left\"><div class=\"news-link-container\"><div class=\"news-link-left\"><a class=\"tab-link-news\" href=\"https://finance.yahoo.com/news/microsoft-agrees-human-rights-review-143023491.html\" target=\"_blank\">Microsoft Agrees to Human Rights Review in Deals With Law Enforcement, Government</a></div><div class=\"news-link-right\"><span style=\"color:#aa6dc0;font-size:9px\"> Bloomberg</span></div></div></td></tr>\n",
      "<tr><td align=\"right\" width=\"130\">12:48PM  </td><td align=\"left\"><div class=\"news-link-container\"><div class=\"news-link-left\"><a class=\"tab-link-news\" href=\"https://finance.yahoo.com/news/hoping-to-scrore-tech-gifts-this-holiday-season-better-start-shopping-now-164841019.html\" target=\"_blank\">Hoping to score tech gifts this holiday season? Better start shopping now</a></div><div class=\"news-link-right\"><span style=\"color:#aa6dc0;font-size:9px\"> Yahoo Finance</span></div></div></td></tr>\n",
      "<tr><td align=\"right\" width=\"130\">12:27PM  </td><td align=\"left\"><div class=\"news-link-container\"><div class=\"news-link-left\"><a class=\"tab-link-news\" href=\"https://finance.yahoo.com/news/11-best-artificial-intelligence-robotics-162753968.html\" target=\"_blank\">11 Best Artificial Intelligence and Robotics Stocks To Buy According To Hedge Funds</a></div><div class=\"news-link-right\"><span style=\"color:#aa6dc0;font-size:9px\"> Insider Monkey</span></div></div></td></tr>\n",
      "<tr><td align=\"right\" width=\"130\">11:26AM  </td><td align=\"left\"><div class=\"news-link-container\"><div class=\"news-link-left\"><a class=\"tab-link-news\" href=\"https://finance.yahoo.com/video/captain-kirk-trek-space-blue-152652279.html\" target=\"_blank\">Captain Kirks trek through space with Blue Origin</a></div><div class=\"news-link-right\"><span style=\"color:#aa6dc0;font-size:9px\"> Yahoo Finance Video</span></div></div></td></tr>\n",
      "<tr><td align=\"right\" width=\"130\">11:01AM  </td><td align=\"left\"><div class=\"news-link-container\"><div class=\"news-link-left\"><a class=\"tab-link-news\" href=\"https://finance.yahoo.com/news/11-best-quantum-computing-stocks-150130785.html\" target=\"_blank\">11 Best Quantum Computing Stocks To Invest In</a></div><div class=\"news-link-right\"><span style=\"color:#aa6dc0;font-size:9px\"> Insider Monkey</span></div></div></td></tr>\n",
      "<tr><td align=\"right\" width=\"130\">10:57AM  </td><td align=\"left\"><div class=\"news-link-container\"><div class=\"news-link-left\"><a class=\"tab-link-news\" href=\"https://www.barrons.com/articles/amazon-stock-faces-cost-headwinds-into-earnings-analyst-says-buy-the-dip-51634137068?siteid=yhoof2\" target=\"_blank\">Amazon Stock Faces Cost Headwinds Into Earnings, Analyst Says. Buy the Dip.</a></div><div class=\"news-link-right\"><span style=\"color:#aa6dc0;font-size:9px\"> Barrons.com</span></div></div></td></tr>\n",
      "<tr><td align=\"right\" width=\"130\">09:07AM  </td><td align=\"left\"><div class=\"news-link-container\"><div class=\"news-link-left\"><a class=\"tab-link-news\" href=\"https://www.fool.com/investing/2021/10/13/2-stocks-turn-200k-to-1-million-by-2030/?source=eptyholnk0000202&amp;utm_source=yahoo-host&amp;utm_medium=feed&amp;utm_campaign=article\" target=\"_blank\">2 Unstoppable Stocks That Could Turn $200,000 Into $1 million by 2030</a></div><div class=\"news-link-right\"><span style=\"color:#aa6dc0;font-size:9px\"> Motley Fool</span></div></div></td></tr>\n",
      "<tr><td align=\"right\" width=\"130\">08:48AM  </td><td align=\"left\"><div class=\"news-link-container\"><div class=\"news-link-left\"><a class=\"tab-link-news\" href=\"https://www.thestreet.com/investing/amazon-walmart-target-lauded-bank-of-america?puc=yahoo&amp;cm_ven=YAHOO\" target=\"_blank\">Amazon, Walmart, Target Stocks Top Picks by Bank of America</a></div><div class=\"news-link-right\"><span style=\"color:#aa6dc0;font-size:9px\"> TheStreet.com</span></div></div></td></tr>\n",
      "<tr><td align=\"right\" width=\"130\">08:45AM  </td><td align=\"left\"><div class=\"news-link-container\"><div class=\"news-link-left\"><a class=\"tab-link-news\" href=\"https://www.fool.com/investing/2021/10/13/2-top-cathie-wood-stocks-are-better-buys-than-amc/?source=eptyholnk0000202&amp;utm_source=yahoo-host&amp;utm_medium=feed&amp;utm_campaign=article\" target=\"_blank\">These 2 Top Cathie Wood Stocks That Are Better Buys Right Now Than AMC</a></div><div class=\"news-link-right\"><span style=\"color:#aa6dc0;font-size:9px\"> Motley Fool</span></div></div></td></tr>\n",
      "<tr><td align=\"right\" width=\"130\">08:30AM  </td><td align=\"left\"><div class=\"news-link-container\"><div class=\"news-link-left\"><a class=\"tab-link-news\" href=\"https://www.fool.com/investing/2021/10/13/should-you-invest-in-the-worlds-first-blockweave-t/?source=eptyholnk0000202&amp;utm_source=yahoo-host&amp;utm_medium=feed&amp;utm_campaign=article\" target=\"_blank\">Should You Invest in the World's First Blockweave Crypto?</a></div><div class=\"news-link-right\"><span style=\"color:#aa6dc0;font-size:9px\"> Motley Fool</span></div></div></td></tr>\n",
      "<tr><td align=\"right\" width=\"130\">08:03AM  </td><td align=\"left\"><div class=\"news-link-container\"><div class=\"news-link-left\"><a class=\"tab-link-news\" href=\"https://www.bizjournals.com/twincities/news/2021/10/13/amazon-woodbury-distribution-center.html?ana=yahoo\" target=\"_blank\">Officials confirm Woodbury's 'Project Belle' is an Amazon distribution center</a></div><div class=\"news-link-right\"><span style=\"color:#aa6dc0;font-size:9px\"> American City Business Journals</span></div></div></td></tr>\n",
      "<tr><td align=\"right\" width=\"130\">07:55AM  </td><td align=\"left\"><div class=\"news-link-container\"><div class=\"news-link-left\"><a class=\"tab-link-news\" href=\"https://www.fool.com/investing/2021/10/13/3-top-tech-stocks-to-buy-in-october/?source=eptyholnk0000202&amp;utm_source=yahoo-host&amp;utm_medium=feed&amp;utm_campaign=article\" target=\"_blank\">3 Top Tech Stocks to Buy in October</a></div><div class=\"news-link-right\"><span style=\"color:#aa6dc0;font-size:9px\"> Motley Fool</span></div></div></td></tr>\n",
      "<tr><td align=\"right\" width=\"130\">07:45AM  </td><td align=\"left\"><div class=\"news-link-container\"><div class=\"news-link-left\"><a class=\"tab-link-news\" href=\"https://www.fool.com/investing/2021/10/13/its-not-too-late-to-buy-this-powerful-growth-stock/?source=eptyholnk0000202&amp;utm_source=yahoo-host&amp;utm_medium=feed&amp;utm_campaign=article\" target=\"_blank\">It's Not Too Late to Buy This Powerful Growth Stock</a></div><div class=\"news-link-right\"><span style=\"color:#aa6dc0;font-size:9px\"> Motley Fool</span></div></div></td></tr>\n",
      "<tr><td align=\"right\" width=\"130\">07:10AM  </td><td align=\"left\"><div class=\"news-link-container\"><div class=\"news-link-left\"><a class=\"tab-link-news\" href=\"https://www.fool.com/investing/2021/10/13/the-pandemic-boosted-a-key-piece-of-oracles-busine/?source=eptyholnk0000202&amp;utm_source=yahoo-host&amp;utm_medium=feed&amp;utm_campaign=article\" target=\"_blank\">The Pandemic Boosted a Key Piece of Oracle's Business  But Is It Sustainable?</a></div><div class=\"news-link-right\"><span style=\"color:#aa6dc0;font-size:9px\"> Motley Fool</span></div></div></td></tr>\n",
      "<tr><td align=\"right\" width=\"130\">06:45AM  </td><td align=\"left\"><div class=\"news-link-container\"><div class=\"news-link-left\"><a class=\"tab-link-news\" href=\"https://www.fool.com/investing/2021/10/13/a-deep-dive-into-newly-public-riskified/?source=eptyholnk0000202&amp;utm_source=yahoo-host&amp;utm_medium=feed&amp;utm_campaign=article\" target=\"_blank\">A Deep Dive Into Newly Public Riskified</a></div><div class=\"news-link-right\"><span style=\"color:#aa6dc0;font-size:9px\"> Motley Fool</span></div></div></td></tr>\n",
      "<tr><td align=\"right\" width=\"130\">06:16AM  </td><td align=\"left\"><div class=\"news-link-container\"><div class=\"news-link-left\"><a class=\"tab-link-news\" href=\"https://finance.yahoo.com/news/bezos-v-musk-the-high-stakes-legal-disputes-between-the-worlds-two-richest-people-101640171.html\" target=\"_blank\">Bezos v. Musk: The high-stakes legal disputes between the worlds two richest people</a></div><div class=\"news-link-right\"><span style=\"color:#aa6dc0;font-size:9px\"> Yahoo Finance</span></div></div></td></tr>\n",
      "<tr><td align=\"right\" width=\"130\">06:10AM  </td><td align=\"left\"><div class=\"news-link-container\"><div class=\"news-link-left\"><a class=\"tab-link-news\" href=\"https://www.fool.com/investing/2021/10/13/1-top-telehealth-stock-to-buy-for-the-long-haul/?source=eptyholnk0000202&amp;utm_source=yahoo-host&amp;utm_medium=feed&amp;utm_campaign=article\" target=\"_blank\">1 Top Telehealth Stock to Buy for the Long Haul</a></div><div class=\"news-link-right\"><span style=\"color:#aa6dc0;font-size:9px\"> Motley Fool</span></div></div></td></tr>\n",
      "<tr><td align=\"right\" width=\"130\">06:07AM  </td><td align=\"left\"><div class=\"news-link-container\"><div class=\"news-link-left\"><a class=\"tab-link-news\" href=\"https://finance.yahoo.com/news/ipo-watch-french-cloud-computing-company-ovhcloud-market-listing-paris-100710343.html\" target=\"_blank\">IPO watch: French cloud computing company OVHcloud to list in Paris</a></div><div class=\"news-link-right\"><span style=\"color:#aa6dc0;font-size:9px\"> Yahoo Finance UK</span></div></div></td></tr>\n",
      "<tr><td align=\"right\" width=\"130\">05:43AM  </td><td align=\"left\"><div class=\"news-link-container\"><div class=\"news-link-left\"><a class=\"tab-link-news\" href=\"https://finance.yahoo.com/news/darktrace-shares-surge-on-growth-forecast-094326259.html\" target=\"_blank\">Darktrace shares surge on growth forecast</a></div><div class=\"news-link-right\"><span style=\"color:#aa6dc0;font-size:9px\"> Yahoo Finance UK</span></div></div></td></tr>\n",
      "<tr><td align=\"right\" style=\"white-space:nowrap\" width=\"130\">Oct-12-21 05:15PM  </td><td align=\"left\"><div class=\"news-link-container\"><div class=\"news-link-left\"><a class=\"tab-link-news\" href=\"https://finance.yahoo.com/news/10-best-stocks-under-10-211527433.html\" target=\"_blank\">10 Best Stocks Under $10 According to Billionaire Daniel Ochs OZ Management</a></div><div class=\"news-link-right\"><span style=\"color:#aa6dc0;font-size:9px\"> Insider Monkey</span></div></div></td></tr>\n",
      "<tr><td align=\"right\" width=\"130\">04:24PM  </td><td align=\"left\"><div class=\"news-link-container\"><div class=\"news-link-left\"><a class=\"tab-link-news\" href=\"https://finance.yahoo.com/news/michael-burrys-mother-crashes-warning-194300321.html\" target=\"_blank\">Michael Burry's 'mother of all crashes' warning is still in play  but here are 3 stocks he's bullish on</a></div><div class=\"news-link-right\"><span style=\"color:#aa6dc0;font-size:9px\"> MoneyWise</span></div></div></td></tr>\n",
      "<tr><td align=\"right\" width=\"130\">04:17PM  </td><td align=\"left\"><div class=\"news-link-container\"><div class=\"news-link-left\"><a class=\"tab-link-news\" href=\"https://www.fool.com/investing/2021/10/12/2-wide-moat-stocks-that-can-help-you-beat-inflatio/?source=eptyholnk0000202&amp;utm_source=yahoo-host&amp;utm_medium=feed&amp;utm_campaign=article\" target=\"_blank\">2 \"Wide Moat\" Stocks That Can Help You Beat Inflation</a></div><div class=\"news-link-right\"><span style=\"color:#aa6dc0;font-size:9px\"> Motley Fool</span></div></div></td></tr>\n",
      "<tr><td align=\"right\" width=\"130\">03:47PM  </td><td align=\"left\"><div class=\"news-link-container\"><div class=\"news-link-left\"><a class=\"tab-link-news\" href=\"https://www.bizjournals.com/newyork/news/2021/10/12/freshly-ceo-steps-down-replaced-by-ex-amazon-exec.html?ana=yahoo\" target=\"_blank\">Freshly CEO steps down, to be replaced by former Amazon exec Anna Fabrega</a></div><div class=\"news-link-right\"><span style=\"color:#aa6dc0;font-size:9px\"> American City Business Journals</span></div></div></td></tr>\n",
      "<tr><td align=\"right\" width=\"130\">03:16PM  </td><td align=\"left\"><div class=\"news-link-container\"><div class=\"news-link-left\"><a class=\"tab-link-news\" href=\"https://www.bizjournals.com/washington/news/2021/10/12/amazon-cardozo-computer-science.html?ana=yahoo\" target=\"_blank\">Amazon exec to D.C. high school students: Thousands of tech jobs are yours for the taking, 'in a few years'</a></div><div class=\"news-link-right\"><span style=\"color:#aa6dc0;font-size:9px\"> American City Business Journals</span></div></div></td></tr>\n",
      "<tr><td align=\"right\" width=\"130\">02:55PM  </td><td align=\"left\"><div class=\"news-link-container\"><div class=\"news-link-left\"><a class=\"tab-link-news\" href=\"https://finance.yahoo.com/video/investors-fasten-seat-belts-earnings-185514822.html\" target=\"_blank\">Investors should fasten their seat belts this earnings season: Wall Street Alliance Group Partner</a></div><div class=\"news-link-right\"><span style=\"color:#aa6dc0;font-size:9px\"> Yahoo Finance Video</span></div></div></td></tr>\n",
      "<tr><td align=\"right\" width=\"130\">02:49PM  </td><td align=\"left\"><div class=\"news-link-container\"><div class=\"news-link-left\"><a class=\"tab-link-news\" href=\"https://finance.yahoo.com/news/buy-walmart-and-target-stock-before-the-holidays-analyst-184956394.html\" target=\"_blank\">Buy Walmart and Target stock before the holidays: analyst</a></div><div class=\"news-link-right\"><span style=\"color:#aa6dc0;font-size:9px\"> Yahoo Finance</span></div></div></td></tr>\n",
      "<tr><td align=\"right\" width=\"130\">02:22PM  </td><td align=\"left\"><div class=\"news-link-container\"><div class=\"news-link-left\"><a class=\"tab-link-news\" href=\"https://www.bizjournals.com/newyork/news/2021/10/12/architect-redevelops-west-side-office-tower.html?ana=yahoo\" target=\"_blank\">Architect completes major redevelopment of West Side office tower where Amazon is a tenant</a></div><div class=\"news-link-right\"><span style=\"color:#aa6dc0;font-size:9px\"> American City Business Journals</span></div></div></td></tr>\n",
      "<tr><td align=\"right\" width=\"130\">01:37PM  </td><td align=\"left\"><div class=\"news-link-container\"><div class=\"news-link-left\"><a class=\"tab-link-news\" href=\"https://www.fool.com/investing/2021/10/12/google-gives-up-on-bank-accounts/?source=eptyholnk0000202&amp;utm_source=yahoo-host&amp;utm_medium=feed&amp;utm_campaign=article\" target=\"_blank\">Google Gives Up on Bank Accounts</a></div><div class=\"news-link-right\"><span style=\"color:#aa6dc0;font-size:9px\"> Motley Fool</span></div></div></td></tr>\n",
      "<tr><td align=\"right\" width=\"130\">01:21PM  </td><td align=\"left\"><div class=\"news-link-container\"><div class=\"news-link-left\"><a class=\"tab-link-news\" href=\"https://finance.yahoo.com/news/nordstrom-is-hiring-28000-employees-amid-holiday-supply-chain-crunch-172117808.html\" target=\"_blank\">Nordstrom is hiring 28,000 employees amid holiday supply chain crunch</a></div><div class=\"news-link-right\"><span style=\"color:#aa6dc0;font-size:9px\"> Yahoo Finance</span></div></div></td></tr>\n",
      "<tr><td align=\"right\" width=\"130\">01:04PM  </td><td align=\"left\"><div class=\"news-link-container\"><div class=\"news-link-left\"><a class=\"tab-link-news\" href=\"https://finance.yahoo.com/news/10-tech-stocks-buy-according-170433359.html\" target=\"_blank\">10 Tech Stocks to Buy According to Billionaire James Dinan</a></div><div class=\"news-link-right\"><span style=\"color:#aa6dc0;font-size:9px\"> Insider Monkey</span></div></div></td></tr>\n",
      "<tr><td align=\"right\" width=\"130\">11:47AM  </td><td align=\"left\"><div class=\"news-link-container\"><div class=\"news-link-left\"><a class=\"tab-link-news\" href=\"https://www.barrons.com/articles/amazon-remote-work-flexibility-51634053613?siteid=yhoof2\" target=\"_blank\">Amazon Makes Another Change to Office-Return Policy. Individual Teams Can Now Set the Rules.</a></div><div class=\"news-link-right\"><span style=\"color:#aa6dc0;font-size:9px\"> Barrons.com</span></div></div></td></tr>\n",
      "<tr><td align=\"right\" width=\"130\">11:00AM  </td><td align=\"left\"><div class=\"news-link-container\"><div class=\"news-link-left\"><a class=\"tab-link-news\" href=\"https://www.millionacres.com/real-estate-investing/articles/the-latest-threat-to-real-estate-amazon-4-star-has-joined-the-chat/?source=eptyholnk0000202&amp;utm_source=yahoo-host&amp;utm_medium=feed&amp;utm_campaign=article\" target=\"_blank\">The Latest Threat to Real Estate? Amazon 4-Star Has Joined the Chat</a></div><div class=\"news-link-right\"><span style=\"color:#aa6dc0;font-size:9px\"> Motley Fool</span></div></div></td></tr>\n",
      "<tr><td align=\"right\" width=\"130\">10:48AM  </td><td align=\"left\"><div class=\"news-link-container\"><div class=\"news-link-left\"><a class=\"tab-link-news\" href=\"https://finance.yahoo.com/video/amazon-extends-remote-indefinitely-certain-144854395.html\" target=\"_blank\">Amazon extends remote work indefinitely for certain employees</a></div><div class=\"news-link-right\"><span style=\"color:#aa6dc0;font-size:9px\"> Yahoo Finance Video</span></div></div></td></tr>\n",
      "<tr><td align=\"right\" width=\"130\">10:20AM  </td><td align=\"left\"><div class=\"news-link-container\"><div class=\"news-link-left\"><a class=\"tab-link-news\" href=\"https://realmoney.thestreet.com/investing/technology/5-reasons-to-like-amazon-s-stock-at-current-levels-15797048?puc=yahoo&amp;cm_ven=YAHOO\" target=\"_blank\">5 Reasons to Like Amazon's Stock at Current Levels</a></div><div class=\"news-link-right\"><span style=\"color:#aa6dc0;font-size:9px\"> TheStreet.com</span></div></div></td></tr>\n",
      "<tr><td align=\"right\" width=\"130\">10:04AM  </td><td align=\"left\"><div class=\"news-link-container\"><div class=\"news-link-left\"><a class=\"tab-link-news\" href=\"https://finance.yahoo.com/news/amazon-introduces-echo-buds-canada-140400693.html\" target=\"_blank\">Amazon Introduces Echo Buds in Canada --Just $154.99</a></div><div class=\"news-link-right\"><span style=\"color:#aa6dc0;font-size:9px\"> CNW Group</span></div></div></td></tr>\n",
      "<tr><td align=\"right\" width=\"130\">09:49AM  </td><td align=\"left\"><div class=\"news-link-container\"><div class=\"news-link-left\"><a class=\"tab-link-news\" href=\"https://finance.yahoo.com/news/seattle-kraken-ceo-hockey-134928146.html\" target=\"_blank\">Seattle Kraken CEO explains why investors paid a premium to bring hockey back to the Emerald City</a></div><div class=\"news-link-right\"><span style=\"color:#aa6dc0;font-size:9px\"> Yahoo Finance</span></div></div></td></tr>\n",
      "<tr><td align=\"right\" width=\"130\">09:14AM  </td><td align=\"left\"><div class=\"news-link-container\"><div class=\"news-link-left\"><a class=\"tab-link-news\" href=\"https://finance.yahoo.com/news/growing-investor-interest-corporate-recognition-131405039.html\" target=\"_blank\">Growing Investor Interest, Corporate Recognition Indicate Increasing Legitimacy in Maturing Cannabis Market</a></div><div class=\"news-link-right\"><span style=\"color:#aa6dc0;font-size:9px\"> Benzinga</span></div></div></td></tr>\n",
      "<tr><td align=\"right\" width=\"130\">09:05AM  </td><td align=\"left\"><div class=\"news-link-container\"><div class=\"news-link-left\"><a class=\"tab-link-news\" href=\"https://www.fool.com/investing/2021/10/12/buying-this-stock-could-be-the-smartest-thing-you/?source=eptyholnk0000202&amp;utm_source=yahoo-host&amp;utm_medium=feed&amp;utm_campaign=article\" target=\"_blank\">Buying This Stock Could Be the Smartest Thing You Ever Do</a></div><div class=\"news-link-right\"><span style=\"color:#aa6dc0;font-size:9px\"> Motley Fool</span></div></div></td></tr>\n",
      "<tr><td align=\"right\" width=\"130\">08:45AM  </td><td align=\"left\"><div class=\"news-link-container\"><div class=\"news-link-left\"><a class=\"tab-link-news\" href=\"https://www.fool.com/investing/2021/10/12/2-sp-500-dividend-growth-stocks-on-sale/?source=eptyholnk0000202&amp;utm_source=yahoo-host&amp;utm_medium=feed&amp;utm_campaign=article\" target=\"_blank\">2 S&amp;P 500 Dividend Growth Stocks on Sale</a></div><div class=\"news-link-right\"><span style=\"color:#aa6dc0;font-size:9px\"> Motley Fool</span></div></div></td></tr>\n",
      "<tr><td align=\"right\" width=\"130\">08:15AM  </td><td align=\"left\"><div class=\"news-link-container\"><div class=\"news-link-left\"><a class=\"tab-link-news\" href=\"https://www.fool.com/investing/2021/10/12/growth-stocks-turn-250000-into-1-million-2030/?source=eptyholnk0000202&amp;utm_source=yahoo-host&amp;utm_medium=feed&amp;utm_campaign=article\" target=\"_blank\">5 Growth Stocks That Can Turn $250,000 Into $1 Million by 2030</a></div><div class=\"news-link-right\"><span style=\"color:#aa6dc0;font-size:9px\"> Motley Fool</span></div></div></td></tr>\n",
      "<tr><td align=\"right\" width=\"130\">08:11AM  </td><td align=\"left\"><div class=\"news-link-container\"><div class=\"news-link-left\"><a class=\"tab-link-news\" href=\"https://www.fool.com/investing/2021/10/12/google-just-gave-banks-some-great-news/?source=eptyholnk0000202&amp;utm_source=yahoo-host&amp;utm_medium=feed&amp;utm_campaign=article\" target=\"_blank\">Google Just Gave Banks Some Great News</a></div><div class=\"news-link-right\"><span style=\"color:#aa6dc0;font-size:9px\"> Motley Fool</span></div></div></td></tr>\n",
      "<tr><td align=\"right\" width=\"130\">08:08AM  </td><td align=\"left\"><div class=\"news-link-container\"><div class=\"news-link-left\"><a class=\"tab-link-news\" href=\"https://finance.yahoo.com/news/zacks-industry-outlook-highlights-amazon-120812518.html\" target=\"_blank\">Zacks Industry Outlook Highlights: Amazon, Pinduoduo, Revolve Group and Just Eat Takeaway.com</a></div><div class=\"news-link-right\"><span style=\"color:#aa6dc0;font-size:9px\"> Zacks</span></div></div></td></tr>\n",
      "<tr><td align=\"right\" width=\"130\">08:00AM  </td><td align=\"left\"><div class=\"news-link-container\"><div class=\"news-link-left\"><a class=\"tab-link-news\" href=\"https://www.fool.com/investing/2021/10/12/got-1000-stocks-buy-long-term/?source=eptyholnk0000202&amp;utm_source=yahoo-host&amp;utm_medium=feed&amp;utm_campaign=article\" target=\"_blank\">Got $1,000? Here Are 2 Stocks to Buy for the Long Term</a></div><div class=\"news-link-right\"><span style=\"color:#aa6dc0;font-size:9px\"> Motley Fool</span></div></div></td></tr>\n",
      "<tr><td align=\"right\" width=\"130\">08:00AM  </td><td align=\"left\"><div class=\"news-link-container\"><div class=\"news-link-left\"><a class=\"tab-link-news\" href=\"https://finance.yahoo.com/news/google-show-cloud-customers-carbon-120000090.html\" target=\"_blank\">Google Will Show Its Cloud Customers Their Carbon Footprint</a></div><div class=\"news-link-right\"><span style=\"color:#aa6dc0;font-size:9px\"> Bloomberg</span></div></div></td></tr>\n",
      "<tr><td align=\"right\" width=\"130\">07:24AM  </td><td align=\"left\"><div class=\"news-link-container\"><div class=\"news-link-left\"><a class=\"tab-link-news\" href=\"https://www.fool.com/investing/2021/10/12/3-cheap-stocks-that-help-you-retire-early/?source=eptyholnk0000202&amp;utm_source=yahoo-host&amp;utm_medium=feed&amp;utm_campaign=article\" target=\"_blank\">3 Cheap Stocks That Help You Retire Early</a></div><div class=\"news-link-right\"><span style=\"color:#aa6dc0;font-size:9px\"> Motley Fool</span></div></div></td></tr>\n",
      "<tr><td align=\"right\" width=\"130\">07:17AM  </td><td align=\"left\"><div class=\"news-link-container\"><div class=\"news-link-left\"><a class=\"tab-link-news\" href=\"https://finance.yahoo.com/news/amazon-reverses-demands-staff-return-111735888.html\" target=\"_blank\">Amazon reverses demands that staff return to office</a></div><div class=\"news-link-right\"><span style=\"color:#aa6dc0;font-size:9px\"> The Telegraph</span></div></div></td></tr>\n",
      "<tr><td align=\"right\" width=\"130\">07:05AM  </td><td align=\"left\"><div class=\"news-link-container\"><div class=\"news-link-left\"><a class=\"tab-link-news\" href=\"https://www.fool.com/investing/2021/10/12/growth-stocks-could-turn-100000-into-1-million/?source=eptyholnk0000202&amp;utm_source=yahoo-host&amp;utm_medium=feed&amp;utm_campaign=article\" target=\"_blank\">3 Growth Stocks That Could Turn $100,000 Into $1 Million</a></div><div class=\"news-link-right\"><span style=\"color:#aa6dc0;font-size:9px\"> Motley Fool</span></div></div></td></tr>\n",
      "</table>, 'GOOG': <table border=\"0\" cellpadding=\"1\" cellspacing=\"0\" class=\"fullview-news-outer\" id=\"news-table\" width=\"100%\">\n",
      "<tr><td align=\"right\" style=\"white-space:nowrap\" width=\"130\">Oct-15-21 09:47AM  </td><td align=\"left\"><div class=\"news-link-container\"><div class=\"news-link-left\"><a class=\"tab-link-news\" href=\"https://finance.yahoo.com/news/10-european-stocks-buy-according-134737898.html\" target=\"_blank\">10 European Stocks to Buy According to Tom Russos Hedge Fund</a></div><div class=\"news-link-right\"><span style=\"color:#aa6dc0;font-size:9px\"> Insider Monkey</span></div></div></td></tr>\n",
      "<tr><td align=\"right\" width=\"130\">07:45AM  </td><td align=\"left\"><div class=\"news-link-container\"><div class=\"news-link-left\"><a class=\"tab-link-news\" href=\"https://www.investors.com/market-trend/stock-market-today/dow-jones-futures-market-rally-powerful-move-google-stock-flashing-buy-signals/?src=A00220\" target=\"_blank\">Dow Jones Futures: Market Rally Makes Powerful Move; Google Leads 7 Stocks Flashing Buy Signals</a></div><div class=\"news-link-right\"><span style=\"color:#aa6dc0;font-size:9px\"> Investor's Business Daily</span></div></div></td></tr>\n",
      "<tr><td align=\"right\" width=\"130\">05:52AM  </td><td align=\"left\"><div class=\"news-link-container\"><div class=\"news-link-left\"><a class=\"tab-link-news\" href=\"https://www.fool.com/investing/2021/10/15/3-top-breakout-stocks-to-buy-right-now/?source=eptyholnk0000202&amp;utm_source=yahoo-host&amp;utm_medium=feed&amp;utm_campaign=article\" target=\"_blank\">3 Top Breakout Stocks to Buy Right Now</a></div><div class=\"news-link-right\"><span style=\"color:#aa6dc0;font-size:9px\"> Motley Fool</span></div></div></td></tr>\n",
      "<tr><td align=\"right\" width=\"130\">02:09AM  </td><td align=\"left\"><div class=\"news-link-container\"><div class=\"news-link-left\"><a class=\"tab-link-news\" href=\"https://finance.yahoo.com/news/korea-targets-apple-over-app-060947961.html\" target=\"_blank\">S.Korea targets Apple over new app store regulation</a></div><div class=\"news-link-right\"><span style=\"color:#aa6dc0;font-size:9px\"> Reuters</span></div></div></td></tr>\n",
      "<tr><td align=\"right\" width=\"130\">02:05AM  </td><td align=\"left\"><div class=\"news-link-container\"><div class=\"news-link-left\"><a class=\"tab-link-news\" href=\"https://finance.yahoo.com/news/korea-targets-apple-over-app-060518122.html\" target=\"_blank\">S.Korea targets Apple over new app store regulation</a></div><div class=\"news-link-right\"><span style=\"color:#aa6dc0;font-size:9px\"> Reuters</span></div></div></td></tr>\n",
      "<tr><td align=\"right\" style=\"white-space:nowrap\" width=\"130\">Oct-14-21 08:49PM  </td><td align=\"left\"><div class=\"news-link-container\"><div class=\"news-link-left\"><a class=\"tab-link-news\" href=\"https://www.bizjournals.com/sanjose/news/2021/10/14/supreme-court-oks-google-workers-suit.html?ana=yahoo\" target=\"_blank\">The Supreme Court gave the green light to a lawsuit by a group of Google workers over the tech giant's confidentiality policy</a></div><div class=\"news-link-right\"><span style=\"color:#aa6dc0;font-size:9px\"> American City Business Journals</span></div></div></td></tr>\n",
      "<tr><td align=\"right\" width=\"130\">07:30PM  </td><td align=\"left\"><div class=\"news-link-container\"><div class=\"news-link-left\"><a class=\"tab-link-news\" href=\"https://finance.yahoo.com/news/3-tech-stocks-could-change-233000078.html\" target=\"_blank\">3 Tech Stocks That Could Change The World</a></div><div class=\"news-link-right\"><span style=\"color:#aa6dc0;font-size:9px\"> Oilprice.com</span></div></div></td></tr>\n",
      "<tr><td align=\"right\" width=\"130\">05:15PM  </td><td align=\"left\"><div class=\"news-link-container\"><div class=\"news-link-left\"><a class=\"tab-link-news\" href=\"https://finance.yahoo.com/news/apple-hires-homepod-software-head-211545452.html\" target=\"_blank\">Apple Hires New HomePod Software Head as It Takes on Amazon Echo</a></div><div class=\"news-link-right\"><span style=\"color:#aa6dc0;font-size:9px\"> Bloomberg</span></div></div></td></tr>\n",
      "<tr><td align=\"right\" width=\"130\">04:40PM  </td><td align=\"left\"><div class=\"news-link-container\"><div class=\"news-link-left\"><a class=\"tab-link-news\" href=\"https://www.investopedia.com/microsoft-s-msft-linkedin-to-exit-china-this-year-5205761?utm_campaign=quote-yahoo&amp;utm_source=yahoo&amp;utm_medium=referral\" target=\"_blank\">Microsoft's (MSFT) LinkedIn to Exit China This Year</a></div><div class=\"news-link-right\"><span style=\"color:#aa6dc0;font-size:9px\"> Investopedia</span></div></div></td></tr>\n",
      "<tr><td align=\"right\" width=\"130\">03:13PM  </td><td align=\"left\"><div class=\"news-link-container\"><div class=\"news-link-left\"><a class=\"tab-link-news\" href=\"https://www.investors.com/research/best-robinhood-stocks-to-buy-now/?src=A00220\" target=\"_blank\">These Are The Best Robinhood Stocks To Buy Or Watch Now</a></div><div class=\"news-link-right\"><span style=\"color:#aa6dc0;font-size:9px\"> Investor's Business Daily</span></div></div></td></tr>\n",
      "<tr><td align=\"right\" width=\"130\">02:56PM  </td><td align=\"left\"><div class=\"news-link-container\"><div class=\"news-link-left\"><a class=\"tab-link-news\" href=\"https://www.marketwatch.com/story/new-bills-aim-at-apple-google-and-facebook-as-u-s-attempts-to-catch-up-to-europes-big-tech-push-11634237758?siteid=yhoof2\" target=\"_blank\">New bills aim at Apple, Google and Facebook as U.S. attempts to catch up to Europes Big Tech push</a></div><div class=\"news-link-right\"><span style=\"color:#aa6dc0;font-size:9px\"> MarketWatch</span></div></div></td></tr>\n",
      "<tr><td align=\"right\" width=\"130\">02:36PM  </td><td align=\"left\"><div class=\"news-link-container\"><div class=\"news-link-left\"><a class=\"tab-link-news\" href=\"https://finance.yahoo.com/news/us-senates-latest-antitrust-bill-183601762.html\" target=\"_blank\">US Senate's Latest Antitrust Bill Targets Amazon, Apple, Google: CNBC</a></div><div class=\"news-link-right\"><span style=\"color:#aa6dc0;font-size:9px\"> Benzinga</span></div></div></td></tr>\n",
      "<tr><td align=\"right\" width=\"130\">01:55PM  </td><td align=\"left\"><div class=\"news-link-container\"><div class=\"news-link-left\"><a class=\"tab-link-news\" href=\"https://www.investors.com/research/stock-picks-best-stocks-to-buy-and-watch-branch/?src=A00220\" target=\"_blank\">Stock Picks: Nvidia, Microsoft Reveal 7 Telltale Traits As Market Looks To Rebound</a></div><div class=\"news-link-right\"><span style=\"color:#aa6dc0;font-size:9px\"> Investor's Business Daily</span></div></div></td></tr>\n",
      "<tr><td align=\"right\" width=\"130\">01:29PM  </td><td align=\"left\"><div class=\"news-link-container\"><div class=\"news-link-left\"><a class=\"tab-link-news\" href=\"https://finance.yahoo.com/news/microsoft-shuts-linkedin-china-citing-143224833.html\" target=\"_blank\">Microsoft Shuts LinkedIn China, Citing Challenging Climate</a></div><div class=\"news-link-right\"><span style=\"color:#aa6dc0;font-size:9px\"> Bloomberg</span></div></div></td></tr>\n",
      "<tr><td align=\"right\" width=\"130\">01:19PM  </td><td align=\"left\"><div class=\"news-link-container\"><div class=\"news-link-left\"><a class=\"tab-link-news\" href=\"https://www.bizjournals.com/tampabay/inno/stories/news/2021/10/14/clearwaters-teamviewer-partners-with-google-on-ar.html?ana=yahoo\" target=\"_blank\">Clearwater tech company teams up with Google to develop augmented reality solutions</a></div><div class=\"news-link-right\"><span style=\"color:#aa6dc0;font-size:9px\"> American City Business Journals</span></div></div></td></tr>\n",
      "<tr><td align=\"right\" width=\"130\">12:32PM  </td><td align=\"left\"><div class=\"news-link-container\"><div class=\"news-link-left\"><a class=\"tab-link-news\" href=\"https://finance.yahoo.com/video/google-breaks-trend-line-163208498.html\" target=\"_blank\">Google Breaks Trend Line</a></div><div class=\"news-link-right\"><span style=\"color:#aa6dc0;font-size:9px\"> Investor's Business Daily Video</span></div></div></td></tr>\n",
      "<tr><td align=\"right\" width=\"130\">12:30PM  </td><td align=\"left\"><div class=\"news-link-container\"><div class=\"news-link-left\"><a class=\"tab-link-news\" href=\"https://finance.yahoo.com/news/billionaire-david-tepper-10-newest-163046546.html\" target=\"_blank\">Billionaire David Teppers 10 Newest Stock Picks</a></div><div class=\"news-link-right\"><span style=\"color:#aa6dc0;font-size:9px\"> Insider Monkey</span></div></div></td></tr>\n",
      "<tr><td align=\"right\" width=\"130\">12:22PM  </td><td align=\"left\"><div class=\"news-link-container\"><div class=\"news-link-left\"><a class=\"tab-link-news\" href=\"https://finance.yahoo.com/news/senate-bill-restrict-tech-firms-090000725.html\" target=\"_blank\">Big Tech Faces New Bills on Liability and Competition in U.S.</a></div><div class=\"news-link-right\"><span style=\"color:#aa6dc0;font-size:9px\"> Bloomberg</span></div></div></td></tr>\n",
      "<tr><td align=\"right\" width=\"130\">12:19PM  </td><td align=\"left\"><div class=\"news-link-container\"><div class=\"news-link-left\"><a class=\"tab-link-news\" href=\"https://finance.yahoo.com/news/iranian-hackers-continue-waging-attacks-161958461.html\" target=\"_blank\">Iranian Hackers Continue Waging Attacks, Google Warns</a></div><div class=\"news-link-right\"><span style=\"color:#aa6dc0;font-size:9px\"> Bloomberg</span></div></div></td></tr>\n",
      "<tr><td align=\"right\" width=\"130\">12:10PM  </td><td align=\"left\"><div class=\"news-link-container\"><div class=\"news-link-left\"><a class=\"tab-link-news\" href=\"https://finance.yahoo.com/news/alphabet-inc-goog-beat-estimates-161004177.html\" target=\"_blank\">Will Alphabet Inc. (GOOG) Beat Estimates Again in Its Next Earnings Report?</a></div><div class=\"news-link-right\"><span style=\"color:#aa6dc0;font-size:9px\"> Zacks</span></div></div></td></tr>\n",
      "<tr><td align=\"right\" width=\"130\">11:30AM  </td><td align=\"left\"><div class=\"news-link-container\"><div class=\"news-link-left\"><a class=\"tab-link-news\" href=\"https://finance.yahoo.com/news/alphabet-goog-outperforming-other-computer-153003881.html\" target=\"_blank\">Is Alphabet (GOOG) Outperforming Other Computer and Technology Stocks This Year?</a></div><div class=\"news-link-right\"><span style=\"color:#aa6dc0;font-size:9px\"> Zacks</span></div></div></td></tr>\n",
      "<tr><td align=\"right\" width=\"130\">10:10AM  </td><td align=\"left\"><div class=\"news-link-container\"><div class=\"news-link-left\"><a class=\"tab-link-news\" href=\"https://www.investors.com/news/technology/snowflake-snow-stock-buy-now/?src=A00220\" target=\"_blank\">Is Snowflake Stock A Buy? Data Analytics Specialist Rides Cloud Computing Wave</a></div><div class=\"news-link-right\"><span style=\"color:#aa6dc0;font-size:9px\"> Investor's Business Daily</span></div></div></td></tr>\n",
      "<tr><td align=\"right\" width=\"130\">09:07AM  </td><td align=\"left\"><div class=\"news-link-container\"><div class=\"news-link-left\"><a class=\"tab-link-news\" href=\"https://finance.yahoo.com/news/bill-gates-10-dividend-stocks-130737413.html\" target=\"_blank\">Bill Gates 10 Dividend Stocks</a></div><div class=\"news-link-right\"><span style=\"color:#aa6dc0;font-size:9px\"> Insider Monkey</span></div></div></td></tr>\n",
      "<tr><td align=\"right\" width=\"130\">08:00AM  </td><td align=\"left\"><div class=\"news-link-container\"><div class=\"news-link-left\"><a class=\"tab-link-news\" href=\"https://www.investors.com/news/technology/google-stock-facebook-stock-estimates-hiked-ahead-of-earnings/?src=A00220\" target=\"_blank\">Earnings Estimates For Technology Stocks Rise Ahead Of Reports</a></div><div class=\"news-link-right\"><span style=\"color:#aa6dc0;font-size:9px\"> Investor's Business Daily</span></div></div></td></tr>\n",
      "<tr><td align=\"right\" width=\"130\">07:27AM  </td><td align=\"left\"><div class=\"news-link-container\"><div class=\"news-link-left\"><a class=\"tab-link-news\" href=\"https://www.fool.com/investing/2021/10/14/is-a-wave-of-fintech-acquisitions-coming-soon/?source=eptyholnk0000202&amp;utm_source=yahoo-host&amp;utm_medium=feed&amp;utm_campaign=article\" target=\"_blank\">Is a Wave of Fintech Acquisitions Coming Soon?</a></div><div class=\"news-link-right\"><span style=\"color:#aa6dc0;font-size:9px\"> Motley Fool</span></div></div></td></tr>\n",
      "<tr><td align=\"right\" style=\"white-space:nowrap\" width=\"130\">Oct-13-21 05:45PM  </td><td align=\"left\"><div class=\"news-link-container\"><div class=\"news-link-left\"><a class=\"tab-link-news\" href=\"https://finance.yahoo.com/news/alphabet-inc-goog-outpaces-stock-214509634.html\" target=\"_blank\">Alphabet Inc. (GOOG) Outpaces Stock Market Gains: What You Should Know</a></div><div class=\"news-link-right\"><span style=\"color:#aa6dc0;font-size:9px\"> Zacks</span></div></div></td></tr>\n",
      "<tr><td align=\"right\" width=\"130\">12:49PM  </td><td align=\"left\"><div class=\"news-link-container\"><div class=\"news-link-left\"><a class=\"tab-link-news\" href=\"https://finance.yahoo.com/news/microsoft-agrees-human-rights-review-143023491.html\" target=\"_blank\">Microsoft Agrees to Human Rights Review in Deals With Law Enforcement, Government</a></div><div class=\"news-link-right\"><span style=\"color:#aa6dc0;font-size:9px\"> Bloomberg</span></div></div></td></tr>\n",
      "<tr><td align=\"right\" width=\"130\">11:01AM  </td><td align=\"left\"><div class=\"news-link-container\"><div class=\"news-link-left\"><a class=\"tab-link-news\" href=\"https://finance.yahoo.com/news/11-best-quantum-computing-stocks-150130785.html\" target=\"_blank\">11 Best Quantum Computing Stocks To Invest In</a></div><div class=\"news-link-right\"><span style=\"color:#aa6dc0;font-size:9px\"> Insider Monkey</span></div></div></td></tr>\n",
      "<tr><td align=\"right\" width=\"130\">10:10AM  </td><td align=\"left\"><div class=\"news-link-container\"><div class=\"news-link-left\"><a class=\"tab-link-news\" href=\"https://finance.yahoo.com/news/3-stocks-insiders-selling-141005710.html\" target=\"_blank\">3 Stocks Insiders Are Selling</a></div><div class=\"news-link-right\"><span style=\"color:#aa6dc0;font-size:9px\"> Benzinga</span></div></div></td></tr>\n",
      "<tr><td align=\"right\" width=\"130\">10:07AM  </td><td align=\"left\"><div class=\"news-link-container\"><div class=\"news-link-left\"><a class=\"tab-link-news\" href=\"https://finance.yahoo.com/news/google-searching-positive-response-upcoming-140734127.html\" target=\"_blank\">Google Searching for Positive Response with Upcoming Launches</a></div><div class=\"news-link-right\"><span style=\"color:#aa6dc0;font-size:9px\"> SmarterAnalyst</span></div></div></td></tr>\n",
      "<tr><td align=\"right\" width=\"130\">09:39AM  </td><td align=\"left\"><div class=\"news-link-container\"><div class=\"news-link-left\"><a class=\"tab-link-news\" href=\"https://finance.yahoo.com/news/p-climbs-signs-elevated-inflation-133955076.html\" target=\"_blank\">S&amp;P Climbs, but Signs Elevated Inflation to Persist Keep Lid on Gains</a></div><div class=\"news-link-right\"><span style=\"color:#aa6dc0;font-size:9px\"> Investing.com</span></div></div></td></tr>\n",
      "<tr><td align=\"right\" width=\"130\">09:17AM  </td><td align=\"left\"><div class=\"news-link-container\"><div class=\"news-link-left\"><a class=\"tab-link-news\" href=\"https://finance.yahoo.com/news/alphabet-googl-google-tv-launch-131701087.html\" target=\"_blank\">Alphabet (GOOGL) Google TV to Launch Realme 4K Streaming Stick</a></div><div class=\"news-link-right\"><span style=\"color:#aa6dc0;font-size:9px\"> Zacks</span></div></div></td></tr>\n",
      "<tr><td align=\"right\" width=\"130\">08:55AM  </td><td align=\"left\"><div class=\"news-link-container\"><div class=\"news-link-left\"><a class=\"tab-link-news\" href=\"https://finance.yahoo.com/news/blackberry-google-qualcomm-collaborate-automotive-125509377.html\" target=\"_blank\">BlackBerry, Google, Qualcomm Collaborate For Automotive Cockpits</a></div><div class=\"news-link-right\"><span style=\"color:#aa6dc0;font-size:9px\"> Benzinga</span></div></div></td></tr>\n",
      "<tr><td align=\"right\" width=\"130\">08:09AM  </td><td align=\"left\"><div class=\"news-link-container\"><div class=\"news-link-left\"><a class=\"tab-link-news\" href=\"https://www.investopedia.com/articles/markets/011516/top-5-google-shareholders-goog.asp?utm_campaign=quote-yahoo&amp;utm_source=yahoo&amp;utm_medium=referral\" target=\"_blank\">Top Google (Alphabet) Shareholders</a></div><div class=\"news-link-right\"><span style=\"color:#aa6dc0;font-size:9px\"> Investopedia</span></div></div></td></tr>\n",
      "<tr><td align=\"right\" width=\"130\">08:00AM  </td><td align=\"left\"><div class=\"news-link-container\"><div class=\"news-link-left\"><a class=\"tab-link-news\" href=\"https://www.fool.com/investing/2021/10/13/4-metrics-to-use-to-find-undervalued-stocks/?source=eptyholnk0000202&amp;utm_source=yahoo-host&amp;utm_medium=feed&amp;utm_campaign=article\" target=\"_blank\">4 Metrics to Use to Find Undervalued Stocks</a></div><div class=\"news-link-right\"><span style=\"color:#aa6dc0;font-size:9px\"> Motley Fool</span></div></div></td></tr>\n",
      "<tr><td align=\"right\" width=\"130\">07:58AM  </td><td align=\"left\"><div class=\"news-link-container\"><div class=\"news-link-left\"><a class=\"tab-link-news\" href=\"https://finance.yahoo.com/news/blackberry-stock-price-rises-following-115803502.html\" target=\"_blank\">BlackBerry Stock Price Rises Following Google and Qualcomm Link-up</a></div><div class=\"news-link-right\"><span style=\"color:#aa6dc0;font-size:9px\"> Investing.com</span></div></div></td></tr>\n",
      "<tr><td align=\"right\" width=\"130\">07:55AM  </td><td align=\"left\"><div class=\"news-link-container\"><div class=\"news-link-left\"><a class=\"tab-link-news\" href=\"https://www.fool.com/investing/2021/10/13/3-top-tech-stocks-to-buy-in-october/?source=eptyholnk0000202&amp;utm_source=yahoo-host&amp;utm_medium=feed&amp;utm_campaign=article\" target=\"_blank\">3 Top Tech Stocks to Buy in October</a></div><div class=\"news-link-right\"><span style=\"color:#aa6dc0;font-size:9px\"> Motley Fool</span></div></div></td></tr>\n",
      "<tr><td align=\"right\" width=\"130\">06:33AM  </td><td align=\"left\"><div class=\"news-link-container\"><div class=\"news-link-left\"><a class=\"tab-link-news\" href=\"https://www.fool.com/investing/2021/10/13/3-robinhood-stocks-that-are-great-long-term-picks/?source=eptyholnk0000202&amp;utm_source=yahoo-host&amp;utm_medium=feed&amp;utm_campaign=article\" target=\"_blank\">3 Robinhood Stocks That Are Great Long-Term Picks</a></div><div class=\"news-link-right\"><span style=\"color:#aa6dc0;font-size:9px\"> Motley Fool</span></div></div></td></tr>\n",
      "<tr><td align=\"right\" width=\"130\">06:07AM  </td><td align=\"left\"><div class=\"news-link-container\"><div class=\"news-link-left\"><a class=\"tab-link-news\" href=\"https://finance.yahoo.com/news/ipo-watch-french-cloud-computing-company-ovhcloud-market-listing-paris-100710343.html\" target=\"_blank\">IPO watch: French cloud computing company OVHcloud to list in Paris</a></div><div class=\"news-link-right\"><span style=\"color:#aa6dc0;font-size:9px\"> Yahoo Finance UK</span></div></div></td></tr>\n",
      "<tr><td align=\"right\" width=\"130\">05:09AM  </td><td align=\"left\"><div class=\"news-link-container\"><div class=\"news-link-left\"><a class=\"tab-link-news\" href=\"https://finance.yahoo.com/news/top-10-spacs-buy-according-090923809.html\" target=\"_blank\">Top 10 SPACs to Buy According to Richard Gersons Falcon Edge Capital</a></div><div class=\"news-link-right\"><span style=\"color:#aa6dc0;font-size:9px\"> Insider Monkey</span></div></div></td></tr>\n",
      "<tr><td align=\"right\" style=\"white-space:nowrap\" width=\"130\">Oct-12-21 08:29PM  </td><td align=\"left\"><div class=\"news-link-container\"><div class=\"news-link-left\"><a class=\"tab-link-news\" href=\"https://finance.yahoo.com/news/apple-balancing-act-china-gets-160000840.html\" target=\"_blank\">Apples Balancing Act in China Gets Trickier During Xis Crackdown</a></div><div class=\"news-link-right\"><span style=\"color:#aa6dc0;font-size:9px\"> Bloomberg</span></div></div></td></tr>\n",
      "<tr><td align=\"right\" width=\"130\">06:15PM  </td><td align=\"left\"><div class=\"news-link-container\"><div class=\"news-link-left\"><a class=\"tab-link-news\" href=\"https://finance.yahoo.com/news/walmart-ai-push-drives-google-221552882.html\" target=\"_blank\">Walmarts AI Push Drives Google Cloud Deeper Into Its Organization</a></div><div class=\"news-link-right\"><span style=\"color:#aa6dc0;font-size:9px\"> WWD</span></div></div></td></tr>\n",
      "<tr><td align=\"right\" width=\"130\">05:01PM  </td><td align=\"left\"><div class=\"news-link-container\"><div class=\"news-link-left\"><a class=\"tab-link-news\" href=\"https://www.investors.com/news/technology/alphabet-near-later-stage-entry-with-earnings-due/?src=A00220\" target=\"_blank\">Alphabet Stock Nears Later-Stage Entry With Earnings Due</a></div><div class=\"news-link-right\"><span style=\"color:#aa6dc0;font-size:9px\"> Investor's Business Daily</span></div></div></td></tr>\n",
      "<tr><td align=\"right\" width=\"130\">04:24PM  </td><td align=\"left\"><div class=\"news-link-container\"><div class=\"news-link-left\"><a class=\"tab-link-news\" href=\"https://finance.yahoo.com/news/michael-burrys-mother-crashes-warning-194300321.html\" target=\"_blank\">Michael Burry's 'mother of all crashes' warning is still in play  but here are 3 stocks he's bullish on</a></div><div class=\"news-link-right\"><span style=\"color:#aa6dc0;font-size:9px\"> MoneyWise</span></div></div></td></tr>\n",
      "<tr><td align=\"right\" width=\"130\">03:22PM  </td><td align=\"left\"><div class=\"news-link-container\"><div class=\"news-link-left\"><a class=\"tab-link-news\" href=\"https://www.investors.com/research/fast-growing-stocks-q3-earnings-estimates-branch/?src=A00220\" target=\"_blank\">Fast-Growing Stocks: GOOGL Stock Among 26 Names Expecting Up To 806% Growth In Q3</a></div><div class=\"news-link-right\"><span style=\"color:#aa6dc0;font-size:9px\"> Investor's Business Daily</span></div></div></td></tr>\n",
      "<tr><td align=\"right\" width=\"130\">02:55PM  </td><td align=\"left\"><div class=\"news-link-container\"><div class=\"news-link-left\"><a class=\"tab-link-news\" href=\"https://finance.yahoo.com/video/investors-fasten-seat-belts-earnings-185514822.html\" target=\"_blank\">Investors should fasten their seat belts this earnings season: Wall Street Alliance Group Partner</a></div><div class=\"news-link-right\"><span style=\"color:#aa6dc0;font-size:9px\"> Yahoo Finance Video</span></div></div></td></tr>\n",
      "<tr><td align=\"right\" width=\"130\">02:35PM  </td><td align=\"left\"><div class=\"news-link-container\"><div class=\"news-link-left\"><a class=\"tab-link-news\" href=\"https://finance.yahoo.com/news/google-says-epic-fortnite-provocation-163152597.html\" target=\"_blank\">Google Countersues Epic Over Unapproved Fortnite Version</a></div><div class=\"news-link-right\"><span style=\"color:#aa6dc0;font-size:9px\"> Bloomberg</span></div></div></td></tr>\n",
      "<tr><td align=\"right\" width=\"130\">02:19PM  </td><td align=\"left\"><div class=\"news-link-container\"><div class=\"news-link-left\"><a class=\"tab-link-news\" href=\"https://finance.yahoo.com/video/she-turned-adhd-career-talking-181907500.html\" target=\"_blank\">She turned ADHD into a career: Talking about our challenges is very important, says host of How to ADHD</a></div><div class=\"news-link-right\"><span style=\"color:#aa6dc0;font-size:9px\"> Yahoo Finance Video</span></div></div></td></tr>\n",
      "<tr><td align=\"right\" width=\"130\">01:37PM  </td><td align=\"left\"><div class=\"news-link-container\"><div class=\"news-link-left\"><a class=\"tab-link-news\" href=\"https://www.fool.com/investing/2021/10/12/google-gives-up-on-bank-accounts/?source=eptyholnk0000202&amp;utm_source=yahoo-host&amp;utm_medium=feed&amp;utm_campaign=article\" target=\"_blank\">Google Gives Up on Bank Accounts</a></div><div class=\"news-link-right\"><span style=\"color:#aa6dc0;font-size:9px\"> Motley Fool</span></div></div></td></tr>\n",
      "<tr><td align=\"right\" width=\"130\">12:10PM  </td><td align=\"left\"><div class=\"news-link-container\"><div class=\"news-link-left\"><a class=\"tab-link-news\" href=\"https://finance.yahoo.com/news/why-earnings-surprise-streak-could-161004535.html\" target=\"_blank\">Why the Earnings Surprise Streak Could Continue for Alphabet (GOOGL)</a></div><div class=\"news-link-right\"><span style=\"color:#aa6dc0;font-size:9px\"> Zacks</span></div></div></td></tr>\n",
      "<tr><td align=\"right\" width=\"130\">11:30AM  </td><td align=\"left\"><div class=\"news-link-container\"><div class=\"news-link-left\"><a class=\"tab-link-news\" href=\"https://finance.yahoo.com/news/alphabet-googl-stock-outpacing-computer-153003503.html\" target=\"_blank\">Is Alphabet (GOOGL) Stock Outpacing Its Computer and Technology Peers This Year?</a></div><div class=\"news-link-right\"><span style=\"color:#aa6dc0;font-size:9px\"> Zacks</span></div></div></td></tr>\n",
      "<tr><td align=\"right\" width=\"130\">10:15AM  </td><td align=\"left\"><div class=\"news-link-container\"><div class=\"news-link-left\"><a class=\"tab-link-news\" href=\"https://www.fool.com/investing/2021/10/12/better-ad-tech-company-taboola-or-outbrain/?source=eptyholnk0000202&amp;utm_source=yahoo-host&amp;utm_medium=feed&amp;utm_campaign=article\" target=\"_blank\">Better Ad Tech Company: Taboola or Outbrain</a></div><div class=\"news-link-right\"><span style=\"color:#aa6dc0;font-size:9px\"> Motley Fool</span></div></div></td></tr>\n",
      "<tr><td align=\"right\" width=\"130\">10:15AM  </td><td align=\"left\"><div class=\"news-link-container\"><div class=\"news-link-left\"><a class=\"tab-link-news\" href=\"https://finance.yahoo.com/news/delayed-exit-google-141536669.html\" target=\"_blank\">A Delayed Exit In Google</a></div><div class=\"news-link-right\"><span style=\"color:#aa6dc0;font-size:9px\"> Benzinga</span></div></div></td></tr>\n",
      "<tr><td align=\"right\" width=\"130\">10:05AM  </td><td align=\"left\"><div class=\"news-link-container\"><div class=\"news-link-left\"><a class=\"tab-link-news\" href=\"https://www.investors.com/news/technology/google-stock-buy-now/?src=A00220\" target=\"_blank\">Is Google Stock A Buy? Internet Search Giant Tops Among FANG Stocks In 2021</a></div><div class=\"news-link-right\"><span style=\"color:#aa6dc0;font-size:9px\"> Investor's Business Daily</span></div></div></td></tr>\n",
      "<tr><td align=\"right\" width=\"130\">09:40AM  </td><td align=\"left\"><div class=\"news-link-container\"><div class=\"news-link-left\"><a class=\"tab-link-news\" href=\"https://www.investors.com/news/technology/crm-stock-buy-now/?src=A00220\" target=\"_blank\">Is Salesforce Stock A Buy? Software Maker Raises Fiscal 2022 Revenue Outlook</a></div><div class=\"news-link-right\"><span style=\"color:#aa6dc0;font-size:9px\"> Investor's Business Daily</span></div></div></td></tr>\n",
      "<tr><td align=\"right\" width=\"130\">08:11AM  </td><td align=\"left\"><div class=\"news-link-container\"><div class=\"news-link-left\"><a class=\"tab-link-news\" href=\"https://www.fool.com/investing/2021/10/12/google-just-gave-banks-some-great-news/?source=eptyholnk0000202&amp;utm_source=yahoo-host&amp;utm_medium=feed&amp;utm_campaign=article\" target=\"_blank\">Google Just Gave Banks Some Great News</a></div><div class=\"news-link-right\"><span style=\"color:#aa6dc0;font-size:9px\"> Motley Fool</span></div></div></td></tr>\n",
      "<tr><td align=\"right\" width=\"130\">08:05AM  </td><td align=\"left\"><div class=\"news-link-container\"><div class=\"news-link-left\"><a class=\"tab-link-news\" href=\"https://finance.yahoo.com/news/google-cloud-unveils-carbon-footprint-120517403.html\" target=\"_blank\">Google Cloud unveils carbon footprint tracker, satellite imagery suite</a></div><div class=\"news-link-right\"><span style=\"color:#aa6dc0;font-size:9px\"> Reuters</span></div></div></td></tr>\n",
      "<tr><td align=\"right\" width=\"130\">08:00AM  </td><td align=\"left\"><div class=\"news-link-container\"><div class=\"news-link-left\"><a class=\"tab-link-news\" href=\"https://finance.yahoo.com/news/google-show-cloud-customers-carbon-120000090.html\" target=\"_blank\">Google Will Show Its Cloud Customers Their Carbon Footprint</a></div><div class=\"news-link-right\"><span style=\"color:#aa6dc0;font-size:9px\"> Bloomberg</span></div></div></td></tr>\n",
      "<tr><td align=\"right\" width=\"130\">08:00AM  </td><td align=\"left\"><div class=\"news-link-container\"><div class=\"news-link-left\"><a class=\"tab-link-news\" href=\"https://finance.yahoo.com/news/google-cloud-unveils-carbon-footprint-120000792.html\" target=\"_blank\">Google Cloud unveils carbon footprint tracker, satellite imagery suite</a></div><div class=\"news-link-right\"><span style=\"color:#aa6dc0;font-size:9px\"> Reuters</span></div></div></td></tr>\n",
      "<tr><td align=\"right\" width=\"130\">07:19AM  </td><td align=\"left\"><div class=\"news-link-container\"><div class=\"news-link-left\"><a class=\"tab-link-news\" href=\"https://finance.yahoo.com/news/11-best-climate-change-stocks-111936103.html\" target=\"_blank\">11 Best Climate Change Stocks To Buy According To Hedge Funds</a></div><div class=\"news-link-right\"><span style=\"color:#aa6dc0;font-size:9px\"> Insider Monkey</span></div></div></td></tr>\n",
      "<tr><td align=\"right\" width=\"130\">05:00AM  </td><td align=\"left\"><div class=\"news-link-container\"><div class=\"news-link-left\"><a class=\"tab-link-news\" href=\"https://finance.yahoo.com/news/become-proficient-certified-google-sheets-090035756.html\" target=\"_blank\">Become Proficient And Certified In Google Sheets And Microsoft Excel</a></div><div class=\"news-link-right\"><span style=\"color:#aa6dc0;font-size:9px\"> Black Enterprise</span></div></div></td></tr>\n",
      "<tr><td align=\"right\" style=\"white-space:nowrap\" width=\"130\">Oct-11-21 06:22PM  </td><td align=\"left\"><div class=\"news-link-container\"><div class=\"news-link-left\"><a class=\"tab-link-news\" href=\"https://www.investopedia.com/alphabet-stock-googl-5095140?utm_campaign=quote-yahoo&amp;utm_source=yahoo&amp;utm_medium=referral\" target=\"_blank\">Investing in Google (Alphabet) Stock (GOOGL; GOOG)</a></div><div class=\"news-link-right\"><span style=\"color:#aa6dc0;font-size:9px\"> Investopedia</span></div></div></td></tr>\n",
      "<tr><td align=\"right\" width=\"130\">05:53PM  </td><td align=\"left\"><div class=\"news-link-container\"><div class=\"news-link-left\"><a class=\"tab-link-news\" href=\"https://www.investopedia.com/acquisitions-and-antitrust-scrutiny-for-big-tech-firms-5204875?utm_campaign=quote-yahoo&amp;utm_source=yahoo&amp;utm_medium=referral\" target=\"_blank\">Acquisitions and Antitrust Scrutiny for Big Tech Firms</a></div><div class=\"news-link-right\"><span style=\"color:#aa6dc0;font-size:9px\"> Investopedia</span></div></div></td></tr>\n",
      "<tr><td align=\"right\" width=\"130\">05:11PM  </td><td align=\"left\"><div class=\"news-link-container\"><div class=\"news-link-left\"><a class=\"tab-link-news\" href=\"https://finance.yahoo.com/news/microsoft-says-pact-lets-ex-211128688.html\" target=\"_blank\">Microsoft Says Pact Lets Ex-Amazon Executive Begin New Role</a></div><div class=\"news-link-right\"><span style=\"color:#aa6dc0;font-size:9px\"> Bloomberg</span></div></div></td></tr>\n",
      "<tr><td align=\"right\" width=\"130\">03:15PM  </td><td align=\"left\"><div class=\"news-link-container\"><div class=\"news-link-left\"><a class=\"tab-link-news\" href=\"https://www.fool.com/investing/2021/10/11/whats-hot-in-the-stock-market/?source=eptyholnk0000202&amp;utm_source=yahoo-host&amp;utm_medium=feed&amp;utm_campaign=article\" target=\"_blank\">What's Hot in the Stock Market?</a></div><div class=\"news-link-right\"><span style=\"color:#aa6dc0;font-size:9px\"> Motley Fool</span></div></div></td></tr>\n",
      "<tr><td align=\"right\" width=\"130\">10:09AM  </td><td align=\"left\"><div class=\"news-link-container\"><div class=\"news-link-left\"><a class=\"tab-link-news\" href=\"https://www.investors.com/research/gm-stock-buy-now-branch/?src=A00220\" target=\"_blank\">GM Stock A Buy? General Motors Could Be Worth This Much, Analyst Says</a></div><div class=\"news-link-right\"><span style=\"color:#aa6dc0;font-size:9px\"> Investor's Business Daily</span></div></div></td></tr>\n",
      "<tr><td align=\"right\" width=\"130\">09:35AM  </td><td align=\"left\"><div class=\"news-link-container\"><div class=\"news-link-left\"><a class=\"tab-link-news\" href=\"https://finance.yahoo.com/news/google-tv-adding-personalized-profiles-133507733.html\" target=\"_blank\">Google TV Is Adding Personalized Profiles, Ambient Mode Information Cards</a></div><div class=\"news-link-right\"><span style=\"color:#aa6dc0;font-size:9px\"> Variety</span></div></div></td></tr>\n",
      "<tr><td align=\"right\" width=\"130\">09:26AM  </td><td align=\"left\"><div class=\"news-link-container\"><div class=\"news-link-left\"><a class=\"tab-link-news\" href=\"https://finance.yahoo.com/news/best-ai-stocks-buy-2021-132610021.html\" target=\"_blank\">The Best AI Stocks to Buy for 2021 and Beyond</a></div><div class=\"news-link-right\"><span style=\"color:#aa6dc0;font-size:9px\"> Insider Monkey</span></div></div></td></tr>\n",
      "<tr><td align=\"right\" width=\"130\">08:21AM  </td><td align=\"left\"><div class=\"news-link-container\"><div class=\"news-link-left\"><a class=\"tab-link-news\" href=\"https://finance.yahoo.com/news/intrinsic-calculation-alphabet-inc-nasdaq-122102180.html\" target=\"_blank\">An Intrinsic Calculation For Alphabet Inc. (NASDAQ:GOOG.L) Suggests It's 42% Undervalued</a></div><div class=\"news-link-right\"><span style=\"color:#aa6dc0;font-size:9px\"> Simply Wall St.</span></div></div></td></tr>\n",
      "<tr><td align=\"right\" width=\"130\">08:14AM  </td><td align=\"left\"><div class=\"news-link-container\"><div class=\"news-link-left\"><a class=\"tab-link-news\" href=\"https://www.investors.com/market-trend/stock-market-today/dow-jones-futures-market-rally-5-stocks-at-inflection-points-tesla-fsd-beta-opens-up/?src=A00220\" target=\"_blank\">Dow Jones Futures Fall, Oil Jumps With Market Rally At Inflection Point; Tesla FSD Beta Rolls Out</a></div><div class=\"news-link-right\"><span style=\"color:#aa6dc0;font-size:9px\"> Investor's Business Daily</span></div></div></td></tr>\n",
      "<tr><td align=\"right\" width=\"130\">05:54AM  </td><td align=\"left\"><div class=\"news-link-container\"><div class=\"news-link-left\"><a class=\"tab-link-news\" href=\"https://finance.yahoo.com/news/billionaire-louis-bacon-10-tech-095426326.html\" target=\"_blank\">Billionaire Louis Bacons 10 Tech Stock Picks</a></div><div class=\"news-link-right\"><span style=\"color:#aa6dc0;font-size:9px\"> Insider Monkey</span></div></div></td></tr>\n",
      "<tr><td align=\"right\" width=\"130\">04:50AM  </td><td align=\"left\"><div class=\"news-link-container\"><div class=\"news-link-left\"><a class=\"tab-link-news\" href=\"https://finance.yahoo.com/news/10-best-stocks-buy-according-085059373.html\" target=\"_blank\">10 Best Stocks to Buy According to Peter Lewis LFL Advisers</a></div><div class=\"news-link-right\"><span style=\"color:#aa6dc0;font-size:9px\"> Insider Monkey</span></div></div></td></tr>\n",
      "<tr><td align=\"right\" width=\"130\">12:43AM  </td><td align=\"left\"><div class=\"news-link-container\"><div class=\"news-link-left\"><a class=\"tab-link-news\" href=\"https://finance.yahoo.com/news/1-facebook-backed-group-launches-044342223.html\" target=\"_blank\">UPDATE 2-Facebook-backed group launches misinformation adjudication panel in Australia</a></div><div class=\"news-link-right\"><span style=\"color:#aa6dc0;font-size:9px\"> Reuters</span></div></div></td></tr>\n",
      "<tr><td align=\"right\" style=\"white-space:nowrap\" width=\"130\">Oct-10-21 08:59PM  </td><td align=\"left\"><div class=\"news-link-container\"><div class=\"news-link-left\"><a class=\"tab-link-news\" href=\"https://finance.yahoo.com/news/facebook-backed-group-launches-misinformation-005959001.html\" target=\"_blank\">Facebook-backed group launches misinformation adjudication panel in Australia</a></div><div class=\"news-link-right\"><span style=\"color:#aa6dc0;font-size:9px\"> Reuters</span></div></div></td></tr>\n",
      "<tr><td align=\"right\" width=\"130\">08:52PM  </td><td align=\"left\"><div class=\"news-link-container\"><div class=\"news-link-left\"><a class=\"tab-link-news\" href=\"https://finance.yahoo.com/news/facebook-backed-group-launches-misinformation-005236794.html\" target=\"_blank\">Facebook-backed group launches misinformation adjudication panel in Australia</a></div><div class=\"news-link-right\"><span style=\"color:#aa6dc0;font-size:9px\"> Reuters</span></div></div></td></tr>\n",
      "<tr><td align=\"right\" style=\"white-space:nowrap\" width=\"130\">Oct-09-21 05:02PM  </td><td align=\"left\"><div class=\"news-link-container\"><div class=\"news-link-left\"><a class=\"tab-link-news\" href=\"https://www.investopedia.com/financial-edge/0712/should-google-pay-a-dividend.aspx?utm_campaign=quote-yahoo&amp;utm_source=yahoo&amp;utm_medium=referral\" target=\"_blank\">Should Google Pay a Stock Dividend?</a></div><div class=\"news-link-right\"><span style=\"color:#aa6dc0;font-size:9px\"> Investopedia</span></div></div></td></tr>\n",
      "<tr><td align=\"right\" width=\"130\">11:15AM  </td><td align=\"left\"><div class=\"news-link-container\"><div class=\"news-link-left\"><a class=\"tab-link-news\" href=\"https://www.marketwatch.com/story/how-global-deal-stems-corporate-use-of-tax-havens-01633792542?siteid=yhoof2\" target=\"_blank\">How global deal stems corporate use of tax havens</a></div><div class=\"news-link-right\"><span style=\"color:#aa6dc0;font-size:9px\"> MarketWatch</span></div></div></td></tr>\n",
      "<tr><td align=\"right\" width=\"130\">10:30AM  </td><td align=\"left\"><div class=\"news-link-container\"><div class=\"news-link-left\"><a class=\"tab-link-news\" href=\"https://www.fool.com/investing/2021/10/09/where-to-invest-5000-right-now/?source=eptyholnk0000202&amp;utm_source=yahoo-host&amp;utm_medium=feed&amp;utm_campaign=article\" target=\"_blank\">Where to Invest $5,000 Right Now</a></div><div class=\"news-link-right\"><span style=\"color:#aa6dc0;font-size:9px\"> Motley Fool</span></div></div></td></tr>\n",
      "<tr><td align=\"right\" width=\"130\">09:02AM  </td><td align=\"left\"><div class=\"news-link-container\"><div class=\"news-link-left\"><a class=\"tab-link-news\" href=\"https://www.fool.com/investing/2021/10/09/google-is-still-pioneering-artificial-intelligence/?source=eptyholnk0000202&amp;utm_source=yahoo-host&amp;utm_medium=feed&amp;utm_campaign=article\" target=\"_blank\">Google Is (Still) Pioneering Artificial Intelligence</a></div><div class=\"news-link-right\"><span style=\"color:#aa6dc0;font-size:9px\"> Motley Fool</span></div></div></td></tr>\n",
      "<tr><td align=\"right\" width=\"130\">09:00AM  </td><td align=\"left\"><div class=\"news-link-container\"><div class=\"news-link-left\"><a class=\"tab-link-news\" href=\"https://www.fool.com/investing/2021/10/09/apples-app-store-empire-is-finally-cracking/?source=eptyholnk0000202&amp;utm_source=yahoo-host&amp;utm_medium=feed&amp;utm_campaign=article\" target=\"_blank\">Apple's App Store Empire Is Finally Starting to Crack</a></div><div class=\"news-link-right\"><span style=\"color:#aa6dc0;font-size:9px\"> Motley Fool</span></div></div></td></tr>\n",
      "<tr><td align=\"right\" width=\"130\">06:35AM  </td><td align=\"left\"><div class=\"news-link-container\"><div class=\"news-link-left\"><a class=\"tab-link-news\" href=\"https://www.fool.com/investing/2021/10/09/is-outbrain-stock-a-buy/?source=eptyholnk0000202&amp;utm_source=yahoo-host&amp;utm_medium=feed&amp;utm_campaign=article\" target=\"_blank\">Is Outbrain Stock a Buy?</a></div><div class=\"news-link-right\"><span style=\"color:#aa6dc0;font-size:9px\"> Motley Fool</span></div></div></td></tr>\n",
      "<tr><td align=\"right\" width=\"130\">05:51AM  </td><td align=\"left\"><div class=\"news-link-container\"><div class=\"news-link-left\"><a class=\"tab-link-news\" href=\"https://www.fool.com/investing/2021/10/09/3-surefire-stocks-to-buy-if-stock-market-crash/?source=eptyholnk0000202&amp;utm_source=yahoo-host&amp;utm_medium=feed&amp;utm_campaign=article\" target=\"_blank\">3 Surefire Stocks to Buy If There's a Stock Market Crash</a></div><div class=\"news-link-right\"><span style=\"color:#aa6dc0;font-size:9px\"> Motley Fool</span></div></div></td></tr>\n",
      "<tr><td align=\"right\" width=\"130\">03:00AM  </td><td align=\"left\"><div class=\"news-link-container\"><div class=\"news-link-left\"><a class=\"tab-link-news\" href=\"https://finance.yahoo.com/news/uk-contactless-payments-limit-rising-070027107.html\" target=\"_blank\">UK contactless payments limit is rising to £100  should you be worried?</a></div><div class=\"news-link-right\"><span style=\"color:#aa6dc0;font-size:9px\"> The Guardian</span></div></div></td></tr>\n",
      "<tr><td align=\"right\" style=\"white-space:nowrap\" width=\"130\">Oct-08-21 05:25PM  </td><td align=\"left\"><div class=\"news-link-container\"><div class=\"news-link-left\"><a class=\"tab-link-news\" href=\"https://finance.yahoo.com/news/google-tests-ways-showcase-breaking-212533612.html\" target=\"_blank\">Google Tests Ways to Showcase Breaking News in Twitter-Like Move</a></div><div class=\"news-link-right\"><span style=\"color:#aa6dc0;font-size:9px\"> Bloomberg</span></div></div></td></tr>\n",
      "<tr><td align=\"right\" width=\"130\">02:05PM  </td><td align=\"left\"><div class=\"news-link-container\"><div class=\"news-link-left\"><a class=\"tab-link-news\" href=\"https://www.investors.com/etfs-and-funds/mutual-funds/best-mutual-funds-buy-googl-stock-tech-stocks-but-stock-market-correction-hits/?src=A00220\" target=\"_blank\">New Buys By The Best Mutual Funds: GOOGL Stock Leads List As Market Corrects</a></div><div class=\"news-link-right\"><span style=\"color:#aa6dc0;font-size:9px\"> Investor's Business Daily</span></div></div></td></tr>\n",
      "<tr><td align=\"right\" width=\"130\">01:48PM  </td><td align=\"left\"><div class=\"news-link-container\"><div class=\"news-link-left\"><a class=\"tab-link-news\" href=\"https://finance.yahoo.com/news/this-nearly-40-billion-tech-company-has-unleashed-a-secret-weapon-to-attract-workers-174808952.html\" target=\"_blank\">This nearly $40 billion tech company has unleashed a secret weapon to attract workers</a></div><div class=\"news-link-right\"><span style=\"color:#aa6dc0;font-size:9px\"> Yahoo Finance</span></div></div></td></tr>\n",
      "<tr><td align=\"right\" width=\"130\">12:53PM  </td><td align=\"left\"><div class=\"news-link-container\"><div class=\"news-link-left\"><a class=\"tab-link-news\" href=\"https://www.marketwatch.com/story/google-to-block-ads-from-appearing-next-to-content-denying-climate-change-11633712015?siteid=yhoof2\" target=\"_blank\">Google to block ads from appearing next to content denying climate change</a></div><div class=\"news-link-right\"><span style=\"color:#aa6dc0;font-size:9px\"> MarketWatch</span></div></div></td></tr>\n",
      "<tr><td align=\"right\" width=\"130\">12:10PM  </td><td align=\"left\"><div class=\"news-link-container\"><div class=\"news-link-left\"><a class=\"tab-link-news\" href=\"https://finance.yahoo.com/video/google-50-day-line-161032695.html\" target=\"_blank\">Google At 50-Day Line</a></div><div class=\"news-link-right\"><span style=\"color:#aa6dc0;font-size:9px\"> Investor's Business Daily Video</span></div></div></td></tr>\n",
      "<tr><td align=\"right\" width=\"130\">11:16AM  </td><td align=\"left\"><div class=\"news-link-container\"><div class=\"news-link-left\"><a class=\"tab-link-news\" href=\"https://finance.yahoo.com/video/ireland-joins-global-tax-agreement-151600371.html\" target=\"_blank\">Ireland joins global tax agreement, Googles cracks down on climate change denial, Sen. Lummis investment in crypto</a></div><div class=\"news-link-right\"><span style=\"color:#aa6dc0;font-size:9px\"> Yahoo Finance Video</span></div></div></td></tr>\n",
      "<tr><td align=\"right\" width=\"130\">09:05AM  </td><td align=\"left\"><div class=\"news-link-container\"><div class=\"news-link-left\"><a class=\"tab-link-news\" href=\"https://www.fool.com/investing/2021/10/08/microsoft-windows-11-what-investors-need-to-know/?source=eptyholnk0000202&amp;utm_source=yahoo-host&amp;utm_medium=feed&amp;utm_campaign=article\" target=\"_blank\">Microsoft Windows 11: What Investors Need to Know</a></div><div class=\"news-link-right\"><span style=\"color:#aa6dc0;font-size:9px\"> Motley Fool</span></div></div></td></tr>\n",
      "<tr><td align=\"right\" width=\"130\">08:57AM  </td><td align=\"left\"><div class=\"news-link-container\"><div class=\"news-link-left\"><a class=\"tab-link-news\" href=\"https://www.fool.com/investing/2021/10/08/why-is-everyone-talking-about-palantir-stock/?source=eptyholnk0000202&amp;utm_source=yahoo-host&amp;utm_medium=feed&amp;utm_campaign=article\" target=\"_blank\">Why Is Everyone Talking About Palantir Stock?</a></div><div class=\"news-link-right\"><span style=\"color:#aa6dc0;font-size:9px\"> Motley Fool</span></div></div></td></tr>\n",
      "<tr><td align=\"right\" width=\"130\">08:16AM  </td><td align=\"left\"><div class=\"news-link-container\"><div class=\"news-link-left\"><a class=\"tab-link-news\" href=\"https://finance.yahoo.com/news/biotricity-launches-biocare-cardiac-application-121616944.html\" target=\"_blank\">Biotricity Launches Biocare Cardiac Application for Samsung's Galaxy Watch4 Series</a></div><div class=\"news-link-right\"><span style=\"color:#aa6dc0;font-size:9px\"> Benzinga</span></div></div></td></tr>\n",
      "<tr><td align=\"right\" width=\"130\">08:13AM  </td><td align=\"left\"><div class=\"news-link-container\"><div class=\"news-link-left\"><a class=\"tab-link-news\" href=\"https://www.investors.com/market-trend/stock-market-today/dow-jones-futures-treasury-yields-rise-key-jobs-report-pivotal-for-market-rally/?src=A00220\" target=\"_blank\">Dow Jones Futures: Treasury Yields Rise Ahead Of Key Jobs Report For Market Rally</a></div><div class=\"news-link-right\"><span style=\"color:#aa6dc0;font-size:9px\"> Investor's Business Daily</span></div></div></td></tr>\n",
      "<tr><td align=\"right\" width=\"130\">06:55AM  </td><td align=\"left\"><div class=\"news-link-container\"><div class=\"news-link-left\"><a class=\"tab-link-news\" href=\"https://finance.yahoo.com/news/google-goes-tougher-climate-change-105542408.html\" target=\"_blank\">Google Goes Tougher On Climate Change Policies</a></div><div class=\"news-link-right\"><span style=\"color:#aa6dc0;font-size:9px\"> Benzinga</span></div></div></td></tr>\n",
      "<tr><td align=\"right\" width=\"130\">06:50AM  </td><td align=\"left\"><div class=\"news-link-container\"><div class=\"news-link-left\"><a class=\"tab-link-news\" href=\"https://www.thestreet.com/investing/google-bars-ads-for-climate-change-deniers?puc=yahoo&amp;cm_ven=YAHOO\" target=\"_blank\">Google Bars Ads for Content Denying Climate Change</a></div><div class=\"news-link-right\"><span style=\"color:#aa6dc0;font-size:9px\"> TheStreet.com</span></div></div></td></tr>\n",
      "<tr><td align=\"right\" width=\"130\">06:46AM  </td><td align=\"left\"><div class=\"news-link-container\"><div class=\"news-link-left\"><a class=\"tab-link-news\" href=\"https://www.barrons.com/articles/apple-stock-price-rally-caution-51633620422?siteid=yhoof2\" target=\"_blank\">Apple Stock Could Struggle. This Analyst Explains Why.</a></div><div class=\"news-link-right\"><span style=\"color:#aa6dc0;font-size:9px\"> Barrons.com</span></div></div></td></tr>\n",
      "<tr><td align=\"right\" width=\"130\">06:00AM  </td><td align=\"left\"><div class=\"news-link-container\"><div class=\"news-link-left\"><a class=\"tab-link-news\" href=\"https://finance.yahoo.com/video/concerns-michael-dell-most-100000299.html\" target=\"_blank\">What concerns Michael Dell the most about A.I.</a></div><div class=\"news-link-right\"><span style=\"color:#aa6dc0;font-size:9px\"> Yahoo Finance Video</span></div></div></td></tr>\n",
      "<tr><td align=\"right\" width=\"130\">05:15AM  </td><td align=\"left\"><div class=\"news-link-container\"><div class=\"news-link-left\"><a class=\"tab-link-news\" href=\"https://www.fool.com/investing/2021/10/08/3-stock-market-myths-that-cost-investors/?source=eptyholnk0000202&amp;utm_source=yahoo-host&amp;utm_medium=feed&amp;utm_campaign=article\" target=\"_blank\">3 Stock Market Myths That Cost Investors</a></div><div class=\"news-link-right\"><span style=\"color:#aa6dc0;font-size:9px\"> Motley Fool</span></div></div></td></tr>\n",
      "<tr><td align=\"right\" width=\"130\">04:29AM  </td><td align=\"left\"><div class=\"news-link-container\"><div class=\"news-link-left\"><a class=\"tab-link-news\" href=\"https://finance.yahoo.com/news/7-oil-gas-stocks-buy-082904616.html\" target=\"_blank\">7 Oil and Gas Stocks to Buy According to Billionaire Leon Cooperman</a></div><div class=\"news-link-right\"><span style=\"color:#aa6dc0;font-size:9px\"> Insider Monkey</span></div></div></td></tr>\n",
      "<tr><td align=\"right\" width=\"130\">03:29AM  </td><td align=\"left\"><div class=\"news-link-container\"><div class=\"news-link-left\"><a class=\"tab-link-news\" href=\"https://finance.yahoo.com/news/george-soros-stock-portfolio-top-072941640.html\" target=\"_blank\">George Soros Stock Portfolio: Top 10 Stock Picks</a></div><div class=\"news-link-right\"><span style=\"color:#aa6dc0;font-size:9px\"> Insider Monkey</span></div></div></td></tr>\n",
      "</table>, 'FB': <table border=\"0\" cellpadding=\"1\" cellspacing=\"0\" class=\"fullview-news-outer\" id=\"news-table\" width=\"100%\">\n",
      "<tr><td align=\"right\" style=\"white-space:nowrap\" width=\"130\">Oct-15-21 09:01AM  </td><td align=\"left\"><div class=\"news-link-container\"><div class=\"news-link-left\"><a class=\"tab-link-news\" href=\"https://www.fool.com/investing/2021/10/15/these-2-under-the-radar-stocks-have-incredibly-bri/?source=eptyholnk0000202&amp;utm_source=yahoo-host&amp;utm_medium=feed&amp;utm_campaign=article\" target=\"_blank\">These 2 Under-the-Radar Stocks Have Incredibly Bright Futures</a></div><div class=\"news-link-right\"><span style=\"color:#aa6dc0;font-size:9px\"> Motley Fool</span></div></div></td></tr>\n",
      "<tr><td align=\"right\" width=\"130\">09:00AM  </td><td align=\"left\"><div class=\"news-link-container\"><div class=\"news-link-left\"><a class=\"tab-link-news\" href=\"https://www.investors.com/news/technology/facebook-stock-can-it-survive-another-scandal/?src=A00220\" target=\"_blank\">How Many Times Can Facebook Stock Rebound From Another Big Scandal?</a></div><div class=\"news-link-right\"><span style=\"color:#aa6dc0;font-size:9px\"> Investor's Business Daily</span></div></div></td></tr>\n",
      "<tr><td align=\"right\" width=\"130\">08:51AM  </td><td align=\"left\"><div class=\"news-link-container\"><div class=\"news-link-left\"><a class=\"tab-link-news\" href=\"https://www.marketwatch.com/story/facebooks-stock-has-been-languishing-things-could-get-worse-11634302261?siteid=yhoof2\" target=\"_blank\">Facebooks stock has been languishing  things could get worse</a></div><div class=\"news-link-right\"><span style=\"color:#aa6dc0;font-size:9px\"> MarketWatch</span></div></div></td></tr>\n",
      "<tr><td align=\"right\" width=\"130\">07:30AM  </td><td align=\"left\"><div class=\"news-link-container\"><div class=\"news-link-left\"><a class=\"tab-link-news\" href=\"https://www.fool.com/investing/2021/10/15/how-should-investors-react-to-the-facebook-files/?source=eptyholnk0000202&amp;utm_source=yahoo-host&amp;utm_medium=feed&amp;utm_campaign=article\" target=\"_blank\">How Should Investors React to \"The Facebook Files\"?</a></div><div class=\"news-link-right\"><span style=\"color:#aa6dc0;font-size:9px\"> Motley Fool</span></div></div></td></tr>\n",
      "<tr><td align=\"right\" width=\"130\">07:15AM  </td><td align=\"left\"><div class=\"news-link-container\"><div class=\"news-link-left\"><a class=\"tab-link-news\" href=\"https://www.fool.com/investing/2021/10/15/should-investors-worry-about-future-of-facebook/?source=eptyholnk0000202&amp;utm_source=yahoo-host&amp;utm_medium=feed&amp;utm_campaign=article\" target=\"_blank\">Should Investors Be Worried About the Future of Facebook Stock?</a></div><div class=\"news-link-right\"><span style=\"color:#aa6dc0;font-size:9px\"> Motley Fool</span></div></div></td></tr>\n",
      "<tr><td align=\"right\" width=\"130\">05:30AM  </td><td align=\"left\"><div class=\"news-link-container\"><div class=\"news-link-left\"><a class=\"tab-link-news\" href=\"https://finance.yahoo.com/video/facebook-big-tobacco-why-social-093000142.html\" target=\"_blank\">Facebook and Big Tobacco: Why Social Media Is (and Isnt) Like Cigarettes</a></div><div class=\"news-link-right\"><span style=\"color:#aa6dc0;font-size:9px\"> WSJ</span></div></div></td></tr>\n",
      "<tr><td align=\"right\" style=\"white-space:nowrap\" width=\"130\">Oct-14-21 09:08PM  </td><td align=\"left\"><div class=\"news-link-container\"><div class=\"news-link-left\"><a class=\"tab-link-news\" href=\"https://finance.yahoo.com/news/1-fourteen-u-state-attorneys-010801582.html\" target=\"_blank\">UPDATE 1-Fourteen U.S. state attorneys general press Facebook on vaccine disinformation</a></div><div class=\"news-link-right\"><span style=\"color:#aa6dc0;font-size:9px\"> Reuters</span></div></div></td></tr>\n",
      "<tr><td align=\"right\" width=\"130\">08:28PM  </td><td align=\"left\"><div class=\"news-link-container\"><div class=\"news-link-left\"><a class=\"tab-link-news\" href=\"https://finance.yahoo.com/news/fourteen-u-attorneys-general-press-002803883.html\" target=\"_blank\">Fourteen U.S. state attorneys general press Facebook on vaccine disinformation</a></div><div class=\"news-link-right\"><span style=\"color:#aa6dc0;font-size:9px\"> Reuters</span></div></div></td></tr>\n",
      "<tr><td align=\"right\" width=\"130\">08:25PM  </td><td align=\"left\"><div class=\"news-link-container\"><div class=\"news-link-left\"><a class=\"tab-link-news\" href=\"https://finance.yahoo.com/news/fourteen-u-attorneys-general-press-002524637.html\" target=\"_blank\">Fourteen U.S. attorneys general press Facebook on vaccine disinformation</a></div><div class=\"news-link-right\"><span style=\"color:#aa6dc0;font-size:9px\"> Reuters</span></div></div></td></tr>\n",
      "<tr><td align=\"right\" width=\"130\">04:40PM  </td><td align=\"left\"><div class=\"news-link-container\"><div class=\"news-link-left\"><a class=\"tab-link-news\" href=\"https://www.investopedia.com/microsoft-s-msft-linkedin-to-exit-china-this-year-5205761?utm_campaign=quote-yahoo&amp;utm_source=yahoo&amp;utm_medium=referral\" target=\"_blank\">Microsoft's (MSFT) LinkedIn to Exit China This Year</a></div><div class=\"news-link-right\"><span style=\"color:#aa6dc0;font-size:9px\"> Investopedia</span></div></div></td></tr>\n",
      "<tr><td align=\"right\" width=\"130\">02:56PM  </td><td align=\"left\"><div class=\"news-link-container\"><div class=\"news-link-left\"><a class=\"tab-link-news\" href=\"https://www.marketwatch.com/story/new-bills-aim-at-apple-google-and-facebook-as-u-s-attempts-to-catch-up-to-europes-big-tech-push-11634237758?siteid=yhoof2\" target=\"_blank\">New bills aim at Apple, Google and Facebook as U.S. attempts to catch up to Europes Big Tech push</a></div><div class=\"news-link-right\"><span style=\"color:#aa6dc0;font-size:9px\"> MarketWatch</span></div></div></td></tr>\n",
      "<tr><td align=\"right\" width=\"130\">02:12PM  </td><td align=\"left\"><div class=\"news-link-container\"><div class=\"news-link-left\"><a class=\"tab-link-news\" href=\"https://www.investors.com/research/best-stocks-to-buy-now/?src=A00220\" target=\"_blank\">These Are The 5 Best Stocks To Buy And Watch Now</a></div><div class=\"news-link-right\"><span style=\"color:#aa6dc0;font-size:9px\"> Investor's Business Daily</span></div></div></td></tr>\n",
      "<tr><td align=\"right\" width=\"130\">01:29PM  </td><td align=\"left\"><div class=\"news-link-container\"><div class=\"news-link-left\"><a class=\"tab-link-news\" href=\"https://finance.yahoo.com/news/microsoft-shuts-linkedin-china-citing-143224833.html\" target=\"_blank\">Microsoft Shuts LinkedIn China, Citing Challenging Climate</a></div><div class=\"news-link-right\"><span style=\"color:#aa6dc0;font-size:9px\"> Bloomberg</span></div></div></td></tr>\n",
      "<tr><td align=\"right\" width=\"130\">01:05PM  </td><td align=\"left\"><div class=\"news-link-container\"><div class=\"news-link-left\"><a class=\"tab-link-news\" href=\"https://finance.yahoo.com/news/nigeria-flutterwave-talks-triple-valuation-170518047.html\" target=\"_blank\">Nigerias Flutterwave in Talks to Triple Valuation to $3 Billion</a></div><div class=\"news-link-right\"><span style=\"color:#aa6dc0;font-size:9px\"> Bloomberg</span></div></div></td></tr>\n",
      "<tr><td align=\"right\" width=\"130\">12:49PM  </td><td align=\"left\"><div class=\"news-link-container\"><div class=\"news-link-left\"><a class=\"tab-link-news\" href=\"https://finance.yahoo.com/news/facebook-collected-3k-hours-first-164903126.html\" target=\"_blank\">Facebook Collected 3K Hours First-Person Footage For Vital AI Project</a></div><div class=\"news-link-right\"><span style=\"color:#aa6dc0;font-size:9px\"> Benzinga</span></div></div></td></tr>\n",
      "<tr><td align=\"right\" width=\"130\">12:22PM  </td><td align=\"left\"><div class=\"news-link-container\"><div class=\"news-link-left\"><a class=\"tab-link-news\" href=\"https://finance.yahoo.com/news/senate-bill-restrict-tech-firms-090000725.html\" target=\"_blank\">Big Tech Faces New Bills on Liability and Competition in U.S.</a></div><div class=\"news-link-right\"><span style=\"color:#aa6dc0;font-size:9px\"> Bloomberg</span></div></div></td></tr>\n",
      "<tr><td align=\"right\" width=\"130\">09:34AM  </td><td align=\"left\"><div class=\"news-link-container\"><div class=\"news-link-left\"><a class=\"tab-link-news\" href=\"https://finance.yahoo.com/news/facebook-starts-ai-project-based-133405027.html\" target=\"_blank\">Facebook Starts AI Project Based on First-Person View</a></div><div class=\"news-link-right\"><span style=\"color:#aa6dc0;font-size:9px\"> Investing.com</span></div></div></td></tr>\n",
      "<tr><td align=\"right\" width=\"130\">09:08AM  </td><td align=\"left\"><div class=\"news-link-container\"><div class=\"news-link-left\"><a class=\"tab-link-news\" href=\"https://finance.yahoo.com/news/facebook-makes-internal-forums-private-130829338.html\" target=\"_blank\">Facebook makes internal forums private amid leaking scandal</a></div><div class=\"news-link-right\"><span style=\"color:#aa6dc0;font-size:9px\"> The Independent</span></div></div></td></tr>\n",
      "<tr><td align=\"right\" width=\"130\">08:04AM  </td><td align=\"left\"><div class=\"news-link-container\"><div class=\"news-link-left\"><a class=\"tab-link-news\" href=\"https://finance.yahoo.com/news/facebook-tightens-access-rules-employee-120424983.html\" target=\"_blank\">Facebook Tightens Access Rules For Employee Internal Discussion Forums: WSJ</a></div><div class=\"news-link-right\"><span style=\"color:#aa6dc0;font-size:9px\"> Benzinga</span></div></div></td></tr>\n",
      "<tr><td align=\"right\" width=\"130\">08:00AM  </td><td align=\"left\"><div class=\"news-link-container\"><div class=\"news-link-left\"><a class=\"tab-link-news\" href=\"https://www.investors.com/news/technology/google-stock-facebook-stock-estimates-hiked-ahead-of-earnings/?src=A00220\" target=\"_blank\">Earnings Estimates For Technology Stocks Rise Ahead Of Reports</a></div><div class=\"news-link-right\"><span style=\"color:#aa6dc0;font-size:9px\"> Investor's Business Daily</span></div></div></td></tr>\n",
      "<tr><td align=\"right\" width=\"130\">05:52AM  </td><td align=\"left\"><div class=\"news-link-container\"><div class=\"news-link-left\"><a class=\"tab-link-news\" href=\"https://www.fool.com/investing/2021/10/14/3-beaten-down-robinhood-stocks-that-could-bounce-b/?source=eptyholnk0000202&amp;utm_source=yahoo-host&amp;utm_medium=feed&amp;utm_campaign=article\" target=\"_blank\">3 Beaten-Down Robinhood Stocks That Could Bounce Back Big Time</a></div><div class=\"news-link-right\"><span style=\"color:#aa6dc0;font-size:9px\"> Motley Fool</span></div></div></td></tr>\n",
      "<tr><td align=\"right\" style=\"white-space:nowrap\" width=\"130\">Oct-13-21 08:27PM  </td><td align=\"left\"><div class=\"news-link-container\"><div class=\"news-link-left\"><a class=\"tab-link-news\" href=\"https://finance.yahoo.com/news/early-facebook-investor-reid-hoffman-221129245.html\" target=\"_blank\">One of Facebooks Earliest Investors Says People Have Lost Trust in Company</a></div><div class=\"news-link-right\"><span style=\"color:#aa6dc0;font-size:9px\"> Bloomberg</span></div></div></td></tr>\n",
      "<tr><td align=\"right\" width=\"130\">06:27PM  </td><td align=\"left\"><div class=\"news-link-container\"><div class=\"news-link-left\"><a class=\"tab-link-news\" href=\"https://www.marketwatch.com/story/facebook-expands-harassment-policy-to-protect-public-figures-01634164020?siteid=yhoof2\" target=\"_blank\">Facebook expands harassment policy to protect public figures</a></div><div class=\"news-link-right\"><span style=\"color:#aa6dc0;font-size:9px\"> MarketWatch</span></div></div></td></tr>\n",
      "<tr><td align=\"right\" width=\"130\">02:59PM  </td><td align=\"left\"><div class=\"news-link-container\"><div class=\"news-link-left\"><a class=\"tab-link-news\" href=\"https://www.fool.com/investing/2021/10/13/what-pepsico-is-doing-right/?source=eptyholnk0000202&amp;utm_source=yahoo-host&amp;utm_medium=feed&amp;utm_campaign=article\" target=\"_blank\">What PepsiCo Is Doing Right</a></div><div class=\"news-link-right\"><span style=\"color:#aa6dc0;font-size:9px\"> Motley Fool</span></div></div></td></tr>\n",
      "<tr><td align=\"right\" width=\"130\">02:50PM  </td><td align=\"left\"><div class=\"news-link-container\"><div class=\"news-link-left\"><a class=\"tab-link-news\" href=\"https://finance.yahoo.com/news/amazon-third-party-sellers-spur-185008123.html\" target=\"_blank\">Amazon, Third-Party Sellers Spur Fake Goods, Group Says</a></div><div class=\"news-link-right\"><span style=\"color:#aa6dc0;font-size:9px\"> Bloomberg</span></div></div></td></tr>\n",
      "<tr><td align=\"right\" width=\"130\">01:53PM  </td><td align=\"left\"><div class=\"news-link-container\"><div class=\"news-link-left\"><a class=\"tab-link-news\" href=\"https://finance.yahoo.com/news/facebook-elevates-nicola-mendelsohn-key-175304033.html\" target=\"_blank\">Facebook Elevates Nicola Mendelsohn to Key Advertising Job</a></div><div class=\"news-link-right\"><span style=\"color:#aa6dc0;font-size:9px\"> Bloomberg</span></div></div></td></tr>\n",
      "<tr><td align=\"right\" width=\"130\">12:49PM  </td><td align=\"left\"><div class=\"news-link-container\"><div class=\"news-link-left\"><a class=\"tab-link-news\" href=\"https://finance.yahoo.com/news/microsoft-agrees-human-rights-review-143023491.html\" target=\"_blank\">Microsoft Agrees to Human Rights Review in Deals With Law Enforcement, Government</a></div><div class=\"news-link-right\"><span style=\"color:#aa6dc0;font-size:9px\"> Bloomberg</span></div></div></td></tr>\n",
      "<tr><td align=\"right\" width=\"130\">11:55AM  </td><td align=\"left\"><div class=\"news-link-container\"><div class=\"news-link-left\"><a class=\"tab-link-news\" href=\"https://finance.yahoo.com/news/facebook-says-start-removing-sexualized-155526714.html\" target=\"_blank\">Facebook Says It Will Start Removing Sexualized Attacks on Celebrities as Part of Anti-Harassment Policy Update</a></div><div class=\"news-link-right\"><span style=\"color:#aa6dc0;font-size:9px\"> Variety</span></div></div></td></tr>\n",
      "<tr><td align=\"right\" width=\"130\">11:02AM  </td><td align=\"left\"><div class=\"news-link-container\"><div class=\"news-link-left\"><a class=\"tab-link-news\" href=\"https://finance.yahoo.com/news/exclusive-facebook-change-rules-attacking-150229793.html\" target=\"_blank\">Exclusive-Facebook to change rules on attacking public figures on its platforms</a></div><div class=\"news-link-right\"><span style=\"color:#aa6dc0;font-size:9px\"> Reuters</span></div></div></td></tr>\n",
      "<tr><td align=\"right\" width=\"130\">09:21AM  </td><td align=\"left\"><div class=\"news-link-container\"><div class=\"news-link-left\"><a class=\"tab-link-news\" href=\"https://finance.yahoo.com/news/1-irish-regulator-proposes-36-132119923.html\" target=\"_blank\">UPDATE 1-Irish regulator proposes 36 mln euro Facebook privacy fine - document</a></div><div class=\"news-link-right\"><span style=\"color:#aa6dc0;font-size:9px\"> Reuters</span></div></div></td></tr>\n",
      "<tr><td align=\"right\" width=\"130\">08:47AM  </td><td align=\"left\"><div class=\"news-link-container\"><div class=\"news-link-left\"><a class=\"tab-link-news\" href=\"https://finance.yahoo.com/news/facebook-lazada-told-stop-philippines-100937049.html\" target=\"_blank\">Facebook, Lazada Told to Stop Text-Blaster Sales in Philippines</a></div><div class=\"news-link-right\"><span style=\"color:#aa6dc0;font-size:9px\"> Bloomberg</span></div></div></td></tr>\n",
      "<tr><td align=\"right\" width=\"130\">08:14AM  </td><td align=\"left\"><div class=\"news-link-container\"><div class=\"news-link-left\"><a class=\"tab-link-news\" href=\"https://finance.yahoo.com/news/irish-regulator-proposes-36-million-121414536.html\" target=\"_blank\">Irish regulator proposes 36 million euro Facebook privacy fine - document</a></div><div class=\"news-link-right\"><span style=\"color:#aa6dc0;font-size:9px\"> Reuters</span></div></div></td></tr>\n",
      "<tr><td align=\"right\" width=\"130\">08:12AM  </td><td align=\"left\"><div class=\"news-link-container\"><div class=\"news-link-left\"><a class=\"tab-link-news\" href=\"https://finance.yahoo.com/news/irish-regulator-proposes-36-mln-121257527.html\" target=\"_blank\">Irish regulator proposes 36 mln euro Facebook privacy fine -document</a></div><div class=\"news-link-right\"><span style=\"color:#aa6dc0;font-size:9px\"> Reuters</span></div></div></td></tr>\n",
      "<tr><td align=\"right\" width=\"130\">07:20AM  </td><td align=\"left\"><div class=\"news-link-container\"><div class=\"news-link-left\"><a class=\"tab-link-news\" href=\"https://www.fool.com/investing/2021/10/13/10-top-tech-stocks-to-buy-for-the-long-haul/?source=eptyholnk0000202&amp;utm_source=yahoo-host&amp;utm_medium=feed&amp;utm_campaign=article\" target=\"_blank\">5 Top Tech Stocks to Buy for the Long Haul</a></div><div class=\"news-link-right\"><span style=\"color:#aa6dc0;font-size:9px\"> Motley Fool</span></div></div></td></tr>\n",
      "<tr><td align=\"right\" width=\"130\">05:50AM  </td><td align=\"left\"><div class=\"news-link-container\"><div class=\"news-link-left\"><a class=\"tab-link-news\" href=\"https://finance.yahoo.com/news/htc-upcoming-vive-flow-vr-095042322.html\" target=\"_blank\">HTCs upcoming Vive Flow VR headset leaks, revealing bug-eyed design for meditation and media consumption</a></div><div class=\"news-link-right\"><span style=\"color:#aa6dc0;font-size:9px\"> The Independent</span></div></div></td></tr>\n",
      "<tr><td align=\"right\" width=\"130\">05:00AM  </td><td align=\"left\"><div class=\"news-link-container\"><div class=\"news-link-left\"><a class=\"tab-link-news\" href=\"https://www.barrons.com/articles/the-troubles-with-data-markets-go-far-beyond-facebook-51634070249?siteid=yhoof2\" target=\"_blank\">The Troubles with Data Markets Go Far Beyond Facebook</a></div><div class=\"news-link-right\"><span style=\"color:#aa6dc0;font-size:9px\"> Barrons.com</span></div></div></td></tr>\n",
      "<tr><td align=\"right\" style=\"white-space:nowrap\" width=\"130\">Oct-12-21 08:29PM  </td><td align=\"left\"><div class=\"news-link-container\"><div class=\"news-link-left\"><a class=\"tab-link-news\" href=\"https://finance.yahoo.com/news/apple-balancing-act-china-gets-160000840.html\" target=\"_blank\">Apples Balancing Act in China Gets Trickier During Xis Crackdown</a></div><div class=\"news-link-right\"><span style=\"color:#aa6dc0;font-size:9px\"> Bloomberg</span></div></div></td></tr>\n",
      "<tr><td align=\"right\" width=\"130\">05:45PM  </td><td align=\"left\"><div class=\"news-link-container\"><div class=\"news-link-left\"><a class=\"tab-link-news\" href=\"https://finance.yahoo.com/news/facebook-fb-dips-more-broader-214509081.html\" target=\"_blank\">Facebook (FB) Dips More Than Broader Markets: What You Should Know</a></div><div class=\"news-link-right\"><span style=\"color:#aa6dc0;font-size:9px\"> Zacks</span></div></div></td></tr>\n",
      "<tr><td align=\"right\" width=\"130\">05:22PM  </td><td align=\"left\"><div class=\"news-link-container\"><div class=\"news-link-left\"><a class=\"tab-link-news\" href=\"https://finance.yahoo.com/news/1-u-senator-asks-facebook-212256579.html\" target=\"_blank\">UPDATE 2-U.S. senator asks Facebook CEO to retain documents linked to testimony</a></div><div class=\"news-link-right\"><span style=\"color:#aa6dc0;font-size:9px\"> Reuters</span></div></div></td></tr>\n",
      "<tr><td align=\"right\" width=\"130\">05:03PM  </td><td align=\"left\"><div class=\"news-link-container\"><div class=\"news-link-left\"><a class=\"tab-link-news\" href=\"https://www.marketwatch.com/story/slain-reporters-family-takes-on-facebook-over-violent-video-01634072627?siteid=yhoof2\" target=\"_blank\">Slain reporters family takes on Facebook over violent video</a></div><div class=\"news-link-right\"><span style=\"color:#aa6dc0;font-size:9px\"> MarketWatch</span></div></div></td></tr>\n",
      "<tr><td align=\"right\" width=\"130\">04:52PM  </td><td align=\"left\"><div class=\"news-link-container\"><div class=\"news-link-left\"><a class=\"tab-link-news\" href=\"https://finance.yahoo.com/news/u-senate-democrat-asks-facebook-205230999.html\" target=\"_blank\">U.S. senator asks Facebook CEO to retain documents linked to testimony</a></div><div class=\"news-link-right\"><span style=\"color:#aa6dc0;font-size:9px\"> Reuters</span></div></div></td></tr>\n",
      "<tr><td align=\"right\" width=\"130\">04:24PM  </td><td align=\"left\"><div class=\"news-link-container\"><div class=\"news-link-left\"><a class=\"tab-link-news\" href=\"https://finance.yahoo.com/news/michael-burrys-mother-crashes-warning-194300321.html\" target=\"_blank\">Michael Burry's 'mother of all crashes' warning is still in play  but here are 3 stocks he's bullish on</a></div><div class=\"news-link-right\"><span style=\"color:#aa6dc0;font-size:9px\"> MoneyWise</span></div></div></td></tr>\n",
      "<tr><td align=\"right\" width=\"130\">04:04PM  </td><td align=\"left\"><div class=\"news-link-container\"><div class=\"news-link-left\"><a class=\"tab-link-news\" href=\"https://www.investors.com/news/technology/facebook-stock-falls-as-another-whistleblower-emerges/?src=A00220\" target=\"_blank\">Another Whistleblower Steps Forward To Accuse Facebook Of Abuses</a></div><div class=\"news-link-right\"><span style=\"color:#aa6dc0;font-size:9px\"> Investor's Business Daily</span></div></div></td></tr>\n",
      "<tr><td align=\"right\" width=\"130\">02:55PM  </td><td align=\"left\"><div class=\"news-link-container\"><div class=\"news-link-left\"><a class=\"tab-link-news\" href=\"https://finance.yahoo.com/video/investors-fasten-seat-belts-earnings-185514822.html\" target=\"_blank\">Investors should fasten their seat belts this earnings season: Wall Street Alliance Group Partner</a></div><div class=\"news-link-right\"><span style=\"color:#aa6dc0;font-size:9px\"> Yahoo Finance Video</span></div></div></td></tr>\n",
      "<tr><td align=\"right\" width=\"130\">11:48AM  </td><td align=\"left\"><div class=\"news-link-container\"><div class=\"news-link-left\"><a class=\"tab-link-news\" href=\"https://finance.yahoo.com/news/facebook-alert-bragar-eagel-squire-154800781.html\" target=\"_blank\">FACEBOOK ALERT: Bragar Eagel &amp; Squire, P.C. is Investigating Facebook, Inc. on Behalf of Facebook Stockholders and Encourages Investors to Contact the Firm</a></div><div class=\"news-link-right\"><span style=\"color:#aa6dc0;font-size:9px\"> Business Wire</span></div></div></td></tr>\n",
      "<tr><td align=\"right\" width=\"130\">11:22AM  </td><td align=\"left\"><div class=\"news-link-container\"><div class=\"news-link-left\"><a class=\"tab-link-news\" href=\"https://www.wsj.com/articles/facebook-claims-test-secs-reach-11634040180?mod=itp_wsj\" target=\"_blank\">Facebook Whistleblowers Claims Test SECs Reach</a></div><div class=\"news-link-right\"><span style=\"color:#aa6dc0;font-size:9px\"> The Wall Street Journal</span></div></div></td></tr>\n",
      "<tr><td align=\"right\" width=\"130\">10:46AM  </td><td align=\"left\"><div class=\"news-link-container\"><div class=\"news-link-left\"><a class=\"tab-link-news\" href=\"https://finance.yahoo.com/news/second-facebook-whistleblower-agrees-testify-144655188.html\" target=\"_blank\">Second Facebook Whistleblower Agrees To Testify Before Senate</a></div><div class=\"news-link-right\"><span style=\"color:#aa6dc0;font-size:9px\"> Benzinga</span></div></div></td></tr>\n",
      "<tr><td align=\"right\" width=\"130\">09:06AM  </td><td align=\"left\"><div class=\"news-link-container\"><div class=\"news-link-left\"><a class=\"tab-link-news\" href=\"https://www.fool.com/investing/2021/10/12/facebook-earnings-3-metrics-to-watch/?source=eptyholnk0000202&amp;utm_source=yahoo-host&amp;utm_medium=feed&amp;utm_campaign=article\" target=\"_blank\">Facebook Earnings: 3 Metrics to Watch</a></div><div class=\"news-link-right\"><span style=\"color:#aa6dc0;font-size:9px\"> Motley Fool</span></div></div></td></tr>\n",
      "<tr><td align=\"right\" width=\"130\">07:00AM  </td><td align=\"left\"><div class=\"news-link-container\"><div class=\"news-link-left\"><a class=\"tab-link-news\" href=\"https://qz.com/2072486/facebook-is-asking-teens-to-use-instagram-more-responsibly/?utm_source=YPL\" target=\"_blank\">Facebook is asking teens to use Instagram more responsibly</a></div><div class=\"news-link-right\"><span style=\"color:#aa6dc0;font-size:9px\"> Quartz</span></div></div></td></tr>\n",
      "<tr><td align=\"right\" width=\"130\">06:10AM  </td><td align=\"left\"><div class=\"news-link-container\"><div class=\"news-link-left\"><a class=\"tab-link-news\" href=\"https://www.fool.com/investing/2021/10/12/facebook-whistleblower-time-to-sell/?source=eptyholnk0000202&amp;utm_source=yahoo-host&amp;utm_medium=feed&amp;utm_campaign=article\" target=\"_blank\">Facebook Whistleblower: Time to Sell the Stock?</a></div><div class=\"news-link-right\"><span style=\"color:#aa6dc0;font-size:9px\"> Motley Fool</span></div></div></td></tr>\n",
      "<tr><td align=\"right\" width=\"130\">05:28AM  </td><td align=\"left\"><div class=\"news-link-container\"><div class=\"news-link-left\"><a class=\"tab-link-news\" href=\"https://finance.yahoo.com/news/facebook-repeatedly-lied-oversight-board-092818418.html\" target=\"_blank\">Facebook repeatedly lied to Oversight Board about secret VIP list that let users break rules, whistleblower says</a></div><div class=\"news-link-right\"><span style=\"color:#aa6dc0;font-size:9px\"> The Independent</span></div></div></td></tr>\n",
      "<tr><td align=\"right\" style=\"white-space:nowrap\" width=\"130\">Oct-11-21 06:14PM  </td><td align=\"left\"><div class=\"news-link-container\"><div class=\"news-link-left\"><a class=\"tab-link-news\" href=\"https://finance.yahoo.com/news/1-instagram-testing-feature-notify-221412710.html\" target=\"_blank\">UPDATE 1-Instagram testing feature to notify users of outage or issue inside app</a></div><div class=\"news-link-right\"><span style=\"color:#aa6dc0;font-size:9px\"> Reuters</span></div></div></td></tr>\n",
      "<tr><td align=\"right\" width=\"130\">05:53PM  </td><td align=\"left\"><div class=\"news-link-container\"><div class=\"news-link-left\"><a class=\"tab-link-news\" href=\"https://www.investopedia.com/acquisitions-and-antitrust-scrutiny-for-big-tech-firms-5204875?utm_campaign=quote-yahoo&amp;utm_source=yahoo&amp;utm_medium=referral\" target=\"_blank\">Acquisitions and Antitrust Scrutiny for Big Tech Firms</a></div><div class=\"news-link-right\"><span style=\"color:#aa6dc0;font-size:9px\"> Investopedia</span></div></div></td></tr>\n",
      "<tr><td align=\"right\" width=\"130\">05:00PM  </td><td align=\"left\"><div class=\"news-link-container\"><div class=\"news-link-left\"><a class=\"tab-link-news\" href=\"https://finance.yahoo.com/news/facebook-changes-way-measures-accounts-210000348.html\" target=\"_blank\">Facebook Changes the Way It Measures Accounts for Advertisers</a></div><div class=\"news-link-right\"><span style=\"color:#aa6dc0;font-size:9px\"> Bloomberg</span></div></div></td></tr>\n",
      "<tr><td align=\"right\" width=\"130\">02:15PM  </td><td align=\"left\"><div class=\"news-link-container\"><div class=\"news-link-left\"><a class=\"tab-link-news\" href=\"https://finance.yahoo.com/news/facebook-commits-adding-safety-features-181514259.html\" target=\"_blank\">Facebook Commits To Adding New Safety Features For Teens</a></div><div class=\"news-link-right\"><span style=\"color:#aa6dc0;font-size:9px\"> FX Empire</span></div></div></td></tr>\n",
      "<tr><td align=\"right\" width=\"130\">02:00PM  </td><td align=\"left\"><div class=\"news-link-container\"><div class=\"news-link-left\"><a class=\"tab-link-news\" href=\"https://finance.yahoo.com/news/facebook-removes-iranian-account-network-180000485.html\" target=\"_blank\">Facebook Removes Iranian Account Network Trying to Sway Politics</a></div><div class=\"news-link-right\"><span style=\"color:#aa6dc0;font-size:9px\"> Bloomberg</span></div></div></td></tr>\n",
      "<tr><td align=\"right\" width=\"130\">01:39PM  </td><td align=\"left\"><div class=\"news-link-container\"><div class=\"news-link-left\"><a class=\"tab-link-news\" href=\"https://www.marketwatch.com/story/facebook-oversight-board-to-meet-with-whistleblower-2021-10-11?siteid=yhoof2\" target=\"_blank\">Facebook Oversight Board to meet with whistleblower</a></div><div class=\"news-link-right\"><span style=\"color:#aa6dc0;font-size:9px\"> MarketWatch</span></div></div></td></tr>\n",
      "<tr><td align=\"right\" width=\"130\">12:44PM  </td><td align=\"left\"><div class=\"news-link-container\"><div class=\"news-link-left\"><a class=\"tab-link-news\" href=\"https://www.thestreet.com/investing/facebook-oversight-board-set-to-meet-frances-haugen-whistleblower?puc=yahoo&amp;cm_ven=YAHOO\" target=\"_blank\">Facebook Oversight Board Plans Meeting With Whistleblower Haugen</a></div><div class=\"news-link-right\"><span style=\"color:#aa6dc0;font-size:9px\"> TheStreet.com</span></div></div></td></tr>\n",
      "<tr><td align=\"right\" width=\"130\">11:44AM  </td><td align=\"left\"><div class=\"news-link-container\"><div class=\"news-link-left\"><a class=\"tab-link-news\" href=\"https://finance.yahoo.com/video/facebook-says-launching-safety-features-154416951.html\" target=\"_blank\">Facebook says it's launching new safety features for kids</a></div><div class=\"news-link-right\"><span style=\"color:#aa6dc0;font-size:9px\"> Yahoo Finance Video</span></div></div></td></tr>\n",
      "<tr><td align=\"right\" width=\"130\">10:45AM  </td><td align=\"left\"><div class=\"news-link-container\"><div class=\"news-link-left\"><a class=\"tab-link-news\" href=\"https://finance.yahoo.com/news/bronstein-gewirtz-grossman-llc-notifies-144500139.html\" target=\"_blank\">Bronstein, Gewirtz &amp; Grossman, LLC Notifies Shareholders of Facebook, Inc. (FB) Investigation</a></div><div class=\"news-link-right\"><span style=\"color:#aa6dc0;font-size:9px\"> ACCESSWIRE</span></div></div></td></tr>\n",
      "<tr><td align=\"right\" width=\"130\">08:43AM  </td><td align=\"left\"><div class=\"news-link-container\"><div class=\"news-link-left\"><a class=\"tab-link-news\" href=\"https://www.barrons.com/articles/facebook-faces-legal-risk-big-tobacco-oxycontin-51633956119?siteid=yhoof2\" target=\"_blank\">Facebook Faces Legal Risk Similar to Big Tobacco or OxyContin, Analyst Says</a></div><div class=\"news-link-right\"><span style=\"color:#aa6dc0;font-size:9px\"> Barrons.com</span></div></div></td></tr>\n",
      "<tr><td align=\"right\" width=\"130\">08:36AM  </td><td align=\"left\"><div class=\"news-link-container\"><div class=\"news-link-left\"><a class=\"tab-link-news\" href=\"https://finance.yahoo.com/news/facebook-encourage-users-break-instagram-123654051.html\" target=\"_blank\">Facebook update will encourage Insta users to take a break, says Clegg</a></div><div class=\"news-link-right\"><span style=\"color:#aa6dc0;font-size:9px\"> The Telegraph</span></div></div></td></tr>\n",
      "<tr><td align=\"right\" width=\"130\">07:59AM  </td><td align=\"left\"><div class=\"news-link-container\"><div class=\"news-link-left\"><a class=\"tab-link-news\" href=\"https://www.barrons.com/articles/facebook-stock-price-sec-investigation-51633914359?siteid=yhoof2\" target=\"_blank\">Facebooks Next Problem Could Be an SEC Investigation</a></div><div class=\"news-link-right\"><span style=\"color:#aa6dc0;font-size:9px\"> Barrons.com</span></div></div></td></tr>\n",
      "<tr><td align=\"right\" width=\"130\">06:30AM  </td><td align=\"left\"><div class=\"news-link-container\"><div class=\"news-link-left\"><a class=\"tab-link-news\" href=\"https://www.barrons.com/articles/things-to-know-today-51633942624?siteid=yhoof2\" target=\"_blank\">Sentiment Toward China Is Changing, as Tech Names Rally After Major Fine</a></div><div class=\"news-link-right\"><span style=\"color:#aa6dc0;font-size:9px\"> Barrons.com</span></div></div></td></tr>\n",
      "<tr><td align=\"right\" width=\"130\">06:30AM  </td><td align=\"left\"><div class=\"news-link-container\"><div class=\"news-link-left\"><a class=\"tab-link-news\" href=\"https://www.barrons.com/articles/facebook-stock-sec-51633914359?siteid=yhoof2\" target=\"_blank\">Facebook Could Face an SEC Problem Next. Heres What We Know.</a></div><div class=\"news-link-right\"><span style=\"color:#aa6dc0;font-size:9px\"> Barrons.com</span></div></div></td></tr>\n",
      "<tr><td align=\"right\" width=\"130\">06:16AM  </td><td align=\"left\"><div class=\"news-link-container\"><div class=\"news-link-left\"><a class=\"tab-link-news\" href=\"https://finance.yahoo.com/news/facebook-nudge-teens-off-instagram-101652507.html\" target=\"_blank\">Facebook update will nudge teens off Instagram if they look at harmful content amid child protection scandal</a></div><div class=\"news-link-right\"><span style=\"color:#aa6dc0;font-size:9px\"> The Independent</span></div></div></td></tr>\n",
      "<tr><td align=\"right\" width=\"130\">12:43AM  </td><td align=\"left\"><div class=\"news-link-container\"><div class=\"news-link-left\"><a class=\"tab-link-news\" href=\"https://finance.yahoo.com/news/1-facebook-backed-group-launches-044342223.html\" target=\"_blank\">UPDATE 2-Facebook-backed group launches misinformation adjudication panel in Australia</a></div><div class=\"news-link-right\"><span style=\"color:#aa6dc0;font-size:9px\"> Reuters</span></div></div></td></tr>\n",
      "<tr><td align=\"right\" style=\"white-space:nowrap\" width=\"130\">Oct-10-21 11:03PM  </td><td align=\"left\"><div class=\"news-link-container\"><div class=\"news-link-left\"><a class=\"tab-link-news\" href=\"https://www.thestreet.com/investing/cramer-facebook-needs-to-prove-it-cares-about-safety?puc=yahoo&amp;cm_ven=YAHOO\" target=\"_blank\">Cramer: Facebook Needs to Prove It Cares About Safety</a></div><div class=\"news-link-right\"><span style=\"color:#aa6dc0;font-size:9px\"> TheStreet.com</span></div></div></td></tr>\n",
      "<tr><td align=\"right\" width=\"130\">09:24PM  </td><td align=\"left\"><div class=\"news-link-container\"><div class=\"news-link-left\"><a class=\"tab-link-news\" href=\"https://www.barrons.com/articles/teens-facebook-instagram-tiktok-snapchat-51633736150?siteid=yhoof2\" target=\"_blank\">Which Social-Media Networks Do Teens Like the Most? Not Facebook and Twitter.</a></div><div class=\"news-link-right\"><span style=\"color:#aa6dc0;font-size:9px\"> Barrons.com</span></div></div></td></tr>\n",
      "<tr><td align=\"right\" width=\"130\">08:59PM  </td><td align=\"left\"><div class=\"news-link-container\"><div class=\"news-link-left\"><a class=\"tab-link-news\" href=\"https://finance.yahoo.com/news/facebook-backed-group-launches-misinformation-005959001.html\" target=\"_blank\">Facebook-backed group launches misinformation adjudication panel in Australia</a></div><div class=\"news-link-right\"><span style=\"color:#aa6dc0;font-size:9px\"> Reuters</span></div></div></td></tr>\n",
      "<tr><td align=\"right\" width=\"130\">08:52PM  </td><td align=\"left\"><div class=\"news-link-container\"><div class=\"news-link-left\"><a class=\"tab-link-news\" href=\"https://finance.yahoo.com/news/facebook-backed-group-launches-misinformation-005236794.html\" target=\"_blank\">Facebook-backed group launches misinformation adjudication panel in Australia</a></div><div class=\"news-link-right\"><span style=\"color:#aa6dc0;font-size:9px\"> Reuters</span></div></div></td></tr>\n",
      "<tr><td align=\"right\" width=\"130\">08:25PM  </td><td align=\"left\"><div class=\"news-link-container\"><div class=\"news-link-left\"><a class=\"tab-link-news\" href=\"https://www.barrons.com/articles/facebook-regulation-51633887947?siteid=yhoof2\" target=\"_blank\">Social Media Companies Should Be Accountable For Policies, Facebook Exec Says</a></div><div class=\"news-link-right\"><span style=\"color:#aa6dc0;font-size:9px\"> Barrons.com</span></div></div></td></tr>\n",
      "<tr><td align=\"right\" width=\"130\">02:13PM  </td><td align=\"left\"><div class=\"news-link-container\"><div class=\"news-link-left\"><a class=\"tab-link-news\" href=\"https://www.barrons.com/articles/live-updates-51633887947?siteid=yhoof2\" target=\"_blank\">Social Media Companies Should Be Accountable For Policies, Facebook Exec Says</a></div><div class=\"news-link-right\"><span style=\"color:#aa6dc0;font-size:9px\"> Barrons.com</span></div></div></td></tr>\n",
      "<tr><td align=\"right\" width=\"130\">01:12PM  </td><td align=\"left\"><div class=\"news-link-container\"><div class=\"news-link-left\"><a class=\"tab-link-news\" href=\"https://finance.yahoo.com/news/facebook-try-nudge-teens-away-171252076.html\" target=\"_blank\">Facebook will try to 'nudge' teens away from harmful content</a></div><div class=\"news-link-right\"><span style=\"color:#aa6dc0;font-size:9px\"> Reuters</span></div></div></td></tr>\n",
      "<tr><td align=\"right\" width=\"130\">10:46AM  </td><td align=\"left\"><div class=\"news-link-container\"><div class=\"news-link-left\"><a class=\"tab-link-news\" href=\"https://finance.yahoo.com/news/facebook-willing-open-algorithms-regulators-144628180.html\" target=\"_blank\">Facebook Is Willing to Open Algorithms to Regulators, Clegg Says</a></div><div class=\"news-link-right\"><span style=\"color:#aa6dc0;font-size:9px\"> Bloomberg</span></div></div></td></tr>\n",
      "<tr><td align=\"right\" width=\"130\">08:00AM  </td><td align=\"left\"><div class=\"news-link-container\"><div class=\"news-link-left\"><a class=\"tab-link-news\" href=\"https://www.fool.com/investing/2021/10/10/why-facebook-is-still-bulletproof/?source=eptyholnk0000202&amp;utm_source=yahoo-host&amp;utm_medium=feed&amp;utm_campaign=article\" target=\"_blank\">Why Facebook Is Still Bulletproof</a></div><div class=\"news-link-right\"><span style=\"color:#aa6dc0;font-size:9px\"> Motley Fool</span></div></div></td></tr>\n",
      "<tr><td align=\"right\" style=\"white-space:nowrap\" width=\"130\">Oct-09-21 05:18PM  </td><td align=\"left\"><div class=\"news-link-container\"><div class=\"news-link-left\"><a class=\"tab-link-news\" href=\"https://www.barrons.com/articles/tech-stocks-facebook-apple-amazon-microsoft-alphabet-51633814273?siteid=yhoof2\" target=\"_blank\">Big Techs Stocks Have Bounced Back. But Theyre Not Out of The Woods.</a></div><div class=\"news-link-right\"><span style=\"color:#aa6dc0;font-size:9px\"> Barrons.com</span></div></div></td></tr>\n",
      "<tr><td align=\"right\" width=\"130\">05:17PM  </td><td align=\"left\"><div class=\"news-link-container\"><div class=\"news-link-left\"><a class=\"tab-link-news\" href=\"https://finance.yahoo.com/news/facebook-nasdaq-fb-zigging-where-211712087.html\" target=\"_blank\">Facebook (NASDAQ:FB) is Zigging Where it Should be Zagging</a></div><div class=\"news-link-right\"><span style=\"color:#aa6dc0;font-size:9px\"> Simply Wall St.</span></div></div></td></tr>\n",
      "<tr><td align=\"right\" width=\"130\">09:00AM  </td><td align=\"left\"><div class=\"news-link-container\"><div class=\"news-link-left\"><a class=\"tab-link-news\" href=\"https://www.fool.com/investing/2021/10/09/why-facebook-is-a-better-buy-than-apple/?source=eptyholnk0000202&amp;utm_source=yahoo-host&amp;utm_medium=feed&amp;utm_campaign=article\" target=\"_blank\">Why Facebook Is a Better Buy Than Apple</a></div><div class=\"news-link-right\"><span style=\"color:#aa6dc0;font-size:9px\"> Motley Fool</span></div></div></td></tr>\n",
      "<tr><td align=\"right\" width=\"130\">08:34AM  </td><td align=\"left\"><div class=\"news-link-container\"><div class=\"news-link-left\"><a class=\"tab-link-news\" href=\"https://finance.yahoo.com/news/1-philippine-nobel-winner-ressa-123456874.html\" target=\"_blank\">UPDATE 1-Philippine Nobel winner Ressa calls Facebook 'biased against facts'</a></div><div class=\"news-link-right\"><span style=\"color:#aa6dc0;font-size:9px\"> Reuters</span></div></div></td></tr>\n",
      "<tr><td align=\"right\" width=\"130\">05:12AM  </td><td align=\"left\"><div class=\"news-link-container\"><div class=\"news-link-left\"><a class=\"tab-link-news\" href=\"https://finance.yahoo.com/news/philippine-nobel-winner-ressa-calls-091201331.html\" target=\"_blank\">Philippine Nobel winner Ressa calls Facebook \"biased against facts\"</a></div><div class=\"news-link-right\"><span style=\"color:#aa6dc0;font-size:9px\"> Reuters</span></div></div></td></tr>\n",
      "<tr><td align=\"right\" style=\"white-space:nowrap\" width=\"130\">Oct-08-21 07:40PM  </td><td align=\"left\"><div class=\"news-link-container\"><div class=\"news-link-left\"><a class=\"tab-link-news\" href=\"https://www.wsj.com/articles/southwest-airlines-facebook-pfizer-stocks-that-defined-the-week-11633736453?mod=itp_wsj\" target=\"_blank\">Southwest Airlines, Facebook, Pfizer: Stocks That Defined the Week</a></div><div class=\"news-link-right\"><span style=\"color:#aa6dc0;font-size:9px\"> The Wall Street Journal</span></div></div></td></tr>\n",
      "<tr><td align=\"right\" width=\"130\">07:38PM  </td><td align=\"left\"><div class=\"news-link-container\"><div class=\"news-link-left\"><a class=\"tab-link-news\" href=\"https://www.barrons.com/articles/teens-like-snapchat-and-tiktok-facebook-except-for-instagram-not-so-much-51633736282?siteid=yhoof2\" target=\"_blank\">Teens Like Snapchat and TikTok. Facebook? Except for Instagram, Not So Much.</a></div><div class=\"news-link-right\"><span style=\"color:#aa6dc0;font-size:9px\"> Barrons.com</span></div></div></td></tr>\n",
      "<tr><td align=\"right\" width=\"130\">06:13PM  </td><td align=\"left\"><div class=\"news-link-container\"><div class=\"news-link-left\"><a class=\"tab-link-news\" href=\"https://finance.yahoo.com/news/facebook-apologizes-second-outage-week-221335502.html\" target=\"_blank\">Facebook apologizes for second outage in a week, services back up</a></div><div class=\"news-link-right\"><span style=\"color:#aa6dc0;font-size:9px\"> FX Empire</span></div></div></td></tr>\n",
      "<tr><td align=\"right\" width=\"130\">05:34PM  </td><td align=\"left\"><div class=\"news-link-container\"><div class=\"news-link-left\"><a class=\"tab-link-news\" href=\"https://finance.yahoo.com/news/facebook-instagram-users-report-having-191702871.html\" target=\"_blank\">Facebook, Instagram Back to Normal Following Another Outage</a></div><div class=\"news-link-right\"><span style=\"color:#aa6dc0;font-size:9px\"> Bloomberg</span></div></div></td></tr>\n",
      "<tr><td align=\"right\" width=\"130\">05:25PM  </td><td align=\"left\"><div class=\"news-link-container\"><div class=\"news-link-left\"><a class=\"tab-link-news\" href=\"https://finance.yahoo.com/news/google-tests-ways-showcase-breaking-212533612.html\" target=\"_blank\">Google Tests Ways to Showcase Breaking News in Twitter-Like Move</a></div><div class=\"news-link-right\"><span style=\"color:#aa6dc0;font-size:9px\"> Bloomberg</span></div></div></td></tr>\n",
      "<tr><td align=\"right\" width=\"130\">04:43PM  </td><td align=\"left\"><div class=\"news-link-container\"><div class=\"news-link-left\"><a class=\"tab-link-news\" href=\"https://www.investors.com/news/stock-market-rally-attempt-underway-faces-resistance-oil-prices-treasury-yields-hits-highs/?src=A00220\" target=\"_blank\">Stock Market Rally Attempt Faces Resistance; Oil Prices, Treasury Yields Hit Highs</a></div><div class=\"news-link-right\"><span style=\"color:#aa6dc0;font-size:9px\"> Investor's Business Daily</span></div></div></td></tr>\n",
      "<tr><td align=\"right\" width=\"130\">04:43PM  </td><td align=\"left\"><div class=\"news-link-container\"><div class=\"news-link-left\"><a class=\"tab-link-news\" href=\"https://finance.yahoo.com/news/facebook-forced-apologise-instagram-crashes-204357388.html\" target=\"_blank\">Fury as Facebook and Instagram down for second time in a week</a></div><div class=\"news-link-right\"><span style=\"color:#aa6dc0;font-size:9px\"> The Telegraph</span></div></div></td></tr>\n",
      "<tr><td align=\"right\" width=\"130\">04:42PM  </td><td align=\"left\"><div class=\"news-link-container\"><div class=\"news-link-left\"><a class=\"tab-link-news\" href=\"https://www.barrons.com/articles/facebook-stock-regulation-51633725659?siteid=yhoof2\" target=\"_blank\">Facebooks Problems Have Grown. The Will to Regulate It Hasnt.</a></div><div class=\"news-link-right\"><span style=\"color:#aa6dc0;font-size:9px\"> Barrons.com</span></div></div></td></tr>\n",
      "<tr><td align=\"right\" width=\"130\">04:29PM  </td><td align=\"left\"><div class=\"news-link-container\"><div class=\"news-link-left\"><a class=\"tab-link-news\" href=\"https://finance.yahoo.com/news/facebook-set-longest-streak-weekly-135340139.html\" target=\"_blank\">Facebook Left Out of Big Tech Rebound in 4th Week of Losses</a></div><div class=\"news-link-right\"><span style=\"color:#aa6dc0;font-size:9px\"> Bloomberg</span></div></div></td></tr>\n",
      "<tr><td align=\"right\" width=\"130\">03:18PM  </td><td align=\"left\"><div class=\"news-link-container\"><div class=\"news-link-left\"><a class=\"tab-link-news\" href=\"https://finance.yahoo.com/news/1-instagram-feeds-not-loading-191801736.html\" target=\"_blank\">UPDATE 3-Facebook apologizes for second outage in a week, services back up</a></div><div class=\"news-link-right\"><span style=\"color:#aa6dc0;font-size:9px\"> Reuters</span></div></div></td></tr>\n",
      "<tr><td align=\"right\" width=\"130\">03:07PM  </td><td align=\"left\"><div class=\"news-link-container\"><div class=\"news-link-left\"><a class=\"tab-link-news\" href=\"https://finance.yahoo.com/news/instagram-feeds-not-loading-users-190736369.html\" target=\"_blank\">Facebook apologizes for second outage in a week, services back up</a></div><div class=\"news-link-right\"><span style=\"color:#aa6dc0;font-size:9px\"> Reuters</span></div></div></td></tr>\n",
      "<tr><td align=\"right\" width=\"130\">02:08PM  </td><td align=\"left\"><div class=\"news-link-container\"><div class=\"news-link-left\"><a class=\"tab-link-news\" href=\"https://www.marketwatch.com/story/dont-count-on-facebook-to-be-the-right-source-of-information-nih-head-urges-unvaccinated-not-to-listen-to-unreliable-sources-on-vaccines-11633716503?siteid=yhoof2\" target=\"_blank\">Dont count on Facebook to be the right source of information: NIH head urges the unvaccinated not to listen to unreliable sources on vaccines</a></div><div class=\"news-link-right\"><span style=\"color:#aa6dc0;font-size:9px\"> MarketWatch</span></div></div></td></tr>\n",
      "<tr><td align=\"right\" width=\"130\">01:50PM  </td><td align=\"left\"><div class=\"news-link-container\"><div class=\"news-link-left\"><a class=\"tab-link-news\" href=\"https://finance.yahoo.com/news/facebook-global-tax-deal-could-175026645.html\" target=\"_blank\">Facebook: global tax deal could mean us paying more tax</a></div><div class=\"news-link-right\"><span style=\"color:#aa6dc0;font-size:9px\"> Reuters</span></div></div></td></tr>\n",
      "<tr><td align=\"right\" width=\"130\">01:22PM  </td><td align=\"left\"><div class=\"news-link-container\"><div class=\"news-link-left\"><a class=\"tab-link-news\" href=\"https://www.marketwatch.com/story/weekend-reads-could-the-irs-monitor-your-bank-account-11633713724?siteid=yhoof2\" target=\"_blank\">Weekend reads: Could the IRS monitor your bank account?</a></div><div class=\"news-link-right\"><span style=\"color:#aa6dc0;font-size:9px\"> MarketWatch</span></div></div></td></tr>\n",
      "<tr><td align=\"right\" width=\"130\">12:45PM  </td><td align=\"left\"><div class=\"news-link-container\"><div class=\"news-link-left\"><a class=\"tab-link-news\" href=\"https://finance.yahoo.com/news/investigation-reminder-schall-law-firm-164500713.html\" target=\"_blank\">INVESTIGATION REMINDER: The Schall Law Firm Announces it is Investigating Claims Against Facebook, Inc. and Encourages Investors with Losses to Contact the Firm</a></div><div class=\"news-link-right\"><span style=\"color:#aa6dc0;font-size:9px\"> Business Wire</span></div></div></td></tr>\n",
      "<tr><td align=\"right\" width=\"130\">11:59AM  </td><td align=\"left\"><div class=\"news-link-container\"><div class=\"news-link-left\"><a class=\"tab-link-news\" href=\"https://finance.yahoo.com/news/fb-investor-alert-rosen-top-155900462.html\" target=\"_blank\">FB INVESTOR ALERT: ROSEN, A TOP RANKED LAW FIRM, Encourages Facebook, Inc. Investors with Losses to Inquire About Class Action Investigation  FB</a></div><div class=\"news-link-right\"><span style=\"color:#aa6dc0;font-size:9px\"> Business Wire</span></div></div></td></tr>\n",
      "<tr><td align=\"right\" width=\"130\">11:50AM  </td><td align=\"left\"><div class=\"news-link-container\"><div class=\"news-link-left\"><a class=\"tab-link-news\" href=\"https://finance.yahoo.com/news/zuckerberg-skip-testifying-court-case-155023420.html\" target=\"_blank\">Zuckerberg Can Skip Testifying in Court Case, as Rough Week Ends</a></div><div class=\"news-link-right\"><span style=\"color:#aa6dc0;font-size:9px\"> Bloomberg</span></div></div></td></tr>\n",
      "<tr><td align=\"right\" width=\"130\">11:01AM  </td><td align=\"left\"><div class=\"news-link-container\"><div class=\"news-link-left\"><a class=\"tab-link-news\" href=\"https://finance.yahoo.com/news/1-lawmakers-ftc-must-ensure-150108062.html\" target=\"_blank\">UPDATE 1-Lawmakers: FTC must ensure tech companies uphold youth online privacy</a></div><div class=\"news-link-right\"><span style=\"color:#aa6dc0;font-size:9px\"> Reuters</span></div></div></td></tr>\n",
      "<tr><td align=\"right\" width=\"130\">10:31AM  </td><td align=\"left\"><div class=\"news-link-container\"><div class=\"news-link-left\"><a class=\"tab-link-news\" href=\"https://finance.yahoo.com/news/lawmakers-ftc-must-ensure-tech-143136399.html\" target=\"_blank\">Lawmakers: FTC must ensure tech companies uphold youth online privacy</a></div><div class=\"news-link-right\"><span style=\"color:#aa6dc0;font-size:9px\"> Reuters</span></div></div></td></tr>\n",
      "</table>, 'TWTR': <table border=\"0\" cellpadding=\"1\" cellspacing=\"0\" class=\"fullview-news-outer\" id=\"news-table\" width=\"100%\">\n",
      "<tr><td align=\"right\" style=\"white-space:nowrap\" width=\"130\">Oct-15-21 11:17AM  </td><td align=\"left\"><div class=\"news-link-container\"><div class=\"news-link-left\"><a class=\"tab-link-news\" href=\"https://finance.yahoo.com/news/chicago-mayor-stands-vaccine-order-223413351.html\" target=\"_blank\">Chicago Mayor Stands by Vaccine Order Amid Police Union Standoff</a></div><div class=\"news-link-right\"><span style=\"color:#aa6dc0;font-size:9px\"> Bloomberg</span></div></div></td></tr>\n",
      "<tr><td align=\"right\" width=\"130\">10:31AM  </td><td align=\"left\"><div class=\"news-link-container\"><div class=\"news-link-left\"><a class=\"tab-link-news\" href=\"https://finance.yahoo.com/news/covid-forcing-video-game-companies-143135491.html\" target=\"_blank\">Covid Is Forcing Video Game Companies to Rethink Remote Work</a></div><div class=\"news-link-right\"><span style=\"color:#aa6dc0;font-size:9px\"> Bloomberg</span></div></div></td></tr>\n",
      "<tr><td align=\"right\" width=\"130\">09:17AM  </td><td align=\"left\"><div class=\"news-link-container\"><div class=\"news-link-left\"><a class=\"tab-link-news\" href=\"https://www.investopedia.com/why-investors-should-care-about-the-volt-crypto-etf-5205827?utm_campaign=quote-yahoo&amp;utm_source=yahoo&amp;utm_medium=referral\" target=\"_blank\">Why Investors Should Care About the Volt Crypto ETF</a></div><div class=\"news-link-right\"><span style=\"color:#aa6dc0;font-size:9px\"> Investopedia</span></div></div></td></tr>\n",
      "<tr><td align=\"right\" style=\"white-space:nowrap\" width=\"130\">Oct-14-21 11:04PM  </td><td align=\"left\"><div class=\"news-link-container\"><div class=\"news-link-left\"><a class=\"tab-link-news\" href=\"https://finance.yahoo.com/news/nintendo-switch-japan-debut-bodes-110637461.html\" target=\"_blank\">Nintendo Dips After New Switch Disappoints in Japan Debut</a></div><div class=\"news-link-right\"><span style=\"color:#aa6dc0;font-size:9px\"> Bloomberg</span></div></div></td></tr>\n",
      "<tr><td align=\"right\" width=\"130\">04:40PM  </td><td align=\"left\"><div class=\"news-link-container\"><div class=\"news-link-left\"><a class=\"tab-link-news\" href=\"https://www.investopedia.com/microsoft-s-msft-linkedin-to-exit-china-this-year-5205761?utm_campaign=quote-yahoo&amp;utm_source=yahoo&amp;utm_medium=referral\" target=\"_blank\">Microsoft's (MSFT) LinkedIn to Exit China This Year</a></div><div class=\"news-link-right\"><span style=\"color:#aa6dc0;font-size:9px\"> Investopedia</span></div></div></td></tr>\n",
      "<tr><td align=\"right\" width=\"130\">01:29PM  </td><td align=\"left\"><div class=\"news-link-container\"><div class=\"news-link-left\"><a class=\"tab-link-news\" href=\"https://finance.yahoo.com/news/microsoft-shuts-linkedin-china-citing-143224833.html\" target=\"_blank\">Microsoft Shuts LinkedIn China, Citing Challenging Climate</a></div><div class=\"news-link-right\"><span style=\"color:#aa6dc0;font-size:9px\"> Bloomberg</span></div></div></td></tr>\n",
      "<tr><td align=\"right\" width=\"130\">01:23PM  </td><td align=\"left\"><div class=\"news-link-container\"><div class=\"news-link-left\"><a class=\"tab-link-news\" href=\"https://finance.yahoo.com/news/whats-going-datchats-stock-172322395.html\" target=\"_blank\">What's Going On With DatChat's Stock?</a></div><div class=\"news-link-right\"><span style=\"color:#aa6dc0;font-size:9px\"> Benzinga</span></div></div></td></tr>\n",
      "<tr><td align=\"right\" style=\"white-space:nowrap\" width=\"130\">Oct-13-21 05:00PM  </td><td align=\"left\"><div class=\"news-link-container\"><div class=\"news-link-left\"><a class=\"tab-link-news\" href=\"https://finance.yahoo.com/news/bitcoin-takes-gold-diwali-helped-210000809.html\" target=\"_blank\">Bitcoin Takes on Gold for Diwali, Helped by Top Bollywood Stars</a></div><div class=\"news-link-right\"><span style=\"color:#aa6dc0;font-size:9px\"> Bloomberg</span></div></div></td></tr>\n",
      "<tr><td align=\"right\" width=\"130\">10:10AM  </td><td align=\"left\"><div class=\"news-link-container\"><div class=\"news-link-left\"><a class=\"tab-link-news\" href=\"https://finance.yahoo.com/news/3-stocks-insiders-selling-141005710.html\" target=\"_blank\">3 Stocks Insiders Are Selling</a></div><div class=\"news-link-right\"><span style=\"color:#aa6dc0;font-size:9px\"> Benzinga</span></div></div></td></tr>\n",
      "<tr><td align=\"right\" style=\"white-space:nowrap\" width=\"130\">Oct-12-21 06:15PM  </td><td align=\"left\"><div class=\"news-link-container\"><div class=\"news-link-left\"><a class=\"tab-link-news\" href=\"https://finance.yahoo.com/news/twitter-says-no-signs-u-221522570.html\" target=\"_blank\">Twitter says no signs U.S. Rep. Maxine Waters' account was hacked</a></div><div class=\"news-link-right\"><span style=\"color:#aa6dc0;font-size:9px\"> Reuters</span></div></div></td></tr>\n",
      "<tr><td align=\"right\" width=\"130\">12:15PM  </td><td align=\"left\"><div class=\"news-link-container\"><div class=\"news-link-left\"><a class=\"tab-link-news\" href=\"https://finance.yahoo.com/news/apple-set-first-macbook-pro-161555921.html\" target=\"_blank\">Apple Set for First MacBook Pro Revamp in Five Years on Oct. 18</a></div><div class=\"news-link-right\"><span style=\"color:#aa6dc0;font-size:9px\"> Bloomberg</span></div></div></td></tr>\n",
      "<tr><td align=\"right\" width=\"130\">12:01PM  </td><td align=\"left\"><div class=\"news-link-container\"><div class=\"news-link-left\"><a class=\"tab-link-news\" href=\"https://finance.yahoo.com/news/twitter-debuts-ad-features-revamped-160126340.html\" target=\"_blank\">Twitter debuts new ad features, revamped algorithm ahead of ecommerce push</a></div><div class=\"news-link-right\"><span style=\"color:#aa6dc0;font-size:9px\"> Reuters</span></div></div></td></tr>\n",
      "<tr><td align=\"right\" width=\"130\">09:59AM  </td><td align=\"left\"><div class=\"news-link-container\"><div class=\"news-link-left\"><a class=\"tab-link-news\" href=\"https://finance.yahoo.com/news/10-tech-stocks-buy-according-135925367.html\" target=\"_blank\">10 Tech Stocks to Buy According to Billionaire David Tepper</a></div><div class=\"news-link-right\"><span style=\"color:#aa6dc0;font-size:9px\"> Insider Monkey</span></div></div></td></tr>\n",
      "<tr><td align=\"right\" width=\"130\">07:00AM  </td><td align=\"left\"><div class=\"news-link-container\"><div class=\"news-link-left\"><a class=\"tab-link-news\" href=\"https://finance.yahoo.com/news/facebook-asking-teens-instagram-more-110025213.html\" target=\"_blank\">Facebook is asking teens to use Instagram more responsibly</a></div><div class=\"news-link-right\"><span style=\"color:#aa6dc0;font-size:9px\"> Quartz</span></div></div></td></tr>\n",
      "<tr><td align=\"right\" style=\"white-space:nowrap\" width=\"130\">Oct-11-21 09:33AM  </td><td align=\"left\"><div class=\"news-link-container\"><div class=\"news-link-left\"><a class=\"tab-link-news\" href=\"https://finance.yahoo.com/news/12-best-software-stocks-buy-133347286.html\" target=\"_blank\">12 Best Software Stocks To Buy According To Hedge Funds</a></div><div class=\"news-link-right\"><span style=\"color:#aa6dc0;font-size:9px\"> Insider Monkey</span></div></div></td></tr>\n",
      "<tr><td align=\"right\" style=\"white-space:nowrap\" width=\"130\">Oct-10-21 08:59PM  </td><td align=\"left\"><div class=\"news-link-container\"><div class=\"news-link-left\"><a class=\"tab-link-news\" href=\"https://finance.yahoo.com/news/facebook-backed-group-launches-misinformation-005959001.html\" target=\"_blank\">Facebook-backed group launches misinformation adjudication panel in Australia</a></div><div class=\"news-link-right\"><span style=\"color:#aa6dc0;font-size:9px\"> Reuters</span></div></div></td></tr>\n",
      "<tr><td align=\"right\" width=\"130\">08:52PM  </td><td align=\"left\"><div class=\"news-link-container\"><div class=\"news-link-left\"><a class=\"tab-link-news\" href=\"https://finance.yahoo.com/news/facebook-backed-group-launches-misinformation-005236794.html\" target=\"_blank\">Facebook-backed group launches misinformation adjudication panel in Australia</a></div><div class=\"news-link-right\"><span style=\"color:#aa6dc0;font-size:9px\"> Reuters</span></div></div></td></tr>\n",
      "<tr><td align=\"right\" width=\"130\">03:05AM  </td><td align=\"left\"><div class=\"news-link-container\"><div class=\"news-link-left\"><a class=\"tab-link-news\" href=\"https://finance.yahoo.com/news/tesla-software-ready-sunday-delay-070518819.html\" target=\"_blank\">Tesla Software Update Ready to Go Sunday After Delay, Musk Says</a></div><div class=\"news-link-right\"><span style=\"color:#aa6dc0;font-size:9px\"> Bloomberg</span></div></div></td></tr>\n",
      "<tr><td align=\"right\" style=\"white-space:nowrap\" width=\"130\">Oct-08-21 08:47PM  </td><td align=\"left\"><div class=\"news-link-container\"><div class=\"news-link-left\"><a class=\"tab-link-news\" href=\"https://finance.yahoo.com/news/apple-seeks-delay-ruling-loosening-230855311.html\" target=\"_blank\">Apple Seeks to Delay Ruling Loosening Its Grip on App Store</a></div><div class=\"news-link-right\"><span style=\"color:#aa6dc0;font-size:9px\"> Bloomberg</span></div></div></td></tr>\n",
      "<tr><td align=\"right\" width=\"130\">05:34PM  </td><td align=\"left\"><div class=\"news-link-container\"><div class=\"news-link-left\"><a class=\"tab-link-news\" href=\"https://finance.yahoo.com/news/facebook-instagram-back-normal-following-213412535.html\" target=\"_blank\">Facebook, Instagram Back to Normal Following Another Outage</a></div><div class=\"news-link-right\"><span style=\"color:#aa6dc0;font-size:9px\"> Bloomberg</span></div></div></td></tr>\n",
      "<tr><td align=\"right\" width=\"130\">05:25PM  </td><td align=\"left\"><div class=\"news-link-container\"><div class=\"news-link-left\"><a class=\"tab-link-news\" href=\"https://finance.yahoo.com/news/google-tests-ways-showcase-breaking-212533612.html\" target=\"_blank\">Google Tests Ways to Showcase Breaking News in Twitter-Like Move</a></div><div class=\"news-link-right\"><span style=\"color:#aa6dc0;font-size:9px\"> Bloomberg</span></div></div></td></tr>\n",
      "<tr><td align=\"right\" width=\"130\">02:07PM  </td><td align=\"left\"><div class=\"news-link-container\"><div class=\"news-link-left\"><a class=\"tab-link-news\" href=\"https://finance.yahoo.com/news/whats-going-datchats-stock-today-180704947.html\" target=\"_blank\">What's Going On With DatChat's Stock Today?</a></div><div class=\"news-link-right\"><span style=\"color:#aa6dc0;font-size:9px\"> Benzinga</span></div></div></td></tr>\n",
      "<tr><td align=\"right\" width=\"130\">12:52PM  </td><td align=\"left\"><div class=\"news-link-container\"><div class=\"news-link-left\"><a class=\"tab-link-news\" href=\"https://finance.yahoo.com/news/chile-president-investigated-pandora-revelations-165226437.html\" target=\"_blank\">Chiles President to Be Investigated After Pandora Revelations</a></div><div class=\"news-link-right\"><span style=\"color:#aa6dc0;font-size:9px\"> Bloomberg</span></div></div></td></tr>\n",
      "<tr><td align=\"right\" width=\"130\">12:09PM  </td><td align=\"left\"><div class=\"news-link-container\"><div class=\"news-link-left\"><a class=\"tab-link-news\" href=\"https://finance.yahoo.com/news/twitter-twtr-sell-mobile-ad-160904468.html\" target=\"_blank\">Twitter (TWTR) To Sell Mobile Ad Unit MoPub to AppLovin for $1B</a></div><div class=\"news-link-right\"><span style=\"color:#aa6dc0;font-size:9px\"> Zacks</span></div></div></td></tr>\n",
      "<tr><td align=\"right\" width=\"130\">10:01AM  </td><td align=\"left\"><div class=\"news-link-container\"><div class=\"news-link-left\"><a class=\"tab-link-news\" href=\"https://www.fool.com/investing/2021/10/08/earnings-2-growth-stocks-to-watch-in-october/?source=eptyholnk0000202&amp;utm_source=yahoo-host&amp;utm_medium=feed&amp;utm_campaign=article\" target=\"_blank\">Earnings: 2 Growth Stocks to Watch in October</a></div><div class=\"news-link-right\"><span style=\"color:#aa6dc0;font-size:9px\"> Motley Fool</span></div></div></td></tr>\n",
      "<tr><td align=\"right\" width=\"130\">09:52AM  </td><td align=\"left\"><div class=\"news-link-container\"><div class=\"news-link-left\"><a class=\"tab-link-news\" href=\"https://finance.yahoo.com/news/4-stocks-insiders-selling-135258860.html\" target=\"_blank\">4 Stocks Insiders Are Selling</a></div><div class=\"news-link-right\"><span style=\"color:#aa6dc0;font-size:9px\"> Benzinga</span></div></div></td></tr>\n",
      "<tr><td align=\"right\" width=\"130\">09:31AM  </td><td align=\"left\"><div class=\"news-link-container\"><div class=\"news-link-left\"><a class=\"tab-link-news\" href=\"https://finance.yahoo.com/news/company-news-oct-8-2021-133101445.html\" target=\"_blank\">Company News for Oct 8, 2021</a></div><div class=\"news-link-right\"><span style=\"color:#aa6dc0;font-size:9px\"> Zacks</span></div></div></td></tr>\n",
      "<tr><td align=\"right\" style=\"white-space:nowrap\" width=\"130\">Oct-07-21 09:38PM  </td><td align=\"left\"><div class=\"news-link-container\"><div class=\"news-link-left\"><a class=\"tab-link-news\" href=\"https://finance.yahoo.com/news/puerto-rico-plan-rescue-aid-170657708.html\" target=\"_blank\">Puerto Ricos Plan For Rescue Aid? A New Years Bash</a></div><div class=\"news-link-right\"><span style=\"color:#aa6dc0;font-size:9px\"> Bloomberg</span></div></div></td></tr>\n",
      "<tr><td align=\"right\" width=\"130\">09:00PM  </td><td align=\"left\"><div class=\"news-link-container\"><div class=\"news-link-left\"><a class=\"tab-link-news\" href=\"https://finance.yahoo.com/news/billionaire-peter-thiels-palantir-pops-181900797.html\" target=\"_blank\">Billionaire Peter Thiel's Palantir pops  3 more of his ideas that could surge next</a></div><div class=\"news-link-right\"><span style=\"color:#aa6dc0;font-size:9px\"> MoneyWise</span></div></div></td></tr>\n",
      "<tr><td align=\"right\" width=\"130\">03:44PM  </td><td align=\"left\"><div class=\"news-link-container\"><div class=\"news-link-left\"><a class=\"tab-link-news\" href=\"https://finance.yahoo.com/news/austria-government-peril-bribery-probe-194448629.html\" target=\"_blank\">Austrias Government in Peril as Bribery Probe Engulfs Kurz</a></div><div class=\"news-link-right\"><span style=\"color:#aa6dc0;font-size:9px\"> Bloomberg</span></div></div></td></tr>\n",
      "<tr><td align=\"right\" width=\"130\">11:36AM  </td><td align=\"left\"><div class=\"news-link-container\"><div class=\"news-link-left\"><a class=\"tab-link-news\" href=\"https://finance.yahoo.com/news/the-rise-of-social-trading-how-the-internet-is-changing-investing-153643100.html\" target=\"_blank\">The rise of social trading: How the internet is changing investing</a></div><div class=\"news-link-right\"><span style=\"color:#aa6dc0;font-size:9px\"> Yahoo Finance</span></div></div></td></tr>\n",
      "<tr><td align=\"right\" width=\"130\">11:12AM  </td><td align=\"left\"><div class=\"news-link-container\"><div class=\"news-link-left\"><a class=\"tab-link-news\" href=\"https://finance.yahoo.com/video/hurricane-ida-impact-royal-dutch-151246839.html\" target=\"_blank\">Hurricane Idas impact on Royal Dutch Shell, Safeway CEO testifies in Holmes Trial, Applovin acquires Mopub from Twitter</a></div><div class=\"news-link-right\"><span style=\"color:#aa6dc0;font-size:9px\"> Yahoo Finance Video</span></div></div></td></tr>\n",
      "<tr><td align=\"right\" width=\"130\">11:09AM  </td><td align=\"left\"><div class=\"news-link-container\"><div class=\"news-link-left\"><a class=\"tab-link-news\" href=\"https://finance.yahoo.com/video/social-media-changing-stock-market-150926999.html\" target=\"_blank\">How social media is changing the stock market</a></div><div class=\"news-link-right\"><span style=\"color:#aa6dc0;font-size:9px\"> Yahoo Finance Video</span></div></div></td></tr>\n",
      "<tr><td align=\"right\" width=\"130\">10:41AM  </td><td align=\"left\"><div class=\"news-link-container\"><div class=\"news-link-left\"><a class=\"tab-link-news\" href=\"https://finance.yahoo.com/news/peru-president-replaces-leftist-prime-213345423.html\" target=\"_blank\">Peru Assets Rally as Investors Cheer Moderate Cabinet Picks</a></div><div class=\"news-link-right\"><span style=\"color:#aa6dc0;font-size:9px\"> Bloomberg</span></div></div></td></tr>\n",
      "<tr><td align=\"right\" width=\"130\">08:59AM  </td><td align=\"left\"><div class=\"news-link-container\"><div class=\"news-link-left\"><a class=\"tab-link-news\" href=\"https://finance.yahoo.com/news/twitter-rolls-pre-tweet-warning-125900519.html\" target=\"_blank\">Twitter rolls out pre-tweet warning about entering intense conversations</a></div><div class=\"news-link-right\"><span style=\"color:#aa6dc0;font-size:9px\"> The Independent</span></div></div></td></tr>\n",
      "<tr><td align=\"right\" width=\"130\">07:08AM  </td><td align=\"left\"><div class=\"news-link-container\"><div class=\"news-link-left\"><a class=\"tab-link-news\" href=\"https://finance.yahoo.com/news/zanzibar-author-abdulrazak-gurnah-wins-110827683.html\" target=\"_blank\">Zanzibar Author Abdulrazak Gurnah Wins Nobel Prize in Literature</a></div><div class=\"news-link-right\"><span style=\"color:#aa6dc0;font-size:9px\"> Bloomberg</span></div></div></td></tr>\n",
      "<tr><td align=\"right\" width=\"130\">06:08AM  </td><td align=\"left\"><div class=\"news-link-container\"><div class=\"news-link-left\"><a class=\"tab-link-news\" href=\"https://finance.yahoo.com/news/twitter-gains-1-billion-sale-100809933.html\" target=\"_blank\">Twitter Gains on $1-Billion Sale of Ad Unit MoPub, Affirms  2023 Guidance</a></div><div class=\"news-link-right\"><span style=\"color:#aa6dc0;font-size:9px\"> Investing.com</span></div></div></td></tr>\n",
      "<tr><td align=\"right\" width=\"130\">04:44AM  </td><td align=\"left\"><div class=\"news-link-container\"><div class=\"news-link-left\"><a class=\"tab-link-news\" href=\"https://www.thestreet.com/investing/premarket-movers-thursday-twitter-levistrauss-pfizer-disney-costco?puc=yahoo&amp;cm_ven=YAHOO\" target=\"_blank\">Premarket Movers Thursday - Twitter, Levi Strauss, Pfizer, Costco, Disney</a></div><div class=\"news-link-right\"><span style=\"color:#aa6dc0;font-size:9px\"> TheStreet.com</span></div></div></td></tr>\n",
      "<tr><td align=\"right\" width=\"130\">02:40AM  </td><td align=\"left\"><div class=\"news-link-container\"><div class=\"news-link-left\"><a class=\"tab-link-news\" href=\"https://finance.yahoo.com/news/ecb-said-study-bond-buying-174830154.html\" target=\"_blank\">ECB Said to Study New Bond-Buying Plan for When Crisis Tool Ends</a></div><div class=\"news-link-right\"><span style=\"color:#aa6dc0;font-size:9px\"> Bloomberg</span></div></div></td></tr>\n",
      "<tr><td align=\"right\" width=\"130\">01:37AM  </td><td align=\"left\"><div class=\"news-link-container\"><div class=\"news-link-left\"><a class=\"tab-link-news\" href=\"https://finance.yahoo.com/news/twitter-agrees-sell-mopub-1-053742359.html\" target=\"_blank\">Twitter Agrees to Sell MoPub for $1.05B</a></div><div class=\"news-link-right\"><span style=\"color:#aa6dc0;font-size:9px\"> SmarterAnalyst</span></div></div></td></tr>\n",
      "<tr><td align=\"right\" style=\"white-space:nowrap\" width=\"130\">Oct-06-21 05:44PM  </td><td align=\"left\"><div class=\"news-link-container\"><div class=\"news-link-left\"><a class=\"tab-link-news\" href=\"https://www.investors.com/news/technology/twitter-stock-climbs-on-sale-of-mopub-unit-to-applovin/?src=A00220\" target=\"_blank\">Twitter Sells App Company MoPub To AppLovin For $1.05 Billion</a></div><div class=\"news-link-right\"><span style=\"color:#aa6dc0;font-size:9px\"> Investor's Business Daily</span></div></div></td></tr>\n",
      "<tr><td align=\"right\" width=\"130\">05:31PM  </td><td align=\"left\"><div class=\"news-link-container\"><div class=\"news-link-left\"><a class=\"tab-link-news\" href=\"https://www.bizjournals.com/sanjose/news/2021/10/06/applovin-to-buy-twitter-ad-network-mopub-105b.html?ana=yahoo\" target=\"_blank\">AppLovin to pay $1.05B to buy MoPub, Twitter's mobile ad network</a></div><div class=\"news-link-right\"><span style=\"color:#aa6dc0;font-size:9px\"> American City Business Journals</span></div></div></td></tr>\n",
      "<tr><td align=\"right\" width=\"130\">05:30PM  </td><td align=\"left\"><div class=\"news-link-container\"><div class=\"news-link-left\"><a class=\"tab-link-news\" href=\"https://www.barrons.com/articles/twitter-mopub-applovin-sale-51633555773?siteid=yhoof2\" target=\"_blank\">Twitter Is Doubling Down on Advertising With a $1 Billion Asset Sale</a></div><div class=\"news-link-right\"><span style=\"color:#aa6dc0;font-size:9px\"> Barrons.com</span></div></div></td></tr>\n",
      "<tr><td align=\"right\" width=\"130\">05:00PM  </td><td align=\"left\"><div class=\"news-link-container\"><div class=\"news-link-left\"><a class=\"tab-link-news\" href=\"https://www.marketwatch.com/story/twitter-selling-mopub-mobile-ad-network-to-applovin-for-1-05-billion-11633554029?siteid=yhoof2\" target=\"_blank\">Twitter selling MoPub mobile-ad network to AppLovin for $1.05 billion</a></div><div class=\"news-link-right\"><span style=\"color:#aa6dc0;font-size:9px\"> MarketWatch</span></div></div></td></tr>\n",
      "<tr><td align=\"right\" width=\"130\">04:48PM  </td><td align=\"left\"><div class=\"news-link-container\"><div class=\"news-link-left\"><a class=\"tab-link-news\" href=\"https://finance.yahoo.com/news/twitter-sells-mopub-ad-platform-204855430.html\" target=\"_blank\">Twitter Sells MoPub Ad Platform to AppLovin for $1.05 Billion</a></div><div class=\"news-link-right\"><span style=\"color:#aa6dc0;font-size:9px\"> Bloomberg</span></div></div></td></tr>\n",
      "<tr><td align=\"right\" width=\"130\">04:43PM  </td><td align=\"left\"><div class=\"news-link-container\"><div class=\"news-link-left\"><a class=\"tab-link-news\" href=\"https://finance.yahoo.com/news/twitter-sell-mopub-app-advertising-204309688.html\" target=\"_blank\">Twitter to Sell MoPub In-App Advertising Division for $1.05 Billion</a></div><div class=\"news-link-right\"><span style=\"color:#aa6dc0;font-size:9px\"> Variety</span></div></div></td></tr>\n",
      "<tr><td align=\"right\" width=\"130\">04:29PM  </td><td align=\"left\"><div class=\"news-link-container\"><div class=\"news-link-left\"><a class=\"tab-link-news\" href=\"https://finance.yahoo.com/news/1-twitter-sell-mobile-ads-202900034.html\" target=\"_blank\">UPDATE 3-Twitter to sell mobile ad unit MoPub for $1 bln</a></div><div class=\"news-link-right\"><span style=\"color:#aa6dc0;font-size:9px\"> Reuters</span></div></div></td></tr>\n",
      "<tr><td align=\"right\" width=\"130\">04:21PM  </td><td align=\"left\"><div class=\"news-link-container\"><div class=\"news-link-left\"><a class=\"tab-link-news\" href=\"https://finance.yahoo.com/news/twitter-sell-mopub-applovin-1-202156935.html\" target=\"_blank\">Twitter to sell mobile ad unit MoPub for $1 billion</a></div><div class=\"news-link-right\"><span style=\"color:#aa6dc0;font-size:9px\"> Reuters</span></div></div></td></tr>\n",
      "<tr><td align=\"right\" width=\"130\">04:15PM  </td><td align=\"left\"><div class=\"news-link-container\"><div class=\"news-link-left\"><a class=\"tab-link-news\" href=\"https://finance.yahoo.com/news/twitter-enters-definitive-agreement-sell-201500506.html\" target=\"_blank\">Twitter Enters into Definitive Agreement to Sell MoPub to AppLovin for $1.05 Billion in Cash</a></div><div class=\"news-link-right\"><span style=\"color:#aa6dc0;font-size:9px\"> PR Newswire</span></div></div></td></tr>\n",
      "<tr><td align=\"right\" width=\"130\">02:40PM  </td><td align=\"left\"><div class=\"news-link-container\"><div class=\"news-link-left\"><a class=\"tab-link-news\" href=\"https://finance.yahoo.com/news/tiktok-promises-remove-rumored-slap-184038291.html\" target=\"_blank\">TikTok Promises to Remove Any Rumored Slap a Teacher Content</a></div><div class=\"news-link-right\"><span style=\"color:#aa6dc0;font-size:9px\"> Bloomberg</span></div></div></td></tr>\n",
      "<tr><td align=\"right\" width=\"130\">10:08AM  </td><td align=\"left\"><div class=\"news-link-container\"><div class=\"news-link-left\"><a class=\"tab-link-news\" href=\"https://finance.yahoo.com/news/u-k-inflation-emerges-risk-131346222.html\" target=\"_blank\">Surging U.K. Inflation Is Already a Problem for Johnsons Agenda</a></div><div class=\"news-link-right\"><span style=\"color:#aa6dc0;font-size:9px\"> Bloomberg</span></div></div></td></tr>\n",
      "<tr><td align=\"right\" width=\"130\">08:12AM  </td><td align=\"left\"><div class=\"news-link-container\"><div class=\"news-link-left\"><a class=\"tab-link-news\" href=\"https://finance.yahoo.com/news/sweden-economy-shrinks-much-more-094419530.html\" target=\"_blank\">Swedens Economy Shrinks Much More Than Expected on Exports</a></div><div class=\"news-link-right\"><span style=\"color:#aa6dc0;font-size:9px\"> Bloomberg</span></div></div></td></tr>\n",
      "<tr><td align=\"right\" width=\"130\">01:55AM  </td><td align=\"left\"><div class=\"news-link-container\"><div class=\"news-link-left\"><a class=\"tab-link-news\" href=\"https://finance.yahoo.com/news/snapchat-biggest-winner-day-facebook-055538043.html\" target=\"_blank\">Snapchat Was the Biggest Winner the Day Facebook Went Dark</a></div><div class=\"news-link-right\"><span style=\"color:#aa6dc0;font-size:9px\"> Bloomberg</span></div></div></td></tr>\n",
      "<tr><td align=\"right\" style=\"white-space:nowrap\" width=\"130\">Oct-05-21 07:22PM  </td><td align=\"left\"><div class=\"news-link-container\"><div class=\"news-link-left\"><a class=\"tab-link-news\" href=\"https://finance.yahoo.com/news/millions-flock-signal-facebook-whatsapp-014056278.html\" target=\"_blank\">Millions Flock to Signal and Telegram After Facebook Outage</a></div><div class=\"news-link-right\"><span style=\"color:#aa6dc0;font-size:9px\"> Bloomberg</span></div></div></td></tr>\n",
      "<tr><td align=\"right\" width=\"130\">05:07PM  </td><td align=\"left\"><div class=\"news-link-container\"><div class=\"news-link-left\"><a class=\"tab-link-news\" href=\"https://finance.yahoo.com/news/facebook-outage-felt-acutely-small-210705034.html\" target=\"_blank\">Facebook Outage Is Felt Acutely by Small-Business Owners</a></div><div class=\"news-link-right\"><span style=\"color:#aa6dc0;font-size:9px\"> Bloomberg</span></div></div></td></tr>\n",
      "<tr><td align=\"right\" width=\"130\">01:17PM  </td><td align=\"left\"><div class=\"news-link-container\"><div class=\"news-link-left\"><a class=\"tab-link-news\" href=\"https://finance.yahoo.com/news/read-tim-cook-staff-memo-171738040.html\" target=\"_blank\">Read Tim Cooks Staff Memo on 10th Anniversary of Jobss Death</a></div><div class=\"news-link-right\"><span style=\"color:#aa6dc0;font-size:9px\"> Bloomberg</span></div></div></td></tr>\n",
      "<tr><td align=\"right\" width=\"130\">11:32AM  </td><td align=\"left\"><div class=\"news-link-container\"><div class=\"news-link-left\"><a class=\"tab-link-news\" href=\"https://finance.yahoo.com/news/nintendo-smash-bros-gets-final-153251639.html\" target=\"_blank\">Nintendos Smash Bros. Gets Final Character in Hit Fighter Game</a></div><div class=\"news-link-right\"><span style=\"color:#aa6dc0;font-size:9px\"> Bloomberg</span></div></div></td></tr>\n",
      "<tr><td align=\"right\" width=\"130\">10:43AM  </td><td align=\"left\"><div class=\"news-link-container\"><div class=\"news-link-left\"><a class=\"tab-link-news\" href=\"https://finance.yahoo.com/video/facebook-isnt-tobacco-thats-ridiculous-144306767.html\" target=\"_blank\">Facebook isn't tobacco; that's ridiculous: analyst</a></div><div class=\"news-link-right\"><span style=\"color:#aa6dc0;font-size:9px\"> Yahoo Finance Video</span></div></div></td></tr>\n",
      "<tr><td align=\"right\" width=\"130\">10:29AM  </td><td align=\"left\"><div class=\"news-link-container\"><div class=\"news-link-left\"><a class=\"tab-link-news\" href=\"https://finance.yahoo.com/video/facebook-whistleblower-testifies-congress-outage-142939177.html\" target=\"_blank\">Facebook whistleblower testifies before Congress, outage affects billions worldwide</a></div><div class=\"news-link-right\"><span style=\"color:#aa6dc0;font-size:9px\"> Yahoo Finance Video</span></div></div></td></tr>\n",
      "<tr><td align=\"right\" width=\"130\">10:01AM  </td><td align=\"left\"><div class=\"news-link-container\"><div class=\"news-link-left\"><a class=\"tab-link-news\" href=\"https://finance.yahoo.com/news/mark-zuckerberg-had-terrible-week-140114064.html\" target=\"_blank\">Mark Zuckerberg Has Had a Terrible Week. And Its Only Tuesday</a></div><div class=\"news-link-right\"><span style=\"color:#aa6dc0;font-size:9px\"> Bloomberg</span></div></div></td></tr>\n",
      "<tr><td align=\"right\" width=\"130\">07:07AM  </td><td align=\"left\"><div class=\"news-link-container\"><div class=\"news-link-left\"><a class=\"tab-link-news\" href=\"https://finance.yahoo.com/news/twitter-nyse-twtr-improves-selection-110703798.html\" target=\"_blank\">If Twitter (NYSE:TWTR) Improves the Selection Effect, it has a Potential to be a Multi-Bagger</a></div><div class=\"news-link-right\"><span style=\"color:#aa6dc0;font-size:9px\"> Simply Wall St.</span></div></div></td></tr>\n",
      "<tr><td align=\"right\" width=\"130\">05:26AM  </td><td align=\"left\"><div class=\"news-link-container\"><div class=\"news-link-left\"><a class=\"tab-link-news\" href=\"https://finance.yahoo.com/news/suzuki-touts-japan-capitalism-sounds-080917416.html\" target=\"_blank\">Japan Touts New Capitalism But New Finance Chief Sounds The Same</a></div><div class=\"news-link-right\"><span style=\"color:#aa6dc0;font-size:9px\"> Bloomberg</span></div></div></td></tr>\n",
      "<tr><td align=\"right\" width=\"130\">04:37AM  </td><td align=\"left\"><div class=\"news-link-container\"><div class=\"news-link-left\"><a class=\"tab-link-news\" href=\"https://finance.yahoo.com/news/facebook-says-triggered-massive-outage-025514846.html\" target=\"_blank\">Heres What Facebook Says Triggered the Massive Outage on Its Apps</a></div><div class=\"news-link-right\"><span style=\"color:#aa6dc0;font-size:9px\"> Bloomberg</span></div></div></td></tr>\n",
      "<tr><td align=\"right\" width=\"130\">04:02AM  </td><td align=\"left\"><div class=\"news-link-container\"><div class=\"news-link-left\"><a class=\"tab-link-news\" href=\"https://finance.yahoo.com/news/facebook-outage-happened-blame-happen-080246768.html\" target=\"_blank\">Facebook outage: What happened, who is to blame and will it happen again?</a></div><div class=\"news-link-right\"><span style=\"color:#aa6dc0;font-size:9px\"> The Telegraph</span></div></div></td></tr>\n",
      "<tr><td align=\"right\" style=\"white-space:nowrap\" width=\"130\">Oct-04-21 06:54PM  </td><td align=\"left\"><div class=\"news-link-container\"><div class=\"news-link-left\"><a class=\"tab-link-news\" href=\"https://finance.yahoo.com/news/facebook-users-around-world-report-164831493.html\" target=\"_blank\">Facebook Begins Recovery After Major Outage Shut Down Apps</a></div><div class=\"news-link-right\"><span style=\"color:#aa6dc0;font-size:9px\"> Bloomberg</span> <span class=\"body-table-news-loss\">-5.79%</span></div></div></td></tr>\n",
      "<tr><td align=\"right\" width=\"130\">02:11PM  </td><td align=\"left\"><div class=\"news-link-container\"><div class=\"news-link-left\"><a class=\"tab-link-news\" href=\"https://finance.yahoo.com/news/facebook-blackout-sends-users-flocking-175729022.html\" target=\"_blank\">Facebook blackout sends users flocking to Twitter: Hello literally everyone</a></div><div class=\"news-link-right\"><span style=\"color:#aa6dc0;font-size:9px\"> The Independent</span></div></div></td></tr>\n",
      "<tr><td align=\"right\" width=\"130\">01:31PM  </td><td align=\"left\"><div class=\"news-link-container\"><div class=\"news-link-left\"><a class=\"tab-link-news\" href=\"https://finance.yahoo.com/news/why-twitter-shares-falling-173105875.html\" target=\"_blank\">Why Twitter Shares Are Falling</a></div><div class=\"news-link-right\"><span style=\"color:#aa6dc0;font-size:9px\"> Benzinga</span></div></div></td></tr>\n",
      "<tr><td align=\"right\" width=\"130\">05:30AM  </td><td align=\"left\"><div class=\"news-link-container\"><div class=\"news-link-left\"><a class=\"tab-link-news\" href=\"https://finance.yahoo.com/news/three-day-week-one-startup-093000327.html\" target=\"_blank\">A Three-Day Work Week? One Startup Experiments to Draw Talent</a></div><div class=\"news-link-right\"><span style=\"color:#aa6dc0;font-size:9px\"> Bloomberg</span></div></div></td></tr>\n",
      "<tr><td align=\"right\" style=\"white-space:nowrap\" width=\"130\">Oct-03-21 10:00AM  </td><td align=\"left\"><div class=\"news-link-container\"><div class=\"news-link-left\"><a class=\"tab-link-news\" href=\"https://www.fool.com/the-ascent/cryptocurrency/articles/does-twitter-ceo-jack-dorsey-hate-ethereum/?source=eptyholnk0000202&amp;utm_source=yahoo-host&amp;utm_medium=feed&amp;utm_campaign=article\" target=\"_blank\">Does Twitter CEO Jack Dorsey Hate Ethereum?</a></div><div class=\"news-link-right\"><span style=\"color:#aa6dc0;font-size:9px\"> Motley Fool</span></div></div></td></tr>\n",
      "<tr><td align=\"right\" width=\"130\">07:23AM  </td><td align=\"left\"><div class=\"news-link-container\"><div class=\"news-link-left\"><a class=\"tab-link-news\" href=\"https://finance.yahoo.com/news/uae-oman-alert-cyclone-shaheen-052315292.html\" target=\"_blank\">UAE on High Alert, Oman Suspends Flights as Cyclone Nears</a></div><div class=\"news-link-right\"><span style=\"color:#aa6dc0;font-size:9px\"> Bloomberg</span></div></div></td></tr>\n",
      "<tr><td align=\"right\" style=\"white-space:nowrap\" width=\"130\">Oct-02-21 10:22AM  </td><td align=\"left\"><div class=\"news-link-container\"><div class=\"news-link-left\"><a class=\"tab-link-news\" href=\"https://finance.yahoo.com/news/u-k-government-clears-army-210000443.html\" target=\"_blank\">U.K. Fuel Shortages Ease but Situation Worsens Around London</a></div><div class=\"news-link-right\"><span style=\"color:#aa6dc0;font-size:9px\"> Bloomberg</span></div></div></td></tr>\n",
      "<tr><td align=\"right\" width=\"130\">03:10AM  </td><td align=\"left\"><div class=\"news-link-container\"><div class=\"news-link-left\"><a class=\"tab-link-news\" href=\"https://finance.yahoo.com/news/1-trump-asks-florida-judge-071022900.html\" target=\"_blank\">UPDATE 2-Trump asks U.S. judge to force Twitter to restart his account</a></div><div class=\"news-link-right\"><span style=\"color:#aa6dc0;font-size:9px\"> Reuters</span></div></div></td></tr>\n",
      "<tr><td align=\"right\" style=\"white-space:nowrap\" width=\"130\">Oct-01-21 11:58PM  </td><td align=\"left\"><div class=\"news-link-container\"><div class=\"news-link-left\"><a class=\"tab-link-news\" href=\"https://finance.yahoo.com/news/trump-asks-florida-judge-force-035845406.html\" target=\"_blank\">Trump asks U.S. judge to force Twitter to restart his account</a></div><div class=\"news-link-right\"><span style=\"color:#aa6dc0;font-size:9px\"> Reuters</span></div></div></td></tr>\n",
      "<tr><td align=\"right\" width=\"130\">11:37PM  </td><td align=\"left\"><div class=\"news-link-container\"><div class=\"news-link-left\"><a class=\"tab-link-news\" href=\"https://finance.yahoo.com/news/trump-asks-florida-judge-force-033734327.html\" target=\"_blank\">Trump asks Florida judge to force Twitter to restart his account - Bloomberg News</a></div><div class=\"news-link-right\"><span style=\"color:#aa6dc0;font-size:9px\"> Reuters</span></div></div></td></tr>\n",
      "<tr><td align=\"right\" width=\"130\">05:27PM  </td><td align=\"left\"><div class=\"news-link-container\"><div class=\"news-link-left\"><a class=\"tab-link-news\" href=\"https://www.fool.com/investing/2021/10/01/why-twitter-stock-fell-sharply-this-week/?source=eptyholnk0000202&amp;utm_source=yahoo-host&amp;utm_medium=feed&amp;utm_campaign=article\" target=\"_blank\">Why Twitter Stock Fell Sharply This Week</a></div><div class=\"news-link-right\"><span style=\"color:#aa6dc0;font-size:9px\"> Motley Fool</span></div></div></td></tr>\n",
      "<tr><td align=\"right\" width=\"130\">12:43PM  </td><td align=\"left\"><div class=\"news-link-container\"><div class=\"news-link-left\"><a class=\"tab-link-news\" href=\"https://www.investors.com/research/twitter-stock-buy-now-branch-2/?src=A00220\" target=\"_blank\">Is Twitter Stock A Buy Right Now? Here's What Earnings, Charts Show</a></div><div class=\"news-link-right\"><span style=\"color:#aa6dc0;font-size:9px\"> Investor's Business Daily</span></div></div></td></tr>\n",
      "<tr><td align=\"right\" style=\"white-space:nowrap\" width=\"130\">Sep-30-21 11:23AM  </td><td align=\"left\"><div class=\"news-link-container\"><div class=\"news-link-left\"><a class=\"tab-link-news\" href=\"https://finance.yahoo.com/video/securitize-providing-platform-investors-access-152326656.html\" target=\"_blank\">How Securitize is providing a platform for investors to access private markets</a></div><div class=\"news-link-right\"><span style=\"color:#aa6dc0;font-size:9px\"> Yahoo Finance Video</span></div></div></td></tr>\n",
      "<tr><td align=\"right\" style=\"white-space:nowrap\" width=\"130\">Sep-29-21 01:04PM  </td><td align=\"left\"><div class=\"news-link-container\"><div class=\"news-link-left\"><a class=\"tab-link-news\" href=\"https://finance.yahoo.com/news/u-k-soldiers-deployed-days-100450992.html\" target=\"_blank\">U.K. Oil Firms Say Fuel Crisis Easing as Government Steps In</a></div><div class=\"news-link-right\"><span style=\"color:#aa6dc0;font-size:9px\"> Bloomberg</span></div></div></td></tr>\n",
      "<tr><td align=\"right\" width=\"130\">12:02PM  </td><td align=\"left\"><div class=\"news-link-container\"><div class=\"news-link-left\"><a class=\"tab-link-news\" href=\"https://finance.yahoo.com/video/la-palma-volcano-lava-reaches-160204308.html\" target=\"_blank\">La Palma volcano lava reaches Atlantic Ocean, Japan's new Prime Minister, Hong Kong tightens anti-doxxing law</a></div><div class=\"news-link-right\"><span style=\"color:#aa6dc0;font-size:9px\"> Yahoo Finance Video</span></div></div></td></tr>\n",
      "<tr><td align=\"right\" width=\"130\">09:00AM  </td><td align=\"left\"><div class=\"news-link-container\"><div class=\"news-link-left\"><a class=\"tab-link-news\" href=\"https://finance.yahoo.com/news/youtube-remove-videos-misinformation-vaccine-130000490.html\" target=\"_blank\">YouTube Will Remove Videos With Misinformation About Any Vaccine</a></div><div class=\"news-link-right\"><span style=\"color:#aa6dc0;font-size:9px\"> Bloomberg</span></div></div></td></tr>\n",
      "<tr><td align=\"right\" width=\"130\">07:07AM  </td><td align=\"left\"><div class=\"news-link-container\"><div class=\"news-link-left\"><a class=\"tab-link-news\" href=\"https://finance.yahoo.com/news/rave-james-bond-reviews-raise-110742055.html\" target=\"_blank\">Rave James Bond Reviews Raise Hopes for Moviegoing Revival</a></div><div class=\"news-link-right\"><span style=\"color:#aa6dc0;font-size:9px\"> Bloomberg</span></div></div></td></tr>\n",
      "<tr><td align=\"right\" width=\"130\">07:05AM  </td><td align=\"left\"><div class=\"news-link-container\"><div class=\"news-link-left\"><a class=\"tab-link-news\" href=\"https://finance.yahoo.com/news/hong-kong-passes-tougher-anti-110559815.html\" target=\"_blank\">Hong Kong Passes Tougher Anti-Doxxing Bill That Spooked Big Tech</a></div><div class=\"news-link-right\"><span style=\"color:#aa6dc0;font-size:9px\"> Bloomberg</span></div></div></td></tr>\n",
      "<tr><td align=\"right\" style=\"white-space:nowrap\" width=\"130\">Sep-28-21 10:54AM  </td><td align=\"left\"><div class=\"news-link-container\"><div class=\"news-link-left\"><a class=\"tab-link-news\" href=\"https://finance.yahoo.com/news/why-twitter-shares-falling-145445107.html\" target=\"_blank\">Why Twitter Shares Are Falling</a></div><div class=\"news-link-right\"><span style=\"color:#aa6dc0;font-size:9px\"> Benzinga</span></div></div></td></tr>\n",
      "<tr><td align=\"right\" style=\"white-space:nowrap\" width=\"130\">Sep-25-21 11:23AM  </td><td align=\"left\"><div class=\"news-link-container\"><div class=\"news-link-left\"><a class=\"tab-link-news\" href=\"https://finance.yahoo.com/news/u-move-end-huawei-saga-095244466.html\" target=\"_blank\">U.S. Move to End Huawei Saga Helps China Ties - at a Cost</a></div><div class=\"news-link-right\"><span style=\"color:#aa6dc0;font-size:9px\"> Bloomberg</span></div></div></td></tr>\n",
      "<tr><td align=\"right\" style=\"white-space:nowrap\" width=\"130\">Sep-24-21 08:26PM  </td><td align=\"left\"><div class=\"news-link-container\"><div class=\"news-link-left\"><a class=\"tab-link-news\" href=\"https://finance.yahoo.com/news/huawei-meng-gets-deal-breakthrough-172434462.html\" target=\"_blank\">Huawei CFO Meng Wanzhou Leaves Canada on a Flight to China</a></div><div class=\"news-link-right\"><span style=\"color:#aa6dc0;font-size:9px\"> Bloomberg</span></div></div></td></tr>\n",
      "<tr><td align=\"right\" width=\"130\">11:32AM  </td><td align=\"left\"><div class=\"news-link-container\"><div class=\"news-link-left\"><a class=\"tab-link-news\" href=\"https://www.fool.com/the-ascent/cryptocurrency/articles/twitters-bitcoin-tipping-feature-could-be-a-fatal-disrupter-to-entire-wire-transfer-industry/?source=eptyholnk0000202&amp;utm_source=yahoo-host&amp;utm_medium=feed&amp;utm_campaign=article\" target=\"_blank\">Twitter's Bitcoin Tipping Feature Could Be a Fatal Disrupter to Entire Wire Transfer Industry</a></div><div class=\"news-link-right\"><span style=\"color:#aa6dc0;font-size:9px\"> Motley Fool</span></div></div></td></tr>\n",
      "<tr><td align=\"right\" width=\"130\">11:19AM  </td><td align=\"left\"><div class=\"news-link-container\"><div class=\"news-link-left\"><a class=\"tab-link-news\" href=\"https://finance.yahoo.com/video/iac-push-acquire-meredith-boppy-151942694.html\" target=\"_blank\">IACs push to acquire Meredith, Boppy baby pillow recall, Twitter enables Bitcoin tips</a></div><div class=\"news-link-right\"><span style=\"color:#aa6dc0;font-size:9px\"> Yahoo Finance Video</span></div></div></td></tr>\n",
      "<tr><td align=\"right\" width=\"130\">11:09AM  </td><td align=\"left\"><div class=\"news-link-container\"><div class=\"news-link-left\"><a class=\"tab-link-news\" href=\"https://finance.yahoo.com/news/twitter-twtr-enables-bitcoin-tipping-150903508.html\" target=\"_blank\">Twitter (TWTR) Enables Bitcoin Tipping, Safety Features &amp; More</a></div><div class=\"news-link-right\"><span style=\"color:#aa6dc0;font-size:9px\"> Zacks</span></div></div></td></tr>\n",
      "<tr><td align=\"right\" width=\"130\">06:24AM  </td><td align=\"left\"><div class=\"news-link-container\"><div class=\"news-link-left\"><a class=\"tab-link-news\" href=\"https://www.fool.com/the-ascent/cryptocurrency/articles/everything-investors-need-to-know-about-twitters-bitcoin-tipping/?source=eptyholnk0000202&amp;utm_source=yahoo-host&amp;utm_medium=feed&amp;utm_campaign=article\" target=\"_blank\">Everything Investors Need to Know About Twitter's Bitcoin Tipping</a></div><div class=\"news-link-right\"><span style=\"color:#aa6dc0;font-size:9px\"> Motley Fool</span></div></div></td></tr>\n",
      "<tr><td align=\"right\" width=\"130\">06:17AM  </td><td align=\"left\"><div class=\"news-link-container\"><div class=\"news-link-left\"><a class=\"tab-link-news\" href=\"https://finance.yahoo.com/news/bitcoin-ticks-up-as-twitter-embraces-the-crypto-101724624.html\" target=\"_blank\">Bitcoin falls as China declares all crypto transactions illegal</a></div><div class=\"news-link-right\"><span style=\"color:#aa6dc0;font-size:9px\"> Yahoo Finance UK</span></div></div></td></tr>\n",
      "<tr><td align=\"right\" style=\"white-space:nowrap\" width=\"130\">Sep-23-21 07:35PM  </td><td align=\"left\"><div class=\"news-link-container\"><div class=\"news-link-left\"><a class=\"tab-link-news\" href=\"https://finance.yahoo.com/news/1-twitter-rolls-bitcoin-tipping-233515474.html\" target=\"_blank\">UPDATE 1-Twitter rolls out bitcoin tipping, safety features in product push</a></div><div class=\"news-link-right\"><span style=\"color:#aa6dc0;font-size:9px\"> Reuters</span></div></div></td></tr>\n",
      "<tr><td align=\"right\" width=\"130\">06:29PM  </td><td align=\"left\"><div class=\"news-link-container\"><div class=\"news-link-left\"><a class=\"tab-link-news\" href=\"https://finance.yahoo.com/news/twitter-readies-bitcoin-payments-explores-222907941.html\" target=\"_blank\">Twitter Readies Bitcoin Payments, Explores NFTs</a></div><div class=\"news-link-right\"><span style=\"color:#aa6dc0;font-size:9px\"> FX Empire</span></div></div></td></tr>\n",
      "<tr><td align=\"right\" width=\"130\">03:52PM  </td><td align=\"left\"><div class=\"news-link-container\"><div class=\"news-link-left\"><a class=\"tab-link-news\" href=\"https://www.fool.com/investing/2021/09/23/why-dogecoin-ethereum-and-bitcoin-popped-today/?source=eptyholnk0000202&amp;utm_source=yahoo-host&amp;utm_medium=feed&amp;utm_campaign=article\" target=\"_blank\">Why Dogecoin, Ethereum, and Bitcoin Popped Today</a></div><div class=\"news-link-right\"><span style=\"color:#aa6dc0;font-size:9px\"> Motley Fool</span></div></div></td></tr>\n",
      "<tr><td align=\"right\" width=\"130\">03:13PM  </td><td align=\"left\"><div class=\"news-link-container\"><div class=\"news-link-left\"><a class=\"tab-link-news\" href=\"https://www.marketwatch.com/story/why-the-debut-of-tipping-bitcoin-on-twitter-isnt-just-about-tipping-11632424386?siteid=yhoof2\" target=\"_blank\">Why the debut of tipping bitcoin on Twitter isnt just about tipping</a></div><div class=\"news-link-right\"><span style=\"color:#aa6dc0;font-size:9px\"> MarketWatch</span></div></div></td></tr>\n",
      "<tr><td align=\"right\" width=\"130\">02:35PM  </td><td align=\"left\"><div class=\"news-link-container\"><div class=\"news-link-left\"><a class=\"tab-link-news\" href=\"https://www.barrons.com/articles/twitter-tipping-creators-monetization-51632422047?siteid=yhoof2\" target=\"_blank\">Twitter Will Now Let People Pay You for Your Tweets</a></div><div class=\"news-link-right\"><span style=\"color:#aa6dc0;font-size:9px\"> Barrons.com</span></div></div></td></tr>\n",
      "<tr><td align=\"right\" width=\"130\">02:29PM  </td><td align=\"left\"><div class=\"news-link-container\"><div class=\"news-link-left\"><a class=\"tab-link-news\" href=\"https://www.marketwatch.com/story/tip-your-top-tweeter-with-bitcoin-starting-soon-11632421783?siteid=yhoof2\" target=\"_blank\">Tip your top tweeter with bitcoin, starting soon</a></div><div class=\"news-link-right\"><span style=\"color:#aa6dc0;font-size:9px\"> MarketWatch</span></div></div></td></tr>\n",
      "<tr><td align=\"right\" width=\"130\">02:24PM  </td><td align=\"left\"><div class=\"news-link-container\"><div class=\"news-link-left\"><a class=\"tab-link-news\" href=\"https://www.investors.com/research/twitter-stock-buy-now/?src=A00220\" target=\"_blank\">Is Twitter Stock A Buy Right Now? Here's What Earnings, Charts Show</a></div><div class=\"news-link-right\"><span style=\"color:#aa6dc0;font-size:9px\"> Investor's Business Daily</span></div></div></td></tr>\n",
      "<tr><td align=\"right\" width=\"130\">01:24PM  </td><td align=\"left\"><div class=\"news-link-container\"><div class=\"news-link-left\"><a class=\"tab-link-news\" href=\"https://finance.yahoo.com/news/fauci-envisons-three-dose-regimen-214427645.html\" target=\"_blank\">N.Y. Readies for Worker Shortage; Singapore Record: Virus Update</a></div><div class=\"news-link-right\"><span style=\"color:#aa6dc0;font-size:9px\"> Bloomberg</span></div></div></td></tr>\n",
      "<tr><td align=\"right\" width=\"130\">01:03PM  </td><td align=\"left\"><div class=\"news-link-container\"><div class=\"news-link-left\"><a class=\"tab-link-news\" href=\"https://finance.yahoo.com/news/twitter-rolls-bitcoin-tipping-safety-170300459.html\" target=\"_blank\">Twitter rolls out bitcoin tipping, safety features in product push</a></div><div class=\"news-link-right\"><span style=\"color:#aa6dc0;font-size:9px\"> Reuters</span></div></div></td></tr>\n",
      "<tr><td align=\"right\" width=\"130\">01:00PM  </td><td align=\"left\"><div class=\"news-link-container\"><div class=\"news-link-left\"><a class=\"tab-link-news\" href=\"https://finance.yahoo.com/news/twitter-adding-bitcoin-payments-app-170040173.html\" target=\"_blank\">Twitter is adding Bitcoin payments to its app to send another user crypto</a></div><div class=\"news-link-right\"><span style=\"color:#aa6dc0;font-size:9px\"> The Independent</span></div></div></td></tr>\n",
      "</table>}\n"
     ]
    }
   ],
   "source": [
    "for company in Companies:\n",
    "    url = finviz_url + company # so it's going to loop first and get the company and url and then page and then comments from people after it will go back and take another company like GOOG\n",
    "    req = Request(url=url, headers={'user-agent':'my-app'}) # Specify headers or else access will be denied\n",
    "    response = urlopen(req)\n",
    "    soup = BeautifulSoup(response,features='html.parser')\n",
    "    news_table = soup.find(id='news-table')\n",
    "    news_tables.update({company:news_table})\n",
    "\n",
    "\n",
    "print(news_tables)\n"
   ]
  },
  {
   "cell_type": "code",
   "execution_count": 4,
   "metadata": {},
   "outputs": [
    {
     "name": "stdout",
     "output_type": "stream",
     "text": [
      "[['AMZN', 'Oct-15-21', '10:50AM\\xa0\\xa0', 'Sept. retail sales report indicates strong consumer resilience: economist'], ['AMZN', 'Oct-15-21', '09:53AM\\xa0\\xa0', 'Mark Cuban just tripled his stake in Dogecoin  but his bet on these 2 stocks is 667x larger'], ['AMZN', 'Oct-15-21', '09:00AM\\xa0\\xa0', 'IPO Saga in Auto World Continues: Rivian the Latest Aspirant'], ['AMZN', 'Oct-15-21', '09:00AM\\xa0\\xa0', \"Digital Transformation, Buyouts Fueling Salesforce's (CRM) Growth\"], ['AMZN', 'Oct-15-21', '08:25AM\\xa0\\xa0', 'Is It Too Late to Buy DigitalOcean Stock?'], ['AMZN', 'Oct-15-21', '07:40AM\\xa0\\xa0', 'Inflation is Back. Are Your Investments Ready?'], ['AMZN', 'Oct-15-21', '07:22AM\\xa0\\xa0', '3 E-Commerce Stocks You Can Buy and Hold for the Next Decade'], ['AMZN', 'Oct-15-21', '07:07AM\\xa0\\xa0', 'Amazon Affirmed Outperform; Cowen Sees Millennial, Gen-Z Strength'], ['AMZN', 'Oct-15-21', '05:53AM\\xa0\\xa0', 'Vaccine mandates are the new labor market wild card: Morning Brief'], ['AMZN', 'Oct-14-21', '06:27PM\\xa0\\xa0', 'Shopify Aims to Make Stores Lean, Mean Retailing\\xa0Machines'], ['AMZN', 'Oct-14-21', '05:15PM\\xa0\\xa0', 'Apple Hires New HomePod Software Head as It Takes on Amazon Echo'], ['AMZN', 'Oct-14-21', '04:01PM\\xa0\\xa0', 'Amazon.com to Webcast Third Quarter 2021 Financial Results Conference Call'], ['AMZN', 'Oct-14-21', '02:56PM\\xa0\\xa0', 'New bills aim at Apple, Google and Facebook as U.S. attempts to catch up to Europes Big Tech push'], ['AMZN', 'Oct-14-21', '02:53PM\\xa0\\xa0', 'Real estate record reveals Amazon closes on buying former Eastland Mall site in North Versailles'], ['AMZN', 'Oct-14-21', '02:36PM\\xa0\\xa0', \"US Senate's Latest Antitrust Bill Targets Amazon, Apple, Google: CNBC\"], ['AMZN', 'Oct-14-21', '02:00PM\\xa0\\xa0', \"Macy's, (Supposedly) Amazon Fighting Like Kong vs. Godzilla Over This Landmark\"], ['AMZN', 'Oct-14-21', '01:55PM\\xa0\\xa0', 'Stock Picks: Nvidia, Microsoft Reveal 7 Telltale Traits As Market Looks To Rebound'], ['AMZN', 'Oct-14-21', '01:08PM\\xa0\\xa0', 'Amazon videogame exec on the success of New World and why everyone is chasing Roblox'], ['AMZN', 'Oct-14-21', '12:30PM\\xa0\\xa0', \"Warren Buffett's right-hand man is getting greedy on Alibaba  try these 3 China plays instead\"], ['AMZN', 'Oct-14-21', '12:22PM\\xa0\\xa0', 'Big Tech Faces New Bills on Liability and Competition in U.S.'], ['AMZN', 'Oct-14-21', '11:18AM\\xa0\\xa0', 'Prince William to Bezos and other space billionaires: Repair this planet, not find the next'], ['AMZN', 'Oct-14-21', '11:09AM\\xa0\\xa0', 'Amazon (AMZN) Boosts Festive Efforts in India With Prime Fridays'], ['AMZN', 'Oct-14-21', '10:45AM\\xa0\\xa0', 'Why Amazon and Microsoft wont have a stranglehold on cloud computing forever'], ['AMZN', 'Oct-14-21', '10:25AM\\xa0\\xa0', 'Why Grove Shares Are Surging Today'], ['AMZN', 'Oct-14-21', '10:10AM\\xa0\\xa0', 'Is Snowflake Stock A Buy? Data Analytics Specialist Rides Cloud Computing Wave'], ['AMZN', 'Oct-14-21', '09:02AM\\xa0\\xa0', 'Amazon Ring doorbell: How data breach ruling may impact you'], ['AMZN', 'Oct-14-21', '08:56AM\\xa0\\xa0', 'CBD Products Slow to Hit Mainstream Retail Shelves'], ['AMZN', 'Oct-14-21', '08:37AM\\xa0\\xa0', 'My Best Stocks to Buy Now and Hold Forever'], ['AMZN', 'Oct-14-21', '08:25AM\\xa0\\xa0', \"Former Washington Football Team employees ask sponsors to pressure NFL to release report on franchise's workplace culture\"], ['AMZN', 'Oct-14-21', '08:23AM\\xa0\\xa0', \"Nvidia's Pending Arm Acquisition: What Investors Need to Know\"], ['AMZN', 'Oct-14-21', '08:03AM\\xa0\\xa0', 'UPDATE 1-U.S. Senator Warren urges Amazon breakup, India retailers want probe after Reuters story'], ['AMZN', 'Oct-14-21', '08:02AM\\xa0\\xa0', 'Does Shopify Still Have Room to Grow?'], ['AMZN', 'Oct-14-21', '07:37AM\\xa0\\xa0', 'Is It Time to Buy the Alibaba Bounce?'], ['AMZN', 'Oct-14-21', '07:27AM\\xa0\\xa0', 'Is a Wave of Fintech Acquisitions Coming Soon?'], ['AMZN', 'Oct-14-21', '07:25AM\\xa0\\xa0', 'Netflix Is Finally Taking a Hint From Disney'], ['AMZN', 'Oct-14-21', '07:15AM\\xa0\\xa0', 'My 2 Favorite Stocks Right Now'], ['AMZN', 'Oct-14-21', '07:04AM\\xa0\\xa0', '4 Reasons to Buy Spotify Stock Right Now'], ['AMZN', 'Oct-14-21', '06:45AM\\xa0\\xa0', '3 Stocks That Can Help You Retire in More Ways Than You Think'], ['AMZN', 'Oct-14-21', '06:06AM\\xa0\\xa0', 'A Rivian Truck Showed Up at Blue Origin Flight. Jeff Bezos Was Driving.'], ['AMZN', 'Oct-14-21', '05:02AM\\xa0\\xa0', 'U.S. Senator Warren urges Amazon breakup, India retailers want probe after Reuters story'], ['AMZN', 'Oct-14-21', '04:45AM\\xa0\\xa0', 'U.S. Senator Warren urges Amazon breakup, India retailers want probe after Reuters story'], ['AMZN', 'Oct-14-21', '01:32AM\\xa0\\xa0', 'Amazon Fresh store pops up in North Seattle'], ['AMZN', 'Oct-14-21', '12:01AM\\xa0\\xa0', 'NXP Semiconductors Selects AWS as Its Preferred Cloud Provider to Power Electronic Design Automation in the Cloud'], ['AMZN', 'Oct-13-21', '07:44PM\\xa0\\xa0', \"Smoothie King on worker shortage: 'Hire them right. Train them right. Treat them right.'\"], ['AMZN', 'Oct-13-21', '07:15PM\\xa0\\xa0', 'Why MercadoLibre Is a Compelling E-Commerce Stock'], ['AMZN', 'Oct-13-21', '05:47PM\\xa0\\xa0', \"'Affirm is clear bright spot' in the buy now, pay later space: BofA\"], ['AMZN', 'Oct-13-21', '04:55PM\\xa0\\xa0', '11 Best Robinhood Stocks To Buy According To Hedge Funds'], ['AMZN', 'Oct-13-21', '04:30PM\\xa0\\xa0', 'Amazon India Accused of Copying Sellers Products And Rigging Search Results'], ['AMZN', 'Oct-13-21', '02:59PM\\xa0\\xa0', 'What PepsiCo Is Doing Right'], ['AMZN', 'Oct-13-21', '02:50PM\\xa0\\xa0', 'Amazon, Third-Party Sellers Spur Fake Goods, Group Says'], ['AMZN', 'Oct-13-21', '02:24PM\\xa0\\xa0', 'Amazon backs grant program to spur affordable development near D.C.-area transit'], ['AMZN', 'Oct-13-21', '02:10PM\\xa0\\xa0', 'Amazon Stock Faces Painful Headwinds. Why Its Time to Buy.'], ['AMZN', 'Oct-13-21', '01:05PM\\xa0\\xa0', 'Amazon Seeks Used Long-Range Cargo Jets Able to Fly From China'], ['AMZN', 'Oct-13-21', '12:49PM\\xa0\\xa0', 'Microsoft Agrees to Human Rights Review in\\xa0Deals With Law Enforcement, Government'], ['AMZN', 'Oct-13-21', '12:48PM\\xa0\\xa0', 'Hoping to score tech gifts this holiday season? Better start shopping now'], ['AMZN', 'Oct-13-21', '12:27PM\\xa0\\xa0', '11 Best Artificial Intelligence and Robotics Stocks To Buy According To Hedge Funds'], ['AMZN', 'Oct-13-21', '11:26AM\\xa0\\xa0', 'Captain Kirks trek through space with Blue Origin'], ['AMZN', 'Oct-13-21', '11:01AM\\xa0\\xa0', '11 Best Quantum Computing Stocks To Invest In'], ['AMZN', 'Oct-13-21', '10:57AM\\xa0\\xa0', 'Amazon Stock Faces Cost Headwinds Into Earnings, Analyst Says. Buy the Dip.'], ['AMZN', 'Oct-13-21', '09:07AM\\xa0\\xa0', '2 Unstoppable Stocks That Could Turn $200,000 Into $1 million by 2030'], ['AMZN', 'Oct-13-21', '08:48AM\\xa0\\xa0', 'Amazon, Walmart, Target Stocks Top Picks by Bank of America'], ['AMZN', 'Oct-13-21', '08:45AM\\xa0\\xa0', 'These 2 Top Cathie Wood Stocks That Are Better Buys Right Now Than AMC'], ['AMZN', 'Oct-13-21', '08:30AM\\xa0\\xa0', \"Should You Invest in the World's First Blockweave Crypto?\"], ['AMZN', 'Oct-13-21', '08:03AM\\xa0\\xa0', \"Officials confirm Woodbury's 'Project Belle' is an Amazon distribution center\"], ['AMZN', 'Oct-13-21', '07:55AM\\xa0\\xa0', '3 Top Tech Stocks to Buy in October'], ['AMZN', 'Oct-13-21', '07:45AM\\xa0\\xa0', \"It's Not Too Late to Buy This Powerful Growth Stock\"], ['AMZN', 'Oct-13-21', '07:10AM\\xa0\\xa0', \"The Pandemic Boosted a Key Piece of Oracle's Business  But Is It Sustainable?\"], ['AMZN', 'Oct-13-21', '06:45AM\\xa0\\xa0', 'A Deep Dive Into Newly Public Riskified'], ['AMZN', 'Oct-13-21', '06:16AM\\xa0\\xa0', 'Bezos v. Musk: The high-stakes legal disputes between the worlds two richest people'], ['AMZN', 'Oct-13-21', '06:10AM\\xa0\\xa0', '1 Top Telehealth Stock to Buy for the Long Haul'], ['AMZN', 'Oct-13-21', '06:07AM\\xa0\\xa0', 'IPO watch: French cloud computing company OVHcloud to list in Paris'], ['AMZN', 'Oct-13-21', '05:43AM\\xa0\\xa0', 'Darktrace shares surge on growth forecast'], ['AMZN', 'Oct-12-21', '05:15PM\\xa0\\xa0', '10 Best Stocks Under $10 According to Billionaire Daniel Ochs OZ Management'], ['AMZN', 'Oct-12-21', '04:24PM\\xa0\\xa0', \"Michael Burry's 'mother of all crashes' warning is still in play  but here are 3 stocks he's bullish on\"], ['AMZN', 'Oct-12-21', '04:17PM\\xa0\\xa0', '2 \"Wide Moat\" Stocks That Can Help You Beat Inflation'], ['AMZN', 'Oct-12-21', '03:47PM\\xa0\\xa0', 'Freshly CEO steps down, to be replaced by former Amazon exec Anna Fabrega'], ['AMZN', 'Oct-12-21', '03:16PM\\xa0\\xa0', \"Amazon exec to D.C. high school students: Thousands of tech jobs are yours for the taking, 'in a few years'\"], ['AMZN', 'Oct-12-21', '02:55PM\\xa0\\xa0', 'Investors should fasten their seat belts this earnings season: Wall Street Alliance Group Partner'], ['AMZN', 'Oct-12-21', '02:49PM\\xa0\\xa0', 'Buy Walmart and Target stock before the holidays: analyst'], ['AMZN', 'Oct-12-21', '02:22PM\\xa0\\xa0', 'Architect completes major redevelopment of West Side office tower where Amazon is a tenant'], ['AMZN', 'Oct-12-21', '01:37PM\\xa0\\xa0', 'Google Gives Up on Bank Accounts'], ['AMZN', 'Oct-12-21', '01:21PM\\xa0\\xa0', 'Nordstrom is hiring 28,000 employees amid holiday supply chain crunch'], ['AMZN', 'Oct-12-21', '01:04PM\\xa0\\xa0', '10 Tech Stocks to Buy According to Billionaire James Dinan'], ['AMZN', 'Oct-12-21', '11:47AM\\xa0\\xa0', 'Amazon Makes Another Change to Office-Return Policy. Individual Teams Can Now Set the Rules.'], ['AMZN', 'Oct-12-21', '11:00AM\\xa0\\xa0', 'The Latest Threat to Real Estate? Amazon 4-Star Has Joined the Chat'], ['AMZN', 'Oct-12-21', '10:48AM\\xa0\\xa0', 'Amazon extends remote work indefinitely for certain employees'], ['AMZN', 'Oct-12-21', '10:20AM\\xa0\\xa0', \"5 Reasons to Like Amazon's Stock at Current Levels\"], ['AMZN', 'Oct-12-21', '10:04AM\\xa0\\xa0', 'Amazon Introduces Echo Buds in Canada --Just $154.99'], ['AMZN', 'Oct-12-21', '09:49AM\\xa0\\xa0', 'Seattle Kraken CEO explains why investors paid a premium to bring hockey back to the Emerald City'], ['AMZN', 'Oct-12-21', '09:14AM\\xa0\\xa0', 'Growing Investor Interest, Corporate Recognition Indicate Increasing Legitimacy in Maturing Cannabis Market'], ['AMZN', 'Oct-12-21', '09:05AM\\xa0\\xa0', 'Buying This Stock Could Be the Smartest Thing You Ever Do'], ['AMZN', 'Oct-12-21', '08:45AM\\xa0\\xa0', '2 S&P 500 Dividend Growth Stocks on Sale'], ['AMZN', 'Oct-12-21', '08:15AM\\xa0\\xa0', '5 Growth Stocks That Can Turn $250,000 Into $1 Million by 2030'], ['AMZN', 'Oct-12-21', '08:11AM\\xa0\\xa0', 'Google Just Gave Banks Some Great News'], ['AMZN', 'Oct-12-21', '08:08AM\\xa0\\xa0', 'Zacks Industry Outlook Highlights: Amazon, Pinduoduo, Revolve Group and Just Eat Takeaway.com'], ['AMZN', 'Oct-12-21', '08:00AM\\xa0\\xa0', 'Got $1,000? Here Are 2 Stocks to Buy for the Long Term'], ['AMZN', 'Oct-12-21', '08:00AM\\xa0\\xa0', 'Google Will Show Its Cloud Customers Their Carbon Footprint'], ['AMZN', 'Oct-12-21', '07:24AM\\xa0\\xa0', '3 Cheap Stocks That Help You Retire Early'], ['AMZN', 'Oct-12-21', '07:17AM\\xa0\\xa0', 'Amazon reverses demands that staff return to office'], ['AMZN', 'Oct-12-21', '07:05AM\\xa0\\xa0', '3 Growth Stocks That Could Turn $100,000 Into $1 Million'], ['GOOG', 'Oct-15-21', '09:47AM\\xa0\\xa0', '10 European Stocks to Buy According to Tom Russos Hedge Fund'], ['GOOG', 'Oct-15-21', '07:45AM\\xa0\\xa0', 'Dow Jones Futures: Market Rally Makes Powerful Move; Google Leads 7 Stocks Flashing Buy Signals'], ['GOOG', 'Oct-15-21', '05:52AM\\xa0\\xa0', '3 Top Breakout Stocks to Buy Right Now'], ['GOOG', 'Oct-15-21', '02:09AM\\xa0\\xa0', 'S.Korea targets Apple over new app store regulation'], ['GOOG', 'Oct-15-21', '02:05AM\\xa0\\xa0', 'S.Korea targets Apple over new app store regulation'], ['GOOG', 'Oct-14-21', '08:49PM\\xa0\\xa0', \"The Supreme Court gave the green light to a lawsuit by a group of Google workers over the tech giant's confidentiality policy\"], ['GOOG', 'Oct-14-21', '07:30PM\\xa0\\xa0', '3 Tech Stocks That Could Change The World'], ['GOOG', 'Oct-14-21', '05:15PM\\xa0\\xa0', 'Apple Hires New HomePod Software Head as It Takes on Amazon Echo'], ['GOOG', 'Oct-14-21', '04:40PM\\xa0\\xa0', \"Microsoft's (MSFT) LinkedIn to Exit China This Year\"], ['GOOG', 'Oct-14-21', '03:13PM\\xa0\\xa0', 'These Are The Best Robinhood Stocks To Buy Or Watch Now'], ['GOOG', 'Oct-14-21', '02:56PM\\xa0\\xa0', 'New bills aim at Apple, Google and Facebook as U.S. attempts to catch up to Europes Big Tech push'], ['GOOG', 'Oct-14-21', '02:36PM\\xa0\\xa0', \"US Senate's Latest Antitrust Bill Targets Amazon, Apple, Google: CNBC\"], ['GOOG', 'Oct-14-21', '01:55PM\\xa0\\xa0', 'Stock Picks: Nvidia, Microsoft Reveal 7 Telltale Traits As Market Looks To Rebound'], ['GOOG', 'Oct-14-21', '01:29PM\\xa0\\xa0', 'Microsoft Shuts LinkedIn China, Citing Challenging Climate'], ['GOOG', 'Oct-14-21', '01:19PM\\xa0\\xa0', 'Clearwater tech company teams up with Google to develop augmented reality solutions'], ['GOOG', 'Oct-14-21', '12:32PM\\xa0\\xa0', 'Google Breaks Trend Line'], ['GOOG', 'Oct-14-21', '12:30PM\\xa0\\xa0', 'Billionaire David Teppers 10 Newest Stock Picks'], ['GOOG', 'Oct-14-21', '12:22PM\\xa0\\xa0', 'Big Tech Faces New Bills on Liability and Competition in U.S.'], ['GOOG', 'Oct-14-21', '12:19PM\\xa0\\xa0', 'Iranian Hackers Continue Waging Attacks, Google Warns'], ['GOOG', 'Oct-14-21', '12:10PM\\xa0\\xa0', 'Will Alphabet Inc. (GOOG) Beat Estimates Again in Its Next Earnings Report?'], ['GOOG', 'Oct-14-21', '11:30AM\\xa0\\xa0', 'Is Alphabet (GOOG) Outperforming Other Computer and Technology Stocks This Year?'], ['GOOG', 'Oct-14-21', '10:10AM\\xa0\\xa0', 'Is Snowflake Stock A Buy? Data Analytics Specialist Rides Cloud Computing Wave'], ['GOOG', 'Oct-14-21', '09:07AM\\xa0\\xa0', 'Bill Gates 10 Dividend Stocks'], ['GOOG', 'Oct-14-21', '08:00AM\\xa0\\xa0', 'Earnings Estimates For Technology Stocks Rise Ahead Of Reports'], ['GOOG', 'Oct-14-21', '07:27AM\\xa0\\xa0', 'Is a Wave of Fintech Acquisitions Coming Soon?'], ['GOOG', 'Oct-13-21', '05:45PM\\xa0\\xa0', 'Alphabet Inc. (GOOG) Outpaces Stock Market Gains: What You Should Know'], ['GOOG', 'Oct-13-21', '12:49PM\\xa0\\xa0', 'Microsoft Agrees to Human Rights Review in\\xa0Deals With Law Enforcement, Government'], ['GOOG', 'Oct-13-21', '11:01AM\\xa0\\xa0', '11 Best Quantum Computing Stocks To Invest In'], ['GOOG', 'Oct-13-21', '10:10AM\\xa0\\xa0', '3 Stocks Insiders Are Selling'], ['GOOG', 'Oct-13-21', '10:07AM\\xa0\\xa0', 'Google Searching for Positive Response with Upcoming Launches'], ['GOOG', 'Oct-13-21', '09:39AM\\xa0\\xa0', 'S&P Climbs, but Signs Elevated Inflation to Persist Keep Lid on Gains'], ['GOOG', 'Oct-13-21', '09:17AM\\xa0\\xa0', 'Alphabet (GOOGL) Google TV to Launch Realme 4K Streaming Stick'], ['GOOG', 'Oct-13-21', '08:55AM\\xa0\\xa0', 'BlackBerry, Google, Qualcomm Collaborate For Automotive Cockpits'], ['GOOG', 'Oct-13-21', '08:09AM\\xa0\\xa0', 'Top Google (Alphabet) Shareholders'], ['GOOG', 'Oct-13-21', '08:00AM\\xa0\\xa0', '4 Metrics to Use to Find Undervalued Stocks'], ['GOOG', 'Oct-13-21', '07:58AM\\xa0\\xa0', 'BlackBerry Stock Price Rises Following Google and Qualcomm Link-up'], ['GOOG', 'Oct-13-21', '07:55AM\\xa0\\xa0', '3 Top Tech Stocks to Buy in October'], ['GOOG', 'Oct-13-21', '06:33AM\\xa0\\xa0', '3 Robinhood Stocks That Are Great Long-Term Picks'], ['GOOG', 'Oct-13-21', '06:07AM\\xa0\\xa0', 'IPO watch: French cloud computing company OVHcloud to list in Paris'], ['GOOG', 'Oct-13-21', '05:09AM\\xa0\\xa0', 'Top 10 SPACs to Buy According to Richard Gersons Falcon Edge Capital'], ['GOOG', 'Oct-12-21', '08:29PM\\xa0\\xa0', 'Apples Balancing Act in China Gets Trickier During Xis Crackdown'], ['GOOG', 'Oct-12-21', '06:15PM\\xa0\\xa0', 'Walmarts AI Push Drives Google Cloud Deeper Into Its\\xa0Organization'], ['GOOG', 'Oct-12-21', '05:01PM\\xa0\\xa0', 'Alphabet Stock Nears Later-Stage Entry With Earnings Due'], ['GOOG', 'Oct-12-21', '04:24PM\\xa0\\xa0', \"Michael Burry's 'mother of all crashes' warning is still in play  but here are 3 stocks he's bullish on\"], ['GOOG', 'Oct-12-21', '03:22PM\\xa0\\xa0', 'Fast-Growing Stocks: GOOGL Stock Among 26 Names Expecting Up To 806% Growth In Q3'], ['GOOG', 'Oct-12-21', '02:55PM\\xa0\\xa0', 'Investors should fasten their seat belts this earnings season: Wall Street Alliance Group Partner'], ['GOOG', 'Oct-12-21', '02:35PM\\xa0\\xa0', 'Google Countersues Epic Over Unapproved Fortnite Version'], ['GOOG', 'Oct-12-21', '02:19PM\\xa0\\xa0', 'She turned ADHD into a career: Talking about our challenges is very important, says host of How to ADHD'], ['GOOG', 'Oct-12-21', '01:37PM\\xa0\\xa0', 'Google Gives Up on Bank Accounts'], ['GOOG', 'Oct-12-21', '12:10PM\\xa0\\xa0', 'Why the Earnings Surprise Streak Could Continue for Alphabet (GOOGL)'], ['GOOG', 'Oct-12-21', '11:30AM\\xa0\\xa0', 'Is Alphabet (GOOGL) Stock Outpacing Its Computer and Technology Peers This Year?'], ['GOOG', 'Oct-12-21', '10:15AM\\xa0\\xa0', 'Better Ad Tech Company: Taboola or Outbrain'], ['GOOG', 'Oct-12-21', '10:15AM\\xa0\\xa0', 'A Delayed Exit In Google'], ['GOOG', 'Oct-12-21', '10:05AM\\xa0\\xa0', 'Is Google Stock A Buy? Internet Search Giant Tops Among FANG Stocks In 2021'], ['GOOG', 'Oct-12-21', '09:40AM\\xa0\\xa0', 'Is Salesforce Stock A Buy? Software Maker Raises Fiscal 2022 Revenue Outlook'], ['GOOG', 'Oct-12-21', '08:11AM\\xa0\\xa0', 'Google Just Gave Banks Some Great News'], ['GOOG', 'Oct-12-21', '08:05AM\\xa0\\xa0', 'Google Cloud unveils carbon footprint tracker, satellite imagery suite'], ['GOOG', 'Oct-12-21', '08:00AM\\xa0\\xa0', 'Google Will Show Its Cloud Customers Their Carbon Footprint'], ['GOOG', 'Oct-12-21', '08:00AM\\xa0\\xa0', 'Google Cloud unveils carbon footprint tracker, satellite imagery suite'], ['GOOG', 'Oct-12-21', '07:19AM\\xa0\\xa0', '11 Best Climate Change Stocks To Buy According To Hedge Funds'], ['GOOG', 'Oct-12-21', '05:00AM\\xa0\\xa0', 'Become Proficient And Certified In Google Sheets And Microsoft Excel'], ['GOOG', 'Oct-11-21', '06:22PM\\xa0\\xa0', 'Investing in Google (Alphabet) Stock (GOOGL; GOOG)'], ['GOOG', 'Oct-11-21', '05:53PM\\xa0\\xa0', 'Acquisitions and Antitrust Scrutiny for Big Tech Firms'], ['GOOG', 'Oct-11-21', '05:11PM\\xa0\\xa0', 'Microsoft Says Pact Lets Ex-Amazon Executive Begin New Role'], ['GOOG', 'Oct-11-21', '03:15PM\\xa0\\xa0', \"What's Hot in the Stock Market?\"], ['GOOG', 'Oct-11-21', '10:09AM\\xa0\\xa0', 'GM Stock A Buy? General Motors Could Be Worth This Much, Analyst Says'], ['GOOG', 'Oct-11-21', '09:35AM\\xa0\\xa0', 'Google TV Is Adding Personalized Profiles, Ambient Mode Information Cards'], ['GOOG', 'Oct-11-21', '09:26AM\\xa0\\xa0', 'The Best AI Stocks to Buy for 2021 and Beyond'], ['GOOG', 'Oct-11-21', '08:21AM\\xa0\\xa0', \"An Intrinsic Calculation For Alphabet Inc. (NASDAQ:GOOG.L) Suggests It's 42% Undervalued\"], ['GOOG', 'Oct-11-21', '08:14AM\\xa0\\xa0', 'Dow Jones Futures Fall, Oil Jumps With Market Rally At Inflection Point; Tesla FSD Beta Rolls Out'], ['GOOG', 'Oct-11-21', '05:54AM\\xa0\\xa0', 'Billionaire Louis Bacons 10 Tech Stock Picks'], ['GOOG', 'Oct-11-21', '04:50AM\\xa0\\xa0', '10 Best Stocks to Buy According to Peter Lewis LFL Advisers'], ['GOOG', 'Oct-11-21', '12:43AM\\xa0\\xa0', 'UPDATE 2-Facebook-backed group launches misinformation adjudication panel in Australia'], ['GOOG', 'Oct-10-21', '08:59PM\\xa0\\xa0', 'Facebook-backed group launches misinformation adjudication panel in Australia'], ['GOOG', 'Oct-10-21', '08:52PM\\xa0\\xa0', 'Facebook-backed group launches misinformation adjudication panel in Australia'], ['GOOG', 'Oct-09-21', '05:02PM\\xa0\\xa0', 'Should Google Pay a Stock Dividend?'], ['GOOG', 'Oct-09-21', '11:15AM\\xa0\\xa0', 'How global deal stems corporate use of tax havens'], ['GOOG', 'Oct-09-21', '10:30AM\\xa0\\xa0', 'Where to Invest $5,000 Right Now'], ['GOOG', 'Oct-09-21', '09:02AM\\xa0\\xa0', 'Google Is (Still) Pioneering Artificial Intelligence'], ['GOOG', 'Oct-09-21', '09:00AM\\xa0\\xa0', \"Apple's App Store Empire Is Finally Starting to Crack\"], ['GOOG', 'Oct-09-21', '06:35AM\\xa0\\xa0', 'Is Outbrain Stock a Buy?'], ['GOOG', 'Oct-09-21', '05:51AM\\xa0\\xa0', \"3 Surefire Stocks to Buy If There's a Stock Market Crash\"], ['GOOG', 'Oct-09-21', '03:00AM\\xa0\\xa0', 'UK contactless payments limit is rising to £100 \\xa0should you be worried?'], ['GOOG', 'Oct-08-21', '05:25PM\\xa0\\xa0', 'Google Tests Ways to Showcase Breaking News in Twitter-Like Move'], ['GOOG', 'Oct-08-21', '02:05PM\\xa0\\xa0', 'New Buys By The Best Mutual Funds: GOOGL Stock Leads List As Market Corrects'], ['GOOG', 'Oct-08-21', '01:48PM\\xa0\\xa0', 'This nearly $40 billion tech company has unleashed a secret weapon to attract workers'], ['GOOG', 'Oct-08-21', '12:53PM\\xa0\\xa0', 'Google to block ads from appearing next to content denying climate change'], ['GOOG', 'Oct-08-21', '12:10PM\\xa0\\xa0', 'Google At 50-Day Line'], ['GOOG', 'Oct-08-21', '11:16AM\\xa0\\xa0', 'Ireland joins global tax agreement, Googles cracks down on climate change denial, Sen. Lummis investment in crypto'], ['GOOG', 'Oct-08-21', '09:05AM\\xa0\\xa0', 'Microsoft Windows 11: What Investors Need to Know'], ['GOOG', 'Oct-08-21', '08:57AM\\xa0\\xa0', 'Why Is Everyone Talking About Palantir Stock?'], ['GOOG', 'Oct-08-21', '08:16AM\\xa0\\xa0', \"Biotricity Launches Biocare Cardiac Application for Samsung's Galaxy Watch4 Series\"], ['GOOG', 'Oct-08-21', '08:13AM\\xa0\\xa0', 'Dow Jones Futures: Treasury Yields Rise Ahead Of Key Jobs Report For Market Rally'], ['GOOG', 'Oct-08-21', '06:55AM\\xa0\\xa0', 'Google Goes Tougher On Climate Change Policies'], ['GOOG', 'Oct-08-21', '06:50AM\\xa0\\xa0', 'Google Bars Ads for Content Denying Climate Change'], ['GOOG', 'Oct-08-21', '06:46AM\\xa0\\xa0', 'Apple Stock Could Struggle. This Analyst Explains Why.'], ['GOOG', 'Oct-08-21', '06:00AM\\xa0\\xa0', 'What concerns Michael Dell the most about A.I.'], ['GOOG', 'Oct-08-21', '05:15AM\\xa0\\xa0', '3 Stock Market Myths That Cost Investors'], ['GOOG', 'Oct-08-21', '04:29AM\\xa0\\xa0', '7 Oil and Gas Stocks to Buy According to Billionaire Leon Cooperman'], ['GOOG', 'Oct-08-21', '03:29AM\\xa0\\xa0', 'George Soros Stock Portfolio: Top 10 Stock Picks'], ['FB', 'Oct-15-21', '09:01AM\\xa0\\xa0', 'These 2 Under-the-Radar Stocks Have Incredibly Bright Futures'], ['FB', 'Oct-15-21', '09:00AM\\xa0\\xa0', 'How Many Times Can Facebook Stock Rebound From Another Big Scandal?'], ['FB', 'Oct-15-21', '08:51AM\\xa0\\xa0', 'Facebooks stock has been languishing  things could get worse'], ['FB', 'Oct-15-21', '07:30AM\\xa0\\xa0', 'How Should Investors React to \"The Facebook Files\"?'], ['FB', 'Oct-15-21', '07:15AM\\xa0\\xa0', 'Should Investors Be Worried About the Future of Facebook Stock?'], ['FB', 'Oct-15-21', '05:30AM\\xa0\\xa0', 'Facebook and Big Tobacco: Why Social Media Is (and Isnt) Like Cigarettes'], ['FB', 'Oct-14-21', '09:08PM\\xa0\\xa0', 'UPDATE 1-Fourteen U.S. state attorneys general press Facebook on vaccine disinformation'], ['FB', 'Oct-14-21', '08:28PM\\xa0\\xa0', 'Fourteen U.S. state attorneys general press Facebook on vaccine disinformation'], ['FB', 'Oct-14-21', '08:25PM\\xa0\\xa0', 'Fourteen U.S. attorneys general press Facebook on vaccine disinformation'], ['FB', 'Oct-14-21', '04:40PM\\xa0\\xa0', \"Microsoft's (MSFT) LinkedIn to Exit China This Year\"], ['FB', 'Oct-14-21', '02:56PM\\xa0\\xa0', 'New bills aim at Apple, Google and Facebook as U.S. attempts to catch up to Europes Big Tech push'], ['FB', 'Oct-14-21', '02:12PM\\xa0\\xa0', 'These Are The 5 Best Stocks To Buy And Watch Now'], ['FB', 'Oct-14-21', '01:29PM\\xa0\\xa0', 'Microsoft Shuts LinkedIn China, Citing Challenging Climate'], ['FB', 'Oct-14-21', '01:05PM\\xa0\\xa0', 'Nigerias Flutterwave in Talks to Triple Valuation to $3 Billion'], ['FB', 'Oct-14-21', '12:49PM\\xa0\\xa0', 'Facebook Collected 3K Hours First-Person Footage For Vital AI Project'], ['FB', 'Oct-14-21', '12:22PM\\xa0\\xa0', 'Big Tech Faces New Bills on Liability and Competition in U.S.'], ['FB', 'Oct-14-21', '09:34AM\\xa0\\xa0', 'Facebook Starts AI Project Based on First-Person View'], ['FB', 'Oct-14-21', '09:08AM\\xa0\\xa0', 'Facebook makes internal forums private amid leaking scandal'], ['FB', 'Oct-14-21', '08:04AM\\xa0\\xa0', 'Facebook Tightens Access Rules For Employee Internal Discussion Forums: WSJ'], ['FB', 'Oct-14-21', '08:00AM\\xa0\\xa0', 'Earnings Estimates For Technology Stocks Rise Ahead Of Reports'], ['FB', 'Oct-14-21', '05:52AM\\xa0\\xa0', '3 Beaten-Down Robinhood Stocks That Could Bounce Back Big Time'], ['FB', 'Oct-13-21', '08:27PM\\xa0\\xa0', 'One of Facebooks Earliest Investors Says People Have Lost Trust in Company'], ['FB', 'Oct-13-21', '06:27PM\\xa0\\xa0', 'Facebook expands harassment policy to protect public figures'], ['FB', 'Oct-13-21', '02:59PM\\xa0\\xa0', 'What PepsiCo Is Doing Right'], ['FB', 'Oct-13-21', '02:50PM\\xa0\\xa0', 'Amazon, Third-Party Sellers Spur Fake Goods, Group Says'], ['FB', 'Oct-13-21', '01:53PM\\xa0\\xa0', 'Facebook Elevates Nicola Mendelsohn\\xa0to Key Advertising Job'], ['FB', 'Oct-13-21', '12:49PM\\xa0\\xa0', 'Microsoft Agrees to Human Rights Review in\\xa0Deals With Law Enforcement, Government'], ['FB', 'Oct-13-21', '11:55AM\\xa0\\xa0', 'Facebook Says It Will Start Removing Sexualized Attacks on Celebrities as Part of Anti-Harassment Policy Update'], ['FB', 'Oct-13-21', '11:02AM\\xa0\\xa0', 'Exclusive-Facebook to change rules on attacking public figures on its platforms'], ['FB', 'Oct-13-21', '09:21AM\\xa0\\xa0', 'UPDATE 1-Irish regulator proposes 36 mln euro Facebook privacy fine - document'], ['FB', 'Oct-13-21', '08:47AM\\xa0\\xa0', 'Facebook, Lazada Told to Stop Text-Blaster Sales in Philippines'], ['FB', 'Oct-13-21', '08:14AM\\xa0\\xa0', 'Irish regulator proposes 36 million euro Facebook privacy fine - document'], ['FB', 'Oct-13-21', '08:12AM\\xa0\\xa0', 'Irish regulator proposes 36 mln euro Facebook privacy fine -document'], ['FB', 'Oct-13-21', '07:20AM\\xa0\\xa0', '5 Top Tech Stocks to Buy for the Long Haul'], ['FB', 'Oct-13-21', '05:50AM\\xa0\\xa0', 'HTCs upcoming Vive Flow VR headset leaks, revealing bug-eyed design for meditation and media consumption'], ['FB', 'Oct-13-21', '05:00AM\\xa0\\xa0', 'The Troubles with Data Markets Go Far Beyond Facebook'], ['FB', 'Oct-12-21', '08:29PM\\xa0\\xa0', 'Apples Balancing Act in China Gets Trickier During Xis Crackdown'], ['FB', 'Oct-12-21', '05:45PM\\xa0\\xa0', 'Facebook (FB) Dips More Than Broader Markets: What You Should Know'], ['FB', 'Oct-12-21', '05:22PM\\xa0\\xa0', 'UPDATE 2-U.S. senator asks Facebook CEO to retain documents linked to testimony'], ['FB', 'Oct-12-21', '05:03PM\\xa0\\xa0', 'Slain reporters family takes on Facebook over violent video'], ['FB', 'Oct-12-21', '04:52PM\\xa0\\xa0', 'U.S. senator asks Facebook CEO to retain documents linked to testimony'], ['FB', 'Oct-12-21', '04:24PM\\xa0\\xa0', \"Michael Burry's 'mother of all crashes' warning is still in play  but here are 3 stocks he's bullish on\"], ['FB', 'Oct-12-21', '04:04PM\\xa0\\xa0', 'Another Whistleblower Steps Forward To Accuse Facebook Of Abuses'], ['FB', 'Oct-12-21', '02:55PM\\xa0\\xa0', 'Investors should fasten their seat belts this earnings season: Wall Street Alliance Group Partner'], ['FB', 'Oct-12-21', '11:48AM\\xa0\\xa0', 'FACEBOOK ALERT: Bragar Eagel & Squire, P.C. is Investigating Facebook, Inc. on Behalf of Facebook Stockholders and Encourages Investors to Contact the Firm'], ['FB', 'Oct-12-21', '11:22AM\\xa0\\xa0', 'Facebook Whistleblowers Claims Test SECs Reach'], ['FB', 'Oct-12-21', '10:46AM\\xa0\\xa0', 'Second Facebook Whistleblower Agrees To Testify Before Senate'], ['FB', 'Oct-12-21', '09:06AM\\xa0\\xa0', 'Facebook Earnings: 3 Metrics to Watch'], ['FB', 'Oct-12-21', '07:00AM\\xa0\\xa0', 'Facebook is asking teens to use Instagram more responsibly'], ['FB', 'Oct-12-21', '06:10AM\\xa0\\xa0', 'Facebook Whistleblower: Time to Sell the Stock?'], ['FB', 'Oct-12-21', '05:28AM\\xa0\\xa0', 'Facebook repeatedly lied to Oversight Board about secret VIP list that let users break rules, whistleblower says'], ['FB', 'Oct-11-21', '06:14PM\\xa0\\xa0', 'UPDATE 1-Instagram testing feature to notify users of outage or issue inside app'], ['FB', 'Oct-11-21', '05:53PM\\xa0\\xa0', 'Acquisitions and Antitrust Scrutiny for Big Tech Firms'], ['FB', 'Oct-11-21', '05:00PM\\xa0\\xa0', 'Facebook Changes the Way It Measures Accounts for Advertisers'], ['FB', 'Oct-11-21', '02:15PM\\xa0\\xa0', 'Facebook Commits To Adding New Safety Features For Teens'], ['FB', 'Oct-11-21', '02:00PM\\xa0\\xa0', 'Facebook Removes Iranian Account Network Trying to Sway Politics'], ['FB', 'Oct-11-21', '01:39PM\\xa0\\xa0', 'Facebook Oversight Board to meet with whistleblower'], ['FB', 'Oct-11-21', '12:44PM\\xa0\\xa0', 'Facebook Oversight Board Plans Meeting With Whistleblower Haugen'], ['FB', 'Oct-11-21', '11:44AM\\xa0\\xa0', \"Facebook says it's launching new safety features for kids\"], ['FB', 'Oct-11-21', '10:45AM\\xa0\\xa0', 'Bronstein, Gewirtz & Grossman, LLC Notifies Shareholders of Facebook, Inc. (FB) Investigation'], ['FB', 'Oct-11-21', '08:43AM\\xa0\\xa0', 'Facebook Faces Legal Risk Similar to Big Tobacco or OxyContin, Analyst Says'], ['FB', 'Oct-11-21', '08:36AM\\xa0\\xa0', 'Facebook update will encourage Insta users to take a break, says Clegg'], ['FB', 'Oct-11-21', '07:59AM\\xa0\\xa0', 'Facebooks Next Problem Could Be an SEC Investigation'], ['FB', 'Oct-11-21', '06:30AM\\xa0\\xa0', 'Sentiment Toward China Is Changing, as Tech Names Rally After Major Fine'], ['FB', 'Oct-11-21', '06:30AM\\xa0\\xa0', 'Facebook Could Face an SEC Problem Next. Heres What We Know.'], ['FB', 'Oct-11-21', '06:16AM\\xa0\\xa0', 'Facebook update will nudge teens off Instagram if they look at harmful content amid child protection scandal'], ['FB', 'Oct-11-21', '12:43AM\\xa0\\xa0', 'UPDATE 2-Facebook-backed group launches misinformation adjudication panel in Australia'], ['FB', 'Oct-10-21', '11:03PM\\xa0\\xa0', 'Cramer: Facebook Needs to Prove It Cares About Safety'], ['FB', 'Oct-10-21', '09:24PM\\xa0\\xa0', 'Which Social-Media Networks Do Teens Like the Most? Not Facebook and Twitter.'], ['FB', 'Oct-10-21', '08:59PM\\xa0\\xa0', 'Facebook-backed group launches misinformation adjudication panel in Australia'], ['FB', 'Oct-10-21', '08:52PM\\xa0\\xa0', 'Facebook-backed group launches misinformation adjudication panel in Australia'], ['FB', 'Oct-10-21', '08:25PM\\xa0\\xa0', 'Social Media Companies Should Be Accountable For Policies, Facebook Exec Says'], ['FB', 'Oct-10-21', '02:13PM\\xa0\\xa0', 'Social Media Companies Should Be Accountable For Policies, Facebook Exec Says'], ['FB', 'Oct-10-21', '01:12PM\\xa0\\xa0', \"Facebook will try to 'nudge' teens away from harmful content\"], ['FB', 'Oct-10-21', '10:46AM\\xa0\\xa0', 'Facebook\\xa0Is Willing to Open Algorithms to Regulators, Clegg Says'], ['FB', 'Oct-10-21', '08:00AM\\xa0\\xa0', 'Why Facebook Is Still Bulletproof'], ['FB', 'Oct-09-21', '05:18PM\\xa0\\xa0', 'Big Techs Stocks Have Bounced Back. But Theyre Not Out of The Woods.'], ['FB', 'Oct-09-21', '05:17PM\\xa0\\xa0', 'Facebook (NASDAQ:FB) is Zigging Where it Should be Zagging'], ['FB', 'Oct-09-21', '09:00AM\\xa0\\xa0', 'Why Facebook Is a Better Buy Than Apple'], ['FB', 'Oct-09-21', '08:34AM\\xa0\\xa0', \"UPDATE 1-Philippine Nobel winner Ressa calls Facebook 'biased against facts'\"], ['FB', 'Oct-09-21', '05:12AM\\xa0\\xa0', 'Philippine Nobel winner Ressa calls Facebook \"biased against facts\"'], ['FB', 'Oct-08-21', '07:40PM\\xa0\\xa0', 'Southwest Airlines, Facebook, Pfizer: Stocks That Defined the Week'], ['FB', 'Oct-08-21', '07:38PM\\xa0\\xa0', 'Teens Like Snapchat and TikTok. Facebook? Except for Instagram, Not So Much.'], ['FB', 'Oct-08-21', '06:13PM\\xa0\\xa0', 'Facebook apologizes for second outage in a week, services back up'], ['FB', 'Oct-08-21', '05:34PM\\xa0\\xa0', 'Facebook, Instagram Back to Normal Following Another Outage'], ['FB', 'Oct-08-21', '05:25PM\\xa0\\xa0', 'Google Tests Ways to Showcase Breaking News in Twitter-Like Move'], ['FB', 'Oct-08-21', '04:43PM\\xa0\\xa0', 'Stock Market Rally Attempt Faces Resistance; Oil Prices, Treasury Yields Hit Highs'], ['FB', 'Oct-08-21', '04:43PM\\xa0\\xa0', 'Fury as Facebook and Instagram down for second time in a week'], ['FB', 'Oct-08-21', '04:42PM\\xa0\\xa0', 'Facebooks Problems Have Grown. The Will to Regulate It Hasnt.'], ['FB', 'Oct-08-21', '04:29PM\\xa0\\xa0', 'Facebook Left Out of Big Tech Rebound in 4th Week of Losses'], ['FB', 'Oct-08-21', '03:18PM\\xa0\\xa0', 'UPDATE 3-Facebook apologizes for second outage in a week, services back up'], ['FB', 'Oct-08-21', '03:07PM\\xa0\\xa0', 'Facebook apologizes for second outage in a week, services back up'], ['FB', 'Oct-08-21', '02:08PM\\xa0\\xa0', 'Dont count on Facebook to be the right source of information: NIH head urges the unvaccinated not to listen to unreliable sources on vaccines'], ['FB', 'Oct-08-21', '01:50PM\\xa0\\xa0', 'Facebook: global tax deal could mean us paying more tax'], ['FB', 'Oct-08-21', '01:22PM\\xa0\\xa0', 'Weekend reads: Could the IRS monitor your bank account?'], ['FB', 'Oct-08-21', '12:45PM\\xa0\\xa0', 'INVESTIGATION REMINDER: The Schall Law Firm Announces it is Investigating Claims Against Facebook, Inc. and Encourages Investors with Losses to Contact the Firm'], ['FB', 'Oct-08-21', '11:59AM\\xa0\\xa0', 'FB INVESTOR ALERT: ROSEN, A TOP RANKED LAW FIRM, Encourages Facebook, Inc. Investors with Losses to Inquire About Class Action Investigation  FB'], ['FB', 'Oct-08-21', '11:50AM\\xa0\\xa0', 'Zuckerberg Can Skip Testifying in Court Case, as Rough Week Ends'], ['FB', 'Oct-08-21', '11:01AM\\xa0\\xa0', 'UPDATE 1-Lawmakers: FTC must ensure tech companies uphold youth online privacy'], ['FB', 'Oct-08-21', '10:31AM\\xa0\\xa0', 'Lawmakers: FTC must ensure tech companies uphold youth online privacy'], ['TWTR', 'Oct-15-21', '11:17AM\\xa0\\xa0', 'Chicago Mayor Stands by Vaccine Order Amid Police Union Standoff'], ['TWTR', 'Oct-15-21', '10:31AM\\xa0\\xa0', 'Covid Is Forcing Video Game Companies to Rethink Remote Work'], ['TWTR', 'Oct-15-21', '09:17AM\\xa0\\xa0', 'Why Investors Should Care About the Volt Crypto ETF'], ['TWTR', 'Oct-14-21', '11:04PM\\xa0\\xa0', 'Nintendo Dips After New Switch Disappoints in Japan Debut'], ['TWTR', 'Oct-14-21', '04:40PM\\xa0\\xa0', \"Microsoft's (MSFT) LinkedIn to Exit China This Year\"], ['TWTR', 'Oct-14-21', '01:29PM\\xa0\\xa0', 'Microsoft Shuts LinkedIn China, Citing Challenging Climate'], ['TWTR', 'Oct-14-21', '01:23PM\\xa0\\xa0', \"What's Going On With DatChat's Stock?\"], ['TWTR', 'Oct-13-21', '05:00PM\\xa0\\xa0', 'Bitcoin Takes on Gold for Diwali, Helped by Top Bollywood Stars'], ['TWTR', 'Oct-13-21', '10:10AM\\xa0\\xa0', '3 Stocks Insiders Are Selling'], ['TWTR', 'Oct-12-21', '06:15PM\\xa0\\xa0', \"Twitter says no signs U.S. Rep. Maxine Waters' account was hacked\"], ['TWTR', 'Oct-12-21', '12:15PM\\xa0\\xa0', 'Apple Set for First MacBook Pro Revamp in Five Years on Oct. 18'], ['TWTR', 'Oct-12-21', '12:01PM\\xa0\\xa0', 'Twitter debuts new ad features, revamped algorithm ahead of ecommerce push'], ['TWTR', 'Oct-12-21', '09:59AM\\xa0\\xa0', '10 Tech Stocks to Buy According to Billionaire David Tepper'], ['TWTR', 'Oct-12-21', '07:00AM\\xa0\\xa0', 'Facebook is asking teens to use Instagram more responsibly'], ['TWTR', 'Oct-11-21', '09:33AM\\xa0\\xa0', '12 Best Software Stocks To Buy According To Hedge Funds'], ['TWTR', 'Oct-10-21', '08:59PM\\xa0\\xa0', 'Facebook-backed group launches misinformation adjudication panel in Australia'], ['TWTR', 'Oct-10-21', '08:52PM\\xa0\\xa0', 'Facebook-backed group launches misinformation adjudication panel in Australia'], ['TWTR', 'Oct-10-21', '03:05AM\\xa0\\xa0', 'Tesla Software Update Ready to Go Sunday After Delay, Musk Says'], ['TWTR', 'Oct-08-21', '08:47PM\\xa0\\xa0', 'Apple Seeks to Delay Ruling Loosening Its Grip on App Store'], ['TWTR', 'Oct-08-21', '05:34PM\\xa0\\xa0', 'Facebook, Instagram Back to Normal Following Another Outage'], ['TWTR', 'Oct-08-21', '05:25PM\\xa0\\xa0', 'Google Tests Ways to Showcase Breaking News in Twitter-Like Move'], ['TWTR', 'Oct-08-21', '02:07PM\\xa0\\xa0', \"What's Going On With DatChat's Stock Today?\"], ['TWTR', 'Oct-08-21', '12:52PM\\xa0\\xa0', 'Chiles President to Be Investigated After Pandora Revelations'], ['TWTR', 'Oct-08-21', '12:09PM\\xa0\\xa0', 'Twitter (TWTR) To Sell Mobile Ad Unit MoPub to AppLovin for $1B'], ['TWTR', 'Oct-08-21', '10:01AM\\xa0\\xa0', 'Earnings: 2 Growth Stocks to Watch in October'], ['TWTR', 'Oct-08-21', '09:52AM\\xa0\\xa0', '4 Stocks Insiders Are Selling'], ['TWTR', 'Oct-08-21', '09:31AM\\xa0\\xa0', 'Company News for Oct 8, 2021'], ['TWTR', 'Oct-07-21', '09:38PM\\xa0\\xa0', 'Puerto Ricos Plan For Rescue Aid? A New Years Bash'], ['TWTR', 'Oct-07-21', '09:00PM\\xa0\\xa0', \"Billionaire Peter Thiel's Palantir pops  3 more of his ideas that could surge next\"], ['TWTR', 'Oct-07-21', '03:44PM\\xa0\\xa0', 'Austrias Government in Peril as Bribery Probe Engulfs Kurz'], ['TWTR', 'Oct-07-21', '11:36AM\\xa0\\xa0', 'The rise of social trading: How the internet is changing investing'], ['TWTR', 'Oct-07-21', '11:12AM\\xa0\\xa0', 'Hurricane Idas impact on Royal Dutch Shell, Safeway CEO testifies in Holmes Trial, Applovin acquires Mopub from Twitter'], ['TWTR', 'Oct-07-21', '11:09AM\\xa0\\xa0', 'How social media is changing the stock market'], ['TWTR', 'Oct-07-21', '10:41AM\\xa0\\xa0', 'Peru Assets Rally as Investors Cheer Moderate Cabinet Picks'], ['TWTR', 'Oct-07-21', '08:59AM\\xa0\\xa0', 'Twitter rolls out pre-tweet warning about entering intense conversations'], ['TWTR', 'Oct-07-21', '07:08AM\\xa0\\xa0', 'Zanzibar Author Abdulrazak Gurnah Wins Nobel Prize in Literature'], ['TWTR', 'Oct-07-21', '06:08AM\\xa0\\xa0', 'Twitter Gains on $1-Billion Sale of Ad Unit MoPub, Affirms  2023 Guidance'], ['TWTR', 'Oct-07-21', '04:44AM\\xa0\\xa0', 'Premarket Movers Thursday - Twitter, Levi Strauss, Pfizer, Costco, Disney'], ['TWTR', 'Oct-07-21', '02:40AM\\xa0\\xa0', 'ECB Said to Study New Bond-Buying Plan for When Crisis Tool Ends'], ['TWTR', 'Oct-07-21', '01:37AM\\xa0\\xa0', 'Twitter Agrees to Sell MoPub for $1.05B'], ['TWTR', 'Oct-06-21', '05:44PM\\xa0\\xa0', 'Twitter Sells App Company MoPub To AppLovin For $1.05 Billion'], ['TWTR', 'Oct-06-21', '05:31PM\\xa0\\xa0', \"AppLovin to pay $1.05B to buy MoPub, Twitter's mobile ad network\"], ['TWTR', 'Oct-06-21', '05:30PM\\xa0\\xa0', 'Twitter Is Doubling Down on Advertising With a $1 Billion Asset Sale'], ['TWTR', 'Oct-06-21', '05:00PM\\xa0\\xa0', 'Twitter selling MoPub mobile-ad network to AppLovin for $1.05 billion'], ['TWTR', 'Oct-06-21', '04:48PM\\xa0\\xa0', 'Twitter Sells MoPub Ad Platform to AppLovin for $1.05 Billion'], ['TWTR', 'Oct-06-21', '04:43PM\\xa0\\xa0', 'Twitter to Sell MoPub In-App Advertising Division for $1.05 Billion'], ['TWTR', 'Oct-06-21', '04:29PM\\xa0\\xa0', 'UPDATE 3-Twitter to sell mobile ad unit MoPub for $1 bln'], ['TWTR', 'Oct-06-21', '04:21PM\\xa0\\xa0', 'Twitter to sell mobile ad unit MoPub for $1 billion'], ['TWTR', 'Oct-06-21', '04:15PM\\xa0\\xa0', 'Twitter Enters into Definitive Agreement to Sell MoPub to AppLovin for $1.05 Billion in Cash'], ['TWTR', 'Oct-06-21', '02:40PM\\xa0\\xa0', 'TikTok Promises to Remove Any Rumored Slap a Teacher Content'], ['TWTR', 'Oct-06-21', '10:08AM\\xa0\\xa0', 'Surging U.K. Inflation Is Already a Problem for Johnsons Agenda'], ['TWTR', 'Oct-06-21', '08:12AM\\xa0\\xa0', 'Swedens Economy Shrinks Much More Than Expected on Exports'], ['TWTR', 'Oct-06-21', '01:55AM\\xa0\\xa0', 'Snapchat Was the Biggest Winner the Day Facebook Went Dark'], ['TWTR', 'Oct-05-21', '07:22PM\\xa0\\xa0', 'Millions Flock to Signal and Telegram After Facebook Outage'], ['TWTR', 'Oct-05-21', '05:07PM\\xa0\\xa0', 'Facebook Outage Is Felt Acutely by Small-Business Owners'], ['TWTR', 'Oct-05-21', '01:17PM\\xa0\\xa0', 'Read Tim Cooks Staff Memo on 10th Anniversary of Jobss Death'], ['TWTR', 'Oct-05-21', '11:32AM\\xa0\\xa0', 'Nintendos Smash Bros. Gets Final Character in Hit Fighter Game'], ['TWTR', 'Oct-05-21', '10:43AM\\xa0\\xa0', \"Facebook isn't tobacco; that's ridiculous: analyst\"], ['TWTR', 'Oct-05-21', '10:29AM\\xa0\\xa0', 'Facebook whistleblower testifies before Congress, outage affects billions worldwide'], ['TWTR', 'Oct-05-21', '10:01AM\\xa0\\xa0', 'Mark Zuckerberg Has Had a Terrible Week. And Its Only Tuesday'], ['TWTR', 'Oct-05-21', '07:07AM\\xa0\\xa0', 'If Twitter (NYSE:TWTR) Improves the Selection Effect, it has a Potential to be a Multi-Bagger'], ['TWTR', 'Oct-05-21', '05:26AM\\xa0\\xa0', 'Japan Touts New Capitalism But New Finance Chief Sounds The Same'], ['TWTR', 'Oct-05-21', '04:37AM\\xa0\\xa0', 'Heres What Facebook Says Triggered the Massive Outage on Its Apps'], ['TWTR', 'Oct-05-21', '04:02AM\\xa0\\xa0', 'Facebook outage: What happened, who is to blame and will it happen again?'], ['TWTR', 'Oct-04-21', '06:54PM\\xa0\\xa0', 'Facebook Begins Recovery After Major Outage Shut Down Apps'], ['TWTR', 'Oct-04-21', '02:11PM\\xa0\\xa0', 'Facebook blackout sends users flocking to Twitter: Hello literally everyone'], ['TWTR', 'Oct-04-21', '01:31PM\\xa0\\xa0', 'Why Twitter Shares Are Falling'], ['TWTR', 'Oct-04-21', '05:30AM\\xa0\\xa0', 'A Three-Day Work Week? One Startup Experiments to Draw Talent'], ['TWTR', 'Oct-03-21', '10:00AM\\xa0\\xa0', 'Does Twitter CEO Jack Dorsey Hate Ethereum?'], ['TWTR', 'Oct-03-21', '07:23AM\\xa0\\xa0', 'UAE on High Alert, Oman Suspends Flights as Cyclone Nears'], ['TWTR', 'Oct-02-21', '10:22AM\\xa0\\xa0', 'U.K. Fuel Shortages Ease but Situation Worsens Around London'], ['TWTR', 'Oct-02-21', '03:10AM\\xa0\\xa0', 'UPDATE 2-Trump asks U.S. judge to force Twitter to restart his account'], ['TWTR', 'Oct-01-21', '11:58PM\\xa0\\xa0', 'Trump asks U.S. judge to force Twitter to restart his account'], ['TWTR', 'Oct-01-21', '11:37PM\\xa0\\xa0', 'Trump asks Florida judge to force Twitter to restart his account - Bloomberg News'], ['TWTR', 'Oct-01-21', '05:27PM\\xa0\\xa0', 'Why Twitter Stock Fell Sharply This Week'], ['TWTR', 'Oct-01-21', '12:43PM\\xa0\\xa0', \"Is Twitter Stock A Buy Right Now? Here's What Earnings, Charts Show\"], ['TWTR', 'Sep-30-21', '11:23AM\\xa0\\xa0', 'How Securitize is providing a platform for investors to access private markets'], ['TWTR', 'Sep-29-21', '01:04PM\\xa0\\xa0', 'U.K. Oil Firms Say Fuel Crisis Easing as Government Steps In'], ['TWTR', 'Sep-29-21', '12:02PM\\xa0\\xa0', \"La Palma volcano lava reaches Atlantic Ocean, Japan's new Prime Minister, Hong Kong tightens anti-doxxing law\"], ['TWTR', 'Sep-29-21', '09:00AM\\xa0\\xa0', 'YouTube Will Remove Videos With Misinformation About Any Vaccine'], ['TWTR', 'Sep-29-21', '07:07AM\\xa0\\xa0', 'Rave James Bond Reviews Raise Hopes for Moviegoing Revival'], ['TWTR', 'Sep-29-21', '07:05AM\\xa0\\xa0', 'Hong Kong Passes Tougher Anti-Doxxing Bill That Spooked Big Tech'], ['TWTR', 'Sep-28-21', '10:54AM\\xa0\\xa0', 'Why Twitter Shares Are Falling'], ['TWTR', 'Sep-25-21', '11:23AM\\xa0\\xa0', 'U.S. Move to End Huawei Saga Helps China Ties - at a Cost'], ['TWTR', 'Sep-24-21', '08:26PM\\xa0\\xa0', 'Huawei CFO Meng Wanzhou Leaves Canada on a Flight to China'], ['TWTR', 'Sep-24-21', '11:32AM\\xa0\\xa0', \"Twitter's Bitcoin Tipping Feature Could Be a Fatal Disrupter to Entire Wire Transfer Industry\"], ['TWTR', 'Sep-24-21', '11:19AM\\xa0\\xa0', 'IACs push to acquire Meredith, Boppy baby pillow recall, Twitter enables Bitcoin tips'], ['TWTR', 'Sep-24-21', '11:09AM\\xa0\\xa0', 'Twitter (TWTR) Enables Bitcoin Tipping, Safety Features & More'], ['TWTR', 'Sep-24-21', '06:24AM\\xa0\\xa0', \"Everything Investors Need to Know About Twitter's Bitcoin Tipping\"], ['TWTR', 'Sep-24-21', '06:17AM\\xa0\\xa0', 'Bitcoin falls as China declares all crypto transactions illegal'], ['TWTR', 'Sep-23-21', '07:35PM\\xa0\\xa0', 'UPDATE 1-Twitter rolls out bitcoin tipping, safety features in product push'], ['TWTR', 'Sep-23-21', '06:29PM\\xa0\\xa0', 'Twitter Readies Bitcoin Payments, Explores NFTs'], ['TWTR', 'Sep-23-21', '03:52PM\\xa0\\xa0', 'Why Dogecoin, Ethereum, and Bitcoin Popped Today'], ['TWTR', 'Sep-23-21', '03:13PM\\xa0\\xa0', 'Why the debut of tipping bitcoin on Twitter isnt just about tipping'], ['TWTR', 'Sep-23-21', '02:35PM\\xa0\\xa0', 'Twitter Will Now Let People Pay You for Your Tweets'], ['TWTR', 'Sep-23-21', '02:29PM\\xa0\\xa0', 'Tip your top tweeter with bitcoin, starting soon'], ['TWTR', 'Sep-23-21', '02:24PM\\xa0\\xa0', \"Is Twitter Stock A Buy Right Now? Here's What Earnings, Charts Show\"], ['TWTR', 'Sep-23-21', '01:24PM\\xa0\\xa0', 'N.Y. Readies for Worker Shortage; Singapore Record: Virus Update'], ['TWTR', 'Sep-23-21', '01:03PM\\xa0\\xa0', 'Twitter rolls out bitcoin tipping, safety features in product push'], ['TWTR', 'Sep-23-21', '01:00PM\\xa0\\xa0', 'Twitter is adding Bitcoin payments to its app to send another user crypto']]\n"
     ]
    }
   ],
   "source": [
    "parsed_data = []\n",
    "\n",
    "for company, news_table in news_tables.items(): # this will go through the keys we created above, company and texts\n",
    "    for row in news_table.find_all('tr'): # the text in in tr, inorder to get all text we need to write find_all if we say find we will get  only tr\n",
    "        comment = row.a.text\n",
    "        date_data = row.td.text.split(' ')\n",
    "        if len(date_data) == 1:\n",
    "            time = date_data[0]\n",
    "        else:\n",
    "            date = date_data[0]\n",
    "            time = date_data[1]\n",
    "        parsed_data.append([company,date,time,comment])\n",
    "\n",
    "        \n",
    "print(parsed_data)"
   ]
  },
  {
   "cell_type": "code",
   "execution_count": 5,
   "metadata": {},
   "outputs": [
    {
     "name": "stdout",
     "output_type": "stream",
     "text": [
      "    Company       Date       Time  \\\n",
      "0      AMZN  Oct-15-21  10:50AM     \n",
      "1      AMZN  Oct-15-21  09:53AM     \n",
      "2      AMZN  Oct-15-21  09:00AM     \n",
      "3      AMZN  Oct-15-21  09:00AM     \n",
      "4      AMZN  Oct-15-21  08:25AM     \n",
      "..      ...        ...        ...   \n",
      "395    TWTR  Sep-23-21  02:29PM     \n",
      "396    TWTR  Sep-23-21  02:24PM     \n",
      "397    TWTR  Sep-23-21  01:24PM     \n",
      "398    TWTR  Sep-23-21  01:03PM     \n",
      "399    TWTR  Sep-23-21  01:00PM     \n",
      "\n",
      "                                              Comments  \n",
      "0    Sept. retail sales report indicates strong con...  \n",
      "1    Mark Cuban just tripled his stake in Dogecoin ...  \n",
      "2    IPO Saga in Auto World Continues: Rivian the L...  \n",
      "3    Digital Transformation, Buyouts Fueling Salesf...  \n",
      "4            Is It Too Late to Buy DigitalOcean Stock?  \n",
      "..                                                 ...  \n",
      "395   Tip your top tweeter with bitcoin, starting soon  \n",
      "396  Is Twitter Stock A Buy Right Now? Here's What ...  \n",
      "397  N.Y. Readies for Worker Shortage; Singapore Re...  \n",
      "398  Twitter rolls out bitcoin tipping, safety feat...  \n",
      "399  Twitter is adding Bitcoin payments to its app ...  \n",
      "\n",
      "[400 rows x 4 columns]\n"
     ]
    }
   ],
   "source": [
    "\n",
    "df = pd.DataFrame(parsed_data, columns=['Company','Date','Time','Comments'])\n",
    "# Analyse your text\n",
    "vader = SentimentIntensityAnalyzer()\n",
    "\n",
    "print(df)"
   ]
  },
  {
   "cell_type": "code",
   "execution_count": 6,
   "metadata": {},
   "outputs": [
    {
     "data": {
      "text/plain": [
       "Index(['Company', 'Date', 'Time', 'Comments'], dtype='object')"
      ]
     },
     "execution_count": 6,
     "metadata": {},
     "output_type": "execute_result"
    }
   ],
   "source": [
    "df.columns"
   ]
  },
  {
   "cell_type": "code",
   "execution_count": 7,
   "metadata": {},
   "outputs": [
    {
     "data": {
      "text/html": [
       "<div>\n",
       "<style scoped>\n",
       "    .dataframe tbody tr th:only-of-type {\n",
       "        vertical-align: middle;\n",
       "    }\n",
       "\n",
       "    .dataframe tbody tr th {\n",
       "        vertical-align: top;\n",
       "    }\n",
       "\n",
       "    .dataframe thead th {\n",
       "        text-align: right;\n",
       "    }\n",
       "</style>\n",
       "<table border=\"1\" class=\"dataframe\">\n",
       "  <thead>\n",
       "    <tr style=\"text-align: right;\">\n",
       "      <th></th>\n",
       "      <th>Company</th>\n",
       "      <th>Date</th>\n",
       "      <th>Time</th>\n",
       "      <th>Comments</th>\n",
       "    </tr>\n",
       "  </thead>\n",
       "  <tbody>\n",
       "    <tr>\n",
       "      <th>0</th>\n",
       "      <td>AMZN</td>\n",
       "      <td>Oct-15-21</td>\n",
       "      <td>10:50AM</td>\n",
       "      <td>Sept. retail sales report indicates strong con...</td>\n",
       "    </tr>\n",
       "    <tr>\n",
       "      <th>1</th>\n",
       "      <td>AMZN</td>\n",
       "      <td>Oct-15-21</td>\n",
       "      <td>09:53AM</td>\n",
       "      <td>Mark Cuban just tripled his stake in Dogecoin ...</td>\n",
       "    </tr>\n",
       "    <tr>\n",
       "      <th>2</th>\n",
       "      <td>AMZN</td>\n",
       "      <td>Oct-15-21</td>\n",
       "      <td>09:00AM</td>\n",
       "      <td>IPO Saga in Auto World Continues: Rivian the L...</td>\n",
       "    </tr>\n",
       "    <tr>\n",
       "      <th>3</th>\n",
       "      <td>AMZN</td>\n",
       "      <td>Oct-15-21</td>\n",
       "      <td>09:00AM</td>\n",
       "      <td>Digital Transformation, Buyouts Fueling Salesf...</td>\n",
       "    </tr>\n",
       "    <tr>\n",
       "      <th>4</th>\n",
       "      <td>AMZN</td>\n",
       "      <td>Oct-15-21</td>\n",
       "      <td>08:25AM</td>\n",
       "      <td>Is It Too Late to Buy DigitalOcean Stock?</td>\n",
       "    </tr>\n",
       "  </tbody>\n",
       "</table>\n",
       "</div>"
      ],
      "text/plain": [
       "  Company       Date       Time  \\\n",
       "0    AMZN  Oct-15-21  10:50AM     \n",
       "1    AMZN  Oct-15-21  09:53AM     \n",
       "2    AMZN  Oct-15-21  09:00AM     \n",
       "3    AMZN  Oct-15-21  09:00AM     \n",
       "4    AMZN  Oct-15-21  08:25AM     \n",
       "\n",
       "                                            Comments  \n",
       "0  Sept. retail sales report indicates strong con...  \n",
       "1  Mark Cuban just tripled his stake in Dogecoin ...  \n",
       "2  IPO Saga in Auto World Continues: Rivian the L...  \n",
       "3  Digital Transformation, Buyouts Fueling Salesf...  \n",
       "4          Is It Too Late to Buy DigitalOcean Stock?  "
      ]
     },
     "execution_count": 7,
     "metadata": {},
     "output_type": "execute_result"
    }
   ],
   "source": [
    "df.head()"
   ]
  },
  {
   "cell_type": "code",
   "execution_count": 8,
   "metadata": {},
   "outputs": [],
   "source": [
    "scores = []\n",
    "# Declare variables for scores\n",
    "compound_list = []\n",
    "positive_list = []\n",
    "negative_list = []\n",
    "neutral_list = []\n",
    "for i in range(df['Comments'].shape[0]):\n",
    "#print(analyser.polarity_scores(sentiments_pd['text'][i]))\n",
    "    compound =vader.polarity_scores(df['Comments'][i])[\"compound\"]\n",
    "    pos = vader.polarity_scores(df['Comments'][i])[\"pos\"]\n",
    "    neu = vader.polarity_scores(df['Comments'][i])[\"neu\"]\n",
    "    neg = vader.polarity_scores(df['Comments'][i])[\"neg\"]\n",
    "    \n",
    "    scores.append({\"Compound\": compound,\n",
    "                       \"Positive\": pos,\n",
    "                       \"Negative\": neg,\n",
    "                       \"Neutral\": neu\n",
    "                  })"
   ]
  },
  {
   "cell_type": "code",
   "execution_count": 9,
   "metadata": {},
   "outputs": [
    {
     "name": "stdout",
     "output_type": "stream",
     "text": [
      "[{'Compound': 0.5106, 'Positive': 0.292, 'Negative': 0.0, 'Neutral': 0.708}, {'Compound': 0.0, 'Positive': 0.0, 'Negative': 0.0, 'Neutral': 1.0}, {'Compound': 0.0, 'Positive': 0.0, 'Negative': 0.0, 'Neutral': 1.0}, {'Compound': 0.3818, 'Positive': 0.302, 'Negative': 0.0, 'Neutral': 0.698}, {'Compound': 0.0, 'Positive': 0.0, 'Negative': 0.0, 'Neutral': 1.0}, {'Compound': 0.3612, 'Positive': 0.294, 'Negative': 0.0, 'Neutral': 0.706}, {'Compound': 0.0, 'Positive': 0.0, 'Negative': 0.0, 'Neutral': 1.0}, {'Compound': 0.5994, 'Positive': 0.45, 'Negative': 0.0, 'Neutral': 0.55}, {'Compound': 0.0, 'Positive': 0.0, 'Negative': 0.0, 'Neutral': 1.0}, {'Compound': 0.0, 'Positive': 0.0, 'Negative': 0.0, 'Neutral': 1.0}, {'Compound': 0.1779, 'Positive': 0.134, 'Negative': 0.0, 'Neutral': 0.866}, {'Compound': 0.0, 'Positive': 0.0, 'Negative': 0.0, 'Neutral': 1.0}, {'Compound': 0.0, 'Positive': 0.0, 'Negative': 0.0, 'Neutral': 1.0}, {'Compound': 0.1779, 'Positive': 0.108, 'Negative': 0.0, 'Neutral': 0.892}, {'Compound': 0.1779, 'Positive': 0.159, 'Negative': 0.0, 'Neutral': 0.841}, {'Compound': 0.25, 'Positive': 0.367, 'Negative': 0.167, 'Neutral': 0.467}, {'Compound': 0.0, 'Positive': 0.0, 'Negative': 0.0, 'Neutral': 1.0}, {'Compound': 0.6597, 'Positive': 0.293, 'Negative': 0.0, 'Neutral': 0.707}, {'Compound': -0.0772, 'Positive': 0.123, 'Negative': 0.141, 'Neutral': 0.736}, {'Compound': -0.2023, 'Positive': 0.0, 'Negative': 0.153, 'Neutral': 0.847}, {'Compound': 0.0, 'Positive': 0.0, 'Negative': 0.0, 'Neutral': 1.0}, {'Compound': 0.7184, 'Positive': 0.5, 'Negative': 0.0, 'Neutral': 0.5}, {'Compound': 0.1779, 'Positive': 0.145, 'Negative': 0.0, 'Neutral': 0.855}, {'Compound': 0.296, 'Positive': 0.306, 'Negative': 0.0, 'Neutral': 0.694}, {'Compound': 0.0, 'Positive': 0.0, 'Negative': 0.0, 'Neutral': 1.0}, {'Compound': 0.1779, 'Positive': 0.159, 'Negative': 0.0, 'Neutral': 0.841}, {'Compound': 0.0, 'Positive': 0.0, 'Negative': 0.0, 'Neutral': 1.0}, {'Compound': 0.6369, 'Positive': 0.344, 'Negative': 0.0, 'Neutral': 0.656}, {'Compound': -0.296, 'Positive': 0.0, 'Negative': 0.121, 'Neutral': 0.879}, {'Compound': 0.0, 'Positive': 0.0, 'Negative': 0.0, 'Neutral': 1.0}, {'Compound': 0.25, 'Positive': 0.2, 'Negative': 0.0, 'Neutral': 0.8}, {'Compound': 0.0, 'Positive': 0.0, 'Negative': 0.0, 'Neutral': 1.0}, {'Compound': 0.0, 'Positive': 0.0, 'Negative': 0.0, 'Neutral': 1.0}, {'Compound': 0.0, 'Positive': 0.0, 'Negative': 0.0, 'Neutral': 1.0}, {'Compound': 0.0, 'Positive': 0.0, 'Negative': 0.0, 'Neutral': 1.0}, {'Compound': 0.4588, 'Positive': 0.429, 'Negative': 0.0, 'Neutral': 0.571}, {'Compound': 0.0, 'Positive': 0.0, 'Negative': 0.0, 'Neutral': 1.0}, {'Compound': 0.4019, 'Positive': 0.197, 'Negative': 0.0, 'Neutral': 0.803}, {'Compound': 0.0, 'Positive': 0.0, 'Negative': 0.0, 'Neutral': 1.0}, {'Compound': 0.25, 'Positive': 0.214, 'Negative': 0.0, 'Neutral': 0.786}, {'Compound': 0.25, 'Positive': 0.214, 'Negative': 0.0, 'Neutral': 0.786}, {'Compound': 0.4588, 'Positive': 0.4, 'Negative': 0.0, 'Neutral': 0.6}, {'Compound': 0.0, 'Positive': 0.0, 'Negative': 0.0, 'Neutral': 1.0}, {'Compound': 0.1779, 'Positive': 0.162, 'Negative': 0.12, 'Neutral': 0.719}, {'Compound': 0.2263, 'Positive': 0.275, 'Negative': 0.0, 'Neutral': 0.725}, {'Compound': 0.6249, 'Positive': 0.325, 'Negative': 0.083, 'Neutral': 0.592}, {'Compound': 0.6369, 'Positive': 0.318, 'Negative': 0.0, 'Neutral': 0.682}, {'Compound': -0.128, 'Positive': 0.132, 'Negative': 0.171, 'Neutral': 0.698}, {'Compound': 0.0, 'Positive': 0.0, 'Negative': 0.0, 'Neutral': 1.0}, {'Compound': -0.34, 'Positive': 0.157, 'Negative': 0.287, 'Neutral': 0.556}, {'Compound': 0.4588, 'Positive': 0.313, 'Negative': 0.09, 'Neutral': 0.597}, {'Compound': -0.296, 'Positive': 0.135, 'Negative': 0.23, 'Neutral': 0.635}, {'Compound': 0.1779, 'Positive': 0.145, 'Negative': 0.0, 'Neutral': 0.855}, {'Compound': 0.2023, 'Positive': 0.141, 'Negative': 0.0, 'Neutral': 0.859}, {'Compound': 0.8327, 'Positive': 0.495, 'Negative': 0.0, 'Neutral': 0.505}, {'Compound': 0.8074, 'Positive': 0.399, 'Negative': 0.0, 'Neutral': 0.601}, {'Compound': 0.0, 'Positive': 0.0, 'Negative': 0.0, 'Neutral': 1.0}, {'Compound': 0.6369, 'Positive': 0.375, 'Negative': 0.0, 'Neutral': 0.625}, {'Compound': 0.1779, 'Positive': 0.134, 'Negative': 0.0, 'Neutral': 0.866}, {'Compound': -0.2023, 'Positive': 0.0, 'Negative': 0.153, 'Neutral': 0.847}, {'Compound': 0.3612, 'Positive': 0.304, 'Negative': 0.0, 'Neutral': 0.696}, {'Compound': 0.5719, 'Positive': 0.299, 'Negative': 0.0, 'Neutral': 0.701}, {'Compound': 0.0, 'Positive': 0.0, 'Negative': 0.0, 'Neutral': 1.0}, {'Compound': 0.1779, 'Positive': 0.159, 'Negative': 0.0, 'Neutral': 0.841}, {'Compound': 0.2023, 'Positive': 0.231, 'Negative': 0.0, 'Neutral': 0.769}, {'Compound': 0.6597, 'Positive': 0.403, 'Negative': 0.0, 'Neutral': 0.597}, {'Compound': 0.1901, 'Positive': 0.137, 'Negative': 0.0, 'Neutral': 0.863}, {'Compound': 0.0, 'Positive': 0.0, 'Negative': 0.0, 'Neutral': 1.0}, {'Compound': 0.4215, 'Positive': 0.288, 'Negative': 0.124, 'Neutral': 0.588}, {'Compound': 0.2023, 'Positive': 0.184, 'Negative': 0.0, 'Neutral': 0.816}, {'Compound': 0.0, 'Positive': 0.0, 'Negative': 0.0, 'Neutral': 1.0}, {'Compound': 0.5859, 'Positive': 0.545, 'Negative': 0.0, 'Neutral': 0.455}, {'Compound': 0.6369, 'Positive': 0.276, 'Negative': 0.0, 'Neutral': 0.724}, {'Compound': 0.0, 'Positive': 0.088, 'Negative': 0.088, 'Neutral': 0.825}, {'Compound': 0.4019, 'Positive': 0.252, 'Negative': 0.0, 'Neutral': 0.748}, {'Compound': 0.1779, 'Positive': 0.124, 'Negative': 0.0, 'Neutral': 0.876}, {'Compound': 0.1779, 'Positive': 0.086, 'Negative': 0.0, 'Neutral': 0.914}, {'Compound': 0.0, 'Positive': 0.0, 'Negative': 0.0, 'Neutral': 1.0}, {'Compound': 0.3818, 'Positive': 0.245, 'Negative': 0.0, 'Neutral': 0.755}, {'Compound': 0.1779, 'Positive': 0.124, 'Negative': 0.0, 'Neutral': 0.876}, {'Compound': 0.0, 'Positive': 0.0, 'Negative': 0.0, 'Neutral': 1.0}, {'Compound': 0.4019, 'Positive': 0.231, 'Negative': 0.0, 'Neutral': 0.769}, {'Compound': 0.0, 'Positive': 0.0, 'Negative': 0.0, 'Neutral': 1.0}, {'Compound': 0.1779, 'Positive': 0.116, 'Negative': 0.0, 'Neutral': 0.884}, {'Compound': -0.4019, 'Positive': 0.113, 'Negative': 0.225, 'Neutral': 0.662}, {'Compound': 0.5106, 'Positive': 0.515, 'Negative': 0.0, 'Neutral': 0.485}, {'Compound': 0.3612, 'Positive': 0.263, 'Negative': 0.0, 'Neutral': 0.737}, {'Compound': 0.1779, 'Positive': 0.195, 'Negative': 0.0, 'Neutral': 0.805}, {'Compound': 0.0, 'Positive': 0.0, 'Negative': 0.0, 'Neutral': 1.0}, {'Compound': 0.5719, 'Positive': 0.32, 'Negative': 0.0, 'Neutral': 0.68}, {'Compound': 0.6124, 'Positive': 0.286, 'Negative': 0.0, 'Neutral': 0.714}, {'Compound': 0.3818, 'Positive': 0.302, 'Negative': 0.0, 'Neutral': 0.698}, {'Compound': 0.3818, 'Positive': 0.206, 'Negative': 0.0, 'Neutral': 0.794}, {'Compound': 0.6249, 'Positive': 0.406, 'Negative': 0.0, 'Neutral': 0.594}, {'Compound': 0.1779, 'Positive': 0.134, 'Negative': 0.0, 'Neutral': 0.866}, {'Compound': 0.0, 'Positive': 0.0, 'Negative': 0.0, 'Neutral': 1.0}, {'Compound': 0.0, 'Positive': 0.0, 'Negative': 0.0, 'Neutral': 1.0}, {'Compound': 0.4019, 'Positive': 0.31, 'Negative': 0.0, 'Neutral': 0.69}, {'Compound': 0.1779, 'Positive': 0.195, 'Negative': 0.0, 'Neutral': 0.805}, {'Compound': 0.3818, 'Positive': 0.245, 'Negative': 0.0, 'Neutral': 0.755}, {'Compound': 0.0, 'Positive': 0.0, 'Negative': 0.0, 'Neutral': 1.0}, {'Compound': 0.4215, 'Positive': 0.177, 'Negative': 0.0, 'Neutral': 0.823}, {'Compound': 0.2023, 'Positive': 0.231, 'Negative': 0.0, 'Neutral': 0.769}, {'Compound': 0.0, 'Positive': 0.0, 'Negative': 0.0, 'Neutral': 1.0}, {'Compound': 0.0, 'Positive': 0.0, 'Negative': 0.0, 'Neutral': 1.0}, {'Compound': 0.4019, 'Positive': 0.153, 'Negative': 0.081, 'Neutral': 0.766}, {'Compound': 0.0, 'Positive': 0.0, 'Negative': 0.0, 'Neutral': 1.0}, {'Compound': 0.1779, 'Positive': 0.134, 'Negative': 0.0, 'Neutral': 0.866}, {'Compound': 0.0, 'Positive': 0.0, 'Negative': 0.0, 'Neutral': 1.0}, {'Compound': 0.6369, 'Positive': 0.296, 'Negative': 0.0, 'Neutral': 0.704}, {'Compound': 0.0, 'Positive': 0.0, 'Negative': 0.0, 'Neutral': 1.0}, {'Compound': 0.1779, 'Positive': 0.159, 'Negative': 0.0, 'Neutral': 0.841}, {'Compound': 0.0, 'Positive': 0.0, 'Negative': 0.0, 'Neutral': 1.0}, {'Compound': 0.1531, 'Positive': 0.211, 'Negative': 0.0, 'Neutral': 0.789}, {'Compound': 0.1779, 'Positive': 0.134, 'Negative': 0.0, 'Neutral': 0.866}, {'Compound': 0.0, 'Positive': 0.0, 'Negative': 0.0, 'Neutral': 1.0}, {'Compound': 0.0, 'Positive': 0.0, 'Negative': 0.0, 'Neutral': 1.0}, {'Compound': -0.2023, 'Positive': 0.0, 'Negative': 0.153, 'Neutral': 0.847}, {'Compound': -0.5106, 'Positive': 0.0, 'Negative': 0.462, 'Neutral': 0.538}, {'Compound': 0.0, 'Positive': 0.0, 'Negative': 0.0, 'Neutral': 1.0}, {'Compound': 0.0, 'Positive': 0.0, 'Negative': 0.0, 'Neutral': 1.0}, {'Compound': 0.0, 'Positive': 0.0, 'Negative': 0.0, 'Neutral': 1.0}, {'Compound': 0.0, 'Positive': 0.0, 'Negative': 0.0, 'Neutral': 1.0}, {'Compound': 0.0, 'Positive': 0.0, 'Negative': 0.0, 'Neutral': 1.0}, {'Compound': 0.0, 'Positive': 0.0, 'Negative': 0.0, 'Neutral': 1.0}, {'Compound': 0.34, 'Positive': 0.194, 'Negative': 0.0, 'Neutral': 0.806}, {'Compound': 0.2023, 'Positive': 0.141, 'Negative': 0.0, 'Neutral': 0.859}, {'Compound': 0.6369, 'Positive': 0.375, 'Negative': 0.0, 'Neutral': 0.625}, {'Compound': 0.0, 'Positive': 0.0, 'Negative': 0.0, 'Neutral': 1.0}, {'Compound': 0.5574, 'Positive': 0.34, 'Negative': 0.0, 'Neutral': 0.66}, {'Compound': 0.4767, 'Positive': 0.22, 'Negative': 0.0, 'Neutral': 0.78}, {'Compound': 0.0, 'Positive': 0.0, 'Negative': 0.0, 'Neutral': 1.0}, {'Compound': 0.0, 'Positive': 0.0, 'Negative': 0.0, 'Neutral': 1.0}, {'Compound': 0.2023, 'Positive': 0.375, 'Negative': 0.0, 'Neutral': 0.625}, {'Compound': 0.0, 'Positive': 0.0, 'Negative': 0.0, 'Neutral': 1.0}, {'Compound': 0.0, 'Positive': 0.0, 'Negative': 0.0, 'Neutral': 1.0}, {'Compound': 0.2023, 'Positive': 0.231, 'Negative': 0.0, 'Neutral': 0.769}, {'Compound': 0.6249, 'Positive': 0.406, 'Negative': 0.0, 'Neutral': 0.594}, {'Compound': 0.0, 'Positive': 0.0, 'Negative': 0.0, 'Neutral': 1.0}, {'Compound': 0.2023, 'Positive': 0.141, 'Negative': 0.0, 'Neutral': 0.859}, {'Compound': -0.1779, 'Positive': 0.0, 'Negative': 0.159, 'Neutral': 0.841}, {'Compound': 0.0, 'Positive': 0.0, 'Negative': 0.0, 'Neutral': 1.0}, {'Compound': 0.0, 'Positive': 0.0, 'Negative': 0.0, 'Neutral': 1.0}, {'Compound': 0.0, 'Positive': 0.088, 'Negative': 0.088, 'Neutral': 0.825}, {'Compound': 0.3818, 'Positive': 0.167, 'Negative': 0.0, 'Neutral': 0.833}, {'Compound': 0.0, 'Positive': 0.0, 'Negative': 0.0, 'Neutral': 1.0}, {'Compound': -0.34, 'Positive': 0.0, 'Negative': 0.286, 'Neutral': 0.714}, {'Compound': 0.3384, 'Positive': 0.175, 'Negative': 0.0, 'Neutral': 0.825}, {'Compound': 0.0, 'Positive': 0.0, 'Negative': 0.0, 'Neutral': 1.0}, {'Compound': 0.2732, 'Positive': 0.189, 'Negative': 0.0, 'Neutral': 0.811}, {'Compound': 0.0, 'Positive': 0.0, 'Negative': 0.0, 'Neutral': 1.0}, {'Compound': 0.4404, 'Positive': 0.326, 'Negative': 0.0, 'Neutral': 0.674}, {'Compound': -0.2263, 'Positive': 0.0, 'Negative': 0.388, 'Neutral': 0.612}, {'Compound': 0.5106, 'Positive': 0.216, 'Negative': 0.0, 'Neutral': 0.784}, {'Compound': 0.0, 'Positive': 0.0, 'Negative': 0.0, 'Neutral': 1.0}, {'Compound': 0.6249, 'Positive': 0.406, 'Negative': 0.0, 'Neutral': 0.594}, {'Compound': 0.0, 'Positive': 0.0, 'Negative': 0.0, 'Neutral': 1.0}, {'Compound': 0.0, 'Positive': 0.0, 'Negative': 0.0, 'Neutral': 1.0}, {'Compound': 0.0, 'Positive': 0.0, 'Negative': 0.0, 'Neutral': 1.0}, {'Compound': 0.6369, 'Positive': 0.296, 'Negative': 0.0, 'Neutral': 0.704}, {'Compound': 0.4588, 'Positive': 0.25, 'Negative': 0.0, 'Neutral': 0.75}, {'Compound': 0.0, 'Positive': 0.0, 'Negative': 0.0, 'Neutral': 1.0}, {'Compound': 0.0, 'Positive': 0.0, 'Negative': 0.0, 'Neutral': 1.0}, {'Compound': 0.0, 'Positive': 0.0, 'Negative': 0.0, 'Neutral': 1.0}, {'Compound': 0.0, 'Positive': 0.0, 'Negative': 0.0, 'Neutral': 1.0}, {'Compound': 0.2263, 'Positive': 0.147, 'Negative': 0.0, 'Neutral': 0.853}, {'Compound': 0.0, 'Positive': 0.0, 'Negative': 0.0, 'Neutral': 1.0}, {'Compound': 0.6369, 'Positive': 0.318, 'Negative': 0.0, 'Neutral': 0.682}, {'Compound': 0.0, 'Positive': 0.0, 'Negative': 0.0, 'Neutral': 1.0}, {'Compound': 0.0, 'Positive': 0.0, 'Negative': 0.0, 'Neutral': 1.0}, {'Compound': 0.0, 'Positive': 0.0, 'Negative': 0.0, 'Neutral': 1.0}, {'Compound': 0.6369, 'Positive': 0.296, 'Negative': 0.0, 'Neutral': 0.704}, {'Compound': -0.3182, 'Positive': 0.0, 'Negative': 0.223, 'Neutral': 0.777}, {'Compound': -0.3182, 'Positive': 0.0, 'Negative': 0.247, 'Neutral': 0.753}, {'Compound': -0.3182, 'Positive': 0.0, 'Negative': 0.247, 'Neutral': 0.753}, {'Compound': -0.1027, 'Positive': 0.0, 'Negative': 0.259, 'Neutral': 0.741}, {'Compound': 0.0, 'Positive': 0.0, 'Negative': 0.0, 'Neutral': 1.0}, {'Compound': 0.0, 'Positive': 0.0, 'Negative': 0.0, 'Neutral': 1.0}, {'Compound': 0.4767, 'Positive': 0.383, 'Negative': 0.0, 'Neutral': 0.617}, {'Compound': 0.0, 'Positive': 0.0, 'Negative': 0.0, 'Neutral': 1.0}, {'Compound': 0.0, 'Positive': 0.0, 'Negative': 0.0, 'Neutral': 1.0}, {'Compound': -0.1779, 'Positive': 0.171, 'Negative': 0.231, 'Neutral': 0.598}, {'Compound': -0.296, 'Positive': 0.0, 'Negative': 0.167, 'Neutral': 0.833}, {'Compound': 0.0, 'Positive': 0.0, 'Negative': 0.0, 'Neutral': 1.0}, {'Compound': 0.6369, 'Positive': 0.244, 'Negative': 0.0, 'Neutral': 0.756}, {'Compound': 0.0772, 'Positive': 0.159, 'Negative': 0.14, 'Neutral': 0.701}, {'Compound': -0.6486, 'Positive': 0.0, 'Negative': 0.346, 'Neutral': 0.654}, {'Compound': 0.0, 'Positive': 0.0, 'Negative': 0.0, 'Neutral': 1.0}, {'Compound': 0.4939, 'Positive': 0.167, 'Negative': 0.0, 'Neutral': 0.833}, {'Compound': 0.0, 'Positive': 0.0, 'Negative': 0.0, 'Neutral': 1.0}, {'Compound': 0.0, 'Positive': 0.0, 'Negative': 0.0, 'Neutral': 1.0}, {'Compound': 0.0, 'Positive': 0.0, 'Negative': 0.0, 'Neutral': 1.0}, {'Compound': 0.2023, 'Positive': 0.122, 'Negative': 0.0, 'Neutral': 0.878}, {'Compound': 0.1779, 'Positive': 0.221, 'Negative': 0.0, 'Neutral': 0.779}, {'Compound': -0.34, 'Positive': 0.0, 'Negative': 0.255, 'Neutral': 0.745}, {'Compound': -0.3182, 'Positive': 0.0, 'Negative': 0.247, 'Neutral': 0.753}, {'Compound': 0.0, 'Positive': 0.0, 'Negative': 0.0, 'Neutral': 1.0}, {'Compound': 0.0, 'Positive': 0.0, 'Negative': 0.0, 'Neutral': 1.0}, {'Compound': 0.0, 'Positive': 0.0, 'Negative': 0.0, 'Neutral': 1.0}, {'Compound': 0.2023, 'Positive': 0.205, 'Negative': 0.0, 'Neutral': 0.795}, {'Compound': 0.4927, 'Positive': 0.347, 'Negative': 0.0, 'Neutral': 0.653}, {'Compound': -0.4404, 'Positive': 0.0, 'Negative': 0.225, 'Neutral': 0.775}, {'Compound': -0.4767, 'Positive': 0.0, 'Negative': 0.279, 'Neutral': 0.721}, {'Compound': 0.0, 'Positive': 0.0, 'Negative': 0.0, 'Neutral': 1.0}, {'Compound': -0.296, 'Positive': 0.0, 'Negative': 0.196, 'Neutral': 0.804}, {'Compound': 0.3612, 'Positive': 0.185, 'Negative': 0.0, 'Neutral': 0.815}, {'Compound': 0.0, 'Positive': 0.0, 'Negative': 0.0, 'Neutral': 1.0}, {'Compound': 0.0, 'Positive': 0.0, 'Negative': 0.0, 'Neutral': 1.0}, {'Compound': 0.0, 'Positive': 0.0, 'Negative': 0.0, 'Neutral': 1.0}, {'Compound': 0.0, 'Positive': 0.0, 'Negative': 0.0, 'Neutral': 1.0}, {'Compound': 0.0, 'Positive': 0.0, 'Negative': 0.0, 'Neutral': 1.0}, {'Compound': 0.6369, 'Positive': 0.318, 'Negative': 0.0, 'Neutral': 0.682}, {'Compound': 0.1531, 'Positive': 0.211, 'Negative': 0.0, 'Neutral': 0.789}, {'Compound': 0.0, 'Positive': 0.0, 'Negative': 0.0, 'Neutral': 1.0}, {'Compound': 0.296, 'Positive': 0.196, 'Negative': 0.0, 'Neutral': 0.804}, {'Compound': -0.2023, 'Positive': 0.0, 'Negative': 0.153, 'Neutral': 0.847}, {'Compound': 0.0, 'Positive': 0.0, 'Negative': 0.0, 'Neutral': 1.0}, {'Compound': -0.4404, 'Positive': 0.0, 'Negative': 0.293, 'Neutral': 0.707}, {'Compound': 0.0, 'Positive': 0.0, 'Negative': 0.0, 'Neutral': 1.0}, {'Compound': 0.0, 'Positive': 0.0, 'Negative': 0.0, 'Neutral': 1.0}, {'Compound': 0.0, 'Positive': 0.0, 'Negative': 0.0, 'Neutral': 1.0}, {'Compound': 0.25, 'Positive': 0.212, 'Negative': 0.147, 'Neutral': 0.641}, {'Compound': -0.128, 'Positive': 0.32, 'Negative': 0.28, 'Neutral': 0.4}, {'Compound': 0.0, 'Positive': 0.0, 'Negative': 0.0, 'Neutral': 1.0}, {'Compound': -0.34, 'Positive': 0.157, 'Negative': 0.287, 'Neutral': 0.556}, {'Compound': 0.0, 'Positive': 0.0, 'Negative': 0.0, 'Neutral': 1.0}, {'Compound': 0.2023, 'Positive': 0.141, 'Negative': 0.0, 'Neutral': 0.859}, {'Compound': -0.4404, 'Positive': 0.0, 'Negative': 0.162, 'Neutral': 0.838}, {'Compound': -0.4588, 'Positive': 0.0, 'Negative': 0.231, 'Neutral': 0.769}, {'Compound': 0.2023, 'Positive': 0.153, 'Negative': 0.0, 'Neutral': 0.847}, {'Compound': -0.296, 'Positive': 0.0, 'Negative': 0.216, 'Neutral': 0.784}, {'Compound': 0.2023, 'Positive': 0.167, 'Negative': 0.0, 'Neutral': 0.833}, {'Compound': 0.2023, 'Positive': 0.167, 'Negative': 0.0, 'Neutral': 0.833}, {'Compound': 0.2023, 'Positive': 0.184, 'Negative': 0.0, 'Neutral': 0.816}, {'Compound': 0.0, 'Positive': 0.0, 'Negative': 0.0, 'Neutral': 1.0}, {'Compound': -0.4588, 'Positive': 0.0, 'Negative': 0.273, 'Neutral': 0.727}, {'Compound': -0.1779, 'Positive': 0.0, 'Negative': 0.159, 'Neutral': 0.841}, {'Compound': 0.0, 'Positive': 0.0, 'Negative': 0.0, 'Neutral': 1.0}, {'Compound': 0.0, 'Positive': 0.0, 'Negative': 0.0, 'Neutral': 1.0}, {'Compound': -0.5994, 'Positive': 0.0, 'Negative': 0.328, 'Neutral': 0.672}, {'Compound': 0.0, 'Positive': 0.0, 'Negative': 0.0, 'Neutral': 1.0}, {'Compound': 0.0, 'Positive': 0.088, 'Negative': 0.088, 'Neutral': 0.825}, {'Compound': -0.6597, 'Positive': 0.0, 'Negative': 0.435, 'Neutral': 0.565}, {'Compound': 0.0, 'Positive': 0.0, 'Negative': 0.0, 'Neutral': 1.0}, {'Compound': 0.7034, 'Positive': 0.226, 'Negative': 0.0, 'Neutral': 0.774}, {'Compound': 0.0258, 'Positive': 0.18, 'Negative': 0.0, 'Neutral': 0.82}, {'Compound': 0.2023, 'Positive': 0.205, 'Negative': 0.0, 'Neutral': 0.795}, {'Compound': 0.0, 'Positive': 0.0, 'Negative': 0.0, 'Neutral': 1.0}, {'Compound': 0.0, 'Positive': 0.0, 'Negative': 0.0, 'Neutral': 1.0}, {'Compound': 0.0, 'Positive': 0.0, 'Negative': 0.0, 'Neutral': 1.0}, {'Compound': 0.347, 'Positive': 0.186, 'Negative': 0.12, 'Neutral': 0.693}, {'Compound': 0.0, 'Positive': 0.0, 'Negative': 0.0, 'Neutral': 1.0}, {'Compound': 0.0, 'Positive': 0.0, 'Negative': 0.0, 'Neutral': 1.0}, {'Compound': 0.0, 'Positive': 0.0, 'Negative': 0.0, 'Neutral': 1.0}, {'Compound': 0.4404, 'Positive': 0.358, 'Negative': 0.0, 'Neutral': 0.642}, {'Compound': 0.0, 'Positive': 0.0, 'Negative': 0.0, 'Neutral': 1.0}, {'Compound': 0.0, 'Positive': 0.0, 'Negative': 0.0, 'Neutral': 1.0}, {'Compound': 0.0, 'Positive': 0.0, 'Negative': 0.0, 'Neutral': 1.0}, {'Compound': 0.4215, 'Positive': 0.259, 'Negative': 0.0, 'Neutral': 0.741}, {'Compound': 0.0, 'Positive': 0.0, 'Negative': 0.0, 'Neutral': 1.0}, {'Compound': -0.1531, 'Positive': 0.11, 'Negative': 0.154, 'Neutral': 0.735}, {'Compound': 0.5106, 'Positive': 0.248, 'Negative': 0.0, 'Neutral': 0.752}, {'Compound': -0.4019, 'Positive': 0.0, 'Negative': 0.278, 'Neutral': 0.722}, {'Compound': 0.2023, 'Positive': 0.141, 'Negative': 0.0, 'Neutral': 0.859}, {'Compound': -0.4019, 'Positive': 0.0, 'Negative': 0.213, 'Neutral': 0.787}, {'Compound': -0.4404, 'Positive': 0.0, 'Negative': 0.153, 'Neutral': 0.847}, {'Compound': -0.3182, 'Positive': 0.0, 'Negative': 0.223, 'Neutral': 0.777}, {'Compound': 0.7003, 'Positive': 0.453, 'Negative': 0.0, 'Neutral': 0.547}, {'Compound': 0.3612, 'Positive': 0.185, 'Negative': 0.0, 'Neutral': 0.815}, {'Compound': -0.3182, 'Positive': 0.0, 'Negative': 0.247, 'Neutral': 0.753}, {'Compound': -0.3182, 'Positive': 0.0, 'Negative': 0.247, 'Neutral': 0.753}, {'Compound': 0.0, 'Positive': 0.0, 'Negative': 0.0, 'Neutral': 1.0}, {'Compound': 0.0, 'Positive': 0.0, 'Negative': 0.0, 'Neutral': 1.0}, {'Compound': 0.0, 'Positive': 0.0, 'Negative': 0.0, 'Neutral': 1.0}, {'Compound': 0.0, 'Positive': 0.0, 'Negative': 0.0, 'Neutral': 1.0}, {'Compound': 0.0, 'Positive': 0.0, 'Negative': 0.0, 'Neutral': 1.0}, {'Compound': 0.0, 'Positive': 0.0, 'Negative': 0.0, 'Neutral': 1.0}, {'Compound': 0.0, 'Positive': 0.0, 'Negative': 0.0, 'Neutral': 1.0}, {'Compound': 0.4404, 'Positive': 0.326, 'Negative': 0.0, 'Neutral': 0.674}, {'Compound': 0.4019, 'Positive': 0.273, 'Negative': 0.151, 'Neutral': 0.576}, {'Compound': 0.4019, 'Positive': 0.295, 'Negative': 0.163, 'Neutral': 0.543}, {'Compound': 0.0, 'Positive': 0.0, 'Negative': 0.0, 'Neutral': 1.0}, {'Compound': 0.3612, 'Positive': 0.185, 'Negative': 0.0, 'Neutral': 0.815}, {'Compound': 0.3612, 'Positive': 0.217, 'Negative': 0.0, 'Neutral': 0.783}, {'Compound': 0.0, 'Positive': 0.0, 'Negative': 0.0, 'Neutral': 1.0}, {'Compound': 0.0, 'Positive': 0.0, 'Negative': 0.0, 'Neutral': 1.0}, {'Compound': 0.2023, 'Positive': 0.141, 'Negative': 0.0, 'Neutral': 0.859}, {'Compound': -0.5719, 'Positive': 0.0, 'Negative': 0.27, 'Neutral': 0.73}, {'Compound': -0.4019, 'Positive': 0.0, 'Negative': 0.231, 'Neutral': 0.769}, {'Compound': -0.4019, 'Positive': 0.0, 'Negative': 0.197, 'Neutral': 0.803}, {'Compound': 0.3612, 'Positive': 0.2, 'Negative': 0.0, 'Neutral': 0.8}, {'Compound': 0.3612, 'Positive': 0.217, 'Negative': 0.0, 'Neutral': 0.783}, {'Compound': 0.0, 'Positive': 0.0, 'Negative': 0.0, 'Neutral': 1.0}, {'Compound': 0.0, 'Positive': 0.0, 'Negative': 0.0, 'Neutral': 1.0}, {'Compound': 0.0, 'Positive': 0.0, 'Negative': 0.0, 'Neutral': 1.0}, {'Compound': 0.0516, 'Positive': 0.109, 'Negative': 0.102, 'Neutral': 0.789}, {'Compound': 0.6874, 'Positive': 0.298, 'Negative': 0.096, 'Neutral': 0.606}, {'Compound': 0.0, 'Positive': 0.0, 'Negative': 0.0, 'Neutral': 1.0}, {'Compound': 0.3818, 'Positive': 0.206, 'Negative': 0.0, 'Neutral': 0.794}, {'Compound': 0.3818, 'Positive': 0.224, 'Negative': 0.0, 'Neutral': 0.776}, {'Compound': 0.0, 'Positive': 0.0, 'Negative': 0.0, 'Neutral': 1.0}, {'Compound': 0.0, 'Positive': 0.0, 'Negative': 0.0, 'Neutral': 1.0}, {'Compound': 0.4939, 'Positive': 0.286, 'Negative': 0.0, 'Neutral': 0.714}, {'Compound': -0.3818, 'Positive': 0.0, 'Negative': 0.245, 'Neutral': 0.755}, {'Compound': 0.0, 'Positive': 0.0, 'Negative': 0.0, 'Neutral': 1.0}, {'Compound': 0.1531, 'Positive': 0.211, 'Negative': 0.0, 'Neutral': 0.789}, {'Compound': 0.0, 'Positive': 0.0, 'Negative': 0.0, 'Neutral': 1.0}, {'Compound': 0.2023, 'Positive': 0.153, 'Negative': 0.0, 'Neutral': 0.847}, {'Compound': 0.0, 'Positive': 0.0, 'Negative': 0.0, 'Neutral': 1.0}, {'Compound': -0.5994, 'Positive': 0.0, 'Negative': 0.353, 'Neutral': 0.647}, {'Compound': 0.0, 'Positive': 0.0, 'Negative': 0.0, 'Neutral': 1.0}, {'Compound': 0.0, 'Positive': 0.0, 'Negative': 0.0, 'Neutral': 1.0}, {'Compound': 0.0, 'Positive': 0.0, 'Negative': 0.0, 'Neutral': 1.0}, {'Compound': 0.0, 'Positive': 0.0, 'Negative': 0.0, 'Neutral': 1.0}, {'Compound': 0.6369, 'Positive': 0.318, 'Negative': 0.0, 'Neutral': 0.682}, {'Compound': -0.3182, 'Positive': 0.0, 'Negative': 0.247, 'Neutral': 0.753}, {'Compound': -0.3182, 'Positive': 0.0, 'Negative': 0.247, 'Neutral': 0.753}, {'Compound': 0.0516, 'Positive': 0.181, 'Negative': 0.167, 'Neutral': 0.652}, {'Compound': -0.3182, 'Positive': 0.0, 'Negative': 0.187, 'Neutral': 0.813}, {'Compound': 0.0, 'Positive': 0.0, 'Negative': 0.0, 'Neutral': 1.0}, {'Compound': 0.0, 'Positive': 0.0, 'Negative': 0.0, 'Neutral': 1.0}, {'Compound': 0.0, 'Positive': 0.0, 'Negative': 0.0, 'Neutral': 1.0}, {'Compound': 0.0, 'Positive': 0.0, 'Negative': 0.0, 'Neutral': 1.0}, {'Compound': 0.0, 'Positive': 0.0, 'Negative': 0.0, 'Neutral': 1.0}, {'Compound': 0.3818, 'Positive': 0.302, 'Negative': 0.0, 'Neutral': 0.698}, {'Compound': 0.0, 'Positive': 0.0, 'Negative': 0.0, 'Neutral': 1.0}, {'Compound': 0.0, 'Positive': 0.0, 'Negative': 0.0, 'Neutral': 1.0}, {'Compound': 0.5106, 'Positive': 0.292, 'Negative': 0.0, 'Neutral': 0.708}, {'Compound': 0.0, 'Positive': 0.0, 'Negative': 0.0, 'Neutral': 1.0}, {'Compound': -0.4019, 'Positive': 0.0, 'Negative': 0.252, 'Neutral': 0.748}, {'Compound': 0.0, 'Positive': 0.0, 'Negative': 0.0, 'Neutral': 1.0}, {'Compound': 0.0, 'Positive': 0.0, 'Negative': 0.0, 'Neutral': 1.0}, {'Compound': 0.0, 'Positive': 0.0, 'Negative': 0.0, 'Neutral': 1.0}, {'Compound': 0.6124, 'Positive': 0.417, 'Negative': 0.0, 'Neutral': 0.583}, {'Compound': -0.2732, 'Positive': 0.121, 'Negative': 0.224, 'Neutral': 0.654}, {'Compound': 0.7906, 'Positive': 0.5, 'Negative': 0.0, 'Neutral': 0.5}, {'Compound': 0.34, 'Positive': 0.179, 'Negative': 0.0, 'Neutral': 0.821}, {'Compound': 0.0, 'Positive': 0.0, 'Negative': 0.0, 'Neutral': 1.0}, {'Compound': -0.6249, 'Positive': 0.0, 'Negative': 0.272, 'Neutral': 0.728}, {'Compound': 0.2023, 'Positive': 0.231, 'Negative': 0.0, 'Neutral': 0.769}, {'Compound': 0.0, 'Positive': 0.0, 'Negative': 0.0, 'Neutral': 1.0}, {'Compound': -0.1027, 'Positive': 0.0, 'Negative': 0.123, 'Neutral': 0.877}, {'Compound': 0.3612, 'Positive': 0.2, 'Negative': 0.0, 'Neutral': 0.8}, {'Compound': 0.0, 'Positive': 0.0, 'Negative': 0.0, 'Neutral': 1.0}, {'Compound': 0.0, 'Positive': 0.0, 'Negative': 0.0, 'Neutral': 1.0}, {'Compound': 0.0, 'Positive': 0.0, 'Negative': 0.0, 'Neutral': 1.0}, {'Compound': 0.0, 'Positive': 0.0, 'Negative': 0.0, 'Neutral': 1.0}, {'Compound': 0.0, 'Positive': 0.0, 'Negative': 0.0, 'Neutral': 1.0}, {'Compound': 0.4939, 'Positive': 0.186, 'Negative': 0.0, 'Neutral': 0.814}, {'Compound': 0.4939, 'Positive': 0.375, 'Negative': 0.0, 'Neutral': 0.625}, {'Compound': -0.4019, 'Positive': 0.0, 'Negative': 0.252, 'Neutral': 0.748}, {'Compound': 0.0, 'Positive': 0.0, 'Negative': 0.0, 'Neutral': 1.0}, {'Compound': 0.5859, 'Positive': 0.297, 'Negative': 0.0, 'Neutral': 0.703}, {'Compound': 0.0, 'Positive': 0.0, 'Negative': 0.0, 'Neutral': 1.0}, {'Compound': 0.0, 'Positive': 0.0, 'Negative': 0.0, 'Neutral': 1.0}, {'Compound': -0.5994, 'Positive': 0.0, 'Negative': 0.281, 'Neutral': 0.719}, {'Compound': 0.1531, 'Positive': 0.151, 'Negative': 0.0, 'Neutral': 0.849}, {'Compound': 0.2755, 'Positive': 0.297, 'Negative': 0.0, 'Neutral': 0.703}, {'Compound': 0.0, 'Positive': 0.0, 'Negative': 0.0, 'Neutral': 1.0}, {'Compound': -0.4767, 'Positive': 0.0, 'Negative': 0.256, 'Neutral': 0.744}, {'Compound': 0.4215, 'Positive': 0.189, 'Negative': 0.0, 'Neutral': 0.811}, {'Compound': -0.0129, 'Positive': 0.0, 'Negative': 0.095, 'Neutral': 0.905}, {'Compound': 0.0, 'Positive': 0.0, 'Negative': 0.0, 'Neutral': 1.0}, {'Compound': -0.34, 'Positive': 0.0, 'Negative': 0.167, 'Neutral': 0.833}, {'Compound': 0.0, 'Positive': 0.0, 'Negative': 0.0, 'Neutral': 1.0}, {'Compound': 0.0, 'Positive': 0.0, 'Negative': 0.0, 'Neutral': 1.0}, {'Compound': 0.1531, 'Positive': 0.324, 'Negative': 0.235, 'Neutral': 0.441}, {'Compound': 0.4215, 'Positive': 0.259, 'Negative': 0.0, 'Neutral': 0.741}, {'Compound': -0.5719, 'Positive': 0.0, 'Negative': 0.381, 'Neutral': 0.619}, {'Compound': 0.296, 'Positive': 0.196, 'Negative': 0.0, 'Neutral': 0.804}, {'Compound': -0.5719, 'Positive': 0.133, 'Negative': 0.413, 'Neutral': 0.455}, {'Compound': 0.0, 'Positive': 0.0, 'Negative': 0.0, 'Neutral': 1.0}, {'Compound': 0.0, 'Positive': 0.0, 'Negative': 0.0, 'Neutral': 1.0}, {'Compound': 0.0, 'Positive': 0.0, 'Negative': 0.0, 'Neutral': 1.0}, {'Compound': 0.0, 'Positive': 0.0, 'Negative': 0.0, 'Neutral': 1.0}, {'Compound': 0.0, 'Positive': 0.0, 'Negative': 0.0, 'Neutral': 1.0}, {'Compound': 0.0772, 'Positive': 0.115, 'Negative': 0.0, 'Neutral': 0.885}, {'Compound': -0.4767, 'Positive': 0.132, 'Negative': 0.272, 'Neutral': 0.596}, {'Compound': 0.0516, 'Positive': 0.074, 'Negative': 0.0, 'Neutral': 0.926}, {'Compound': -0.3182, 'Positive': 0.0, 'Negative': 0.223, 'Neutral': 0.777}, {'Compound': 0.4215, 'Positive': 0.259, 'Negative': 0.0, 'Neutral': 0.741}, {'Compound': 0.1779, 'Positive': 0.159, 'Negative': 0.0, 'Neutral': 0.841}, {'Compound': 0.1531, 'Positive': 0.324, 'Negative': 0.235, 'Neutral': 0.441}, {'Compound': 0.3818, 'Positive': 0.206, 'Negative': 0.0, 'Neutral': 0.794}, {'Compound': 0.0, 'Positive': 0.0, 'Negative': 0.0, 'Neutral': 1.0}, {'Compound': -0.5423, 'Positive': 0.0, 'Negative': 0.226, 'Neutral': 0.774}, {'Compound': 0.0, 'Positive': 0.0, 'Negative': 0.0, 'Neutral': 1.0}, {'Compound': 0.4215, 'Positive': 0.286, 'Negative': 0.0, 'Neutral': 0.714}, {'Compound': 0.0, 'Positive': 0.0, 'Negative': 0.0, 'Neutral': 1.0}, {'Compound': -0.5574, 'Positive': 0.0, 'Negative': 0.31, 'Neutral': 0.69}, {'Compound': 0.4215, 'Positive': 0.219, 'Negative': 0.0, 'Neutral': 0.781}, {'Compound': 0.0, 'Positive': 0.0, 'Negative': 0.0, 'Neutral': 1.0}, {'Compound': 0.0, 'Positive': 0.0, 'Negative': 0.0, 'Neutral': 1.0}, {'Compound': 0.0, 'Positive': 0.0, 'Negative': 0.0, 'Neutral': 1.0}, {'Compound': -0.1027, 'Positive': 0.0, 'Negative': 0.135, 'Neutral': 0.865}, {'Compound': 0.2023, 'Positive': 0.205, 'Negative': 0.0, 'Neutral': 0.795}, {'Compound': 0.0, 'Positive': 0.0, 'Negative': 0.0, 'Neutral': 1.0}, {'Compound': -0.25, 'Positive': 0.0, 'Negative': 0.2, 'Neutral': 0.8}, {'Compound': 0.4215, 'Positive': 0.237, 'Negative': 0.0, 'Neutral': 0.763}, {'Compound': 0.0, 'Positive': 0.0, 'Negative': 0.0, 'Neutral': 1.0}]\n"
     ]
    }
   ],
   "source": [
    "print(scores)"
   ]
  },
  {
   "cell_type": "code",
   "execution_count": 10,
   "metadata": {},
   "outputs": [
    {
     "data": {
      "text/html": [
       "<div>\n",
       "<style scoped>\n",
       "    .dataframe tbody tr th:only-of-type {\n",
       "        vertical-align: middle;\n",
       "    }\n",
       "\n",
       "    .dataframe tbody tr th {\n",
       "        vertical-align: top;\n",
       "    }\n",
       "\n",
       "    .dataframe thead th {\n",
       "        text-align: right;\n",
       "    }\n",
       "</style>\n",
       "<table border=\"1\" class=\"dataframe\">\n",
       "  <thead>\n",
       "    <tr style=\"text-align: right;\">\n",
       "      <th></th>\n",
       "      <th>Company</th>\n",
       "      <th>Date</th>\n",
       "      <th>Time</th>\n",
       "      <th>Comments</th>\n",
       "      <th>Compound</th>\n",
       "      <th>Positive</th>\n",
       "      <th>Negative</th>\n",
       "      <th>Neutral</th>\n",
       "    </tr>\n",
       "  </thead>\n",
       "  <tbody>\n",
       "    <tr>\n",
       "      <th>0</th>\n",
       "      <td>AMZN</td>\n",
       "      <td>Oct-15-21</td>\n",
       "      <td>10:50AM</td>\n",
       "      <td>Sept. retail sales report indicates strong con...</td>\n",
       "      <td>0.5106</td>\n",
       "      <td>0.292</td>\n",
       "      <td>0.0</td>\n",
       "      <td>0.708</td>\n",
       "    </tr>\n",
       "    <tr>\n",
       "      <th>1</th>\n",
       "      <td>AMZN</td>\n",
       "      <td>Oct-15-21</td>\n",
       "      <td>09:53AM</td>\n",
       "      <td>Mark Cuban just tripled his stake in Dogecoin ...</td>\n",
       "      <td>0.0000</td>\n",
       "      <td>0.000</td>\n",
       "      <td>0.0</td>\n",
       "      <td>1.000</td>\n",
       "    </tr>\n",
       "    <tr>\n",
       "      <th>2</th>\n",
       "      <td>AMZN</td>\n",
       "      <td>Oct-15-21</td>\n",
       "      <td>09:00AM</td>\n",
       "      <td>IPO Saga in Auto World Continues: Rivian the L...</td>\n",
       "      <td>0.0000</td>\n",
       "      <td>0.000</td>\n",
       "      <td>0.0</td>\n",
       "      <td>1.000</td>\n",
       "    </tr>\n",
       "    <tr>\n",
       "      <th>3</th>\n",
       "      <td>AMZN</td>\n",
       "      <td>Oct-15-21</td>\n",
       "      <td>09:00AM</td>\n",
       "      <td>Digital Transformation, Buyouts Fueling Salesf...</td>\n",
       "      <td>0.3818</td>\n",
       "      <td>0.302</td>\n",
       "      <td>0.0</td>\n",
       "      <td>0.698</td>\n",
       "    </tr>\n",
       "    <tr>\n",
       "      <th>4</th>\n",
       "      <td>AMZN</td>\n",
       "      <td>Oct-15-21</td>\n",
       "      <td>08:25AM</td>\n",
       "      <td>Is It Too Late to Buy DigitalOcean Stock?</td>\n",
       "      <td>0.0000</td>\n",
       "      <td>0.000</td>\n",
       "      <td>0.0</td>\n",
       "      <td>1.000</td>\n",
       "    </tr>\n",
       "  </tbody>\n",
       "</table>\n",
       "</div>"
      ],
      "text/plain": [
       "  Company       Date       Time  \\\n",
       "0    AMZN  Oct-15-21  10:50AM     \n",
       "1    AMZN  Oct-15-21  09:53AM     \n",
       "2    AMZN  Oct-15-21  09:00AM     \n",
       "3    AMZN  Oct-15-21  09:00AM     \n",
       "4    AMZN  Oct-15-21  08:25AM     \n",
       "\n",
       "                                            Comments  Compound  Positive  \\\n",
       "0  Sept. retail sales report indicates strong con...    0.5106     0.292   \n",
       "1  Mark Cuban just tripled his stake in Dogecoin ...    0.0000     0.000   \n",
       "2  IPO Saga in Auto World Continues: Rivian the L...    0.0000     0.000   \n",
       "3  Digital Transformation, Buyouts Fueling Salesf...    0.3818     0.302   \n",
       "4          Is It Too Late to Buy DigitalOcean Stock?    0.0000     0.000   \n",
       "\n",
       "   Negative  Neutral  \n",
       "0       0.0    0.708  \n",
       "1       0.0    1.000  \n",
       "2       0.0    1.000  \n",
       "3       0.0    0.698  \n",
       "4       0.0    1.000  "
      ]
     },
     "execution_count": 10,
     "metadata": {},
     "output_type": "execute_result"
    }
   ],
   "source": [
    "sentiments_score = pd.DataFrame.from_dict(scores)\n",
    "df = df.join(sentiments_score)\n",
    "df.head()"
   ]
  },
  {
   "cell_type": "code",
   "execution_count": 11,
   "metadata": {},
   "outputs": [
    {
     "data": {
      "text/html": [
       "<div>\n",
       "<style scoped>\n",
       "    .dataframe tbody tr th:only-of-type {\n",
       "        vertical-align: middle;\n",
       "    }\n",
       "\n",
       "    .dataframe tbody tr th {\n",
       "        vertical-align: top;\n",
       "    }\n",
       "\n",
       "    .dataframe thead th {\n",
       "        text-align: right;\n",
       "    }\n",
       "</style>\n",
       "<table border=\"1\" class=\"dataframe\">\n",
       "  <thead>\n",
       "    <tr style=\"text-align: right;\">\n",
       "      <th></th>\n",
       "      <th>Company</th>\n",
       "      <th>Date</th>\n",
       "      <th>Time</th>\n",
       "      <th>Comments</th>\n",
       "      <th>Compound</th>\n",
       "      <th>Positive</th>\n",
       "      <th>Negative</th>\n",
       "      <th>Neutral</th>\n",
       "    </tr>\n",
       "  </thead>\n",
       "  <tbody>\n",
       "    <tr>\n",
       "      <th>0</th>\n",
       "      <td>AMZN</td>\n",
       "      <td>Oct-15-21</td>\n",
       "      <td>10:50AM</td>\n",
       "      <td>Sept. retail sales report indicates strong con...</td>\n",
       "      <td>0.5106</td>\n",
       "      <td>0.292</td>\n",
       "      <td>0.0</td>\n",
       "      <td>0.708</td>\n",
       "    </tr>\n",
       "    <tr>\n",
       "      <th>1</th>\n",
       "      <td>AMZN</td>\n",
       "      <td>Oct-15-21</td>\n",
       "      <td>09:53AM</td>\n",
       "      <td>Mark Cuban just tripled his stake in Dogecoin ...</td>\n",
       "      <td>0.0000</td>\n",
       "      <td>0.000</td>\n",
       "      <td>0.0</td>\n",
       "      <td>1.000</td>\n",
       "    </tr>\n",
       "    <tr>\n",
       "      <th>2</th>\n",
       "      <td>AMZN</td>\n",
       "      <td>Oct-15-21</td>\n",
       "      <td>09:00AM</td>\n",
       "      <td>IPO Saga in Auto World Continues: Rivian the L...</td>\n",
       "      <td>0.0000</td>\n",
       "      <td>0.000</td>\n",
       "      <td>0.0</td>\n",
       "      <td>1.000</td>\n",
       "    </tr>\n",
       "    <tr>\n",
       "      <th>3</th>\n",
       "      <td>AMZN</td>\n",
       "      <td>Oct-15-21</td>\n",
       "      <td>09:00AM</td>\n",
       "      <td>Digital Transformation, Buyouts Fueling Salesf...</td>\n",
       "      <td>0.3818</td>\n",
       "      <td>0.302</td>\n",
       "      <td>0.0</td>\n",
       "      <td>0.698</td>\n",
       "    </tr>\n",
       "    <tr>\n",
       "      <th>4</th>\n",
       "      <td>AMZN</td>\n",
       "      <td>Oct-15-21</td>\n",
       "      <td>08:25AM</td>\n",
       "      <td>Is It Too Late to Buy DigitalOcean Stock?</td>\n",
       "      <td>0.0000</td>\n",
       "      <td>0.000</td>\n",
       "      <td>0.0</td>\n",
       "      <td>1.000</td>\n",
       "    </tr>\n",
       "    <tr>\n",
       "      <th>...</th>\n",
       "      <td>...</td>\n",
       "      <td>...</td>\n",
       "      <td>...</td>\n",
       "      <td>...</td>\n",
       "      <td>...</td>\n",
       "      <td>...</td>\n",
       "      <td>...</td>\n",
       "      <td>...</td>\n",
       "    </tr>\n",
       "    <tr>\n",
       "      <th>395</th>\n",
       "      <td>TWTR</td>\n",
       "      <td>Sep-23-21</td>\n",
       "      <td>02:29PM</td>\n",
       "      <td>Tip your top tweeter with bitcoin, starting soon</td>\n",
       "      <td>0.2023</td>\n",
       "      <td>0.205</td>\n",
       "      <td>0.0</td>\n",
       "      <td>0.795</td>\n",
       "    </tr>\n",
       "    <tr>\n",
       "      <th>396</th>\n",
       "      <td>TWTR</td>\n",
       "      <td>Sep-23-21</td>\n",
       "      <td>02:24PM</td>\n",
       "      <td>Is Twitter Stock A Buy Right Now? Here's What ...</td>\n",
       "      <td>0.0000</td>\n",
       "      <td>0.000</td>\n",
       "      <td>0.0</td>\n",
       "      <td>1.000</td>\n",
       "    </tr>\n",
       "    <tr>\n",
       "      <th>397</th>\n",
       "      <td>TWTR</td>\n",
       "      <td>Sep-23-21</td>\n",
       "      <td>01:24PM</td>\n",
       "      <td>N.Y. Readies for Worker Shortage; Singapore Re...</td>\n",
       "      <td>-0.2500</td>\n",
       "      <td>0.000</td>\n",
       "      <td>0.2</td>\n",
       "      <td>0.800</td>\n",
       "    </tr>\n",
       "    <tr>\n",
       "      <th>398</th>\n",
       "      <td>TWTR</td>\n",
       "      <td>Sep-23-21</td>\n",
       "      <td>01:03PM</td>\n",
       "      <td>Twitter rolls out bitcoin tipping, safety feat...</td>\n",
       "      <td>0.4215</td>\n",
       "      <td>0.237</td>\n",
       "      <td>0.0</td>\n",
       "      <td>0.763</td>\n",
       "    </tr>\n",
       "    <tr>\n",
       "      <th>399</th>\n",
       "      <td>TWTR</td>\n",
       "      <td>Sep-23-21</td>\n",
       "      <td>01:00PM</td>\n",
       "      <td>Twitter is adding Bitcoin payments to its app ...</td>\n",
       "      <td>0.0000</td>\n",
       "      <td>0.000</td>\n",
       "      <td>0.0</td>\n",
       "      <td>1.000</td>\n",
       "    </tr>\n",
       "  </tbody>\n",
       "</table>\n",
       "<p>400 rows × 8 columns</p>\n",
       "</div>"
      ],
      "text/plain": [
       "    Company       Date       Time  \\\n",
       "0      AMZN  Oct-15-21  10:50AM     \n",
       "1      AMZN  Oct-15-21  09:53AM     \n",
       "2      AMZN  Oct-15-21  09:00AM     \n",
       "3      AMZN  Oct-15-21  09:00AM     \n",
       "4      AMZN  Oct-15-21  08:25AM     \n",
       "..      ...        ...        ...   \n",
       "395    TWTR  Sep-23-21  02:29PM     \n",
       "396    TWTR  Sep-23-21  02:24PM     \n",
       "397    TWTR  Sep-23-21  01:24PM     \n",
       "398    TWTR  Sep-23-21  01:03PM     \n",
       "399    TWTR  Sep-23-21  01:00PM     \n",
       "\n",
       "                                              Comments  Compound  Positive  \\\n",
       "0    Sept. retail sales report indicates strong con...    0.5106     0.292   \n",
       "1    Mark Cuban just tripled his stake in Dogecoin ...    0.0000     0.000   \n",
       "2    IPO Saga in Auto World Continues: Rivian the L...    0.0000     0.000   \n",
       "3    Digital Transformation, Buyouts Fueling Salesf...    0.3818     0.302   \n",
       "4            Is It Too Late to Buy DigitalOcean Stock?    0.0000     0.000   \n",
       "..                                                 ...       ...       ...   \n",
       "395   Tip your top tweeter with bitcoin, starting soon    0.2023     0.205   \n",
       "396  Is Twitter Stock A Buy Right Now? Here's What ...    0.0000     0.000   \n",
       "397  N.Y. Readies for Worker Shortage; Singapore Re...   -0.2500     0.000   \n",
       "398  Twitter rolls out bitcoin tipping, safety feat...    0.4215     0.237   \n",
       "399  Twitter is adding Bitcoin payments to its app ...    0.0000     0.000   \n",
       "\n",
       "     Negative  Neutral  \n",
       "0         0.0    0.708  \n",
       "1         0.0    1.000  \n",
       "2         0.0    1.000  \n",
       "3         0.0    0.698  \n",
       "4         0.0    1.000  \n",
       "..        ...      ...  \n",
       "395       0.0    0.795  \n",
       "396       0.0    1.000  \n",
       "397       0.2    0.800  \n",
       "398       0.0    0.763  \n",
       "399       0.0    1.000  \n",
       "\n",
       "[400 rows x 8 columns]"
      ]
     },
     "execution_count": 11,
     "metadata": {},
     "output_type": "execute_result"
    }
   ],
   "source": [
    "df"
   ]
  },
  {
   "cell_type": "code",
   "execution_count": 12,
   "metadata": {},
   "outputs": [
    {
     "data": {
      "text/html": [
       "<div>\n",
       "<style scoped>\n",
       "    .dataframe tbody tr th:only-of-type {\n",
       "        vertical-align: middle;\n",
       "    }\n",
       "\n",
       "    .dataframe tbody tr th {\n",
       "        vertical-align: top;\n",
       "    }\n",
       "\n",
       "    .dataframe thead th {\n",
       "        text-align: right;\n",
       "    }\n",
       "</style>\n",
       "<table border=\"1\" class=\"dataframe\">\n",
       "  <thead>\n",
       "    <tr style=\"text-align: right;\">\n",
       "      <th></th>\n",
       "      <th>Neutral</th>\n",
       "    </tr>\n",
       "    <tr>\n",
       "      <th>Company</th>\n",
       "      <th></th>\n",
       "    </tr>\n",
       "  </thead>\n",
       "  <tbody>\n",
       "    <tr>\n",
       "      <th>AMZN</th>\n",
       "      <td>0.81133</td>\n",
       "    </tr>\n",
       "    <tr>\n",
       "      <th>FB</th>\n",
       "      <td>0.85315</td>\n",
       "    </tr>\n",
       "    <tr>\n",
       "      <th>GOOG</th>\n",
       "      <td>0.87558</td>\n",
       "    </tr>\n",
       "    <tr>\n",
       "      <th>TWTR</th>\n",
       "      <td>0.85988</td>\n",
       "    </tr>\n",
       "  </tbody>\n",
       "</table>\n",
       "</div>"
      ],
      "text/plain": [
       "         Neutral\n",
       "Company         \n",
       "AMZN     0.81133\n",
       "FB       0.85315\n",
       "GOOG     0.87558\n",
       "TWTR     0.85988"
      ]
     },
     "execution_count": 12,
     "metadata": {},
     "output_type": "execute_result"
    }
   ],
   "source": [
    "#Collect the compound values for each news source\n",
    "score_table = df.pivot_table(index='Company',  values=\"Neutral\", aggfunc = np.mean)\n",
    "score_table"
   ]
  },
  {
   "cell_type": "code",
   "execution_count": 13,
   "metadata": {},
   "outputs": [
    {
     "data": {
      "text/plain": [
       "<AxesSubplot:xlabel='Company'>"
      ]
     },
     "execution_count": 13,
     "metadata": {},
     "output_type": "execute_result"
    },
    {
     "data": {
      "image/png": "[encoded data removed]",
      "text/plain": [
       "<Figure size 432x288 with 1 Axes>"
      ]
     },
     "metadata": {
      "needs_background": "light"
     },
     "output_type": "display_data"
    }
   ],
   "source": [
    "score_table.plot(kind='bar')"
   ]
  },
  {
   "cell_type": "code",
   "execution_count": 14,
   "metadata": {},
   "outputs": [
    {
     "data": {
      "text/html": [
       "<div>\n",
       "<style scoped>\n",
       "    .dataframe tbody tr th:only-of-type {\n",
       "        vertical-align: middle;\n",
       "    }\n",
       "\n",
       "    .dataframe tbody tr th {\n",
       "        vertical-align: top;\n",
       "    }\n",
       "\n",
       "    .dataframe thead th {\n",
       "        text-align: right;\n",
       "    }\n",
       "</style>\n",
       "<table border=\"1\" class=\"dataframe\">\n",
       "  <thead>\n",
       "    <tr style=\"text-align: right;\">\n",
       "      <th></th>\n",
       "      <th>Compound</th>\n",
       "    </tr>\n",
       "    <tr>\n",
       "      <th>Company</th>\n",
       "      <th></th>\n",
       "    </tr>\n",
       "  </thead>\n",
       "  <tbody>\n",
       "    <tr>\n",
       "      <th>AMZN</th>\n",
       "      <td>0.210581</td>\n",
       "    </tr>\n",
       "    <tr>\n",
       "      <th>FB</th>\n",
       "      <td>0.023677</td>\n",
       "    </tr>\n",
       "    <tr>\n",
       "      <th>GOOG</th>\n",
       "      <td>0.089317</td>\n",
       "    </tr>\n",
       "    <tr>\n",
       "      <th>TWTR</th>\n",
       "      <td>0.022005</td>\n",
       "    </tr>\n",
       "  </tbody>\n",
       "</table>\n",
       "</div>"
      ],
      "text/plain": [
       "         Compound\n",
       "Company          \n",
       "AMZN     0.210581\n",
       "FB       0.023677\n",
       "GOOG     0.089317\n",
       "TWTR     0.022005"
      ]
     },
     "execution_count": 14,
     "metadata": {},
     "output_type": "execute_result"
    }
   ],
   "source": [
    "#Collect the compound values for each news source\n",
    "score_table = df.pivot_table(index='Company',  values=\"Compound\", aggfunc = np.mean)\n",
    "score_table"
   ]
  },
  {
   "cell_type": "code",
   "execution_count": 15,
   "metadata": {},
   "outputs": [
    {
     "data": {
      "text/plain": [
       "<AxesSubplot:xlabel='Company'>"
      ]
     },
     "execution_count": 15,
     "metadata": {},
     "output_type": "execute_result"
    },
    {
     "data": {
      "image/png": "[encoded data removed]",
      "text/plain": [
       "<Figure size 432x288 with 1 Axes>"
      ]
     },
     "metadata": {
      "needs_background": "light"
     },
     "output_type": "display_data"
    }
   ],
   "source": [
    "#plotting \n",
    "score_table.plot(kind='bar')"
   ]
  },
  {
   "cell_type": "code",
   "execution_count": 16,
   "metadata": {},
   "outputs": [
    {
     "data": {
      "text/html": [
       "<div>\n",
       "<style scoped>\n",
       "    .dataframe tbody tr th:only-of-type {\n",
       "        vertical-align: middle;\n",
       "    }\n",
       "\n",
       "    .dataframe tbody tr th {\n",
       "        vertical-align: top;\n",
       "    }\n",
       "\n",
       "    .dataframe thead th {\n",
       "        text-align: right;\n",
       "    }\n",
       "</style>\n",
       "<table border=\"1\" class=\"dataframe\">\n",
       "  <thead>\n",
       "    <tr style=\"text-align: right;\">\n",
       "      <th></th>\n",
       "      <th>Negative</th>\n",
       "    </tr>\n",
       "    <tr>\n",
       "      <th>Company</th>\n",
       "      <th></th>\n",
       "    </tr>\n",
       "  </thead>\n",
       "  <tbody>\n",
       "    <tr>\n",
       "      <th>AMZN</th>\n",
       "      <td>0.02153</td>\n",
       "    </tr>\n",
       "    <tr>\n",
       "      <th>FB</th>\n",
       "      <td>0.06597</td>\n",
       "    </tr>\n",
       "    <tr>\n",
       "      <th>GOOG</th>\n",
       "      <td>0.03979</td>\n",
       "    </tr>\n",
       "    <tr>\n",
       "      <th>TWTR</th>\n",
       "      <td>0.05998</td>\n",
       "    </tr>\n",
       "  </tbody>\n",
       "</table>\n",
       "</div>"
      ],
      "text/plain": [
       "         Negative\n",
       "Company          \n",
       "AMZN      0.02153\n",
       "FB        0.06597\n",
       "GOOG      0.03979\n",
       "TWTR      0.05998"
      ]
     },
     "execution_count": 16,
     "metadata": {},
     "output_type": "execute_result"
    }
   ],
   "source": [
    "#Collect the negative values for each news source\n",
    "neg_score_table = df.pivot_table(index='Company',  values=\"Negative\", aggfunc = np.mean)\n",
    "neg_score_table"
   ]
  },
  {
   "cell_type": "code",
   "execution_count": 17,
   "metadata": {},
   "outputs": [
    {
     "data": {
      "text/plain": [
       "<AxesSubplot:xlabel='Company'>"
      ]
     },
     "execution_count": 17,
     "metadata": {},
     "output_type": "execute_result"
    },
    {
     "data": {
      "image/png": "[encoded data removed]",
      "text/plain": [
       "<Figure size 432x288 with 1 Axes>"
      ]
     },
     "metadata": {
      "needs_background": "light"
     },
     "output_type": "display_data"
    }
   ],
   "source": [
    "#plotting \n",
    "neg_score_table.plot(kind='bar')"
   ]
  },
  {
   "cell_type": "code",
   "execution_count": 18,
   "metadata": {},
   "outputs": [
    {
     "data": {
      "text/plain": [
       "to          149\n",
       "Facebook     69\n",
       "in           60\n",
       "Stocks       50\n",
       "on           44\n",
       "           ... \n",
       "Market?       1\n",
       "Talent        1\n",
       "Leon          1\n",
       "Rigging       1\n",
       "Measures      1\n",
       "Length: 1826, dtype: int64"
      ]
     },
     "execution_count": 18,
     "metadata": {},
     "output_type": "execute_result"
    }
   ],
   "source": [
    "df.Comments.str.split(expand=True).stack().value_counts()"
   ]
  },
  {
   "cell_type": "code",
   "execution_count": 19,
   "metadata": {},
   "outputs": [
    {
     "data": {
      "text/html": [
       "<div>\n",
       "<style scoped>\n",
       "    .dataframe tbody tr th:only-of-type {\n",
       "        vertical-align: middle;\n",
       "    }\n",
       "\n",
       "    .dataframe tbody tr th {\n",
       "        vertical-align: top;\n",
       "    }\n",
       "\n",
       "    .dataframe thead th {\n",
       "        text-align: right;\n",
       "    }\n",
       "</style>\n",
       "<table border=\"1\" class=\"dataframe\">\n",
       "  <thead>\n",
       "    <tr style=\"text-align: right;\">\n",
       "      <th></th>\n",
       "      <th>Company</th>\n",
       "      <th>Date</th>\n",
       "      <th>Time</th>\n",
       "      <th>Comments</th>\n",
       "      <th>Compound</th>\n",
       "      <th>Positive</th>\n",
       "      <th>Negative</th>\n",
       "      <th>Neutral</th>\n",
       "    </tr>\n",
       "  </thead>\n",
       "  <tbody>\n",
       "    <tr>\n",
       "      <th>395</th>\n",
       "      <td>TWTR</td>\n",
       "      <td>Sep-23-21</td>\n",
       "      <td>02:29PM</td>\n",
       "      <td>tip your top tweeter with bitcoin, starting soon</td>\n",
       "      <td>0.2023</td>\n",
       "      <td>0.205</td>\n",
       "      <td>0.0</td>\n",
       "      <td>0.795</td>\n",
       "    </tr>\n",
       "    <tr>\n",
       "      <th>396</th>\n",
       "      <td>TWTR</td>\n",
       "      <td>Sep-23-21</td>\n",
       "      <td>02:24PM</td>\n",
       "      <td>is twitter stock a buy right now? here's what ...</td>\n",
       "      <td>0.0000</td>\n",
       "      <td>0.000</td>\n",
       "      <td>0.0</td>\n",
       "      <td>1.000</td>\n",
       "    </tr>\n",
       "    <tr>\n",
       "      <th>397</th>\n",
       "      <td>TWTR</td>\n",
       "      <td>Sep-23-21</td>\n",
       "      <td>01:24PM</td>\n",
       "      <td>n.y. readies for worker shortage; singapore re...</td>\n",
       "      <td>-0.2500</td>\n",
       "      <td>0.000</td>\n",
       "      <td>0.2</td>\n",
       "      <td>0.800</td>\n",
       "    </tr>\n",
       "    <tr>\n",
       "      <th>398</th>\n",
       "      <td>TWTR</td>\n",
       "      <td>Sep-23-21</td>\n",
       "      <td>01:03PM</td>\n",
       "      <td>twitter rolls out bitcoin tipping, safety feat...</td>\n",
       "      <td>0.4215</td>\n",
       "      <td>0.237</td>\n",
       "      <td>0.0</td>\n",
       "      <td>0.763</td>\n",
       "    </tr>\n",
       "    <tr>\n",
       "      <th>399</th>\n",
       "      <td>TWTR</td>\n",
       "      <td>Sep-23-21</td>\n",
       "      <td>01:00PM</td>\n",
       "      <td>twitter is adding bitcoin payments to its app ...</td>\n",
       "      <td>0.0000</td>\n",
       "      <td>0.000</td>\n",
       "      <td>0.0</td>\n",
       "      <td>1.000</td>\n",
       "    </tr>\n",
       "  </tbody>\n",
       "</table>\n",
       "</div>"
      ],
      "text/plain": [
       "    Company       Date       Time  \\\n",
       "395    TWTR  Sep-23-21  02:29PM     \n",
       "396    TWTR  Sep-23-21  02:24PM     \n",
       "397    TWTR  Sep-23-21  01:24PM     \n",
       "398    TWTR  Sep-23-21  01:03PM     \n",
       "399    TWTR  Sep-23-21  01:00PM     \n",
       "\n",
       "                                              Comments  Compound  Positive  \\\n",
       "395   tip your top tweeter with bitcoin, starting soon    0.2023     0.205   \n",
       "396  is twitter stock a buy right now? here's what ...    0.0000     0.000   \n",
       "397  n.y. readies for worker shortage; singapore re...   -0.2500     0.000   \n",
       "398  twitter rolls out bitcoin tipping, safety feat...    0.4215     0.237   \n",
       "399  twitter is adding bitcoin payments to its app ...    0.0000     0.000   \n",
       "\n",
       "     Negative  Neutral  \n",
       "395       0.0    0.795  \n",
       "396       0.0    1.000  \n",
       "397       0.2    0.800  \n",
       "398       0.0    0.763  \n",
       "399       0.0    1.000  "
      ]
     },
     "execution_count": 19,
     "metadata": {},
     "output_type": "execute_result"
    }
   ],
   "source": [
    "df['Comments']=df['Comments'].str.lower()\n",
    "df.tail()"
   ]
  },
  {
   "cell_type": "code",
   "execution_count": 20,
   "metadata": {},
   "outputs": [],
   "source": [
    "stopwordlist = ['a', 'about', 'above', 'after', 'again', 'ain', 'all', 'am', 'an',\n",
    "             'and','any','are', 'as', 'at', 'be', 'because', 'been', 'before',\n",
    "             'being', 'below', 'between','both', 'by', 'can', 'd', 'did', 'do',\n",
    "             'does', 'doing', 'down', 'during', 'each','few', 'for', 'from',\n",
    "             'further', 'had', 'has', 'have', 'having', 'he', 'her', 'here',\n",
    "             'hers', 'herself', 'him', 'himself', 'his', 'how', 'i', 'if', 'in',\n",
    "             'into','is', 'it', 'its', 'itself', 'just', 'll', 'm', 'ma',\n",
    "             'me', 'more', 'most','my', 'myself', 'now', 'o', 'of', 'on', 'once',\n",
    "             'only', 'or', 'other', 'our', 'ours','ourselves', 'out', 'own', 're','s', 'same', 'she', \"shes\", 'should', \"shouldve\",'so', 'some', 'such',\n",
    "             't', 'than', 'that', \"thatll\", 'the', 'their', 'theirs', 'them',\n",
    "             'themselves', 'then', 'there', 'these', 'they', 'this', 'those',\n",
    "             'through', 'to', 'too','under', 'until', 'up', 've', 'very', 'was',\n",
    "             'we', 'were', 'what', 'when', 'where','which','while', 'who', 'whom',\n",
    "             'why', 'will', 'with', 'won', 'y', 'you', \"youd\",\"youll\", \"youre\",\n",
    "             \"youve\", 'your', 'yours', 'yourself', 'yourselves']"
   ]
  },
  {
   "cell_type": "code",
   "execution_count": null,
   "metadata": {},
   "outputs": [],
   "source": []
  },
  {
   "cell_type": "code",
   "execution_count": 21,
   "metadata": {},
   "outputs": [
    {
     "data": {
      "text/plain": [
       "0    sept. retail sales report indicates strong con...\n",
       "1    mark cuban tripled stake dogecoin but bet 2 st...\n",
       "2    ipo saga auto world continues: rivian latest a...\n",
       "3    digital transformation, buyouts fueling salesf...\n",
       "4                         late buy digitalocean stock?\n",
       "Name: Comments, dtype: object"
      ]
     },
     "execution_count": 21,
     "metadata": {},
     "output_type": "execute_result"
    }
   ],
   "source": [
    "STOPWORDS = set(stopwordlist)\n",
    "def cleaning_stopwords(text):\n",
    "    return \" \".join([word for word in str(text).split() if word not in STOPWORDS])\n",
    "df['Comments'] = df['Comments'].apply(lambda text: cleaning_stopwords(text))\n",
    "df['Comments'].head()"
   ]
  },
  {
   "cell_type": "code",
   "execution_count": 22,
   "metadata": {},
   "outputs": [
    {
     "data": {
      "text/plain": [
       "395                tip top tweeter bitcoin starting soon\n",
       "396    twitter stock buy right now heres earnings cha...\n",
       "397    ny readies worker shortage singapore record vi...\n",
       "398    twitter rolls bitcoin tipping safety features ...\n",
       "399    twitter adding bitcoin payments app send anoth...\n",
       "Name: Comments, dtype: object"
      ]
     },
     "execution_count": 22,
     "metadata": {},
     "output_type": "execute_result"
    }
   ],
   "source": [
    "import string\n",
    "english_punctuations = string.punctuation\n",
    "punctuations_list = english_punctuations\n",
    "def cleaning_punctuations(Comments):\n",
    "    translator = str.maketrans('', '', punctuations_list)\n",
    "    return Comments.translate(translator)\n",
    "df['Comments']= df['Comments'].apply(lambda x: cleaning_punctuations(x))\n",
    "df['Comments'].tail()"
   ]
  },
  {
   "cell_type": "code",
   "execution_count": 23,
   "metadata": {},
   "outputs": [
    {
     "data": {
      "text/plain": [
       "395                tip top tweeter bitcoin starting soon\n",
       "396    twitter stock buy right now heres earnings cha...\n",
       "397    ny readies worker shortage singapore record vi...\n",
       "398    twitter rolls bitcoin tipping safety features ...\n",
       "399    twitter adding bitcoin payments app send anoth...\n",
       "Name: Comments, dtype: object"
      ]
     },
     "execution_count": 23,
     "metadata": {},
     "output_type": "execute_result"
    }
   ],
   "source": [
    "def cleaning_repeating_char(Comments):\n",
    "    return re.sub(r'(.)1+', r'1', Comments)\n",
    "df['Comments'] = df['Comments'].apply(lambda x: cleaning_repeating_char(x))\n",
    "df['Comments'].tail()"
   ]
  },
  {
   "cell_type": "code",
   "execution_count": 24,
   "metadata": {},
   "outputs": [
    {
     "data": {
      "text/plain": [
       "395                tip top tweeter bitcoin starting soon\n",
       "396    twitter stock buy right now heres earnings cha...\n",
       "397    ny readies worker shortage singapore record vi...\n",
       "398    twitter rolls bitcoin tipping safety features ...\n",
       "399    twitter adding bitcoin payments app send anoth...\n",
       "Name: Comments, dtype: object"
      ]
     },
     "execution_count": 24,
     "metadata": {},
     "output_type": "execute_result"
    }
   ],
   "source": [
    "def cleaning_numbers(data):\n",
    "    return re.sub('[0-9]+', '', data)\n",
    "df['Comments'] = df['Comments'].apply(lambda x: cleaning_numbers(x))\n",
    "df['Comments'].tail()"
   ]
  },
  {
   "cell_type": "code",
   "execution_count": null,
   "metadata": {},
   "outputs": [],
   "source": []
  },
  {
   "cell_type": "code",
   "execution_count": 25,
   "metadata": {},
   "outputs": [
    {
     "data": {
      "text/plain": [
       "0    [sept, retail, sales, report, indicates, stron...\n",
       "1    [mark, cuban, tripled, stake, dogecoin, but, b...\n",
       "2    [ipo, saga, auto, world, continues, rivian, la...\n",
       "3    [digital, transformation, buyouts, fueling, sa...\n",
       "4                     [late, buy, digitalocean, stock]\n",
       "Name: Comments, dtype: object"
      ]
     },
     "execution_count": 25,
     "metadata": {},
     "output_type": "execute_result"
    }
   ],
   "source": [
    "from nltk.tokenize import RegexpTokenizer\n",
    "\n",
    "\n",
    "tokenizer = RegexpTokenizer(r'\\w+')\n",
    "df['Comments'] = df['Comments'].apply(tokenizer.tokenize)\n",
    "df['Comments'].head()\n"
   ]
  },
  {
   "cell_type": "code",
   "execution_count": 26,
   "metadata": {},
   "outputs": [
    {
     "data": {
      "text/plain": [
       "0    [sept, retail, sales, report, indicates, stron...\n",
       "1    [mark, cuban, tripled, stake, dogecoin, but, b...\n",
       "2    [ipo, saga, auto, world, continues, rivian, la...\n",
       "3    [digital, transformation, buyouts, fueling, sa...\n",
       "4                     [late, buy, digitalocean, stock]\n",
       "Name: Comments, dtype: object"
      ]
     },
     "execution_count": 26,
     "metadata": {},
     "output_type": "execute_result"
    }
   ],
   "source": [
    "import nltk\n",
    "st = nltk.PorterStemmer()\n",
    "def stemming_on_text(data):\n",
    "    text = [st.stem(word) for word in data]\n",
    "    return data\n",
    "df['Comments']= df['Comments'].apply(lambda x: stemming_on_text(x))\n",
    "df['Comments'].head()"
   ]
  },
  {
   "cell_type": "code",
   "execution_count": 27,
   "metadata": {},
   "outputs": [
    {
     "data": {
      "text/plain": [
       "0    [sept, retail, sales, report, indicates, stron...\n",
       "1    [mark, cuban, tripled, stake, dogecoin, but, b...\n",
       "2    [ipo, saga, auto, world, continues, rivian, la...\n",
       "3    [digital, transformation, buyouts, fueling, sa...\n",
       "4                     [late, buy, digitalocean, stock]\n",
       "Name: Comments, dtype: object"
      ]
     },
     "execution_count": 27,
     "metadata": {},
     "output_type": "execute_result"
    }
   ],
   "source": [
    "lm = nltk.WordNetLemmatizer()\n",
    "def lemmatizer_on_text(data):\n",
    "    text = [lm.lemmatize(word) for word in data]\n",
    "    return data\n",
    "df['Comments'] = df['Comments'].apply(lambda x: lemmatizer_on_text(x))\n",
    "df['Comments'].head()\n"
   ]
  },
  {
   "cell_type": "code",
   "execution_count": 28,
   "metadata": {},
   "outputs": [
    {
     "data": {
      "text/plain": [
       "0      sept retail sales report indicates strong cons...\n",
       "1      mark cuban tripled stake dogecoin but bet stoc...\n",
       "2      ipo saga auto world continues rivian latest as...\n",
       "3      digital transformation buyouts fueling salesfo...\n",
       "4                            late buy digitalocean stock\n",
       "                             ...                        \n",
       "395                tip top tweeter bitcoin starting soon\n",
       "396    twitter stock buy right now heres earnings cha...\n",
       "397    ny readies worker shortage singapore record vi...\n",
       "398    twitter rolls bitcoin tipping safety features ...\n",
       "399    twitter adding bitcoin payments app send anoth...\n",
       "Name: Comments, Length: 400, dtype: object"
      ]
     },
     "execution_count": 28,
     "metadata": {},
     "output_type": "execute_result"
    }
   ],
   "source": [
    " \n",
    "df['Comments'] = pd.Series([' '.join(map(str, x)) for x in df['Comments']])\n",
    "df['Comments']"
   ]
  },
  {
   "cell_type": "code",
   "execution_count": null,
   "metadata": {},
   "outputs": [],
   "source": [
    "\n"
   ]
  },
  {
   "cell_type": "code",
   "execution_count": 29,
   "metadata": {},
   "outputs": [],
   "source": [
    "X= df.Comments\n",
    "y= df.Compound"
   ]
  },
  {
   "cell_type": "code",
   "execution_count": 30,
   "metadata": {},
   "outputs": [],
   "source": [
    "##data_neg = \n",
    "#plt.figure(figsize = (20,20))\n",
    "#wc = WordCloud(max_words = 1000 , width = 1600 , height = 800,\n",
    "               #collocations=False).generate(\" \".join(data_neg))\n",
    "#plt.imshow(wc)"
   ]
  },
  {
   "cell_type": "code",
   "execution_count": 31,
   "metadata": {},
   "outputs": [],
   "source": [
    "# Separating the 95% data for training data and 5% for testing data\n",
    "X_train, X_test, y_train, y_test = train_test_split(X,y,test_size = 0.05, random_state =26105111)"
   ]
  },
  {
   "cell_type": "code",
   "execution_count": 32,
   "metadata": {},
   "outputs": [
    {
     "data": {
      "text/plain": [
       "72     best stocks according billionaire daniel ochs ...\n",
       "316    facebookbacked group launches misinformation a...\n",
       "341    applovin payb buy mopub twitters mobile ad net...\n",
       "346         update twitter sell mobile ad unit mopub bln\n",
       "370    uk fuel shortages ease but situation worsens a...\n",
       "                             ...                        \n",
       "215    big tech faces new bills liability competition us\n",
       "204              investors worried future facebook stock\n",
       "321                     whats going datchats stock today\n",
       "174    facebookbacked group launches misinformation a...\n",
       "244    facebook alert bragar eagel squire pc investig...\n",
       "Name: Comments, Length: 380, dtype: object"
      ]
     },
     "execution_count": 32,
     "metadata": {},
     "output_type": "execute_result"
    }
   ],
   "source": [
    "X_train"
   ]
  },
  {
   "cell_type": "code",
   "execution_count": null,
   "metadata": {},
   "outputs": [],
   "source": []
  },
  {
   "cell_type": "code",
   "execution_count": 33,
   "metadata": {},
   "outputs": [
    {
     "name": "stdout",
     "output_type": "stream",
     "text": [
      "No. of feature_words:  8\n"
     ]
    }
   ],
   "source": [
    "vectoriser = TfidfVectorizer(ngram_range=(1,2), max_features=1180)\n",
    "vectoriser.fit(df)\n",
    "print('No. of feature_words: ', len(vectoriser.get_feature_names()))"
   ]
  },
  {
   "cell_type": "code",
   "execution_count": 34,
   "metadata": {},
   "outputs": [
    {
     "name": "stdout",
     "output_type": "stream",
     "text": [
      "['comments', 'company', 'compound', 'date', 'negative', 'neutral', 'positive', 'time']\n",
      "(8, 8)\n"
     ]
    }
   ],
   "source": [
    "\n",
    "vectoriser = TfidfVectorizer()\n",
    "x = vectoriser.fit_transform(df)\n",
    "print(vectoriser.get_feature_names())\n",
    "print(x.shape)\n"
   ]
  },
  {
   "cell_type": "code",
   "execution_count": 35,
   "metadata": {},
   "outputs": [
    {
     "name": "stdout",
     "output_type": "stream",
     "text": [
      "  (12, 1)\t1.0\n"
     ]
    }
   ],
   "source": [
    "X_train = vectoriser.transform(X_train)\n",
    "X_test  = vectoriser.transform(X_test)\n",
    "print(X_test)"
   ]
  },
  {
   "cell_type": "code",
   "execution_count": 36,
   "metadata": {},
   "outputs": [],
   "source": [
    "def model_Evaluate(model):  # Predict values for Test dataset\n",
    "    y_pred = model.predict(X_test)\n",
    "    print(classification_report(y_test, y_pred))\n",
    "\n"
   ]
  },
  {
   "cell_type": "code",
   "execution_count": 37,
   "metadata": {},
   "outputs": [
    {
     "data": {
      "text/plain": [
       "Text(0.5, 1.0, 'Confusion Matrix')"
      ]
     },
     "execution_count": 37,
     "metadata": {},
     "output_type": "execute_result"
    },
    {
     "data": {
      "image/png": "[encoded data removed]",
      "text/plain": [
       "<Figure size 432x288 with 1 Axes>"
      ]
     },
     "metadata": {
      "needs_background": "light"
     },
     "output_type": "display_data"
    }
   ],
   "source": [
    "def model_Evaluate(model):  # Predict values for Test dataset\n",
    "    y_pred = model.predict(X_test)\n",
    "    print(classification_report(y_test, y_pred))  # Print the evaluation metrics for the dataset.\n",
    "    cf_matrix = confusion_matrix(y_test, y_pred)  # Compute and plot the Confusion matrix\n",
    "    categories = ['Compound','Comments']\n",
    "    group_names = ['True Neg','False Pos', 'False Neg','True Pos']\n",
    "    group_percentages = ['{0:.2%}'.format(value) for value in cf_matrix.flatten() / np.sum(cf_matrix)]\n",
    "    labels = [f'{v1}n{v2}' for v1, v2 in zip(group_names,group_percentages)]\n",
    "    labels = np.asarray(labels).reshape(2,2)\n",
    "    sns.heatmap(cf_matrix, annot = labels, cmap = 'Blues',fmt = '',\n",
    "xticklabels = categories, yticklabels = categories)\n",
    "plt.xlabel(\"Predicted values\", fontdict = {'size':14}, labelpad = 10)\n",
    "plt.ylabel(\"Actual values\" , fontdict = {'size':14}, labelpad = 10)\n",
    "plt.title (\"Confusion Matrix\", fontdict = {'size':18}, pad = 20)"
   ]
  },
  {
   "cell_type": "code",
   "execution_count": 38,
   "metadata": {},
   "outputs": [],
   "source": [
    "# BNBmodel = BernoulliNB()\n",
    "# BNBmodel.fit(X_train, y_train)\n",
    "# model_Evaluate(BNBmodel)\n",
    "# y_pred1 = BNBmodel.predict(X_test)"
   ]
  },
  {
   "cell_type": "code",
   "execution_count": 39,
   "metadata": {},
   "outputs": [],
   "source": [
    "#print('total words from movie review corpus: ', len(df['Comments'].value_counts()))\n",
    "\n",
    "# load all the words in freq distribution\n",
    "#all_words = nltk.FreqDist(w.lower() for w in df['Comments'].value_counts())\n",
    "\n",
    "#construct a list of the 2000 most frequent words in the overall corpus (you can try with other numbers as well)\n",
    "#most_freq_words = all_words.most_common(2000)\n",
    "#print('most freq words: ', most_freq_words[100:110])\n",
    "\n",
    "#word_features = [word for (word, count) in most_freq_words]\n",
    "#print('word_features[:25]: ', word_features[:25])"
   ]
  },
  {
   "cell_type": "code",
   "execution_count": 40,
   "metadata": {},
   "outputs": [
    {
     "data": {
      "text/plain": [
       "[[],\n",
       " [],\n",
       " [],\n",
       " [],\n",
       " [],\n",
       " [],\n",
       " [],\n",
       " [],\n",
       " [],\n",
       " [],\n",
       " [],\n",
       " [],\n",
       " [],\n",
       " [],\n",
       " [],\n",
       " [],\n",
       " [],\n",
       " [],\n",
       " [],\n",
       " [],\n",
       " [],\n",
       " [],\n",
       " [],\n",
       " [],\n",
       " [],\n",
       " [],\n",
       " [],\n",
       " [],\n",
       " [],\n",
       " [],\n",
       " [],\n",
       " [],\n",
       " [],\n",
       " [],\n",
       " [],\n",
       " [],\n",
       " [],\n",
       " []]"
      ]
     },
     "execution_count": 40,
     "metadata": {},
     "output_type": "execute_result"
    }
   ],
   "source": [
    "def hashtag_extract(x):\n",
    "    hashtags = []\n",
    "    # Loop over the words in the tweet\n",
    "    for i in x:\n",
    "        ht = re.findall(r\"#(\\w+)\", i)\n",
    "        hashtags.append(ht)\n",
    "    return hashtags\n",
    "\n",
    "\n",
    "HT_positive = hashtag_extract(df['Comments'][df['Compound'] > 0.5])\n",
    "HT_positive"
   ]
  },
  {
   "cell_type": "code",
   "execution_count": null,
   "metadata": {},
   "outputs": [],
   "source": []
  },
  {
   "cell_type": "code",
   "execution_count": null,
   "metadata": {},
   "outputs": [],
   "source": []
  },
  {
   "cell_type": "code",
   "execution_count": null,
   "metadata": {},
   "outputs": [],
   "source": []
  },
  {
   "cell_type": "code",
   "execution_count": 41,
   "metadata": {},
   "outputs": [
    {
     "data": {
      "text/plain": [
       "[]"
      ]
     },
     "execution_count": 41,
     "metadata": {},
     "output_type": "execute_result"
    }
   ],
   "source": [
    "HT_positive = []\n",
    "def hashtag_extract(x):\n",
    "    hashtags = []\n",
    "    # Loop over the words in the tweet\n",
    "    for i in x:\n",
    "        ht = re.findall(r\"#(\\w+)\", i)\n",
    "        hashtags.append(ht)\n",
    "    return hashtags\n",
    "# extracting hashtags from positive tweetsHT_positive = hashtag_extract(df_tws['text'][df_tws['sent'] == 1])\n",
    "# extracting hashtags from  tweets\n",
    "HT_positive = hashtag_extract(df['Comments'][df['Compound'] > 0.5])\n",
    "# unnesting list\n",
    "HT_positive = sum(HT_positive,[])\n",
    "HT_positive"
   ]
  },
  {
   "cell_type": "code",
   "execution_count": 42,
   "metadata": {},
   "outputs": [
    {
     "name": "stdout",
     "output_type": "stream",
     "text": [
      "    Company        Date       Time  \\\n",
      "0      AMZN  2021-10-15  10:50AM     \n",
      "1      AMZN  2021-10-15  09:53AM     \n",
      "2      AMZN  2021-10-15  09:00AM     \n",
      "3      AMZN  2021-10-15  09:00AM     \n",
      "4      AMZN  2021-10-15  08:25AM     \n",
      "..      ...         ...        ...   \n",
      "395    TWTR  2021-09-23  02:29PM     \n",
      "396    TWTR  2021-09-23  02:24PM     \n",
      "397    TWTR  2021-09-23  01:24PM     \n",
      "398    TWTR  2021-09-23  01:03PM     \n",
      "399    TWTR  2021-09-23  01:00PM     \n",
      "\n",
      "                                              Comments  Compound  Positive  \\\n",
      "0    sept retail sales report indicates strong cons...    0.5106     0.292   \n",
      "1    mark cuban tripled stake dogecoin but bet stoc...    0.0000     0.000   \n",
      "2    ipo saga auto world continues rivian latest as...    0.0000     0.000   \n",
      "3    digital transformation buyouts fueling salesfo...    0.3818     0.302   \n",
      "4                          late buy digitalocean stock    0.0000     0.000   \n",
      "..                                                 ...       ...       ...   \n",
      "395              tip top tweeter bitcoin starting soon    0.2023     0.205   \n",
      "396  twitter stock buy right now heres earnings cha...    0.0000     0.000   \n",
      "397  ny readies worker shortage singapore record vi...   -0.2500     0.000   \n",
      "398  twitter rolls bitcoin tipping safety features ...    0.4215     0.237   \n",
      "399  twitter adding bitcoin payments app send anoth...    0.0000     0.000   \n",
      "\n",
      "     Negative  Neutral  \n",
      "0         0.0    0.708  \n",
      "1         0.0    1.000  \n",
      "2         0.0    1.000  \n",
      "3         0.0    0.698  \n",
      "4         0.0    1.000  \n",
      "..        ...      ...  \n",
      "395       0.0    0.795  \n",
      "396       0.0    1.000  \n",
      "397       0.2    0.800  \n",
      "398       0.0    0.763  \n",
      "399       0.0    1.000  \n",
      "\n",
      "[400 rows x 8 columns]\n"
     ]
    }
   ],
   "source": [
    "function = lambda x: vader.polarity_scores(x)['compound']\n",
    "# We want to loop through our comments column\n",
    "df['Compound'] = df['Comments'].apply(function) #The compound score is the sum of positive, negative & neutral scores which is then normalized between -1(most extreme negative) and +1 (most extreme positive). The more Compound score closer to +1, the higher the positivity of the text. Above text is 49.2% Positive, 0% Negative, 50.8% Neutral\n",
    "# Convert date column to date time\n",
    "df['Date'] = pd.to_datetime(df.Date).dt.date\n",
    "\n",
    "\n",
    "\n",
    "# print(vader.polarity_scores('I hate eating cheese'))\n",
    "print(df)"
   ]
  },
  {
   "cell_type": "code",
   "execution_count": 43,
   "metadata": {},
   "outputs": [
    {
     "data": {
      "text/plain": [
       "<Figure size 432x576 with 0 Axes>"
      ]
     },
     "metadata": {},
     "output_type": "display_data"
    },
    {
     "data": {
      "image/png": "[encoded data removed]",
      "text/plain": [
       "<Figure size 432x288 with 1 Axes>"
      ]
     },
     "metadata": {
      "needs_background": "light"
     },
     "output_type": "display_data"
    }
   ],
   "source": [
    "plt.figure(figsize=(6,8))\n",
    "# Using groupby makes us to have one date entry\n",
    "mean_df = df.groupby(['Company','Date']).mean()\n",
    "#print(mean_df)\n",
    "\n",
    "# Allow us to have date as x-axis\n",
    "mean_df = mean_df.unstack()\n",
    "# Remove compound column\n",
    "mean_df = mean_df.xs('Compound', axis='columns').transpose()\n",
    "mean_df.plot(kind='bar')\n",
    "plt.show()\n",
    "#print(mean_df)"
   ]
  },
  {
   "cell_type": "code",
   "execution_count": null,
   "metadata": {},
   "outputs": [],
   "source": []
  }
 ],
 "metadata": {
  "interpreter": {
   "hash": "247ab06e135bb35fa78c5eff31b2a9a0050dcb5fb773c2631d2a29ac689eeccb"
  },
  "kernelspec": {
   "display_name": "Python 3.9.7 64-bit",
   "name": "python3"
  },
  "language_info": {
   "codemirror_mode": {
    "name": "ipython",
    "version": 3
   },
   "file_extension": ".py",
   "mimetype": "text/x-python",
   "name": "python",
   "nbconvert_exporter": "python",
   "pygments_lexer": "ipython3",
   "version": "3.9.7"
  }
 },
 "nbformat": 4,
 "nbformat_minor": 2
}
