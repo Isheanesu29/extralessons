{
 "cells": [
  {
   "cell_type": "code",
   "execution_count": null,
   "source": [
    "import numpy as np\r\n",
    "# 2 dimension lists\r\n",
    "num1 = [1,2,3,4,5,[2,3]]\r\n",
    "num2 = [6,7,8,9,10,[4,5]]\r\n",
    "num3 = [11,12,13,14,15,[4,5]]\r\n",
    "num4 = [0,[4,5]]\r\n",
    "num5 = [num1,num2,num3,num4]\r\n",
    "x = np.array(num5).shape\r\n",
    "print(x)"
   ],
   "outputs": [],
   "metadata": {}
  },
  {
   "cell_type": "code",
   "execution_count": null,
   "source": [
    "for i in range(len(num5)):\r\n",
    "    for w in num5:\r\n",
    "        for z in w:\r\n",
    "            for a in z:\r\n",
    "                print(a)"
   ],
   "outputs": [],
   "metadata": {}
  },
  {
   "cell_type": "code",
   "execution_count": null,
   "source": [
    "# List comprehension\r\n",
    "\r\n",
    "nums = [1,2,3,4,5,6,7]\r\n",
    "fruits = ['Peaches','Apples','Grapes','Oranges','Plums','Paw Paw','Banana', 'Plums']\r\n",
    "\r\n",
    "x = [(i,f) for i in nums for f in fruits]\r\n",
    "#print(x) # We created a list ofturples\r\n",
    "\r\n",
    "x = [[i,f] for i in nums for f in fruits]\r\n",
    "#print(x) # We created a list of lists\r\n",
    "\r\n",
    "x = [{i:f} for i in nums for f in fruits]\r\n",
    "# print(x) # We created a list of dictionary\r\n",
    "# print(x[5][1])\r\n",
    "\r\n",
    "x = [set([i,f]) for i in nums for f in fruits]\r\n",
    "#print(x) # We created a list of sets\r\n",
    "print(set(fruits))"
   ],
   "outputs": [],
   "metadata": {}
  },
  {
   "cell_type": "code",
   "execution_count": null,
   "source": [
    "# List comprehension\r\n",
    "# Your highest for loop is the list that comes first\r\n",
    "nums = [1,2,3,4,5,6,7]\r\n",
    "fruits = ['Peaches','Apples','Grapes','Oranges','Plums','Paw Paw','Banana']\r\n",
    "xters = ['£','$','%','&','#','@','/']\r\n",
    "nums_fruits = [nums,fruits,xters]\r\n",
    "\r\n",
    "for nested_lists in nums_fruits:\r\n",
    "        #print(nested_lists)\r\n",
    "        for x in nested_lists:\r\n",
    "                print(x)"
   ],
   "outputs": [],
   "metadata": {}
  },
  {
   "cell_type": "code",
   "execution_count": 41,
   "source": [
    "# Flattening lists\r\n",
    "nums = [1,2,3,4,5,6,7]\r\n",
    "fruits = ['Peaches','Apples','Grapes','Oranges','Plums','Paw Paw','Banana']\r\n",
    "xters = ['£','$','%','&','#','@','/']\r\n",
    "sub_lists = [nums,fruits,xters]\r\n",
    "#x = [item for item in sub_lists]\r\n",
    "x = [y for item in sub_lists for y in item]\r\n",
    "\r\n",
    "print(x)"
   ],
   "outputs": [
    {
     "output_type": "stream",
     "name": "stdout",
     "text": [
      "[1, 2, 3, 4, 5, 6, 7, 'Peaches', 'Apples', 'Grapes', 'Oranges', 'Plums', 'Paw Paw', 'Banana', '£', '$', '%', '&', '#', '@', '/']\n"
     ]
    }
   ],
   "metadata": {}
  },
  {
   "cell_type": "code",
   "execution_count": 42,
   "source": [
    "# Range\r\n",
    "for i in range(4):\r\n",
    "    for x in range(5):\r\n",
    "        # print(i,x, end=' ') # Print on one line\r\n",
    "        print(i,x)"
   ],
   "outputs": [
    {
     "output_type": "stream",
     "name": "stdout",
     "text": [
      "0 0\n",
      "0 1\n",
      "0 2\n",
      "0 3\n",
      "0 4\n",
      "1 0\n",
      "1 1\n",
      "1 2\n",
      "1 3\n",
      "1 4\n",
      "2 0\n",
      "2 1\n",
      "2 2\n",
      "2 3\n",
      "2 4\n",
      "3 0\n",
      "3 1\n",
      "3 2\n",
      "3 3\n",
      "3 4\n"
     ]
    }
   ],
   "metadata": {}
  },
  {
   "cell_type": "code",
   "execution_count": 45,
   "source": [
    "students = {\r\n",
    "    'Tom':[67,21,34,67,86],\r\n",
    "    'Kate':[87,48,99,54,44],\r\n",
    "    'Bill':[76,93,45,30,50]\r\n",
    "}\r\n",
    "\r\n",
    "# Get values\r\n",
    "for grades in students.values():\r\n",
    "    print(grades)\r\n",
    "\r\n",
    "\r\n",
    "# Get keys\r\n",
    "for keys in students.keys():\r\n",
    "     print(keys)\r\n",
    "\r\n",
    "\r\n",
    "for grades in students.values():\r\n",
    "     for x in grades:\r\n",
    "         print(x)"
   ],
   "outputs": [
    {
     "output_type": "stream",
     "name": "stdout",
     "text": [
      "[67, 21, 34, 67, 86]\n",
      "[87, 48, 99, 54, 44]\n",
      "[76, 93, 45, 30, 50]\n",
      "Tom\n",
      "Kate\n",
      "Bill\n",
      "67\n",
      "21\n",
      "34\n",
      "67\n",
      "86\n",
      "87\n",
      "48\n",
      "99\n",
      "54\n",
      "44\n",
      "76\n",
      "93\n",
      "45\n",
      "30\n",
      "50\n"
     ]
    }
   ],
   "metadata": {}
  }
 ],
 "metadata": {
  "orig_nbformat": 4,
  "language_info": {
   "name": "python",
   "version": "3.9.5",
   "mimetype": "text/x-python",
   "codemirror_mode": {
    "name": "ipython",
    "version": 3
   },
   "pygments_lexer": "ipython3",
   "nbconvert_exporter": "python",
   "file_extension": ".py"
  },
  "kernelspec": {
   "name": "python3",
   "display_name": "Python 3.9.5 64-bit"
  },
  "interpreter": {
   "hash": "247ab06e135bb35fa78c5eff31b2a9a0050dcb5fb773c2631d2a29ac689eeccb"
  }
 },
 "nbformat": 4,
 "nbformat_minor": 2
}