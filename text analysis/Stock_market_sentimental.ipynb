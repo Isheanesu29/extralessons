{
 "cells": [
  {
   "cell_type": "code",
   "execution_count": 1,
   "metadata": {},
   "outputs": [
    {
     "name": "stderr",
     "output_type": "stream",
     "text": [
      "[nltk_data] Downloading package vader_lexicon to\n",
      "[nltk_data]     C:\\Users\\user\\AppData\\Roaming\\nltk_data...\n",
      "[nltk_data]   Package vader_lexicon is already up-to-date!\n"
     ]
    },
    {
     "data": {
      "text/plain": [
       "True"
      ]
     },
     "execution_count": 1,
     "metadata": {},
     "output_type": "execute_result"
    }
   ],
   "source": [
    "from urllib.request import urlopen, Request\n",
    "from bs4 import BeautifulSoup\n",
    "from nltk.sentiment.vader import SentimentIntensityAnalyzer\n",
    "import pandas as pd\n",
    "import matplotlib.pyplot as plt\n",
    "import nltk\n",
    "import textblob\n",
    "from textblob import TextBlob\n",
    "import re\n",
    "import numpy as np\n",
    "import time\n",
    "import seaborn as sns\n",
    "from wordcloud import WordCloud\n",
    "# nltk\n",
    "from nltk.stem import WordNetLemmatizer\n",
    "# sklearn\n",
    "from sklearn.svm import LinearSVC\n",
    "from sklearn.naive_bayes import BernoulliNB\n",
    "from sklearn.linear_model import LogisticRegression\n",
    "from sklearn.model_selection import train_test_split\n",
    "from sklearn.feature_extraction.text import TfidfVectorizer\n",
    "from sklearn.metrics import confusion_matrix, classification_report\n",
    "import stop_words\n",
    "\n",
    "\n",
    "nltk.downloader.download('vader_lexicon')"
   ]
  },
  {
   "cell_type": "code",
   "execution_count": 2,
   "metadata": {},
   "outputs": [],
   "source": [
    "finviz_url = 'https://finviz.com/quote.ashx?t='\n",
    "Companies = ['AMZN', 'GOOG', 'FB','TWTR'] # stock companies\n",
    "\n",
    "news_tables = {} # Declare empty dictionary to store results from finviz"
   ]
  },
  {
   "cell_type": "code",
   "execution_count": null,
   "metadata": {},
   "outputs": [],
   "source": [
    "\n"
   ]
  },
  {
   "cell_type": "code",
   "execution_count": 3,
   "metadata": {},
   "outputs": [
    {
     "name": "stdout",
     "output_type": "stream",
     "text": [
      "{'AMZN': <table border=\"0\" cellpadding=\"1\" cellspacing=\"0\" class=\"fullview-news-outer\" id=\"news-table\" width=\"100%\">\n",
      "<tr><td align=\"right\" style=\"white-space:nowrap\" width=\"130\">Oct-20-21 05:51AM  </td><td align=\"left\"><div class=\"news-link-container\"><div class=\"news-link-left\"><a class=\"tab-link-news\" href=\"https://www.fool.com/investing/2021/10/20/3-faang-stocks-with-47-to-55-upside-wall-street/?source=eptyholnk0000202&amp;utm_source=yahoo-host&amp;utm_medium=feed&amp;utm_campaign=article\" target=\"_blank\">3 FAANG Stocks With 47% to 55% Upside, According to Wall Street</a></div><div class=\"news-link-right\"><span style=\"color:#aa6dc0;font-size:9px\"> Motley Fool</span></div></div></td></tr>\n",
      "<tr><td align=\"right\" width=\"130\">04:09AM  </td><td align=\"left\"><div class=\"news-link-container\"><div class=\"news-link-left\"><a class=\"tab-link-news\" href=\"https://finance.yahoo.com/news/deliveroo-upgrades-full-year-profit-forecast-080945403.html\" target=\"_blank\">Deliveroo shares up as it upgrades full year profit forecast</a></div><div class=\"news-link-right\"><span style=\"color:#aa6dc0;font-size:9px\"> Yahoo Finance UK</span></div></div></td></tr>\n",
      "<tr><td align=\"right\" width=\"130\">02:51AM  </td><td align=\"left\"><div class=\"news-link-container\"><div class=\"news-link-left\"><a class=\"tab-link-news\" href=\"https://finance.yahoo.com/news/3-singapore-companies-ranked-among-worlds-750-best-employers-065118880.html\" target=\"_blank\">3 Singapore companies ranked among world's best employers</a></div><div class=\"news-link-right\"><span style=\"color:#aa6dc0;font-size:9px\"> Yahoo Finance Singapore</span></div></div></td></tr>\n",
      "<tr><td align=\"right\" width=\"130\">12:00AM  </td><td align=\"left\"><div class=\"news-link-container\"><div class=\"news-link-left\"><a class=\"tab-link-news\" href=\"https://www.investopedia.com/amazon-amzn-builds-out-quick-delivery-network-5206452?utm_campaign=quote-yahoo&amp;utm_source=yahoo&amp;utm_medium=referral\" target=\"_blank\">Amazon (AMZN) Builds Out Quick-Delivery Network</a></div><div class=\"news-link-right\"><span style=\"color:#aa6dc0;font-size:9px\"> Investopedia</span></div></div></td></tr>\n",
      "<tr><td align=\"right\" style=\"white-space:nowrap\" width=\"130\">Oct-19-21 11:58PM  </td><td align=\"left\"><div class=\"news-link-container\"><div class=\"news-link-left\"><a class=\"tab-link-news\" href=\"https://www.investopedia.com/amazon-amzn-builds-quick-delivery-network-5206452?utm_campaign=quote-yahoo&amp;utm_source=yahoo&amp;utm_medium=referral\" target=\"_blank\">Amazon (AMZN) Builds Quick-Delivery Network</a></div><div class=\"news-link-right\"><span style=\"color:#aa6dc0;font-size:9px\"> Investopedia</span></div></div></td></tr>\n",
      "<tr><td align=\"right\" width=\"130\">05:54PM  </td><td align=\"left\"><div class=\"news-link-container\"><div class=\"news-link-left\"><a class=\"tab-link-news\" href=\"https://www.investopedia.com/netflix-q3-fy2021-earnings-report-recap-5206387?utm_campaign=quote-yahoo&amp;utm_source=yahoo&amp;utm_medium=referral\" target=\"_blank\">Netflix Earnings: What Happened with NFLX</a></div><div class=\"news-link-right\"><span style=\"color:#aa6dc0;font-size:9px\"> Investopedia</span></div></div></td></tr>\n",
      "<tr><td align=\"right\" width=\"130\">05:39PM  </td><td align=\"left\"><div class=\"news-link-container\"><div class=\"news-link-left\"><a class=\"tab-link-news\" href=\"https://www.barrons.com/articles/bitcoin-etf-proshares-bito-51634631544?siteid=yhoof2\" target=\"_blank\">Bitcoin-Futures ETF Has a Fine First Day. The Crypto  Isnt Doing So Bad Either.</a></div><div class=\"news-link-right\"><span style=\"color:#aa6dc0;font-size:9px\"> Barrons.com</span></div></div></td></tr>\n",
      "<tr><td align=\"right\" width=\"130\">05:22PM  </td><td align=\"left\"><div class=\"news-link-container\"><div class=\"news-link-left\"><a class=\"tab-link-news\" href=\"https://www.fool.com/investing/2021/10/19/9-foolish-truths-that-i-hold-to-be-self-evident/?source=eptyholnk0000202&amp;utm_source=yahoo-host&amp;utm_medium=feed&amp;utm_campaign=article\" target=\"_blank\">\"9 Foolish Truths That I Hold to Be Self-Evident\"</a></div><div class=\"news-link-right\"><span style=\"color:#aa6dc0;font-size:9px\"> Motley Fool</span></div></div></td></tr>\n",
      "<tr><td align=\"right\" width=\"130\">05:21PM  </td><td align=\"left\"><div class=\"news-link-container\"><div class=\"news-link-left\"><a class=\"tab-link-news\" href=\"https://www.bizjournals.com/seattle/news/2021/10/19/amazon-des-moines-bellwether-affordable-housing.html?ana=yahoo\" target=\"_blank\">Bellwether acquires South King County affordable units with $25M from Amazon</a></div><div class=\"news-link-right\"><span style=\"color:#aa6dc0;font-size:9px\"> American City Business Journals</span></div></div></td></tr>\n",
      "<tr><td align=\"right\" width=\"130\">04:35PM  </td><td align=\"left\"><div class=\"news-link-container\"><div class=\"news-link-left\"><a class=\"tab-link-news\" href=\"https://finance.yahoo.com/news/wood-mnuchin-rank-among-day-143000794.html\" target=\"_blank\">Apollo to Consider More Firms for an Impact Fund: Milken Update</a></div><div class=\"news-link-right\"><span style=\"color:#aa6dc0;font-size:9px\"> Bloomberg</span></div></div></td></tr>\n",
      "<tr><td align=\"right\" width=\"130\">04:05PM  </td><td align=\"left\"><div class=\"news-link-container\"><div class=\"news-link-left\"><a class=\"tab-link-news\" href=\"https://www.investors.com/news/technology/google-stock-facebook-stock-estimates-hiked-ahead-of-earnings-branch/?src=A00220\" target=\"_blank\">Earnings Estimates For Tech Stocks Rise Ahead Of Reports, Netflix Beats</a></div><div class=\"news-link-right\"><span style=\"color:#aa6dc0;font-size:9px\"> Investor's Business Daily</span></div></div></td></tr>\n",
      "<tr><td align=\"right\" width=\"130\">01:32PM  </td><td align=\"left\"><div class=\"news-link-container\"><div class=\"news-link-left\"><a class=\"tab-link-news\" href=\"https://finance.yahoo.com/news/softbank-weighs-stake-ampere-valuing-173254141.html\" target=\"_blank\">SoftBank Weighs Stake in Ampere, Valuing Chipmaker at $8 Billion</a></div><div class=\"news-link-right\"><span style=\"color:#aa6dc0;font-size:9px\"> Bloomberg</span></div></div></td></tr>\n",
      "<tr><td align=\"right\" width=\"130\">01:00PM  </td><td align=\"left\"><div class=\"news-link-container\"><div class=\"news-link-left\"><a class=\"tab-link-news\" href=\"https://finance.yahoo.com/news/bellwether-housing-amazon-team-preserve-170000082.html\" target=\"_blank\">Bellwether Housing and Amazon Team Up to Preserve Affordable Housing</a></div><div class=\"news-link-right\"><span style=\"color:#aa6dc0;font-size:9px\"> Business Wire</span></div></div></td></tr>\n",
      "<tr><td align=\"right\" width=\"130\">12:05PM  </td><td align=\"left\"><div class=\"news-link-container\"><div class=\"news-link-left\"><a class=\"tab-link-news\" href=\"https://finance.yahoo.com/news/5-consumer-discretionary-etfs-rising-160504221.html\" target=\"_blank\">5 Consumer Discretionary ETFs Rising to New Highs</a></div><div class=\"news-link-right\"><span style=\"color:#aa6dc0;font-size:9px\"> Zacks</span></div></div></td></tr>\n",
      "<tr><td align=\"right\" width=\"130\">12:00PM  </td><td align=\"left\"><div class=\"news-link-container\"><div class=\"news-link-left\"><a class=\"tab-link-news\" href=\"https://finance.yahoo.com/news/york-san-francisco-see-tech-160000723.html\" target=\"_blank\">Tech Salaries Are on the Rise, Just Not in New York or San Francisco</a></div><div class=\"news-link-right\"><span style=\"color:#aa6dc0;font-size:9px\"> Bloomberg</span></div></div></td></tr>\n",
      "<tr><td align=\"right\" width=\"130\">11:40AM  </td><td align=\"left\"><div class=\"news-link-container\"><div class=\"news-link-left\"><a class=\"tab-link-news\" href=\"https://finance.yahoo.com/news/ostk-vs-amzn-stock-better-154003014.html\" target=\"_blank\">OSTK vs. AMZN: Which Stock Is the Better Value Option?</a></div><div class=\"news-link-right\"><span style=\"color:#aa6dc0;font-size:9px\"> Zacks</span></div></div></td></tr>\n",
      "<tr><td align=\"right\" width=\"130\">11:34AM  </td><td align=\"left\"><div class=\"news-link-container\"><div class=\"news-link-left\"><a class=\"tab-link-news\" href=\"https://www.fool.com/investing/2021/10/19/smart-stock-buy-if-market-crash-home-depot/?source=eptyholnk0000202&amp;utm_source=yahoo-host&amp;utm_medium=feed&amp;utm_campaign=article\" target=\"_blank\">This Is the Smartest Stock to Buy If the Market Crashes</a></div><div class=\"news-link-right\"><span style=\"color:#aa6dc0;font-size:9px\"> Motley Fool</span></div></div></td></tr>\n",
      "<tr><td align=\"right\" width=\"130\">10:09AM  </td><td align=\"left\"><div class=\"news-link-container\"><div class=\"news-link-left\"><a class=\"tab-link-news\" href=\"https://finance.yahoo.com/news/1-amazon-others-commit-using-140926261.html\" target=\"_blank\">UPDATE 1-Amazon and others commit to using zero-carbon shipping fuels by 2040</a></div><div class=\"news-link-right\"><span style=\"color:#aa6dc0;font-size:9px\"> Reuters</span></div></div></td></tr>\n",
      "<tr><td align=\"right\" width=\"130\">09:59AM  </td><td align=\"left\"><div class=\"news-link-container\"><div class=\"news-link-left\"><a class=\"tab-link-news\" href=\"https://www.fool.com/investing/2021/10/19/if-invested-1000-microsoft-2014-how-much-today/?source=eptyholnk0000202&amp;utm_source=yahoo-host&amp;utm_medium=feed&amp;utm_campaign=article\" target=\"_blank\">If You'd Invested $1,000 in Microsoft in 2014, This Is How Much You Would Have Today</a></div><div class=\"news-link-right\"><span style=\"color:#aa6dc0;font-size:9px\"> Motley Fool</span></div></div></td></tr>\n",
      "<tr><td align=\"right\" width=\"130\">09:41AM  </td><td align=\"left\"><div class=\"news-link-container\"><div class=\"news-link-left\"><a class=\"tab-link-news\" href=\"https://www.fool.com/investing/2021/10/19/these-supercharged-stocks-can-triple-your-money/?source=eptyholnk0000202&amp;utm_source=yahoo-host&amp;utm_medium=feed&amp;utm_campaign=article\" target=\"_blank\">Got $3,000? These Supercharged Stocks Can Triple Your Money in a Decade</a></div><div class=\"news-link-right\"><span style=\"color:#aa6dc0;font-size:9px\"> Motley Fool</span></div></div></td></tr>\n",
      "<tr><td align=\"right\" width=\"130\">09:17AM  </td><td align=\"left\"><div class=\"news-link-container\"><div class=\"news-link-left\"><a class=\"tab-link-news\" href=\"https://finance.yahoo.com/news/globalfoundries-mubadala-seek-raise-2-131723229.html\" target=\"_blank\">GlobalFoundries, Mubadala Seek to Raise $2.6 Billion in IPO</a></div><div class=\"news-link-right\"><span style=\"color:#aa6dc0;font-size:9px\"> Bloomberg</span></div></div></td></tr>\n",
      "<tr><td align=\"right\" width=\"130\">09:10AM  </td><td align=\"left\"><div class=\"news-link-container\"><div class=\"news-link-left\"><a class=\"tab-link-news\" href=\"https://finance.yahoo.com/news/amazon-music-brings-spatial-audio-131000245.html\" target=\"_blank\">Amazon Music Brings Spatial Audio to More Customers Than Ever Before</a></div><div class=\"news-link-right\"><span style=\"color:#aa6dc0;font-size:9px\"> Business Wire</span></div></div></td></tr>\n",
      "<tr><td align=\"right\" width=\"130\">08:45AM  </td><td align=\"left\"><div class=\"news-link-container\"><div class=\"news-link-left\"><a class=\"tab-link-news\" href=\"https://finance.yahoo.com/news/jeff-bezos-stock-portfolio-10-124550236.html\" target=\"_blank\">Jeff Bezos Stock Portfolio: 10 Companies Bezos Is Investing In</a></div><div class=\"news-link-right\"><span style=\"color:#aa6dc0;font-size:9px\"> Insider Monkey</span></div></div></td></tr>\n",
      "<tr><td align=\"right\" width=\"130\">08:15AM  </td><td align=\"left\"><div class=\"news-link-container\"><div class=\"news-link-left\"><a class=\"tab-link-news\" href=\"https://finance.yahoo.com/news/amazon-others-commit-using-zero-121532492.html\" target=\"_blank\">Amazon and others commit to using zero-carbon shipping fuels by 2040</a></div><div class=\"news-link-right\"><span style=\"color:#aa6dc0;font-size:9px\"> Reuters</span></div></div></td></tr>\n",
      "<tr><td align=\"right\" width=\"130\">08:00AM  </td><td align=\"left\"><div class=\"news-link-container\"><div class=\"news-link-left\"><a class=\"tab-link-news\" href=\"https://finance.yahoo.com/news/amazon-others-commit-using-zero-120000398.html\" target=\"_blank\">Amazon and others commit to using zero-carbon shipping fuels by 2040</a></div><div class=\"news-link-right\"><span style=\"color:#aa6dc0;font-size:9px\"> Reuters</span></div></div></td></tr>\n",
      "<tr><td align=\"right\" width=\"130\">07:50AM  </td><td align=\"left\"><div class=\"news-link-container\"><div class=\"news-link-left\"><a class=\"tab-link-news\" href=\"https://finance.yahoo.com/news/procter-gamble-earnings-q1-2021-115028922.html\" target=\"_blank\">P&amp;G earnings beat; sees significant inflationary cycle</a></div><div class=\"news-link-right\"><span style=\"color:#aa6dc0;font-size:9px\"> Yahoo Finance</span></div></div></td></tr>\n",
      "<tr><td align=\"right\" width=\"130\">07:50AM  </td><td align=\"left\"><div class=\"news-link-container\"><div class=\"news-link-left\"><a class=\"tab-link-news\" href=\"https://www.barrons.com/articles/alibaba-unveils-in-house-chip-cloud-services-51634644160?siteid=yhoof2\" target=\"_blank\">Alibaba Unveils In-House Chip to Boost Cloud Services. Amazon, Microsoft Beware.</a></div><div class=\"news-link-right\"><span style=\"color:#aa6dc0;font-size:9px\"> Barrons.com</span></div></div></td></tr>\n",
      "<tr><td align=\"right\" width=\"130\">07:15AM  </td><td align=\"left\"><div class=\"news-link-container\"><div class=\"news-link-left\"><a class=\"tab-link-news\" href=\"https://www.fool.com/investing/2021/10/19/3-best-growth-stocks-revolutionizing-e-commerce/?source=eptyholnk0000202&amp;utm_source=yahoo-host&amp;utm_medium=feed&amp;utm_campaign=article\" target=\"_blank\">3 Best Growth Stocks Revolutionizing E-Commerce</a></div><div class=\"news-link-right\"><span style=\"color:#aa6dc0;font-size:9px\"> Motley Fool</span></div></div></td></tr>\n",
      "<tr><td align=\"right\" width=\"130\">07:10AM  </td><td align=\"left\"><div class=\"news-link-container\"><div class=\"news-link-left\"><a class=\"tab-link-news\" href=\"https://www.fool.com/investing/2021/10/19/3-cathie-wood-investments-deliver-super-returns/?source=eptyholnk0000202&amp;utm_source=yahoo-host&amp;utm_medium=feed&amp;utm_campaign=article\" target=\"_blank\">3 Cathie Wood Investments That Could Deliver Superior Returns</a></div><div class=\"news-link-right\"><span style=\"color:#aa6dc0;font-size:9px\"> Motley Fool</span></div></div></td></tr>\n",
      "<tr><td align=\"right\" width=\"130\">06:33AM  </td><td align=\"left\"><div class=\"news-link-container\"><div class=\"news-link-left\"><a class=\"tab-link-news\" href=\"https://www.barrons.com/articles/things-to-know-today-51634631544?siteid=yhoof2\" target=\"_blank\">What to Watch as the First Bitcoin Futures ETF Begins Trading</a></div><div class=\"news-link-right\"><span style=\"color:#aa6dc0;font-size:9px\"> Barrons.com</span></div></div></td></tr>\n",
      "<tr><td align=\"right\" width=\"130\">06:06AM  </td><td align=\"left\"><div class=\"news-link-container\"><div class=\"news-link-left\"><a class=\"tab-link-news\" href=\"https://www.fool.com/investing/2021/10/19/an-impressive-tech-pedigree-could-make-this-spac-a/?source=eptyholnk0000202&amp;utm_source=yahoo-host&amp;utm_medium=feed&amp;utm_campaign=article\" target=\"_blank\">An Impressive Tech Pedigree Could Make This SPAC a Huge Winner</a></div><div class=\"news-link-right\"><span style=\"color:#aa6dc0;font-size:9px\"> Motley Fool</span></div></div></td></tr>\n",
      "<tr><td align=\"right\" width=\"130\">06:06AM  </td><td align=\"left\"><div class=\"news-link-container\"><div class=\"news-link-left\"><a class=\"tab-link-news\" href=\"https://www.fool.com/investing/2021/10/19/3-warren-buffett-stocks-i-plan-to-hold-forever/?source=eptyholnk0000202&amp;utm_source=yahoo-host&amp;utm_medium=feed&amp;utm_campaign=article\" target=\"_blank\">3 Warren Buffett Stocks I Plan to Hold Forever</a></div><div class=\"news-link-right\"><span style=\"color:#aa6dc0;font-size:9px\"> Motley Fool</span></div></div></td></tr>\n",
      "<tr><td align=\"right\" width=\"130\">06:00AM  </td><td align=\"left\"><div class=\"news-link-container\"><div class=\"news-link-left\"><a class=\"tab-link-news\" href=\"https://finance.yahoo.com/news/amazon-2021-small-business-empowerment-100000734.html\" target=\"_blank\">Amazons 2021 Small Business Empowerment Report Reveals Third-Party Sellers Have Created More than 1.8 Million U.S. Jobs</a></div><div class=\"news-link-right\"><span style=\"color:#aa6dc0;font-size:9px\"> Business Wire</span></div></div></td></tr>\n",
      "<tr><td align=\"right\" width=\"130\">05:51AM  </td><td align=\"left\"><div class=\"news-link-container\"><div class=\"news-link-left\"><a class=\"tab-link-news\" href=\"https://www.fool.com/investing/2021/10/19/prediction-these-will-be-5-biggest-stocks-by-2040/?source=eptyholnk0000202&amp;utm_source=yahoo-host&amp;utm_medium=feed&amp;utm_campaign=article\" target=\"_blank\">Prediction: These Will Be 5 of the Biggest Stocks by 2040</a></div><div class=\"news-link-right\"><span style=\"color:#aa6dc0;font-size:9px\"> Motley Fool</span></div></div></td></tr>\n",
      "<tr><td align=\"right\" width=\"130\">05:05AM  </td><td align=\"left\"><div class=\"news-link-container\"><div class=\"news-link-left\"><a class=\"tab-link-news\" href=\"https://qz.com/2075427/g4tvs-returns-adds-another-major-player-to-esports-media/?utm_source=YPL\" target=\"_blank\">Back from the dead, G4TV looks to cash in on the gaming craze it helped create</a></div><div class=\"news-link-right\"><span style=\"color:#aa6dc0;font-size:9px\"> Quartz</span></div></div></td></tr>\n",
      "<tr><td align=\"right\" width=\"130\">03:50AM  </td><td align=\"left\"><div class=\"news-link-container\"><div class=\"news-link-left\"><a class=\"tab-link-news\" href=\"https://finance.yahoo.com/news/tesco-cashier-free-shops-getgo-shopping-075002207.html\" target=\"_blank\">Tesco launches Amazon Go style 'just walk out' store</a></div><div class=\"news-link-right\"><span style=\"color:#aa6dc0;font-size:9px\"> Yahoo Finance UK</span></div></div></td></tr>\n",
      "<tr><td align=\"right\" width=\"130\">02:23AM  </td><td align=\"left\"><div class=\"news-link-container\"><div class=\"news-link-left\"><a class=\"tab-link-news\" href=\"https://www.bizjournals.com/seattle/inno/stories/news/2021/10/18/zoox-autonomous-vehicle-testing-seattle.html?ana=yahoo\" target=\"_blank\">Amazon-owned Zoox to test its autonomous vehicles in Seattle</a></div><div class=\"news-link-right\"><span style=\"color:#aa6dc0;font-size:9px\"> American City Business Journals</span></div></div></td></tr>\n",
      "<tr><td align=\"right\" width=\"130\">01:01AM  </td><td align=\"left\"><div class=\"news-link-container\"><div class=\"news-link-left\"><a class=\"tab-link-news\" href=\"https://finance.yahoo.com/news/apple-19-screen-cleaning-cloth-050110261.html\" target=\"_blank\">Apples $19 Screen-Cleaning Cloth Sets High Bar for Brand Extras</a></div><div class=\"news-link-right\"><span style=\"color:#aa6dc0;font-size:9px\"> Bloomberg</span></div></div></td></tr>\n",
      "<tr><td align=\"right\" style=\"white-space:nowrap\" width=\"130\">Oct-18-21 10:33PM  </td><td align=\"left\"><div class=\"news-link-container\"><div class=\"news-link-left\"><a class=\"tab-link-news\" href=\"https://www.marketwatch.com/story/amazon-walmart-and-others-offer-free-college-degrees-to-lure-talent-but-read-the-fine-print-first-11634320257?siteid=yhoof2\" target=\"_blank\">Companies have a new weapon in the hunt for talent: free college degrees. Why its important to read the fine print</a></div><div class=\"news-link-right\"><span style=\"color:#aa6dc0;font-size:9px\"> MarketWatch</span></div></div></td></tr>\n",
      "<tr><td align=\"right\" width=\"130\">10:11PM  </td><td align=\"left\"><div class=\"news-link-container\"><div class=\"news-link-left\"><a class=\"tab-link-news\" href=\"https://finance.yahoo.com/news/alibaba-unveils-one-china-most-021143559.html\" target=\"_blank\">Alibaba Unveils One of Chinas Most Advanced Chips</a></div><div class=\"news-link-right\"><span style=\"color:#aa6dc0;font-size:9px\"> Bloomberg</span></div></div></td></tr>\n",
      "<tr><td align=\"right\" width=\"130\">09:37PM  </td><td align=\"left\"><div class=\"news-link-container\"><div class=\"news-link-left\"><a class=\"tab-link-news\" href=\"https://www.bizjournals.com/seattle/news/2021/10/18/amazon-congress-andy-jassy-jeff-bezos-doj.html?ana=yahoo\" target=\"_blank\">Lawmakers ask Amazon CEO whether the company misled Congress in 2019</a></div><div class=\"news-link-right\"><span style=\"color:#aa6dc0;font-size:9px\"> American City Business Journals</span></div></div></td></tr>\n",
      "<tr><td align=\"right\" width=\"130\">06:52PM  </td><td align=\"left\"><div class=\"news-link-container\"><div class=\"news-link-left\"><a class=\"tab-link-news\" href=\"https://www.fool.com/investing/2021/10/18/3-e-commerce-winners-for-your-watchlist/?source=eptyholnk0000202&amp;utm_source=yahoo-host&amp;utm_medium=feed&amp;utm_campaign=article\" target=\"_blank\">3 E-Commerce Winners for Your Watch List</a></div><div class=\"news-link-right\"><span style=\"color:#aa6dc0;font-size:9px\"> Motley Fool</span></div></div></td></tr>\n",
      "<tr><td align=\"right\" width=\"130\">05:57PM  </td><td align=\"left\"><div class=\"news-link-container\"><div class=\"news-link-left\"><a class=\"tab-link-news\" href=\"https://www.barrons.com/articles/amazon-stock-rallies-jeff-bezos-house-committee-51634594012?siteid=yhoof2\" target=\"_blank\">Amazon Stock Rallies Despite Letter Alleging Jeff Bezos Misled House Committee</a></div><div class=\"news-link-right\"><span style=\"color:#aa6dc0;font-size:9px\"> Barrons.com</span></div></div></td></tr>\n",
      "<tr><td align=\"right\" width=\"130\">05:45PM  </td><td align=\"left\"><div class=\"news-link-container\"><div class=\"news-link-left\"><a class=\"tab-link-news\" href=\"https://finance.yahoo.com/news/amazon-amzn-outpaces-stock-market-214509675.html\" target=\"_blank\">Amazon (AMZN) Outpaces Stock Market Gains: What You Should Know</a></div><div class=\"news-link-right\"><span style=\"color:#aa6dc0;font-size:9px\"> Zacks</span></div></div></td></tr>\n",
      "<tr><td align=\"right\" width=\"130\">05:31PM  </td><td align=\"left\"><div class=\"news-link-container\"><div class=\"news-link-left\"><a class=\"tab-link-news\" href=\"https://www.bizjournals.com/seattle/news/2021/10/18/amazon-hiring-seasonal-workers-washington.html?ana=yahoo\" target=\"_blank\">Amazon looks to hire 2,300 seasonal workers in Washington, 150,000 nationwide</a></div><div class=\"news-link-right\"><span style=\"color:#aa6dc0;font-size:9px\"> American City Business Journals</span></div></div></td></tr>\n",
      "<tr><td align=\"right\" width=\"130\">05:06PM  </td><td align=\"left\"><div class=\"news-link-container\"><div class=\"news-link-left\"><a class=\"tab-link-news\" href=\"https://www.bizjournals.com/seattle/news/2021/10/18/seattle-mayoral-candidates-amazon-taxing.html?ana=yahoo\" target=\"_blank\">Seattle mayoral candidates agree on taxing Amazon, but not on how to do it</a></div><div class=\"news-link-right\"><span style=\"color:#aa6dc0;font-size:9px\"> American City Business Journals</span></div></div></td></tr>\n",
      "<tr><td align=\"right\" width=\"130\">04:52PM  </td><td align=\"left\"><div class=\"news-link-container\"><div class=\"news-link-left\"><a class=\"tab-link-news\" href=\"https://www.fool.com/investing/2021/10/18/why-macys-stock-soared-today/?source=eptyholnk0000202&amp;utm_source=yahoo-host&amp;utm_medium=feed&amp;utm_campaign=article\" target=\"_blank\">Why Macy's Stock Soared Today</a></div><div class=\"news-link-right\"><span style=\"color:#aa6dc0;font-size:9px\"> Motley Fool</span></div></div></td></tr>\n",
      "<tr><td align=\"right\" width=\"130\">04:48PM  </td><td align=\"left\"><div class=\"news-link-container\"><div class=\"news-link-left\"><a class=\"tab-link-news\" href=\"https://finance.yahoo.com/news/kevin-o-leary-sees-trillions-202800414.html\" target=\"_blank\">Kevin OLeary sees trillions coming to crypto  but he still loves these dividend stocks</a></div><div class=\"news-link-right\"><span style=\"color:#aa6dc0;font-size:9px\"> MoneyWise</span></div></div></td></tr>\n",
      "<tr><td align=\"right\" width=\"130\">04:45PM  </td><td align=\"left\"><div class=\"news-link-container\"><div class=\"news-link-left\"><a class=\"tab-link-news\" href=\"https://www.fool.com/investing/2021/10/18/amazon-earnings-what-to-watch/?source=eptyholnk0000202&amp;utm_source=yahoo-host&amp;utm_medium=feed&amp;utm_campaign=article\" target=\"_blank\">Amazon Earnings: What to Watch</a></div><div class=\"news-link-right\"><span style=\"color:#aa6dc0;font-size:9px\"> Motley Fool</span></div></div></td></tr>\n",
      "<tr><td align=\"right\" width=\"130\">04:24PM  </td><td align=\"left\"><div class=\"news-link-container\"><div class=\"news-link-left\"><a class=\"tab-link-news\" href=\"https://www.bizjournals.com/sanantonio/news/2021/10/18/amazon-looks-to-be-opening-retail-store.html?ana=yahoo\" target=\"_blank\">Amazon looks to be opening retail store in San Antonio</a></div><div class=\"news-link-right\"><span style=\"color:#aa6dc0;font-size:9px\"> American City Business Journals</span></div></div></td></tr>\n",
      "<tr><td align=\"right\" width=\"130\">04:16PM  </td><td align=\"left\"><div class=\"news-link-container\"><div class=\"news-link-left\"><a class=\"tab-link-news\" href=\"https://finance.yahoo.com/news/amazon-plans-hire-150-000-201624205.html\" target=\"_blank\">Amazon Plans To Hire 150,000 Seasonal US Workers For Holiday Shopping Season</a></div><div class=\"news-link-right\"><span style=\"color:#aa6dc0;font-size:9px\"> Benzinga</span></div></div></td></tr>\n",
      "<tr><td align=\"right\" width=\"130\">04:12PM  </td><td align=\"left\"><div class=\"news-link-container\"><div class=\"news-link-left\"><a class=\"tab-link-news\" href=\"https://www.investors.com/research/how-to-find-the-best-stocks-to-buy/msft-stock-joins-googl-stock-amzn-stock-near-breakout-with-q3-earnings-due/?src=A00220\" target=\"_blank\">Cloud Breakout Battle: Microsoft Breaks Out Before Google, Amazon With Earnings Due</a></div><div class=\"news-link-right\"><span style=\"color:#aa6dc0;font-size:9px\"> Investor's Business Daily</span></div></div></td></tr>\n",
      "<tr><td align=\"right\" width=\"130\">03:58PM  </td><td align=\"left\"><div class=\"news-link-container\"><div class=\"news-link-left\"><a class=\"tab-link-news\" href=\"https://finance.yahoo.com/news/google-biggest-moonshot-search-carbon-210043485.html\" target=\"_blank\">Googles Biggest Moonshot Is Its Search for a Carbon-Free Future</a></div><div class=\"news-link-right\"><span style=\"color:#aa6dc0;font-size:9px\"> Bloomberg</span></div></div></td></tr>\n",
      "<tr><td align=\"right\" width=\"130\">03:47PM  </td><td align=\"left\"><div class=\"news-link-container\"><div class=\"news-link-left\"><a class=\"tab-link-news\" href=\"https://www.bizjournals.com/austin/news/2021/10/18/amazon-opens-pflugerville-fulfillment-facility.html?ana=yahoo\" target=\"_blank\">As it embarks on nationwide hiring spree, Amazon opens huge shipping facility in Austin area</a></div><div class=\"news-link-right\"><span style=\"color:#aa6dc0;font-size:9px\"> American City Business Journals</span></div></div></td></tr>\n",
      "<tr><td align=\"right\" width=\"130\">03:30PM  </td><td align=\"left\"><div class=\"news-link-container\"><div class=\"news-link-left\"><a class=\"tab-link-news\" href=\"https://finance.yahoo.com/news/amazon-hiring-150-000-seasonal-193000457.html\" target=\"_blank\">Amazon Hiring for 150,000 Seasonal Jobs With Thousands Available in the Minneapolis/St. Paul Metro Area</a></div><div class=\"news-link-right\"><span style=\"color:#aa6dc0;font-size:9px\"> Business Wire</span></div></div></td></tr>\n",
      "<tr><td align=\"right\" width=\"130\">03:24PM  </td><td align=\"left\"><div class=\"news-link-container\"><div class=\"news-link-left\"><a class=\"tab-link-news\" href=\"https://finance.yahoo.com/news/apple-launches-airpods-4-99-172638695.html\" target=\"_blank\">Apple Launches New AirPods and $4.99 Siri-Only Music Plan</a></div><div class=\"news-link-right\"><span style=\"color:#aa6dc0;font-size:9px\"> Bloomberg</span></div></div></td></tr>\n",
      "<tr><td align=\"right\" width=\"130\">03:22PM  </td><td align=\"left\"><div class=\"news-link-container\"><div class=\"news-link-left\"><a class=\"tab-link-news\" href=\"https://www.bizjournals.com/dallas/news/2021/10/18/amazon-dfw-seasonal.html?ana=yahoo\" target=\"_blank\">Amazon needs 6,500 more people for seasonal work in DFW amid labor shortages</a></div><div class=\"news-link-right\"><span style=\"color:#aa6dc0;font-size:9px\"> American City Business Journals</span></div></div></td></tr>\n",
      "<tr><td align=\"right\" width=\"130\">03:16PM  </td><td align=\"left\"><div class=\"news-link-container\"><div class=\"news-link-left\"><a class=\"tab-link-news\" href=\"https://finance.yahoo.com/video/disney-zillow-shares-slide-amazon-191612337.html\" target=\"_blank\">Disney and Zillow shares slide, Amazon aims to hire 150K seasonal workers</a></div><div class=\"news-link-right\"><span style=\"color:#aa6dc0;font-size:9px\"> Yahoo Finance Video</span></div></div></td></tr>\n",
      "<tr><td align=\"right\" width=\"130\">02:56PM  </td><td align=\"left\"><div class=\"news-link-container\"><div class=\"news-link-left\"><a class=\"tab-link-news\" href=\"https://www.bizjournals.com/philadelphia/news/2021/10/18/amazon-seasonal-jobs.html?ana=yahoo\" target=\"_blank\">Amazon looks to add 3,900 seasonal jobs in Greater Philadelphia, joins host of companies bulking up</a></div><div class=\"news-link-right\"><span style=\"color:#aa6dc0;font-size:9px\"> American City Business Journals</span></div></div></td></tr>\n",
      "<tr><td align=\"right\" width=\"130\">02:36PM  </td><td align=\"left\"><div class=\"news-link-container\"><div class=\"news-link-left\"><a class=\"tab-link-news\" href=\"https://finance.yahoo.com/news/why-disney-stock-has-been-dead-money-for-months-183645314.html\" target=\"_blank\">Why Disney stock has been dead money for months</a></div><div class=\"news-link-right\"><span style=\"color:#aa6dc0;font-size:9px\"> Yahoo Finance</span></div></div></td></tr>\n",
      "<tr><td align=\"right\" width=\"130\">02:09PM  </td><td align=\"left\"><div class=\"news-link-container\"><div class=\"news-link-left\"><a class=\"tab-link-news\" href=\"https://www.bizjournals.com/portland/news/2021/10/18/amazon-seasonal-jobs-oregon-hiring.html?ana=yahoo\" target=\"_blank\">Amazon's seasonal hiring push calls for more than 3,500 Oregon workers</a></div><div class=\"news-link-right\"><span style=\"color:#aa6dc0;font-size:9px\"> American City Business Journals</span></div></div></td></tr>\n",
      "<tr><td align=\"right\" width=\"130\">02:06PM  </td><td align=\"left\"><div class=\"news-link-container\"><div class=\"news-link-left\"><a class=\"tab-link-news\" href=\"https://www.fool.com/investing/2021/10/18/microsoft-earnings-metrics-investors-should-watch/?source=eptyholnk0000202&amp;utm_source=yahoo-host&amp;utm_medium=feed&amp;utm_campaign=article\" target=\"_blank\">Microsoft Earnings Preview: Metrics Investors Should Watch</a></div><div class=\"news-link-right\"><span style=\"color:#aa6dc0;font-size:9px\"> Motley Fool</span></div></div></td></tr>\n",
      "<tr><td align=\"right\" width=\"130\">01:28PM  </td><td align=\"left\"><div class=\"news-link-container\"><div class=\"news-link-left\"><a class=\"tab-link-news\" href=\"https://finance.yahoo.com/video/amazon-offers-bonuses-aim-hire-172828107.html\" target=\"_blank\">Amazon offers bonuses in aim to hire 150,0000 seasonal workers</a></div><div class=\"news-link-right\"><span style=\"color:#aa6dc0;font-size:9px\"> Yahoo Finance Video</span></div></div></td></tr>\n",
      "<tr><td align=\"right\" width=\"130\">01:18PM  </td><td align=\"left\"><div class=\"news-link-container\"><div class=\"news-link-left\"><a class=\"tab-link-news\" href=\"https://finance.yahoo.com/news/1-five-u-lawmakers-accuse-171839802.html\" target=\"_blank\">UPDATE 1-Five U.S. lawmakers accuse Amazon of possibly lying to Congress following Reuters report</a></div><div class=\"news-link-right\"><span style=\"color:#aa6dc0;font-size:9px\"> Reuters</span></div></div></td></tr>\n",
      "<tr><td align=\"right\" width=\"130\">12:56PM  </td><td align=\"left\"><div class=\"news-link-container\"><div class=\"news-link-left\"><a class=\"tab-link-news\" href=\"https://www.bizjournals.com/boston/news/2021/10/18/amazon-to-hire-seasonal-workers.html?ana=yahoo\" target=\"_blank\">Amazon to hire 1,500 seasonal workers in Massachusetts</a></div><div class=\"news-link-right\"><span style=\"color:#aa6dc0;font-size:9px\"> American City Business Journals</span></div></div></td></tr>\n",
      "<tr><td align=\"right\" width=\"130\">12:40PM  </td><td align=\"left\"><div class=\"news-link-container\"><div class=\"news-link-left\"><a class=\"tab-link-news\" href=\"https://www.investors.com/news/technology/amazon-stock-buy-now/?src=A00220\" target=\"_blank\">Is Amazon Stock A Buy Right Now As Epic Battle With Walmart Escalates</a></div><div class=\"news-link-right\"><span style=\"color:#aa6dc0;font-size:9px\"> Investor's Business Daily</span></div></div></td></tr>\n",
      "<tr><td align=\"right\" width=\"130\">12:10PM  </td><td align=\"left\"><div class=\"news-link-container\"><div class=\"news-link-left\"><a class=\"tab-link-news\" href=\"https://finance.yahoo.com/news/amazon-coms-nasdaq-amzn-five-161058306.html\" target=\"_blank\">Amazon.com's (NASDAQ:AMZN) five-year earnings growth trails the 33% YoY shareholder returns</a></div><div class=\"news-link-right\"><span style=\"color:#aa6dc0;font-size:9px\"> Simply Wall St.</span></div></div></td></tr>\n",
      "<tr><td align=\"right\" width=\"130\">12:10PM  </td><td align=\"left\"><div class=\"news-link-container\"><div class=\"news-link-left\"><a class=\"tab-link-news\" href=\"https://www.fool.com/investing/2021/10/18/why-shares-of-plug-power-are-climbing-today/?source=eptyholnk0000202&amp;utm_source=yahoo-host&amp;utm_medium=feed&amp;utm_campaign=article\" target=\"_blank\">Why Shares of Plug Power Are Climbing Today</a></div><div class=\"news-link-right\"><span style=\"color:#aa6dc0;font-size:9px\"> Motley Fool</span></div></div></td></tr>\n",
      "<tr><td align=\"right\" width=\"130\">11:48AM  </td><td align=\"left\"><div class=\"news-link-container\"><div class=\"news-link-left\"><a class=\"tab-link-news\" href=\"https://finance.yahoo.com/news/amazon-hiring-150-000-seasonal-154800844.html\" target=\"_blank\">Amazon Hiring for 150,000 Seasonal Jobs to Help Deliver Great Holiday Experiences</a></div><div class=\"news-link-right\"><span style=\"color:#aa6dc0;font-size:9px\"> Business Wire</span></div></div></td></tr>\n",
      "<tr><td align=\"right\" width=\"130\">11:06AM  </td><td align=\"left\"><div class=\"news-link-container\"><div class=\"news-link-left\"><a class=\"tab-link-news\" href=\"https://www.bizjournals.com/pittsburgh/news/2021/10/18/more-jobs-available-at-amazon-ahead-of-holidays.html?ana=yahoo\" target=\"_blank\">More jobs become available at Amazon ahead of holiday season</a></div><div class=\"news-link-right\"><span style=\"color:#aa6dc0;font-size:9px\"> American City Business Journals</span></div></div></td></tr>\n",
      "<tr><td align=\"right\" width=\"130\">11:06AM  </td><td align=\"left\"><div class=\"news-link-container\"><div class=\"news-link-left\"><a class=\"tab-link-news\" href=\"https://finance.yahoo.com/news/amazons-amzn-aws-gets-selected-150603331.html\" target=\"_blank\">Amazon's (AMZN) AWS Gets Selected by NXP Semiconductors</a></div><div class=\"news-link-right\"><span style=\"color:#aa6dc0;font-size:9px\"> Zacks</span></div></div></td></tr>\n",
      "<tr><td align=\"right\" width=\"130\">10:42AM  </td><td align=\"left\"><div class=\"news-link-container\"><div class=\"news-link-left\"><a class=\"tab-link-news\" href=\"https://www.bizjournals.com/washington/news/2021/10/18/amazon-seasonal-jobs-operations.html?ana=yahoo\" target=\"_blank\">Amazon to add thousands of seasonal jobs in Greater Washington</a></div><div class=\"news-link-right\"><span style=\"color:#aa6dc0;font-size:9px\"> American City Business Journals</span></div></div></td></tr>\n",
      "<tr><td align=\"right\" width=\"130\">10:38AM  </td><td align=\"left\"><div class=\"news-link-container\"><div class=\"news-link-left\"><a class=\"tab-link-news\" href=\"https://www.barrons.com/articles/amazon-plans-to-hire-150-000-season-workers-for-holiday-shopping-season-51634567919?siteid=yhoof2\" target=\"_blank\">Amazon Plans to Hire 150,000 Season Workers for Holiday Shopping Season</a></div><div class=\"news-link-right\"><span style=\"color:#aa6dc0;font-size:9px\"> Barrons.com</span></div></div></td></tr>\n",
      "<tr><td align=\"right\" width=\"130\">10:30AM  </td><td align=\"left\"><div class=\"news-link-container\"><div class=\"news-link-left\"><a class=\"tab-link-news\" href=\"https://finance.yahoo.com/news/amazon-zoox-expands-testing-seattle-143000610.html\" target=\"_blank\">Amazons Zoox Expands Testing to Seattle for the Rain and Talent</a></div><div class=\"news-link-right\"><span style=\"color:#aa6dc0;font-size:9px\"> Bloomberg</span></div></div></td></tr>\n",
      "<tr><td align=\"right\" width=\"130\">10:20AM  </td><td align=\"left\"><div class=\"news-link-container\"><div class=\"news-link-left\"><a class=\"tab-link-news\" href=\"https://www.fool.com/investing/2021/10/18/whats-the-panic-with-holiday-shopping/?source=eptyholnk0000202&amp;utm_source=yahoo-host&amp;utm_medium=feed&amp;utm_campaign=article\" target=\"_blank\">What's the Panic With Holiday Shopping?</a></div><div class=\"news-link-right\"><span style=\"color:#aa6dc0;font-size:9px\"> Motley Fool</span></div></div></td></tr>\n",
      "<tr><td align=\"right\" width=\"130\">10:00AM  </td><td align=\"left\"><div class=\"news-link-container\"><div class=\"news-link-left\"><a class=\"tab-link-news\" href=\"https://finance.yahoo.com/news/amazon-brands-more-protection-fakes-140043216.html\" target=\"_blank\">At Amazon, Some Brands Get More Protection From Fakes Than Others</a></div><div class=\"news-link-right\"><span style=\"color:#aa6dc0;font-size:9px\"> Bloomberg</span></div></div></td></tr>\n",
      "<tr><td align=\"right\" width=\"130\">09:47AM  </td><td align=\"left\"><div class=\"news-link-container\"><div class=\"news-link-left\"><a class=\"tab-link-news\" href=\"https://www.fool.com/investing/2021/10/18/2-leading-tech-stocks-to-buy-in-2021-and-beyond/?source=eptyholnk0000202&amp;utm_source=yahoo-host&amp;utm_medium=feed&amp;utm_campaign=article\" target=\"_blank\">2 Leading Tech Stocks to Buy in 2021 and Beyond</a></div><div class=\"news-link-right\"><span style=\"color:#aa6dc0;font-size:9px\"> Motley Fool</span></div></div></td></tr>\n",
      "<tr><td align=\"right\" width=\"130\">09:24AM  </td><td align=\"left\"><div class=\"news-link-container\"><div class=\"news-link-left\"><a class=\"tab-link-news\" href=\"https://www.bizjournals.com/baltimore/news/2021/10/18/amazon-seasonal-workers-hiring-spree.html?ana=yahoo\" target=\"_blank\">Amazon seeks to hire 1,700 seasonal workers in Baltimore, sweetens deal with signing bonus</a></div><div class=\"news-link-right\"><span style=\"color:#aa6dc0;font-size:9px\"> American City Business Journals</span></div></div></td></tr>\n",
      "<tr><td align=\"right\" width=\"130\">09:15AM  </td><td align=\"left\"><div class=\"news-link-container\"><div class=\"news-link-left\"><a class=\"tab-link-news\" href=\"https://www.fool.com/investing/2021/10/18/etsy-doesnt-make-the-items-on-its-marketplace-this/?source=eptyholnk0000202&amp;utm_source=yahoo-host&amp;utm_medium=feed&amp;utm_campaign=article\" target=\"_blank\">Etsy Doesn't Make the Items on Its Marketplace. This Is Its Product.</a></div><div class=\"news-link-right\"><span style=\"color:#aa6dc0;font-size:9px\"> Motley Fool</span></div></div></td></tr>\n",
      "<tr><td align=\"right\" width=\"130\">08:49AM  </td><td align=\"left\"><div class=\"news-link-container\"><div class=\"news-link-left\"><a class=\"tab-link-news\" href=\"https://finance.yahoo.com/news/zacks-analyst-blog-highlights-amazon-124912356.html\" target=\"_blank\">The Zacks Analyst Blog Highlights: Amazon, Microsoft, Google and Box</a></div><div class=\"news-link-right\"><span style=\"color:#aa6dc0;font-size:9px\"> Zacks</span></div></div></td></tr>\n",
      "<tr><td align=\"right\" width=\"130\">08:16AM  </td><td align=\"left\"><div class=\"news-link-container\"><div class=\"news-link-left\"><a class=\"tab-link-news\" href=\"https://www.marketwatch.com/story/amazon-seeks-150000-seasonal-hires-in-addition-to-more-than-150000-previously-announced-job-openings-2021-10-18?siteid=yhoof2\" target=\"_blank\">Amazon seeks 150,000 seasonal hires in addition to more than 150,000 previously announced job openings</a></div><div class=\"news-link-right\"><span style=\"color:#aa6dc0;font-size:9px\"> MarketWatch</span></div></div></td></tr>\n",
      "<tr><td align=\"right\" width=\"130\">08:00AM  </td><td align=\"left\"><div class=\"news-link-container\"><div class=\"news-link-left\"><a class=\"tab-link-news\" href=\"https://finance.yahoo.com/news/amazon-hiring-6-200-seasonal-120000898.html\" target=\"_blank\">Amazon Hiring for 6,200 Seasonal Jobs in Cities and Towns Across Arizona</a></div><div class=\"news-link-right\"><span style=\"color:#aa6dc0;font-size:9px\"> Business Wire</span></div></div></td></tr>\n",
      "<tr><td align=\"right\" width=\"130\">08:00AM  </td><td align=\"left\"><div class=\"news-link-container\"><div class=\"news-link-left\"><a class=\"tab-link-news\" href=\"https://finance.yahoo.com/news/amazon-hiring-23-000-jobs-120000060.html\" target=\"_blank\">Amazon Hiring for 23,000 jobs Across Cities and Towns in California</a></div><div class=\"news-link-right\"><span style=\"color:#aa6dc0;font-size:9px\"> Business Wire</span></div></div></td></tr>\n",
      "<tr><td align=\"right\" width=\"130\">08:00AM  </td><td align=\"left\"><div class=\"news-link-container\"><div class=\"news-link-left\"><a class=\"tab-link-news\" href=\"https://finance.yahoo.com/news/amazon-hiring-150-000-seasonal-120000695.html\" target=\"_blank\">Amazon Hiring for 150,000 Seasonal Jobs With 4,500 Available in Cities and Towns Across Illinois</a></div><div class=\"news-link-right\"><span style=\"color:#aa6dc0;font-size:9px\"> Business Wire</span></div></div></td></tr>\n",
      "<tr><td align=\"right\" width=\"130\">08:00AM  </td><td align=\"left\"><div class=\"news-link-container\"><div class=\"news-link-left\"><a class=\"tab-link-news\" href=\"https://finance.yahoo.com/news/amazon-hiring-150-000-seasonal-120000948.html\" target=\"_blank\">Amazon Hiring for 150,000 Seasonal Jobs to Help Deliver Great Holiday Experiences</a></div><div class=\"news-link-right\"><span style=\"color:#aa6dc0;font-size:9px\"> Business Wire</span></div></div></td></tr>\n",
      "<tr><td align=\"right\" width=\"130\">07:15AM  </td><td align=\"left\"><div class=\"news-link-container\"><div class=\"news-link-left\"><a class=\"tab-link-news\" href=\"https://www.fool.com/investing/2021/10/18/is-this-e-commerce-stock-amazon-proof/?source=eptyholnk0000202&amp;utm_source=yahoo-host&amp;utm_medium=feed&amp;utm_campaign=article\" target=\"_blank\">Is This E-Commerce Stock Amazon-Proof?</a></div><div class=\"news-link-right\"><span style=\"color:#aa6dc0;font-size:9px\"> Motley Fool</span></div></div></td></tr>\n",
      "<tr><td align=\"right\" width=\"130\">06:43AM  </td><td align=\"left\"><div class=\"news-link-container\"><div class=\"news-link-left\"><a class=\"tab-link-news\" href=\"https://finance.yahoo.com/news/five-u-lawmakers-accuse-amazon-104333709.html\" target=\"_blank\">Five U.S. lawmakers accuse Amazon of possibly lying to Congress following Reuters report</a></div><div class=\"news-link-right\"><span style=\"color:#aa6dc0;font-size:9px\"> Reuters</span></div></div></td></tr>\n",
      "<tr><td align=\"right\" width=\"130\">06:38AM  </td><td align=\"left\"><div class=\"news-link-container\"><div class=\"news-link-left\"><a class=\"tab-link-news\" href=\"https://finance.yahoo.com/news/five-u-lawmakers-accuse-amazon-103834510.html\" target=\"_blank\">Five U.S. lawmakers accuse Amazon of possibly lying to Congress following Reuters report</a></div><div class=\"news-link-right\"><span style=\"color:#aa6dc0;font-size:9px\"> Reuters</span></div></div></td></tr>\n",
      "<tr><td align=\"right\" width=\"130\">06:21AM  </td><td align=\"left\"><div class=\"news-link-container\"><div class=\"news-link-left\"><a class=\"tab-link-news\" href=\"https://finance.yahoo.com/news/jd-logistics-goes-shopping-planes-000000387.html\" target=\"_blank\">JD Logistics Goes Plane Shopping to Tap Air Freight Demand</a></div><div class=\"news-link-right\"><span style=\"color:#aa6dc0;font-size:9px\"> Bloomberg</span></div></div></td></tr>\n",
      "<tr><td align=\"right\" width=\"130\">05:55AM  </td><td align=\"left\"><div class=\"news-link-container\"><div class=\"news-link-left\"><a class=\"tab-link-news\" href=\"https://finance.yahoo.com/news/amazon-jobs-joining-bonus-christmas-work-095508445.html\" target=\"_blank\">Amazon offering £3,000 joining bonus to avoid labour shortages ahead of Christmas</a></div><div class=\"news-link-right\"><span style=\"color:#aa6dc0;font-size:9px\"> Yahoo Finance UK</span></div></div></td></tr>\n",
      "<tr><td align=\"right\" width=\"130\">04:32AM  </td><td align=\"left\"><div class=\"news-link-container\"><div class=\"news-link-left\"><a class=\"tab-link-news\" href=\"https://www.thestreet.com/markets/amazon-hiring-150000-seasonal-workers-amid-record-us-job-shortage?puc=yahoo&amp;cm_ven=YAHOO\" target=\"_blank\">Amazon Hiring 150,000 Seasonal Workers Amid Record US Job Shortage, Surging Wages</a></div><div class=\"news-link-right\"><span style=\"color:#aa6dc0;font-size:9px\"> TheStreet.com</span></div></div></td></tr>\n",
      "<tr><td align=\"right\" width=\"130\">03:46AM  </td><td align=\"left\"><div class=\"news-link-container\"><div class=\"news-link-left\"><a class=\"tab-link-news\" href=\"https://finance.yahoo.com/news/amazon-edges-lower-report-congress-074632265.html\" target=\"_blank\">Amazon Edges Lower on Report Congress Panel Members Feel it Misled Them</a></div><div class=\"news-link-right\"><span style=\"color:#aa6dc0;font-size:9px\"> Investing.com</span></div></div></td></tr>\n",
      "<tr><td align=\"right\" style=\"white-space:nowrap\" width=\"130\">Oct-17-21 10:39PM  </td><td align=\"left\"><div class=\"news-link-container\"><div class=\"news-link-left\"><a class=\"tab-link-news\" href=\"https://www.wsj.com/articles/from-film-sets-to-manufacturing-plants-unions-push-companies-as-workers-stay-scarce-11634488473?siteid=yhoof2\" target=\"_blank\">Unions Push Companies as Workers Stay Scarce</a></div><div class=\"news-link-right\"><span style=\"color:#aa6dc0;font-size:9px\"> The Wall Street Journal</span></div></div></td></tr>\n",
      "<tr><td align=\"right\" width=\"130\">05:56PM  </td><td align=\"left\"><div class=\"news-link-container\"><div class=\"news-link-left\"><a class=\"tab-link-news\" href=\"https://www.bizjournals.com/albuquerque/news/2021/10/17/lease-for-an-amazon-to-be-heard-at-city-council.html?ana=yahoo\" target=\"_blank\">Amazon looks to add air cargo facility at Albuquerque International Sunport</a></div><div class=\"news-link-right\"><span style=\"color:#aa6dc0;font-size:9px\"> American City Business Journals</span></div></div></td></tr>\n",
      "<tr><td align=\"right\" width=\"130\">04:23PM  </td><td align=\"left\"><div class=\"news-link-container\"><div class=\"news-link-left\"><a class=\"tab-link-news\" href=\"https://www.marketwatch.com/story/the-tech-earnings-boom-is-fizzling-out-as-apple-and-amazon-face-the-same-issues-as-everyone-else-11634502229?siteid=yhoof2\" target=\"_blank\">The tech earnings boom is fizzling out, as Apple and Amazon face the same issues as everyone else</a></div><div class=\"news-link-right\"><span style=\"color:#aa6dc0;font-size:9px\"> MarketWatch</span></div></div></td></tr>\n",
      "<tr><td align=\"right\" width=\"130\">04:11PM  </td><td align=\"left\"><div class=\"news-link-container\"><div class=\"news-link-left\"><a class=\"tab-link-news\" href=\"https://www.fool.com/investing/2021/10/17/the-big-storylines-ahead-of-the-big-banks-earnings/?source=eptyholnk0000202&amp;utm_source=yahoo-host&amp;utm_medium=feed&amp;utm_campaign=article\" target=\"_blank\">The Big Storylines Ahead of the Big Banks' Earnings</a></div><div class=\"news-link-right\"><span style=\"color:#aa6dc0;font-size:9px\"> Motley Fool</span></div></div></td></tr>\n",
      "<tr><td align=\"right\" width=\"130\">07:07AM  </td><td align=\"left\"><div class=\"news-link-container\"><div class=\"news-link-left\"><a class=\"tab-link-news\" href=\"https://www.fool.com/investing/2021/10/17/heres-the-most-exciting-part-of-mercadolibres-busi/?source=eptyholnk0000202&amp;utm_source=yahoo-host&amp;utm_medium=feed&amp;utm_campaign=article\" target=\"_blank\">Here's the Most Exciting Part of MercadoLibre's Business</a></div><div class=\"news-link-right\"><span style=\"color:#aa6dc0;font-size:9px\"> Motley Fool</span></div></div></td></tr>\n",
      "<tr><td align=\"right\" width=\"130\">07:00AM  </td><td align=\"left\"><div class=\"news-link-container\"><div class=\"news-link-left\"><a class=\"tab-link-news\" href=\"https://www.fool.com/investing/2021/10/17/down-from-their-highs-3-value-stocks-too-cheap/?source=eptyholnk0000202&amp;utm_source=yahoo-host&amp;utm_medium=feed&amp;utm_campaign=article\" target=\"_blank\">Down Over 20% From Their Highs, These 3 Value Stocks Are Too Cheap to Ignore</a></div><div class=\"news-link-right\"><span style=\"color:#aa6dc0;font-size:9px\"> Motley Fool</span></div></div></td></tr>\n",
      "<tr><td align=\"right\" width=\"130\">06:06AM  </td><td align=\"left\"><div class=\"news-link-container\"><div class=\"news-link-left\"><a class=\"tab-link-news\" href=\"https://www.fool.com/investing/2021/10/17/5-traits-to-chase-in-the-hunt-for-10x-stocks/?source=eptyholnk0000202&amp;utm_source=yahoo-host&amp;utm_medium=feed&amp;utm_campaign=article\" target=\"_blank\">5 Traits to Chase in the Hunt for 10X Stocks</a></div><div class=\"news-link-right\"><span style=\"color:#aa6dc0;font-size:9px\"> Motley Fool</span></div></div></td></tr>\n",
      "<tr><td align=\"right\" style=\"white-space:nowrap\" width=\"130\">Oct-16-21 10:52PM  </td><td align=\"left\"><div class=\"news-link-container\"><div class=\"news-link-left\"><a class=\"tab-link-news\" href=\"https://www.investopedia.com/articles/trading/06/daytradingretail.asp?utm_campaign=quote-yahoo&amp;utm_source=yahoo&amp;utm_medium=referral\" target=\"_blank\">10 Day Trading Strategies for Beginners</a></div><div class=\"news-link-right\"><span style=\"color:#aa6dc0;font-size:9px\"> Investopedia</span></div></div></td></tr>\n",
      "</table>, 'GOOG': <table border=\"0\" cellpadding=\"1\" cellspacing=\"0\" class=\"fullview-news-outer\" id=\"news-table\" width=\"100%\">\n",
      "<tr><td align=\"right\" style=\"white-space:nowrap\" width=\"130\">Oct-20-21 04:28AM  </td><td align=\"left\"><div class=\"news-link-container\"><div class=\"news-link-left\"><a class=\"tab-link-news\" href=\"https://finance.yahoo.com/news/meta-horizon-facebook-renaming-report-082801712.html\" target=\"_blank\">Meta? Horizon? Facebook Renaming Report Sparks Speculation</a></div><div class=\"news-link-right\"><span style=\"color:#aa6dc0;font-size:9px\"> Bloomberg</span></div></div></td></tr>\n",
      "<tr><td align=\"right\" width=\"130\">02:51AM  </td><td align=\"left\"><div class=\"news-link-container\"><div class=\"news-link-left\"><a class=\"tab-link-news\" href=\"https://finance.yahoo.com/news/3-singapore-companies-ranked-among-worlds-750-best-employers-065118880.html\" target=\"_blank\">3 Singapore companies ranked among world's best employers</a></div><div class=\"news-link-right\"><span style=\"color:#aa6dc0;font-size:9px\"> Yahoo Finance Singapore</span></div></div></td></tr>\n",
      "<tr><td align=\"right\" style=\"white-space:nowrap\" width=\"130\">Oct-19-21 11:48PM  </td><td align=\"left\"><div class=\"news-link-container\"><div class=\"news-link-left\"><a class=\"tab-link-news\" href=\"https://www.marketwatch.com/story/facebook-plans-to-soon-rebrand-with-a-new-name-report-11634701715?siteid=yhoof2\" target=\"_blank\">Facebook plans to soon rebrand with a new name: report</a></div><div class=\"news-link-right\"><span style=\"color:#aa6dc0;font-size:9px\"> MarketWatch</span></div></div></td></tr>\n",
      "<tr><td align=\"right\" width=\"130\">10:56PM  </td><td align=\"left\"><div class=\"news-link-container\"><div class=\"news-link-left\"><a class=\"tab-link-news\" href=\"https://finance.yahoo.com/news/facebook-plans-rebrand-company-name-024230546.html\" target=\"_blank\">Facebook Plans to Rebrand Company With New Name, Verge Says</a></div><div class=\"news-link-right\"><span style=\"color:#aa6dc0;font-size:9px\"> Bloomberg</span></div></div></td></tr>\n",
      "<tr><td align=\"right\" width=\"130\">08:56PM  </td><td align=\"left\"><div class=\"news-link-container\"><div class=\"news-link-left\"><a class=\"tab-link-news\" href=\"https://finance.yahoo.com/news/google-pixel-android-beef-iphone-170000381.html\" target=\"_blank\">Googles New Pixel and Android Beef Up iPhone Competition</a></div><div class=\"news-link-right\"><span style=\"color:#aa6dc0;font-size:9px\"> Bloomberg</span></div></div></td></tr>\n",
      "<tr><td align=\"right\" width=\"130\">07:01PM  </td><td align=\"left\"><div class=\"news-link-container\"><div class=\"news-link-left\"><a class=\"tab-link-news\" href=\"https://finance.yahoo.com/news/what-is-the-tungsten-cube-trend-crypto-latest-230152041.html\" target=\"_blank\">The hottest new crypto trend: What is the Tungsten Cube?</a></div><div class=\"news-link-right\"><span style=\"color:#aa6dc0;font-size:9px\"> Yahoo Finance UK</span></div></div></td></tr>\n",
      "<tr><td align=\"right\" width=\"130\">06:42PM  </td><td align=\"left\"><div class=\"news-link-container\"><div class=\"news-link-left\"><a class=\"tab-link-news\" href=\"https://www.marketwatch.com/story/snap-tiktok-youtube-are-next-up-for-senate-grilling-on-impact-on-kids-2021-10-19?siteid=yhoof2\" target=\"_blank\">Snap, TikTok, YouTube are next up for Senate grilling on impact on kids</a></div><div class=\"news-link-right\"><span style=\"color:#aa6dc0;font-size:9px\"> MarketWatch</span></div></div></td></tr>\n",
      "<tr><td align=\"right\" width=\"130\">05:45PM  </td><td align=\"left\"><div class=\"news-link-container\"><div class=\"news-link-left\"><a class=\"tab-link-news\" href=\"https://finance.yahoo.com/news/alphabet-inc-goog-gains-lags-214509720.html\" target=\"_blank\">Alphabet Inc. (GOOG) Gains But Lags Market: What You Should Know</a></div><div class=\"news-link-right\"><span style=\"color:#aa6dc0;font-size:9px\"> Zacks</span></div></div></td></tr>\n",
      "<tr><td align=\"right\" width=\"130\">05:32PM  </td><td align=\"left\"><div class=\"news-link-container\"><div class=\"news-link-left\"><a class=\"tab-link-news\" href=\"https://finance.yahoo.com/news/youtube-steps-livestream-shopping-holidays-213254969.html\" target=\"_blank\">YouTube Steps Up Livestream Shopping for the Holidays</a></div><div class=\"news-link-right\"><span style=\"color:#aa6dc0;font-size:9px\"> WWD</span></div></div></td></tr>\n",
      "<tr><td align=\"right\" width=\"130\">05:26PM  </td><td align=\"left\"><div class=\"news-link-container\"><div class=\"news-link-left\"><a class=\"tab-link-news\" href=\"https://www.investors.com/news/technology/stocks-to-watch-ahead-of-earnings-alphabet-2/?src=A00220\" target=\"_blank\">Google's Alphabet Stock Approaches Buy Point With Earnings Due</a></div><div class=\"news-link-right\"><span style=\"color:#aa6dc0;font-size:9px\"> Investor's Business Daily</span></div></div></td></tr>\n",
      "<tr><td align=\"right\" width=\"130\">05:22PM  </td><td align=\"left\"><div class=\"news-link-container\"><div class=\"news-link-left\"><a class=\"tab-link-news\" href=\"https://www.fool.com/investing/2021/10/19/9-foolish-truths-that-i-hold-to-be-self-evident/?source=eptyholnk0000202&amp;utm_source=yahoo-host&amp;utm_medium=feed&amp;utm_campaign=article\" target=\"_blank\">\"9 Foolish Truths That I Hold to Be Self-Evident\"</a></div><div class=\"news-link-right\"><span style=\"color:#aa6dc0;font-size:9px\"> Motley Fool</span></div></div></td></tr>\n",
      "<tr><td align=\"right\" width=\"130\">04:05PM  </td><td align=\"left\"><div class=\"news-link-container\"><div class=\"news-link-left\"><a class=\"tab-link-news\" href=\"https://www.investors.com/news/technology/google-stock-facebook-stock-estimates-hiked-ahead-of-earnings-branch/?src=A00220\" target=\"_blank\">Earnings Estimates For Tech Stocks Rise Ahead Of Reports, Netflix Beats</a></div><div class=\"news-link-right\"><span style=\"color:#aa6dc0;font-size:9px\"> Investor's Business Daily</span></div></div></td></tr>\n",
      "<tr><td align=\"right\" width=\"130\">03:19PM  </td><td align=\"left\"><div class=\"news-link-container\"><div class=\"news-link-left\"><a class=\"tab-link-news\" href=\"https://finance.yahoo.com/news/google-quietly-tweaks-image-search-191923110.html\" target=\"_blank\">Google Quietly Tweaks Image Search for Racially Diverse Results</a></div><div class=\"news-link-right\"><span style=\"color:#aa6dc0;font-size:9px\"> Bloomberg</span></div></div></td></tr>\n",
      "<tr><td align=\"right\" width=\"130\">03:01PM  </td><td align=\"left\"><div class=\"news-link-container\"><div class=\"news-link-left\"><a class=\"tab-link-news\" href=\"https://finance.yahoo.com/news/alphabet-inc-goog-reports-next-190107465.html\" target=\"_blank\">Alphabet Inc. (GOOG) Reports Next Week: Wall Street Expects Earnings Growth</a></div><div class=\"news-link-right\"><span style=\"color:#aa6dc0;font-size:9px\"> Zacks</span></div></div></td></tr>\n",
      "<tr><td align=\"right\" width=\"130\">03:01PM  </td><td align=\"left\"><div class=\"news-link-container\"><div class=\"news-link-left\"><a class=\"tab-link-news\" href=\"https://finance.yahoo.com/news/alphabet-googl-reports-next-week-190107931.html\" target=\"_blank\">Alphabet (GOOGL) Reports Next Week: Wall Street Expects Earnings Growth</a></div><div class=\"news-link-right\"><span style=\"color:#aa6dc0;font-size:9px\"> Zacks</span></div></div></td></tr>\n",
      "<tr><td align=\"right\" width=\"130\">02:59PM  </td><td align=\"left\"><div class=\"news-link-container\"><div class=\"news-link-left\"><a class=\"tab-link-news\" href=\"https://finance.yahoo.com/news/1-google-announces-pixel-6-185956725.html\" target=\"_blank\">UPDATE 1-Google announces Pixel 6 phone with new chip, subscription service</a></div><div class=\"news-link-right\"><span style=\"color:#aa6dc0;font-size:9px\"> Reuters</span></div></div></td></tr>\n",
      "<tr><td align=\"right\" width=\"130\">01:35PM  </td><td align=\"left\"><div class=\"news-link-container\"><div class=\"news-link-left\"><a class=\"tab-link-news\" href=\"https://finance.yahoo.com/news/google-pixel-6-phone-open-173517596.html\" target=\"_blank\">Googles New Pixel 6 Phone Can Open Snapchat in Just Two Taps</a></div><div class=\"news-link-right\"><span style=\"color:#aa6dc0;font-size:9px\"> Bloomberg</span></div></div></td></tr>\n",
      "<tr><td align=\"right\" width=\"130\">01:27PM  </td><td align=\"left\"><div class=\"news-link-container\"><div class=\"news-link-left\"><a class=\"tab-link-news\" href=\"https://www.barrons.com/articles/ulta-beauty-stock-51634651315?siteid=yhoof2\" target=\"_blank\">Ulta Beauty Stock Is Sliding Because Its Long-Term Updates Left a Lot to Be Desired</a></div><div class=\"news-link-right\"><span style=\"color:#aa6dc0;font-size:9px\"> Barrons.com</span></div></div></td></tr>\n",
      "<tr><td align=\"right\" width=\"130\">01:04PM  </td><td align=\"left\"><div class=\"news-link-container\"><div class=\"news-link-left\"><a class=\"tab-link-news\" href=\"https://finance.yahoo.com/news/google-announces-pixel-6-phone-170416868.html\" target=\"_blank\">Google announces Pixel 6 phone with new chip, subscription service</a></div><div class=\"news-link-right\"><span style=\"color:#aa6dc0;font-size:9px\"> Reuters</span></div></div></td></tr>\n",
      "<tr><td align=\"right\" width=\"130\">01:00PM  </td><td align=\"left\"><div class=\"news-link-container\"><div class=\"news-link-left\"><a class=\"tab-link-news\" href=\"https://finance.yahoo.com/news/google-launches-pixel-6-6-170002896.html\" target=\"_blank\">Google launches Pixel 6 and 6 Pro flagship phones with better AI, Android 12, and an iconic camera bump</a></div><div class=\"news-link-right\"><span style=\"color:#aa6dc0;font-size:9px\"> The Independent</span></div></div></td></tr>\n",
      "<tr><td align=\"right\" width=\"130\">01:00PM  </td><td align=\"left\"><div class=\"news-link-container\"><div class=\"news-link-left\"><a class=\"tab-link-news\" href=\"https://finance.yahoo.com/news/google-announces-pixel-6-phone-170000507.html\" target=\"_blank\">Google announces Pixel 6 phone with new chip, subscription service</a></div><div class=\"news-link-right\"><span style=\"color:#aa6dc0;font-size:9px\"> Reuters</span></div></div></td></tr>\n",
      "<tr><td align=\"right\" width=\"130\">12:55PM  </td><td align=\"left\"><div class=\"news-link-container\"><div class=\"news-link-left\"><a class=\"tab-link-news\" href=\"https://www.fool.com/investing/2021/10/19/why-ulta-and-atea-rained-on-the-nasdaqs-parade-tue/?source=eptyholnk0000202&amp;utm_source=yahoo-host&amp;utm_medium=feed&amp;utm_campaign=article\" target=\"_blank\">Why Ulta and Atea Rained on the Nasdaq's Parade Tuesday</a></div><div class=\"news-link-right\"><span style=\"color:#aa6dc0;font-size:9px\"> Motley Fool</span></div></div></td></tr>\n",
      "<tr><td align=\"right\" width=\"130\">12:00PM  </td><td align=\"left\"><div class=\"news-link-container\"><div class=\"news-link-left\"><a class=\"tab-link-news\" href=\"https://finance.yahoo.com/news/makes-alphabet-googl-strong-momentum-160004108.html\" target=\"_blank\">What Makes Alphabet (GOOGL) a Strong Momentum Stock: Buy Now?</a></div><div class=\"news-link-right\"><span style=\"color:#aa6dc0;font-size:9px\"> Zacks</span></div></div></td></tr>\n",
      "<tr><td align=\"right\" width=\"130\">12:00PM  </td><td align=\"left\"><div class=\"news-link-container\"><div class=\"news-link-left\"><a class=\"tab-link-news\" href=\"https://finance.yahoo.com/news/york-san-francisco-see-tech-160000723.html\" target=\"_blank\">Tech Salaries Are on the Rise, Just Not in New York or San Francisco</a></div><div class=\"news-link-right\"><span style=\"color:#aa6dc0;font-size:9px\"> Bloomberg</span></div></div></td></tr>\n",
      "<tr><td align=\"right\" width=\"130\">11:49AM  </td><td align=\"left\"><div class=\"news-link-container\"><div class=\"news-link-left\"><a class=\"tab-link-news\" href=\"https://www.barrons.com/articles/ulta-beauty-stock-slides-sales-targets-51634651315?siteid=yhoof2\" target=\"_blank\">Ulta Beauty Stock Slides After  Long-Term Targets Are Updated</a></div><div class=\"news-link-right\"><span style=\"color:#aa6dc0;font-size:9px\"> Barrons.com</span></div></div></td></tr>\n",
      "<tr><td align=\"right\" width=\"130\">11:26AM  </td><td align=\"left\"><div class=\"news-link-container\"><div class=\"news-link-left\"><a class=\"tab-link-news\" href=\"https://finance.yahoo.com/news/10-stocks-kamyar-khajavi-mik-152644720.html\" target=\"_blank\">10 New Stocks in Kamyar Khajavis MIK Capital Portfolio</a></div><div class=\"news-link-right\"><span style=\"color:#aa6dc0;font-size:9px\"> Insider Monkey</span></div></div></td></tr>\n",
      "<tr><td align=\"right\" width=\"130\">10:34AM  </td><td align=\"left\"><div class=\"news-link-container\"><div class=\"news-link-left\"><a class=\"tab-link-news\" href=\"https://www.bizjournals.com/sanjose/news/2021/10/19/google-ceo-sundar-pichai.html?ana=yahoo\" target=\"_blank\">What Google CEO Sundar Pichai says about privacy legislation, return-to-work effort</a></div><div class=\"news-link-right\"><span style=\"color:#aa6dc0;font-size:9px\"> American City Business Journals</span></div></div></td></tr>\n",
      "<tr><td align=\"right\" width=\"130\">10:17AM  </td><td align=\"left\"><div class=\"news-link-container\"><div class=\"news-link-left\"><a class=\"tab-link-news\" href=\"https://finance.yahoo.com/news/pixel-6-pixel-6-pro-100821159.html\" target=\"_blank\">Pixel 6 and Pixel 6 Pro: How to watch Google launch its newest phones</a></div><div class=\"news-link-right\"><span style=\"color:#aa6dc0;font-size:9px\"> The Independent</span></div></div></td></tr>\n",
      "<tr><td align=\"right\" width=\"130\">10:16AM  </td><td align=\"left\"><div class=\"news-link-container\"><div class=\"news-link-left\"><a class=\"tab-link-news\" href=\"https://finance.yahoo.com/news/google-pixel-6-pro-launch-140819591.html\" target=\"_blank\">Google Pixel 6 Pro launch  live: New phone to be unveiled at event as search giant takes on Apple and Samsung</a></div><div class=\"news-link-right\"><span style=\"color:#aa6dc0;font-size:9px\"> The Independent</span></div></div></td></tr>\n",
      "<tr><td align=\"right\" width=\"130\">10:00AM  </td><td align=\"left\"><div class=\"news-link-container\"><div class=\"news-link-left\"><a class=\"tab-link-news\" href=\"https://finance.yahoo.com/news/heres-why-alphabet-googl-strong-140002044.html\" target=\"_blank\">Here's Why Alphabet (GOOGL) is a Strong Momentum Stock</a></div><div class=\"news-link-right\"><span style=\"color:#aa6dc0;font-size:9px\"> Zacks</span></div></div></td></tr>\n",
      "<tr><td align=\"right\" width=\"130\">09:59AM  </td><td align=\"left\"><div class=\"news-link-container\"><div class=\"news-link-left\"><a class=\"tab-link-news\" href=\"https://www.fool.com/investing/2021/10/19/if-invested-1000-microsoft-2014-how-much-today/?source=eptyholnk0000202&amp;utm_source=yahoo-host&amp;utm_medium=feed&amp;utm_campaign=article\" target=\"_blank\">If You'd Invested $1,000 in Microsoft in 2014, This Is How Much You Would Have Today</a></div><div class=\"news-link-right\"><span style=\"color:#aa6dc0;font-size:9px\"> Motley Fool</span></div></div></td></tr>\n",
      "<tr><td align=\"right\" width=\"130\">08:45AM  </td><td align=\"left\"><div class=\"news-link-container\"><div class=\"news-link-left\"><a class=\"tab-link-news\" href=\"https://finance.yahoo.com/news/jeff-bezos-stock-portfolio-10-124550236.html\" target=\"_blank\">Jeff Bezos Stock Portfolio: 10 Companies Bezos Is Investing In</a></div><div class=\"news-link-right\"><span style=\"color:#aa6dc0;font-size:9px\"> Insider Monkey</span></div></div></td></tr>\n",
      "<tr><td align=\"right\" width=\"130\">08:37AM  </td><td align=\"left\"><div class=\"news-link-container\"><div class=\"news-link-left\"><a class=\"tab-link-news\" href=\"https://www.marketwatch.com/story/ulta-to-announce-new-google-partnership-50-new-stores-per-year-during-virtual-investor-event-2021-10-19?siteid=yhoof2\" target=\"_blank\">Ulta to announce new Google partnership, 50 new stores per year during virtual investor event</a></div><div class=\"news-link-right\"><span style=\"color:#aa6dc0;font-size:9px\"> MarketWatch</span></div></div></td></tr>\n",
      "<tr><td align=\"right\" width=\"130\">07:37AM  </td><td align=\"left\"><div class=\"news-link-container\"><div class=\"news-link-left\"><a class=\"tab-link-news\" href=\"https://finance.yahoo.com/news/5-stocks-insiders-selling-113745402.html\" target=\"_blank\">5 Stocks Insiders Are Selling</a></div><div class=\"news-link-right\"><span style=\"color:#aa6dc0;font-size:9px\"> Benzinga</span></div></div></td></tr>\n",
      "<tr><td align=\"right\" width=\"130\">07:30AM  </td><td align=\"left\"><div class=\"news-link-container\"><div class=\"news-link-left\"><a class=\"tab-link-news\" href=\"https://finance.yahoo.com/news/exclusive-healthcare-triangle-announces-google-113004268.html\" target=\"_blank\">EXCLUSIVE: Healthcare Triangle Announces Google Cloud Partnership To Accelerate Health Care, Life Sciences Transformation</a></div><div class=\"news-link-right\"><span style=\"color:#aa6dc0;font-size:9px\"> Benzinga</span></div></div></td></tr>\n",
      "<tr><td align=\"right\" width=\"130\">07:30AM  </td><td align=\"left\"><div class=\"news-link-container\"><div class=\"news-link-left\"><a class=\"tab-link-news\" href=\"https://finance.yahoo.com/news/katzenberg-backed-digital-security-firm-113000600.html\" target=\"_blank\">Katzenberg-Backed Digital Security Firm Raises $200 Million</a></div><div class=\"news-link-right\"><span style=\"color:#aa6dc0;font-size:9px\"> Bloomberg</span></div></div></td></tr>\n",
      "<tr><td align=\"right\" width=\"130\">06:46AM  </td><td align=\"left\"><div class=\"news-link-container\"><div class=\"news-link-left\"><a class=\"tab-link-news\" href=\"https://finance.yahoo.com/news/zacks-analyst-blog-highlights-nextera-104610255.html\" target=\"_blank\">The Zacks Analyst Blog Highlights: NextEra Energy, Tesla, Advanced Micro Devices, Alphabet and Texas Instruments</a></div><div class=\"news-link-right\"><span style=\"color:#aa6dc0;font-size:9px\"> Zacks</span></div></div></td></tr>\n",
      "<tr><td align=\"right\" width=\"130\">05:57AM  </td><td align=\"left\"><div class=\"news-link-container\"><div class=\"news-link-left\"><a class=\"tab-link-news\" href=\"https://www.fool.com/investing/2021/10/19/this-company-has-nearly-doubled-since-its-march-ip/?source=eptyholnk0000202&amp;utm_source=yahoo-host&amp;utm_medium=feed&amp;utm_campaign=article\" target=\"_blank\">This Company Has Nearly Doubled Since Its March IPO. Is It a Buy?</a></div><div class=\"news-link-right\"><span style=\"color:#aa6dc0;font-size:9px\"> Motley Fool</span></div></div></td></tr>\n",
      "<tr><td align=\"right\" width=\"130\">05:54AM  </td><td align=\"left\"><div class=\"news-link-container\"><div class=\"news-link-left\"><a class=\"tab-link-news\" href=\"https://finance.yahoo.com/news/russia-google-month-fine-20-095404772.html\" target=\"_blank\">Russia to go after Google this month with fine of up to 20% of annual turnover</a></div><div class=\"news-link-right\"><span style=\"color:#aa6dc0;font-size:9px\"> Reuters</span></div></div></td></tr>\n",
      "<tr><td align=\"right\" width=\"130\">05:50AM  </td><td align=\"left\"><div class=\"news-link-container\"><div class=\"news-link-left\"><a class=\"tab-link-news\" href=\"https://finance.yahoo.com/news/russia-google-month-fine-20-095000623.html\" target=\"_blank\">Russia to go after Google this month with fine of up to 20% of annual turnover</a></div><div class=\"news-link-right\"><span style=\"color:#aa6dc0;font-size:9px\"> Reuters</span></div></div></td></tr>\n",
      "<tr><td align=\"right\" width=\"130\">05:05AM  </td><td align=\"left\"><div class=\"news-link-container\"><div class=\"news-link-left\"><a class=\"tab-link-news\" href=\"https://qz.com/2075427/g4tvs-returns-adds-another-major-player-to-esports-media/?utm_source=YPL\" target=\"_blank\">Back from the dead, G4TV looks to cash in on the gaming craze it helped create</a></div><div class=\"news-link-right\"><span style=\"color:#aa6dc0;font-size:9px\"> Quartz</span></div></div></td></tr>\n",
      "<tr><td align=\"right\" style=\"white-space:nowrap\" width=\"130\">Oct-18-21 10:11PM  </td><td align=\"left\"><div class=\"news-link-container\"><div class=\"news-link-left\"><a class=\"tab-link-news\" href=\"https://finance.yahoo.com/news/alibaba-unveils-one-china-most-021143559.html\" target=\"_blank\">Alibaba Unveils One of Chinas Most Advanced Chips</a></div><div class=\"news-link-right\"><span style=\"color:#aa6dc0;font-size:9px\"> Bloomberg</span></div></div></td></tr>\n",
      "<tr><td align=\"right\" width=\"130\">09:08PM  </td><td align=\"left\"><div class=\"news-link-container\"><div class=\"news-link-left\"><a class=\"tab-link-news\" href=\"https://www.bizjournals.com/sanfrancisco/news/2021/10/18/san-bruno-youtube-25-million-expansion.html?ana=yahoo\" target=\"_blank\">San Bruno OKs massive expansion of YouTube headquarters</a></div><div class=\"news-link-right\"><span style=\"color:#aa6dc0;font-size:9px\"> American City Business Journals</span></div></div></td></tr>\n",
      "<tr><td align=\"right\" width=\"130\">05:45PM  </td><td align=\"left\"><div class=\"news-link-container\"><div class=\"news-link-left\"><a class=\"tab-link-news\" href=\"https://finance.yahoo.com/news/alphabet-googl-outpaces-stock-market-214509753.html\" target=\"_blank\">Alphabet (GOOGL) Outpaces Stock Market Gains: What You Should Know</a></div><div class=\"news-link-right\"><span style=\"color:#aa6dc0;font-size:9px\"> Zacks</span></div></div></td></tr>\n",
      "<tr><td align=\"right\" width=\"130\">05:43PM  </td><td align=\"left\"><div class=\"news-link-container\"><div class=\"news-link-left\"><a class=\"tab-link-news\" href=\"https://finance.yahoo.com/news/u-bill-stop-big-tech-214333255.html\" target=\"_blank\">U.S. bill would stop Big Tech favoring its own products</a></div><div class=\"news-link-right\"><span style=\"color:#aa6dc0;font-size:9px\"> Reuters</span></div></div></td></tr>\n",
      "<tr><td align=\"right\" width=\"130\">05:40PM  </td><td align=\"left\"><div class=\"news-link-container\"><div class=\"news-link-left\"><a class=\"tab-link-news\" href=\"https://finance.yahoo.com/news/u-bill-stop-big-tech-214024825.html\" target=\"_blank\">U.S. bill would stop Big Tech favoring its own products</a></div><div class=\"news-link-right\"><span style=\"color:#aa6dc0;font-size:9px\"> Reuters</span></div></div></td></tr>\n",
      "<tr><td align=\"right\" width=\"130\">04:12PM  </td><td align=\"left\"><div class=\"news-link-container\"><div class=\"news-link-left\"><a class=\"tab-link-news\" href=\"https://www.investors.com/research/how-to-find-the-best-stocks-to-buy/msft-stock-joins-googl-stock-amzn-stock-near-breakout-with-q3-earnings-due/?src=A00220\" target=\"_blank\">Cloud Breakout Battle: Microsoft Breaks Out Before Google, Amazon With Earnings Due</a></div><div class=\"news-link-right\"><span style=\"color:#aa6dc0;font-size:9px\"> Investor's Business Daily</span></div></div></td></tr>\n",
      "<tr><td align=\"right\" width=\"130\">03:58PM  </td><td align=\"left\"><div class=\"news-link-container\"><div class=\"news-link-left\"><a class=\"tab-link-news\" href=\"https://finance.yahoo.com/news/google-biggest-moonshot-search-carbon-210043485.html\" target=\"_blank\">Googles Biggest Moonshot Is Its Search for a Carbon-Free Future</a></div><div class=\"news-link-right\"><span style=\"color:#aa6dc0;font-size:9px\"> Bloomberg</span></div></div></td></tr>\n",
      "<tr><td align=\"right\" width=\"130\">03:24PM  </td><td align=\"left\"><div class=\"news-link-container\"><div class=\"news-link-left\"><a class=\"tab-link-news\" href=\"https://finance.yahoo.com/news/apple-launches-airpods-4-99-172638695.html\" target=\"_blank\">Apple Launches New AirPods and $4.99 Siri-Only Music Plan</a></div><div class=\"news-link-right\"><span style=\"color:#aa6dc0;font-size:9px\"> Bloomberg</span></div></div></td></tr>\n",
      "<tr><td align=\"right\" width=\"130\">01:39PM  </td><td align=\"left\"><div class=\"news-link-container\"><div class=\"news-link-left\"><a class=\"tab-link-news\" href=\"https://finance.yahoo.com/video/grow-google-vp-reskilling-amid-173900325.html\" target=\"_blank\">Grow With Google VP on reskilling amid COVID-19</a></div><div class=\"news-link-right\"><span style=\"color:#aa6dc0;font-size:9px\"> Yahoo Finance Video</span></div></div></td></tr>\n",
      "<tr><td align=\"right\" width=\"130\">12:44PM  </td><td align=\"left\"><div class=\"news-link-container\"><div class=\"news-link-left\"><a class=\"tab-link-news\" href=\"https://finance.yahoo.com/news/alphabet-inc-goog-smart-long-164437788.html\" target=\"_blank\">Is Alphabet Inc. (GOOG) A Smart Long-Term Buy?</a></div><div class=\"news-link-right\"><span style=\"color:#aa6dc0;font-size:9px\"> Insider Monkey</span></div></div></td></tr>\n",
      "<tr><td align=\"right\" width=\"130\">09:47AM  </td><td align=\"left\"><div class=\"news-link-container\"><div class=\"news-link-left\"><a class=\"tab-link-news\" href=\"https://www.fool.com/investing/2021/10/18/2-leading-tech-stocks-to-buy-in-2021-and-beyond/?source=eptyholnk0000202&amp;utm_source=yahoo-host&amp;utm_medium=feed&amp;utm_campaign=article\" target=\"_blank\">2 Leading Tech Stocks to Buy in 2021 and Beyond</a></div><div class=\"news-link-right\"><span style=\"color:#aa6dc0;font-size:9px\"> Motley Fool</span></div></div></td></tr>\n",
      "<tr><td align=\"right\" width=\"130\">09:33AM  </td><td align=\"left\"><div class=\"news-link-container\"><div class=\"news-link-left\"><a class=\"tab-link-news\" href=\"https://finance.yahoo.com/news/apples-privacy-policy-change-affected-133317355.html\" target=\"_blank\">How Apple's Privacy Policy Change Affected Advertising Business?</a></div><div class=\"news-link-right\"><span style=\"color:#aa6dc0;font-size:9px\"> Benzinga</span></div></div></td></tr>\n",
      "<tr><td align=\"right\" width=\"130\">09:30AM  </td><td align=\"left\"><div class=\"news-link-container\"><div class=\"news-link-left\"><a class=\"tab-link-news\" href=\"https://www.thestreet.com/investing/netflix-nflx-stock-earnings-preview-squid-games?puc=yahoo&amp;cm_ven=YAHOO\" target=\"_blank\">Netflix Earnings Preview: Can 'Squid Games' Send Stock to Highs?</a></div><div class=\"news-link-right\"><span style=\"color:#aa6dc0;font-size:9px\"> TheStreet.com</span></div></div></td></tr>\n",
      "<tr><td align=\"right\" width=\"130\">08:49AM  </td><td align=\"left\"><div class=\"news-link-container\"><div class=\"news-link-left\"><a class=\"tab-link-news\" href=\"https://finance.yahoo.com/news/zacks-analyst-blog-highlights-amazon-124912356.html\" target=\"_blank\">The Zacks Analyst Blog Highlights: Amazon, Microsoft, Google and Box</a></div><div class=\"news-link-right\"><span style=\"color:#aa6dc0;font-size:9px\"> Zacks</span></div></div></td></tr>\n",
      "<tr><td align=\"right\" width=\"130\">08:32AM  </td><td align=\"left\"><div class=\"news-link-container\"><div class=\"news-link-left\"><a class=\"tab-link-news\" href=\"https://www.fool.com/investing/2021/10/18/5-stocks-i-own-and-will-add-to-if-the-stock-market/?source=eptyholnk0000202&amp;utm_source=yahoo-host&amp;utm_medium=feed&amp;utm_campaign=article\" target=\"_blank\">5 Stocks I Own and Will Add to if the Stock Market Crashes</a></div><div class=\"news-link-right\"><span style=\"color:#aa6dc0;font-size:9px\"> Motley Fool</span></div></div></td></tr>\n",
      "<tr><td align=\"right\" width=\"130\">05:31AM  </td><td align=\"left\"><div class=\"news-link-container\"><div class=\"news-link-left\"><a class=\"tab-link-news\" href=\"https://finance.yahoo.com/news/solid-earnings-economic-data-driving-093109870.html\" target=\"_blank\">Solid Earnings and Economic Data Driving Markets: 5 Top Picks</a></div><div class=\"news-link-right\"><span style=\"color:#aa6dc0;font-size:9px\"> Zacks</span></div></div></td></tr>\n",
      "<tr><td align=\"right\" width=\"130\">05:30AM  </td><td align=\"left\"><div class=\"news-link-container\"><div class=\"news-link-left\"><a class=\"tab-link-news\" href=\"https://finance.yahoo.com/news/richest-families-southeast-asia-scout-210000110.html\" target=\"_blank\">Richest Families in Southeast Asia Look for the Next Unicorn</a></div><div class=\"news-link-right\"><span style=\"color:#aa6dc0;font-size:9px\"> Bloomberg</span></div></div></td></tr>\n",
      "<tr><td align=\"right\" width=\"130\">04:13AM  </td><td align=\"left\"><div class=\"news-link-container\"><div class=\"news-link-left\"><a class=\"tab-link-news\" href=\"https://finance.yahoo.com/news/china-weighs-opening-tencent-bytedance-081329209.html\" target=\"_blank\">China Weighs Opening Tencent, ByteDance Content to Search, Sources Say</a></div><div class=\"news-link-right\"><span style=\"color:#aa6dc0;font-size:9px\"> Bloomberg</span></div></div></td></tr>\n",
      "<tr><td align=\"right\" width=\"130\">01:30AM  </td><td align=\"left\"><div class=\"news-link-container\"><div class=\"news-link-left\"><a class=\"tab-link-news\" href=\"https://finance.yahoo.com/news/does-google-hijack-travelers-gmail-053000071.html\" target=\"_blank\">Does Google Hijack Travelers in Gmail?</a></div><div class=\"news-link-right\"><span style=\"color:#aa6dc0;font-size:9px\"> Skift</span></div></div></td></tr>\n",
      "<tr><td align=\"right\" style=\"white-space:nowrap\" width=\"130\">Oct-17-21 08:30PM  </td><td align=\"left\"><div class=\"news-link-container\"><div class=\"news-link-left\"><a class=\"tab-link-news\" href=\"https://finance.yahoo.com/news/fintech-focus-october-18-2021-003015529.html\" target=\"_blank\">Fintech Focus For October 18, 2021</a></div><div class=\"news-link-right\"><span style=\"color:#aa6dc0;font-size:9px\"> Benzinga</span></div></div></td></tr>\n",
      "<tr><td align=\"right\" width=\"130\">04:16PM  </td><td align=\"left\"><div class=\"news-link-container\"><div class=\"news-link-left\"><a class=\"tab-link-news\" href=\"https://www.investors.com/research/best-robinhood-stocks-to-buy-now/?src=A00220\" target=\"_blank\">These Are The Best Robinhood Stocks To Buy Or Watch Now</a></div><div class=\"news-link-right\"><span style=\"color:#aa6dc0;font-size:9px\"> Investor's Business Daily</span></div></div></td></tr>\n",
      "<tr><td align=\"right\" width=\"130\">04:15PM  </td><td align=\"left\"><div class=\"news-link-container\"><div class=\"news-link-left\"><a class=\"tab-link-news\" href=\"https://www.investors.com/research/best-stocks-to-buy-now-branch/?src=A00220\" target=\"_blank\">These Are The 5 Best Stocks To Buy And Watch Now</a></div><div class=\"news-link-right\"><span style=\"color:#aa6dc0;font-size:9px\"> Investor's Business Daily</span></div></div></td></tr>\n",
      "<tr><td align=\"right\" width=\"130\">11:00AM  </td><td align=\"left\"><div class=\"news-link-container\"><div class=\"news-link-left\"><a class=\"tab-link-news\" href=\"https://www.millionacres.com/real-estate-investing/articles/sustainable-hotels-could-googles-new-search-feature-turn-the-industry-green/?source=eptyholnk0000202&amp;utm_source=yahoo-host&amp;utm_medium=feed&amp;utm_campaign=article\" target=\"_blank\">Sustainable Hotels: Could Google's New Search Feature Turn the Industry Green?</a></div><div class=\"news-link-right\"><span style=\"color:#aa6dc0;font-size:9px\"> Motley Fool</span></div></div></td></tr>\n",
      "<tr><td align=\"right\" style=\"white-space:nowrap\" width=\"130\">Oct-16-21 12:02PM  </td><td align=\"left\"><div class=\"news-link-container\"><div class=\"news-link-left\"><a class=\"tab-link-news\" href=\"https://www.fool.com/investing/2021/10/16/3-stocks-i-will-never-sell/?source=eptyholnk0000202&amp;utm_source=yahoo-host&amp;utm_medium=feed&amp;utm_campaign=article\" target=\"_blank\">3 Stocks I Will \"Never\" Sell</a></div><div class=\"news-link-right\"><span style=\"color:#aa6dc0;font-size:9px\"> Motley Fool</span></div></div></td></tr>\n",
      "<tr><td align=\"right\" width=\"130\">11:38AM  </td><td align=\"left\"><div class=\"news-link-container\"><div class=\"news-link-left\"><a class=\"tab-link-news\" href=\"https://www.fool.com/investing/2021/10/16/3-reasons-why-chewy-stock-is-out-of-favor-with-the/?source=eptyholnk0000202&amp;utm_source=yahoo-host&amp;utm_medium=feed&amp;utm_campaign=article\" target=\"_blank\">3 Reasons Why Chewy Stock Is Out of Favor With the Market</a></div><div class=\"news-link-right\"><span style=\"color:#aa6dc0;font-size:9px\"> Motley Fool</span></div></div></td></tr>\n",
      "<tr><td align=\"right\" width=\"130\">09:00AM  </td><td align=\"left\"><div class=\"news-link-container\"><div class=\"news-link-left\"><a class=\"tab-link-news\" href=\"https://www.fool.com/investing/2021/10/16/why-sea-ltd-could-be-a-top-growth-stock-for-the-lo/?source=eptyholnk0000202&amp;utm_source=yahoo-host&amp;utm_medium=feed&amp;utm_campaign=article\" target=\"_blank\">Why Sea Limited Could Be a Top Growth Stock for the Long Term</a></div><div class=\"news-link-right\"><span style=\"color:#aa6dc0;font-size:9px\"> Motley Fool</span></div></div></td></tr>\n",
      "<tr><td align=\"right\" width=\"130\">07:30AM  </td><td align=\"left\"><div class=\"news-link-container\"><div class=\"news-link-left\"><a class=\"tab-link-news\" href=\"https://www.fool.com/investing/2021/10/16/double-verify/?source=eptyholnk0000202&amp;utm_source=yahoo-host&amp;utm_medium=feed&amp;utm_campaign=article\" target=\"_blank\">Here's Why You Should Consider Buying This Under-the-Radar SaaS Stock</a></div><div class=\"news-link-right\"><span style=\"color:#aa6dc0;font-size:9px\"> Motley Fool</span></div></div></td></tr>\n",
      "<tr><td align=\"right\" width=\"130\">05:51AM  </td><td align=\"left\"><div class=\"news-link-container\"><div class=\"news-link-left\"><a class=\"tab-link-news\" href=\"https://www.fool.com/investing/2021/10/16/safest-stocks-to-buy-if-theres-stock-market-crash/?source=eptyholnk0000202&amp;utm_source=yahoo-host&amp;utm_medium=feed&amp;utm_campaign=article\" target=\"_blank\">The Safest Stocks to Buy if There's a Stock Market Crash</a></div><div class=\"news-link-right\"><span style=\"color:#aa6dc0;font-size:9px\"> Motley Fool</span></div></div></td></tr>\n",
      "<tr><td align=\"right\" style=\"white-space:nowrap\" width=\"130\">Oct-15-21 07:09PM  </td><td align=\"left\"><div class=\"news-link-container\"><div class=\"news-link-left\"><a class=\"tab-link-news\" href=\"https://www.fool.com/investing/2021/10/15/why-crowdstrike-holdings-was-up-115-this-week/?source=eptyholnk0000202&amp;utm_source=yahoo-host&amp;utm_medium=feed&amp;utm_campaign=article\" target=\"_blank\">Why Crowdstrike Holdings Was Up 11.5% This Week</a></div><div class=\"news-link-right\"><span style=\"color:#aa6dc0;font-size:9px\"> Motley Fool</span></div></div></td></tr>\n",
      "<tr><td align=\"right\" width=\"130\">06:13PM  </td><td align=\"left\"><div class=\"news-link-container\"><div class=\"news-link-left\"><a class=\"tab-link-news\" href=\"https://www.fool.com/investing/2021/10/15/why-shares-of-elastic-nv-were-up-107-this-week/?source=eptyholnk0000202&amp;utm_source=yahoo-host&amp;utm_medium=feed&amp;utm_campaign=article\" target=\"_blank\">Why Shares of Elastic Were Up 10.7% This Week</a></div><div class=\"news-link-right\"><span style=\"color:#aa6dc0;font-size:9px\"> Motley Fool</span></div></div></td></tr>\n",
      "<tr><td align=\"right\" width=\"130\">05:37PM  </td><td align=\"left\"><div class=\"news-link-container\"><div class=\"news-link-left\"><a class=\"tab-link-news\" href=\"https://finance.yahoo.com/news/apple-fires-another-employee-urged-172614503.html\" target=\"_blank\">Apple Fires Another Employee Who Urged Workers to Speak Out</a></div><div class=\"news-link-right\"><span style=\"color:#aa6dc0;font-size:9px\"> Bloomberg</span></div></div></td></tr>\n",
      "<tr><td align=\"right\" width=\"130\">01:41PM  </td><td align=\"left\"><div class=\"news-link-container\"><div class=\"news-link-left\"><a class=\"tab-link-news\" href=\"https://finance.yahoo.com/news/pixel-6-6-pro-leaks-174113421.html\" target=\"_blank\">Pixel 6 and 6 Pro leaks round-up: Everything we know so far about Googles flagship iPhone rival</a></div><div class=\"news-link-right\"><span style=\"color:#aa6dc0;font-size:9px\"> The Independent</span></div></div></td></tr>\n",
      "<tr><td align=\"right\" width=\"130\">01:24PM  </td><td align=\"left\"><div class=\"news-link-container\"><div class=\"news-link-left\"><a class=\"tab-link-news\" href=\"https://finance.yahoo.com/news/alphabet-goog-still-great-investment-172412278.html\" target=\"_blank\">Is Alphabet (GOOG) Still A Great Investment Pick?</a></div><div class=\"news-link-right\"><span style=\"color:#aa6dc0;font-size:9px\"> Insider Monkey</span></div></div></td></tr>\n",
      "<tr><td align=\"right\" width=\"130\">12:08PM  </td><td align=\"left\"><div class=\"news-link-container\"><div class=\"news-link-left\"><a class=\"tab-link-news\" href=\"https://finance.yahoo.com/news/3-stocks-buy-rising-cloud-160804541.html\" target=\"_blank\">3 Stocks to Buy on Rising Cloud Infrastructure Spending</a></div><div class=\"news-link-right\"><span style=\"color:#aa6dc0;font-size:9px\"> Zacks</span></div></div></td></tr>\n",
      "<tr><td align=\"right\" width=\"130\">10:00AM  </td><td align=\"left\"><div class=\"news-link-container\"><div class=\"news-link-left\"><a class=\"tab-link-news\" href=\"https://finance.yahoo.com/news/alphabet-googl-boosts-fitness-tracking-140002922.html\" target=\"_blank\">Alphabet (GOOGL) Boosts Fitness Tracking Efforts With Fitbit</a></div><div class=\"news-link-right\"><span style=\"color:#aa6dc0;font-size:9px\"> Zacks</span></div></div></td></tr>\n",
      "<tr><td align=\"right\" width=\"130\">09:47AM  </td><td align=\"left\"><div class=\"news-link-container\"><div class=\"news-link-left\"><a class=\"tab-link-news\" href=\"https://finance.yahoo.com/news/10-european-stocks-buy-according-134737898.html\" target=\"_blank\">10 European Stocks to Buy According to Tom Russos Hedge Fund</a></div><div class=\"news-link-right\"><span style=\"color:#aa6dc0;font-size:9px\"> Insider Monkey</span></div></div></td></tr>\n",
      "<tr><td align=\"right\" width=\"130\">08:11AM  </td><td align=\"left\"><div class=\"news-link-container\"><div class=\"news-link-left\"><a class=\"tab-link-news\" href=\"https://www.investors.com/market-trend/stock-market-today/dow-jones-futures-market-rally-powerful-move-google-stock-flashing-buy-signals/?src=A00220\" target=\"_blank\">Dow Jones Futures: Market Rally Makes Powerful Move; Google Leads 7 Stocks Flashing Buy Signals</a></div><div class=\"news-link-right\"><span style=\"color:#aa6dc0;font-size:9px\"> Investor's Business Daily</span></div></div></td></tr>\n",
      "<tr><td align=\"right\" width=\"130\">05:52AM  </td><td align=\"left\"><div class=\"news-link-container\"><div class=\"news-link-left\"><a class=\"tab-link-news\" href=\"https://www.fool.com/investing/2021/10/15/3-top-breakout-stocks-to-buy-right-now/?source=eptyholnk0000202&amp;utm_source=yahoo-host&amp;utm_medium=feed&amp;utm_campaign=article\" target=\"_blank\">3 Top Breakout Stocks to Buy Right Now</a></div><div class=\"news-link-right\"><span style=\"color:#aa6dc0;font-size:9px\"> Motley Fool</span></div></div></td></tr>\n",
      "<tr><td align=\"right\" width=\"130\">02:09AM  </td><td align=\"left\"><div class=\"news-link-container\"><div class=\"news-link-left\"><a class=\"tab-link-news\" href=\"https://finance.yahoo.com/news/korea-targets-apple-over-app-060947961.html\" target=\"_blank\">S.Korea targets Apple over new app store regulation</a></div><div class=\"news-link-right\"><span style=\"color:#aa6dc0;font-size:9px\"> Reuters</span></div></div></td></tr>\n",
      "<tr><td align=\"right\" width=\"130\">02:05AM  </td><td align=\"left\"><div class=\"news-link-container\"><div class=\"news-link-left\"><a class=\"tab-link-news\" href=\"https://finance.yahoo.com/news/korea-targets-apple-over-app-060518122.html\" target=\"_blank\">S.Korea targets Apple over new app store regulation</a></div><div class=\"news-link-right\"><span style=\"color:#aa6dc0;font-size:9px\"> Reuters</span></div></div></td></tr>\n",
      "<tr><td align=\"right\" style=\"white-space:nowrap\" width=\"130\">Oct-14-21 08:49PM  </td><td align=\"left\"><div class=\"news-link-container\"><div class=\"news-link-left\"><a class=\"tab-link-news\" href=\"https://www.bizjournals.com/sanjose/news/2021/10/14/supreme-court-oks-google-workers-suit.html?ana=yahoo\" target=\"_blank\">The Supreme Court gave the green light to a lawsuit by a group of Google workers over the tech giant's confidentiality policy</a></div><div class=\"news-link-right\"><span style=\"color:#aa6dc0;font-size:9px\"> American City Business Journals</span></div></div></td></tr>\n",
      "<tr><td align=\"right\" width=\"130\">07:30PM  </td><td align=\"left\"><div class=\"news-link-container\"><div class=\"news-link-left\"><a class=\"tab-link-news\" href=\"https://finance.yahoo.com/news/3-tech-stocks-could-change-233000078.html\" target=\"_blank\">3 Tech Stocks That Could Change The World</a></div><div class=\"news-link-right\"><span style=\"color:#aa6dc0;font-size:9px\"> Oilprice.com</span></div></div></td></tr>\n",
      "<tr><td align=\"right\" width=\"130\">05:15PM  </td><td align=\"left\"><div class=\"news-link-container\"><div class=\"news-link-left\"><a class=\"tab-link-news\" href=\"https://finance.yahoo.com/news/apple-hires-homepod-software-head-211545452.html\" target=\"_blank\">Apple Hires New HomePod Software Head as It Takes on Amazon Echo</a></div><div class=\"news-link-right\"><span style=\"color:#aa6dc0;font-size:9px\"> Bloomberg</span></div></div></td></tr>\n",
      "<tr><td align=\"right\" width=\"130\">04:40PM  </td><td align=\"left\"><div class=\"news-link-container\"><div class=\"news-link-left\"><a class=\"tab-link-news\" href=\"https://www.investopedia.com/microsoft-s-msft-linkedin-to-exit-china-this-year-5205761?utm_campaign=quote-yahoo&amp;utm_source=yahoo&amp;utm_medium=referral\" target=\"_blank\">Microsoft's (MSFT) LinkedIn to Exit China This Year</a></div><div class=\"news-link-right\"><span style=\"color:#aa6dc0;font-size:9px\"> Investopedia</span></div></div></td></tr>\n",
      "<tr><td align=\"right\" width=\"130\">02:56PM  </td><td align=\"left\"><div class=\"news-link-container\"><div class=\"news-link-left\"><a class=\"tab-link-news\" href=\"https://www.marketwatch.com/story/new-bills-aim-at-apple-google-and-facebook-as-u-s-attempts-to-catch-up-to-europes-big-tech-push-11634237758?siteid=yhoof2\" target=\"_blank\">New bills aim at Apple, Google and Facebook as U.S. attempts to catch up to Europes Big Tech push</a></div><div class=\"news-link-right\"><span style=\"color:#aa6dc0;font-size:9px\"> MarketWatch</span></div></div></td></tr>\n",
      "<tr><td align=\"right\" width=\"130\">02:36PM  </td><td align=\"left\"><div class=\"news-link-container\"><div class=\"news-link-left\"><a class=\"tab-link-news\" href=\"https://finance.yahoo.com/news/us-senates-latest-antitrust-bill-183601762.html\" target=\"_blank\">US Senate's Latest Antitrust Bill Targets Amazon, Apple, Google: CNBC</a></div><div class=\"news-link-right\"><span style=\"color:#aa6dc0;font-size:9px\"> Benzinga</span></div></div></td></tr>\n",
      "<tr><td align=\"right\" width=\"130\">01:55PM  </td><td align=\"left\"><div class=\"news-link-container\"><div class=\"news-link-left\"><a class=\"tab-link-news\" href=\"https://www.investors.com/research/stock-picks-best-stocks-to-buy-and-watch-branch/?src=A00220\" target=\"_blank\">Stock Picks: Nvidia, Microsoft Reveal 7 Telltale Traits As Market Looks To Rebound</a></div><div class=\"news-link-right\"><span style=\"color:#aa6dc0;font-size:9px\"> Investor's Business Daily</span></div></div></td></tr>\n",
      "<tr><td align=\"right\" width=\"130\">01:29PM  </td><td align=\"left\"><div class=\"news-link-container\"><div class=\"news-link-left\"><a class=\"tab-link-news\" href=\"https://finance.yahoo.com/news/microsoft-shuts-linkedin-china-citing-143224833.html\" target=\"_blank\">Microsoft Shuts LinkedIn China, Citing Challenging Climate</a></div><div class=\"news-link-right\"><span style=\"color:#aa6dc0;font-size:9px\"> Bloomberg</span></div></div></td></tr>\n",
      "<tr><td align=\"right\" width=\"130\">01:19PM  </td><td align=\"left\"><div class=\"news-link-container\"><div class=\"news-link-left\"><a class=\"tab-link-news\" href=\"https://www.bizjournals.com/tampabay/inno/stories/news/2021/10/14/clearwaters-teamviewer-partners-with-google-on-ar.html?ana=yahoo\" target=\"_blank\">Clearwater tech company teams up with Google to develop augmented reality solutions</a></div><div class=\"news-link-right\"><span style=\"color:#aa6dc0;font-size:9px\"> American City Business Journals</span></div></div></td></tr>\n",
      "<tr><td align=\"right\" width=\"130\">12:32PM  </td><td align=\"left\"><div class=\"news-link-container\"><div class=\"news-link-left\"><a class=\"tab-link-news\" href=\"https://finance.yahoo.com/video/google-breaks-trend-line-163208498.html\" target=\"_blank\">Google Breaks Trend Line</a></div><div class=\"news-link-right\"><span style=\"color:#aa6dc0;font-size:9px\"> Investor's Business Daily Video</span></div></div></td></tr>\n",
      "<tr><td align=\"right\" width=\"130\">12:30PM  </td><td align=\"left\"><div class=\"news-link-container\"><div class=\"news-link-left\"><a class=\"tab-link-news\" href=\"https://finance.yahoo.com/news/billionaire-david-tepper-10-newest-163046546.html\" target=\"_blank\">Billionaire David Teppers 10 Newest Stock Picks</a></div><div class=\"news-link-right\"><span style=\"color:#aa6dc0;font-size:9px\"> Insider Monkey</span></div></div></td></tr>\n",
      "<tr><td align=\"right\" width=\"130\">12:22PM  </td><td align=\"left\"><div class=\"news-link-container\"><div class=\"news-link-left\"><a class=\"tab-link-news\" href=\"https://finance.yahoo.com/news/senate-bill-restrict-tech-firms-090000725.html\" target=\"_blank\">Big Tech Faces New Bills on Liability and Competition in U.S.</a></div><div class=\"news-link-right\"><span style=\"color:#aa6dc0;font-size:9px\"> Bloomberg</span></div></div></td></tr>\n",
      "<tr><td align=\"right\" width=\"130\">12:19PM  </td><td align=\"left\"><div class=\"news-link-container\"><div class=\"news-link-left\"><a class=\"tab-link-news\" href=\"https://finance.yahoo.com/news/iranian-hackers-continue-waging-attacks-161958461.html\" target=\"_blank\">Iranian Hackers Continue Waging Attacks, Google Warns</a></div><div class=\"news-link-right\"><span style=\"color:#aa6dc0;font-size:9px\"> Bloomberg</span></div></div></td></tr>\n",
      "<tr><td align=\"right\" width=\"130\">12:10PM  </td><td align=\"left\"><div class=\"news-link-container\"><div class=\"news-link-left\"><a class=\"tab-link-news\" href=\"https://finance.yahoo.com/news/alphabet-inc-goog-beat-estimates-161004177.html\" target=\"_blank\">Will Alphabet Inc. (GOOG) Beat Estimates Again in Its Next Earnings Report?</a></div><div class=\"news-link-right\"><span style=\"color:#aa6dc0;font-size:9px\"> Zacks</span></div></div></td></tr>\n",
      "<tr><td align=\"right\" width=\"130\">11:30AM  </td><td align=\"left\"><div class=\"news-link-container\"><div class=\"news-link-left\"><a class=\"tab-link-news\" href=\"https://finance.yahoo.com/news/alphabet-goog-outperforming-other-computer-153003881.html\" target=\"_blank\">Is Alphabet (GOOG) Outperforming Other Computer and Technology Stocks This Year?</a></div><div class=\"news-link-right\"><span style=\"color:#aa6dc0;font-size:9px\"> Zacks</span></div></div></td></tr>\n",
      "<tr><td align=\"right\" width=\"130\">10:10AM  </td><td align=\"left\"><div class=\"news-link-container\"><div class=\"news-link-left\"><a class=\"tab-link-news\" href=\"https://www.investors.com/news/technology/snowflake-snow-stock-buy-now/?src=A00220\" target=\"_blank\">Is Snowflake Stock A Buy? Data Analytics Specialist Rides Cloud Computing Wave</a></div><div class=\"news-link-right\"><span style=\"color:#aa6dc0;font-size:9px\"> Investor's Business Daily</span></div></div></td></tr>\n",
      "<tr><td align=\"right\" width=\"130\">09:07AM  </td><td align=\"left\"><div class=\"news-link-container\"><div class=\"news-link-left\"><a class=\"tab-link-news\" href=\"https://finance.yahoo.com/news/bill-gates-10-dividend-stocks-130737413.html\" target=\"_blank\">Bill Gates 10 Dividend Stocks</a></div><div class=\"news-link-right\"><span style=\"color:#aa6dc0;font-size:9px\"> Insider Monkey</span></div></div></td></tr>\n",
      "<tr><td align=\"right\" width=\"130\">07:27AM  </td><td align=\"left\"><div class=\"news-link-container\"><div class=\"news-link-left\"><a class=\"tab-link-news\" href=\"https://www.fool.com/investing/2021/10/14/is-a-wave-of-fintech-acquisitions-coming-soon/?source=eptyholnk0000202&amp;utm_source=yahoo-host&amp;utm_medium=feed&amp;utm_campaign=article\" target=\"_blank\">Is a Wave of Fintech Acquisitions Coming Soon?</a></div><div class=\"news-link-right\"><span style=\"color:#aa6dc0;font-size:9px\"> Motley Fool</span></div></div></td></tr>\n",
      "<tr><td align=\"right\" style=\"white-space:nowrap\" width=\"130\">Oct-13-21 05:45PM  </td><td align=\"left\"><div class=\"news-link-container\"><div class=\"news-link-left\"><a class=\"tab-link-news\" href=\"https://finance.yahoo.com/news/alphabet-inc-goog-outpaces-stock-214509634.html\" target=\"_blank\">Alphabet Inc. (GOOG) Outpaces Stock Market Gains: What You Should Know</a></div><div class=\"news-link-right\"><span style=\"color:#aa6dc0;font-size:9px\"> Zacks</span></div></div></td></tr>\n",
      "</table>, 'FB': <table border=\"0\" cellpadding=\"1\" cellspacing=\"0\" class=\"fullview-news-outer\" id=\"news-table\" width=\"100%\">\n",
      "<tr><td align=\"right\" style=\"white-space:nowrap\" width=\"130\">Oct-20-21 06:24AM  </td><td align=\"left\"><div class=\"news-link-container\"><div class=\"news-link-left\"><a class=\"tab-link-news\" href=\"https://finance.yahoo.com/news/facebook-fined-uk-competition-regulator-giphy-merger-102437142.html\" target=\"_blank\">Facebook fined £50.5m by UK's competition regulator over Giphy buyout</a></div><div class=\"news-link-right\"><span style=\"color:#aa6dc0;font-size:9px\"> Yahoo Finance UK</span></div></div></td></tr>\n",
      "<tr><td align=\"right\" width=\"130\">06:00AM  </td><td align=\"left\"><div class=\"news-link-container\"><div class=\"news-link-left\"><a class=\"tab-link-news\" href=\"https://finance.yahoo.com/video/why-accenture-giving-vr-headsets-100000325.html\" target=\"_blank\">Why Accenture is giving VR headsets to thousands of new hires</a></div><div class=\"news-link-right\"><span style=\"color:#aa6dc0;font-size:9px\"> Yahoo Finance Video</span></div></div></td></tr>\n",
      "<tr><td align=\"right\" width=\"130\">05:58AM  </td><td align=\"left\"><div class=\"news-link-container\"><div class=\"news-link-left\"><a class=\"tab-link-news\" href=\"https://finance.yahoo.com/news/facebook-fined-50-5m-over-094318555.html\" target=\"_blank\">Facebook fined £50.5m over handling of Giphy takeover probe</a></div><div class=\"news-link-right\"><span style=\"color:#aa6dc0;font-size:9px\"> The Independent</span></div></div></td></tr>\n",
      "<tr><td align=\"right\" width=\"130\">05:51AM  </td><td align=\"left\"><div class=\"news-link-container\"><div class=\"news-link-left\"><a class=\"tab-link-news\" href=\"https://www.fool.com/investing/2021/10/20/3-faang-stocks-with-47-to-55-upside-wall-street/?source=eptyholnk0000202&amp;utm_source=yahoo-host&amp;utm_medium=feed&amp;utm_campaign=article\" target=\"_blank\">3 FAANG Stocks With 47% to 55% Upside, According to Wall Street</a></div><div class=\"news-link-right\"><span style=\"color:#aa6dc0;font-size:9px\"> Motley Fool</span></div></div></td></tr>\n",
      "<tr><td align=\"right\" width=\"130\">05:37AM  </td><td align=\"left\"><div class=\"news-link-container\"><div class=\"news-link-left\"><a class=\"tab-link-news\" href=\"https://finance.yahoo.com/news/1-britain-fines-facebook-70-093720579.html\" target=\"_blank\">UPDATE 1-Britain fines Facebook $70 mln for breaching order in Giphy deal</a></div><div class=\"news-link-right\"><span style=\"color:#aa6dc0;font-size:9px\"> Reuters</span></div></div></td></tr>\n",
      "<tr><td align=\"right\" width=\"130\">05:12AM  </td><td align=\"left\"><div class=\"news-link-container\"><div class=\"news-link-left\"><a class=\"tab-link-news\" href=\"https://finance.yahoo.com/news/britain-fines-facebook-70-million-091210510.html\" target=\"_blank\">Britain fines Facebook $70 million for breaching order in Giphy deal</a></div><div class=\"news-link-right\"><span style=\"color:#aa6dc0;font-size:9px\"> Reuters</span></div></div></td></tr>\n",
      "<tr><td align=\"right\" width=\"130\">04:28AM  </td><td align=\"left\"><div class=\"news-link-container\"><div class=\"news-link-left\"><a class=\"tab-link-news\" href=\"https://finance.yahoo.com/news/meta-horizon-facebook-renaming-report-082801712.html\" target=\"_blank\">Meta? Horizon? Facebook Renaming Report Sparks Speculation</a></div><div class=\"news-link-right\"><span style=\"color:#aa6dc0;font-size:9px\"> Bloomberg</span></div></div></td></tr>\n",
      "<tr><td align=\"right\" width=\"130\">03:48AM  </td><td align=\"left\"><div class=\"news-link-container\"><div class=\"news-link-left\"><a class=\"tab-link-news\" href=\"https://finance.yahoo.com/news/facebook-getting-name-report-claims-073821624.html\" target=\"_blank\">Facebook is getting a new name, report claims</a></div><div class=\"news-link-right\"><span style=\"color:#aa6dc0;font-size:9px\"> The Independent</span></div></div></td></tr>\n",
      "<tr><td align=\"right\" width=\"130\">02:03AM  </td><td align=\"left\"><div class=\"news-link-container\"><div class=\"news-link-left\"><a class=\"tab-link-news\" href=\"https://www.thestreet.com/markets/-5-things-you-must-know-before-market-opens-wednesday-102021?puc=yahoo&amp;cm_ven=YAHOO\" target=\"_blank\">Stocks Cautiously Higher, Netflix Gets 'Squid Game' Boost, Facebook Mulls Rebrand - 5 Things You Must Know</a></div><div class=\"news-link-right\"><span style=\"color:#aa6dc0;font-size:9px\"> TheStreet.com</span></div></div></td></tr>\n",
      "<tr><td align=\"right\" width=\"130\">01:08AM  </td><td align=\"left\"><div class=\"news-link-container\"><div class=\"news-link-left\"><a class=\"tab-link-news\" href=\"https://finance.yahoo.com/news/facebook-plans-change-name-major-050829274.html\" target=\"_blank\">Zuckerberg set to rebrand Facebook</a></div><div class=\"news-link-right\"><span style=\"color:#aa6dc0;font-size:9px\"> The Telegraph</span></div></div></td></tr>\n",
      "<tr><td align=\"right\" style=\"white-space:nowrap\" width=\"130\">Oct-19-21 11:48PM  </td><td align=\"left\"><div class=\"news-link-container\"><div class=\"news-link-left\"><a class=\"tab-link-news\" href=\"https://www.marketwatch.com/story/facebook-plans-to-soon-rebrand-with-a-new-name-report-11634701715?siteid=yhoof2\" target=\"_blank\">Facebook plans to soon rebrand with a new name: report</a></div><div class=\"news-link-right\"><span style=\"color:#aa6dc0;font-size:9px\"> MarketWatch</span></div></div></td></tr>\n",
      "<tr><td align=\"right\" width=\"130\">10:56PM  </td><td align=\"left\"><div class=\"news-link-container\"><div class=\"news-link-left\"><a class=\"tab-link-news\" href=\"https://finance.yahoo.com/news/facebook-plans-rebrand-company-name-024230546.html\" target=\"_blank\">Facebook Plans to Rebrand Company With New Name, Verge Says</a></div><div class=\"news-link-right\"><span style=\"color:#aa6dc0;font-size:9px\"> Bloomberg</span></div></div></td></tr>\n",
      "<tr><td align=\"right\" width=\"130\">10:48PM  </td><td align=\"left\"><div class=\"news-link-container\"><div class=\"news-link-left\"><a class=\"tab-link-news\" href=\"https://finance.yahoo.com/news/facebook-plans-change-name-verge-024859192.html\" target=\"_blank\">Facebook plans rebrand with new name, says The Verge</a></div><div class=\"news-link-right\"><span style=\"color:#aa6dc0;font-size:9px\"> Reuters</span></div></div></td></tr>\n",
      "<tr><td align=\"right\" width=\"130\">10:40PM  </td><td align=\"left\"><div class=\"news-link-container\"><div class=\"news-link-left\"><a class=\"tab-link-news\" href=\"https://finance.yahoo.com/news/1-facebook-plans-change-name-024008162.html\" target=\"_blank\">UPDATE 5-Facebook plans rebrand with new name, says The Verge</a></div><div class=\"news-link-right\"><span style=\"color:#aa6dc0;font-size:9px\"> Reuters</span></div></div></td></tr>\n",
      "<tr><td align=\"right\" width=\"130\">07:04PM  </td><td align=\"left\"><div class=\"news-link-container\"><div class=\"news-link-left\"><a class=\"tab-link-news\" href=\"https://finance.yahoo.com/news/1-u-senate-panel-hold-230457678.html\" target=\"_blank\">UPDATE 1-U.S. Senate panel to hold new hearing on social media impact on young users</a></div><div class=\"news-link-right\"><span style=\"color:#aa6dc0;font-size:9px\"> Reuters</span></div></div></td></tr>\n",
      "<tr><td align=\"right\" width=\"130\">06:57PM  </td><td align=\"left\"><div class=\"news-link-container\"><div class=\"news-link-left\"><a class=\"tab-link-news\" href=\"https://finance.yahoo.com/news/u-senate-panel-hold-hearing-225728779.html\" target=\"_blank\">U.S. Senate panel to hold new hearing on social media impact on young users</a></div><div class=\"news-link-right\"><span style=\"color:#aa6dc0;font-size:9px\"> Reuters</span></div></div></td></tr>\n",
      "<tr><td align=\"right\" width=\"130\">06:45PM  </td><td align=\"left\"><div class=\"news-link-container\"><div class=\"news-link-left\"><a class=\"tab-link-news\" href=\"https://finance.yahoo.com/news/u-senate-panel-hold-hearing-224533719.html\" target=\"_blank\">U.S. Senate panel to hold new hearing on social media impact on young users</a></div><div class=\"news-link-right\"><span style=\"color:#aa6dc0;font-size:9px\"> Reuters</span></div></div></td></tr>\n",
      "<tr><td align=\"right\" width=\"130\">06:42PM  </td><td align=\"left\"><div class=\"news-link-container\"><div class=\"news-link-left\"><a class=\"tab-link-news\" href=\"https://www.marketwatch.com/story/snap-tiktok-youtube-are-next-up-for-senate-grilling-on-impact-on-kids-2021-10-19?siteid=yhoof2\" target=\"_blank\">Snap, TikTok, YouTube are next up for Senate grilling on impact on kids</a></div><div class=\"news-link-right\"><span style=\"color:#aa6dc0;font-size:9px\"> MarketWatch</span></div></div></td></tr>\n",
      "<tr><td align=\"right\" width=\"130\">06:34PM  </td><td align=\"left\"><div class=\"news-link-container\"><div class=\"news-link-left\"><a class=\"tab-link-news\" href=\"https://www.wsj.com/articles/netflix-engagement-increased-14-during-facebook-outage-11634682873?mod=itp_wsj\" target=\"_blank\">Netflix Engagement Increased 14% During Facebook Outage</a></div><div class=\"news-link-right\"><span style=\"color:#aa6dc0;font-size:9px\"> The Wall Street Journal</span></div></div></td></tr>\n",
      "<tr><td align=\"right\" width=\"130\">05:45PM  </td><td align=\"left\"><div class=\"news-link-container\"><div class=\"news-link-left\"><a class=\"tab-link-news\" href=\"https://finance.yahoo.com/news/facebook-fb-outpaces-stock-market-214509913.html\" target=\"_blank\">Facebook (FB) Outpaces Stock Market Gains: What You Should Know</a></div><div class=\"news-link-right\"><span style=\"color:#aa6dc0;font-size:9px\"> Zacks</span></div></div></td></tr>\n",
      "<tr><td align=\"right\" width=\"130\">05:06PM  </td><td align=\"left\"><div class=\"news-link-container\"><div class=\"news-link-left\"><a class=\"tab-link-news\" href=\"https://finance.yahoo.com/news/u-lawmakers-facebook-cannot-trusted-210606388.html\" target=\"_blank\">U.S. lawmakers say Facebook cannot be trusted to manage cryptocurrency</a></div><div class=\"news-link-right\"><span style=\"color:#aa6dc0;font-size:9px\"> Reuters</span></div></div></td></tr>\n",
      "<tr><td align=\"right\" width=\"130\">05:00PM  </td><td align=\"left\"><div class=\"news-link-container\"><div class=\"news-link-left\"><a class=\"tab-link-news\" href=\"https://finance.yahoo.com/news/u-lawmakers-facebook-cannot-trusted-210048442.html\" target=\"_blank\">U.S. lawmakers say Facebook cannot be trusted to manage cryptocurrency</a></div><div class=\"news-link-right\"><span style=\"color:#aa6dc0;font-size:9px\"> Reuters</span></div></div></td></tr>\n",
      "<tr><td align=\"right\" width=\"130\">04:46PM  </td><td align=\"left\"><div class=\"news-link-container\"><div class=\"news-link-left\"><a class=\"tab-link-news\" href=\"https://www.fool.com/investing/2021/10/19/why-coinbase-stock-kept-going-up-today/?source=eptyholnk0000202&amp;utm_source=yahoo-host&amp;utm_medium=feed&amp;utm_campaign=article\" target=\"_blank\">Why Coinbase Stock Kept Going Up Today</a></div><div class=\"news-link-right\"><span style=\"color:#aa6dc0;font-size:9px\"> Motley Fool</span></div></div></td></tr>\n",
      "<tr><td align=\"right\" width=\"130\">04:11PM  </td><td align=\"left\"><div class=\"news-link-container\"><div class=\"news-link-left\"><a class=\"tab-link-news\" href=\"https://www.marketwatch.com/story/facebook-to-pay-fine-to-settle-suit-claiming-it-discriminated-against-u-s-workers-01634674285?siteid=yhoof2\" target=\"_blank\">Facebook to pay fine to settle suit claiming it discriminated against U.S. workers</a></div><div class=\"news-link-right\"><span style=\"color:#aa6dc0;font-size:9px\"> MarketWatch</span></div></div></td></tr>\n",
      "<tr><td align=\"right\" width=\"130\">04:05PM  </td><td align=\"left\"><div class=\"news-link-container\"><div class=\"news-link-left\"><a class=\"tab-link-news\" href=\"https://www.investors.com/news/technology/google-stock-facebook-stock-estimates-hiked-ahead-of-earnings-branch/?src=A00220\" target=\"_blank\">Earnings Estimates For Tech Stocks Rise Ahead Of Reports, Netflix Beats</a></div><div class=\"news-link-right\"><span style=\"color:#aa6dc0;font-size:9px\"> Investor's Business Daily</span></div></div></td></tr>\n",
      "<tr><td align=\"right\" width=\"130\">03:33PM  </td><td align=\"left\"><div class=\"news-link-container\"><div class=\"news-link-left\"><a class=\"tab-link-news\" href=\"https://www.fool.com/investing/2021/10/19/why-facebook-stock-popped-again-today/?source=eptyholnk0000202&amp;utm_source=yahoo-host&amp;utm_medium=feed&amp;utm_campaign=article\" target=\"_blank\">Why Facebook Stock Popped Again Today</a></div><div class=\"news-link-right\"><span style=\"color:#aa6dc0;font-size:9px\"> Motley Fool</span></div></div></td></tr>\n",
      "<tr><td align=\"right\" width=\"130\">03:14PM  </td><td align=\"left\"><div class=\"news-link-container\"><div class=\"news-link-left\"><a class=\"tab-link-news\" href=\"https://finance.yahoo.com/news/facebook-settles-u-claims-reserved-164500177.html\" target=\"_blank\">Facebook Settles U.S. Claims It Reserved Jobs for Foreigners</a></div><div class=\"news-link-right\"><span style=\"color:#aa6dc0;font-size:9px\"> Bloomberg</span></div></div></td></tr>\n",
      "<tr><td align=\"right\" width=\"130\">02:53PM  </td><td align=\"left\"><div class=\"news-link-container\"><div class=\"news-link-left\"><a class=\"tab-link-news\" href=\"https://finance.yahoo.com/video/coinbase-pops-walmart-shares-rise-185339514.html\" target=\"_blank\">Coinbase pops, Walmart shares rise, Ulta Beauty slips as long-term targets disappoint</a></div><div class=\"news-link-right\"><span style=\"color:#aa6dc0;font-size:9px\"> Yahoo Finance Video</span></div></div></td></tr>\n",
      "<tr><td align=\"right\" width=\"130\">01:22PM  </td><td align=\"left\"><div class=\"news-link-container\"><div class=\"news-link-left\"><a class=\"tab-link-news\" href=\"https://finance.yahoo.com/video/former-facebook-exec-says-debates-172219997.html\" target=\"_blank\">Former Facebook Exec Says Debates Focused on Society, Not Profit</a></div><div class=\"news-link-right\"><span style=\"color:#aa6dc0;font-size:9px\"> WSJ</span></div></div></td></tr>\n",
      "<tr><td align=\"right\" width=\"130\">12:56PM  </td><td align=\"left\"><div class=\"news-link-container\"><div class=\"news-link-left\"><a class=\"tab-link-news\" href=\"https://finance.yahoo.com/news/does-facebook-present-really-interesting-165655396.html\" target=\"_blank\">Does Facebook Present A 'Really Interesting Opportunity' At Current Levels?</a></div><div class=\"news-link-right\"><span style=\"color:#aa6dc0;font-size:9px\"> Benzinga</span></div></div></td></tr>\n",
      "<tr><td align=\"right\" width=\"130\">12:56PM  </td><td align=\"left\"><div class=\"news-link-container\"><div class=\"news-link-left\"><a class=\"tab-link-news\" href=\"https://finance.yahoo.com/news/why-coinbase-shares-rising-today-165618224.html\" target=\"_blank\">Why Coinbase Shares Are Rising Today</a></div><div class=\"news-link-right\"><span style=\"color:#aa6dc0;font-size:9px\"> Benzinga</span></div></div></td></tr>\n",
      "<tr><td align=\"right\" width=\"130\">12:49PM  </td><td align=\"left\"><div class=\"news-link-container\"><div class=\"news-link-left\"><a class=\"tab-link-news\" href=\"https://finance.yahoo.com/news/facebook-pay-14-25-million-164940073.html\" target=\"_blank\">Facebook to pay up to $14.25 million to settle U.S. employment discrimination claims</a></div><div class=\"news-link-right\"><span style=\"color:#aa6dc0;font-size:9px\"> Reuters</span></div></div></td></tr>\n",
      "<tr><td align=\"right\" width=\"130\">12:45PM  </td><td align=\"left\"><div class=\"news-link-container\"><div class=\"news-link-left\"><a class=\"tab-link-news\" href=\"https://finance.yahoo.com/news/facebook-pay-14-25-mln-164500631.html\" target=\"_blank\">Facebook to pay up to $14.25 mln to settle U.S. employment discrimination claims</a></div><div class=\"news-link-right\"><span style=\"color:#aa6dc0;font-size:9px\"> Reuters</span></div></div></td></tr>\n",
      "<tr><td align=\"right\" width=\"130\">12:22PM  </td><td align=\"left\"><div class=\"news-link-container\"><div class=\"news-link-left\"><a class=\"tab-link-news\" href=\"https://finance.yahoo.com/news/goldman-sachs-stock-portfolio-top-162233976.html\" target=\"_blank\">Goldman Sachs Stock Portfolio: Top 10 Stocks</a></div><div class=\"news-link-right\"><span style=\"color:#aa6dc0;font-size:9px\"> Insider Monkey</span></div></div></td></tr>\n",
      "<tr><td align=\"right\" width=\"130\">12:00PM  </td><td align=\"left\"><div class=\"news-link-container\"><div class=\"news-link-left\"><a class=\"tab-link-news\" href=\"https://finance.yahoo.com/news/york-san-francisco-see-tech-160000723.html\" target=\"_blank\">Tech Salaries Are on the Rise, Just Not in New York or San Francisco</a></div><div class=\"news-link-right\"><span style=\"color:#aa6dc0;font-size:9px\"> Bloomberg</span></div></div></td></tr>\n",
      "<tr><td align=\"right\" width=\"130\">11:00AM  </td><td align=\"left\"><div class=\"news-link-container\"><div class=\"news-link-left\"><a class=\"tab-link-news\" href=\"https://www.bizjournals.com/phoenix/news/2021/10/19/phoenix-area-2020-ceo-pay-ratios.html?ana=yahoo\" target=\"_blank\">Valley CEOs maintain big pay ratios over rank-and-file employees</a></div><div class=\"news-link-right\"><span style=\"color:#aa6dc0;font-size:9px\"> American City Business Journals</span></div></div></td></tr>\n",
      "<tr><td align=\"right\" width=\"130\">10:43AM  </td><td align=\"left\"><div class=\"news-link-container\"><div class=\"news-link-left\"><a class=\"tab-link-news\" href=\"https://www.barrons.com/articles/apple-augmented-reality-glasses-could-show-up-this-time-next-year-51634654586?siteid=yhoof2\" target=\"_blank\">Apple Augmented-Reality Glasses Could Show Up This Time Next Year</a></div><div class=\"news-link-right\"><span style=\"color:#aa6dc0;font-size:9px\"> Barrons.com</span></div></div></td></tr>\n",
      "<tr><td align=\"right\" width=\"130\">09:25AM  </td><td align=\"left\"><div class=\"news-link-container\"><div class=\"news-link-left\"><a class=\"tab-link-news\" href=\"https://finance.yahoo.com/news/company-news-oct-19-2021-132501084.html\" target=\"_blank\">Company News for Oct 19, 2021</a></div><div class=\"news-link-right\"><span style=\"color:#aa6dc0;font-size:9px\"> Zacks</span></div></div></td></tr>\n",
      "<tr><td align=\"right\" width=\"130\">08:09AM  </td><td align=\"left\"><div class=\"news-link-container\"><div class=\"news-link-left\"><a class=\"tab-link-news\" href=\"https://finance.yahoo.com/news/facebook-shuts-fake-accounts-sudan-120927287.html\" target=\"_blank\">Facebook shuts fake accounts in Sudan, as fight for public opinion rages online</a></div><div class=\"news-link-right\"><span style=\"color:#aa6dc0;font-size:9px\"> Reuters</span></div></div></td></tr>\n",
      "<tr><td align=\"right\" width=\"130\">08:04AM  </td><td align=\"left\"><div class=\"news-link-container\"><div class=\"news-link-left\"><a class=\"tab-link-news\" href=\"https://finance.yahoo.com/news/insight-facebook-shuts-fake-accounts-120408837.html\" target=\"_blank\">INSIGHT-Facebook shuts fake accounts in Sudan, as fight for public opinion rages online</a></div><div class=\"news-link-right\"><span style=\"color:#aa6dc0;font-size:9px\"> Reuters</span></div></div></td></tr>\n",
      "<tr><td align=\"right\" width=\"130\">06:09AM  </td><td align=\"left\"><div class=\"news-link-container\"><div class=\"news-link-left\"><a class=\"tab-link-news\" href=\"https://finance.yahoo.com/news/coinbase-chosen-facebooks-custody-partner-100946592.html\" target=\"_blank\">Coinbase Chosen as Facebook's Custody Partner for Novi Pilot</a></div><div class=\"news-link-right\"><span style=\"color:#aa6dc0;font-size:9px\"> Investing.com</span></div></div></td></tr>\n",
      "<tr><td align=\"right\" width=\"130\">05:50AM  </td><td align=\"left\"><div class=\"news-link-container\"><div class=\"news-link-left\"><a class=\"tab-link-news\" href=\"https://www.thestreet.com/markets/coinbase-jumps-after-pilot-deal-with-facebook-digital-wallet-novi?puc=yahoo&amp;cm_ven=YAHOO\" target=\"_blank\">Coinbase Stock Jumps After Pilot Deal With Facebook Digital Wallet Novi</a></div><div class=\"news-link-right\"><span style=\"color:#aa6dc0;font-size:9px\"> TheStreet.com</span></div></div></td></tr>\n",
      "<tr><td align=\"right\" style=\"white-space:nowrap\" width=\"130\">Oct-18-21 09:28PM  </td><td align=\"left\"><div class=\"news-link-container\"><div class=\"news-link-left\"><a class=\"tab-link-news\" href=\"https://finance.yahoo.com/news/fb-equity-alert-rosen-leading-012800738.html\" target=\"_blank\">FB EQUITY ALERT: ROSEN, LEADING INVESTOR COUNSEL, Encourages Facebook, Inc. Investors with Losses to Inquire About Class Action Investigation - FB</a></div><div class=\"news-link-right\"><span style=\"color:#aa6dc0;font-size:9px\"> PR Newswire</span></div></div></td></tr>\n",
      "<tr><td align=\"right\" width=\"130\">04:44PM  </td><td align=\"left\"><div class=\"news-link-container\"><div class=\"news-link-left\"><a class=\"tab-link-news\" href=\"https://finance.yahoo.com/news/facebook-says-new-articles-based-on-leaked-documents-coming-204402847.html\" target=\"_blank\">Facebook: 30 journalists working on 'coordinated' articles based on new leaked documents</a></div><div class=\"news-link-right\"><span style=\"color:#aa6dc0;font-size:9px\"> Yahoo Finance</span></div></div></td></tr>\n",
      "<tr><td align=\"right\" width=\"130\">03:00PM  </td><td align=\"left\"><div class=\"news-link-container\"><div class=\"news-link-left\"><a class=\"tab-link-news\" href=\"https://finance.yahoo.com/news/facebook-fb-reports-next-week-190007561.html\" target=\"_blank\">Facebook (FB) Reports Next Week: Wall Street Expects Earnings Growth</a></div><div class=\"news-link-right\"><span style=\"color:#aa6dc0;font-size:9px\"> Zacks</span></div></div></td></tr>\n",
      "<tr><td align=\"right\" width=\"130\">02:29PM  </td><td align=\"left\"><div class=\"news-link-container\"><div class=\"news-link-left\"><a class=\"tab-link-news\" href=\"https://finance.yahoo.com/news/facebook-posts-strange-thread-suggesting-180720752.html\" target=\"_blank\">Facebook posts strange thread suggesting major revelations about to come out</a></div><div class=\"news-link-right\"><span style=\"color:#aa6dc0;font-size:9px\"> The Independent</span></div></div></td></tr>\n",
      "<tr><td align=\"right\" width=\"130\">12:38PM  </td><td align=\"left\"><div class=\"news-link-container\"><div class=\"news-link-left\"><a class=\"tab-link-news\" href=\"https://www.fool.com/investing/2021/10/18/why-facebook-stock-bounced-back-today/?source=eptyholnk0000202&amp;utm_source=yahoo-host&amp;utm_medium=feed&amp;utm_campaign=article\" target=\"_blank\">Why Facebook Stock Bounced Back Today</a></div><div class=\"news-link-right\"><span style=\"color:#aa6dc0;font-size:9px\"> Motley Fool</span></div></div></td></tr>\n",
      "<tr><td align=\"right\" width=\"130\">11:31AM  </td><td align=\"left\"><div class=\"news-link-container\"><div class=\"news-link-left\"><a class=\"tab-link-news\" href=\"https://finance.yahoo.com/video/facebook-overseas-expansion-saks-possible-153122609.html\" target=\"_blank\">Facebooks overseas expansion, Saks possible e-commerce IPO, IATSE union reaches deal</a></div><div class=\"news-link-right\"><span style=\"color:#aa6dc0;font-size:9px\"> Yahoo Finance Video</span></div></div></td></tr>\n",
      "<tr><td align=\"right\" width=\"130\">10:30AM  </td><td align=\"left\"><div class=\"news-link-container\"><div class=\"news-link-left\"><a class=\"tab-link-news\" href=\"https://www.fool.com/investing/2021/10/18/4-stocks-im-watching-this-week-as-potential-buys/?source=eptyholnk0000202&amp;utm_source=yahoo-host&amp;utm_medium=feed&amp;utm_campaign=article\" target=\"_blank\">4 Stocks I'm Watching This Week as Potential Buys</a></div><div class=\"news-link-right\"><span style=\"color:#aa6dc0;font-size:9px\"> Motley Fool</span></div></div></td></tr>\n",
      "<tr><td align=\"right\" width=\"130\">10:21AM  </td><td align=\"left\"><div class=\"news-link-container\"><div class=\"news-link-left\"><a class=\"tab-link-news\" href=\"https://finance.yahoo.com/news/facebook-plans-hire-10-000-065653791.html\" target=\"_blank\">Facebook plans to hire 10,000 people in Europe to build the metaverse</a></div><div class=\"news-link-right\"><span style=\"color:#aa6dc0;font-size:9px\"> The Independent</span></div></div></td></tr>\n",
      "<tr><td align=\"right\" width=\"130\">10:00AM  </td><td align=\"left\"><div class=\"news-link-container\"><div class=\"news-link-left\"><a class=\"tab-link-news\" href=\"https://finance.yahoo.com/news/amazon-brands-more-protection-fakes-140043216.html\" target=\"_blank\">At Amazon, Some Brands Get More Protection From Fakes Than Others</a></div><div class=\"news-link-right\"><span style=\"color:#aa6dc0;font-size:9px\"> Bloomberg</span></div></div></td></tr>\n",
      "<tr><td align=\"right\" width=\"130\">09:31AM  </td><td align=\"left\"><div class=\"news-link-container\"><div class=\"news-link-left\"><a class=\"tab-link-news\" href=\"https://finance.yahoo.com/news/facebook-earnings-preview-cards-social-133117892.html\" target=\"_blank\">Facebook Earnings Preview: Whats in the Cards for this Social Media Giant?</a></div><div class=\"news-link-right\"><span style=\"color:#aa6dc0;font-size:9px\"> SmarterAnalyst</span></div></div></td></tr>\n",
      "<tr><td align=\"right\" width=\"130\">09:27AM  </td><td align=\"left\"><div class=\"news-link-container\"><div class=\"news-link-left\"><a class=\"tab-link-news\" href=\"https://www.thestreet.com/investing/facebook-stock-rises-on-plan-to-hire-10000-eu-workers?puc=yahoo&amp;cm_ven=YAHOO\" target=\"_blank\">Facebook Stock Rises on Plan to Hire 10,000 EU Workers</a></div><div class=\"news-link-right\"><span style=\"color:#aa6dc0;font-size:9px\"> TheStreet.com</span></div></div></td></tr>\n",
      "<tr><td align=\"right\" width=\"130\">07:42AM  </td><td align=\"left\"><div class=\"news-link-container\"><div class=\"news-link-left\"><a class=\"tab-link-news\" href=\"https://www.barrons.com/articles/facebook-to-hire-10-000-people-build-metaverse-51634557309?siteid=yhoof2\" target=\"_blank\">Facebook to Hire 10,000 People to Build Its Metaverse. What That Means.</a></div><div class=\"news-link-right\"><span style=\"color:#aa6dc0;font-size:9px\"> Barrons.com</span></div></div></td></tr>\n",
      "<tr><td align=\"right\" width=\"130\">06:12AM  </td><td align=\"left\"><div class=\"news-link-container\"><div class=\"news-link-left\"><a class=\"tab-link-news\" href=\"https://finance.yahoo.com/news/1-facebook-plans-hire-10-101235432.html\" target=\"_blank\">UPDATE 1-Facebook plans to hire 10,000 in EU to build 'metaverse'</a></div><div class=\"news-link-right\"><span style=\"color:#aa6dc0;font-size:9px\"> Reuters</span></div></div></td></tr>\n",
      "<tr><td align=\"right\" width=\"130\">05:17AM  </td><td align=\"left\"><div class=\"news-link-container\"><div class=\"news-link-left\"><a class=\"tab-link-news\" href=\"https://finance.yahoo.com/video/facebook-invests-10-000-emea-091735357.html\" target=\"_blank\">Facebook Invests in 10,000 EMEA Jobs</a></div><div class=\"news-link-right\"><span style=\"color:#aa6dc0;font-size:9px\"> Bloomberg</span></div></div></td></tr>\n",
      "<tr><td align=\"right\" width=\"130\">04:46AM  </td><td align=\"left\"><div class=\"news-link-container\"><div class=\"news-link-left\"><a class=\"tab-link-news\" href=\"https://finance.yahoo.com/news/facebook-track-holiday-ad-surge-084613805.html\" target=\"_blank\">Facebook on Track for Holiday Ad Surge Despite Supply Chain Woes</a></div><div class=\"news-link-right\"><span style=\"color:#aa6dc0;font-size:9px\"> Bloomberg</span></div></div></td></tr>\n",
      "<tr><td align=\"right\" width=\"130\">04:13AM  </td><td align=\"left\"><div class=\"news-link-container\"><div class=\"news-link-left\"><a class=\"tab-link-news\" href=\"https://finance.yahoo.com/news/china-weighs-opening-tencent-bytedance-081329209.html\" target=\"_blank\">China Weighs Opening Tencent, ByteDance Content to Search, Sources Say</a></div><div class=\"news-link-right\"><span style=\"color:#aa6dc0;font-size:9px\"> Bloomberg</span></div></div></td></tr>\n",
      "<tr><td align=\"right\" width=\"130\">01:38AM  </td><td align=\"left\"><div class=\"news-link-container\"><div class=\"news-link-left\"><a class=\"tab-link-news\" href=\"https://finance.yahoo.com/news/singapore-billionaire-ronaldo-try-marry-040008260.html\" target=\"_blank\">Ronaldo Teams With Singapore Tycoon for Secretive Soccer Startup</a></div><div class=\"news-link-right\"><span style=\"color:#aa6dc0;font-size:9px\"> Bloomberg</span></div></div></td></tr>\n",
      "<tr><td align=\"right\" style=\"white-space:nowrap\" width=\"130\">Oct-17-21 08:54PM  </td><td align=\"left\"><div class=\"news-link-container\"><div class=\"news-link-left\"><a class=\"tab-link-news\" href=\"https://www.marketwatch.com/story/facebook-plans-to-hire-10-000-in-eu-to-help-build-its-metaverse-11634518473?siteid=yhoof2\" target=\"_blank\">Facebook plans to hire 10,000 in EU to help build its metaverse</a></div><div class=\"news-link-right\"><span style=\"color:#aa6dc0;font-size:9px\"> MarketWatch</span></div></div></td></tr>\n",
      "<tr><td align=\"right\" width=\"130\">06:08PM  </td><td align=\"left\"><div class=\"news-link-container\"><div class=\"news-link-left\"><a class=\"tab-link-news\" href=\"https://finance.yahoo.com/news/facebook-plans-hire-10-000-220852239.html\" target=\"_blank\">Facebook plans to hire 10,000 in EU to build 'metaverse'</a></div><div class=\"news-link-right\"><span style=\"color:#aa6dc0;font-size:9px\"> Reuters</span></div></div></td></tr>\n",
      "<tr><td align=\"right\" width=\"130\">06:01PM  </td><td align=\"left\"><div class=\"news-link-container\"><div class=\"news-link-left\"><a class=\"tab-link-news\" href=\"https://finance.yahoo.com/news/facebook-plans-hire-10-000-220101185.html\" target=\"_blank\">Facebook plans to hire 10,000 in EU to build 'metaverse'</a></div><div class=\"news-link-right\"><span style=\"color:#aa6dc0;font-size:9px\"> Reuters</span></div></div></td></tr>\n",
      "<tr><td align=\"right\" width=\"130\">06:01PM  </td><td align=\"left\"><div class=\"news-link-container\"><div class=\"news-link-left\"><a class=\"tab-link-news\" href=\"https://finance.yahoo.com/news/facebook-creating-10-000-jobs-220100077.html\" target=\"_blank\">Facebook Is Creating 10,000 Jobs in EU to Help Develop a Metaverse</a></div><div class=\"news-link-right\"><span style=\"color:#aa6dc0;font-size:9px\"> Bloomberg</span></div></div></td></tr>\n",
      "<tr><td align=\"right\" width=\"130\">04:15PM  </td><td align=\"left\"><div class=\"news-link-container\"><div class=\"news-link-left\"><a class=\"tab-link-news\" href=\"https://www.investors.com/research/best-stocks-to-buy-now/?src=A00220\" target=\"_blank\">These Are The 5 Best Stocks To Buy And Watch Now</a></div><div class=\"news-link-right\"><span style=\"color:#aa6dc0;font-size:9px\"> Investor's Business Daily</span></div></div></td></tr>\n",
      "<tr><td align=\"right\" width=\"130\">06:30AM  </td><td align=\"left\"><div class=\"news-link-container\"><div class=\"news-link-left\"><a class=\"tab-link-news\" href=\"https://www.fool.com/investing/2021/10/17/3-solid-growth-stocks-perfect-for-retirees/?source=eptyholnk0000202&amp;utm_source=yahoo-host&amp;utm_medium=feed&amp;utm_campaign=article\" target=\"_blank\">3 Solid Growth Stocks Perfect for Retirees</a></div><div class=\"news-link-right\"><span style=\"color:#aa6dc0;font-size:9px\"> Motley Fool</span></div></div></td></tr>\n",
      "<tr><td align=\"right\" style=\"white-space:nowrap\" width=\"130\">Oct-16-21 05:38PM  </td><td align=\"left\"><div class=\"news-link-container\"><div class=\"news-link-left\"><a class=\"tab-link-news\" href=\"https://finance.yahoo.com/news/facebook-controversy-creates-buying-opportunity-213808205.html\" target=\"_blank\">Facebook: Controversy Creates a Buying Opportunity, Says Analyst</a></div><div class=\"news-link-right\"><span style=\"color:#aa6dc0;font-size:9px\"> TipRanks</span></div></div></td></tr>\n",
      "<tr><td align=\"right\" width=\"130\">05:28PM  </td><td align=\"left\"><div class=\"news-link-container\"><div class=\"news-link-left\"><a class=\"tab-link-news\" href=\"https://www.investopedia.com/ask/answers/how-does-one-make-money-short-selling/?utm_campaign=quote-yahoo&amp;utm_source=yahoo&amp;utm_medium=referral\" target=\"_blank\">Short Selling Guide: How to Short a Stock</a></div><div class=\"news-link-right\"><span style=\"color:#aa6dc0;font-size:9px\"> Investopedia</span></div></div></td></tr>\n",
      "<tr><td align=\"right\" width=\"130\">02:26PM  </td><td align=\"left\"><div class=\"news-link-container\"><div class=\"news-link-left\"><a class=\"tab-link-news\" href=\"https://finance.yahoo.com/news/alexis-ohanian-on-facebook-were-in-territory-i-dont-think-any-of-us-expected-182646459.html\" target=\"_blank\">Alexis Ohanian on Facebook: 'Were in territory I dont think any of us expected'</a></div><div class=\"news-link-right\"><span style=\"color:#aa6dc0;font-size:9px\"> Yahoo Finance</span></div></div></td></tr>\n",
      "<tr><td align=\"right\" width=\"130\">06:12AM  </td><td align=\"left\"><div class=\"news-link-container\"><div class=\"news-link-left\"><a class=\"tab-link-news\" href=\"https://finance.yahoo.com/news/instagram-fretted-retaining-engaging-teenagers-101244311.html\" target=\"_blank\">Instagram Fretted About Retaining, Engaging Teenagers: NY Times</a></div><div class=\"news-link-right\"><span style=\"color:#aa6dc0;font-size:9px\"> Bloomberg</span></div></div></td></tr>\n",
      "<tr><td align=\"right\" width=\"130\">06:00AM  </td><td align=\"left\"><div class=\"news-link-container\"><div class=\"news-link-left\"><a class=\"tab-link-news\" href=\"https://www.fool.com/investing/2021/10/16/could-this-business-model-tweak-create-a-better-so/?source=eptyholnk0000202&amp;utm_source=yahoo-host&amp;utm_medium=feed&amp;utm_campaign=article\" target=\"_blank\">Could This Business-Model Tweak Create a Better Social Media Investment Than Facebook?</a></div><div class=\"news-link-right\"><span style=\"color:#aa6dc0;font-size:9px\"> Motley Fool</span></div></div></td></tr>\n",
      "<tr><td align=\"right\" style=\"white-space:nowrap\" width=\"130\">Oct-15-21 06:28PM  </td><td align=\"left\"><div class=\"news-link-container\"><div class=\"news-link-left\"><a class=\"tab-link-news\" href=\"https://www.barrons.com/articles/stock-market-tech-stocks-51634326247?siteid=yhoof2\" target=\"_blank\">Big Tech Rules the Stock Market. Why Its Not Time to Relax.</a></div><div class=\"news-link-right\"><span style=\"color:#aa6dc0;font-size:9px\"> Barrons.com</span></div></div></td></tr>\n",
      "<tr><td align=\"right\" width=\"130\">04:06PM  </td><td align=\"left\"><div class=\"news-link-container\"><div class=\"news-link-left\"><a class=\"tab-link-news\" href=\"https://www.investors.com/news/technology/facebook-stock-can-it-survive-another-scandal/?src=A00220\" target=\"_blank\">How Many Times Can Facebook Stock Rebound From Another Big Scandal?</a></div><div class=\"news-link-right\"><span style=\"color:#aa6dc0;font-size:9px\"> Investor's Business Daily</span></div></div></td></tr>\n",
      "<tr><td align=\"right\" width=\"130\">04:05PM  </td><td align=\"left\"><div class=\"news-link-container\"><div class=\"news-link-left\"><a class=\"tab-link-news\" href=\"https://finance.yahoo.com/video/alexis-ohanian-push-paid-paternity-200544997.html\" target=\"_blank\">Alexis Ohanian on push for paid paternity leave and leadership in tech</a></div><div class=\"news-link-right\"><span style=\"color:#aa6dc0;font-size:9px\"> Yahoo Finance Video</span></div></div></td></tr>\n",
      "<tr><td align=\"right\" width=\"130\">03:30PM  </td><td align=\"left\"><div class=\"news-link-container\"><div class=\"news-link-left\"><a class=\"tab-link-news\" href=\"https://www.barrons.com/articles/stock-market-needs-apple-big-tech-to-keep-rising-that-might-be-difficult-51634326247?siteid=yhoof2\" target=\"_blank\">Big Tech Rules the Stock Market. Why Its Not Time to Relax.</a></div><div class=\"news-link-right\"><span style=\"color:#aa6dc0;font-size:9px\"> Barrons.com</span></div></div></td></tr>\n",
      "<tr><td align=\"right\" width=\"130\">01:25PM  </td><td align=\"left\"><div class=\"news-link-container\"><div class=\"news-link-left\"><a class=\"tab-link-news\" href=\"https://finance.yahoo.com/news/keep-holding-facebook-fb-position-172532739.html\" target=\"_blank\">Should You Keep on Holding Your Facebook (FB) Position?</a></div><div class=\"news-link-right\"><span style=\"color:#aa6dc0;font-size:9px\"> Insider Monkey</span></div></div></td></tr>\n",
      "<tr><td align=\"right\" width=\"130\">12:02PM  </td><td align=\"left\"><div class=\"news-link-container\"><div class=\"news-link-left\"><a class=\"tab-link-news\" href=\"https://www.barrons.com/articles/facebook-could-underperform-in-third-quarter-analyst-51634313738?siteid=yhoof2\" target=\"_blank\">Facebook Could Underperform in Third Quarter: Analyst</a></div><div class=\"news-link-right\"><span style=\"color:#aa6dc0;font-size:9px\"> Barrons.com</span></div></div></td></tr>\n",
      "<tr><td align=\"right\" width=\"130\">11:25AM  </td><td align=\"left\"><div class=\"news-link-container\"><div class=\"news-link-left\"><a class=\"tab-link-news\" href=\"https://finance.yahoo.com/news/snap-shares-outpace-facebook-faster-152548515.html\" target=\"_blank\">Snap Shares Outpace Facebooks With Faster Growth and Less Controversy</a></div><div class=\"news-link-right\"><span style=\"color:#aa6dc0;font-size:9px\"> Bloomberg</span></div></div></td></tr>\n",
      "<tr><td align=\"right\" width=\"130\">10:22AM  </td><td align=\"left\"><div class=\"news-link-container\"><div class=\"news-link-left\"><a class=\"tab-link-news\" href=\"https://www.thestreet.com/investing/5-top-stock-decliners-for-friday-moderna-virgin-galactic-facebook?puc=yahoo&amp;cm_ven=YAHOO\" target=\"_blank\">5 Top Stock Decliners for Friday: Moderna, Facebook, Virgin Galactic</a></div><div class=\"news-link-right\"><span style=\"color:#aa6dc0;font-size:9px\"> TheStreet.com</span></div></div></td></tr>\n",
      "<tr><td align=\"right\" width=\"130\">09:01AM  </td><td align=\"left\"><div class=\"news-link-container\"><div class=\"news-link-left\"><a class=\"tab-link-news\" href=\"https://www.fool.com/investing/2021/10/15/these-2-under-the-radar-stocks-have-incredibly-bri/?source=eptyholnk0000202&amp;utm_source=yahoo-host&amp;utm_medium=feed&amp;utm_campaign=article\" target=\"_blank\">These 2 Under-the-Radar Stocks Have Incredibly Bright Futures</a></div><div class=\"news-link-right\"><span style=\"color:#aa6dc0;font-size:9px\"> Motley Fool</span></div></div></td></tr>\n",
      "<tr><td align=\"right\" width=\"130\">08:51AM  </td><td align=\"left\"><div class=\"news-link-container\"><div class=\"news-link-left\"><a class=\"tab-link-news\" href=\"https://www.marketwatch.com/story/facebooks-stock-has-been-languishing-things-could-get-worse-11634302261?siteid=yhoof2\" target=\"_blank\">Facebooks stock has been languishing  things could get worse</a></div><div class=\"news-link-right\"><span style=\"color:#aa6dc0;font-size:9px\"> MarketWatch</span></div></div></td></tr>\n",
      "<tr><td align=\"right\" width=\"130\">07:54AM  </td><td align=\"left\"><div class=\"news-link-container\"><div class=\"news-link-left\"><a class=\"tab-link-news\" href=\"https://www.thestreet.com/investing/netflix-uber-at-outperform-facebook-underperform-at-evercore?puc=yahoo&amp;cm_ven=YAHOO\" target=\"_blank\">Netflix and Uber Rated Outperform, Facebook Underperform at Evercore</a></div><div class=\"news-link-right\"><span style=\"color:#aa6dc0;font-size:9px\"> TheStreet.com</span></div></div></td></tr>\n",
      "<tr><td align=\"right\" width=\"130\">07:30AM  </td><td align=\"left\"><div class=\"news-link-container\"><div class=\"news-link-left\"><a class=\"tab-link-news\" href=\"https://www.fool.com/investing/2021/10/15/how-should-investors-react-to-the-facebook-files/?source=eptyholnk0000202&amp;utm_source=yahoo-host&amp;utm_medium=feed&amp;utm_campaign=article\" target=\"_blank\">How Should Investors React to \"The Facebook Files\"?</a></div><div class=\"news-link-right\"><span style=\"color:#aa6dc0;font-size:9px\"> Motley Fool</span></div></div></td></tr>\n",
      "<tr><td align=\"right\" width=\"130\">07:15AM  </td><td align=\"left\"><div class=\"news-link-container\"><div class=\"news-link-left\"><a class=\"tab-link-news\" href=\"https://www.fool.com/investing/2021/10/15/should-investors-worry-about-future-of-facebook/?source=eptyholnk0000202&amp;utm_source=yahoo-host&amp;utm_medium=feed&amp;utm_campaign=article\" target=\"_blank\">Should Investors Be Worried About the Future of Facebook Stock?</a></div><div class=\"news-link-right\"><span style=\"color:#aa6dc0;font-size:9px\"> Motley Fool</span></div></div></td></tr>\n",
      "<tr><td align=\"right\" width=\"130\">05:30AM  </td><td align=\"left\"><div class=\"news-link-container\"><div class=\"news-link-left\"><a class=\"tab-link-news\" href=\"https://finance.yahoo.com/video/facebook-big-tobacco-why-social-093000142.html\" target=\"_blank\">Facebook and Big Tobacco: Why Social Media Is (and Isnt) Like Cigarettes</a></div><div class=\"news-link-right\"><span style=\"color:#aa6dc0;font-size:9px\"> WSJ</span></div></div></td></tr>\n",
      "<tr><td align=\"right\" style=\"white-space:nowrap\" width=\"130\">Oct-14-21 09:08PM  </td><td align=\"left\"><div class=\"news-link-container\"><div class=\"news-link-left\"><a class=\"tab-link-news\" href=\"https://finance.yahoo.com/news/1-fourteen-u-state-attorneys-010801582.html\" target=\"_blank\">UPDATE 1-Fourteen U.S. state attorneys general press Facebook on vaccine disinformation</a></div><div class=\"news-link-right\"><span style=\"color:#aa6dc0;font-size:9px\"> Reuters</span></div></div></td></tr>\n",
      "<tr><td align=\"right\" width=\"130\">08:28PM  </td><td align=\"left\"><div class=\"news-link-container\"><div class=\"news-link-left\"><a class=\"tab-link-news\" href=\"https://finance.yahoo.com/news/fourteen-u-attorneys-general-press-002803883.html\" target=\"_blank\">Fourteen U.S. state attorneys general press Facebook on vaccine disinformation</a></div><div class=\"news-link-right\"><span style=\"color:#aa6dc0;font-size:9px\"> Reuters</span></div></div></td></tr>\n",
      "<tr><td align=\"right\" width=\"130\">08:25PM  </td><td align=\"left\"><div class=\"news-link-container\"><div class=\"news-link-left\"><a class=\"tab-link-news\" href=\"https://finance.yahoo.com/news/fourteen-u-attorneys-general-press-002524637.html\" target=\"_blank\">Fourteen U.S. attorneys general press Facebook on vaccine disinformation</a></div><div class=\"news-link-right\"><span style=\"color:#aa6dc0;font-size:9px\"> Reuters</span></div></div></td></tr>\n",
      "<tr><td align=\"right\" width=\"130\">04:40PM  </td><td align=\"left\"><div class=\"news-link-container\"><div class=\"news-link-left\"><a class=\"tab-link-news\" href=\"https://www.investopedia.com/microsoft-s-msft-linkedin-to-exit-china-this-year-5205761?utm_campaign=quote-yahoo&amp;utm_source=yahoo&amp;utm_medium=referral\" target=\"_blank\">Microsoft's (MSFT) LinkedIn to Exit China This Year</a></div><div class=\"news-link-right\"><span style=\"color:#aa6dc0;font-size:9px\"> Investopedia</span></div></div></td></tr>\n",
      "<tr><td align=\"right\" width=\"130\">02:56PM  </td><td align=\"left\"><div class=\"news-link-container\"><div class=\"news-link-left\"><a class=\"tab-link-news\" href=\"https://www.marketwatch.com/story/new-bills-aim-at-apple-google-and-facebook-as-u-s-attempts-to-catch-up-to-europes-big-tech-push-11634237758?siteid=yhoof2\" target=\"_blank\">New bills aim at Apple, Google and Facebook as U.S. attempts to catch up to Europes Big Tech push</a></div><div class=\"news-link-right\"><span style=\"color:#aa6dc0;font-size:9px\"> MarketWatch</span></div></div></td></tr>\n",
      "<tr><td align=\"right\" width=\"130\">01:29PM  </td><td align=\"left\"><div class=\"news-link-container\"><div class=\"news-link-left\"><a class=\"tab-link-news\" href=\"https://finance.yahoo.com/news/microsoft-shuts-linkedin-china-citing-143224833.html\" target=\"_blank\">Microsoft Shuts LinkedIn China, Citing Challenging Climate</a></div><div class=\"news-link-right\"><span style=\"color:#aa6dc0;font-size:9px\"> Bloomberg</span></div></div></td></tr>\n",
      "<tr><td align=\"right\" width=\"130\">01:05PM  </td><td align=\"left\"><div class=\"news-link-container\"><div class=\"news-link-left\"><a class=\"tab-link-news\" href=\"https://finance.yahoo.com/news/nigeria-flutterwave-talks-triple-valuation-170518047.html\" target=\"_blank\">Nigerias Flutterwave in Talks to Triple Valuation to $3 Billion</a></div><div class=\"news-link-right\"><span style=\"color:#aa6dc0;font-size:9px\"> Bloomberg</span></div></div></td></tr>\n",
      "<tr><td align=\"right\" width=\"130\">12:49PM  </td><td align=\"left\"><div class=\"news-link-container\"><div class=\"news-link-left\"><a class=\"tab-link-news\" href=\"https://finance.yahoo.com/news/facebook-collected-3k-hours-first-164903126.html\" target=\"_blank\">Facebook Collected 3K Hours First-Person Footage For Vital AI Project</a></div><div class=\"news-link-right\"><span style=\"color:#aa6dc0;font-size:9px\"> Benzinga</span></div></div></td></tr>\n",
      "<tr><td align=\"right\" width=\"130\">12:22PM  </td><td align=\"left\"><div class=\"news-link-container\"><div class=\"news-link-left\"><a class=\"tab-link-news\" href=\"https://finance.yahoo.com/news/senate-bill-restrict-tech-firms-090000725.html\" target=\"_blank\">Big Tech Faces New Bills on Liability and Competition in U.S.</a></div><div class=\"news-link-right\"><span style=\"color:#aa6dc0;font-size:9px\"> Bloomberg</span></div></div></td></tr>\n",
      "<tr><td align=\"right\" width=\"130\">09:34AM  </td><td align=\"left\"><div class=\"news-link-container\"><div class=\"news-link-left\"><a class=\"tab-link-news\" href=\"https://finance.yahoo.com/news/facebook-starts-ai-project-based-133405027.html\" target=\"_blank\">Facebook Starts AI Project Based on First-Person View</a></div><div class=\"news-link-right\"><span style=\"color:#aa6dc0;font-size:9px\"> Investing.com</span></div></div></td></tr>\n",
      "<tr><td align=\"right\" width=\"130\">09:08AM  </td><td align=\"left\"><div class=\"news-link-container\"><div class=\"news-link-left\"><a class=\"tab-link-news\" href=\"https://finance.yahoo.com/news/facebook-makes-internal-forums-private-130829338.html\" target=\"_blank\">Facebook makes internal forums private amid leaking scandal</a></div><div class=\"news-link-right\"><span style=\"color:#aa6dc0;font-size:9px\"> The Independent</span></div></div></td></tr>\n",
      "<tr><td align=\"right\" width=\"130\">08:04AM  </td><td align=\"left\"><div class=\"news-link-container\"><div class=\"news-link-left\"><a class=\"tab-link-news\" href=\"https://finance.yahoo.com/news/facebook-tightens-access-rules-employee-120424983.html\" target=\"_blank\">Facebook Tightens Access Rules For Employee Internal Discussion Forums: WSJ</a></div><div class=\"news-link-right\"><span style=\"color:#aa6dc0;font-size:9px\"> Benzinga</span></div></div></td></tr>\n",
      "<tr><td align=\"right\" width=\"130\">05:52AM  </td><td align=\"left\"><div class=\"news-link-container\"><div class=\"news-link-left\"><a class=\"tab-link-news\" href=\"https://www.fool.com/investing/2021/10/14/3-beaten-down-robinhood-stocks-that-could-bounce-b/?source=eptyholnk0000202&amp;utm_source=yahoo-host&amp;utm_medium=feed&amp;utm_campaign=article\" target=\"_blank\">3 Beaten-Down Robinhood Stocks That Could Bounce Back Big Time</a></div><div class=\"news-link-right\"><span style=\"color:#aa6dc0;font-size:9px\"> Motley Fool</span></div></div></td></tr>\n",
      "<tr><td align=\"right\" style=\"white-space:nowrap\" width=\"130\">Oct-13-21 08:27PM  </td><td align=\"left\"><div class=\"news-link-container\"><div class=\"news-link-left\"><a class=\"tab-link-news\" href=\"https://finance.yahoo.com/news/early-facebook-investor-reid-hoffman-221129245.html\" target=\"_blank\">One of Facebooks Earliest Investors Says People Have Lost Trust in Company</a></div><div class=\"news-link-right\"><span style=\"color:#aa6dc0;font-size:9px\"> Bloomberg</span></div></div></td></tr>\n",
      "<tr><td align=\"right\" width=\"130\">06:27PM  </td><td align=\"left\"><div class=\"news-link-container\"><div class=\"news-link-left\"><a class=\"tab-link-news\" href=\"https://www.marketwatch.com/story/facebook-expands-harassment-policy-to-protect-public-figures-01634164020?siteid=yhoof2\" target=\"_blank\">Facebook expands harassment policy to protect public figures</a></div><div class=\"news-link-right\"><span style=\"color:#aa6dc0;font-size:9px\"> MarketWatch</span></div></div></td></tr>\n",
      "<tr><td align=\"right\" width=\"130\">02:59PM  </td><td align=\"left\"><div class=\"news-link-container\"><div class=\"news-link-left\"><a class=\"tab-link-news\" href=\"https://www.fool.com/investing/2021/10/13/what-pepsico-is-doing-right/?source=eptyholnk0000202&amp;utm_source=yahoo-host&amp;utm_medium=feed&amp;utm_campaign=article\" target=\"_blank\">What PepsiCo Is Doing Right</a></div><div class=\"news-link-right\"><span style=\"color:#aa6dc0;font-size:9px\"> Motley Fool</span></div></div></td></tr>\n",
      "</table>, 'TWTR': <table border=\"0\" cellpadding=\"1\" cellspacing=\"0\" class=\"fullview-news-outer\" id=\"news-table\" width=\"100%\">\n",
      "<tr><td align=\"right\" style=\"white-space:nowrap\" width=\"130\">Oct-20-21 04:28AM  </td><td align=\"left\"><div class=\"news-link-container\"><div class=\"news-link-left\"><a class=\"tab-link-news\" href=\"https://finance.yahoo.com/news/meta-horizon-facebook-renaming-report-082801712.html\" target=\"_blank\">Meta? Horizon? Facebook Renaming Report Sparks Speculation</a></div><div class=\"news-link-right\"><span style=\"color:#aa6dc0;font-size:9px\"> Bloomberg</span></div></div></td></tr>\n",
      "<tr><td align=\"right\" style=\"white-space:nowrap\" width=\"130\">Oct-19-21 05:50PM  </td><td align=\"left\"><div class=\"news-link-container\"><div class=\"news-link-left\"><a class=\"tab-link-news\" href=\"https://finance.yahoo.com/news/twitter-twtr-outpaces-stock-market-215009227.html\" target=\"_blank\">Twitter (TWTR) Outpaces Stock Market Gains: What You Should Know</a></div><div class=\"news-link-right\"><span style=\"color:#aa6dc0;font-size:9px\"> Zacks</span></div></div></td></tr>\n",
      "<tr><td align=\"right\" width=\"130\">03:26PM  </td><td align=\"left\"><div class=\"news-link-container\"><div class=\"news-link-left\"><a class=\"tab-link-news\" href=\"https://finance.yahoo.com/news/xbox-mini-fridge-goes-meme-192641540.html\" target=\"_blank\">Xbox Mini Fridge Goes From Meme to Holiday Sales Hit</a></div><div class=\"news-link-right\"><span style=\"color:#aa6dc0;font-size:9px\"> Bloomberg</span></div></div></td></tr>\n",
      "<tr><td align=\"right\" width=\"130\">03:02PM  </td><td align=\"left\"><div class=\"news-link-container\"><div class=\"news-link-left\"><a class=\"tab-link-news\" href=\"https://finance.yahoo.com/news/earnings-preview-twitter-twtr-q3-190207843.html\" target=\"_blank\">Earnings Preview: Twitter (TWTR) Q3 Earnings Expected to Decline</a></div><div class=\"news-link-right\"><span style=\"color:#aa6dc0;font-size:9px\"> Zacks</span></div></div></td></tr>\n",
      "<tr><td align=\"right\" width=\"130\">12:40PM  </td><td align=\"left\"><div class=\"news-link-container\"><div class=\"news-link-left\"><a class=\"tab-link-news\" href=\"https://www.investors.com/news/technology/twitter-earns-relative-strength-rating-upgrade/?src=A00220\" target=\"_blank\">Twitter Stock Earns Key Rating Upgrade; Near All-Time High; Agreed To Sell App For $1.05 Billion</a></div><div class=\"news-link-right\"><span style=\"color:#aa6dc0;font-size:9px\"> Investor's Business Daily</span></div></div></td></tr>\n",
      "<tr><td align=\"right\" width=\"130\">07:10AM  </td><td align=\"left\"><div class=\"news-link-container\"><div class=\"news-link-left\"><a class=\"tab-link-news\" href=\"https://www.fool.com/investing/2021/10/19/3-cathie-wood-investments-deliver-super-returns/?source=eptyholnk0000202&amp;utm_source=yahoo-host&amp;utm_medium=feed&amp;utm_campaign=article\" target=\"_blank\">3 Cathie Wood Investments That Could Deliver Superior Returns</a></div><div class=\"news-link-right\"><span style=\"color:#aa6dc0;font-size:9px\"> Motley Fool</span></div></div></td></tr>\n",
      "<tr><td align=\"right\" width=\"130\">02:15AM  </td><td align=\"left\"><div class=\"news-link-container\"><div class=\"news-link-left\"><a class=\"tab-link-news\" href=\"https://finance.yahoo.com/news/softbank-coo-clashes-masayoshi-son-130023587.html\" target=\"_blank\">SoftBanks COO Clashes With Son Over Latin American Spinoff</a></div><div class=\"news-link-right\"><span style=\"color:#aa6dc0;font-size:9px\"> Bloomberg</span></div></div></td></tr>\n",
      "<tr><td align=\"right\" width=\"130\">01:01AM  </td><td align=\"left\"><div class=\"news-link-container\"><div class=\"news-link-left\"><a class=\"tab-link-news\" href=\"https://finance.yahoo.com/news/apple-19-screen-cleaning-cloth-050110261.html\" target=\"_blank\">Apples $19 Screen-Cleaning Cloth Sets High Bar for Brand Extras</a></div><div class=\"news-link-right\"><span style=\"color:#aa6dc0;font-size:9px\"> Bloomberg</span></div></div></td></tr>\n",
      "<tr><td align=\"right\" style=\"white-space:nowrap\" width=\"130\">Oct-18-21 04:44PM  </td><td align=\"left\"><div class=\"news-link-container\"><div class=\"news-link-left\"><a class=\"tab-link-news\" href=\"https://finance.yahoo.com/news/facebook-says-new-articles-based-on-leaked-documents-coming-204402847.html\" target=\"_blank\">Facebook: 30 journalists working on 'coordinated' articles based on new leaked documents</a></div><div class=\"news-link-right\"><span style=\"color:#aa6dc0;font-size:9px\"> Yahoo Finance</span></div></div></td></tr>\n",
      "<tr><td align=\"right\" width=\"130\">12:17PM  </td><td align=\"left\"><div class=\"news-link-container\"><div class=\"news-link-left\"><a class=\"tab-link-news\" href=\"https://finance.yahoo.com/news/whats-going-fuelcell-energys-stock-161715970.html\" target=\"_blank\">What's Going On With FuelCell Energy's Stock Today?</a></div><div class=\"news-link-right\"><span style=\"color:#aa6dc0;font-size:9px\"> Benzinga</span></div></div></td></tr>\n",
      "<tr><td align=\"right\" width=\"130\">10:00AM  </td><td align=\"left\"><div class=\"news-link-container\"><div class=\"news-link-left\"><a class=\"tab-link-news\" href=\"https://finance.yahoo.com/news/dune-taking-over-twitter-movies-140037132.html\" target=\"_blank\">Dune Is Taking Over Twitters Movies Account This Week</a></div><div class=\"news-link-right\"><span style=\"color:#aa6dc0;font-size:9px\"> Variety</span></div></div></td></tr>\n",
      "<tr><td align=\"right\" width=\"130\">08:57AM  </td><td align=\"left\"><div class=\"news-link-container\"><div class=\"news-link-left\"><a class=\"tab-link-news\" href=\"https://finance.yahoo.com/news/zacks-analyst-blog-highlights-edwards-125712466.html\" target=\"_blank\">The Zacks Analyst Blog Highlights: Edwards Lifesciences, DexCom, Twitter, Cigna Corp and Restaurant Brands</a></div><div class=\"news-link-right\"><span style=\"color:#aa6dc0;font-size:9px\"> Zacks</span></div></div></td></tr>\n",
      "<tr><td align=\"right\" width=\"130\">01:38AM  </td><td align=\"left\"><div class=\"news-link-container\"><div class=\"news-link-left\"><a class=\"tab-link-news\" href=\"https://finance.yahoo.com/news/singapore-billionaire-ronaldo-try-marry-040008260.html\" target=\"_blank\">Ronaldo Teams With Singapore Tycoon for Secretive Soccer Startup</a></div><div class=\"news-link-right\"><span style=\"color:#aa6dc0;font-size:9px\"> Bloomberg</span></div></div></td></tr>\n",
      "<tr><td align=\"right\" style=\"white-space:nowrap\" width=\"130\">Oct-16-21 06:00AM  </td><td align=\"left\"><div class=\"news-link-container\"><div class=\"news-link-left\"><a class=\"tab-link-news\" href=\"https://www.fool.com/investing/2021/10/16/could-this-business-model-tweak-create-a-better-so/?source=eptyholnk0000202&amp;utm_source=yahoo-host&amp;utm_medium=feed&amp;utm_campaign=article\" target=\"_blank\">Could This Business-Model Tweak Create a Better Social Media Investment Than Facebook?</a></div><div class=\"news-link-right\"><span style=\"color:#aa6dc0;font-size:9px\"> Motley Fool</span></div></div></td></tr>\n",
      "<tr><td align=\"right\" style=\"white-space:nowrap\" width=\"130\">Oct-15-21 05:37PM  </td><td align=\"left\"><div class=\"news-link-container\"><div class=\"news-link-left\"><a class=\"tab-link-news\" href=\"https://finance.yahoo.com/news/apple-fires-another-employee-urged-172614503.html\" target=\"_blank\">Apple Fires Another Employee Who Urged Workers to Speak Out</a></div><div class=\"news-link-right\"><span style=\"color:#aa6dc0;font-size:9px\"> Bloomberg</span></div></div></td></tr>\n",
      "<tr><td align=\"right\" width=\"130\">04:41PM  </td><td align=\"left\"><div class=\"news-link-container\"><div class=\"news-link-left\"><a class=\"tab-link-news\" href=\"https://finance.yahoo.com/news/jack-dorsey-square-considers-building-204138693.html\" target=\"_blank\">Jack Dorseys Square Considers Building a Bitcoin Mining System</a></div><div class=\"news-link-right\"><span style=\"color:#aa6dc0;font-size:9px\"> Bloomberg</span></div></div></td></tr>\n",
      "<tr><td align=\"right\" width=\"130\">02:49PM  </td><td align=\"left\"><div class=\"news-link-container\"><div class=\"news-link-left\"><a class=\"tab-link-news\" href=\"https://finance.yahoo.com/news/top-analyst-reports-edwards-lifesciences-184906027.html\" target=\"_blank\">Top Analyst Reports for Edwards Lifesciences, DexCom &amp; Twitter</a></div><div class=\"news-link-right\"><span style=\"color:#aa6dc0;font-size:9px\"> Zacks</span></div></div></td></tr>\n",
      "<tr><td align=\"right\" width=\"130\">11:17AM  </td><td align=\"left\"><div class=\"news-link-container\"><div class=\"news-link-left\"><a class=\"tab-link-news\" href=\"https://finance.yahoo.com/news/chicago-mayor-stands-vaccine-order-223413351.html\" target=\"_blank\">Chicago Asks Court to Stop Police Union Heads Vaccine Rhetoric</a></div><div class=\"news-link-right\"><span style=\"color:#aa6dc0;font-size:9px\"> Bloomberg</span></div></div></td></tr>\n",
      "<tr><td align=\"right\" width=\"130\">10:31AM  </td><td align=\"left\"><div class=\"news-link-container\"><div class=\"news-link-left\"><a class=\"tab-link-news\" href=\"https://finance.yahoo.com/news/covid-forcing-video-game-companies-143135491.html\" target=\"_blank\">Covid Is Forcing Video Game Companies to Rethink Remote Work</a></div><div class=\"news-link-right\"><span style=\"color:#aa6dc0;font-size:9px\"> Bloomberg</span></div></div></td></tr>\n",
      "<tr><td align=\"right\" width=\"130\">09:17AM  </td><td align=\"left\"><div class=\"news-link-container\"><div class=\"news-link-left\"><a class=\"tab-link-news\" href=\"https://www.investopedia.com/why-investors-should-care-about-the-volt-crypto-etf-5205827?utm_campaign=quote-yahoo&amp;utm_source=yahoo&amp;utm_medium=referral\" target=\"_blank\">Why Investors Should Care About the Volt Crypto ETF</a></div><div class=\"news-link-right\"><span style=\"color:#aa6dc0;font-size:9px\"> Investopedia</span></div></div></td></tr>\n",
      "<tr><td align=\"right\" style=\"white-space:nowrap\" width=\"130\">Oct-14-21 11:04PM  </td><td align=\"left\"><div class=\"news-link-container\"><div class=\"news-link-left\"><a class=\"tab-link-news\" href=\"https://finance.yahoo.com/news/nintendo-switch-japan-debut-bodes-110637461.html\" target=\"_blank\">Nintendo Dips After New Switch Disappoints in Japan Debut</a></div><div class=\"news-link-right\"><span style=\"color:#aa6dc0;font-size:9px\"> Bloomberg</span></div></div></td></tr>\n",
      "<tr><td align=\"right\" width=\"130\">04:40PM  </td><td align=\"left\"><div class=\"news-link-container\"><div class=\"news-link-left\"><a class=\"tab-link-news\" href=\"https://www.investopedia.com/microsoft-s-msft-linkedin-to-exit-china-this-year-5205761?utm_campaign=quote-yahoo&amp;utm_source=yahoo&amp;utm_medium=referral\" target=\"_blank\">Microsoft's (MSFT) LinkedIn to Exit China This Year</a></div><div class=\"news-link-right\"><span style=\"color:#aa6dc0;font-size:9px\"> Investopedia</span></div></div></td></tr>\n",
      "<tr><td align=\"right\" width=\"130\">01:29PM  </td><td align=\"left\"><div class=\"news-link-container\"><div class=\"news-link-left\"><a class=\"tab-link-news\" href=\"https://finance.yahoo.com/news/microsoft-shuts-linkedin-china-citing-143224833.html\" target=\"_blank\">Microsoft Shuts LinkedIn China, Citing Challenging Climate</a></div><div class=\"news-link-right\"><span style=\"color:#aa6dc0;font-size:9px\"> Bloomberg</span></div></div></td></tr>\n",
      "<tr><td align=\"right\" width=\"130\">01:23PM  </td><td align=\"left\"><div class=\"news-link-container\"><div class=\"news-link-left\"><a class=\"tab-link-news\" href=\"https://finance.yahoo.com/news/whats-going-datchats-stock-172322395.html\" target=\"_blank\">What's Going On With DatChat's Stock?</a></div><div class=\"news-link-right\"><span style=\"color:#aa6dc0;font-size:9px\"> Benzinga</span></div></div></td></tr>\n",
      "<tr><td align=\"right\" style=\"white-space:nowrap\" width=\"130\">Oct-13-21 05:00PM  </td><td align=\"left\"><div class=\"news-link-container\"><div class=\"news-link-left\"><a class=\"tab-link-news\" href=\"https://finance.yahoo.com/news/bitcoin-takes-gold-diwali-helped-210000809.html\" target=\"_blank\">Bitcoin Takes on Gold for Diwali, Helped by Top Bollywood Stars</a></div><div class=\"news-link-right\"><span style=\"color:#aa6dc0;font-size:9px\"> Bloomberg</span></div></div></td></tr>\n",
      "<tr><td align=\"right\" width=\"130\">10:10AM  </td><td align=\"left\"><div class=\"news-link-container\"><div class=\"news-link-left\"><a class=\"tab-link-news\" href=\"https://finance.yahoo.com/news/3-stocks-insiders-selling-141005710.html\" target=\"_blank\">3 Stocks Insiders Are Selling</a></div><div class=\"news-link-right\"><span style=\"color:#aa6dc0;font-size:9px\"> Benzinga</span></div></div></td></tr>\n",
      "<tr><td align=\"right\" style=\"white-space:nowrap\" width=\"130\">Oct-12-21 06:15PM  </td><td align=\"left\"><div class=\"news-link-container\"><div class=\"news-link-left\"><a class=\"tab-link-news\" href=\"https://finance.yahoo.com/news/twitter-says-no-signs-u-221522570.html\" target=\"_blank\">Twitter says no signs U.S. Rep. Maxine Waters' account was hacked</a></div><div class=\"news-link-right\"><span style=\"color:#aa6dc0;font-size:9px\"> Reuters</span></div></div></td></tr>\n",
      "<tr><td align=\"right\" width=\"130\">12:15PM  </td><td align=\"left\"><div class=\"news-link-container\"><div class=\"news-link-left\"><a class=\"tab-link-news\" href=\"https://finance.yahoo.com/news/apple-set-first-macbook-pro-161555921.html\" target=\"_blank\">Apple Set for First MacBook Pro Revamp in Five Years on Oct. 18</a></div><div class=\"news-link-right\"><span style=\"color:#aa6dc0;font-size:9px\"> Bloomberg</span></div></div></td></tr>\n",
      "<tr><td align=\"right\" width=\"130\">12:01PM  </td><td align=\"left\"><div class=\"news-link-container\"><div class=\"news-link-left\"><a class=\"tab-link-news\" href=\"https://finance.yahoo.com/news/twitter-debuts-ad-features-revamped-160126340.html\" target=\"_blank\">Twitter debuts new ad features, revamped algorithm ahead of ecommerce push</a></div><div class=\"news-link-right\"><span style=\"color:#aa6dc0;font-size:9px\"> Reuters</span></div></div></td></tr>\n",
      "<tr><td align=\"right\" width=\"130\">09:59AM  </td><td align=\"left\"><div class=\"news-link-container\"><div class=\"news-link-left\"><a class=\"tab-link-news\" href=\"https://finance.yahoo.com/news/10-tech-stocks-buy-according-135925367.html\" target=\"_blank\">10 Tech Stocks to Buy According to Billionaire David Tepper</a></div><div class=\"news-link-right\"><span style=\"color:#aa6dc0;font-size:9px\"> Insider Monkey</span></div></div></td></tr>\n",
      "<tr><td align=\"right\" width=\"130\">07:00AM  </td><td align=\"left\"><div class=\"news-link-container\"><div class=\"news-link-left\"><a class=\"tab-link-news\" href=\"https://finance.yahoo.com/news/facebook-asking-teens-instagram-more-110025213.html\" target=\"_blank\">Facebook is asking teens to use Instagram more responsibly</a></div><div class=\"news-link-right\"><span style=\"color:#aa6dc0;font-size:9px\"> Quartz</span></div></div></td></tr>\n",
      "<tr><td align=\"right\" style=\"white-space:nowrap\" width=\"130\">Oct-11-21 09:33AM  </td><td align=\"left\"><div class=\"news-link-container\"><div class=\"news-link-left\"><a class=\"tab-link-news\" href=\"https://finance.yahoo.com/news/12-best-software-stocks-buy-133347286.html\" target=\"_blank\">12 Best Software Stocks To Buy According To Hedge Funds</a></div><div class=\"news-link-right\"><span style=\"color:#aa6dc0;font-size:9px\"> Insider Monkey</span></div></div></td></tr>\n",
      "<tr><td align=\"right\" style=\"white-space:nowrap\" width=\"130\">Oct-10-21 08:59PM  </td><td align=\"left\"><div class=\"news-link-container\"><div class=\"news-link-left\"><a class=\"tab-link-news\" href=\"https://finance.yahoo.com/news/facebook-backed-group-launches-misinformation-005959001.html\" target=\"_blank\">Facebook-backed group launches misinformation adjudication panel in Australia</a></div><div class=\"news-link-right\"><span style=\"color:#aa6dc0;font-size:9px\"> Reuters</span></div></div></td></tr>\n",
      "<tr><td align=\"right\" width=\"130\">08:52PM  </td><td align=\"left\"><div class=\"news-link-container\"><div class=\"news-link-left\"><a class=\"tab-link-news\" href=\"https://finance.yahoo.com/news/facebook-backed-group-launches-misinformation-005236794.html\" target=\"_blank\">Facebook-backed group launches misinformation adjudication panel in Australia</a></div><div class=\"news-link-right\"><span style=\"color:#aa6dc0;font-size:9px\"> Reuters</span></div></div></td></tr>\n",
      "<tr><td align=\"right\" width=\"130\">03:05AM  </td><td align=\"left\"><div class=\"news-link-container\"><div class=\"news-link-left\"><a class=\"tab-link-news\" href=\"https://finance.yahoo.com/news/tesla-software-ready-sunday-delay-070518819.html\" target=\"_blank\">Tesla Software Update Ready to Go Sunday After Delay, Musk Says</a></div><div class=\"news-link-right\"><span style=\"color:#aa6dc0;font-size:9px\"> Bloomberg</span></div></div></td></tr>\n",
      "<tr><td align=\"right\" style=\"white-space:nowrap\" width=\"130\">Oct-08-21 08:47PM  </td><td align=\"left\"><div class=\"news-link-container\"><div class=\"news-link-left\"><a class=\"tab-link-news\" href=\"https://finance.yahoo.com/news/apple-seeks-delay-ruling-loosening-230855311.html\" target=\"_blank\">Apple Seeks to Delay Ruling Loosening Its Grip on App Store</a></div><div class=\"news-link-right\"><span style=\"color:#aa6dc0;font-size:9px\"> Bloomberg</span></div></div></td></tr>\n",
      "<tr><td align=\"right\" width=\"130\">05:34PM  </td><td align=\"left\"><div class=\"news-link-container\"><div class=\"news-link-left\"><a class=\"tab-link-news\" href=\"https://finance.yahoo.com/news/facebook-instagram-back-normal-following-213412535.html\" target=\"_blank\">Facebook, Instagram Back to Normal Following Another Outage</a></div><div class=\"news-link-right\"><span style=\"color:#aa6dc0;font-size:9px\"> Bloomberg</span></div></div></td></tr>\n",
      "<tr><td align=\"right\" width=\"130\">05:25PM  </td><td align=\"left\"><div class=\"news-link-container\"><div class=\"news-link-left\"><a class=\"tab-link-news\" href=\"https://finance.yahoo.com/news/google-tests-ways-showcase-breaking-212533612.html\" target=\"_blank\">Google Tests Ways to Showcase Breaking News in Twitter-Like Move</a></div><div class=\"news-link-right\"><span style=\"color:#aa6dc0;font-size:9px\"> Bloomberg</span></div></div></td></tr>\n",
      "<tr><td align=\"right\" width=\"130\">02:07PM  </td><td align=\"left\"><div class=\"news-link-container\"><div class=\"news-link-left\"><a class=\"tab-link-news\" href=\"https://finance.yahoo.com/news/whats-going-datchats-stock-today-180704947.html\" target=\"_blank\">What's Going On With DatChat's Stock Today?</a></div><div class=\"news-link-right\"><span style=\"color:#aa6dc0;font-size:9px\"> Benzinga</span></div></div></td></tr>\n",
      "<tr><td align=\"right\" width=\"130\">12:52PM  </td><td align=\"left\"><div class=\"news-link-container\"><div class=\"news-link-left\"><a class=\"tab-link-news\" href=\"https://finance.yahoo.com/news/chile-president-investigated-pandora-revelations-165226437.html\" target=\"_blank\">Chiles President to Be Investigated After Pandora Revelations</a></div><div class=\"news-link-right\"><span style=\"color:#aa6dc0;font-size:9px\"> Bloomberg</span></div></div></td></tr>\n",
      "<tr><td align=\"right\" width=\"130\">12:09PM  </td><td align=\"left\"><div class=\"news-link-container\"><div class=\"news-link-left\"><a class=\"tab-link-news\" href=\"https://finance.yahoo.com/news/twitter-twtr-sell-mobile-ad-160904468.html\" target=\"_blank\">Twitter (TWTR) To Sell Mobile Ad Unit MoPub to AppLovin for $1B</a></div><div class=\"news-link-right\"><span style=\"color:#aa6dc0;font-size:9px\"> Zacks</span></div></div></td></tr>\n",
      "<tr><td align=\"right\" width=\"130\">10:01AM  </td><td align=\"left\"><div class=\"news-link-container\"><div class=\"news-link-left\"><a class=\"tab-link-news\" href=\"https://www.fool.com/investing/2021/10/08/earnings-2-growth-stocks-to-watch-in-october/?source=eptyholnk0000202&amp;utm_source=yahoo-host&amp;utm_medium=feed&amp;utm_campaign=article\" target=\"_blank\">Earnings: 2 Growth Stocks to Watch in October</a></div><div class=\"news-link-right\"><span style=\"color:#aa6dc0;font-size:9px\"> Motley Fool</span></div></div></td></tr>\n",
      "<tr><td align=\"right\" width=\"130\">09:52AM  </td><td align=\"left\"><div class=\"news-link-container\"><div class=\"news-link-left\"><a class=\"tab-link-news\" href=\"https://finance.yahoo.com/news/4-stocks-insiders-selling-135258860.html\" target=\"_blank\">4 Stocks Insiders Are Selling</a></div><div class=\"news-link-right\"><span style=\"color:#aa6dc0;font-size:9px\"> Benzinga</span></div></div></td></tr>\n",
      "<tr><td align=\"right\" width=\"130\">09:31AM  </td><td align=\"left\"><div class=\"news-link-container\"><div class=\"news-link-left\"><a class=\"tab-link-news\" href=\"https://finance.yahoo.com/news/company-news-oct-8-2021-133101445.html\" target=\"_blank\">Company News for Oct 8, 2021</a></div><div class=\"news-link-right\"><span style=\"color:#aa6dc0;font-size:9px\"> Zacks</span></div></div></td></tr>\n",
      "<tr><td align=\"right\" style=\"white-space:nowrap\" width=\"130\">Oct-07-21 09:38PM  </td><td align=\"left\"><div class=\"news-link-container\"><div class=\"news-link-left\"><a class=\"tab-link-news\" href=\"https://finance.yahoo.com/news/puerto-rico-plan-rescue-aid-170657708.html\" target=\"_blank\">Puerto Ricos Plan For Rescue Aid? A New Years Bash</a></div><div class=\"news-link-right\"><span style=\"color:#aa6dc0;font-size:9px\"> Bloomberg</span></div></div></td></tr>\n",
      "<tr><td align=\"right\" width=\"130\">09:00PM  </td><td align=\"left\"><div class=\"news-link-container\"><div class=\"news-link-left\"><a class=\"tab-link-news\" href=\"https://finance.yahoo.com/news/billionaire-peter-thiels-palantir-pops-181900797.html\" target=\"_blank\">Billionaire Peter Thiel's Palantir pops  3 more of his ideas that could surge next</a></div><div class=\"news-link-right\"><span style=\"color:#aa6dc0;font-size:9px\"> MoneyWise</span></div></div></td></tr>\n",
      "<tr><td align=\"right\" width=\"130\">03:44PM  </td><td align=\"left\"><div class=\"news-link-container\"><div class=\"news-link-left\"><a class=\"tab-link-news\" href=\"https://finance.yahoo.com/news/austria-government-peril-bribery-probe-194448629.html\" target=\"_blank\">Austrias Government in Peril as Bribery Probe Engulfs Kurz</a></div><div class=\"news-link-right\"><span style=\"color:#aa6dc0;font-size:9px\"> Bloomberg</span></div></div></td></tr>\n",
      "<tr><td align=\"right\" width=\"130\">11:36AM  </td><td align=\"left\"><div class=\"news-link-container\"><div class=\"news-link-left\"><a class=\"tab-link-news\" href=\"https://finance.yahoo.com/news/the-rise-of-social-trading-how-the-internet-is-changing-investing-153643100.html\" target=\"_blank\">The rise of social trading: How the internet is changing investing</a></div><div class=\"news-link-right\"><span style=\"color:#aa6dc0;font-size:9px\"> Yahoo Finance</span></div></div></td></tr>\n",
      "<tr><td align=\"right\" width=\"130\">11:12AM  </td><td align=\"left\"><div class=\"news-link-container\"><div class=\"news-link-left\"><a class=\"tab-link-news\" href=\"https://finance.yahoo.com/video/hurricane-ida-impact-royal-dutch-151246839.html\" target=\"_blank\">Hurricane Idas impact on Royal Dutch Shell, Safeway CEO testifies in Holmes Trial, Applovin acquires Mopub from Twitter</a></div><div class=\"news-link-right\"><span style=\"color:#aa6dc0;font-size:9px\"> Yahoo Finance Video</span></div></div></td></tr>\n",
      "<tr><td align=\"right\" width=\"130\">11:09AM  </td><td align=\"left\"><div class=\"news-link-container\"><div class=\"news-link-left\"><a class=\"tab-link-news\" href=\"https://finance.yahoo.com/video/social-media-changing-stock-market-150926999.html\" target=\"_blank\">How social media is changing the stock market</a></div><div class=\"news-link-right\"><span style=\"color:#aa6dc0;font-size:9px\"> Yahoo Finance Video</span></div></div></td></tr>\n",
      "<tr><td align=\"right\" width=\"130\">10:41AM  </td><td align=\"left\"><div class=\"news-link-container\"><div class=\"news-link-left\"><a class=\"tab-link-news\" href=\"https://finance.yahoo.com/news/peru-president-replaces-leftist-prime-213345423.html\" target=\"_blank\">Peru Assets Rally as Investors Cheer Moderate Cabinet Picks</a></div><div class=\"news-link-right\"><span style=\"color:#aa6dc0;font-size:9px\"> Bloomberg</span></div></div></td></tr>\n",
      "<tr><td align=\"right\" width=\"130\">08:59AM  </td><td align=\"left\"><div class=\"news-link-container\"><div class=\"news-link-left\"><a class=\"tab-link-news\" href=\"https://finance.yahoo.com/news/twitter-rolls-pre-tweet-warning-125900519.html\" target=\"_blank\">Twitter rolls out pre-tweet warning about entering intense conversations</a></div><div class=\"news-link-right\"><span style=\"color:#aa6dc0;font-size:9px\"> The Independent</span></div></div></td></tr>\n",
      "<tr><td align=\"right\" width=\"130\">07:08AM  </td><td align=\"left\"><div class=\"news-link-container\"><div class=\"news-link-left\"><a class=\"tab-link-news\" href=\"https://finance.yahoo.com/news/zanzibar-author-abdulrazak-gurnah-wins-110827683.html\" target=\"_blank\">Zanzibar Author Abdulrazak Gurnah Wins Nobel Prize in Literature</a></div><div class=\"news-link-right\"><span style=\"color:#aa6dc0;font-size:9px\"> Bloomberg</span></div></div></td></tr>\n",
      "<tr><td align=\"right\" width=\"130\">06:08AM  </td><td align=\"left\"><div class=\"news-link-container\"><div class=\"news-link-left\"><a class=\"tab-link-news\" href=\"https://finance.yahoo.com/news/twitter-gains-1-billion-sale-100809933.html\" target=\"_blank\">Twitter Gains on $1-Billion Sale of Ad Unit MoPub, Affirms  2023 Guidance</a></div><div class=\"news-link-right\"><span style=\"color:#aa6dc0;font-size:9px\"> Investing.com</span></div></div></td></tr>\n",
      "<tr><td align=\"right\" width=\"130\">04:44AM  </td><td align=\"left\"><div class=\"news-link-container\"><div class=\"news-link-left\"><a class=\"tab-link-news\" href=\"https://www.thestreet.com/investing/premarket-movers-thursday-twitter-levistrauss-pfizer-disney-costco?puc=yahoo&amp;cm_ven=YAHOO\" target=\"_blank\">Premarket Movers Thursday - Twitter, Levi Strauss, Pfizer, Costco, Disney</a></div><div class=\"news-link-right\"><span style=\"color:#aa6dc0;font-size:9px\"> TheStreet.com</span></div></div></td></tr>\n",
      "<tr><td align=\"right\" width=\"130\">02:40AM  </td><td align=\"left\"><div class=\"news-link-container\"><div class=\"news-link-left\"><a class=\"tab-link-news\" href=\"https://finance.yahoo.com/news/ecb-said-study-bond-buying-174830154.html\" target=\"_blank\">ECB Said to Study New Bond-Buying Plan for When Crisis Tool Ends</a></div><div class=\"news-link-right\"><span style=\"color:#aa6dc0;font-size:9px\"> Bloomberg</span></div></div></td></tr>\n",
      "<tr><td align=\"right\" width=\"130\">01:37AM  </td><td align=\"left\"><div class=\"news-link-container\"><div class=\"news-link-left\"><a class=\"tab-link-news\" href=\"https://finance.yahoo.com/news/twitter-agrees-sell-mopub-1-053742359.html\" target=\"_blank\">Twitter Agrees to Sell MoPub for $1.05B</a></div><div class=\"news-link-right\"><span style=\"color:#aa6dc0;font-size:9px\"> SmarterAnalyst</span></div></div></td></tr>\n",
      "<tr><td align=\"right\" style=\"white-space:nowrap\" width=\"130\">Oct-06-21 05:44PM  </td><td align=\"left\"><div class=\"news-link-container\"><div class=\"news-link-left\"><a class=\"tab-link-news\" href=\"https://www.investors.com/news/technology/twitter-stock-climbs-on-sale-of-mopub-unit-to-applovin/?src=A00220\" target=\"_blank\">Twitter Sells App Company MoPub To AppLovin For $1.05 Billion</a></div><div class=\"news-link-right\"><span style=\"color:#aa6dc0;font-size:9px\"> Investor's Business Daily</span></div></div></td></tr>\n",
      "<tr><td align=\"right\" width=\"130\">05:31PM  </td><td align=\"left\"><div class=\"news-link-container\"><div class=\"news-link-left\"><a class=\"tab-link-news\" href=\"https://www.bizjournals.com/sanjose/news/2021/10/06/applovin-to-buy-twitter-ad-network-mopub-105b.html?ana=yahoo\" target=\"_blank\">AppLovin to pay $1.05B to buy MoPub, Twitter's mobile ad network</a></div><div class=\"news-link-right\"><span style=\"color:#aa6dc0;font-size:9px\"> American City Business Journals</span></div></div></td></tr>\n",
      "<tr><td align=\"right\" width=\"130\">05:30PM  </td><td align=\"left\"><div class=\"news-link-container\"><div class=\"news-link-left\"><a class=\"tab-link-news\" href=\"https://www.barrons.com/articles/twitter-mopub-applovin-sale-51633555773?siteid=yhoof2\" target=\"_blank\">Twitter Is Doubling Down on Advertising With a $1 Billion Asset Sale</a></div><div class=\"news-link-right\"><span style=\"color:#aa6dc0;font-size:9px\"> Barrons.com</span></div></div></td></tr>\n",
      "<tr><td align=\"right\" width=\"130\">05:00PM  </td><td align=\"left\"><div class=\"news-link-container\"><div class=\"news-link-left\"><a class=\"tab-link-news\" href=\"https://www.marketwatch.com/story/twitter-selling-mopub-mobile-ad-network-to-applovin-for-1-05-billion-11633554029?siteid=yhoof2\" target=\"_blank\">Twitter selling MoPub mobile-ad network to AppLovin for $1.05 billion</a></div><div class=\"news-link-right\"><span style=\"color:#aa6dc0;font-size:9px\"> MarketWatch</span></div></div></td></tr>\n",
      "<tr><td align=\"right\" width=\"130\">04:48PM  </td><td align=\"left\"><div class=\"news-link-container\"><div class=\"news-link-left\"><a class=\"tab-link-news\" href=\"https://finance.yahoo.com/news/twitter-sells-mopub-ad-platform-204855430.html\" target=\"_blank\">Twitter Sells MoPub Ad Platform to AppLovin for $1.05 Billion</a></div><div class=\"news-link-right\"><span style=\"color:#aa6dc0;font-size:9px\"> Bloomberg</span></div></div></td></tr>\n",
      "<tr><td align=\"right\" width=\"130\">04:43PM  </td><td align=\"left\"><div class=\"news-link-container\"><div class=\"news-link-left\"><a class=\"tab-link-news\" href=\"https://finance.yahoo.com/news/twitter-sell-mopub-app-advertising-204309688.html\" target=\"_blank\">Twitter to Sell MoPub In-App Advertising Division for $1.05 Billion</a></div><div class=\"news-link-right\"><span style=\"color:#aa6dc0;font-size:9px\"> Variety</span></div></div></td></tr>\n",
      "<tr><td align=\"right\" width=\"130\">04:29PM  </td><td align=\"left\"><div class=\"news-link-container\"><div class=\"news-link-left\"><a class=\"tab-link-news\" href=\"https://finance.yahoo.com/news/1-twitter-sell-mobile-ads-202900034.html\" target=\"_blank\">UPDATE 3-Twitter to sell mobile ad unit MoPub for $1 bln</a></div><div class=\"news-link-right\"><span style=\"color:#aa6dc0;font-size:9px\"> Reuters</span></div></div></td></tr>\n",
      "<tr><td align=\"right\" width=\"130\">04:21PM  </td><td align=\"left\"><div class=\"news-link-container\"><div class=\"news-link-left\"><a class=\"tab-link-news\" href=\"https://finance.yahoo.com/news/twitter-sell-mopub-applovin-1-202156935.html\" target=\"_blank\">Twitter to sell mobile ad unit MoPub for $1 billion</a></div><div class=\"news-link-right\"><span style=\"color:#aa6dc0;font-size:9px\"> Reuters</span></div></div></td></tr>\n",
      "<tr><td align=\"right\" width=\"130\">04:15PM  </td><td align=\"left\"><div class=\"news-link-container\"><div class=\"news-link-left\"><a class=\"tab-link-news\" href=\"https://finance.yahoo.com/news/twitter-enters-definitive-agreement-sell-201500506.html\" target=\"_blank\">Twitter Enters into Definitive Agreement to Sell MoPub to AppLovin for $1.05 Billion in Cash</a></div><div class=\"news-link-right\"><span style=\"color:#aa6dc0;font-size:9px\"> PR Newswire</span></div></div></td></tr>\n",
      "<tr><td align=\"right\" width=\"130\">02:40PM  </td><td align=\"left\"><div class=\"news-link-container\"><div class=\"news-link-left\"><a class=\"tab-link-news\" href=\"https://finance.yahoo.com/news/tiktok-promises-remove-rumored-slap-184038291.html\" target=\"_blank\">TikTok Promises to Remove Any Rumored Slap a Teacher Content</a></div><div class=\"news-link-right\"><span style=\"color:#aa6dc0;font-size:9px\"> Bloomberg</span></div></div></td></tr>\n",
      "<tr><td align=\"right\" width=\"130\">10:08AM  </td><td align=\"left\"><div class=\"news-link-container\"><div class=\"news-link-left\"><a class=\"tab-link-news\" href=\"https://finance.yahoo.com/news/u-k-inflation-emerges-risk-131346222.html\" target=\"_blank\">Surging U.K. Inflation Is Already a Problem for Johnsons Agenda</a></div><div class=\"news-link-right\"><span style=\"color:#aa6dc0;font-size:9px\"> Bloomberg</span></div></div></td></tr>\n",
      "<tr><td align=\"right\" width=\"130\">08:12AM  </td><td align=\"left\"><div class=\"news-link-container\"><div class=\"news-link-left\"><a class=\"tab-link-news\" href=\"https://finance.yahoo.com/news/sweden-economy-shrinks-much-more-094419530.html\" target=\"_blank\">Swedens Economy Shrinks Much More Than Expected on Exports</a></div><div class=\"news-link-right\"><span style=\"color:#aa6dc0;font-size:9px\"> Bloomberg</span></div></div></td></tr>\n",
      "<tr><td align=\"right\" width=\"130\">01:55AM  </td><td align=\"left\"><div class=\"news-link-container\"><div class=\"news-link-left\"><a class=\"tab-link-news\" href=\"https://finance.yahoo.com/news/snapchat-biggest-winner-day-facebook-055538043.html\" target=\"_blank\">Snapchat Was the Biggest Winner the Day Facebook Went Dark</a></div><div class=\"news-link-right\"><span style=\"color:#aa6dc0;font-size:9px\"> Bloomberg</span></div></div></td></tr>\n",
      "<tr><td align=\"right\" style=\"white-space:nowrap\" width=\"130\">Oct-05-21 07:22PM  </td><td align=\"left\"><div class=\"news-link-container\"><div class=\"news-link-left\"><a class=\"tab-link-news\" href=\"https://finance.yahoo.com/news/millions-flock-signal-facebook-whatsapp-014056278.html\" target=\"_blank\">Millions Flock to Signal and Telegram After Facebook Outage</a></div><div class=\"news-link-right\"><span style=\"color:#aa6dc0;font-size:9px\"> Bloomberg</span></div></div></td></tr>\n",
      "<tr><td align=\"right\" width=\"130\">05:07PM  </td><td align=\"left\"><div class=\"news-link-container\"><div class=\"news-link-left\"><a class=\"tab-link-news\" href=\"https://finance.yahoo.com/news/facebook-outage-felt-acutely-small-210705034.html\" target=\"_blank\">Facebook Outage Is Felt Acutely by Small-Business Owners</a></div><div class=\"news-link-right\"><span style=\"color:#aa6dc0;font-size:9px\"> Bloomberg</span></div></div></td></tr>\n",
      "<tr><td align=\"right\" width=\"130\">01:17PM  </td><td align=\"left\"><div class=\"news-link-container\"><div class=\"news-link-left\"><a class=\"tab-link-news\" href=\"https://finance.yahoo.com/news/read-tim-cook-staff-memo-171738040.html\" target=\"_blank\">Read Tim Cooks Staff Memo on 10th Anniversary of Jobss Death</a></div><div class=\"news-link-right\"><span style=\"color:#aa6dc0;font-size:9px\"> Bloomberg</span></div></div></td></tr>\n",
      "<tr><td align=\"right\" width=\"130\">11:32AM  </td><td align=\"left\"><div class=\"news-link-container\"><div class=\"news-link-left\"><a class=\"tab-link-news\" href=\"https://finance.yahoo.com/news/nintendo-smash-bros-gets-final-153251639.html\" target=\"_blank\">Nintendos Smash Bros. Gets Final Character in Hit Fighter Game</a></div><div class=\"news-link-right\"><span style=\"color:#aa6dc0;font-size:9px\"> Bloomberg</span></div></div></td></tr>\n",
      "<tr><td align=\"right\" width=\"130\">10:43AM  </td><td align=\"left\"><div class=\"news-link-container\"><div class=\"news-link-left\"><a class=\"tab-link-news\" href=\"https://finance.yahoo.com/video/facebook-isnt-tobacco-thats-ridiculous-144306767.html\" target=\"_blank\">Facebook isn't tobacco; that's ridiculous: analyst</a></div><div class=\"news-link-right\"><span style=\"color:#aa6dc0;font-size:9px\"> Yahoo Finance Video</span></div></div></td></tr>\n",
      "<tr><td align=\"right\" width=\"130\">10:29AM  </td><td align=\"left\"><div class=\"news-link-container\"><div class=\"news-link-left\"><a class=\"tab-link-news\" href=\"https://finance.yahoo.com/video/facebook-whistleblower-testifies-congress-outage-142939177.html\" target=\"_blank\">Facebook whistleblower testifies before Congress, outage affects billions worldwide</a></div><div class=\"news-link-right\"><span style=\"color:#aa6dc0;font-size:9px\"> Yahoo Finance Video</span></div></div></td></tr>\n",
      "<tr><td align=\"right\" width=\"130\">10:01AM  </td><td align=\"left\"><div class=\"news-link-container\"><div class=\"news-link-left\"><a class=\"tab-link-news\" href=\"https://finance.yahoo.com/news/mark-zuckerberg-had-terrible-week-140114064.html\" target=\"_blank\">Mark Zuckerberg Has Had a Terrible Week. And Its Only Tuesday</a></div><div class=\"news-link-right\"><span style=\"color:#aa6dc0;font-size:9px\"> Bloomberg</span></div></div></td></tr>\n",
      "<tr><td align=\"right\" width=\"130\">07:07AM  </td><td align=\"left\"><div class=\"news-link-container\"><div class=\"news-link-left\"><a class=\"tab-link-news\" href=\"https://finance.yahoo.com/news/twitter-nyse-twtr-improves-selection-110703798.html\" target=\"_blank\">If Twitter (NYSE:TWTR) Improves the Selection Effect, it has a Potential to be a Multi-Bagger</a></div><div class=\"news-link-right\"><span style=\"color:#aa6dc0;font-size:9px\"> Simply Wall St.</span></div></div></td></tr>\n",
      "<tr><td align=\"right\" width=\"130\">05:26AM  </td><td align=\"left\"><div class=\"news-link-container\"><div class=\"news-link-left\"><a class=\"tab-link-news\" href=\"https://finance.yahoo.com/news/suzuki-touts-japan-capitalism-sounds-080917416.html\" target=\"_blank\">Japan Touts New Capitalism But New Finance Chief Sounds The Same</a></div><div class=\"news-link-right\"><span style=\"color:#aa6dc0;font-size:9px\"> Bloomberg</span></div></div></td></tr>\n",
      "<tr><td align=\"right\" width=\"130\">04:37AM  </td><td align=\"left\"><div class=\"news-link-container\"><div class=\"news-link-left\"><a class=\"tab-link-news\" href=\"https://finance.yahoo.com/news/facebook-says-triggered-massive-outage-025514846.html\" target=\"_blank\">Heres What Facebook Says Triggered the Massive Outage on Its Apps</a></div><div class=\"news-link-right\"><span style=\"color:#aa6dc0;font-size:9px\"> Bloomberg</span></div></div></td></tr>\n",
      "<tr><td align=\"right\" width=\"130\">04:02AM  </td><td align=\"left\"><div class=\"news-link-container\"><div class=\"news-link-left\"><a class=\"tab-link-news\" href=\"https://finance.yahoo.com/news/facebook-outage-happened-blame-happen-080246768.html\" target=\"_blank\">Facebook outage: What happened, who is to blame and will it happen again?</a></div><div class=\"news-link-right\"><span style=\"color:#aa6dc0;font-size:9px\"> The Telegraph</span></div></div></td></tr>\n",
      "<tr><td align=\"right\" style=\"white-space:nowrap\" width=\"130\">Oct-04-21 06:54PM  </td><td align=\"left\"><div class=\"news-link-container\"><div class=\"news-link-left\"><a class=\"tab-link-news\" href=\"https://finance.yahoo.com/news/facebook-users-around-world-report-164831493.html\" target=\"_blank\">Facebook Begins Recovery After Major Outage Shut Down Apps</a></div><div class=\"news-link-right\"><span style=\"color:#aa6dc0;font-size:9px\"> Bloomberg</span> <span class=\"body-table-news-loss\">-5.79%</span></div></div></td></tr>\n",
      "<tr><td align=\"right\" width=\"130\">02:11PM  </td><td align=\"left\"><div class=\"news-link-container\"><div class=\"news-link-left\"><a class=\"tab-link-news\" href=\"https://finance.yahoo.com/news/facebook-blackout-sends-users-flocking-175729022.html\" target=\"_blank\">Facebook blackout sends users flocking to Twitter: Hello literally everyone</a></div><div class=\"news-link-right\"><span style=\"color:#aa6dc0;font-size:9px\"> The Independent</span></div></div></td></tr>\n",
      "<tr><td align=\"right\" width=\"130\">01:31PM  </td><td align=\"left\"><div class=\"news-link-container\"><div class=\"news-link-left\"><a class=\"tab-link-news\" href=\"https://finance.yahoo.com/news/why-twitter-shares-falling-173105875.html\" target=\"_blank\">Why Twitter Shares Are Falling</a></div><div class=\"news-link-right\"><span style=\"color:#aa6dc0;font-size:9px\"> Benzinga</span></div></div></td></tr>\n",
      "<tr><td align=\"right\" width=\"130\">05:30AM  </td><td align=\"left\"><div class=\"news-link-container\"><div class=\"news-link-left\"><a class=\"tab-link-news\" href=\"https://finance.yahoo.com/news/three-day-week-one-startup-093000327.html\" target=\"_blank\">A Three-Day Work Week? One Startup Experiments to Draw Talent</a></div><div class=\"news-link-right\"><span style=\"color:#aa6dc0;font-size:9px\"> Bloomberg</span></div></div></td></tr>\n",
      "<tr><td align=\"right\" style=\"white-space:nowrap\" width=\"130\">Oct-03-21 10:00AM  </td><td align=\"left\"><div class=\"news-link-container\"><div class=\"news-link-left\"><a class=\"tab-link-news\" href=\"https://www.fool.com/the-ascent/cryptocurrency/articles/does-twitter-ceo-jack-dorsey-hate-ethereum/?source=eptyholnk0000202&amp;utm_source=yahoo-host&amp;utm_medium=feed&amp;utm_campaign=article\" target=\"_blank\">Does Twitter CEO Jack Dorsey Hate Ethereum?</a></div><div class=\"news-link-right\"><span style=\"color:#aa6dc0;font-size:9px\"> Motley Fool</span></div></div></td></tr>\n",
      "<tr><td align=\"right\" width=\"130\">07:23AM  </td><td align=\"left\"><div class=\"news-link-container\"><div class=\"news-link-left\"><a class=\"tab-link-news\" href=\"https://finance.yahoo.com/news/uae-oman-alert-cyclone-shaheen-052315292.html\" target=\"_blank\">UAE on High Alert, Oman Suspends Flights as Cyclone Nears</a></div><div class=\"news-link-right\"><span style=\"color:#aa6dc0;font-size:9px\"> Bloomberg</span></div></div></td></tr>\n",
      "<tr><td align=\"right\" style=\"white-space:nowrap\" width=\"130\">Oct-02-21 10:22AM  </td><td align=\"left\"><div class=\"news-link-container\"><div class=\"news-link-left\"><a class=\"tab-link-news\" href=\"https://finance.yahoo.com/news/u-k-government-clears-army-210000443.html\" target=\"_blank\">U.K. Fuel Shortages Ease but Situation Worsens Around London</a></div><div class=\"news-link-right\"><span style=\"color:#aa6dc0;font-size:9px\"> Bloomberg</span></div></div></td></tr>\n",
      "<tr><td align=\"right\" width=\"130\">03:10AM  </td><td align=\"left\"><div class=\"news-link-container\"><div class=\"news-link-left\"><a class=\"tab-link-news\" href=\"https://finance.yahoo.com/news/1-trump-asks-florida-judge-071022900.html\" target=\"_blank\">UPDATE 2-Trump asks U.S. judge to force Twitter to restart his account</a></div><div class=\"news-link-right\"><span style=\"color:#aa6dc0;font-size:9px\"> Reuters</span></div></div></td></tr>\n",
      "<tr><td align=\"right\" style=\"white-space:nowrap\" width=\"130\">Oct-01-21 11:58PM  </td><td align=\"left\"><div class=\"news-link-container\"><div class=\"news-link-left\"><a class=\"tab-link-news\" href=\"https://finance.yahoo.com/news/trump-asks-florida-judge-force-035845406.html\" target=\"_blank\">Trump asks U.S. judge to force Twitter to restart his account</a></div><div class=\"news-link-right\"><span style=\"color:#aa6dc0;font-size:9px\"> Reuters</span></div></div></td></tr>\n",
      "<tr><td align=\"right\" width=\"130\">11:37PM  </td><td align=\"left\"><div class=\"news-link-container\"><div class=\"news-link-left\"><a class=\"tab-link-news\" href=\"https://finance.yahoo.com/news/trump-asks-florida-judge-force-033734327.html\" target=\"_blank\">Trump asks Florida judge to force Twitter to restart his account - Bloomberg News</a></div><div class=\"news-link-right\"><span style=\"color:#aa6dc0;font-size:9px\"> Reuters</span></div></div></td></tr>\n",
      "<tr><td align=\"right\" width=\"130\">05:27PM  </td><td align=\"left\"><div class=\"news-link-container\"><div class=\"news-link-left\"><a class=\"tab-link-news\" href=\"https://www.fool.com/investing/2021/10/01/why-twitter-stock-fell-sharply-this-week/?source=eptyholnk0000202&amp;utm_source=yahoo-host&amp;utm_medium=feed&amp;utm_campaign=article\" target=\"_blank\">Why Twitter Stock Fell Sharply This Week</a></div><div class=\"news-link-right\"><span style=\"color:#aa6dc0;font-size:9px\"> Motley Fool</span></div></div></td></tr>\n",
      "<tr><td align=\"right\" width=\"130\">12:43PM  </td><td align=\"left\"><div class=\"news-link-container\"><div class=\"news-link-left\"><a class=\"tab-link-news\" href=\"https://www.investors.com/research/twitter-stock-buy-now-branch-2/?src=A00220\" target=\"_blank\">Is Twitter Stock A Buy Right Now? Here's What Earnings, Charts Show</a></div><div class=\"news-link-right\"><span style=\"color:#aa6dc0;font-size:9px\"> Investor's Business Daily</span></div></div></td></tr>\n",
      "<tr><td align=\"right\" style=\"white-space:nowrap\" width=\"130\">Sep-30-21 11:23AM  </td><td align=\"left\"><div class=\"news-link-container\"><div class=\"news-link-left\"><a class=\"tab-link-news\" href=\"https://finance.yahoo.com/video/securitize-providing-platform-investors-access-152326656.html\" target=\"_blank\">How Securitize is providing a platform for investors to access private markets</a></div><div class=\"news-link-right\"><span style=\"color:#aa6dc0;font-size:9px\"> Yahoo Finance Video</span></div></div></td></tr>\n",
      "<tr><td align=\"right\" style=\"white-space:nowrap\" width=\"130\">Sep-29-21 01:04PM  </td><td align=\"left\"><div class=\"news-link-container\"><div class=\"news-link-left\"><a class=\"tab-link-news\" href=\"https://finance.yahoo.com/news/u-k-soldiers-deployed-days-100450992.html\" target=\"_blank\">U.K. Oil Firms Say Fuel Crisis Easing as Government Steps In</a></div><div class=\"news-link-right\"><span style=\"color:#aa6dc0;font-size:9px\"> Bloomberg</span></div></div></td></tr>\n",
      "<tr><td align=\"right\" width=\"130\">12:02PM  </td><td align=\"left\"><div class=\"news-link-container\"><div class=\"news-link-left\"><a class=\"tab-link-news\" href=\"https://finance.yahoo.com/video/la-palma-volcano-lava-reaches-160204308.html\" target=\"_blank\">La Palma volcano lava reaches Atlantic Ocean, Japan's new Prime Minister, Hong Kong tightens anti-doxxing law</a></div><div class=\"news-link-right\"><span style=\"color:#aa6dc0;font-size:9px\"> Yahoo Finance Video</span></div></div></td></tr>\n",
      "<tr><td align=\"right\" width=\"130\">09:00AM  </td><td align=\"left\"><div class=\"news-link-container\"><div class=\"news-link-left\"><a class=\"tab-link-news\" href=\"https://finance.yahoo.com/news/youtube-remove-videos-misinformation-vaccine-130000490.html\" target=\"_blank\">YouTube Will Remove Videos With Misinformation About Any Vaccine</a></div><div class=\"news-link-right\"><span style=\"color:#aa6dc0;font-size:9px\"> Bloomberg</span></div></div></td></tr>\n",
      "<tr><td align=\"right\" width=\"130\">07:07AM  </td><td align=\"left\"><div class=\"news-link-container\"><div class=\"news-link-left\"><a class=\"tab-link-news\" href=\"https://finance.yahoo.com/news/rave-james-bond-reviews-raise-110742055.html\" target=\"_blank\">Rave James Bond Reviews Raise Hopes for Moviegoing Revival</a></div><div class=\"news-link-right\"><span style=\"color:#aa6dc0;font-size:9px\"> Bloomberg</span></div></div></td></tr>\n",
      "<tr><td align=\"right\" width=\"130\">07:05AM  </td><td align=\"left\"><div class=\"news-link-container\"><div class=\"news-link-left\"><a class=\"tab-link-news\" href=\"https://finance.yahoo.com/news/hong-kong-passes-tougher-anti-110559815.html\" target=\"_blank\">Hong Kong Passes Tougher Anti-Doxxing Bill That Spooked Big Tech</a></div><div class=\"news-link-right\"><span style=\"color:#aa6dc0;font-size:9px\"> Bloomberg</span></div></div></td></tr>\n",
      "<tr><td align=\"right\" style=\"white-space:nowrap\" width=\"130\">Sep-28-21 10:54AM  </td><td align=\"left\"><div class=\"news-link-container\"><div class=\"news-link-left\"><a class=\"tab-link-news\" href=\"https://finance.yahoo.com/news/why-twitter-shares-falling-145445107.html\" target=\"_blank\">Why Twitter Shares Are Falling</a></div><div class=\"news-link-right\"><span style=\"color:#aa6dc0;font-size:9px\"> Benzinga</span></div></div></td></tr>\n",
      "</table>}\n"
     ]
    }
   ],
   "source": [
    "for company in Companies:\n",
    "    url = finviz_url + company # so it's going to loop first and get the company and url and then page and then comments from people after it will go back and take another company like GOOG\n",
    "    req = Request(url=url, headers={'user-agent':'my-app'}) # Specify headers or else access will be denied\n",
    "    response = urlopen(req)\n",
    "    soup = BeautifulSoup(response,features='html.parser')\n",
    "    news_table = soup.find(id='news-table')\n",
    "    news_tables.update({company:news_table})\n",
    "\n",
    "\n",
    "print(news_tables)\n"
   ]
  },
  {
   "cell_type": "code",
   "execution_count": 4,
   "metadata": {},
   "outputs": [
    {
     "name": "stdout",
     "output_type": "stream",
     "text": [
      "[['AMZN', 'Oct-20-21', '05:51AM\\xa0\\xa0', '3 FAANG Stocks With 47% to 55% Upside, According to Wall Street'], ['AMZN', 'Oct-20-21', '04:09AM\\xa0\\xa0', 'Deliveroo shares up as it upgrades full year profit forecast'], ['AMZN', 'Oct-20-21', '02:51AM\\xa0\\xa0', \"3 Singapore companies ranked among world's best employers\"], ['AMZN', 'Oct-20-21', '12:00AM\\xa0\\xa0', 'Amazon (AMZN) Builds Out Quick-Delivery Network'], ['AMZN', 'Oct-19-21', '11:58PM\\xa0\\xa0', 'Amazon (AMZN) Builds Quick-Delivery Network'], ['AMZN', 'Oct-19-21', '05:54PM\\xa0\\xa0', 'Netflix Earnings: What Happened with NFLX'], ['AMZN', 'Oct-19-21', '05:39PM\\xa0\\xa0', 'Bitcoin-Futures ETF Has a Fine First Day. The Crypto  Isnt Doing So Bad Either.'], ['AMZN', 'Oct-19-21', '05:22PM\\xa0\\xa0', '\"9 Foolish Truths That I Hold to Be Self-Evident\"'], ['AMZN', 'Oct-19-21', '05:21PM\\xa0\\xa0', 'Bellwether acquires South King County affordable units with $25M from Amazon'], ['AMZN', 'Oct-19-21', '04:35PM\\xa0\\xa0', 'Apollo to Consider More Firms for an Impact Fund: Milken Update'], ['AMZN', 'Oct-19-21', '04:05PM\\xa0\\xa0', 'Earnings Estimates For Tech Stocks Rise Ahead Of Reports, Netflix Beats'], ['AMZN', 'Oct-19-21', '01:32PM\\xa0\\xa0', 'SoftBank Weighs Stake in Ampere, Valuing Chipmaker at $8 Billion'], ['AMZN', 'Oct-19-21', '01:00PM\\xa0\\xa0', 'Bellwether Housing and Amazon Team Up to Preserve Affordable Housing'], ['AMZN', 'Oct-19-21', '12:05PM\\xa0\\xa0', '5 Consumer Discretionary ETFs Rising to New Highs'], ['AMZN', 'Oct-19-21', '12:00PM\\xa0\\xa0', 'Tech Salaries Are on the Rise, Just Not in New York or San Francisco'], ['AMZN', 'Oct-19-21', '11:40AM\\xa0\\xa0', 'OSTK vs. AMZN: Which Stock Is the Better Value Option?'], ['AMZN', 'Oct-19-21', '11:34AM\\xa0\\xa0', 'This Is the Smartest Stock to Buy If the Market Crashes'], ['AMZN', 'Oct-19-21', '10:09AM\\xa0\\xa0', 'UPDATE 1-Amazon and others commit to using zero-carbon shipping fuels by 2040'], ['AMZN', 'Oct-19-21', '09:59AM\\xa0\\xa0', \"If You'd Invested $1,000 in Microsoft in 2014, This Is How Much You Would Have Today\"], ['AMZN', 'Oct-19-21', '09:41AM\\xa0\\xa0', 'Got $3,000? These Supercharged Stocks Can Triple Your Money in a Decade'], ['AMZN', 'Oct-19-21', '09:17AM\\xa0\\xa0', 'GlobalFoundries, Mubadala Seek to Raise $2.6 Billion in IPO'], ['AMZN', 'Oct-19-21', '09:10AM\\xa0\\xa0', 'Amazon Music Brings Spatial Audio to More Customers Than Ever Before'], ['AMZN', 'Oct-19-21', '08:45AM\\xa0\\xa0', 'Jeff Bezos Stock Portfolio: 10 Companies Bezos Is Investing In'], ['AMZN', 'Oct-19-21', '08:15AM\\xa0\\xa0', 'Amazon and others commit to using zero-carbon shipping fuels by 2040'], ['AMZN', 'Oct-19-21', '08:00AM\\xa0\\xa0', 'Amazon and others commit to using zero-carbon shipping fuels by 2040'], ['AMZN', 'Oct-19-21', '07:50AM\\xa0\\xa0', 'P&G earnings beat; sees significant inflationary cycle'], ['AMZN', 'Oct-19-21', '07:50AM\\xa0\\xa0', 'Alibaba Unveils In-House Chip to Boost Cloud Services. Amazon, Microsoft Beware.'], ['AMZN', 'Oct-19-21', '07:15AM\\xa0\\xa0', '3 Best Growth Stocks Revolutionizing E-Commerce'], ['AMZN', 'Oct-19-21', '07:10AM\\xa0\\xa0', '3 Cathie Wood Investments That Could Deliver Superior Returns'], ['AMZN', 'Oct-19-21', '06:33AM\\xa0\\xa0', 'What to Watch as the First Bitcoin Futures ETF Begins Trading'], ['AMZN', 'Oct-19-21', '06:06AM\\xa0\\xa0', 'An Impressive Tech Pedigree Could Make This SPAC a Huge Winner'], ['AMZN', 'Oct-19-21', '06:06AM\\xa0\\xa0', '3 Warren Buffett Stocks I Plan to Hold Forever'], ['AMZN', 'Oct-19-21', '06:00AM\\xa0\\xa0', 'Amazons 2021 Small Business Empowerment Report Reveals Third-Party Sellers Have Created More than 1.8 Million U.S. Jobs'], ['AMZN', 'Oct-19-21', '05:51AM\\xa0\\xa0', 'Prediction: These Will Be 5 of the Biggest Stocks by 2040'], ['AMZN', 'Oct-19-21', '05:05AM\\xa0\\xa0', 'Back from the dead, G4TV looks to cash in on the gaming craze it helped create'], ['AMZN', 'Oct-19-21', '03:50AM\\xa0\\xa0', \"Tesco launches Amazon Go style 'just walk out' store\"], ['AMZN', 'Oct-19-21', '02:23AM\\xa0\\xa0', 'Amazon-owned Zoox to test its autonomous vehicles in Seattle'], ['AMZN', 'Oct-19-21', '01:01AM\\xa0\\xa0', 'Apples $19 Screen-Cleaning Cloth Sets High Bar for Brand Extras'], ['AMZN', 'Oct-18-21', '10:33PM\\xa0\\xa0', 'Companies have a new weapon in the hunt for talent: free college degrees. Why its important to read the fine print'], ['AMZN', 'Oct-18-21', '10:11PM\\xa0\\xa0', 'Alibaba Unveils One of Chinas Most Advanced Chips'], ['AMZN', 'Oct-18-21', '09:37PM\\xa0\\xa0', 'Lawmakers ask Amazon CEO whether the company misled Congress in 2019'], ['AMZN', 'Oct-18-21', '06:52PM\\xa0\\xa0', '3 E-Commerce Winners for Your Watch List'], ['AMZN', 'Oct-18-21', '05:57PM\\xa0\\xa0', 'Amazon Stock Rallies Despite Letter Alleging Jeff Bezos Misled House Committee'], ['AMZN', 'Oct-18-21', '05:45PM\\xa0\\xa0', 'Amazon (AMZN) Outpaces Stock Market Gains: What You Should Know'], ['AMZN', 'Oct-18-21', '05:31PM\\xa0\\xa0', 'Amazon looks to hire 2,300 seasonal workers in Washington, 150,000 nationwide'], ['AMZN', 'Oct-18-21', '05:06PM\\xa0\\xa0', 'Seattle mayoral candidates agree on taxing Amazon, but not on how to do it'], ['AMZN', 'Oct-18-21', '04:52PM\\xa0\\xa0', \"Why Macy's Stock Soared Today\"], ['AMZN', 'Oct-18-21', '04:48PM\\xa0\\xa0', 'Kevin OLeary sees trillions coming to crypto  but he still loves these dividend stocks'], ['AMZN', 'Oct-18-21', '04:45PM\\xa0\\xa0', 'Amazon Earnings: What to Watch'], ['AMZN', 'Oct-18-21', '04:24PM\\xa0\\xa0', 'Amazon looks to be opening retail store in San Antonio'], ['AMZN', 'Oct-18-21', '04:16PM\\xa0\\xa0', 'Amazon Plans To Hire 150,000 Seasonal US Workers For Holiday Shopping Season'], ['AMZN', 'Oct-18-21', '04:12PM\\xa0\\xa0', 'Cloud Breakout Battle: Microsoft Breaks Out Before Google, Amazon With Earnings Due'], ['AMZN', 'Oct-18-21', '03:58PM\\xa0\\xa0', 'Googles Biggest Moonshot Is Its Search for a Carbon-Free Future'], ['AMZN', 'Oct-18-21', '03:47PM\\xa0\\xa0', 'As it embarks on nationwide hiring spree, Amazon opens huge shipping facility in Austin area'], ['AMZN', 'Oct-18-21', '03:30PM\\xa0\\xa0', 'Amazon Hiring for 150,000 Seasonal Jobs With Thousands Available in the Minneapolis/St. Paul Metro Area'], ['AMZN', 'Oct-18-21', '03:24PM\\xa0\\xa0', 'Apple Launches New AirPods and $4.99 Siri-Only Music Plan'], ['AMZN', 'Oct-18-21', '03:22PM\\xa0\\xa0', 'Amazon needs 6,500 more people for seasonal work in DFW amid labor shortages'], ['AMZN', 'Oct-18-21', '03:16PM\\xa0\\xa0', 'Disney and Zillow shares slide, Amazon aims to hire 150K seasonal workers'], ['AMZN', 'Oct-18-21', '02:56PM\\xa0\\xa0', 'Amazon looks to add 3,900 seasonal jobs in Greater Philadelphia, joins host of companies bulking up'], ['AMZN', 'Oct-18-21', '02:36PM\\xa0\\xa0', 'Why Disney stock has been dead money for months'], ['AMZN', 'Oct-18-21', '02:09PM\\xa0\\xa0', \"Amazon's seasonal hiring push calls for more than 3,500 Oregon workers\"], ['AMZN', 'Oct-18-21', '02:06PM\\xa0\\xa0', 'Microsoft Earnings Preview: Metrics Investors Should Watch'], ['AMZN', 'Oct-18-21', '01:28PM\\xa0\\xa0', 'Amazon offers bonuses in aim to hire 150,0000 seasonal workers'], ['AMZN', 'Oct-18-21', '01:18PM\\xa0\\xa0', 'UPDATE 1-Five U.S. lawmakers accuse Amazon of possibly lying to Congress following Reuters report'], ['AMZN', 'Oct-18-21', '12:56PM\\xa0\\xa0', 'Amazon to hire 1,500 seasonal workers in Massachusetts'], ['AMZN', 'Oct-18-21', '12:40PM\\xa0\\xa0', 'Is Amazon Stock A Buy Right Now As Epic Battle With Walmart Escalates'], ['AMZN', 'Oct-18-21', '12:10PM\\xa0\\xa0', \"Amazon.com's (NASDAQ:AMZN) five-year earnings growth trails the 33% YoY shareholder returns\"], ['AMZN', 'Oct-18-21', '12:10PM\\xa0\\xa0', 'Why Shares of Plug Power Are Climbing Today'], ['AMZN', 'Oct-18-21', '11:48AM\\xa0\\xa0', 'Amazon Hiring for 150,000 Seasonal Jobs to Help Deliver Great Holiday Experiences'], ['AMZN', 'Oct-18-21', '11:06AM\\xa0\\xa0', 'More jobs become available at Amazon ahead of holiday season'], ['AMZN', 'Oct-18-21', '11:06AM\\xa0\\xa0', \"Amazon's (AMZN) AWS Gets Selected by NXP Semiconductors\"], ['AMZN', 'Oct-18-21', '10:42AM\\xa0\\xa0', 'Amazon to add thousands of seasonal jobs in Greater Washington'], ['AMZN', 'Oct-18-21', '10:38AM\\xa0\\xa0', 'Amazon Plans to Hire 150,000 Season Workers for Holiday Shopping Season'], ['AMZN', 'Oct-18-21', '10:30AM\\xa0\\xa0', 'Amazons Zoox Expands Testing to Seattle for the Rain and Talent'], ['AMZN', 'Oct-18-21', '10:20AM\\xa0\\xa0', \"What's the Panic With Holiday Shopping?\"], ['AMZN', 'Oct-18-21', '10:00AM\\xa0\\xa0', 'At Amazon, Some Brands Get More Protection From Fakes Than Others'], ['AMZN', 'Oct-18-21', '09:47AM\\xa0\\xa0', '2 Leading Tech Stocks to Buy in 2021 and Beyond'], ['AMZN', 'Oct-18-21', '09:24AM\\xa0\\xa0', 'Amazon seeks to hire 1,700 seasonal workers in Baltimore, sweetens deal with signing bonus'], ['AMZN', 'Oct-18-21', '09:15AM\\xa0\\xa0', \"Etsy Doesn't Make the Items on Its Marketplace. This Is Its Product.\"], ['AMZN', 'Oct-18-21', '08:49AM\\xa0\\xa0', 'The Zacks Analyst Blog Highlights: Amazon, Microsoft, Google and Box'], ['AMZN', 'Oct-18-21', '08:16AM\\xa0\\xa0', 'Amazon seeks 150,000 seasonal hires in addition to more than 150,000 previously announced job openings'], ['AMZN', 'Oct-18-21', '08:00AM\\xa0\\xa0', 'Amazon Hiring for 6,200 Seasonal Jobs in Cities and Towns Across Arizona'], ['AMZN', 'Oct-18-21', '08:00AM\\xa0\\xa0', 'Amazon Hiring for 23,000 jobs Across Cities and Towns in California'], ['AMZN', 'Oct-18-21', '08:00AM\\xa0\\xa0', 'Amazon Hiring for 150,000 Seasonal Jobs With 4,500 Available in Cities and Towns Across Illinois'], ['AMZN', 'Oct-18-21', '08:00AM\\xa0\\xa0', 'Amazon Hiring for 150,000 Seasonal Jobs to Help Deliver Great Holiday Experiences'], ['AMZN', 'Oct-18-21', '07:15AM\\xa0\\xa0', 'Is This E-Commerce Stock Amazon-Proof?'], ['AMZN', 'Oct-18-21', '06:43AM\\xa0\\xa0', 'Five U.S. lawmakers accuse Amazon of possibly lying to Congress following Reuters report'], ['AMZN', 'Oct-18-21', '06:38AM\\xa0\\xa0', 'Five U.S. lawmakers accuse Amazon of possibly lying to Congress following Reuters report'], ['AMZN', 'Oct-18-21', '06:21AM\\xa0\\xa0', 'JD Logistics Goes Plane Shopping to Tap Air Freight Demand'], ['AMZN', 'Oct-18-21', '05:55AM\\xa0\\xa0', 'Amazon offering £3,000 joining bonus to avoid labour shortages ahead of Christmas'], ['AMZN', 'Oct-18-21', '04:32AM\\xa0\\xa0', 'Amazon Hiring 150,000 Seasonal Workers Amid Record US Job Shortage, Surging Wages'], ['AMZN', 'Oct-18-21', '03:46AM\\xa0\\xa0', 'Amazon Edges Lower on Report Congress Panel Members Feel it Misled Them'], ['AMZN', 'Oct-17-21', '10:39PM\\xa0\\xa0', 'Unions Push Companies as Workers Stay Scarce'], ['AMZN', 'Oct-17-21', '05:56PM\\xa0\\xa0', 'Amazon looks to add air cargo facility at Albuquerque International Sunport'], ['AMZN', 'Oct-17-21', '04:23PM\\xa0\\xa0', 'The tech earnings boom is fizzling out, as Apple and Amazon face the same issues as everyone else'], ['AMZN', 'Oct-17-21', '04:11PM\\xa0\\xa0', \"The Big Storylines Ahead of the Big Banks' Earnings\"], ['AMZN', 'Oct-17-21', '07:07AM\\xa0\\xa0', \"Here's the Most Exciting Part of MercadoLibre's Business\"], ['AMZN', 'Oct-17-21', '07:00AM\\xa0\\xa0', 'Down Over 20% From Their Highs, These 3 Value Stocks Are Too Cheap to Ignore'], ['AMZN', 'Oct-17-21', '06:06AM\\xa0\\xa0', '5 Traits to Chase in the Hunt for 10X Stocks'], ['AMZN', 'Oct-16-21', '10:52PM\\xa0\\xa0', '10 Day Trading Strategies for Beginners'], ['GOOG', 'Oct-20-21', '04:28AM\\xa0\\xa0', 'Meta? Horizon? Facebook Renaming Report Sparks Speculation'], ['GOOG', 'Oct-20-21', '02:51AM\\xa0\\xa0', \"3 Singapore companies ranked among world's best employers\"], ['GOOG', 'Oct-19-21', '11:48PM\\xa0\\xa0', 'Facebook plans to soon rebrand with a new name: report'], ['GOOG', 'Oct-19-21', '10:56PM\\xa0\\xa0', 'Facebook Plans to Rebrand Company With New Name, Verge Says'], ['GOOG', 'Oct-19-21', '08:56PM\\xa0\\xa0', 'Googles New Pixel and Android Beef Up iPhone Competition'], ['GOOG', 'Oct-19-21', '07:01PM\\xa0\\xa0', 'The hottest new crypto trend: What is the Tungsten Cube?'], ['GOOG', 'Oct-19-21', '06:42PM\\xa0\\xa0', 'Snap, TikTok, YouTube are next up for Senate grilling on impact on kids'], ['GOOG', 'Oct-19-21', '05:45PM\\xa0\\xa0', 'Alphabet Inc. (GOOG) Gains But Lags Market: What You Should Know'], ['GOOG', 'Oct-19-21', '05:32PM\\xa0\\xa0', 'YouTube Steps Up Livestream Shopping for the\\xa0Holidays'], ['GOOG', 'Oct-19-21', '05:26PM\\xa0\\xa0', \"Google's Alphabet Stock Approaches Buy Point With Earnings Due\"], ['GOOG', 'Oct-19-21', '05:22PM\\xa0\\xa0', '\"9 Foolish Truths That I Hold to Be Self-Evident\"'], ['GOOG', 'Oct-19-21', '04:05PM\\xa0\\xa0', 'Earnings Estimates For Tech Stocks Rise Ahead Of Reports, Netflix Beats'], ['GOOG', 'Oct-19-21', '03:19PM\\xa0\\xa0', 'Google Quietly Tweaks Image Search for Racially Diverse Results'], ['GOOG', 'Oct-19-21', '03:01PM\\xa0\\xa0', 'Alphabet Inc. (GOOG) Reports Next Week: Wall Street Expects Earnings Growth'], ['GOOG', 'Oct-19-21', '03:01PM\\xa0\\xa0', 'Alphabet (GOOGL) Reports Next Week: Wall Street Expects Earnings Growth'], ['GOOG', 'Oct-19-21', '02:59PM\\xa0\\xa0', 'UPDATE 1-Google announces Pixel 6 phone with new chip, subscription service'], ['GOOG', 'Oct-19-21', '01:35PM\\xa0\\xa0', 'Googles New Pixel 6 Phone Can Open Snapchat in Just Two Taps'], ['GOOG', 'Oct-19-21', '01:27PM\\xa0\\xa0', 'Ulta Beauty Stock Is Sliding Because Its Long-Term Updates Left a Lot to Be Desired'], ['GOOG', 'Oct-19-21', '01:04PM\\xa0\\xa0', 'Google announces Pixel 6 phone with new chip, subscription service'], ['GOOG', 'Oct-19-21', '01:00PM\\xa0\\xa0', 'Google launches Pixel 6 and 6 Pro flagship phones with better AI, Android 12, and an iconic camera bump'], ['GOOG', 'Oct-19-21', '01:00PM\\xa0\\xa0', 'Google announces Pixel 6 phone with new chip, subscription service'], ['GOOG', 'Oct-19-21', '12:55PM\\xa0\\xa0', \"Why Ulta and Atea Rained on the Nasdaq's Parade Tuesday\"], ['GOOG', 'Oct-19-21', '12:00PM\\xa0\\xa0', 'What Makes Alphabet (GOOGL) a Strong Momentum Stock: Buy Now?'], ['GOOG', 'Oct-19-21', '12:00PM\\xa0\\xa0', 'Tech Salaries Are on the Rise, Just Not in New York or San Francisco'], ['GOOG', 'Oct-19-21', '11:49AM\\xa0\\xa0', 'Ulta Beauty Stock Slides After  Long-Term Targets Are Updated'], ['GOOG', 'Oct-19-21', '11:26AM\\xa0\\xa0', '10 New Stocks in Kamyar Khajavis MIK Capital Portfolio'], ['GOOG', 'Oct-19-21', '10:34AM\\xa0\\xa0', 'What Google CEO Sundar Pichai says about privacy legislation, return-to-work effort'], ['GOOG', 'Oct-19-21', '10:17AM\\xa0\\xa0', 'Pixel 6 and Pixel 6 Pro: How to watch Google launch its newest phones'], ['GOOG', 'Oct-19-21', '10:16AM\\xa0\\xa0', 'Google Pixel 6 Pro launch  live: New phone to be unveiled at event as search giant takes on Apple and Samsung'], ['GOOG', 'Oct-19-21', '10:00AM\\xa0\\xa0', \"Here's Why Alphabet (GOOGL) is a Strong Momentum Stock\"], ['GOOG', 'Oct-19-21', '09:59AM\\xa0\\xa0', \"If You'd Invested $1,000 in Microsoft in 2014, This Is How Much You Would Have Today\"], ['GOOG', 'Oct-19-21', '08:45AM\\xa0\\xa0', 'Jeff Bezos Stock Portfolio: 10 Companies Bezos Is Investing In'], ['GOOG', 'Oct-19-21', '08:37AM\\xa0\\xa0', 'Ulta to announce new Google partnership, 50 new stores per year during virtual investor event'], ['GOOG', 'Oct-19-21', '07:37AM\\xa0\\xa0', '5 Stocks Insiders Are Selling'], ['GOOG', 'Oct-19-21', '07:30AM\\xa0\\xa0', 'EXCLUSIVE: Healthcare Triangle Announces Google Cloud Partnership To Accelerate Health Care, Life Sciences Transformation'], ['GOOG', 'Oct-19-21', '07:30AM\\xa0\\xa0', 'Katzenberg-Backed Digital Security Firm Raises $200 Million'], ['GOOG', 'Oct-19-21', '06:46AM\\xa0\\xa0', 'The Zacks Analyst Blog Highlights: NextEra Energy, Tesla, Advanced Micro Devices, Alphabet and Texas Instruments'], ['GOOG', 'Oct-19-21', '05:57AM\\xa0\\xa0', 'This Company Has Nearly Doubled Since Its March IPO. Is It a Buy?'], ['GOOG', 'Oct-19-21', '05:54AM\\xa0\\xa0', 'Russia to go after Google this month with fine of up to 20% of annual turnover'], ['GOOG', 'Oct-19-21', '05:50AM\\xa0\\xa0', 'Russia to go after Google this month with fine of up to 20% of annual turnover'], ['GOOG', 'Oct-19-21', '05:05AM\\xa0\\xa0', 'Back from the dead, G4TV looks to cash in on the gaming craze it helped create'], ['GOOG', 'Oct-18-21', '10:11PM\\xa0\\xa0', 'Alibaba Unveils One of Chinas Most Advanced Chips'], ['GOOG', 'Oct-18-21', '09:08PM\\xa0\\xa0', 'San Bruno OKs massive expansion of YouTube headquarters'], ['GOOG', 'Oct-18-21', '05:45PM\\xa0\\xa0', 'Alphabet (GOOGL) Outpaces Stock Market Gains: What You Should Know'], ['GOOG', 'Oct-18-21', '05:43PM\\xa0\\xa0', 'U.S. bill would stop Big Tech favoring its own products'], ['GOOG', 'Oct-18-21', '05:40PM\\xa0\\xa0', 'U.S. bill would stop Big Tech favoring its own products'], ['GOOG', 'Oct-18-21', '04:12PM\\xa0\\xa0', 'Cloud Breakout Battle: Microsoft Breaks Out Before Google, Amazon With Earnings Due'], ['GOOG', 'Oct-18-21', '03:58PM\\xa0\\xa0', 'Googles Biggest Moonshot Is Its Search for a Carbon-Free Future'], ['GOOG', 'Oct-18-21', '03:24PM\\xa0\\xa0', 'Apple Launches New AirPods and $4.99 Siri-Only Music Plan'], ['GOOG', 'Oct-18-21', '01:39PM\\xa0\\xa0', 'Grow With Google VP on reskilling amid COVID-19'], ['GOOG', 'Oct-18-21', '12:44PM\\xa0\\xa0', 'Is Alphabet Inc. (GOOG) A Smart Long-Term Buy?'], ['GOOG', 'Oct-18-21', '09:47AM\\xa0\\xa0', '2 Leading Tech Stocks to Buy in 2021 and Beyond'], ['GOOG', 'Oct-18-21', '09:33AM\\xa0\\xa0', \"How Apple's Privacy Policy Change Affected Advertising Business?\"], ['GOOG', 'Oct-18-21', '09:30AM\\xa0\\xa0', \"Netflix Earnings Preview: Can 'Squid Games' Send Stock to Highs?\"], ['GOOG', 'Oct-18-21', '08:49AM\\xa0\\xa0', 'The Zacks Analyst Blog Highlights: Amazon, Microsoft, Google and Box'], ['GOOG', 'Oct-18-21', '08:32AM\\xa0\\xa0', '5 Stocks I Own and Will Add to if the Stock Market Crashes'], ['GOOG', 'Oct-18-21', '05:31AM\\xa0\\xa0', 'Solid Earnings and Economic Data Driving Markets: 5 Top Picks'], ['GOOG', 'Oct-18-21', '05:30AM\\xa0\\xa0', 'Richest Families in Southeast Asia Look for the Next Unicorn'], ['GOOG', 'Oct-18-21', '04:13AM\\xa0\\xa0', 'China Weighs Opening Tencent, ByteDance Content to Search, Sources Say'], ['GOOG', 'Oct-18-21', '01:30AM\\xa0\\xa0', 'Does Google Hijack Travelers in Gmail?'], ['GOOG', 'Oct-17-21', '08:30PM\\xa0\\xa0', 'Fintech Focus For October 18, 2021'], ['GOOG', 'Oct-17-21', '04:16PM\\xa0\\xa0', 'These Are The Best Robinhood Stocks To Buy Or Watch Now'], ['GOOG', 'Oct-17-21', '04:15PM\\xa0\\xa0', 'These Are The 5 Best Stocks To Buy And Watch Now'], ['GOOG', 'Oct-17-21', '11:00AM\\xa0\\xa0', \"Sustainable Hotels: Could Google's New Search Feature Turn the Industry Green?\"], ['GOOG', 'Oct-16-21', '12:02PM\\xa0\\xa0', '3 Stocks I Will \"Never\" Sell'], ['GOOG', 'Oct-16-21', '11:38AM\\xa0\\xa0', '3 Reasons Why Chewy Stock Is Out of Favor With the Market'], ['GOOG', 'Oct-16-21', '09:00AM\\xa0\\xa0', 'Why Sea Limited Could Be a Top Growth Stock for the Long Term'], ['GOOG', 'Oct-16-21', '07:30AM\\xa0\\xa0', \"Here's Why You Should Consider Buying This Under-the-Radar SaaS Stock\"], ['GOOG', 'Oct-16-21', '05:51AM\\xa0\\xa0', \"The Safest Stocks to Buy if There's a Stock Market Crash\"], ['GOOG', 'Oct-15-21', '07:09PM\\xa0\\xa0', 'Why Crowdstrike Holdings Was Up 11.5% This Week'], ['GOOG', 'Oct-15-21', '06:13PM\\xa0\\xa0', 'Why Shares of Elastic Were Up 10.7% This Week'], ['GOOG', 'Oct-15-21', '05:37PM\\xa0\\xa0', 'Apple Fires Another Employee Who Urged Workers to Speak Out'], ['GOOG', 'Oct-15-21', '01:41PM\\xa0\\xa0', 'Pixel 6 and 6 Pro leaks round-up: Everything we know so far about Googles flagship iPhone rival'], ['GOOG', 'Oct-15-21', '01:24PM\\xa0\\xa0', 'Is Alphabet (GOOG) Still A Great Investment Pick?'], ['GOOG', 'Oct-15-21', '12:08PM\\xa0\\xa0', '3 Stocks to Buy on Rising Cloud Infrastructure Spending'], ['GOOG', 'Oct-15-21', '10:00AM\\xa0\\xa0', 'Alphabet (GOOGL) Boosts Fitness Tracking Efforts With Fitbit'], ['GOOG', 'Oct-15-21', '09:47AM\\xa0\\xa0', '10 European Stocks to Buy According to Tom Russos Hedge Fund'], ['GOOG', 'Oct-15-21', '08:11AM\\xa0\\xa0', 'Dow Jones Futures: Market Rally Makes Powerful Move; Google Leads 7 Stocks Flashing Buy Signals'], ['GOOG', 'Oct-15-21', '05:52AM\\xa0\\xa0', '3 Top Breakout Stocks to Buy Right Now'], ['GOOG', 'Oct-15-21', '02:09AM\\xa0\\xa0', 'S.Korea targets Apple over new app store regulation'], ['GOOG', 'Oct-15-21', '02:05AM\\xa0\\xa0', 'S.Korea targets Apple over new app store regulation'], ['GOOG', 'Oct-14-21', '08:49PM\\xa0\\xa0', \"The Supreme Court gave the green light to a lawsuit by a group of Google workers over the tech giant's confidentiality policy\"], ['GOOG', 'Oct-14-21', '07:30PM\\xa0\\xa0', '3 Tech Stocks That Could Change The World'], ['GOOG', 'Oct-14-21', '05:15PM\\xa0\\xa0', 'Apple Hires New HomePod Software Head as It Takes on Amazon Echo'], ['GOOG', 'Oct-14-21', '04:40PM\\xa0\\xa0', \"Microsoft's (MSFT) LinkedIn to Exit China This Year\"], ['GOOG', 'Oct-14-21', '02:56PM\\xa0\\xa0', 'New bills aim at Apple, Google and Facebook as U.S. attempts to catch up to Europes Big Tech push'], ['GOOG', 'Oct-14-21', '02:36PM\\xa0\\xa0', \"US Senate's Latest Antitrust Bill Targets Amazon, Apple, Google: CNBC\"], ['GOOG', 'Oct-14-21', '01:55PM\\xa0\\xa0', 'Stock Picks: Nvidia, Microsoft Reveal 7 Telltale Traits As Market Looks To Rebound'], ['GOOG', 'Oct-14-21', '01:29PM\\xa0\\xa0', 'Microsoft Shuts LinkedIn China, Citing Challenging Climate'], ['GOOG', 'Oct-14-21', '01:19PM\\xa0\\xa0', 'Clearwater tech company teams up with Google to develop augmented reality solutions'], ['GOOG', 'Oct-14-21', '12:32PM\\xa0\\xa0', 'Google Breaks Trend Line'], ['GOOG', 'Oct-14-21', '12:30PM\\xa0\\xa0', 'Billionaire David Teppers 10 Newest Stock Picks'], ['GOOG', 'Oct-14-21', '12:22PM\\xa0\\xa0', 'Big Tech Faces New Bills on Liability and Competition in U.S.'], ['GOOG', 'Oct-14-21', '12:19PM\\xa0\\xa0', 'Iranian Hackers Continue Waging Attacks, Google Warns'], ['GOOG', 'Oct-14-21', '12:10PM\\xa0\\xa0', 'Will Alphabet Inc. (GOOG) Beat Estimates Again in Its Next Earnings Report?'], ['GOOG', 'Oct-14-21', '11:30AM\\xa0\\xa0', 'Is Alphabet (GOOG) Outperforming Other Computer and Technology Stocks This Year?'], ['GOOG', 'Oct-14-21', '10:10AM\\xa0\\xa0', 'Is Snowflake Stock A Buy? Data Analytics Specialist Rides Cloud Computing Wave'], ['GOOG', 'Oct-14-21', '09:07AM\\xa0\\xa0', 'Bill Gates 10 Dividend Stocks'], ['GOOG', 'Oct-14-21', '07:27AM\\xa0\\xa0', 'Is a Wave of Fintech Acquisitions Coming Soon?'], ['GOOG', 'Oct-13-21', '05:45PM\\xa0\\xa0', 'Alphabet Inc. (GOOG) Outpaces Stock Market Gains: What You Should Know'], ['FB', 'Oct-20-21', '06:24AM\\xa0\\xa0', \"Facebook fined £50.5m by UK's competition regulator over Giphy buyout\"], ['FB', 'Oct-20-21', '06:00AM\\xa0\\xa0', 'Why Accenture is giving VR headsets to thousands of new hires'], ['FB', 'Oct-20-21', '05:58AM\\xa0\\xa0', 'Facebook fined £50.5m over handling of Giphy takeover probe'], ['FB', 'Oct-20-21', '05:51AM\\xa0\\xa0', '3 FAANG Stocks With 47% to 55% Upside, According to Wall Street'], ['FB', 'Oct-20-21', '05:37AM\\xa0\\xa0', 'UPDATE 1-Britain fines Facebook $70 mln for breaching order in Giphy deal'], ['FB', 'Oct-20-21', '05:12AM\\xa0\\xa0', 'Britain fines Facebook $70 million for breaching order in Giphy deal'], ['FB', 'Oct-20-21', '04:28AM\\xa0\\xa0', 'Meta? Horizon? Facebook Renaming Report Sparks Speculation'], ['FB', 'Oct-20-21', '03:48AM\\xa0\\xa0', 'Facebook is getting a new name, report claims'], ['FB', 'Oct-20-21', '02:03AM\\xa0\\xa0', \"Stocks Cautiously Higher, Netflix Gets 'Squid Game' Boost, Facebook Mulls Rebrand - 5 Things You Must Know\"], ['FB', 'Oct-20-21', '01:08AM\\xa0\\xa0', 'Zuckerberg set to rebrand Facebook'], ['FB', 'Oct-19-21', '11:48PM\\xa0\\xa0', 'Facebook plans to soon rebrand with a new name: report'], ['FB', 'Oct-19-21', '10:56PM\\xa0\\xa0', 'Facebook Plans to Rebrand Company With New Name, Verge Says'], ['FB', 'Oct-19-21', '10:48PM\\xa0\\xa0', 'Facebook plans rebrand with new name, says The Verge'], ['FB', 'Oct-19-21', '10:40PM\\xa0\\xa0', 'UPDATE 5-Facebook plans rebrand with new name, says The Verge'], ['FB', 'Oct-19-21', '07:04PM\\xa0\\xa0', 'UPDATE 1-U.S. Senate panel to hold new hearing on social media impact on young users'], ['FB', 'Oct-19-21', '06:57PM\\xa0\\xa0', 'U.S. Senate panel to hold new hearing on social media impact on young users'], ['FB', 'Oct-19-21', '06:45PM\\xa0\\xa0', 'U.S. Senate panel to hold new hearing on social media impact on young users'], ['FB', 'Oct-19-21', '06:42PM\\xa0\\xa0', 'Snap, TikTok, YouTube are next up for Senate grilling on impact on kids'], ['FB', 'Oct-19-21', '06:34PM\\xa0\\xa0', 'Netflix Engagement Increased 14% During Facebook Outage'], ['FB', 'Oct-19-21', '05:45PM\\xa0\\xa0', 'Facebook (FB) Outpaces Stock Market Gains: What You Should Know'], ['FB', 'Oct-19-21', '05:06PM\\xa0\\xa0', 'U.S. lawmakers say Facebook cannot be trusted to manage cryptocurrency'], ['FB', 'Oct-19-21', '05:00PM\\xa0\\xa0', 'U.S. lawmakers say Facebook cannot be trusted to manage cryptocurrency'], ['FB', 'Oct-19-21', '04:46PM\\xa0\\xa0', 'Why Coinbase Stock Kept Going Up Today'], ['FB', 'Oct-19-21', '04:11PM\\xa0\\xa0', 'Facebook to pay fine to settle suit claiming it discriminated against U.S. workers'], ['FB', 'Oct-19-21', '04:05PM\\xa0\\xa0', 'Earnings Estimates For Tech Stocks Rise Ahead Of Reports, Netflix Beats'], ['FB', 'Oct-19-21', '03:33PM\\xa0\\xa0', 'Why Facebook Stock Popped Again Today'], ['FB', 'Oct-19-21', '03:14PM\\xa0\\xa0', 'Facebook Settles U.S. Claims It Reserved Jobs for Foreigners'], ['FB', 'Oct-19-21', '02:53PM\\xa0\\xa0', 'Coinbase pops, Walmart shares rise, Ulta Beauty slips as long-term targets disappoint'], ['FB', 'Oct-19-21', '01:22PM\\xa0\\xa0', 'Former Facebook Exec Says Debates Focused on Society, Not Profit'], ['FB', 'Oct-19-21', '12:56PM\\xa0\\xa0', \"Does Facebook Present A 'Really Interesting Opportunity' At Current Levels?\"], ['FB', 'Oct-19-21', '12:56PM\\xa0\\xa0', 'Why Coinbase Shares Are Rising Today'], ['FB', 'Oct-19-21', '12:49PM\\xa0\\xa0', 'Facebook to pay up to $14.25 million to settle U.S. employment discrimination claims'], ['FB', 'Oct-19-21', '12:45PM\\xa0\\xa0', 'Facebook to pay up to $14.25 mln to settle U.S. employment discrimination claims'], ['FB', 'Oct-19-21', '12:22PM\\xa0\\xa0', 'Goldman Sachs Stock Portfolio: Top 10 Stocks'], ['FB', 'Oct-19-21', '12:00PM\\xa0\\xa0', 'Tech Salaries Are on the Rise, Just Not in New York or San Francisco'], ['FB', 'Oct-19-21', '11:00AM\\xa0\\xa0', 'Valley CEOs maintain big pay ratios over rank-and-file employees'], ['FB', 'Oct-19-21', '10:43AM\\xa0\\xa0', 'Apple Augmented-Reality Glasses Could Show Up This Time Next Year'], ['FB', 'Oct-19-21', '09:25AM\\xa0\\xa0', 'Company News for Oct 19, 2021'], ['FB', 'Oct-19-21', '08:09AM\\xa0\\xa0', 'Facebook shuts fake accounts in Sudan, as fight for public opinion rages online'], ['FB', 'Oct-19-21', '08:04AM\\xa0\\xa0', 'INSIGHT-Facebook shuts fake accounts in Sudan, as fight for public opinion rages online'], ['FB', 'Oct-19-21', '06:09AM\\xa0\\xa0', \"Coinbase Chosen as Facebook's Custody Partner for Novi Pilot\"], ['FB', 'Oct-19-21', '05:50AM\\xa0\\xa0', 'Coinbase Stock Jumps After Pilot Deal With Facebook Digital Wallet Novi'], ['FB', 'Oct-18-21', '09:28PM\\xa0\\xa0', 'FB EQUITY ALERT: ROSEN, LEADING INVESTOR COUNSEL, Encourages Facebook, Inc. Investors with Losses to Inquire About Class Action Investigation - FB'], ['FB', 'Oct-18-21', '04:44PM\\xa0\\xa0', \"Facebook: 30 journalists working on 'coordinated' articles based on new leaked documents\"], ['FB', 'Oct-18-21', '03:00PM\\xa0\\xa0', 'Facebook (FB) Reports Next Week: Wall Street Expects Earnings Growth'], ['FB', 'Oct-18-21', '02:29PM\\xa0\\xa0', 'Facebook posts strange thread suggesting major revelations about to come out'], ['FB', 'Oct-18-21', '12:38PM\\xa0\\xa0', 'Why Facebook Stock Bounced Back Today'], ['FB', 'Oct-18-21', '11:31AM\\xa0\\xa0', 'Facebooks overseas expansion, Saks possible e-commerce IPO, IATSE union reaches deal'], ['FB', 'Oct-18-21', '10:30AM\\xa0\\xa0', \"4 Stocks I'm Watching This Week as Potential Buys\"], ['FB', 'Oct-18-21', '10:21AM\\xa0\\xa0', 'Facebook plans to hire 10,000 people in Europe to build the metaverse'], ['FB', 'Oct-18-21', '10:00AM\\xa0\\xa0', 'At Amazon, Some Brands Get More Protection From Fakes Than Others'], ['FB', 'Oct-18-21', '09:31AM\\xa0\\xa0', 'Facebook Earnings Preview: Whats in the Cards for this Social Media Giant?'], ['FB', 'Oct-18-21', '09:27AM\\xa0\\xa0', 'Facebook Stock Rises on Plan to Hire 10,000 EU Workers'], ['FB', 'Oct-18-21', '07:42AM\\xa0\\xa0', 'Facebook to Hire 10,000 People to Build Its Metaverse. What That Means.'], ['FB', 'Oct-18-21', '06:12AM\\xa0\\xa0', \"UPDATE 1-Facebook plans to hire 10,000 in EU to build 'metaverse'\"], ['FB', 'Oct-18-21', '05:17AM\\xa0\\xa0', 'Facebook Invests in 10,000 EMEA Jobs'], ['FB', 'Oct-18-21', '04:46AM\\xa0\\xa0', 'Facebook on Track for Holiday Ad Surge Despite Supply Chain Woes'], ['FB', 'Oct-18-21', '04:13AM\\xa0\\xa0', 'China Weighs Opening Tencent, ByteDance Content to Search, Sources Say'], ['FB', 'Oct-18-21', '01:38AM\\xa0\\xa0', 'Ronaldo Teams With Singapore Tycoon for Secretive Soccer Startup'], ['FB', 'Oct-17-21', '08:54PM\\xa0\\xa0', 'Facebook plans to hire 10,000 in EU to help build its metaverse'], ['FB', 'Oct-17-21', '06:08PM\\xa0\\xa0', \"Facebook plans to hire 10,000 in EU to build 'metaverse'\"], ['FB', 'Oct-17-21', '06:01PM\\xa0\\xa0', \"Facebook plans to hire 10,000 in EU to build 'metaverse'\"], ['FB', 'Oct-17-21', '06:01PM\\xa0\\xa0', 'Facebook Is Creating\\xa010,000 Jobs in EU to Help Develop a Metaverse'], ['FB', 'Oct-17-21', '04:15PM\\xa0\\xa0', 'These Are The 5 Best Stocks To Buy And Watch Now'], ['FB', 'Oct-17-21', '06:30AM\\xa0\\xa0', '3 Solid Growth Stocks Perfect for Retirees'], ['FB', 'Oct-16-21', '05:38PM\\xa0\\xa0', 'Facebook: Controversy Creates a Buying Opportunity, Says Analyst'], ['FB', 'Oct-16-21', '05:28PM\\xa0\\xa0', 'Short Selling Guide: How to Short a Stock'], ['FB', 'Oct-16-21', '02:26PM\\xa0\\xa0', \"Alexis Ohanian on Facebook: 'Were in territory I dont think any of us expected'\"], ['FB', 'Oct-16-21', '06:12AM\\xa0\\xa0', 'Instagram Fretted About Retaining, Engaging Teenagers: NY Times'], ['FB', 'Oct-16-21', '06:00AM\\xa0\\xa0', 'Could This Business-Model Tweak Create a Better Social Media Investment Than Facebook?'], ['FB', 'Oct-15-21', '06:28PM\\xa0\\xa0', 'Big Tech Rules the Stock Market. Why Its Not Time to Relax.'], ['FB', 'Oct-15-21', '04:06PM\\xa0\\xa0', 'How Many Times Can Facebook Stock Rebound From Another Big Scandal?'], ['FB', 'Oct-15-21', '04:05PM\\xa0\\xa0', 'Alexis Ohanian on push for paid paternity leave and leadership in tech'], ['FB', 'Oct-15-21', '03:30PM\\xa0\\xa0', 'Big Tech Rules the Stock Market. Why Its Not Time to Relax.'], ['FB', 'Oct-15-21', '01:25PM\\xa0\\xa0', 'Should You Keep on Holding Your Facebook (FB) Position?'], ['FB', 'Oct-15-21', '12:02PM\\xa0\\xa0', 'Facebook Could Underperform in Third Quarter: Analyst'], ['FB', 'Oct-15-21', '11:25AM\\xa0\\xa0', 'Snap Shares Outpace\\xa0Facebooks With Faster Growth and Less Controversy'], ['FB', 'Oct-15-21', '10:22AM\\xa0\\xa0', '5 Top Stock Decliners for Friday: Moderna, Facebook, Virgin Galactic'], ['FB', 'Oct-15-21', '09:01AM\\xa0\\xa0', 'These 2 Under-the-Radar Stocks Have Incredibly Bright Futures'], ['FB', 'Oct-15-21', '08:51AM\\xa0\\xa0', 'Facebooks stock has been languishing  things could get worse'], ['FB', 'Oct-15-21', '07:54AM\\xa0\\xa0', 'Netflix and Uber Rated Outperform, Facebook Underperform at Evercore'], ['FB', 'Oct-15-21', '07:30AM\\xa0\\xa0', 'How Should Investors React to \"The Facebook Files\"?'], ['FB', 'Oct-15-21', '07:15AM\\xa0\\xa0', 'Should Investors Be Worried About the Future of Facebook Stock?'], ['FB', 'Oct-15-21', '05:30AM\\xa0\\xa0', 'Facebook and Big Tobacco: Why Social Media Is (and Isnt) Like Cigarettes'], ['FB', 'Oct-14-21', '09:08PM\\xa0\\xa0', 'UPDATE 1-Fourteen U.S. state attorneys general press Facebook on vaccine disinformation'], ['FB', 'Oct-14-21', '08:28PM\\xa0\\xa0', 'Fourteen U.S. state attorneys general press Facebook on vaccine disinformation'], ['FB', 'Oct-14-21', '08:25PM\\xa0\\xa0', 'Fourteen U.S. attorneys general press Facebook on vaccine disinformation'], ['FB', 'Oct-14-21', '04:40PM\\xa0\\xa0', \"Microsoft's (MSFT) LinkedIn to Exit China This Year\"], ['FB', 'Oct-14-21', '02:56PM\\xa0\\xa0', 'New bills aim at Apple, Google and Facebook as U.S. attempts to catch up to Europes Big Tech push'], ['FB', 'Oct-14-21', '01:29PM\\xa0\\xa0', 'Microsoft Shuts LinkedIn China, Citing Challenging Climate'], ['FB', 'Oct-14-21', '01:05PM\\xa0\\xa0', 'Nigerias Flutterwave in Talks to Triple Valuation to $3 Billion'], ['FB', 'Oct-14-21', '12:49PM\\xa0\\xa0', 'Facebook Collected 3K Hours First-Person Footage For Vital AI Project'], ['FB', 'Oct-14-21', '12:22PM\\xa0\\xa0', 'Big Tech Faces New Bills on Liability and Competition in U.S.'], ['FB', 'Oct-14-21', '09:34AM\\xa0\\xa0', 'Facebook Starts AI Project Based on First-Person View'], ['FB', 'Oct-14-21', '09:08AM\\xa0\\xa0', 'Facebook makes internal forums private amid leaking scandal'], ['FB', 'Oct-14-21', '08:04AM\\xa0\\xa0', 'Facebook Tightens Access Rules For Employee Internal Discussion Forums: WSJ'], ['FB', 'Oct-14-21', '05:52AM\\xa0\\xa0', '3 Beaten-Down Robinhood Stocks That Could Bounce Back Big Time'], ['FB', 'Oct-13-21', '08:27PM\\xa0\\xa0', 'One of Facebooks Earliest Investors Says People Have Lost Trust in Company'], ['FB', 'Oct-13-21', '06:27PM\\xa0\\xa0', 'Facebook expands harassment policy to protect public figures'], ['FB', 'Oct-13-21', '02:59PM\\xa0\\xa0', 'What PepsiCo Is Doing Right'], ['TWTR', 'Oct-20-21', '04:28AM\\xa0\\xa0', 'Meta? Horizon? Facebook Renaming Report Sparks Speculation'], ['TWTR', 'Oct-19-21', '05:50PM\\xa0\\xa0', 'Twitter (TWTR) Outpaces Stock Market Gains: What You Should Know'], ['TWTR', 'Oct-19-21', '03:26PM\\xa0\\xa0', 'Xbox Mini Fridge Goes From Meme to Holiday Sales Hit'], ['TWTR', 'Oct-19-21', '03:02PM\\xa0\\xa0', 'Earnings Preview: Twitter (TWTR) Q3 Earnings Expected to Decline'], ['TWTR', 'Oct-19-21', '12:40PM\\xa0\\xa0', 'Twitter Stock Earns Key Rating Upgrade; Near All-Time High; Agreed To Sell App For $1.05 Billion'], ['TWTR', 'Oct-19-21', '07:10AM\\xa0\\xa0', '3 Cathie Wood Investments That Could Deliver Superior Returns'], ['TWTR', 'Oct-19-21', '02:15AM\\xa0\\xa0', 'SoftBanks COO Clashes With Son Over Latin American Spinoff'], ['TWTR', 'Oct-19-21', '01:01AM\\xa0\\xa0', 'Apples $19 Screen-Cleaning Cloth Sets High Bar for Brand Extras'], ['TWTR', 'Oct-18-21', '04:44PM\\xa0\\xa0', \"Facebook: 30 journalists working on 'coordinated' articles based on new leaked documents\"], ['TWTR', 'Oct-18-21', '12:17PM\\xa0\\xa0', \"What's Going On With FuelCell Energy's Stock Today?\"], ['TWTR', 'Oct-18-21', '10:00AM\\xa0\\xa0', 'Dune Is Taking Over Twitters Movies Account This Week'], ['TWTR', 'Oct-18-21', '08:57AM\\xa0\\xa0', 'The Zacks Analyst Blog Highlights: Edwards Lifesciences, DexCom, Twitter, Cigna Corp and Restaurant Brands'], ['TWTR', 'Oct-18-21', '01:38AM\\xa0\\xa0', 'Ronaldo Teams With Singapore Tycoon for Secretive Soccer Startup'], ['TWTR', 'Oct-16-21', '06:00AM\\xa0\\xa0', 'Could This Business-Model Tweak Create a Better Social Media Investment Than Facebook?'], ['TWTR', 'Oct-15-21', '05:37PM\\xa0\\xa0', 'Apple Fires Another Employee Who Urged Workers to Speak Out'], ['TWTR', 'Oct-15-21', '04:41PM\\xa0\\xa0', 'Jack Dorseys Square Considers Building a Bitcoin Mining System'], ['TWTR', 'Oct-15-21', '02:49PM\\xa0\\xa0', 'Top Analyst Reports for Edwards Lifesciences, DexCom & Twitter'], ['TWTR', 'Oct-15-21', '11:17AM\\xa0\\xa0', 'Chicago Asks Court to Stop Police Union Heads Vaccine Rhetoric'], ['TWTR', 'Oct-15-21', '10:31AM\\xa0\\xa0', 'Covid Is Forcing Video Game Companies to Rethink Remote Work'], ['TWTR', 'Oct-15-21', '09:17AM\\xa0\\xa0', 'Why Investors Should Care About the Volt Crypto ETF'], ['TWTR', 'Oct-14-21', '11:04PM\\xa0\\xa0', 'Nintendo Dips After New Switch Disappoints in Japan Debut'], ['TWTR', 'Oct-14-21', '04:40PM\\xa0\\xa0', \"Microsoft's (MSFT) LinkedIn to Exit China This Year\"], ['TWTR', 'Oct-14-21', '01:29PM\\xa0\\xa0', 'Microsoft Shuts LinkedIn China, Citing Challenging Climate'], ['TWTR', 'Oct-14-21', '01:23PM\\xa0\\xa0', \"What's Going On With DatChat's Stock?\"], ['TWTR', 'Oct-13-21', '05:00PM\\xa0\\xa0', 'Bitcoin Takes on Gold for Diwali, Helped by Top Bollywood Stars'], ['TWTR', 'Oct-13-21', '10:10AM\\xa0\\xa0', '3 Stocks Insiders Are Selling'], ['TWTR', 'Oct-12-21', '06:15PM\\xa0\\xa0', \"Twitter says no signs U.S. Rep. Maxine Waters' account was hacked\"], ['TWTR', 'Oct-12-21', '12:15PM\\xa0\\xa0', 'Apple Set for First MacBook Pro Revamp in Five Years on Oct. 18'], ['TWTR', 'Oct-12-21', '12:01PM\\xa0\\xa0', 'Twitter debuts new ad features, revamped algorithm ahead of ecommerce push'], ['TWTR', 'Oct-12-21', '09:59AM\\xa0\\xa0', '10 Tech Stocks to Buy According to Billionaire David Tepper'], ['TWTR', 'Oct-12-21', '07:00AM\\xa0\\xa0', 'Facebook is asking teens to use Instagram more responsibly'], ['TWTR', 'Oct-11-21', '09:33AM\\xa0\\xa0', '12 Best Software Stocks To Buy According To Hedge Funds'], ['TWTR', 'Oct-10-21', '08:59PM\\xa0\\xa0', 'Facebook-backed group launches misinformation adjudication panel in Australia'], ['TWTR', 'Oct-10-21', '08:52PM\\xa0\\xa0', 'Facebook-backed group launches misinformation adjudication panel in Australia'], ['TWTR', 'Oct-10-21', '03:05AM\\xa0\\xa0', 'Tesla Software Update Ready to Go Sunday After Delay, Musk Says'], ['TWTR', 'Oct-08-21', '08:47PM\\xa0\\xa0', 'Apple Seeks to Delay Ruling Loosening Its Grip on App Store'], ['TWTR', 'Oct-08-21', '05:34PM\\xa0\\xa0', 'Facebook, Instagram Back to Normal Following Another Outage'], ['TWTR', 'Oct-08-21', '05:25PM\\xa0\\xa0', 'Google Tests Ways to Showcase Breaking News in Twitter-Like Move'], ['TWTR', 'Oct-08-21', '02:07PM\\xa0\\xa0', \"What's Going On With DatChat's Stock Today?\"], ['TWTR', 'Oct-08-21', '12:52PM\\xa0\\xa0', 'Chiles President to Be Investigated After Pandora Revelations'], ['TWTR', 'Oct-08-21', '12:09PM\\xa0\\xa0', 'Twitter (TWTR) To Sell Mobile Ad Unit MoPub to AppLovin for $1B'], ['TWTR', 'Oct-08-21', '10:01AM\\xa0\\xa0', 'Earnings: 2 Growth Stocks to Watch in October'], ['TWTR', 'Oct-08-21', '09:52AM\\xa0\\xa0', '4 Stocks Insiders Are Selling'], ['TWTR', 'Oct-08-21', '09:31AM\\xa0\\xa0', 'Company News for Oct 8, 2021'], ['TWTR', 'Oct-07-21', '09:38PM\\xa0\\xa0', 'Puerto Ricos Plan For Rescue Aid? A New Years Bash'], ['TWTR', 'Oct-07-21', '09:00PM\\xa0\\xa0', \"Billionaire Peter Thiel's Palantir pops  3 more of his ideas that could surge next\"], ['TWTR', 'Oct-07-21', '03:44PM\\xa0\\xa0', 'Austrias Government in Peril as Bribery Probe Engulfs Kurz'], ['TWTR', 'Oct-07-21', '11:36AM\\xa0\\xa0', 'The rise of social trading: How the internet is changing investing'], ['TWTR', 'Oct-07-21', '11:12AM\\xa0\\xa0', 'Hurricane Idas impact on Royal Dutch Shell, Safeway CEO testifies in Holmes Trial, Applovin acquires Mopub from Twitter'], ['TWTR', 'Oct-07-21', '11:09AM\\xa0\\xa0', 'How social media is changing the stock market'], ['TWTR', 'Oct-07-21', '10:41AM\\xa0\\xa0', 'Peru Assets Rally as Investors Cheer Moderate Cabinet Picks'], ['TWTR', 'Oct-07-21', '08:59AM\\xa0\\xa0', 'Twitter rolls out pre-tweet warning about entering intense conversations'], ['TWTR', 'Oct-07-21', '07:08AM\\xa0\\xa0', 'Zanzibar Author Abdulrazak Gurnah Wins Nobel Prize in Literature'], ['TWTR', 'Oct-07-21', '06:08AM\\xa0\\xa0', 'Twitter Gains on $1-Billion Sale of Ad Unit MoPub, Affirms  2023 Guidance'], ['TWTR', 'Oct-07-21', '04:44AM\\xa0\\xa0', 'Premarket Movers Thursday - Twitter, Levi Strauss, Pfizer, Costco, Disney'], ['TWTR', 'Oct-07-21', '02:40AM\\xa0\\xa0', 'ECB Said to Study New Bond-Buying Plan for When Crisis Tool Ends'], ['TWTR', 'Oct-07-21', '01:37AM\\xa0\\xa0', 'Twitter Agrees to Sell MoPub for $1.05B'], ['TWTR', 'Oct-06-21', '05:44PM\\xa0\\xa0', 'Twitter Sells App Company MoPub To AppLovin For $1.05 Billion'], ['TWTR', 'Oct-06-21', '05:31PM\\xa0\\xa0', \"AppLovin to pay $1.05B to buy MoPub, Twitter's mobile ad network\"], ['TWTR', 'Oct-06-21', '05:30PM\\xa0\\xa0', 'Twitter Is Doubling Down on Advertising With a $1 Billion Asset Sale'], ['TWTR', 'Oct-06-21', '05:00PM\\xa0\\xa0', 'Twitter selling MoPub mobile-ad network to AppLovin for $1.05 billion'], ['TWTR', 'Oct-06-21', '04:48PM\\xa0\\xa0', 'Twitter Sells MoPub Ad Platform to AppLovin for $1.05 Billion'], ['TWTR', 'Oct-06-21', '04:43PM\\xa0\\xa0', 'Twitter to Sell MoPub In-App Advertising Division for $1.05 Billion'], ['TWTR', 'Oct-06-21', '04:29PM\\xa0\\xa0', 'UPDATE 3-Twitter to sell mobile ad unit MoPub for $1 bln'], ['TWTR', 'Oct-06-21', '04:21PM\\xa0\\xa0', 'Twitter to sell mobile ad unit MoPub for $1 billion'], ['TWTR', 'Oct-06-21', '04:15PM\\xa0\\xa0', 'Twitter Enters into Definitive Agreement to Sell MoPub to AppLovin for $1.05 Billion in Cash'], ['TWTR', 'Oct-06-21', '02:40PM\\xa0\\xa0', 'TikTok Promises to Remove Any Rumored Slap a Teacher Content'], ['TWTR', 'Oct-06-21', '10:08AM\\xa0\\xa0', 'Surging U.K. Inflation Is Already a Problem for Johnsons Agenda'], ['TWTR', 'Oct-06-21', '08:12AM\\xa0\\xa0', 'Swedens Economy Shrinks Much More Than Expected on Exports'], ['TWTR', 'Oct-06-21', '01:55AM\\xa0\\xa0', 'Snapchat Was the Biggest Winner the Day Facebook Went Dark'], ['TWTR', 'Oct-05-21', '07:22PM\\xa0\\xa0', 'Millions Flock to Signal and Telegram After Facebook Outage'], ['TWTR', 'Oct-05-21', '05:07PM\\xa0\\xa0', 'Facebook Outage Is Felt Acutely by Small-Business Owners'], ['TWTR', 'Oct-05-21', '01:17PM\\xa0\\xa0', 'Read Tim Cooks Staff Memo on 10th Anniversary of Jobss Death'], ['TWTR', 'Oct-05-21', '11:32AM\\xa0\\xa0', 'Nintendos Smash Bros. Gets Final Character in Hit Fighter Game'], ['TWTR', 'Oct-05-21', '10:43AM\\xa0\\xa0', \"Facebook isn't tobacco; that's ridiculous: analyst\"], ['TWTR', 'Oct-05-21', '10:29AM\\xa0\\xa0', 'Facebook whistleblower testifies before Congress, outage affects billions worldwide'], ['TWTR', 'Oct-05-21', '10:01AM\\xa0\\xa0', 'Mark Zuckerberg Has Had a Terrible Week. And Its Only Tuesday'], ['TWTR', 'Oct-05-21', '07:07AM\\xa0\\xa0', 'If Twitter (NYSE:TWTR) Improves the Selection Effect, it has a Potential to be a Multi-Bagger'], ['TWTR', 'Oct-05-21', '05:26AM\\xa0\\xa0', 'Japan Touts New Capitalism But New Finance Chief Sounds The Same'], ['TWTR', 'Oct-05-21', '04:37AM\\xa0\\xa0', 'Heres What Facebook Says Triggered the Massive Outage on Its Apps'], ['TWTR', 'Oct-05-21', '04:02AM\\xa0\\xa0', 'Facebook outage: What happened, who is to blame and will it happen again?'], ['TWTR', 'Oct-04-21', '06:54PM\\xa0\\xa0', 'Facebook Begins Recovery After Major Outage Shut Down Apps'], ['TWTR', 'Oct-04-21', '02:11PM\\xa0\\xa0', 'Facebook blackout sends users flocking to Twitter: Hello literally everyone'], ['TWTR', 'Oct-04-21', '01:31PM\\xa0\\xa0', 'Why Twitter Shares Are Falling'], ['TWTR', 'Oct-04-21', '05:30AM\\xa0\\xa0', 'A Three-Day Work Week? One Startup Experiments to Draw Talent'], ['TWTR', 'Oct-03-21', '10:00AM\\xa0\\xa0', 'Does Twitter CEO Jack Dorsey Hate Ethereum?'], ['TWTR', 'Oct-03-21', '07:23AM\\xa0\\xa0', 'UAE on High Alert, Oman Suspends Flights as Cyclone Nears'], ['TWTR', 'Oct-02-21', '10:22AM\\xa0\\xa0', 'U.K. Fuel Shortages Ease but Situation Worsens Around London'], ['TWTR', 'Oct-02-21', '03:10AM\\xa0\\xa0', 'UPDATE 2-Trump asks U.S. judge to force Twitter to restart his account'], ['TWTR', 'Oct-01-21', '11:58PM\\xa0\\xa0', 'Trump asks U.S. judge to force Twitter to restart his account'], ['TWTR', 'Oct-01-21', '11:37PM\\xa0\\xa0', 'Trump asks Florida judge to force Twitter to restart his account - Bloomberg News'], ['TWTR', 'Oct-01-21', '05:27PM\\xa0\\xa0', 'Why Twitter Stock Fell Sharply This Week'], ['TWTR', 'Oct-01-21', '12:43PM\\xa0\\xa0', \"Is Twitter Stock A Buy Right Now? Here's What Earnings, Charts Show\"], ['TWTR', 'Sep-30-21', '11:23AM\\xa0\\xa0', 'How Securitize is providing a platform for investors to access private markets'], ['TWTR', 'Sep-29-21', '01:04PM\\xa0\\xa0', 'U.K. Oil Firms Say Fuel Crisis Easing as Government Steps In'], ['TWTR', 'Sep-29-21', '12:02PM\\xa0\\xa0', \"La Palma volcano lava reaches Atlantic Ocean, Japan's new Prime Minister, Hong Kong tightens anti-doxxing law\"], ['TWTR', 'Sep-29-21', '09:00AM\\xa0\\xa0', 'YouTube Will Remove Videos With Misinformation About Any Vaccine'], ['TWTR', 'Sep-29-21', '07:07AM\\xa0\\xa0', 'Rave James Bond Reviews Raise Hopes for Moviegoing Revival'], ['TWTR', 'Sep-29-21', '07:05AM\\xa0\\xa0', 'Hong Kong Passes Tougher Anti-Doxxing Bill That Spooked Big Tech'], ['TWTR', 'Sep-28-21', '10:54AM\\xa0\\xa0', 'Why Twitter Shares Are Falling']]\n"
     ]
    }
   ],
   "source": [
    "parsed_data = []\n",
    "\n",
    "for company, news_table in news_tables.items(): # this will go through the keys we created above, company and texts\n",
    "    for row in news_table.find_all('tr'): # the text in in tr, inorder to get all text we need to write find_all if we say find we will get  only tr\n",
    "        comment = row.a.text\n",
    "        date_data = row.td.text.split(' ')\n",
    "        if len(date_data) == 1:\n",
    "            time = date_data[0]\n",
    "        else:\n",
    "            date = date_data[0]\n",
    "            time = date_data[1]\n",
    "        parsed_data.append([company,date,time,comment])\n",
    "\n",
    "        \n",
    "print(parsed_data)"
   ]
  },
  {
   "cell_type": "code",
   "execution_count": 5,
   "metadata": {},
   "outputs": [
    {
     "name": "stdout",
     "output_type": "stream",
     "text": [
      "    Company       Date       Time  \\\n",
      "0      AMZN  Oct-20-21  05:51AM     \n",
      "1      AMZN  Oct-20-21  04:09AM     \n",
      "2      AMZN  Oct-20-21  02:51AM     \n",
      "3      AMZN  Oct-20-21  12:00AM     \n",
      "4      AMZN  Oct-19-21  11:58PM     \n",
      "..      ...        ...        ...   \n",
      "395    TWTR  Sep-29-21  12:02PM     \n",
      "396    TWTR  Sep-29-21  09:00AM     \n",
      "397    TWTR  Sep-29-21  07:07AM     \n",
      "398    TWTR  Sep-29-21  07:05AM     \n",
      "399    TWTR  Sep-28-21  10:54AM     \n",
      "\n",
      "                                              Comments  \n",
      "0    3 FAANG Stocks With 47% to 55% Upside, Accordi...  \n",
      "1    Deliveroo shares up as it upgrades full year p...  \n",
      "2    3 Singapore companies ranked among world's bes...  \n",
      "3      Amazon (AMZN) Builds Out Quick-Delivery Network  \n",
      "4          Amazon (AMZN) Builds Quick-Delivery Network  \n",
      "..                                                 ...  \n",
      "395  La Palma volcano lava reaches Atlantic Ocean, ...  \n",
      "396  YouTube Will Remove Videos With Misinformation...  \n",
      "397  Rave James Bond Reviews Raise Hopes for Movieg...  \n",
      "398  Hong Kong Passes Tougher Anti-Doxxing Bill Tha...  \n",
      "399                     Why Twitter Shares Are Falling  \n",
      "\n",
      "[400 rows x 4 columns]\n"
     ]
    }
   ],
   "source": [
    "\n",
    "df = pd.DataFrame(parsed_data, columns=['Company','Date','Time','Comments'])\n",
    "# Analyse your text\n",
    "vader = SentimentIntensityAnalyzer()\n",
    "\n",
    "print(df)"
   ]
  },
  {
   "cell_type": "code",
   "execution_count": 6,
   "metadata": {},
   "outputs": [
    {
     "data": {
      "text/html": [
       "<div>\n",
       "<style scoped>\n",
       "    .dataframe tbody tr th:only-of-type {\n",
       "        vertical-align: middle;\n",
       "    }\n",
       "\n",
       "    .dataframe tbody tr th {\n",
       "        vertical-align: top;\n",
       "    }\n",
       "\n",
       "    .dataframe thead th {\n",
       "        text-align: right;\n",
       "    }\n",
       "</style>\n",
       "<table border=\"1\" class=\"dataframe\">\n",
       "  <thead>\n",
       "    <tr style=\"text-align: right;\">\n",
       "      <th></th>\n",
       "      <th>Company</th>\n",
       "      <th>Date</th>\n",
       "      <th>Time</th>\n",
       "      <th>Comments</th>\n",
       "    </tr>\n",
       "  </thead>\n",
       "  <tbody>\n",
       "    <tr>\n",
       "      <th>count</th>\n",
       "      <td>400</td>\n",
       "      <td>400</td>\n",
       "      <td>400</td>\n",
       "      <td>400</td>\n",
       "    </tr>\n",
       "    <tr>\n",
       "      <th>unique</th>\n",
       "      <td>4</td>\n",
       "      <td>22</td>\n",
       "      <td>288</td>\n",
       "      <td>351</td>\n",
       "    </tr>\n",
       "    <tr>\n",
       "      <th>top</th>\n",
       "      <td>AMZN</td>\n",
       "      <td>Oct-19-21</td>\n",
       "      <td>10:00AM</td>\n",
       "      <td>Earnings Estimates For Tech Stocks Rise Ahead ...</td>\n",
       "    </tr>\n",
       "    <tr>\n",
       "      <th>freq</th>\n",
       "      <td>100</td>\n",
       "      <td>112</td>\n",
       "      <td>6</td>\n",
       "      <td>3</td>\n",
       "    </tr>\n",
       "  </tbody>\n",
       "</table>\n",
       "</div>"
      ],
      "text/plain": [
       "       Company       Date       Time  \\\n",
       "count      400        400        400   \n",
       "unique       4         22        288   \n",
       "top       AMZN  Oct-19-21  10:00AM     \n",
       "freq       100        112          6   \n",
       "\n",
       "                                                 Comments  \n",
       "count                                                 400  \n",
       "unique                                                351  \n",
       "top     Earnings Estimates For Tech Stocks Rise Ahead ...  \n",
       "freq                                                    3  "
      ]
     },
     "execution_count": 6,
     "metadata": {},
     "output_type": "execute_result"
    }
   ],
   "source": [
    "df.describe()"
   ]
  },
  {
   "cell_type": "code",
   "execution_count": 7,
   "metadata": {},
   "outputs": [
    {
     "data": {
      "text/html": [
       "<div>\n",
       "<style scoped>\n",
       "    .dataframe tbody tr th:only-of-type {\n",
       "        vertical-align: middle;\n",
       "    }\n",
       "\n",
       "    .dataframe tbody tr th {\n",
       "        vertical-align: top;\n",
       "    }\n",
       "\n",
       "    .dataframe thead th {\n",
       "        text-align: right;\n",
       "    }\n",
       "</style>\n",
       "<table border=\"1\" class=\"dataframe\">\n",
       "  <thead>\n",
       "    <tr style=\"text-align: right;\">\n",
       "      <th></th>\n",
       "      <th>Company</th>\n",
       "      <th>Date</th>\n",
       "      <th>Time</th>\n",
       "      <th>Comments</th>\n",
       "    </tr>\n",
       "  </thead>\n",
       "  <tbody>\n",
       "    <tr>\n",
       "      <th>0</th>\n",
       "      <td>AMZN</td>\n",
       "      <td>Oct-20-21</td>\n",
       "      <td>05:51AM</td>\n",
       "      <td>3 FAANG Stocks With 47% to 55% Upside, Accordi...</td>\n",
       "    </tr>\n",
       "    <tr>\n",
       "      <th>1</th>\n",
       "      <td>AMZN</td>\n",
       "      <td>Oct-20-21</td>\n",
       "      <td>04:09AM</td>\n",
       "      <td>Deliveroo shares up as it upgrades full year p...</td>\n",
       "    </tr>\n",
       "    <tr>\n",
       "      <th>2</th>\n",
       "      <td>AMZN</td>\n",
       "      <td>Oct-20-21</td>\n",
       "      <td>02:51AM</td>\n",
       "      <td>3 Singapore companies ranked among world's bes...</td>\n",
       "    </tr>\n",
       "    <tr>\n",
       "      <th>3</th>\n",
       "      <td>AMZN</td>\n",
       "      <td>Oct-20-21</td>\n",
       "      <td>12:00AM</td>\n",
       "      <td>Amazon (AMZN) Builds Out Quick-Delivery Network</td>\n",
       "    </tr>\n",
       "    <tr>\n",
       "      <th>4</th>\n",
       "      <td>AMZN</td>\n",
       "      <td>Oct-19-21</td>\n",
       "      <td>11:58PM</td>\n",
       "      <td>Amazon (AMZN) Builds Quick-Delivery Network</td>\n",
       "    </tr>\n",
       "  </tbody>\n",
       "</table>\n",
       "</div>"
      ],
      "text/plain": [
       "  Company       Date       Time  \\\n",
       "0    AMZN  Oct-20-21  05:51AM     \n",
       "1    AMZN  Oct-20-21  04:09AM     \n",
       "2    AMZN  Oct-20-21  02:51AM     \n",
       "3    AMZN  Oct-20-21  12:00AM     \n",
       "4    AMZN  Oct-19-21  11:58PM     \n",
       "\n",
       "                                            Comments  \n",
       "0  3 FAANG Stocks With 47% to 55% Upside, Accordi...  \n",
       "1  Deliveroo shares up as it upgrades full year p...  \n",
       "2  3 Singapore companies ranked among world's bes...  \n",
       "3    Amazon (AMZN) Builds Out Quick-Delivery Network  \n",
       "4        Amazon (AMZN) Builds Quick-Delivery Network  "
      ]
     },
     "execution_count": 7,
     "metadata": {},
     "output_type": "execute_result"
    }
   ],
   "source": [
    "df.head()"
   ]
  },
  {
   "cell_type": "code",
   "execution_count": 8,
   "metadata": {},
   "outputs": [],
   "source": [
    "scores = []\n",
    "# Declare variables for scores\n",
    "compound_list = []\n",
    "positive_list = []\n",
    "negative_list = []\n",
    "neutral_list = []\n",
    "for i in range(df['Comments'].shape[0]):\n",
    "#print(analyser.polarity_scores(sentiments_pd['text'][i]))\n",
    "    compound =vader.polarity_scores(df['Comments'][i])[\"compound\"]\n",
    "    pos = vader.polarity_scores(df['Comments'][i])[\"pos\"]\n",
    "    neu = vader.polarity_scores(df['Comments'][i])[\"neu\"]\n",
    "    neg = vader.polarity_scores(df['Comments'][i])[\"neg\"]\n",
    "    \n",
    "    scores.append({\"Compound\": compound,\n",
    "                       \"Positive\": pos,\n",
    "                       \"Negative\": neg,\n",
    "                       \"Neutral\": neu\n",
    "                  })"
   ]
  },
  {
   "cell_type": "code",
   "execution_count": 9,
   "metadata": {},
   "outputs": [
    {
     "name": "stdout",
     "output_type": "stream",
     "text": [
      "[{'Compound': 0.0, 'Positive': 0.0, 'Negative': 0.0, 'Neutral': 1.0}, {'Compound': 0.6249, 'Positive': 0.389, 'Negative': 0.0, 'Neutral': 0.611}, {'Compound': 0.6369, 'Positive': 0.412, 'Negative': 0.0, 'Neutral': 0.588}, {'Compound': 0.1779, 'Positive': 0.254, 'Negative': 0.0, 'Neutral': 0.746}, {'Compound': 0.1779, 'Positive': 0.298, 'Negative': 0.0, 'Neutral': 0.702}, {'Compound': 0.0, 'Positive': 0.0, 'Negative': 0.0, 'Neutral': 1.0}, {'Compound': 0.595, 'Positive': 0.307, 'Negative': 0.0, 'Neutral': 0.693}, {'Compound': 0.1779, 'Positive': 0.257, 'Negative': 0.193, 'Neutral': 0.55}, {'Compound': 0.1779, 'Positive': 0.145, 'Negative': 0.0, 'Neutral': 0.855}, {'Compound': 0.0, 'Positive': 0.0, 'Negative': 0.0, 'Neutral': 1.0}, {'Compound': 0.0, 'Positive': 0.0, 'Negative': 0.0, 'Neutral': 1.0}, {'Compound': 0.34, 'Positive': 0.211, 'Negative': 0.0, 'Neutral': 0.789}, {'Compound': 0.1779, 'Positive': 0.159, 'Negative': 0.0, 'Neutral': 0.841}, {'Compound': 0.0, 'Positive': 0.0, 'Negative': 0.0, 'Neutral': 1.0}, {'Compound': 0.0, 'Positive': 0.0, 'Negative': 0.0, 'Neutral': 1.0}, {'Compound': 0.6486, 'Positive': 0.398, 'Negative': 0.0, 'Neutral': 0.602}, {'Compound': 0.6124, 'Positive': 0.286, 'Negative': 0.0, 'Neutral': 0.714}, {'Compound': 0.296, 'Positive': 0.167, 'Negative': 0.0, 'Neutral': 0.833}, {'Compound': 0.0, 'Positive': 0.0, 'Negative': 0.0, 'Neutral': 1.0}, {'Compound': 0.0, 'Positive': 0.0, 'Negative': 0.0, 'Neutral': 1.0}, {'Compound': 0.0, 'Positive': 0.0, 'Negative': 0.0, 'Neutral': 1.0}, {'Compound': 0.1779, 'Positive': 0.145, 'Negative': 0.0, 'Neutral': 0.855}, {'Compound': 0.0, 'Positive': 0.0, 'Negative': 0.0, 'Neutral': 1.0}, {'Compound': 0.4404, 'Positive': 0.302, 'Negative': 0.0, 'Neutral': 0.698}, {'Compound': 0.4404, 'Positive': 0.302, 'Negative': 0.0, 'Neutral': 0.698}, {'Compound': 0.2023, 'Positive': 0.231, 'Negative': 0.0, 'Neutral': 0.769}, {'Compound': 0.5267, 'Positive': 0.328, 'Negative': 0.0, 'Neutral': 0.672}, {'Compound': 0.7783, 'Positive': 0.694, 'Negative': 0.0, 'Neutral': 0.306}, {'Compound': 0.5423, 'Positive': 0.333, 'Negative': 0.0, 'Neutral': 0.667}, {'Compound': 0.0, 'Positive': 0.0, 'Negative': 0.0, 'Neutral': 1.0}, {'Compound': 0.8555, 'Positive': 0.573, 'Negative': 0.0, 'Neutral': 0.427}, {'Compound': 0.0, 'Positive': 0.0, 'Negative': 0.0, 'Neutral': 1.0}, {'Compound': 0.2263, 'Positive': 0.11, 'Negative': 0.061, 'Neutral': 0.829}, {'Compound': 0.0, 'Positive': 0.0, 'Negative': 0.0, 'Neutral': 1.0}, {'Compound': -0.5859, 'Positive': 0.1, 'Negative': 0.281, 'Neutral': 0.619}, {'Compound': 0.1779, 'Positive': 0.175, 'Negative': 0.0, 'Neutral': 0.825}, {'Compound': 0.0, 'Positive': 0.0, 'Negative': 0.0, 'Neutral': 1.0}, {'Compound': 0.0, 'Positive': 0.0, 'Negative': 0.0, 'Neutral': 1.0}, {'Compound': 0.7579, 'Positive': 0.361, 'Negative': 0.082, 'Neutral': 0.558}, {'Compound': 0.3167, 'Positive': 0.247, 'Negative': 0.0, 'Neutral': 0.753}, {'Compound': 0.1779, 'Positive': 0.145, 'Negative': 0.0, 'Neutral': 0.855}, {'Compound': 0.4767, 'Positive': 0.383, 'Negative': 0.0, 'Neutral': 0.617}, {'Compound': 0.1779, 'Positive': 0.145, 'Negative': 0.0, 'Neutral': 0.855}, {'Compound': 0.4767, 'Positive': 0.339, 'Negative': 0.0, 'Neutral': 0.661}, {'Compound': 0.1779, 'Positive': 0.145, 'Negative': 0.0, 'Neutral': 0.855}, {'Compound': 0.2732, 'Positive': 0.205, 'Negative': 0.0, 'Neutral': 0.795}, {'Compound': 0.0, 'Positive': 0.0, 'Negative': 0.0, 'Neutral': 1.0}, {'Compound': 0.7227, 'Positive': 0.28, 'Negative': 0.0, 'Neutral': 0.72}, {'Compound': 0.1779, 'Positive': 0.298, 'Negative': 0.0, 'Neutral': 0.702}, {'Compound': 0.1779, 'Positive': 0.159, 'Negative': 0.0, 'Neutral': 0.841}, {'Compound': 0.5267, 'Positive': 0.306, 'Negative': 0.0, 'Neutral': 0.694}, {'Compound': -0.2263, 'Positive': 0.119, 'Negative': 0.182, 'Neutral': 0.699}, {'Compound': 0.0, 'Positive': 0.0, 'Negative': 0.0, 'Neutral': 1.0}, {'Compound': 0.4588, 'Positive': 0.235, 'Negative': 0.0, 'Neutral': 0.765}, {'Compound': 0.1779, 'Positive': 0.108, 'Negative': 0.0, 'Neutral': 0.892}, {'Compound': 0.0, 'Positive': 0.0, 'Negative': 0.0, 'Neutral': 1.0}, {'Compound': 0.0258, 'Positive': 0.119, 'Negative': 0.112, 'Neutral': 0.769}, {'Compound': 0.4404, 'Positive': 0.281, 'Negative': 0.0, 'Neutral': 0.719}, {'Compound': 0.4939, 'Positive': 0.231, 'Negative': 0.0, 'Neutral': 0.769}, {'Compound': -0.6486, 'Positive': 0.0, 'Negative': 0.35, 'Neutral': 0.65}, {'Compound': 0.0, 'Positive': 0.0, 'Negative': 0.0, 'Neutral': 1.0}, {'Compound': 0.0, 'Positive': 0.0, 'Negative': 0.0, 'Neutral': 1.0}, {'Compound': 0.6486, 'Positive': 0.398, 'Negative': 0.0, 'Neutral': 0.602}, {'Compound': -0.5423, 'Positive': 0.095, 'Negative': 0.291, 'Neutral': 0.615}, {'Compound': 0.1779, 'Positive': 0.195, 'Negative': 0.0, 'Neutral': 0.805}, {'Compound': -0.2263, 'Positive': 0.119, 'Negative': 0.182, 'Neutral': 0.699}, {'Compound': 0.3818, 'Positive': 0.206, 'Negative': 0.0, 'Neutral': 0.794}, {'Compound': 0.296, 'Positive': 0.239, 'Negative': 0.0, 'Neutral': 0.761}, {'Compound': 0.8807, 'Positive': 0.583, 'Negative': 0.0, 'Neutral': 0.417}, {'Compound': 0.5267, 'Positive': 0.355, 'Negative': 0.0, 'Neutral': 0.645}, {'Compound': 0.0, 'Positive': 0.0, 'Negative': 0.0, 'Neutral': 1.0}, {'Compound': 0.4939, 'Positive': 0.344, 'Negative': 0.0, 'Neutral': 0.656}, {'Compound': 0.5267, 'Positive': 0.328, 'Negative': 0.0, 'Neutral': 0.672}, {'Compound': 0.4767, 'Positive': 0.316, 'Negative': 0.083, 'Neutral': 0.602}, {'Compound': -0.1531, 'Positive': 0.27, 'Negative': 0.33, 'Neutral': 0.4}, {'Compound': -0.3321, 'Positive': 0.124, 'Negative': 0.223, 'Neutral': 0.654}, {'Compound': 0.0, 'Positive': 0.0, 'Negative': 0.0, 'Neutral': 1.0}, {'Compound': 0.6369, 'Positive': 0.302, 'Negative': 0.0, 'Neutral': 0.698}, {'Compound': 0.0, 'Positive': 0.0, 'Negative': 0.0, 'Neutral': 1.0}, {'Compound': 0.1779, 'Positive': 0.159, 'Negative': 0.0, 'Neutral': 0.841}, {'Compound': 0.1779, 'Positive': 0.108, 'Negative': 0.0, 'Neutral': 0.892}, {'Compound': 0.1779, 'Positive': 0.134, 'Negative': 0.0, 'Neutral': 0.866}, {'Compound': 0.1779, 'Positive': 0.145, 'Negative': 0.0, 'Neutral': 0.855}, {'Compound': 0.1779, 'Positive': 0.108, 'Negative': 0.0, 'Neutral': 0.892}, {'Compound': 0.8807, 'Positive': 0.583, 'Negative': 0.0, 'Neutral': 0.417}, {'Compound': 0.0, 'Positive': 0.0, 'Negative': 0.0, 'Neutral': 1.0}, {'Compound': -0.5423, 'Positive': 0.101, 'Negative': 0.308, 'Neutral': 0.592}, {'Compound': -0.5423, 'Positive': 0.101, 'Negative': 0.308, 'Neutral': 0.592}, {'Compound': -0.128, 'Positive': 0.0, 'Negative': 0.143, 'Neutral': 0.857}, {'Compound': 0.34, 'Positive': 0.306, 'Negative': 0.224, 'Neutral': 0.471}, {'Compound': -0.0772, 'Positive': 0.124, 'Negative': 0.146, 'Neutral': 0.73}, {'Compound': -0.128, 'Positive': 0.122, 'Negative': 0.158, 'Neutral': 0.719}, {'Compound': 0.0, 'Positive': 0.0, 'Negative': 0.0, 'Neutral': 1.0}, {'Compound': 0.1779, 'Positive': 0.145, 'Negative': 0.0, 'Neutral': 0.855}, {'Compound': 0.1779, 'Positive': 0.091, 'Negative': 0.0, 'Neutral': 0.909}, {'Compound': 0.0, 'Positive': 0.0, 'Negative': 0.0, 'Neutral': 1.0}, {'Compound': 0.5413, 'Positive': 0.333, 'Negative': 0.0, 'Neutral': 0.667}, {'Compound': -0.0258, 'Positive': 0.142, 'Negative': 0.148, 'Neutral': 0.71}, {'Compound': 0.0, 'Positive': 0.0, 'Negative': 0.0, 'Neutral': 1.0}, {'Compound': 0.0, 'Positive': 0.0, 'Negative': 0.0, 'Neutral': 1.0}, {'Compound': 0.0, 'Positive': 0.0, 'Negative': 0.0, 'Neutral': 1.0}, {'Compound': 0.6369, 'Positive': 0.412, 'Negative': 0.0, 'Neutral': 0.588}, {'Compound': 0.0, 'Positive': 0.0, 'Negative': 0.0, 'Neutral': 1.0}, {'Compound': 0.0, 'Positive': 0.0, 'Negative': 0.0, 'Neutral': 1.0}, {'Compound': 0.0, 'Positive': 0.0, 'Negative': 0.0, 'Neutral': 1.0}, {'Compound': 0.0, 'Positive': 0.0, 'Negative': 0.0, 'Neutral': 1.0}, {'Compound': 0.0, 'Positive': 0.0, 'Negative': 0.0, 'Neutral': 1.0}, {'Compound': -0.3716, 'Positive': 0.122, 'Negative': 0.233, 'Neutral': 0.645}, {'Compound': 0.3818, 'Positive': 0.271, 'Negative': 0.0, 'Neutral': 0.729}, {'Compound': 0.0, 'Positive': 0.0, 'Negative': 0.0, 'Neutral': 1.0}, {'Compound': 0.1779, 'Positive': 0.257, 'Negative': 0.193, 'Neutral': 0.55}, {'Compound': 0.0, 'Positive': 0.0, 'Negative': 0.0, 'Neutral': 1.0}, {'Compound': 0.0, 'Positive': 0.0, 'Negative': 0.0, 'Neutral': 1.0}, {'Compound': 0.3818, 'Positive': 0.206, 'Negative': 0.0, 'Neutral': 0.794}, {'Compound': 0.3818, 'Positive': 0.224, 'Negative': 0.0, 'Neutral': 0.776}, {'Compound': 0.0, 'Positive': 0.0, 'Negative': 0.0, 'Neutral': 1.0}, {'Compound': 0.0, 'Positive': 0.0, 'Negative': 0.0, 'Neutral': 1.0}, {'Compound': 0.7096, 'Positive': 0.33, 'Negative': 0.0, 'Neutral': 0.67}, {'Compound': 0.0, 'Positive': 0.0, 'Negative': 0.0, 'Neutral': 1.0}, {'Compound': 0.5106, 'Positive': 0.223, 'Negative': 0.0, 'Neutral': 0.777}, {'Compound': 0.0, 'Positive': 0.0, 'Negative': 0.0, 'Neutral': 1.0}, {'Compound': 0.0, 'Positive': 0.0, 'Negative': 0.0, 'Neutral': 1.0}, {'Compound': 0.5106, 'Positive': 0.292, 'Negative': 0.0, 'Neutral': 0.708}, {'Compound': 0.0, 'Positive': 0.0, 'Negative': 0.0, 'Neutral': 1.0}, {'Compound': 0.5859, 'Positive': 0.322, 'Negative': 0.0, 'Neutral': 0.678}, {'Compound': 0.0, 'Positive': 0.0, 'Negative': 0.0, 'Neutral': 1.0}, {'Compound': 0.0, 'Positive': 0.0, 'Negative': 0.0, 'Neutral': 1.0}, {'Compound': 0.0, 'Positive': 0.0, 'Negative': 0.0, 'Neutral': 1.0}, {'Compound': 0.0, 'Positive': 0.0, 'Negative': 0.0, 'Neutral': 1.0}, {'Compound': 0.5106, 'Positive': 0.32, 'Negative': 0.0, 'Neutral': 0.68}, {'Compound': 0.0, 'Positive': 0.0, 'Negative': 0.0, 'Neutral': 1.0}, {'Compound': 0.0, 'Positive': 0.0, 'Negative': 0.0, 'Neutral': 1.0}, {'Compound': 0.0, 'Positive': 0.0, 'Negative': 0.0, 'Neutral': 1.0}, {'Compound': 0.0, 'Positive': 0.0, 'Negative': 0.0, 'Neutral': 1.0}, {'Compound': 0.6633, 'Positive': 0.312, 'Negative': 0.0, 'Neutral': 0.688}, {'Compound': 0.34, 'Positive': 0.286, 'Negative': 0.0, 'Neutral': 0.714}, {'Compound': 0.4767, 'Positive': 0.24, 'Negative': 0.0, 'Neutral': 0.76}, {'Compound': 0.0, 'Positive': 0.0, 'Negative': 0.0, 'Neutral': 1.0}, {'Compound': 0.2023, 'Positive': 0.107, 'Negative': 0.0, 'Neutral': 0.893}, {'Compound': 0.2023, 'Positive': 0.107, 'Negative': 0.0, 'Neutral': 0.893}, {'Compound': -0.5859, 'Positive': 0.1, 'Negative': 0.281, 'Neutral': 0.619}, {'Compound': 0.3167, 'Positive': 0.247, 'Negative': 0.0, 'Neutral': 0.753}, {'Compound': 0.0, 'Positive': 0.0, 'Negative': 0.0, 'Neutral': 1.0}, {'Compound': 0.34, 'Positive': 0.211, 'Negative': 0.0, 'Neutral': 0.789}, {'Compound': 0.1531, 'Positive': 0.215, 'Negative': 0.169, 'Neutral': 0.615}, {'Compound': 0.1531, 'Positive': 0.215, 'Negative': 0.169, 'Neutral': 0.615}, {'Compound': -0.2263, 'Positive': 0.119, 'Negative': 0.182, 'Neutral': 0.699}, {'Compound': 0.0, 'Positive': 0.0, 'Negative': 0.0, 'Neutral': 1.0}, {'Compound': 0.0, 'Positive': 0.0, 'Negative': 0.0, 'Neutral': 1.0}, {'Compound': 0.0, 'Positive': 0.0, 'Negative': 0.0, 'Neutral': 1.0}, {'Compound': 0.4019, 'Positive': 0.31, 'Negative': 0.0, 'Neutral': 0.69}, {'Compound': 0.0, 'Positive': 0.0, 'Negative': 0.0, 'Neutral': 1.0}, {'Compound': -0.1531, 'Positive': 0.0, 'Negative': 0.186, 'Neutral': 0.814}, {'Compound': 0.0, 'Positive': 0.0, 'Negative': 0.0, 'Neutral': 1.0}, {'Compound': 0.1779, 'Positive': 0.159, 'Negative': 0.0, 'Neutral': 0.841}, {'Compound': 0.0, 'Positive': 0.0, 'Negative': 0.0, 'Neutral': 1.0}, {'Compound': 0.34, 'Positive': 0.327, 'Negative': 0.0, 'Neutral': 0.673}, {'Compound': 0.5267, 'Positive': 0.274, 'Negative': 0.0, 'Neutral': 0.726}, {'Compound': 0.0, 'Positive': 0.0, 'Negative': 0.0, 'Neutral': 1.0}, {'Compound': 0.0, 'Positive': 0.0, 'Negative': 0.0, 'Neutral': 1.0}, {'Compound': 0.0, 'Positive': 0.0, 'Negative': 0.0, 'Neutral': 1.0}, {'Compound': 0.6369, 'Positive': 0.296, 'Negative': 0.0, 'Neutral': 0.704}, {'Compound': 0.6369, 'Positive': 0.318, 'Negative': 0.0, 'Neutral': 0.682}, {'Compound': 0.0, 'Positive': 0.0, 'Negative': 0.0, 'Neutral': 1.0}, {'Compound': 0.0, 'Positive': 0.0, 'Negative': 0.0, 'Neutral': 1.0}, {'Compound': 0.4019, 'Positive': 0.213, 'Negative': 0.0, 'Neutral': 0.787}, {'Compound': 0.3612, 'Positive': 0.288, 'Negative': 0.124, 'Neutral': 0.588}, {'Compound': 0.0, 'Positive': 0.0, 'Negative': 0.0, 'Neutral': 1.0}, {'Compound': 0.0, 'Positive': 0.201, 'Negative': 0.201, 'Neutral': 0.597}, {'Compound': 0.0, 'Positive': 0.0, 'Negative': 0.0, 'Neutral': 1.0}, {'Compound': 0.296, 'Positive': 0.216, 'Negative': 0.0, 'Neutral': 0.784}, {'Compound': 0.0, 'Positive': 0.0, 'Negative': 0.0, 'Neutral': 1.0}, {'Compound': 0.1027, 'Positive': 0.091, 'Negative': 0.0, 'Neutral': 0.909}, {'Compound': 0.6249, 'Positive': 0.406, 'Negative': 0.0, 'Neutral': 0.594}, {'Compound': 0.0, 'Positive': 0.0, 'Negative': 0.0, 'Neutral': 1.0}, {'Compound': 0.5267, 'Positive': 0.423, 'Negative': 0.0, 'Neutral': 0.577}, {'Compound': 0.0, 'Positive': 0.0, 'Negative': 0.0, 'Neutral': 1.0}, {'Compound': 0.4215, 'Positive': 0.177, 'Negative': 0.0, 'Neutral': 0.823}, {'Compound': 0.2023, 'Positive': 0.231, 'Negative': 0.0, 'Neutral': 0.769}, {'Compound': 0.0, 'Positive': 0.0, 'Negative': 0.0, 'Neutral': 1.0}, {'Compound': 0.0, 'Positive': 0.0, 'Negative': 0.0, 'Neutral': 1.0}, {'Compound': 0.4019, 'Positive': 0.153, 'Negative': 0.081, 'Neutral': 0.766}, {'Compound': 0.0, 'Positive': 0.0, 'Negative': 0.0, 'Neutral': 1.0}, {'Compound': 0.1779, 'Positive': 0.134, 'Negative': 0.0, 'Neutral': 0.866}, {'Compound': 0.0, 'Positive': 0.0, 'Negative': 0.0, 'Neutral': 1.0}, {'Compound': 0.0, 'Positive': 0.0, 'Negative': 0.0, 'Neutral': 1.0}, {'Compound': 0.1779, 'Positive': 0.159, 'Negative': 0.0, 'Neutral': 0.841}, {'Compound': 0.0, 'Positive': 0.0, 'Negative': 0.0, 'Neutral': 1.0}, {'Compound': 0.1531, 'Positive': 0.211, 'Negative': 0.0, 'Neutral': 0.789}, {'Compound': 0.1779, 'Positive': 0.134, 'Negative': 0.0, 'Neutral': 0.866}, {'Compound': 0.0, 'Positive': 0.0, 'Negative': 0.0, 'Neutral': 1.0}, {'Compound': 0.0, 'Positive': 0.0, 'Negative': 0.0, 'Neutral': 1.0}, {'Compound': -0.2023, 'Positive': 0.0, 'Negative': 0.153, 'Neutral': 0.847}, {'Compound': -0.5106, 'Positive': 0.0, 'Negative': 0.462, 'Neutral': 0.538}, {'Compound': 0.0, 'Positive': 0.0, 'Negative': 0.0, 'Neutral': 1.0}, {'Compound': 0.0, 'Positive': 0.0, 'Negative': 0.0, 'Neutral': 1.0}, {'Compound': 0.0, 'Positive': 0.0, 'Negative': 0.0, 'Neutral': 1.0}, {'Compound': 0.0, 'Positive': 0.0, 'Negative': 0.0, 'Neutral': 1.0}, {'Compound': 0.0, 'Positive': 0.0, 'Negative': 0.0, 'Neutral': 1.0}, {'Compound': 0.34, 'Positive': 0.194, 'Negative': 0.0, 'Neutral': 0.806}, {'Compound': 0.0, 'Positive': 0.0, 'Negative': 0.0, 'Neutral': 1.0}, {'Compound': 0.34, 'Positive': 0.194, 'Negative': 0.0, 'Neutral': 0.806}, {'Compound': 0.0, 'Positive': 0.0, 'Negative': 0.0, 'Neutral': 1.0}, {'Compound': 0.0, 'Positive': 0.0, 'Negative': 0.0, 'Neutral': 1.0}, {'Compound': 0.0, 'Positive': 0.0, 'Negative': 0.0, 'Neutral': 1.0}, {'Compound': 0.0, 'Positive': 0.0, 'Negative': 0.0, 'Neutral': 1.0}, {'Compound': 0.0, 'Positive': 0.0, 'Negative': 0.0, 'Neutral': 1.0}, {'Compound': 0.0, 'Positive': 0.0, 'Negative': 0.0, 'Neutral': 1.0}, {'Compound': 0.4019, 'Positive': 0.162, 'Negative': 0.0, 'Neutral': 0.838}, {'Compound': 0.0, 'Positive': 0.0, 'Negative': 0.0, 'Neutral': 1.0}, {'Compound': 0.0, 'Positive': 0.0, 'Negative': 0.0, 'Neutral': 1.0}, {'Compound': 0.0, 'Positive': 0.0, 'Negative': 0.0, 'Neutral': 1.0}, {'Compound': 0.0, 'Positive': 0.0, 'Negative': 0.0, 'Neutral': 1.0}, {'Compound': 0.0, 'Positive': 0.0, 'Negative': 0.0, 'Neutral': 1.0}, {'Compound': 0.0, 'Positive': 0.0, 'Negative': 0.0, 'Neutral': 1.0}, {'Compound': 0.0, 'Positive': 0.0, 'Negative': 0.0, 'Neutral': 1.0}, {'Compound': 0.0, 'Positive': 0.0, 'Negative': 0.0, 'Neutral': 1.0}, {'Compound': 0.0, 'Positive': 0.0, 'Negative': 0.0, 'Neutral': 1.0}, {'Compound': 0.6249, 'Positive': 0.505, 'Negative': 0.0, 'Neutral': 0.495}, {'Compound': 0.34, 'Positive': 0.211, 'Negative': 0.0, 'Neutral': 0.789}, {'Compound': -0.3724, 'Positive': 0.0, 'Negative': 0.221, 'Neutral': 0.779}, {'Compound': -0.3724, 'Positive': 0.0, 'Negative': 0.221, 'Neutral': 0.779}, {'Compound': 0.0, 'Positive': 0.0, 'Negative': 0.0, 'Neutral': 1.0}, {'Compound': 0.1027, 'Positive': 0.127, 'Negative': 0.099, 'Neutral': 0.775}, {'Compound': 0.0, 'Positive': 0.0, 'Negative': 0.0, 'Neutral': 1.0}, {'Compound': 0.0, 'Positive': 0.0, 'Negative': 0.0, 'Neutral': 1.0}, {'Compound': 0.0, 'Positive': 0.0, 'Negative': 0.0, 'Neutral': 1.0}, {'Compound': 0.5106, 'Positive': 0.339, 'Negative': 0.153, 'Neutral': 0.508}, {'Compound': 0.05, 'Positive': 0.2, 'Negative': 0.185, 'Neutral': 0.615}, {'Compound': 0.7245, 'Positive': 0.464, 'Negative': 0.0, 'Neutral': 0.536}, {'Compound': 0.296, 'Positive': 0.306, 'Negative': 0.0, 'Neutral': 0.694}, {'Compound': -0.1027, 'Positive': 0.0, 'Negative': 0.104, 'Neutral': 0.896}, {'Compound': -0.1027, 'Positive': 0.0, 'Negative': 0.104, 'Neutral': 0.896}, {'Compound': 0.2023, 'Positive': 0.231, 'Negative': 0.0, 'Neutral': 0.769}, {'Compound': 0.0, 'Positive': 0.0, 'Negative': 0.0, 'Neutral': 1.0}, {'Compound': -0.1027, 'Positive': 0.0, 'Negative': 0.149, 'Neutral': 0.851}, {'Compound': 0.0, 'Positive': 0.0, 'Negative': 0.0, 'Neutral': 1.0}, {'Compound': 0.0, 'Positive': 0.0, 'Negative': 0.0, 'Neutral': 1.0}, {'Compound': -0.8316, 'Positive': 0.0, 'Negative': 0.468, 'Neutral': 0.532}, {'Compound': -0.8316, 'Positive': 0.0, 'Negative': 0.468, 'Neutral': 0.532}, {'Compound': 0.0, 'Positive': 0.0, 'Negative': 0.0, 'Neutral': 1.0}, {'Compound': 0.0, 'Positive': 0.0, 'Negative': 0.0, 'Neutral': 1.0}, {'Compound': 0.4824, 'Positive': 0.228, 'Negative': 0.106, 'Neutral': 0.666}, {'Compound': -0.3182, 'Positive': 0.0, 'Negative': 0.173, 'Neutral': 0.827}, {'Compound': 0.3818, 'Positive': 0.224, 'Negative': 0.0, 'Neutral': 0.776}, {'Compound': -0.2023, 'Positive': 0.0, 'Negative': 0.153, 'Neutral': 0.847}, {'Compound': 0.0, 'Positive': 0.0, 'Negative': 0.0, 'Neutral': 1.0}, {'Compound': 0.0516, 'Positive': 0.107, 'Negative': 0.0, 'Neutral': 0.893}, {'Compound': 0.0, 'Positive': 0.0, 'Negative': 0.0, 'Neutral': 1.0}, {'Compound': 0.0, 'Positive': 0.0, 'Negative': 0.0, 'Neutral': 1.0}, {'Compound': -0.3321, 'Positive': 0.124, 'Negative': 0.223, 'Neutral': 0.654}, {'Compound': 0.0, 'Positive': 0.0, 'Negative': 0.0, 'Neutral': 1.0}, {'Compound': 0.0, 'Positive': 0.0, 'Negative': 0.0, 'Neutral': 1.0}, {'Compound': 0.0, 'Positive': 0.0, 'Negative': 0.0, 'Neutral': 1.0}, {'Compound': 0.0, 'Positive': 0.0, 'Negative': 0.0, 'Neutral': 1.0}, {'Compound': 0.0, 'Positive': 0.0, 'Negative': 0.0, 'Neutral': 1.0}, {'Compound': 0.6256, 'Positive': 0.362, 'Negative': 0.0, 'Neutral': 0.638}, {'Compound': 0.0, 'Positive': 0.0, 'Negative': 0.0, 'Neutral': 1.0}, {'Compound': 0.0, 'Positive': 0.0, 'Negative': 0.0, 'Neutral': 1.0}, {'Compound': 0.4019, 'Positive': 0.197, 'Negative': 0.0, 'Neutral': 0.803}, {'Compound': 0.0, 'Positive': 0.0, 'Negative': 0.0, 'Neutral': 1.0}, {'Compound': 0.0, 'Positive': 0.0, 'Negative': 0.0, 'Neutral': 1.0}, {'Compound': 0.5994, 'Positive': 0.353, 'Negative': 0.0, 'Neutral': 0.647}, {'Compound': 0.6369, 'Positive': 0.318, 'Negative': 0.0, 'Neutral': 0.682}, {'Compound': 0.7845, 'Positive': 0.725, 'Negative': 0.0, 'Neutral': 0.275}, {'Compound': 0.5994, 'Positive': 0.495, 'Negative': 0.0, 'Neutral': 0.505}, {'Compound': 0.0, 'Positive': 0.0, 'Negative': 0.0, 'Neutral': 1.0}, {'Compound': 0.0, 'Positive': 0.0, 'Negative': 0.0, 'Neutral': 1.0}, {'Compound': 0.34, 'Positive': 0.255, 'Negative': 0.0, 'Neutral': 0.745}, {'Compound': 0.6124, 'Positive': 0.357, 'Negative': 0.0, 'Neutral': 0.643}, {'Compound': -0.3412, 'Positive': 0.0, 'Negative': 0.179, 'Neutral': 0.821}, {'Compound': -0.4404, 'Positive': 0.0, 'Negative': 0.225, 'Neutral': 0.775}, {'Compound': -0.0516, 'Positive': 0.0, 'Negative': 0.098, 'Neutral': 0.902}, {'Compound': -0.3412, 'Positive': 0.0, 'Negative': 0.179, 'Neutral': 0.821}, {'Compound': 0.0, 'Positive': 0.0, 'Negative': 0.0, 'Neutral': 1.0}, {'Compound': 0.0, 'Positive': 0.0, 'Negative': 0.0, 'Neutral': 1.0}, {'Compound': 0.5859, 'Positive': 0.375, 'Negative': 0.0, 'Neutral': 0.625}, {'Compound': 0.2023, 'Positive': 0.184, 'Negative': 0.0, 'Neutral': 0.816}, {'Compound': 0.4927, 'Positive': 0.347, 'Negative': 0.0, 'Neutral': 0.653}, {'Compound': -0.4767, 'Positive': 0.0, 'Negative': 0.279, 'Neutral': 0.721}, {'Compound': 0.0, 'Positive': 0.0, 'Negative': 0.0, 'Neutral': 1.0}, {'Compound': 0.0, 'Positive': 0.0, 'Negative': 0.0, 'Neutral': 1.0}, {'Compound': -0.296, 'Positive': 0.0, 'Negative': 0.196, 'Neutral': 0.804}, {'Compound': 0.3612, 'Positive': 0.185, 'Negative': 0.0, 'Neutral': 0.815}, {'Compound': 0.0, 'Positive': 0.0, 'Negative': 0.0, 'Neutral': 1.0}, {'Compound': 0.0, 'Positive': 0.0, 'Negative': 0.0, 'Neutral': 1.0}, {'Compound': 0.0, 'Positive': 0.0, 'Negative': 0.0, 'Neutral': 1.0}, {'Compound': 0.0, 'Positive': 0.0, 'Negative': 0.0, 'Neutral': 1.0}, {'Compound': 0.0, 'Positive': 0.0, 'Negative': 0.0, 'Neutral': 1.0}, {'Compound': 0.1531, 'Positive': 0.211, 'Negative': 0.0, 'Neutral': 0.789}, {'Compound': 0.0, 'Positive': 0.0, 'Negative': 0.0, 'Neutral': 1.0}, {'Compound': 0.296, 'Positive': 0.196, 'Negative': 0.0, 'Neutral': 0.804}, {'Compound': -0.2023, 'Positive': 0.0, 'Negative': 0.153, 'Neutral': 0.847}, {'Compound': 0.0, 'Positive': 0.0, 'Negative': 0.0, 'Neutral': 1.0}, {'Compound': -0.4404, 'Positive': 0.0, 'Negative': 0.293, 'Neutral': 0.707}, {'Compound': 0.0, 'Positive': 0.0, 'Negative': 0.0, 'Neutral': 1.0}, {'Compound': 0.0, 'Positive': 0.0, 'Negative': 0.0, 'Neutral': 1.0}, {'Compound': 0.25, 'Positive': 0.212, 'Negative': 0.147, 'Neutral': 0.641}, {'Compound': -0.128, 'Positive': 0.32, 'Negative': 0.28, 'Neutral': 0.4}, {'Compound': 0.0, 'Positive': 0.0, 'Negative': 0.0, 'Neutral': 1.0}, {'Compound': 0.0, 'Positive': 0.0, 'Negative': 0.0, 'Neutral': 1.0}, {'Compound': 0.34, 'Positive': 0.211, 'Negative': 0.0, 'Neutral': 0.789}, {'Compound': 0.4019, 'Positive': 0.231, 'Negative': 0.0, 'Neutral': 0.769}, {'Compound': 0.0, 'Positive': 0.0, 'Negative': 0.0, 'Neutral': 1.0}, {'Compound': 0.2732, 'Positive': 0.123, 'Negative': 0.0, 'Neutral': 0.877}, {'Compound': 0.5423, 'Positive': 0.333, 'Negative': 0.0, 'Neutral': 0.667}, {'Compound': 0.0, 'Positive': 0.0, 'Negative': 0.0, 'Neutral': 1.0}, {'Compound': 0.0, 'Positive': 0.0, 'Negative': 0.0, 'Neutral': 1.0}, {'Compound': -0.3182, 'Positive': 0.0, 'Negative': 0.173, 'Neutral': 0.827}, {'Compound': 0.0, 'Positive': 0.0, 'Negative': 0.0, 'Neutral': 1.0}, {'Compound': 0.0, 'Positive': 0.0, 'Negative': 0.0, 'Neutral': 1.0}, {'Compound': 0.0, 'Positive': 0.0, 'Negative': 0.0, 'Neutral': 1.0}, {'Compound': 0.0, 'Positive': 0.0, 'Negative': 0.0, 'Neutral': 1.0}, {'Compound': 0.6124, 'Positive': 0.357, 'Negative': 0.0, 'Neutral': 0.643}, {'Compound': 0.0, 'Positive': 0.0, 'Negative': 0.0, 'Neutral': 1.0}, {'Compound': 0.0, 'Positive': 0.0, 'Negative': 0.0, 'Neutral': 1.0}, {'Compound': 0.2023, 'Positive': 0.205, 'Negative': 0.0, 'Neutral': 0.795}, {'Compound': -0.296, 'Positive': 0.0, 'Negative': 0.196, 'Neutral': 0.804}, {'Compound': 0.0, 'Positive': 0.0, 'Negative': 0.0, 'Neutral': 1.0}, {'Compound': 0.4939, 'Positive': 0.286, 'Negative': 0.0, 'Neutral': 0.714}, {'Compound': -0.3818, 'Positive': 0.0, 'Negative': 0.245, 'Neutral': 0.755}, {'Compound': 0.0, 'Positive': 0.0, 'Negative': 0.0, 'Neutral': 1.0}, {'Compound': 0.1531, 'Positive': 0.211, 'Negative': 0.0, 'Neutral': 0.789}, {'Compound': 0.0, 'Positive': 0.0, 'Negative': 0.0, 'Neutral': 1.0}, {'Compound': 0.2023, 'Positive': 0.153, 'Negative': 0.0, 'Neutral': 0.847}, {'Compound': 0.0, 'Positive': 0.0, 'Negative': 0.0, 'Neutral': 1.0}, {'Compound': -0.5994, 'Positive': 0.0, 'Negative': 0.353, 'Neutral': 0.647}, {'Compound': 0.0, 'Positive': 0.0, 'Negative': 0.0, 'Neutral': 1.0}, {'Compound': 0.0, 'Positive': 0.0, 'Negative': 0.0, 'Neutral': 1.0}, {'Compound': 0.0, 'Positive': 0.0, 'Negative': 0.0, 'Neutral': 1.0}, {'Compound': 0.0, 'Positive': 0.0, 'Negative': 0.0, 'Neutral': 1.0}, {'Compound': 0.6369, 'Positive': 0.318, 'Negative': 0.0, 'Neutral': 0.682}, {'Compound': -0.3182, 'Positive': 0.0, 'Negative': 0.247, 'Neutral': 0.753}, {'Compound': -0.3182, 'Positive': 0.0, 'Negative': 0.247, 'Neutral': 0.753}, {'Compound': 0.0516, 'Positive': 0.181, 'Negative': 0.167, 'Neutral': 0.652}, {'Compound': -0.3182, 'Positive': 0.0, 'Negative': 0.187, 'Neutral': 0.813}, {'Compound': 0.0, 'Positive': 0.0, 'Negative': 0.0, 'Neutral': 1.0}, {'Compound': 0.0, 'Positive': 0.0, 'Negative': 0.0, 'Neutral': 1.0}, {'Compound': 0.0, 'Positive': 0.0, 'Negative': 0.0, 'Neutral': 1.0}, {'Compound': 0.0, 'Positive': 0.0, 'Negative': 0.0, 'Neutral': 1.0}, {'Compound': 0.0, 'Positive': 0.0, 'Negative': 0.0, 'Neutral': 1.0}, {'Compound': 0.3818, 'Positive': 0.302, 'Negative': 0.0, 'Neutral': 0.698}, {'Compound': 0.0, 'Positive': 0.0, 'Negative': 0.0, 'Neutral': 1.0}, {'Compound': 0.0, 'Positive': 0.0, 'Negative': 0.0, 'Neutral': 1.0}, {'Compound': 0.5106, 'Positive': 0.292, 'Negative': 0.0, 'Neutral': 0.708}, {'Compound': 0.0, 'Positive': 0.0, 'Negative': 0.0, 'Neutral': 1.0}, {'Compound': -0.4019, 'Positive': 0.0, 'Negative': 0.252, 'Neutral': 0.748}, {'Compound': 0.0, 'Positive': 0.0, 'Negative': 0.0, 'Neutral': 1.0}, {'Compound': 0.0, 'Positive': 0.0, 'Negative': 0.0, 'Neutral': 1.0}, {'Compound': 0.0, 'Positive': 0.0, 'Negative': 0.0, 'Neutral': 1.0}, {'Compound': 0.6124, 'Positive': 0.417, 'Negative': 0.0, 'Neutral': 0.583}, {'Compound': -0.2732, 'Positive': 0.121, 'Negative': 0.224, 'Neutral': 0.654}, {'Compound': 0.7906, 'Positive': 0.5, 'Negative': 0.0, 'Neutral': 0.5}, {'Compound': 0.34, 'Positive': 0.179, 'Negative': 0.0, 'Neutral': 0.821}, {'Compound': 0.0, 'Positive': 0.0, 'Negative': 0.0, 'Neutral': 1.0}, {'Compound': -0.6249, 'Positive': 0.0, 'Negative': 0.272, 'Neutral': 0.728}, {'Compound': 0.2023, 'Positive': 0.231, 'Negative': 0.0, 'Neutral': 0.769}, {'Compound': 0.0, 'Positive': 0.0, 'Negative': 0.0, 'Neutral': 1.0}, {'Compound': -0.1027, 'Positive': 0.0, 'Negative': 0.123, 'Neutral': 0.877}, {'Compound': 0.3612, 'Positive': 0.2, 'Negative': 0.0, 'Neutral': 0.8}, {'Compound': 0.0, 'Positive': 0.0, 'Negative': 0.0, 'Neutral': 1.0}, {'Compound': 0.0, 'Positive': 0.0, 'Negative': 0.0, 'Neutral': 1.0}, {'Compound': 0.0, 'Positive': 0.0, 'Negative': 0.0, 'Neutral': 1.0}, {'Compound': 0.0, 'Positive': 0.0, 'Negative': 0.0, 'Neutral': 1.0}, {'Compound': 0.0, 'Positive': 0.0, 'Negative': 0.0, 'Neutral': 1.0}, {'Compound': 0.4939, 'Positive': 0.186, 'Negative': 0.0, 'Neutral': 0.814}, {'Compound': 0.4939, 'Positive': 0.375, 'Negative': 0.0, 'Neutral': 0.625}, {'Compound': -0.4019, 'Positive': 0.0, 'Negative': 0.252, 'Neutral': 0.748}, {'Compound': 0.0, 'Positive': 0.0, 'Negative': 0.0, 'Neutral': 1.0}, {'Compound': 0.5859, 'Positive': 0.297, 'Negative': 0.0, 'Neutral': 0.703}, {'Compound': 0.0, 'Positive': 0.0, 'Negative': 0.0, 'Neutral': 1.0}, {'Compound': 0.0, 'Positive': 0.0, 'Negative': 0.0, 'Neutral': 1.0}, {'Compound': -0.5994, 'Positive': 0.0, 'Negative': 0.281, 'Neutral': 0.719}, {'Compound': 0.1531, 'Positive': 0.151, 'Negative': 0.0, 'Neutral': 0.849}, {'Compound': 0.2755, 'Positive': 0.297, 'Negative': 0.0, 'Neutral': 0.703}, {'Compound': 0.0, 'Positive': 0.0, 'Negative': 0.0, 'Neutral': 1.0}, {'Compound': -0.4767, 'Positive': 0.0, 'Negative': 0.256, 'Neutral': 0.744}, {'Compound': 0.4215, 'Positive': 0.189, 'Negative': 0.0, 'Neutral': 0.811}, {'Compound': -0.0129, 'Positive': 0.0, 'Negative': 0.095, 'Neutral': 0.905}, {'Compound': 0.0, 'Positive': 0.0, 'Negative': 0.0, 'Neutral': 1.0}, {'Compound': -0.34, 'Positive': 0.0, 'Negative': 0.167, 'Neutral': 0.833}, {'Compound': 0.0, 'Positive': 0.0, 'Negative': 0.0, 'Neutral': 1.0}, {'Compound': 0.0, 'Positive': 0.0, 'Negative': 0.0, 'Neutral': 1.0}, {'Compound': 0.1531, 'Positive': 0.324, 'Negative': 0.235, 'Neutral': 0.441}, {'Compound': 0.4215, 'Positive': 0.259, 'Negative': 0.0, 'Neutral': 0.741}, {'Compound': -0.5719, 'Positive': 0.0, 'Negative': 0.381, 'Neutral': 0.619}, {'Compound': 0.296, 'Positive': 0.196, 'Negative': 0.0, 'Neutral': 0.804}, {'Compound': -0.5719, 'Positive': 0.133, 'Negative': 0.413, 'Neutral': 0.455}, {'Compound': 0.0, 'Positive': 0.0, 'Negative': 0.0, 'Neutral': 1.0}, {'Compound': 0.0, 'Positive': 0.0, 'Negative': 0.0, 'Neutral': 1.0}, {'Compound': 0.0, 'Positive': 0.0, 'Negative': 0.0, 'Neutral': 1.0}, {'Compound': 0.0, 'Positive': 0.0, 'Negative': 0.0, 'Neutral': 1.0}, {'Compound': 0.0, 'Positive': 0.0, 'Negative': 0.0, 'Neutral': 1.0}, {'Compound': 0.0772, 'Positive': 0.115, 'Negative': 0.0, 'Neutral': 0.885}, {'Compound': -0.4767, 'Positive': 0.132, 'Negative': 0.272, 'Neutral': 0.596}, {'Compound': 0.0516, 'Positive': 0.074, 'Negative': 0.0, 'Neutral': 0.926}, {'Compound': -0.3182, 'Positive': 0.0, 'Negative': 0.223, 'Neutral': 0.777}, {'Compound': 0.4215, 'Positive': 0.259, 'Negative': 0.0, 'Neutral': 0.741}, {'Compound': 0.1779, 'Positive': 0.159, 'Negative': 0.0, 'Neutral': 0.841}, {'Compound': 0.1531, 'Positive': 0.324, 'Negative': 0.235, 'Neutral': 0.441}]\n"
     ]
    }
   ],
   "source": [
    "print(scores)"
   ]
  },
  {
   "cell_type": "code",
   "execution_count": 10,
   "metadata": {},
   "outputs": [
    {
     "data": {
      "text/html": [
       "<div>\n",
       "<style scoped>\n",
       "    .dataframe tbody tr th:only-of-type {\n",
       "        vertical-align: middle;\n",
       "    }\n",
       "\n",
       "    .dataframe tbody tr th {\n",
       "        vertical-align: top;\n",
       "    }\n",
       "\n",
       "    .dataframe thead th {\n",
       "        text-align: right;\n",
       "    }\n",
       "</style>\n",
       "<table border=\"1\" class=\"dataframe\">\n",
       "  <thead>\n",
       "    <tr style=\"text-align: right;\">\n",
       "      <th></th>\n",
       "      <th>Company</th>\n",
       "      <th>Date</th>\n",
       "      <th>Time</th>\n",
       "      <th>Comments</th>\n",
       "      <th>Compound</th>\n",
       "      <th>Positive</th>\n",
       "      <th>Negative</th>\n",
       "      <th>Neutral</th>\n",
       "    </tr>\n",
       "  </thead>\n",
       "  <tbody>\n",
       "    <tr>\n",
       "      <th>0</th>\n",
       "      <td>AMZN</td>\n",
       "      <td>Oct-20-21</td>\n",
       "      <td>05:51AM</td>\n",
       "      <td>3 FAANG Stocks With 47% to 55% Upside, Accordi...</td>\n",
       "      <td>0.0000</td>\n",
       "      <td>0.000</td>\n",
       "      <td>0.0</td>\n",
       "      <td>1.000</td>\n",
       "    </tr>\n",
       "    <tr>\n",
       "      <th>1</th>\n",
       "      <td>AMZN</td>\n",
       "      <td>Oct-20-21</td>\n",
       "      <td>04:09AM</td>\n",
       "      <td>Deliveroo shares up as it upgrades full year p...</td>\n",
       "      <td>0.6249</td>\n",
       "      <td>0.389</td>\n",
       "      <td>0.0</td>\n",
       "      <td>0.611</td>\n",
       "    </tr>\n",
       "    <tr>\n",
       "      <th>2</th>\n",
       "      <td>AMZN</td>\n",
       "      <td>Oct-20-21</td>\n",
       "      <td>02:51AM</td>\n",
       "      <td>3 Singapore companies ranked among world's bes...</td>\n",
       "      <td>0.6369</td>\n",
       "      <td>0.412</td>\n",
       "      <td>0.0</td>\n",
       "      <td>0.588</td>\n",
       "    </tr>\n",
       "    <tr>\n",
       "      <th>3</th>\n",
       "      <td>AMZN</td>\n",
       "      <td>Oct-20-21</td>\n",
       "      <td>12:00AM</td>\n",
       "      <td>Amazon (AMZN) Builds Out Quick-Delivery Network</td>\n",
       "      <td>0.1779</td>\n",
       "      <td>0.254</td>\n",
       "      <td>0.0</td>\n",
       "      <td>0.746</td>\n",
       "    </tr>\n",
       "    <tr>\n",
       "      <th>4</th>\n",
       "      <td>AMZN</td>\n",
       "      <td>Oct-19-21</td>\n",
       "      <td>11:58PM</td>\n",
       "      <td>Amazon (AMZN) Builds Quick-Delivery Network</td>\n",
       "      <td>0.1779</td>\n",
       "      <td>0.298</td>\n",
       "      <td>0.0</td>\n",
       "      <td>0.702</td>\n",
       "    </tr>\n",
       "  </tbody>\n",
       "</table>\n",
       "</div>"
      ],
      "text/plain": [
       "  Company       Date       Time  \\\n",
       "0    AMZN  Oct-20-21  05:51AM     \n",
       "1    AMZN  Oct-20-21  04:09AM     \n",
       "2    AMZN  Oct-20-21  02:51AM     \n",
       "3    AMZN  Oct-20-21  12:00AM     \n",
       "4    AMZN  Oct-19-21  11:58PM     \n",
       "\n",
       "                                            Comments  Compound  Positive  \\\n",
       "0  3 FAANG Stocks With 47% to 55% Upside, Accordi...    0.0000     0.000   \n",
       "1  Deliveroo shares up as it upgrades full year p...    0.6249     0.389   \n",
       "2  3 Singapore companies ranked among world's bes...    0.6369     0.412   \n",
       "3    Amazon (AMZN) Builds Out Quick-Delivery Network    0.1779     0.254   \n",
       "4        Amazon (AMZN) Builds Quick-Delivery Network    0.1779     0.298   \n",
       "\n",
       "   Negative  Neutral  \n",
       "0       0.0    1.000  \n",
       "1       0.0    0.611  \n",
       "2       0.0    0.588  \n",
       "3       0.0    0.746  \n",
       "4       0.0    0.702  "
      ]
     },
     "execution_count": 10,
     "metadata": {},
     "output_type": "execute_result"
    }
   ],
   "source": [
    "sentiments_score = pd.DataFrame.from_dict(scores)\n",
    "df = df.join(sentiments_score)\n",
    "df.head()"
   ]
  },
  {
   "cell_type": "code",
   "execution_count": 11,
   "metadata": {},
   "outputs": [
    {
     "data": {
      "text/html": [
       "<div>\n",
       "<style scoped>\n",
       "    .dataframe tbody tr th:only-of-type {\n",
       "        vertical-align: middle;\n",
       "    }\n",
       "\n",
       "    .dataframe tbody tr th {\n",
       "        vertical-align: top;\n",
       "    }\n",
       "\n",
       "    .dataframe thead th {\n",
       "        text-align: right;\n",
       "    }\n",
       "</style>\n",
       "<table border=\"1\" class=\"dataframe\">\n",
       "  <thead>\n",
       "    <tr style=\"text-align: right;\">\n",
       "      <th></th>\n",
       "      <th>Company</th>\n",
       "      <th>Date</th>\n",
       "      <th>Time</th>\n",
       "      <th>Comments</th>\n",
       "      <th>Compound</th>\n",
       "      <th>Positive</th>\n",
       "      <th>Negative</th>\n",
       "      <th>Neutral</th>\n",
       "    </tr>\n",
       "  </thead>\n",
       "  <tbody>\n",
       "    <tr>\n",
       "      <th>0</th>\n",
       "      <td>AMZN</td>\n",
       "      <td>Oct-20-21</td>\n",
       "      <td>05:51AM</td>\n",
       "      <td>3 FAANG Stocks With 47% to 55% Upside, Accordi...</td>\n",
       "      <td>0.0000</td>\n",
       "      <td>0.000</td>\n",
       "      <td>0.000</td>\n",
       "      <td>1.000</td>\n",
       "    </tr>\n",
       "    <tr>\n",
       "      <th>1</th>\n",
       "      <td>AMZN</td>\n",
       "      <td>Oct-20-21</td>\n",
       "      <td>04:09AM</td>\n",
       "      <td>Deliveroo shares up as it upgrades full year p...</td>\n",
       "      <td>0.6249</td>\n",
       "      <td>0.389</td>\n",
       "      <td>0.000</td>\n",
       "      <td>0.611</td>\n",
       "    </tr>\n",
       "    <tr>\n",
       "      <th>2</th>\n",
       "      <td>AMZN</td>\n",
       "      <td>Oct-20-21</td>\n",
       "      <td>02:51AM</td>\n",
       "      <td>3 Singapore companies ranked among world's bes...</td>\n",
       "      <td>0.6369</td>\n",
       "      <td>0.412</td>\n",
       "      <td>0.000</td>\n",
       "      <td>0.588</td>\n",
       "    </tr>\n",
       "    <tr>\n",
       "      <th>3</th>\n",
       "      <td>AMZN</td>\n",
       "      <td>Oct-20-21</td>\n",
       "      <td>12:00AM</td>\n",
       "      <td>Amazon (AMZN) Builds Out Quick-Delivery Network</td>\n",
       "      <td>0.1779</td>\n",
       "      <td>0.254</td>\n",
       "      <td>0.000</td>\n",
       "      <td>0.746</td>\n",
       "    </tr>\n",
       "    <tr>\n",
       "      <th>4</th>\n",
       "      <td>AMZN</td>\n",
       "      <td>Oct-19-21</td>\n",
       "      <td>11:58PM</td>\n",
       "      <td>Amazon (AMZN) Builds Quick-Delivery Network</td>\n",
       "      <td>0.1779</td>\n",
       "      <td>0.298</td>\n",
       "      <td>0.000</td>\n",
       "      <td>0.702</td>\n",
       "    </tr>\n",
       "    <tr>\n",
       "      <th>...</th>\n",
       "      <td>...</td>\n",
       "      <td>...</td>\n",
       "      <td>...</td>\n",
       "      <td>...</td>\n",
       "      <td>...</td>\n",
       "      <td>...</td>\n",
       "      <td>...</td>\n",
       "      <td>...</td>\n",
       "    </tr>\n",
       "    <tr>\n",
       "      <th>395</th>\n",
       "      <td>TWTR</td>\n",
       "      <td>Sep-29-21</td>\n",
       "      <td>12:02PM</td>\n",
       "      <td>La Palma volcano lava reaches Atlantic Ocean, ...</td>\n",
       "      <td>0.0516</td>\n",
       "      <td>0.074</td>\n",
       "      <td>0.000</td>\n",
       "      <td>0.926</td>\n",
       "    </tr>\n",
       "    <tr>\n",
       "      <th>396</th>\n",
       "      <td>TWTR</td>\n",
       "      <td>Sep-29-21</td>\n",
       "      <td>09:00AM</td>\n",
       "      <td>YouTube Will Remove Videos With Misinformation...</td>\n",
       "      <td>-0.3182</td>\n",
       "      <td>0.000</td>\n",
       "      <td>0.223</td>\n",
       "      <td>0.777</td>\n",
       "    </tr>\n",
       "    <tr>\n",
       "      <th>397</th>\n",
       "      <td>TWTR</td>\n",
       "      <td>Sep-29-21</td>\n",
       "      <td>07:07AM</td>\n",
       "      <td>Rave James Bond Reviews Raise Hopes for Movieg...</td>\n",
       "      <td>0.4215</td>\n",
       "      <td>0.259</td>\n",
       "      <td>0.000</td>\n",
       "      <td>0.741</td>\n",
       "    </tr>\n",
       "    <tr>\n",
       "      <th>398</th>\n",
       "      <td>TWTR</td>\n",
       "      <td>Sep-29-21</td>\n",
       "      <td>07:05AM</td>\n",
       "      <td>Hong Kong Passes Tougher Anti-Doxxing Bill Tha...</td>\n",
       "      <td>0.1779</td>\n",
       "      <td>0.159</td>\n",
       "      <td>0.000</td>\n",
       "      <td>0.841</td>\n",
       "    </tr>\n",
       "    <tr>\n",
       "      <th>399</th>\n",
       "      <td>TWTR</td>\n",
       "      <td>Sep-28-21</td>\n",
       "      <td>10:54AM</td>\n",
       "      <td>Why Twitter Shares Are Falling</td>\n",
       "      <td>0.1531</td>\n",
       "      <td>0.324</td>\n",
       "      <td>0.235</td>\n",
       "      <td>0.441</td>\n",
       "    </tr>\n",
       "  </tbody>\n",
       "</table>\n",
       "<p>400 rows × 8 columns</p>\n",
       "</div>"
      ],
      "text/plain": [
       "    Company       Date       Time  \\\n",
       "0      AMZN  Oct-20-21  05:51AM     \n",
       "1      AMZN  Oct-20-21  04:09AM     \n",
       "2      AMZN  Oct-20-21  02:51AM     \n",
       "3      AMZN  Oct-20-21  12:00AM     \n",
       "4      AMZN  Oct-19-21  11:58PM     \n",
       "..      ...        ...        ...   \n",
       "395    TWTR  Sep-29-21  12:02PM     \n",
       "396    TWTR  Sep-29-21  09:00AM     \n",
       "397    TWTR  Sep-29-21  07:07AM     \n",
       "398    TWTR  Sep-29-21  07:05AM     \n",
       "399    TWTR  Sep-28-21  10:54AM     \n",
       "\n",
       "                                              Comments  Compound  Positive  \\\n",
       "0    3 FAANG Stocks With 47% to 55% Upside, Accordi...    0.0000     0.000   \n",
       "1    Deliveroo shares up as it upgrades full year p...    0.6249     0.389   \n",
       "2    3 Singapore companies ranked among world's bes...    0.6369     0.412   \n",
       "3      Amazon (AMZN) Builds Out Quick-Delivery Network    0.1779     0.254   \n",
       "4          Amazon (AMZN) Builds Quick-Delivery Network    0.1779     0.298   \n",
       "..                                                 ...       ...       ...   \n",
       "395  La Palma volcano lava reaches Atlantic Ocean, ...    0.0516     0.074   \n",
       "396  YouTube Will Remove Videos With Misinformation...   -0.3182     0.000   \n",
       "397  Rave James Bond Reviews Raise Hopes for Movieg...    0.4215     0.259   \n",
       "398  Hong Kong Passes Tougher Anti-Doxxing Bill Tha...    0.1779     0.159   \n",
       "399                     Why Twitter Shares Are Falling    0.1531     0.324   \n",
       "\n",
       "     Negative  Neutral  \n",
       "0       0.000    1.000  \n",
       "1       0.000    0.611  \n",
       "2       0.000    0.588  \n",
       "3       0.000    0.746  \n",
       "4       0.000    0.702  \n",
       "..        ...      ...  \n",
       "395     0.000    0.926  \n",
       "396     0.223    0.777  \n",
       "397     0.000    0.741  \n",
       "398     0.000    0.841  \n",
       "399     0.235    0.441  \n",
       "\n",
       "[400 rows x 8 columns]"
      ]
     },
     "execution_count": 11,
     "metadata": {},
     "output_type": "execute_result"
    }
   ],
   "source": [
    "df"
   ]
  },
  {
   "cell_type": "code",
   "execution_count": 12,
   "metadata": {},
   "outputs": [
    {
     "data": {
      "text/html": [
       "<div>\n",
       "<style scoped>\n",
       "    .dataframe tbody tr th:only-of-type {\n",
       "        vertical-align: middle;\n",
       "    }\n",
       "\n",
       "    .dataframe tbody tr th {\n",
       "        vertical-align: top;\n",
       "    }\n",
       "\n",
       "    .dataframe thead th {\n",
       "        text-align: right;\n",
       "    }\n",
       "</style>\n",
       "<table border=\"1\" class=\"dataframe\">\n",
       "  <thead>\n",
       "    <tr style=\"text-align: right;\">\n",
       "      <th></th>\n",
       "      <th>Neutral</th>\n",
       "    </tr>\n",
       "    <tr>\n",
       "      <th>Company</th>\n",
       "      <th></th>\n",
       "    </tr>\n",
       "  </thead>\n",
       "  <tbody>\n",
       "    <tr>\n",
       "      <th>AMZN</th>\n",
       "      <td>0.78943</td>\n",
       "    </tr>\n",
       "    <tr>\n",
       "      <th>FB</th>\n",
       "      <td>0.86632</td>\n",
       "    </tr>\n",
       "    <tr>\n",
       "      <th>GOOG</th>\n",
       "      <td>0.87510</td>\n",
       "    </tr>\n",
       "    <tr>\n",
       "      <th>TWTR</th>\n",
       "      <td>0.86183</td>\n",
       "    </tr>\n",
       "  </tbody>\n",
       "</table>\n",
       "</div>"
      ],
      "text/plain": [
       "         Neutral\n",
       "Company         \n",
       "AMZN     0.78943\n",
       "FB       0.86632\n",
       "GOOG     0.87510\n",
       "TWTR     0.86183"
      ]
     },
     "execution_count": 12,
     "metadata": {},
     "output_type": "execute_result"
    }
   ],
   "source": [
    "#Collect the compound values for each news source\n",
    "score_table = df.pivot_table(index='Company',  values=\"Neutral\", aggfunc = np.mean)\n",
    "score_table"
   ]
  },
  {
   "cell_type": "code",
   "execution_count": 13,
   "metadata": {},
   "outputs": [
    {
     "data": {
      "text/plain": [
       "<AxesSubplot:xlabel='Company'>"
      ]
     },
     "execution_count": 13,
     "metadata": {},
     "output_type": "execute_result"
    },
    {
     "data": {
      "image/png": "[encoded data removed]",
      "text/plain": [
       "<Figure size 432x288 with 1 Axes>"
      ]
     },
     "metadata": {
      "needs_background": "light"
     },
     "output_type": "display_data"
    }
   ],
   "source": [
    "score_table.plot(kind='bar')"
   ]
  },
  {
   "cell_type": "code",
   "execution_count": 14,
   "metadata": {},
   "outputs": [
    {
     "data": {
      "text/html": [
       "<div>\n",
       "<style scoped>\n",
       "    .dataframe tbody tr th:only-of-type {\n",
       "        vertical-align: middle;\n",
       "    }\n",
       "\n",
       "    .dataframe tbody tr th {\n",
       "        vertical-align: top;\n",
       "    }\n",
       "\n",
       "    .dataframe thead th {\n",
       "        text-align: right;\n",
       "    }\n",
       "</style>\n",
       "<table border=\"1\" class=\"dataframe\">\n",
       "  <thead>\n",
       "    <tr style=\"text-align: right;\">\n",
       "      <th></th>\n",
       "      <th>Compound</th>\n",
       "    </tr>\n",
       "    <tr>\n",
       "      <th>Company</th>\n",
       "      <th></th>\n",
       "    </tr>\n",
       "  </thead>\n",
       "  <tbody>\n",
       "    <tr>\n",
       "      <th>AMZN</th>\n",
       "      <td>0.189432</td>\n",
       "    </tr>\n",
       "    <tr>\n",
       "      <th>FB</th>\n",
       "      <td>0.051635</td>\n",
       "    </tr>\n",
       "    <tr>\n",
       "      <th>GOOG</th>\n",
       "      <td>0.126714</td>\n",
       "    </tr>\n",
       "    <tr>\n",
       "      <th>TWTR</th>\n",
       "      <td>0.035622</td>\n",
       "    </tr>\n",
       "  </tbody>\n",
       "</table>\n",
       "</div>"
      ],
      "text/plain": [
       "         Compound\n",
       "Company          \n",
       "AMZN     0.189432\n",
       "FB       0.051635\n",
       "GOOG     0.126714\n",
       "TWTR     0.035622"
      ]
     },
     "execution_count": 14,
     "metadata": {},
     "output_type": "execute_result"
    }
   ],
   "source": [
    "#Collect the compound values for each news source\n",
    "score_table = df.pivot_table(index='Company',  values=\"Compound\", aggfunc = np.mean)\n",
    "score_table"
   ]
  },
  {
   "cell_type": "code",
   "execution_count": 15,
   "metadata": {},
   "outputs": [
    {
     "data": {
      "text/plain": [
       "<AxesSubplot:xlabel='Company'>"
      ]
     },
     "execution_count": 15,
     "metadata": {},
     "output_type": "execute_result"
    },
    {
     "data": {
      "image/png": "[encoded data removed]",
      "text/plain": [
       "<Figure size 432x288 with 1 Axes>"
      ]
     },
     "metadata": {
      "needs_background": "light"
     },
     "output_type": "display_data"
    }
   ],
   "source": [
    "#plotting \n",
    "score_table.plot(kind='bar')"
   ]
  },
  {
   "cell_type": "code",
   "execution_count": 16,
   "metadata": {},
   "outputs": [
    {
     "data": {
      "text/html": [
       "<div>\n",
       "<style scoped>\n",
       "    .dataframe tbody tr th:only-of-type {\n",
       "        vertical-align: middle;\n",
       "    }\n",
       "\n",
       "    .dataframe tbody tr th {\n",
       "        vertical-align: top;\n",
       "    }\n",
       "\n",
       "    .dataframe thead th {\n",
       "        text-align: right;\n",
       "    }\n",
       "</style>\n",
       "<table border=\"1\" class=\"dataframe\">\n",
       "  <thead>\n",
       "    <tr style=\"text-align: right;\">\n",
       "      <th></th>\n",
       "      <th>Negative</th>\n",
       "    </tr>\n",
       "    <tr>\n",
       "      <th>Company</th>\n",
       "      <th></th>\n",
       "    </tr>\n",
       "  </thead>\n",
       "  <tbody>\n",
       "    <tr>\n",
       "      <th>AMZN</th>\n",
       "      <td>0.03805</td>\n",
       "    </tr>\n",
       "    <tr>\n",
       "      <th>FB</th>\n",
       "      <td>0.04856</td>\n",
       "    </tr>\n",
       "    <tr>\n",
       "      <th>GOOG</th>\n",
       "      <td>0.02434</td>\n",
       "    </tr>\n",
       "    <tr>\n",
       "      <th>TWTR</th>\n",
       "      <td>0.05496</td>\n",
       "    </tr>\n",
       "  </tbody>\n",
       "</table>\n",
       "</div>"
      ],
      "text/plain": [
       "         Negative\n",
       "Company          \n",
       "AMZN      0.03805\n",
       "FB        0.04856\n",
       "GOOG      0.02434\n",
       "TWTR      0.05496"
      ]
     },
     "execution_count": 16,
     "metadata": {},
     "output_type": "execute_result"
    }
   ],
   "source": [
    "#Collect the negative values for each news source\n",
    "neg_score_table = df.pivot_table(index='Company',  values=\"Negative\", aggfunc = np.mean)\n",
    "neg_score_table"
   ]
  },
  {
   "cell_type": "code",
   "execution_count": 17,
   "metadata": {},
   "outputs": [
    {
     "data": {
      "text/plain": [
       "<AxesSubplot:xlabel='Company'>"
      ]
     },
     "execution_count": 17,
     "metadata": {},
     "output_type": "execute_result"
    },
    {
     "data": {
      "image/png": "[encoded data removed]",
      "text/plain": [
       "<Figure size 432x288 with 1 Axes>"
      ]
     },
     "metadata": {
      "needs_background": "light"
     },
     "output_type": "display_data"
    }
   ],
   "source": [
    "#plotting \n",
    "neg_score_table.plot(kind='bar')"
   ]
  },
  {
   "cell_type": "code",
   "execution_count": 18,
   "metadata": {},
   "outputs": [
    {
     "data": {
      "text/plain": [
       "<Figure size 432x576 with 0 Axes>"
      ]
     },
     "metadata": {},
     "output_type": "display_data"
    },
    {
     "data": {
      "image/png": "[encoded data removed]",
      "text/plain": [
       "<Figure size 432x288 with 1 Axes>"
      ]
     },
     "metadata": {
      "needs_background": "light"
     },
     "output_type": "display_data"
    }
   ],
   "source": [
    "plt.figure(figsize=(6,8))\n",
    "# Using groupby makes us to have one date entry\n",
    "mean_df = df.groupby(['Company','Date']).mean()\n",
    "#print(mean_df)\n",
    "\n",
    "# Allow us to have date as x-axis\n",
    "mean_df = mean_df.unstack()\n",
    "# Remove compound column\n",
    "mean_df = mean_df.xs('Compound', axis='columns').transpose()\n",
    "mean_df.plot(kind='bar')\n",
    "plt.show()\n",
    "#print(mean_df)"
   ]
  },
  {
   "cell_type": "code",
   "execution_count": 19,
   "metadata": {},
   "outputs": [
    {
     "data": {
      "text/plain": [
       "to          156\n",
       "Facebook     68\n",
       "in           67\n",
       "for          56\n",
       "on           51\n",
       "           ... \n",
       "March         1\n",
       "Move          1\n",
       "intense       1\n",
       "Gates         1\n",
       "Senate's      1\n",
       "Length: 1724, dtype: int64"
      ]
     },
     "execution_count": 19,
     "metadata": {},
     "output_type": "execute_result"
    }
   ],
   "source": [
    "df.Comments.str.split(expand=True).stack().value_counts()"
   ]
  },
  {
   "cell_type": "code",
   "execution_count": 20,
   "metadata": {},
   "outputs": [
    {
     "data": {
      "text/html": [
       "<div>\n",
       "<style scoped>\n",
       "    .dataframe tbody tr th:only-of-type {\n",
       "        vertical-align: middle;\n",
       "    }\n",
       "\n",
       "    .dataframe tbody tr th {\n",
       "        vertical-align: top;\n",
       "    }\n",
       "\n",
       "    .dataframe thead th {\n",
       "        text-align: right;\n",
       "    }\n",
       "</style>\n",
       "<table border=\"1\" class=\"dataframe\">\n",
       "  <thead>\n",
       "    <tr style=\"text-align: right;\">\n",
       "      <th></th>\n",
       "      <th>Company</th>\n",
       "      <th>Date</th>\n",
       "      <th>Time</th>\n",
       "      <th>Comments</th>\n",
       "      <th>Compound</th>\n",
       "      <th>Positive</th>\n",
       "      <th>Negative</th>\n",
       "      <th>Neutral</th>\n",
       "    </tr>\n",
       "  </thead>\n",
       "  <tbody>\n",
       "    <tr>\n",
       "      <th>395</th>\n",
       "      <td>TWTR</td>\n",
       "      <td>Sep-29-21</td>\n",
       "      <td>12:02PM</td>\n",
       "      <td>la palma volcano lava reaches atlantic ocean, ...</td>\n",
       "      <td>0.0516</td>\n",
       "      <td>0.074</td>\n",
       "      <td>0.000</td>\n",
       "      <td>0.926</td>\n",
       "    </tr>\n",
       "    <tr>\n",
       "      <th>396</th>\n",
       "      <td>TWTR</td>\n",
       "      <td>Sep-29-21</td>\n",
       "      <td>09:00AM</td>\n",
       "      <td>youtube will remove videos with misinformation...</td>\n",
       "      <td>-0.3182</td>\n",
       "      <td>0.000</td>\n",
       "      <td>0.223</td>\n",
       "      <td>0.777</td>\n",
       "    </tr>\n",
       "    <tr>\n",
       "      <th>397</th>\n",
       "      <td>TWTR</td>\n",
       "      <td>Sep-29-21</td>\n",
       "      <td>07:07AM</td>\n",
       "      <td>rave james bond reviews raise hopes for movieg...</td>\n",
       "      <td>0.4215</td>\n",
       "      <td>0.259</td>\n",
       "      <td>0.000</td>\n",
       "      <td>0.741</td>\n",
       "    </tr>\n",
       "    <tr>\n",
       "      <th>398</th>\n",
       "      <td>TWTR</td>\n",
       "      <td>Sep-29-21</td>\n",
       "      <td>07:05AM</td>\n",
       "      <td>hong kong passes tougher anti-doxxing bill tha...</td>\n",
       "      <td>0.1779</td>\n",
       "      <td>0.159</td>\n",
       "      <td>0.000</td>\n",
       "      <td>0.841</td>\n",
       "    </tr>\n",
       "    <tr>\n",
       "      <th>399</th>\n",
       "      <td>TWTR</td>\n",
       "      <td>Sep-28-21</td>\n",
       "      <td>10:54AM</td>\n",
       "      <td>why twitter shares are falling</td>\n",
       "      <td>0.1531</td>\n",
       "      <td>0.324</td>\n",
       "      <td>0.235</td>\n",
       "      <td>0.441</td>\n",
       "    </tr>\n",
       "  </tbody>\n",
       "</table>\n",
       "</div>"
      ],
      "text/plain": [
       "    Company       Date       Time  \\\n",
       "395    TWTR  Sep-29-21  12:02PM     \n",
       "396    TWTR  Sep-29-21  09:00AM     \n",
       "397    TWTR  Sep-29-21  07:07AM     \n",
       "398    TWTR  Sep-29-21  07:05AM     \n",
       "399    TWTR  Sep-28-21  10:54AM     \n",
       "\n",
       "                                              Comments  Compound  Positive  \\\n",
       "395  la palma volcano lava reaches atlantic ocean, ...    0.0516     0.074   \n",
       "396  youtube will remove videos with misinformation...   -0.3182     0.000   \n",
       "397  rave james bond reviews raise hopes for movieg...    0.4215     0.259   \n",
       "398  hong kong passes tougher anti-doxxing bill tha...    0.1779     0.159   \n",
       "399                     why twitter shares are falling    0.1531     0.324   \n",
       "\n",
       "     Negative  Neutral  \n",
       "395     0.000    0.926  \n",
       "396     0.223    0.777  \n",
       "397     0.000    0.741  \n",
       "398     0.000    0.841  \n",
       "399     0.235    0.441  "
      ]
     },
     "execution_count": 20,
     "metadata": {},
     "output_type": "execute_result"
    }
   ],
   "source": [
    "df['Comments']=df['Comments'].str.lower()\n",
    "df.tail()"
   ]
  },
  {
   "cell_type": "code",
   "execution_count": 21,
   "metadata": {},
   "outputs": [],
   "source": [
    "stopwordlist = ['a', 'about', 'above', 'after', 'again', 'ain', 'all', 'am', 'an',\n",
    "             'and','any','are', 'as', 'at', 'be', 'because', 'been', 'before',\n",
    "             'being', 'below', 'between','both', 'by', 'can', 'd', 'did', 'do',\n",
    "             'does', 'doing', 'down', 'during', 'each','few', 'for', 'from',\n",
    "             'further', 'had', 'has', 'have', 'having', 'he', 'her', 'here',\n",
    "             'hers', 'herself', 'him', 'himself', 'his', 'how', 'i', 'if', 'in',\n",
    "             'into','is', 'it', 'its', 'itself', 'just', 'll', 'm', 'ma',\n",
    "             'me', 'more', 'most','my', 'myself', 'now', 'o', 'of', 'on', 'once',\n",
    "             'only', 'or', 'other', 'our', 'ours','ourselves', 'out', 'own', 're','s', 'same', 'she', \"shes\", 'should', \"shouldve\",'so', 'some', 'such',\n",
    "             't', 'than', 'that', \"thatll\", 'the', 'their', 'theirs', 'them',\n",
    "             'themselves', 'then', 'there', 'these', 'they', 'this', 'those',\n",
    "             'through', 'to', 'too','under', 'until', 'up', 've', 'very', 'was',\n",
    "             'we', 'were', 'what', 'when', 'where','which','while', 'who', 'whom',\n",
    "             'why', 'will', 'with', 'won', 'y', 'you', \"youd\",\"youll\", \"youre\",\n",
    "             \"youve\", 'your', 'yours', 'yourself', 'yourselves']"
   ]
  },
  {
   "cell_type": "code",
   "execution_count": null,
   "metadata": {},
   "outputs": [],
   "source": []
  },
  {
   "cell_type": "code",
   "execution_count": 22,
   "metadata": {},
   "outputs": [
    {
     "data": {
      "text/plain": [
       "0    3 faang stocks 47% 55% upside, according wall ...\n",
       "1    deliveroo shares upgrades full year profit for...\n",
       "2    3 singapore companies ranked among world's bes...\n",
       "3          amazon (amzn) builds quick-delivery network\n",
       "4          amazon (amzn) builds quick-delivery network\n",
       "Name: Comments, dtype: object"
      ]
     },
     "execution_count": 22,
     "metadata": {},
     "output_type": "execute_result"
    }
   ],
   "source": [
    "STOPWORDS = set(stopwordlist)\n",
    "def cleaning_stopwords(text):\n",
    "    return \" \".join([word for word in str(text).split() if word not in STOPWORDS])\n",
    "df['Comments'] = df['Comments'].apply(lambda text: cleaning_stopwords(text))\n",
    "df['Comments'].head()"
   ]
  },
  {
   "cell_type": "code",
   "execution_count": 23,
   "metadata": {},
   "outputs": [
    {
     "data": {
      "text/plain": [
       "395    la palma volcano lava reaches atlantic ocean j...\n",
       "396         youtube remove videos misinformation vaccine\n",
       "397    rave james bond reviews raise hopes moviegoing...\n",
       "398    hong kong passes tougher antidoxxing bill spoo...\n",
       "399                               twitter shares falling\n",
       "Name: Comments, dtype: object"
      ]
     },
     "execution_count": 23,
     "metadata": {},
     "output_type": "execute_result"
    }
   ],
   "source": [
    "import string\n",
    "english_punctuations = string.punctuation\n",
    "punctuations_list = english_punctuations\n",
    "def cleaning_punctuations(Comments):\n",
    "    translator = str.maketrans('', '', punctuations_list)\n",
    "    return Comments.translate(translator)\n",
    "df['Comments']= df['Comments'].apply(lambda x: cleaning_punctuations(x))\n",
    "df['Comments'].tail()"
   ]
  },
  {
   "cell_type": "code",
   "execution_count": 24,
   "metadata": {},
   "outputs": [
    {
     "data": {
      "text/plain": [
       "395    la palma volcano lava reaches atlantic ocean j...\n",
       "396         youtube remove videos misinformation vaccine\n",
       "397    rave james bond reviews raise hopes moviegoing...\n",
       "398    hong kong passes tougher antidoxxing bill spoo...\n",
       "399                               twitter shares falling\n",
       "Name: Comments, dtype: object"
      ]
     },
     "execution_count": 24,
     "metadata": {},
     "output_type": "execute_result"
    }
   ],
   "source": [
    "def cleaning_repeating_char(Comments):\n",
    "    return re.sub(r'(.)1+', r'1', Comments)\n",
    "df['Comments'] = df['Comments'].apply(lambda x: cleaning_repeating_char(x))\n",
    "df['Comments'].tail()"
   ]
  },
  {
   "cell_type": "code",
   "execution_count": 25,
   "metadata": {},
   "outputs": [
    {
     "data": {
      "text/plain": [
       "395    la palma volcano lava reaches atlantic ocean j...\n",
       "396         youtube remove videos misinformation vaccine\n",
       "397    rave james bond reviews raise hopes moviegoing...\n",
       "398    hong kong passes tougher antidoxxing bill spoo...\n",
       "399                               twitter shares falling\n",
       "Name: Comments, dtype: object"
      ]
     },
     "execution_count": 25,
     "metadata": {},
     "output_type": "execute_result"
    }
   ],
   "source": [
    "def cleaning_numbers(data):\n",
    "    return re.sub('[0-9]+', '', data)\n",
    "df['Comments'] = df['Comments'].apply(lambda x: cleaning_numbers(x))\n",
    "df['Comments'].tail()"
   ]
  },
  {
   "cell_type": "code",
   "execution_count": null,
   "metadata": {},
   "outputs": [],
   "source": []
  },
  {
   "cell_type": "code",
   "execution_count": 26,
   "metadata": {},
   "outputs": [
    {
     "data": {
      "text/html": [
       "<div>\n",
       "<style scoped>\n",
       "    .dataframe tbody tr th:only-of-type {\n",
       "        vertical-align: middle;\n",
       "    }\n",
       "\n",
       "    .dataframe tbody tr th {\n",
       "        vertical-align: top;\n",
       "    }\n",
       "\n",
       "    .dataframe thead th {\n",
       "        text-align: right;\n",
       "    }\n",
       "</style>\n",
       "<table border=\"1\" class=\"dataframe\">\n",
       "  <thead>\n",
       "    <tr style=\"text-align: right;\">\n",
       "      <th></th>\n",
       "      <th>Company</th>\n",
       "      <th>Date</th>\n",
       "      <th>Time</th>\n",
       "      <th>Comments</th>\n",
       "      <th>Compound</th>\n",
       "      <th>Positive</th>\n",
       "      <th>Negative</th>\n",
       "      <th>Neutral</th>\n",
       "    </tr>\n",
       "  </thead>\n",
       "  <tbody>\n",
       "    <tr>\n",
       "      <th>0</th>\n",
       "      <td>AMZN</td>\n",
       "      <td>Oct-20-21</td>\n",
       "      <td>05:51AM</td>\n",
       "      <td>faang stocks   upside according wall street</td>\n",
       "      <td>0.0000</td>\n",
       "      <td>0.000</td>\n",
       "      <td>0.000</td>\n",
       "      <td>1.000</td>\n",
       "    </tr>\n",
       "    <tr>\n",
       "      <th>1</th>\n",
       "      <td>AMZN</td>\n",
       "      <td>Oct-20-21</td>\n",
       "      <td>04:09AM</td>\n",
       "      <td>deliveroo shares upgrades full year profit for...</td>\n",
       "      <td>0.6249</td>\n",
       "      <td>0.389</td>\n",
       "      <td>0.000</td>\n",
       "      <td>0.611</td>\n",
       "    </tr>\n",
       "    <tr>\n",
       "      <th>2</th>\n",
       "      <td>AMZN</td>\n",
       "      <td>Oct-20-21</td>\n",
       "      <td>02:51AM</td>\n",
       "      <td>singapore companies ranked among worlds best ...</td>\n",
       "      <td>0.6369</td>\n",
       "      <td>0.412</td>\n",
       "      <td>0.000</td>\n",
       "      <td>0.588</td>\n",
       "    </tr>\n",
       "    <tr>\n",
       "      <th>3</th>\n",
       "      <td>AMZN</td>\n",
       "      <td>Oct-20-21</td>\n",
       "      <td>12:00AM</td>\n",
       "      <td>amazon amzn builds quickdelivery network</td>\n",
       "      <td>0.1779</td>\n",
       "      <td>0.254</td>\n",
       "      <td>0.000</td>\n",
       "      <td>0.746</td>\n",
       "    </tr>\n",
       "    <tr>\n",
       "      <th>4</th>\n",
       "      <td>AMZN</td>\n",
       "      <td>Oct-19-21</td>\n",
       "      <td>11:58PM</td>\n",
       "      <td>amazon amzn builds quickdelivery network</td>\n",
       "      <td>0.1779</td>\n",
       "      <td>0.298</td>\n",
       "      <td>0.000</td>\n",
       "      <td>0.702</td>\n",
       "    </tr>\n",
       "    <tr>\n",
       "      <th>...</th>\n",
       "      <td>...</td>\n",
       "      <td>...</td>\n",
       "      <td>...</td>\n",
       "      <td>...</td>\n",
       "      <td>...</td>\n",
       "      <td>...</td>\n",
       "      <td>...</td>\n",
       "      <td>...</td>\n",
       "    </tr>\n",
       "    <tr>\n",
       "      <th>395</th>\n",
       "      <td>TWTR</td>\n",
       "      <td>Sep-29-21</td>\n",
       "      <td>12:02PM</td>\n",
       "      <td>la palma volcano lava reaches atlantic ocean j...</td>\n",
       "      <td>0.0516</td>\n",
       "      <td>0.074</td>\n",
       "      <td>0.000</td>\n",
       "      <td>0.926</td>\n",
       "    </tr>\n",
       "    <tr>\n",
       "      <th>396</th>\n",
       "      <td>TWTR</td>\n",
       "      <td>Sep-29-21</td>\n",
       "      <td>09:00AM</td>\n",
       "      <td>youtube remove videos misinformation vaccine</td>\n",
       "      <td>-0.3182</td>\n",
       "      <td>0.000</td>\n",
       "      <td>0.223</td>\n",
       "      <td>0.777</td>\n",
       "    </tr>\n",
       "    <tr>\n",
       "      <th>397</th>\n",
       "      <td>TWTR</td>\n",
       "      <td>Sep-29-21</td>\n",
       "      <td>07:07AM</td>\n",
       "      <td>rave james bond reviews raise hopes moviegoing...</td>\n",
       "      <td>0.4215</td>\n",
       "      <td>0.259</td>\n",
       "      <td>0.000</td>\n",
       "      <td>0.741</td>\n",
       "    </tr>\n",
       "    <tr>\n",
       "      <th>398</th>\n",
       "      <td>TWTR</td>\n",
       "      <td>Sep-29-21</td>\n",
       "      <td>07:05AM</td>\n",
       "      <td>hong kong passes tougher antidoxxing bill spoo...</td>\n",
       "      <td>0.1779</td>\n",
       "      <td>0.159</td>\n",
       "      <td>0.000</td>\n",
       "      <td>0.841</td>\n",
       "    </tr>\n",
       "    <tr>\n",
       "      <th>399</th>\n",
       "      <td>TWTR</td>\n",
       "      <td>Sep-28-21</td>\n",
       "      <td>10:54AM</td>\n",
       "      <td>twitter shares falling</td>\n",
       "      <td>0.1531</td>\n",
       "      <td>0.324</td>\n",
       "      <td>0.235</td>\n",
       "      <td>0.441</td>\n",
       "    </tr>\n",
       "  </tbody>\n",
       "</table>\n",
       "<p>400 rows × 8 columns</p>\n",
       "</div>"
      ],
      "text/plain": [
       "    Company       Date       Time  \\\n",
       "0      AMZN  Oct-20-21  05:51AM     \n",
       "1      AMZN  Oct-20-21  04:09AM     \n",
       "2      AMZN  Oct-20-21  02:51AM     \n",
       "3      AMZN  Oct-20-21  12:00AM     \n",
       "4      AMZN  Oct-19-21  11:58PM     \n",
       "..      ...        ...        ...   \n",
       "395    TWTR  Sep-29-21  12:02PM     \n",
       "396    TWTR  Sep-29-21  09:00AM     \n",
       "397    TWTR  Sep-29-21  07:07AM     \n",
       "398    TWTR  Sep-29-21  07:05AM     \n",
       "399    TWTR  Sep-28-21  10:54AM     \n",
       "\n",
       "                                              Comments  Compound  Positive  \\\n",
       "0          faang stocks   upside according wall street    0.0000     0.000   \n",
       "1    deliveroo shares upgrades full year profit for...    0.6249     0.389   \n",
       "2     singapore companies ranked among worlds best ...    0.6369     0.412   \n",
       "3             amazon amzn builds quickdelivery network    0.1779     0.254   \n",
       "4             amazon amzn builds quickdelivery network    0.1779     0.298   \n",
       "..                                                 ...       ...       ...   \n",
       "395  la palma volcano lava reaches atlantic ocean j...    0.0516     0.074   \n",
       "396       youtube remove videos misinformation vaccine   -0.3182     0.000   \n",
       "397  rave james bond reviews raise hopes moviegoing...    0.4215     0.259   \n",
       "398  hong kong passes tougher antidoxxing bill spoo...    0.1779     0.159   \n",
       "399                             twitter shares falling    0.1531     0.324   \n",
       "\n",
       "     Negative  Neutral  \n",
       "0       0.000    1.000  \n",
       "1       0.000    0.611  \n",
       "2       0.000    0.588  \n",
       "3       0.000    0.746  \n",
       "4       0.000    0.702  \n",
       "..        ...      ...  \n",
       "395     0.000    0.926  \n",
       "396     0.223    0.777  \n",
       "397     0.000    0.741  \n",
       "398     0.000    0.841  \n",
       "399     0.235    0.441  \n",
       "\n",
       "[400 rows x 8 columns]"
      ]
     },
     "execution_count": 26,
     "metadata": {},
     "output_type": "execute_result"
    }
   ],
   "source": [
    "df"
   ]
  },
  {
   "cell_type": "code",
   "execution_count": 27,
   "metadata": {},
   "outputs": [
    {
     "name": "stdout",
     "output_type": "stream",
     "text": [
      "[['AMZN' 'Oct-20-21' '05:51AM\\xa0\\xa0' ... 0.0 0.0 0.0]\n",
      " ['AMZN' 'Oct-20-21' '04:09AM\\xa0\\xa0' ... 0.6249 0.389 0.0]\n",
      " ['AMZN' 'Oct-20-21' '02:51AM\\xa0\\xa0' ... 0.6369 0.412 0.0]\n",
      " ...\n",
      " ['TWTR' 'Sep-29-21' '07:07AM\\xa0\\xa0' ... 0.4215 0.259 0.0]\n",
      " ['TWTR' 'Sep-29-21' '07:05AM\\xa0\\xa0' ... 0.1779 0.159 0.0]\n",
      " ['TWTR' 'Sep-28-21' '10:54AM\\xa0\\xa0' ... 0.1531 0.324 0.235]]\n"
     ]
    }
   ],
   "source": [
    "# Get independent variables as X\n",
    "X = df.iloc[: , :-1].values\n",
    "Y = df.iloc[: , -1].values\n",
    "#print(Y)\n",
    "print(X)\n",
    "# print(df)\n"
   ]
  },
  {
   "cell_type": "code",
   "execution_count": 28,
   "metadata": {},
   "outputs": [
    {
     "name": "stdout",
     "output_type": "stream",
     "text": [
      "[[1.     0.     0.     ... 0.     0.     0.    ]\n",
      " [1.     0.     0.     ... 0.6249 0.389  0.    ]\n",
      " [1.     0.     0.     ... 0.6369 0.412  0.    ]\n",
      " ...\n",
      " [0.     0.     0.     ... 0.4215 0.259  0.    ]\n",
      " [0.     0.     0.     ... 0.1779 0.159  0.    ]\n",
      " [0.     0.     0.     ... 0.1531 0.324  0.235 ]]\n"
     ]
    }
   ],
   "source": [
    "# Encoding the independent variables\n",
    "\n",
    "from sklearn.compose import ColumnTransformer\n",
    "from sklearn.preprocessing import OneHotEncoder\n",
    "import numpy as np \n",
    "\n",
    "ct = ColumnTransformer(transformers=[('encoder',OneHotEncoder(),[0,1,2,3])],remainder='passthrough') # Pass through will not encode the other columns. [3] represents index to encode\n",
    "X = ct.fit_transform(X).toarray()\n",
    "\n",
    "print(X)"
   ]
  },
  {
   "cell_type": "code",
   "execution_count": 29,
   "metadata": {},
   "outputs": [],
   "source": [
    "# Splitting data into Training and Test set\n",
    "# We need to train data so as to avoid over fitting and under fitting\n",
    "# We want the results of our Training and Test data to match\n",
    "# random_state controls the shuffling applied to the data before applying the split\n",
    "# test_size should be between 0.0 and 1.0 and represent the proportion of the dataset to include in the test split\n",
    "from sklearn.model_selection import train_test_split\n",
    "\n",
    "x_train, x_test, y_train, y_test = train_test_split(X,Y,test_size=0.2,random_state=42)\n",
    "# print(x_train)\n",
    "# print(x_test)\n",
    "# print(y_train)\n",
    "# print(y_test)"
   ]
  },
  {
   "cell_type": "code",
   "execution_count": null,
   "metadata": {},
   "outputs": [],
   "source": []
  },
  {
   "cell_type": "code",
   "execution_count": 30,
   "metadata": {},
   "outputs": [
    {
     "data": {
      "text/plain": [
       "LinearRegression()"
      ]
     },
     "execution_count": 30,
     "metadata": {},
     "output_type": "execute_result"
    }
   ],
   "source": [
    "# Trainig the model\n",
    "from sklearn.linear_model import LinearRegression\n",
    "from sklearn.metrics import mean_absolute_error,max_error,explained_variance_score\n",
    "\n",
    "regressor = LinearRegression()\n",
    "regressor.fit(x_train,y_train)"
   ]
  },
  {
   "cell_type": "code",
   "execution_count": 31,
   "metadata": {},
   "outputs": [],
   "source": [
    "# Testing \n",
    "pred = regressor.predict(x_test)\n",
    "np.set_printoptions(precision=2)\n",
    "joinedArrays = np.concatenate((pred.reshape(len(pred),1),y_test.reshape(len(y_test),1)),1) # Just 1 column. 0 = vertical axis and 1 = horizontal axis"
   ]
  },
  {
   "cell_type": "code",
   "execution_count": 32,
   "metadata": {},
   "outputs": [
    {
     "data": {
      "image/png": "[encoded data removed]",
      "text/plain": [
       "<Figure size 432x288 with 1 Axes>"
      ]
     },
     "metadata": {
      "needs_background": "light"
     },
     "output_type": "display_data"
    }
   ],
   "source": [
    "# Visualising training results\n",
    "\n",
    "plt.scatter(x_train[:,0],y_train, color = 'red')\n",
    "plt.plot(x_train,regressor.predict(x_train),color = 'blue')\n",
    "plt.title('Training Results')\n",
    "plt.xlabel('Comments')\n",
    "plt.ylabel('Compound')\n",
    "plt.show() "
   ]
  },
  {
   "cell_type": "code",
   "execution_count": 33,
   "metadata": {},
   "outputs": [
    {
     "data": {
      "image/png": "[encoded data removed]",
      "text/plain": [
       "<Figure size 432x288 with 1 Axes>"
      ]
     },
     "metadata": {
      "needs_background": "light"
     },
     "output_type": "display_data"
    }
   ],
   "source": [
    "# Visualising test results\n",
    "\n",
    "plt.scatter(x_test[:,0],y_test, color = 'red')\n",
    "plt.plot(x_train,regressor.predict(x_train),color = 'blue')\n",
    "plt.title('Test Results')\n",
    "plt.xlabel('Comments')\n",
    "plt.ylabel('Compound')\n",
    "plt.show()"
   ]
  },
  {
   "cell_type": "code",
   "execution_count": 34,
   "metadata": {},
   "outputs": [
    {
     "data": {
      "text/plain": [
       "1.0"
      ]
     },
     "execution_count": 34,
     "metadata": {},
     "output_type": "execute_result"
    }
   ],
   "source": [
    "from sklearn import linear_model\n",
    "\n",
    "ols = linear_model.LinearRegression()\n",
    "model = ols.fit(X, Y)\n",
    "model.coef_ # The linear regression coefficient can be accessed in a form of class attribute with model.coef_\n",
    "model.intercept_ # The y-intercept can be accessed in a form of class attribute with model.intercept_\n",
    "model.score(X, Y) # How good was your model? You can evaluate your model performance in a form of R-squared, with model.score(X, y). X is the features, and y is the response variable used to fit the model.\n"
   ]
  },
  {
   "cell_type": "code",
   "execution_count": 35,
   "metadata": {},
   "outputs": [
    {
     "name": "stderr",
     "output_type": "stream",
     "text": [
      "C:\\Users\\user\\AppData\\Local\\Programs\\Python\\Python39\\lib\\site-packages\\gensim\\similarities\\__init__.py:15: UserWarning: The gensim.similarities.levenshtein submodule is disabled, because the optional Levenshtein package <https://pypi.org/project/python-Levenshtein/> is unavailable. Install Levenhstein (e.g. `pip install python-Levenshtein`) to suppress this warning.\n",
      "  warnings.warn(msg)\n"
     ]
    }
   ],
   "source": [
    "from sklearn.feature_extraction.text import TfidfVectorizer, CountVectorizer\n",
    "import gensim"
   ]
  },
  {
   "cell_type": "code",
   "execution_count": 36,
   "metadata": {},
   "outputs": [
    {
     "data": {
      "text/plain": [
       "(400, 474)"
      ]
     },
     "execution_count": 36,
     "metadata": {},
     "output_type": "execute_result"
    }
   ],
   "source": [
    "coments_vectorizer = CountVectorizer(max_df = 0.90 , min_df = 2 , max_features = 1000,stop_words = 'english')\n",
    "comments = coments_vectorizer.fit_transform(df['Comments'])\n",
    "comments.shape"
   ]
  },
  {
   "cell_type": "code",
   "execution_count": 37,
   "metadata": {},
   "outputs": [],
   "source": [
    "df=df.fillna(0) #replace all null values by 0\n",
    "from sklearn.model_selection import train_test_split\n",
    "F_train, F_test, m_train, m_test = train_test_split(comments, df['Compound'],\n",
    "                                                    test_size=0.2, random_state=69)"
   ]
  },
  {
   "cell_type": "code",
   "execution_count": 38,
   "metadata": {},
   "outputs": [
    {
     "name": "stdout",
     "output_type": "stream",
     "text": [
      "F_train_shape :  (320, 474)\n",
      "F_test_shape :  (80, 474)\n",
      "m_train_shape :  (320,)\n",
      "m_test_shape :  (80,)\n"
     ]
    }
   ],
   "source": [
    "print(\"F_train_shape : \",F_train.shape)\n",
    "print(\"F_test_shape : \",F_test.shape)\n",
    "print(\"m_train_shape : \",m_train.shape)\n",
    "print(\"m_test_shape : \",m_test.shape)"
   ]
  },
  {
   "cell_type": "code",
   "execution_count": 39,
   "metadata": {},
   "outputs": [
    {
     "ename": "ValueError",
     "evalue": "Unknown label type: (array([-0.54, -0.54,  0.  ,  0.18, -0.3 ,  0.  ,  0.  ,  0.  ,  0.  ,\n       -0.32,  0.18,  0.  ,  0.59,  0.  ,  0.65,  0.  ,  0.  ,  0.48,\n       -0.54,  0.  ,  0.86,  0.15,  0.  ,  0.18,  0.4 , -0.48, -0.1 ,\n       -0.23,  0.78, -0.13,  0.53,  0.  ,  0.  ,  0.15,  0.88,  0.  ,\n        0.34,  0.53,  0.4 ,  0.  ,  0.  ,  0.  ,  0.18,  0.36,  0.  ,\n        0.76, -0.34,  0.34, -0.59,  0.2 ,  0.61,  0.  ,  0.  ,  0.  ,\n        0.  ,  0.  ,  0.54,  0.  ,  0.  ,  0.  ,  0.38,  0.18,  0.18,\n       -0.57,  0.  ,  0.59,  0.18,  0.  ,  0.1 ,  0.6 ,  0.  ,  0.  ,\n        0.18,  0.  , -0.2 ,  0.28,  0.  ,  0.  ,  0.  ,  0.  ,  0.  ,\n       -0.6 ,  0.42, -0.62,  0.4 ,  0.2 , -0.65,  0.2 ,  0.2 ,  0.  ,\n        0.32,  0.15, -0.59,  0.64,  0.  , -0.23,  0.  ,  0.  ,  0.48,\n       -0.2 ,  0.  ,  0.18,  0.  ,  0.  ,  0.  ,  0.  ,  0.  , -0.15,\n        0.71,  0.4 ,  0.18,  0.  ,  0.  ,  0.34,  0.  , -0.1 ,  0.  ,\n        0.  ,  0.2 ,  0.49,  0.05,  0.  ,  0.88,  0.15,  0.  ,  0.  ,\n        0.18,  0.61,  0.18,  0.27,  0.54,  0.3 ,  0.  ,  0.78,  0.  ,\n        0.  ,  0.  ,  0.  ,  0.51,  0.49,  0.  ,  0.4 ,  0.23,  0.  ,\n        0.  ,  0.  , -0.13,  0.  ,  0.  ,  0.  ,  0.18, -0.6 ,  0.05,\n        0.  ,  0.62,  0.  ,  0.18,  0.  ,  0.53, -0.33,  0.38,  0.72,\n        0.  ,  0.  , -0.48,  0.  ,  0.  ,  0.  , -0.51, -0.03,  0.18,\n        0.  ,  0.34,  0.34,  0.61,  0.  ,  0.  ,  0.63,  0.61, -0.83,\n        0.48,  0.51,  0.  , -0.37,  0.  ,  0.  , -0.3 ,  0.  ,  0.  ,\n        0.38,  0.03, -0.32, -0.32,  0.  ,  0.  ,  0.42,  0.  ,  0.  ,\n        0.53,  0.  ,  0.  ,  0.  ,  0.51,  0.15,  0.64,  0.  ,  0.  ,\n        0.34,  0.  ,  0.  ,  0.3 ,  0.18,  0.  ,  0.  , -0.1 ,  0.2 ,\n        0.18,  0.  ,  0.18, -0.01,  0.  ,  0.25,  0.36,  0.  ,  0.62,\n        0.  ,  0.  ,  0.  ,  0.34, -0.4 ,  0.  ,  0.15,  0.  ,  0.18,\n        0.  ,  0.  ,  0.  ,  0.  , -0.23, -0.38,  0.  ,  0.  ,  0.  ,\n        0.51,  0.  , -0.37, -0.4 ,  0.  ,  0.18,  0.08,  0.  ,  0.42,\n        0.64,  0.  ,  0.  ,  0.  ,  0.05,  0.27,  0.  ,  0.  ,  0.48,\n        0.  ,  0.34,  0.  ,  0.53, -0.27, -0.34,  0.  ,  0.  ,  0.  ,\n        0.38,  0.  ,  0.  ,  0.38,  0.49, -0.57,  0.  ,  0.18, -0.05,\n        0.51,  0.  , -0.34,  0.  ,  0.  , -0.32,  0.  ,  0.  ,  0.42,\n        0.  ,  0.  ,  0.  ,  0.3 ,  0.18, -0.33, -0.32,  0.  ,  0.53,\n        0.  ,  0.32,  0.  ,  0.44,  0.  ,  0.  ,  0.4 ,  0.46,  0.64,\n        0.38,  0.  , -0.13,  0.79, -0.44,  0.  ,  0.  ,  0.  ,  0.49,\n        0.18, -0.08, -0.37,  0.  ,  0.18]),)",
     "output_type": "error",
     "traceback": [
      "\u001b[1;31m---------------------------------------------------------------------------\u001b[0m",
      "\u001b[1;31mValueError\u001b[0m                                Traceback (most recent call last)",
      "\u001b[1;32m~\\AppData\\Local\\Temp/ipykernel_24136/4085056043.py\u001b[0m in \u001b[0;36m<module>\u001b[1;34m\u001b[0m\n\u001b[0;32m      1\u001b[0m \u001b[1;32mfrom\u001b[0m \u001b[0msklearn\u001b[0m\u001b[1;33m.\u001b[0m\u001b[0mnaive_bayes\u001b[0m \u001b[1;32mimport\u001b[0m \u001b[0mMultinomialNB\u001b[0m  \u001b[1;31m# Naive Bayes Classifier\u001b[0m\u001b[1;33m\u001b[0m\u001b[1;33m\u001b[0m\u001b[0m\n\u001b[0;32m      2\u001b[0m \u001b[1;33m\u001b[0m\u001b[0m\n\u001b[1;32m----> 3\u001b[1;33m \u001b[0mmodel_naive\u001b[0m \u001b[1;33m=\u001b[0m \u001b[0mMultinomialNB\u001b[0m\u001b[1;33m(\u001b[0m\u001b[1;33m)\u001b[0m\u001b[1;33m.\u001b[0m\u001b[0mfit\u001b[0m\u001b[1;33m(\u001b[0m\u001b[0mF_train\u001b[0m\u001b[1;33m,\u001b[0m \u001b[0mm_train\u001b[0m\u001b[1;33m)\u001b[0m\u001b[1;33m\u001b[0m\u001b[1;33m\u001b[0m\u001b[0m\n\u001b[0m\u001b[0;32m      4\u001b[0m \u001b[0mpredicted_naive\u001b[0m \u001b[1;33m=\u001b[0m \u001b[0mmodel_naive\u001b[0m\u001b[1;33m.\u001b[0m\u001b[0mpredict\u001b[0m\u001b[1;33m(\u001b[0m\u001b[0mF_test\u001b[0m\u001b[1;33m)\u001b[0m\u001b[1;33m\u001b[0m\u001b[1;33m\u001b[0m\u001b[0m\n",
      "\u001b[1;32m~\\AppData\\Local\\Programs\\Python\\Python39\\lib\\site-packages\\sklearn\\naive_bayes.py\u001b[0m in \u001b[0;36mfit\u001b[1;34m(self, X, y, sample_weight)\u001b[0m\n\u001b[0;32m    615\u001b[0m \u001b[1;33m\u001b[0m\u001b[0m\n\u001b[0;32m    616\u001b[0m         \u001b[0mlabelbin\u001b[0m \u001b[1;33m=\u001b[0m \u001b[0mLabelBinarizer\u001b[0m\u001b[1;33m(\u001b[0m\u001b[1;33m)\u001b[0m\u001b[1;33m\u001b[0m\u001b[1;33m\u001b[0m\u001b[0m\n\u001b[1;32m--> 617\u001b[1;33m         \u001b[0mY\u001b[0m \u001b[1;33m=\u001b[0m \u001b[0mlabelbin\u001b[0m\u001b[1;33m.\u001b[0m\u001b[0mfit_transform\u001b[0m\u001b[1;33m(\u001b[0m\u001b[0my\u001b[0m\u001b[1;33m)\u001b[0m\u001b[1;33m\u001b[0m\u001b[1;33m\u001b[0m\u001b[0m\n\u001b[0m\u001b[0;32m    618\u001b[0m         \u001b[0mself\u001b[0m\u001b[1;33m.\u001b[0m\u001b[0mclasses_\u001b[0m \u001b[1;33m=\u001b[0m \u001b[0mlabelbin\u001b[0m\u001b[1;33m.\u001b[0m\u001b[0mclasses_\u001b[0m\u001b[1;33m\u001b[0m\u001b[1;33m\u001b[0m\u001b[0m\n\u001b[0;32m    619\u001b[0m         \u001b[1;32mif\u001b[0m \u001b[0mY\u001b[0m\u001b[1;33m.\u001b[0m\u001b[0mshape\u001b[0m\u001b[1;33m[\u001b[0m\u001b[1;36m1\u001b[0m\u001b[1;33m]\u001b[0m \u001b[1;33m==\u001b[0m \u001b[1;36m1\u001b[0m\u001b[1;33m:\u001b[0m\u001b[1;33m\u001b[0m\u001b[1;33m\u001b[0m\u001b[0m\n",
      "\u001b[1;32m~\\AppData\\Local\\Programs\\Python\\Python39\\lib\\site-packages\\sklearn\\preprocessing\\_label.py\u001b[0m in \u001b[0;36mfit_transform\u001b[1;34m(self, y)\u001b[0m\n\u001b[0;32m    319\u001b[0m             \u001b[0mwill\u001b[0m \u001b[0mbe\u001b[0m \u001b[0mof\u001b[0m \u001b[0mCSR\u001b[0m \u001b[0mformat\u001b[0m\u001b[1;33m.\u001b[0m\u001b[1;33m\u001b[0m\u001b[1;33m\u001b[0m\u001b[0m\n\u001b[0;32m    320\u001b[0m         \"\"\"\n\u001b[1;32m--> 321\u001b[1;33m         \u001b[1;32mreturn\u001b[0m \u001b[0mself\u001b[0m\u001b[1;33m.\u001b[0m\u001b[0mfit\u001b[0m\u001b[1;33m(\u001b[0m\u001b[0my\u001b[0m\u001b[1;33m)\u001b[0m\u001b[1;33m.\u001b[0m\u001b[0mtransform\u001b[0m\u001b[1;33m(\u001b[0m\u001b[0my\u001b[0m\u001b[1;33m)\u001b[0m\u001b[1;33m\u001b[0m\u001b[1;33m\u001b[0m\u001b[0m\n\u001b[0m\u001b[0;32m    322\u001b[0m \u001b[1;33m\u001b[0m\u001b[0m\n\u001b[0;32m    323\u001b[0m     \u001b[1;32mdef\u001b[0m \u001b[0mtransform\u001b[0m\u001b[1;33m(\u001b[0m\u001b[0mself\u001b[0m\u001b[1;33m,\u001b[0m \u001b[0my\u001b[0m\u001b[1;33m)\u001b[0m\u001b[1;33m:\u001b[0m\u001b[1;33m\u001b[0m\u001b[1;33m\u001b[0m\u001b[0m\n",
      "\u001b[1;32m~\\AppData\\Local\\Programs\\Python\\Python39\\lib\\site-packages\\sklearn\\preprocessing\\_label.py\u001b[0m in \u001b[0;36mfit\u001b[1;34m(self, y)\u001b[0m\n\u001b[0;32m    295\u001b[0m \u001b[1;33m\u001b[0m\u001b[0m\n\u001b[0;32m    296\u001b[0m         \u001b[0mself\u001b[0m\u001b[1;33m.\u001b[0m\u001b[0msparse_input_\u001b[0m \u001b[1;33m=\u001b[0m \u001b[0msp\u001b[0m\u001b[1;33m.\u001b[0m\u001b[0missparse\u001b[0m\u001b[1;33m(\u001b[0m\u001b[0my\u001b[0m\u001b[1;33m)\u001b[0m\u001b[1;33m\u001b[0m\u001b[1;33m\u001b[0m\u001b[0m\n\u001b[1;32m--> 297\u001b[1;33m         \u001b[0mself\u001b[0m\u001b[1;33m.\u001b[0m\u001b[0mclasses_\u001b[0m \u001b[1;33m=\u001b[0m \u001b[0munique_labels\u001b[0m\u001b[1;33m(\u001b[0m\u001b[0my\u001b[0m\u001b[1;33m)\u001b[0m\u001b[1;33m\u001b[0m\u001b[1;33m\u001b[0m\u001b[0m\n\u001b[0m\u001b[0;32m    298\u001b[0m         \u001b[1;32mreturn\u001b[0m \u001b[0mself\u001b[0m\u001b[1;33m\u001b[0m\u001b[1;33m\u001b[0m\u001b[0m\n\u001b[0;32m    299\u001b[0m \u001b[1;33m\u001b[0m\u001b[0m\n",
      "\u001b[1;32m~\\AppData\\Local\\Programs\\Python\\Python39\\lib\\site-packages\\sklearn\\utils\\multiclass.py\u001b[0m in \u001b[0;36munique_labels\u001b[1;34m(*ys)\u001b[0m\n\u001b[0;32m     96\u001b[0m     \u001b[0m_unique_labels\u001b[0m \u001b[1;33m=\u001b[0m \u001b[0m_FN_UNIQUE_LABELS\u001b[0m\u001b[1;33m.\u001b[0m\u001b[0mget\u001b[0m\u001b[1;33m(\u001b[0m\u001b[0mlabel_type\u001b[0m\u001b[1;33m,\u001b[0m \u001b[1;32mNone\u001b[0m\u001b[1;33m)\u001b[0m\u001b[1;33m\u001b[0m\u001b[1;33m\u001b[0m\u001b[0m\n\u001b[0;32m     97\u001b[0m     \u001b[1;32mif\u001b[0m \u001b[1;32mnot\u001b[0m \u001b[0m_unique_labels\u001b[0m\u001b[1;33m:\u001b[0m\u001b[1;33m\u001b[0m\u001b[1;33m\u001b[0m\u001b[0m\n\u001b[1;32m---> 98\u001b[1;33m         \u001b[1;32mraise\u001b[0m \u001b[0mValueError\u001b[0m\u001b[1;33m(\u001b[0m\u001b[1;34m\"Unknown label type: %s\"\u001b[0m \u001b[1;33m%\u001b[0m \u001b[0mrepr\u001b[0m\u001b[1;33m(\u001b[0m\u001b[0mys\u001b[0m\u001b[1;33m)\u001b[0m\u001b[1;33m)\u001b[0m\u001b[1;33m\u001b[0m\u001b[1;33m\u001b[0m\u001b[0m\n\u001b[0m\u001b[0;32m     99\u001b[0m \u001b[1;33m\u001b[0m\u001b[0m\n\u001b[0;32m    100\u001b[0m     \u001b[0mys_labels\u001b[0m \u001b[1;33m=\u001b[0m \u001b[0mset\u001b[0m\u001b[1;33m(\u001b[0m\u001b[0mchain\u001b[0m\u001b[1;33m.\u001b[0m\u001b[0mfrom_iterable\u001b[0m\u001b[1;33m(\u001b[0m\u001b[0m_unique_labels\u001b[0m\u001b[1;33m(\u001b[0m\u001b[0my\u001b[0m\u001b[1;33m)\u001b[0m \u001b[1;32mfor\u001b[0m \u001b[0my\u001b[0m \u001b[1;32min\u001b[0m \u001b[0mys\u001b[0m\u001b[1;33m)\u001b[0m\u001b[1;33m)\u001b[0m\u001b[1;33m\u001b[0m\u001b[1;33m\u001b[0m\u001b[0m\n",
      "\u001b[1;31mValueError\u001b[0m: Unknown label type: (array([-0.54, -0.54,  0.  ,  0.18, -0.3 ,  0.  ,  0.  ,  0.  ,  0.  ,\n       -0.32,  0.18,  0.  ,  0.59,  0.  ,  0.65,  0.  ,  0.  ,  0.48,\n       -0.54,  0.  ,  0.86,  0.15,  0.  ,  0.18,  0.4 , -0.48, -0.1 ,\n       -0.23,  0.78, -0.13,  0.53,  0.  ,  0.  ,  0.15,  0.88,  0.  ,\n        0.34,  0.53,  0.4 ,  0.  ,  0.  ,  0.  ,  0.18,  0.36,  0.  ,\n        0.76, -0.34,  0.34, -0.59,  0.2 ,  0.61,  0.  ,  0.  ,  0.  ,\n        0.  ,  0.  ,  0.54,  0.  ,  0.  ,  0.  ,  0.38,  0.18,  0.18,\n       -0.57,  0.  ,  0.59,  0.18,  0.  ,  0.1 ,  0.6 ,  0.  ,  0.  ,\n        0.18,  0.  , -0.2 ,  0.28,  0.  ,  0.  ,  0.  ,  0.  ,  0.  ,\n       -0.6 ,  0.42, -0.62,  0.4 ,  0.2 , -0.65,  0.2 ,  0.2 ,  0.  ,\n        0.32,  0.15, -0.59,  0.64,  0.  , -0.23,  0.  ,  0.  ,  0.48,\n       -0.2 ,  0.  ,  0.18,  0.  ,  0.  ,  0.  ,  0.  ,  0.  , -0.15,\n        0.71,  0.4 ,  0.18,  0.  ,  0.  ,  0.34,  0.  , -0.1 ,  0.  ,\n        0.  ,  0.2 ,  0.49,  0.05,  0.  ,  0.88,  0.15,  0.  ,  0.  ,\n        0.18,  0.61,  0.18,  0.27,  0.54,  0.3 ,  0.  ,  0.78,  0.  ,\n        0.  ,  0.  ,  0.  ,  0.51,  0.49,  0.  ,  0.4 ,  0.23,  0.  ,\n        0.  ,  0.  , -0.13,  0.  ,  0.  ,  0.  ,  0.18, -0.6 ,  0.05,\n        0.  ,  0.62,  0.  ,  0.18,  0.  ,  0.53, -0.33,  0.38,  0.72,\n        0.  ,  0.  , -0.48,  0.  ,  0.  ,  0.  , -0.51, -0.03,  0.18,\n        0.  ,  0.34,  0.34,  0.61,  0.  ,  0.  ,  0.63,  0.61, -0.83,\n        0.48,  0.51,  0.  , -0.37,  0.  ,  0.  , -0.3 ,  0.  ,  0.  ,\n        0.38,  0.03, -0.32, -0.32,  0.  ,  0.  ,  0.42,  0.  ,  0.  ,\n        0.53,  0.  ,  0.  ,  0.  ,  0.51,  0.15,  0.64,  0.  ,  0.  ,\n        0.34,  0.  ,  0.  ,  0.3 ,  0.18,  0.  ,  0.  , -0.1 ,  0.2 ,\n        0.18,  0.  ,  0.18, -0.01,  0.  ,  0.25,  0.36,  0.  ,  0.62,\n        0.  ,  0.  ,  0.  ,  0.34, -0.4 ,  0.  ,  0.15,  0.  ,  0.18,\n        0.  ,  0.  ,  0.  ,  0.  , -0.23, -0.38,  0.  ,  0.  ,  0.  ,\n        0.51,  0.  , -0.37, -0.4 ,  0.  ,  0.18,  0.08,  0.  ,  0.42,\n        0.64,  0.  ,  0.  ,  0.  ,  0.05,  0.27,  0.  ,  0.  ,  0.48,\n        0.  ,  0.34,  0.  ,  0.53, -0.27, -0.34,  0.  ,  0.  ,  0.  ,\n        0.38,  0.  ,  0.  ,  0.38,  0.49, -0.57,  0.  ,  0.18, -0.05,\n        0.51,  0.  , -0.34,  0.  ,  0.  , -0.32,  0.  ,  0.  ,  0.42,\n        0.  ,  0.  ,  0.  ,  0.3 ,  0.18, -0.33, -0.32,  0.  ,  0.53,\n        0.  ,  0.32,  0.  ,  0.44,  0.  ,  0.  ,  0.4 ,  0.46,  0.64,\n        0.38,  0.  , -0.13,  0.79, -0.44,  0.  ,  0.  ,  0.  ,  0.49,\n        0.18, -0.08, -0.37,  0.  ,  0.18]),)"
     ]
    }
   ],
   "source": [
    "from sklearn.naive_bayes import MultinomialNB  # Naive Bayes Classifier\n",
    "\n",
    "model_naive = MultinomialNB().fit(F_train, m_train) \n",
    "predicted_naive = model_naive.predict(F_test)"
   ]
  },
  {
   "cell_type": "code",
   "execution_count": null,
   "metadata": {},
   "outputs": [],
   "source": [
    "from sklearn.metrics import confusion_matrix\n",
    "\n",
    "plt.figure(dpi=600)\n",
    "mat = confusion_matrix(m_test, predicted_naive)\n",
    "sns.heatmap(mat.T, annot=True, fmt='d', cbar=False)\n",
    "\n",
    "plt.title('Confusion Matrix for Naive Bayes')\n",
    "plt.xlabel('true label')\n",
    "plt.ylabel('predicted label')\n",
    "plt.savefig(\"confusion_matrix.png\")\n",
    "plt.show()"
   ]
  },
  {
   "cell_type": "code",
   "execution_count": null,
   "metadata": {},
   "outputs": [],
   "source": [
    "from sklearn.metrics import accuracy_score\n",
    "\n",
    "score_naive = accuracy_score(predicted_naive, m_test)\n",
    "print(\"Accuracy with Naive-bayes: \",score_naive)"
   ]
  }
 ],
 "metadata": {
  "interpreter": {
   "hash": "247ab06e135bb35fa78c5eff31b2a9a0050dcb5fb773c2631d2a29ac689eeccb"
  },
  "kernelspec": {
   "display_name": "Python 3.9.7 64-bit",
   "name": "python3"
  },
  "language_info": {
   "codemirror_mode": {
    "name": "ipython",
    "version": 3
   },
   "file_extension": ".py",
   "mimetype": "text/x-python",
   "name": "python",
   "nbconvert_exporter": "python",
   "pygments_lexer": "ipython3",
   "version": "3.9.7"
  }
 },
 "nbformat": 4,
 "nbformat_minor": 2
}
