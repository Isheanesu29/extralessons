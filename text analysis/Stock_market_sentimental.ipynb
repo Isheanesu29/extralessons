{
    "cells": [
        {
            "cell_type": "code",
            "execution_count": null,
            "source": [
                "from urllib.request import urlopen, Request\r\n",
                "from bs4 import BeautifulSoup\r\n",
                "from nltk.sentiment.vader import SentimentIntensityAnalyzer\r\n",
                "import pandas as pd\r\n",
                "import matplotlib.pyplot as plt\r\n",
                "import nltk\r\n",
                "nltk.downloader.download('vader_lexicon')"
            ],
            "outputs": [],
            "metadata": {}
        },
        {
            "cell_type": "code",
            "execution_count": null,
            "source": [
                "finviz_url = 'https://finviz.com/quote.ashx?t='\r\n",
                "Companies = ['AMZN', 'GOOG', 'FB'] # stock companies\r\n",
                "\r\n",
                "news_tables = {} # Declare empty dictionary to store results from finviz"
            ],
            "outputs": [],
            "metadata": {}
        },
        {
            "cell_type": "code",
            "execution_count": null,
            "source": [
                "for company in Companies:\r\n",
                "    url = finviz_url + company # so it's going to loop first and get the company and url and then page and then comments from people after it will go back and take another company like GOOG\r\n",
                "    req = Request(url=url, headers={'user-agent':'my-app'}) # Specify headers or else access will be denied\r\n",
                "    response = urlopen(req)\r\n",
                "    soup = BeautifulSoup(response,features='html.parser')\r\n",
                "    news_table = soup.find(id='news-table')\r\n",
                "    news_tables.update({company:news_table})\r\n",
                "\r\n",
                "\r\n",
                "# print(news_tables)\r\n"
            ],
            "outputs": [],
            "metadata": {}
        },
        {
            "cell_type": "code",
            "execution_count": null,
            "source": [
                "parsed_data = []\r\n",
                "\r\n",
                "for company, news_table in news_tables.items(): # this will go through the keys we created above, company and texts\r\n",
                "    for row in news_table.find_all('tr'): # the text in in tr, inorder to get all text we need to write find_all if we say find we will get  only tr\r\n",
                "        comment = row.a.text\r\n",
                "        date_data = row.td.text.split(' ')\r\n",
                "        if len(date_data) == 1:\r\n",
                "            time = date_data[0]\r\n",
                "        else:\r\n",
                "            date = date_data[0]\r\n",
                "            time = date_data[1]\r\n",
                "        parsed_data.append([company,date,time,comment])\r\n",
                "\r\n",
                "        \r\n",
                "# print(parsed_data)"
            ],
            "outputs": [],
            "metadata": {}
        },
        {
            "cell_type": "code",
            "execution_count": null,
            "source": [
                "\r\n",
                "df = pd.DataFrame(parsed_data, columns=['Company','Date','Time','Comments'])\r\n",
                "# Analyse your text\r\n",
                "vader = SentimentIntensityAnalyzer()\r\n",
                "\r\n",
                "# print(df)"
            ],
            "outputs": [],
            "metadata": {}
        },
        {
            "cell_type": "code",
            "execution_count": null,
            "source": [
                "function = lambda x: vader.polarity_scores(x)['compound']\r\n",
                "# We want to loop through our comments column\r\n",
                "df['Compound'] = df['Comments'].apply(function) #The compound score is the sum of positive, negative & neutral scores which is then normalized between -1(most extreme negative) and +1 (most extreme positive). The more Compound score closer to +1, the higher the positivity of the text. Above text is 49.2% Positive, 0% Negative, 50.8% Neutral\r\n",
                "# Convert date column to date time\r\n",
                "df['Date'] = pd.to_datetime(df.Date).dt.date\r\n",
                "\r\n",
                "\r\n",
                "\r\n",
                "# print(vader.polarity_scores('I hate eating cheese'))\r\n",
                "print(df)"
            ],
            "outputs": [],
            "metadata": {}
        },
        {
            "cell_type": "code",
            "execution_count": null,
            "source": [
                "plt.figure(figsize=(6,8))\r\n",
                "# Using groupby makes us to have one date entry\r\n",
                "mean_df = df.groupby(['Company','Date']).mean()\r\n",
                "#print(mean_df)\r\n",
                "\r\n",
                "# Allow us to have date as x-axis\r\n",
                "mean_df = mean_df.unstack()\r\n",
                "# Remove compound column\r\n",
                "mean_df = mean_df.xs('Compound', axis='columns').transpose()\r\n",
                "mean_df.plot(kind='bar')\r\n",
                "plt.show()\r\n",
                "#print(mean_df)"
            ],
            "outputs": [],
            "metadata": {}
        }
    ],
    "metadata": {
        "orig_nbformat": 4,
        "language_info": {
            "name": "python",
            "version": "3.9.5",
            "mimetype": "text/x-python",
            "codemirror_mode": {
                "name": "ipython",
                "version": 3
            },
            "pygments_lexer": "ipython3",
            "nbconvert_exporter": "python",
            "file_extension": ".py"
        },
        "kernelspec": {
            "name": "python3",
            "display_name": "Python 3.9.5 64-bit"
        },
        "interpreter": {
            "hash": "247ab06e135bb35fa78c5eff31b2a9a0050dcb5fb773c2631d2a29ac689eeccb"
        }
    },
    "nbformat": 4,
    "nbformat_minor": 2
}