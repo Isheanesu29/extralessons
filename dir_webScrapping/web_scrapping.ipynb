{
    "cells": [
        {
            "cell_type": "code",
            "execution_count": null,
            "source": [
                "import pandas as pd \r\n",
                "from bs4 import BeautifulSoup\r\n",
                "import requests as rq\r\n",
                "import csv\r\n",
                "\r\n",
                "\r\n",
                "html_output = rq.get('http://forecast.weather.gov/MapClick.php?lat=37.7772&lon=-122.4168')\r\n",
                "soup = BeautifulSoup(html_output.text,'html.parser')\r\n",
                "print(soup.prettify())\r\n"
            ],
            "outputs": [],
            "metadata": {}
        },
        {
            "cell_type": "code",
            "execution_count": null,
            "source": [
                "# Get only first a tag\r\n",
                "\r\n",
                "a_tags = soup.find('a')\r\n",
                "print(a_tags)\r\n"
            ],
            "outputs": [],
            "metadata": {}
        },
        {
            "cell_type": "code",
            "execution_count": null,
            "source": [
                "# Get all a tags\r\n",
                "a_tags = soup.find_all('a')\r\n",
                "for x in a_tags:\r\n",
                "    print(x)"
            ],
            "outputs": [],
            "metadata": {}
        },
        {
            "cell_type": "code",
            "execution_count": null,
            "source": [
                "a_tags = soup.find_all('a')\r\n",
                "for x in a_tags:\r\n",
                "    print(x.get_text())"
            ],
            "outputs": [],
            "metadata": {}
        },
        {
            "cell_type": "code",
            "execution_count": null,
            "source": [
                "class_tags = soup.find('main',{'class':'container'})\r\n",
                "print(class_tags)"
            ],
            "outputs": [],
            "metadata": {}
        },
        {
            "cell_type": "code",
            "execution_count": null,
            "source": [
                "# Get all b tags\r\n",
                "\r\n",
                "b_tags = soup.find_all('b')\r\n",
                "for x in b_tags:\r\n",
                "    print(x.get_text())"
            ],
            "outputs": [],
            "metadata": {}
        },
        {
            "cell_type": "code",
            "execution_count": null,
            "source": [
                "# Print tags that are repeated in html dom\r\n",
                "# we can access tags as attributes \r\n",
                "\r\n",
                "seven_day = soup.find('div',{'id':'seven-day-forecast-body'})\r\n",
                "forcast = seven_day.find_all('li',{'class':'forecast-tombstone'})\r\n",
                "days = [item.find('p',{'class':'period-name'}).get_text() for item in forcast]\r\n",
                "descri = [item.find('p',{'class':'short-desc'}).get_text() for item in forcast]\r\n",
                "temp = [item.find('p',{'class':'temp'}).get_text() for item in forcast]\r\n",
                "# print(descri)\r\n",
                "print(temp)"
            ],
            "outputs": [],
            "metadata": {}
        },
        {
            "cell_type": "code",
            "execution_count": null,
            "source": [
                "meta_tag = soup.find_all('meta')\r\n",
                "for mtag in meta_tag:\r\n",
                "    cities = mtag['name']\r\n",
                "    print(cities)"
            ],
            "outputs": [],
            "metadata": {}
        },
        {
            "cell_type": "code",
            "execution_count": 1,
            "source": [
                "with open('scrapping.csv','w') as csv_file:\r\n",
                "    csv_writer = csv.writer(csv_file)\r\n",
                "    csv_writer.writerow(['Period', 'Description','Temperature']) # we are writting the columns or giving name to the columns\r\n",
                "    csv_writer.writerow([days,descri,temp])"
            ],
            "outputs": [
                {
                    "output_type": "error",
                    "ename": "NameError",
                    "evalue": "name 'csv' is not defined",
                    "traceback": [
                        "\u001b[1;31m---------------------------------------------------------------------------\u001b[0m",
                        "\u001b[1;31mNameError\u001b[0m                                 Traceback (most recent call last)",
                        "\u001b[1;32m~\\AppData\\Local\\Temp/ipykernel_12532/1741222055.py\u001b[0m in \u001b[0;36m<module>\u001b[1;34m\u001b[0m\n\u001b[0;32m      1\u001b[0m \u001b[1;32mwith\u001b[0m \u001b[0mopen\u001b[0m\u001b[1;33m(\u001b[0m\u001b[1;34m'scrapping.csv'\u001b[0m\u001b[1;33m,\u001b[0m\u001b[1;34m'w'\u001b[0m\u001b[1;33m)\u001b[0m \u001b[1;32mas\u001b[0m \u001b[0mcsv_file\u001b[0m\u001b[1;33m:\u001b[0m\u001b[1;33m\u001b[0m\u001b[1;33m\u001b[0m\u001b[0m\n\u001b[1;32m----> 2\u001b[1;33m     \u001b[0mcsv_writer\u001b[0m \u001b[1;33m=\u001b[0m \u001b[0mcsv\u001b[0m\u001b[1;33m.\u001b[0m\u001b[0mwriter\u001b[0m\u001b[1;33m(\u001b[0m\u001b[0mcsv_file\u001b[0m\u001b[1;33m)\u001b[0m\u001b[1;33m\u001b[0m\u001b[1;33m\u001b[0m\u001b[0m\n\u001b[0m\u001b[0;32m      3\u001b[0m     \u001b[0mcsv_writer\u001b[0m\u001b[1;33m.\u001b[0m\u001b[0mwriterow\u001b[0m\u001b[1;33m(\u001b[0m\u001b[1;33m[\u001b[0m\u001b[1;34m'Period'\u001b[0m\u001b[1;33m,\u001b[0m \u001b[1;34m'Description'\u001b[0m\u001b[1;33m,\u001b[0m\u001b[1;34m'Temperature'\u001b[0m\u001b[1;33m]\u001b[0m\u001b[1;33m)\u001b[0m \u001b[1;31m# we are writting the columns or giving name to the columns\u001b[0m\u001b[1;33m\u001b[0m\u001b[1;33m\u001b[0m\u001b[0m\n\u001b[0;32m      4\u001b[0m     \u001b[0mcsv_writer\u001b[0m\u001b[1;33m.\u001b[0m\u001b[0mwriterow\u001b[0m\u001b[1;33m(\u001b[0m\u001b[1;33m[\u001b[0m\u001b[0mdays\u001b[0m\u001b[1;33m,\u001b[0m\u001b[0mdescri\u001b[0m\u001b[1;33m,\u001b[0m\u001b[0mtemp\u001b[0m\u001b[1;33m]\u001b[0m\u001b[1;33m)\u001b[0m\u001b[1;33m\u001b[0m\u001b[1;33m\u001b[0m\u001b[0m\n",
                        "\u001b[1;31mNameError\u001b[0m: name 'csv' is not defined"
                    ]
                }
            ],
            "metadata": {}
        }
    ],
    "metadata": {
        "orig_nbformat": 4,
        "language_info": {
            "name": "python",
            "version": "3.9.5",
            "mimetype": "text/x-python",
            "codemirror_mode": {
                "name": "ipython",
                "version": 3
            },
            "pygments_lexer": "ipython3",
            "nbconvert_exporter": "python",
            "file_extension": ".py"
        },
        "kernelspec": {
            "name": "python3",
            "display_name": "Python 3.9.5 64-bit"
        },
        "interpreter": {
            "hash": "247ab06e135bb35fa78c5eff31b2a9a0050dcb5fb773c2631d2a29ac689eeccb"
        }
    },
    "nbformat": 4,
    "nbformat_minor": 2
}