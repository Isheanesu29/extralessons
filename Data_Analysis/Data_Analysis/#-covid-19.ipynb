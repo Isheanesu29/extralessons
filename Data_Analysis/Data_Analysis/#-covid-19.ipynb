{
    "cells": [
        {
            "cell_type": "code",
            "execution_count": 11,
            "metadata": {},
            "outputs": [],
            "source": [
                "import tweepy\n",
                "import webbrowser\n",
                "from tweepy import Stream\n",
                "#from tweepy.streaming import StreamListener\n",
                "from tweepy import Cursor\n",
                "from tweepy import API\n",
                "import pandas as pd\n",
                "import numpy as np\n",
                "import re\n",
                "from textblob import Word, TextBlob\n",
                "import matplotlib.pyplot as plt\n",
                "import json\n",
                "# from wordcloud import WordCloud"
            ]
        },
        {
            "cell_type": "code",
            "execution_count": 12,
            "metadata": {},
            "outputs": [],
            "source": [
                "# We shall be analysing tweets with respect to presidential debate\n",
                "\n",
                "with open('data/manager.json') as f:\n",
                "    data = json.load(f)\n",
                "    consumer_key = data['API_key']\n",
                "    consumer_secret = data['API_secret_Key']\n",
                "    Bearer_Token = data['Bearer_Token']\n",
                "\n",
                "\n",
                "callback_url= 'oob'\n",
                "auth= tweepy.OAuthHandler(consumer_key,consumer_secret,callback_url) # Authenticate our User\n",
                "redirect_url = auth.get_authorization_url() # Get URL to direct user\n",
                "# print(redirect_url)\n",
                "webbrowser.open(redirect_url)\n",
                "user_pint_input = input (\"What's the pin value? \")\n",
                "user_pint_input\n",
                "auth.get_access_token(user_pint_input)\n",
                "api= tweepy.API(auth, wait_on_rate_limit=True)\n",
                "#me = api.me()"
            ]
        },
        {
            "cell_type": "code",
            "execution_count": 28,
            "metadata": {},
            "outputs": [
                {
                    "name": "stderr",
                    "output_type": "stream",
                    "text": [
                        "Rate limit reached. Sleeping for: 272\n"
                    ]
                }
            ],
            "source": [
                "# Setting up tweeter handler\n",
                "\n",
                "hashtag = '#covid-19'\n",
                "query = tweepy.Cursor(api.search_tweets, q=hashtag,lang='en').items(10000)  # The search method will help us search\n",
                "# print(dir(query)) \n",
                "tweets = [ {'Tweets':tweet.text, 'Timestamp':tweet.created_at} for tweet in query]\n",
                "print(tweets)"
            ]
        },
        {
            "cell_type": "code",
            "execution_count": 14,
            "metadata": {},
            "outputs": [
                {
                    "name": "stdout",
                    "output_type": "stream",
                    "text": [
                        "['__class__', '__delattr__', '__dict__', '__dir__', '__doc__', '__eq__', '__format__', '__ge__', '__getattribute__', '__gt__', '__hash__', '__init__', '__init_subclass__', '__iter__', '__le__', '__lt__', '__module__', '__ne__', '__new__', '__next__', '__reduce__', '__reduce_ex__', '__repr__', '__setattr__', '__sizeof__', '__str__', '__subclasshook__', '__weakref__', 'current_page', 'limit', 'next', 'num_tweets', 'page_index', 'page_iterator', 'prev']\n"
                    ]
                }
            ],
            "source": [
                "print(dir(query)) "
            ]
        },
        {
            "cell_type": "code",
            "execution_count": 27,
            "metadata": {},
            "outputs": [
                {
                    "name": "stdout",
                    "output_type": "stream",
                    "text": [
                        "                                                Tweets  \\\n",
                        "0    Iran 🇮🇷 COVID-19 current stats for Sat Oct 30 ...   \n",
                        "1    Biden.\\nGeneral Mark Milley.\\nNancy Pelosi.\\nT...   \n",
                        "2    RT @wilfredsolomons: BREAKING NEWS:  @CityofCT...   \n",
                        "3    RT @SabiVM: SIX reasons for getting kids 5-11 ...   \n",
                        "4    RT @craigstewart101: The Republic of Ireland h...   \n",
                        "..                                                 ...   \n",
                        "995  RT @thehouseofpod: My perfectly healthy father...   \n",
                        "996  How does COVID-19 compare to some of history's...   \n",
                        "997  RT @rising_serpent: Notice how the CDC uses te...   \n",
                        "998  Monterey High School cancels weekend events af...   \n",
                        "999  [763] #Venezia Become one of the #happy few fr...   \n",
                        "\n",
                        "                    Timestamp  \n",
                        "0   2021-10-30 18:10:39+00:00  \n",
                        "1   2021-10-30 18:10:39+00:00  \n",
                        "2   2021-10-30 18:10:39+00:00  \n",
                        "3   2021-10-30 18:10:38+00:00  \n",
                        "4   2021-10-30 18:10:38+00:00  \n",
                        "..                        ...  \n",
                        "995 2021-10-30 18:02:07+00:00  \n",
                        "996 2021-10-30 18:02:07+00:00  \n",
                        "997 2021-10-30 18:02:06+00:00  \n",
                        "998 2021-10-30 18:02:05+00:00  \n",
                        "999 2021-10-30 18:02:05+00:00  \n",
                        "\n",
                        "[1000 rows x 2 columns]\n"
                    ]
                }
            ],
            "source": [
                "# Import tweets into a data frame\n",
                "# convert dictionary to list\n",
                "tweets = list(tweets) \n",
                "df = pd.DataFrame(tweets, columns=['Tweets','Timestamp'])\n",
                "print(df)"
            ]
        },
        {
            "cell_type": "code",
            "execution_count": 16,
            "metadata": {},
            "outputs": [],
            "source": [
                "\n",
                "# Cleaning tweets\n",
                "def clean_text(raw_text):\n",
                "    raw_text = re.sub(r'@[A-Za-z0-9]+','',raw_text) # Remove all @mentions and numbers\n",
                "    raw_text = re.sub(r'#','',raw_text) # Remove the # symbol\n",
                "    raw_text = re.sub(r'RT[\\s]+','',raw_text) # Removing the RT\n",
                "    raw_text = re.sub(r'https?:\\/\\/\\S+','',raw_text) # Remove hyper links\n",
                "    raw_text = re.sub(r':','',raw_text)\n",
                "    raw_text = re.sub(r'_','',raw_text)\n",
                "    raw_text = re.sub(r'\\n\\n','',raw_text)\n",
                "    raw_text = re.sub(r'--&','',raw_text)\n",
                "    raw_text = re.sub(r'\\n','',raw_text)\n",
                "    return raw_text\n",
                "\n",
                "df['Tweets'] = df['Tweets'].apply(clean_text)\n",
                "\n",
                "# print(df)\n",
                "#print(df.shape)"
            ]
        },
        {
            "cell_type": "code",
            "execution_count": 17,
            "metadata": {},
            "outputs": [],
            "source": [
                "# Remove emorjis\n",
                "def removeEmojify(text):\n",
                "    regrex_pattern = re.compile(pattern = \"[\"\n",
                "        u\"\\U0001F600-\\U0001F64F\"  # emoticons\n",
                "        u\"\\U0001F300-\\U0001F5FF\"  # symbols & pictographs\n",
                "        u\"\\U0001F680-\\U0001F6FF\"  # transport & map symbols\n",
                "        u\"\\U0001F1E0-\\U0001F1FF\"  # flags (iOS)\n",
                "                           \"]+\", flags = re.UNICODE)\n",
                "    return regrex_pattern.sub(r'',text)\n",
                "\n",
                "df['Tweets'] = df['Tweets'].apply(removeEmojify)\n",
                "\n",
                "# print(df)"
            ]
        },
        {
            "cell_type": "code",
            "execution_count": 18,
            "metadata": {},
            "outputs": [],
            "source": [
                "# Plot the word cloud\n",
                "# allword = ' '.join([twts for twts in df['Tweets']])\n",
                "# wordCloud = WordCloud(width = 500, height = 300, random_state = 21, max_font_size = 119).generate(allword)\n",
                "# plt.imshow(wordCloud, interpolation='bilinear')\n",
                "# plt.axis('off')\n",
                "# plt.show()"
            ]
        },
        {
            "cell_type": "code",
            "execution_count": 19,
            "metadata": {},
            "outputs": [],
            "source": [
                "# Subjectivity and the polarity\n",
                "\n",
                "# How much a piece of text is based on emotion or how objective or subjective it is ranging from 0 to 1\n",
                "def getSubjectivity(text):\n",
                "    return TextBlob(text).sentiment.subjectivity\n",
                "\n",
                "# How positive or negative something is ranging from -1 to 1\n",
                "def getPolarity(text): \n",
                "    return TextBlob(text).sentiment.polarity\n",
                "\n",
                "df['Subjectivity'] = df['Tweets'].apply(getSubjectivity)\n",
                "df['Polarity'] = df['Tweets'].apply(getPolarity)\n",
                "\n",
                "# print(df)"
            ]
        },
        {
            "cell_type": "code",
            "execution_count": 20,
            "metadata": {},
            "outputs": [],
            "source": [
                "# Create a new function to compute negative, neutral and positive analysis\n",
                "\n",
                "def getAnalysys(score):\n",
                "        if score<0:\n",
                "            return 'Negative'\n",
                "        elif score==0:\n",
                "            return 'Neutral'\n",
                "        else:\n",
                "            return 'Positive'\n",
                "\n",
                "df['Analysis'] = df['Polarity'].apply(getAnalysys)\n",
                "\n",
                "# print(df)"
            ]
        },
        {
            "cell_type": "code",
            "execution_count": 21,
            "metadata": {},
            "outputs": [],
            "source": [
                " # print all positive tweets\n",
                "# print('*****Positive Tweets*****')\n",
                "j = 1\n",
                "sortedDF = df.sort_values(by=['Polarity']) # sorts value by polarity\n",
                "for i in range(0,sortedDF.shape[0]): # looping through number of rows\n",
                "    if (sortedDF['Analysis'][i]=='Positive'): # print if Analysis column is positive\n",
                "            # print(str(j) + ')'+ sortedDF['Tweets'][i])\n",
                "            # print()\n",
                "            j +=1"
            ]
        },
        {
            "cell_type": "code",
            "execution_count": 22,
            "metadata": {},
            "outputs": [],
            "source": [
                "# print all negative tweets\n",
                "# print('*****Negative Tweets*****')\n",
                "j = 1\n",
                "sortedDF = df.sort_values(by=['Polarity'], ascending='False')\n",
                "for i in range(0,sortedDF.shape[0]):\n",
                "     if (sortedDF['Analysis'][i]=='Negative'):\n",
                "            # print(str(j) + ')'+ sortedDF['Tweets'][i])\n",
                "            # print()\n",
                "            j +=1"
            ]
        },
        {
            "cell_type": "code",
            "execution_count": 23,
            "metadata": {},
            "outputs": [
                {
                    "data": {
                        "image/png": "[encoded data removed]",
                        "text/plain": [
                            "<Figure size 576x432 with 1 Axes>"
                        ]
                    },
                    "metadata": {
                        "needs_background": "light"
                    },
                    "output_type": "display_data"
                }
            ],
            "source": [
                "# Plot Polarity vs Subjectivity\n",
                "plt.figure(figsize=(8,6))\n",
                "for i in range(0,df.shape[0]):\n",
                "    plt.scatter(df['Polarity'][i],df['Subjectivity'][i], color='Blue')\n",
                "\n",
                "plt.title('Sentiment Analysis')\n",
                "plt.xlabel('Polarity')\n",
                "plt.ylabel('Subjectivity')\n",
                "plt.show()"
            ]
        },
        {
            "cell_type": "code",
            "execution_count": 24,
            "metadata": {},
            "outputs": [
                {
                    "name": "stdout",
                    "output_type": "stream",
                    "text": [
                        "Positive tweets %: 49.5\n",
                        "Negative tweets %: 11.5\n"
                    ]
                }
            ],
            "source": [
                "\n",
                " # Get the percentage of positive tweets\n",
                "ptweets = df[df.Analysis == 'Positive']\n",
                "ptweets = ptweets['Tweets']\n",
                "percent = round((ptweets.shape[0] / df.shape[0]) * 100, 1)\n",
                "print(f'Positive tweets %: {percent}')\n",
                "\n",
                "\n",
                "# Get the percentage of negative tweets\n",
                "ntweets = df[df.Analysis == 'Negative']\n",
                "ntweets = ntweets['Tweets']\n",
                "percent = round((ntweets.shape[0] / df.shape[0]) * 100, 1)\n",
                "print(f'Negative tweets %: {percent}')"
            ]
        },
        {
            "cell_type": "code",
            "execution_count": 25,
            "metadata": {},
            "outputs": [
                {
                    "data": {
                        "image/png": "[encoded data removed]",
                        "text/plain": [
                            "<Figure size 432x288 with 1 Axes>"
                        ]
                    },
                    "metadata": {
                        "needs_background": "light"
                    },
                    "output_type": "display_data"
                }
            ],
            "source": [
                "# Show value counts\n",
                "\n",
                "df['Analysis'].value_counts()\n",
                "\n",
                "# Plot and visualize the counts\n",
                "plt.title('Sentiment Analysis')\n",
                "plt.xlabel('Sentiment')\n",
                "plt.ylabel('Counts')\n",
                "df['Analysis'].value_counts().plot(kind='bar')\n",
                "plt.show()"
            ]
        }
    ],
    "metadata": {
        "interpreter": {
            "hash": "247ab06e135bb35fa78c5eff31b2a9a0050dcb5fb773c2631d2a29ac689eeccb"
        },
        "kernelspec": {
            "display_name": "Python 3.9.7 64-bit",
            "name": "python3"
        },
        "language_info": {
            "codemirror_mode": {
                "name": "ipython",
                "version": 3
            },
            "file_extension": ".py",
            "mimetype": "text/x-python",
            "name": "python",
            "nbconvert_exporter": "python",
            "pygments_lexer": "ipython3",
            "version": "3.9.7"
        },
        "orig_nbformat": 4
    },
    "nbformat": 4,
    "nbformat_minor": 2
}
