{
    "cells": [
        {
            "cell_type": "code",
            "execution_count": 1,
            "metadata": {},
            "outputs": [
                {
                    "name": "stderr",
                    "output_type": "stream",
                    "text": [
                        "[nltk_data] Downloading package vader_lexicon to\n",
                        "[nltk_data]     C:\\Users\\user\\AppData\\Roaming\\nltk_data...\n",
                        "[nltk_data]   Package vader_lexicon is already up-to-date!\n"
                    ]
                },
                {
                    "data": {
                        "text/plain": [
                            "True"
                        ]
                    },
                    "execution_count": 1,
                    "metadata": {},
                    "output_type": "execute_result"
                }
            ],
            "source": [
                "from urllib.request import urlopen, Request\n",
                "from bs4 import BeautifulSoup\n",
                "from nltk.sentiment.vader import SentimentIntensityAnalyzer\n",
                "import pandas as pd\n",
                "import matplotlib.pyplot as plt\n",
                "import nltk\n",
                "nltk.downloader.download('vader_lexicon')"
            ]
        },
        {
            "cell_type": "code",
            "execution_count": 2,
            "metadata": {},
            "outputs": [
                {
                    "data": {
                        "text/plain": [
                            "<Figure size 432x576 with 0 Axes>"
                        ]
                    },
                    "metadata": {},
                    "output_type": "display_data"
                },
                {
                    "data": {
                        "image/png": "[encoded data removed]",
                        "text/plain": [
                            "<Figure size 432x288 with 1 Axes>"
                        ]
                    },
                    "metadata": {
                        "needs_background": "light"
                    },
                    "output_type": "display_data"
                }
            ],
            "source": [
                "finviz_url = 'https://finviz.com/quote.ashx?t='\n",
                "Companys = ['AMZN', 'GOOG', 'FB'] # stock companies\n",
                "\n",
                "news_tables = {} # Declare empty dictionary to store results from finviz\n",
                "\n",
                "for Company in Companys:\n",
                "    url = finviz_url + Company\n",
                "    req = Request(url=url, headers={'user-agent':'my-app'}) # Specify headers or else access will be denied\n",
                "    response = urlopen(req)\n",
                "    soup = BeautifulSoup(response,features='html.parser')\n",
                "    news_table = soup.find(id='news-table')\n",
                "    # We get table rows\n",
                "    # We get text on on td tag\n",
                "    # We get time stamp on tr tag\n",
                "    news_tables.update({Company:news_table}) # Key ticker (Company name) and value news_table\n",
                "    \n",
                "\n",
                "parsed_data = [] # Instantiate new list object\n",
                "\n",
                "for Company, news_table in news_tables.items(): # This will iterate over all keys and values using the .tems() function\n",
                "    for row in news_table.find_all('tr'):\n",
                "        Comments = row.a.text\n",
                "        date_data = row.td.text.split(' ') # Split date with space \n",
                "        # If loop to determine if date is made of 1 or 2 indexes\n",
                "        if len(date_data)==1:\n",
                "            time = date_data[0]\n",
                "        else:\n",
                "            date = date_data[0]\n",
                "            time = date_data[1]\n",
                "        parsed_data.append([Company,date,time,Comments])\n",
                "\n",
                "    \n",
                "\n",
                "# print(parsed_data) remember the parsed data is a list of lists\n",
                "\n",
                "df = pd.DataFrame(parsed_data, columns=['Company','Date','Time','Comments'])\n",
                "# Analyse your text\n",
                "vader = SentimentIntensityAnalyzer()\n",
                "# When we run polarity, we get a couple of key values from the result dictionary\n",
                "# 'neg', 'neu', 'pos', 'compound'\n",
                "# We can pull out what ever we want to analyse from this dictionary\n",
                "# Create a function and get just the compound score\n",
                "# Then use the apply function to run this function\n",
                "function = lambda x: vader.polarity_scores(x)['compound']\n",
                "# We want to loop through our comments column\n",
                "df['Compound'] = df['Comments'].apply(function)\n",
                "# Convert date column to date time\n",
                "df['Date'] = pd.to_datetime(df.Date).dt.date\n",
                "\n",
                "\n",
                "plt.figure(figsize=(6,8))\n",
                "# Using groupby makes us to have one date entry\n",
                "mean_df = df.groupby(['Company','Date']).mean()\n",
                "# Allow us to have date as x-axis\n",
                "mean_df = mean_df.unstack()\n",
                "# Remove compound column\n",
                "mean_df = mean_df.xs('Compound', axis='columns').transpose()\n",
                "mean_df.plot(kind='bar')\n",
                "plt.show()\n",
                "# print(mean_df)"
            ]
        },
        {
            "cell_type": "code",
            "execution_count": 3,
            "metadata": {},
            "outputs": [
                {
                    "name": "stdout",
                    "output_type": "stream",
                    "text": [
                        "     Compound                                           Comments\n",
                        "201    0.3612  Which Social-Media Networks Do Teens Like the ...\n",
                        "207    0.6369   These Are The 5 Best Stocks To Buy And Watch Now\n",
                        "212    0.4404            Why Facebook Is a Better Buy Than Apple\n",
                        "213    0.4019  UPDATE 1-Philippine Nobel winner Ressa calls F...\n",
                        "214    0.4019  Philippine Nobel winner Ressa calls Facebook \"...\n",
                        "216    0.3612  Teens Like Snapchat and TikTok. Facebook? Exce...\n",
                        "217    0.3612  Facebook apologizes for second outage in a wee...\n",
                        "220    0.2023  Stock Market Rally Attempt Faces Resistance; O...\n",
                        "224    0.3612  UPDATE 3-Facebook apologizes for second outage...\n",
                        "225    0.3612  Facebook apologizes for second outage in a wee...\n",
                        "229    0.0516  INVESTIGATION REMINDER: The Schall Law Firm An...\n",
                        "230    0.6874  FB INVESTOR ALERT: ROSEN, A TOP RANKED LAW FIR...\n",
                        "232    0.3818  UPDATE 1-Lawmakers: FTC must ensure tech compa...\n",
                        "233    0.3818  Lawmakers: FTC must ensure tech companies upho...\n",
                        "234    0.8910  Maria Ressas Nobel peace prize win is an indic...\n",
                        "235    0.3818  Market Sell-Off: 2 Monster Growth Stocks to Bu...\n",
                        "237    0.4215  Public Investment Fund: Meet the new Saudi own...\n",
                        "251    0.2023                          Top Facebook Shareholders\n",
                        "263    0.3818  Messaging apps Signal and Telegram say they ga...\n",
                        "266    0.4215  Facebook outage, whistleblower presents buying...\n",
                        "269    0.4404  Facebook Exec: Regulation is a big part of get...\n",
                        "270    0.4404  Facebook is putting its profits ahead of peopl...\n",
                        "284    0.3818  Facebook Outage Prompts South Africa to Promot...\n",
                        "287    0.5859  Snapchat Was the Biggest Winner the Day Facebo...\n",
                        "288    0.1451  Zuckerberg Responds to Claims That Facebook Pr...\n",
                        "292    0.3775  Facebook wont get in trouble for putting profi...\n",
                        "297    0.2960  Facebooks 6-hour outage highlights how vital t...\n"
                    ]
                }
            ],
            "source": [
                "\n",
                "# Getting subset\n",
                "results = df.loc[(df['Company'] =='FB') & (df['Compound'] > 0) ,['Compound','Comments']]\n",
                "print(results)"
            ]
        },
        {
            "cell_type": "code",
            "execution_count": 4,
            "metadata": {},
            "outputs": [
                {
                    "name": "stdout",
                    "output_type": "stream",
                    "text": [
                        "     Compound                                           Comments Company\n",
                        "100   -0.3182  UPDATE 2-Facebook-backed group launches misinf...    GOOG\n",
                        "101   -0.1531  Dow Jones Futures: Market Rally Is At Inflecti...    GOOG\n",
                        "102    0.6369  These Are The Best Robinhood Stocks To Buy Or ...    GOOG\n",
                        "103   -0.3182  Facebook-backed group launches misinformation ...    GOOG\n",
                        "104   -0.3182  Facebook-backed group launches misinformation ...    GOOG\n",
                        "..        ...                                                ...     ...\n",
                        "295    0.0000  Senator Warren on Powell as Fed Chair, Stablec...      FB\n",
                        "296    0.0000  Facebook Outage Is Felt Acutely by Small-Busin...      FB\n",
                        "297    0.2960  Facebooks 6-hour outage highlights how vital t...      FB\n",
                        "298   -0.4215  Facebook Hearing Elevates Washington's Distrus...      FB\n",
                        "299   -0.0258  Dow Jones Gains As Apple Pops; Schumer Makes T...      FB\n",
                        "\n",
                        "[200 rows x 3 columns]\n"
                    ]
                }
            ],
            "source": [
                "# Using query method\n",
                "\n",
                "df = df[['Compound','Comments','Company']].query(\"Company==['FB','GOOG']\")\n",
                "df.to_csv('data/example.csv')\n",
                "print(df)"
            ]
        },
        {
            "cell_type": "code",
            "execution_count": 5,
            "metadata": {},
            "outputs": [
                {
                    "data": {
                        "text/plain": [
                            "Goku       high\n",
                            "Vegeta     high\n",
                            "Nappa       med\n",
                            "Gohan       low\n",
                            "Piccolo     med\n",
                            "Tien        low\n",
                            "Yamcha      low\n",
                            "Krillin     low\n",
                            "Name: power_level, dtype: object"
                        ]
                    },
                    "execution_count": 5,
                    "metadata": {},
                    "output_type": "execute_result"
                }
            ],
            "source": [
                "# Map\n",
                "# Map does not work on an entire dataframe but on a series e.g a column\n",
                "data = pd.DataFrame({\"power_level\": [12000, 16000, 4000, 1500, 3000, \n",
                "                                     2000, 1600, 2000],\n",
                "                     \"uniform color\": [\"orange\", \"blue\", \"black\", \"orange\",\n",
                "                                       \"purple\", \"green\", \"orange\", \"orange\"],\n",
                "                     \"species\": [\"saiyan\",\"saiyan\",\"saiyan\",\"half saiyan\",\n",
                "                                 \"namak\",\"human\",\"human\",\"human\"]}, \n",
                "                     index = [\"Goku\",\"Vegeta\", \"Nappa\",\"Gohan\",\n",
                "                                   \"Piccolo\",\"Tien\",\"Yamcha\", \"Krillin\"])\n",
                "\n",
                "# Use .map() to apply a function to a pandas Series\n",
                "# Data Frame columns are Series\n",
                "\n",
                "def my_function(x):\n",
                "    if x > 10000:\n",
                "        return(\"high\")\n",
                "    if x > 2000:\n",
                "        return(\"med\")\n",
                "    return (\"low\")\n",
                "\n",
                "\n",
                "data[\"power_level\"].map(my_function)"
            ]
        },
        {
            "cell_type": "code",
            "execution_count": 6,
            "metadata": {},
            "outputs": [
                {
                    "data": {
                        "text/plain": [
                            "Goku           alien\n",
                            "Vegeta         alien\n",
                            "Nappa          alien\n",
                            "Gohan      earthling\n",
                            "Piccolo        alien\n",
                            "Tien       earthling\n",
                            "Yamcha     earthling\n",
                            "Krillin    earthling\n",
                            "Name: species, dtype: object"
                        ]
                    },
                    "execution_count": 6,
                    "metadata": {},
                    "output_type": "execute_result"
                }
            ],
            "source": [
                "# To map Series values based on key: value correspondence\n",
                "# Pass a mapping dictionary to .map() \n",
                "correspondence = {\"saiyan\": \"alien\", \n",
                "                  \"namak\":\"alien\", \n",
                "                  \"human\":\"earthling\", \n",
                "                  \"half saiyan\": \"earthling\"}\n",
                "\n",
                "data[\"species\"].map(correspondence)"
            ]
        }
    ],
    "metadata": {
        "interpreter": {
            "hash": "247ab06e135bb35fa78c5eff31b2a9a0050dcb5fb773c2631d2a29ac689eeccb"
        },
        "kernelspec": {
            "display_name": "Python 3.9.7 64-bit",
            "name": "python3"
        },
        "language_info": {
            "codemirror_mode": {
                "name": "ipython",
                "version": 3
            },
            "file_extension": ".py",
            "mimetype": "text/x-python",
            "name": "python",
            "nbconvert_exporter": "python",
            "pygments_lexer": "ipython3",
            "version": "3.9.7"
        },
        "orig_nbformat": 4
    },
    "nbformat": 4,
    "nbformat_minor": 2
}
