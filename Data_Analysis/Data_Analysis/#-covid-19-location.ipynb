{
    "cells": [
        {
            "cell_type": "code",
            "execution_count": 1,
            "source": [
                "import tweepy\r\n",
                "import webbrowser\r\n",
                "from tweepy import Stream\r\n",
                "from tweepy.streaming import StreamListener\r\n",
                "from tweepy import Cursor\r\n",
                "from tweepy import API\r\n",
                "import pandas as pd\r\n",
                "import numpy as np\r\n",
                "import re\r\n",
                "from textblob import Word, TextBlob\r\n",
                "import matplotlib.pyplot as plt\r\n",
                "import json\r\n",
                "# from wordcloud import WordCloud"
            ],
            "outputs": [],
            "metadata": {}
        },
        {
            "cell_type": "code",
            "execution_count": 2,
            "source": [
                "# We shall be analysing tweets with respect to presidential debate\r\n",
                "\r\n",
                "with open('data/manager.json') as f:\r\n",
                "    data = json.load(f)\r\n",
                "    consumer_key = data['API_key']\r\n",
                "    consumer_secret = data['API_secret_Key']\r\n",
                "    Bearer_Token = data['Bearer_Token']\r\n",
                "\r\n",
                "\r\n",
                "callback_url= 'oob'\r\n",
                "auth= tweepy.OAuthHandler(consumer_key,consumer_secret,callback_url) # Authenticate our User\r\n",
                "redirect_url = auth.get_authorization_url() # Get URL to direct user\r\n",
                "# print(redirect_url)\r\n",
                "webbrowser.open(redirect_url)\r\n",
                "user_pint_input = input (\"What's the pin value? \")\r\n",
                "user_pint_input\r\n",
                "auth.get_access_token(user_pint_input)\r\n",
                "api= tweepy.API(auth, wait_on_rate_limit=True)\r\n",
                "me = api.me()"
            ],
            "outputs": [],
            "metadata": {}
        },
        {
            "cell_type": "code",
            "execution_count": 3,
            "source": [
                "import datetime\r\n",
                "\r\n",
                "today = datetime.date.today()\r\n",
                "yesterday= today - datetime.timedelta(days=7)\r\n",
                "print(today)\r\n",
                "print(yesterday)"
            ],
            "outputs": [
                {
                    "output_type": "stream",
                    "name": "stdout",
                    "text": [
                        "2021-10-07\n",
                        "2021-09-30\n"
                    ]
                }
            ],
            "metadata": {}
        },
        {
            "cell_type": "code",
            "execution_count": 4,
            "source": [
                "# Setting up tweeter handler\r\n",
                "import time\r\n",
                "\r\n",
                "hashtag = '#covid'+ '-filter:retweets' # Avoid retweeting\r\n",
                "#query = tweepy.Cursor(api.search, q=hashtag,lang='en').items(1400)  # The search method will help us search\r\n",
                "#print(dir(query)) \r\n",
                "while True:\r\n",
                "    try:\r\n",
                "        query = tweepy.Cursor(api.search, q=hashtag,lang='en',since= f'{yesterday}',until= f'{today}' ) #.items(1400)\r\n",
                "    except tweepy.TweepError:\r\n",
                "        time.sleep(60 * 15)\r\n",
                "        continue\r\n",
                "    except StopIteration:\r\n",
                "        break\r\n",
                "\r\n",
                "tweets = [ {'Tweets':tweet.text, 'Timestamp':tweet.created_at} for tweet in query]\r\n",
                "# print(tweets)"
            ],
            "outputs": [
                {
                    "output_type": "error",
                    "ename": "KeyboardInterrupt",
                    "evalue": "",
                    "traceback": [
                        "\u001b[1;31m---------------------------------------------------------------------------\u001b[0m",
                        "\u001b[1;31mKeyboardInterrupt\u001b[0m                         Traceback (most recent call last)",
                        "\u001b[1;32m~\\AppData\\Local\\Temp/ipykernel_16288/133286444.py\u001b[0m in \u001b[0;36m<module>\u001b[1;34m\u001b[0m\n\u001b[0;32m      7\u001b[0m \u001b[1;32mwhile\u001b[0m \u001b[1;32mTrue\u001b[0m\u001b[1;33m:\u001b[0m\u001b[1;33m\u001b[0m\u001b[1;33m\u001b[0m\u001b[0m\n\u001b[0;32m      8\u001b[0m     \u001b[1;32mtry\u001b[0m\u001b[1;33m:\u001b[0m\u001b[1;33m\u001b[0m\u001b[1;33m\u001b[0m\u001b[0m\n\u001b[1;32m----> 9\u001b[1;33m         \u001b[0mquery\u001b[0m \u001b[1;33m=\u001b[0m \u001b[0mtweepy\u001b[0m\u001b[1;33m.\u001b[0m\u001b[0mCursor\u001b[0m\u001b[1;33m(\u001b[0m\u001b[0mapi\u001b[0m\u001b[1;33m.\u001b[0m\u001b[0msearch\u001b[0m\u001b[1;33m,\u001b[0m \u001b[0mq\u001b[0m\u001b[1;33m=\u001b[0m\u001b[0mhashtag\u001b[0m\u001b[1;33m,\u001b[0m\u001b[0mlang\u001b[0m\u001b[1;33m=\u001b[0m\u001b[1;34m'en'\u001b[0m\u001b[1;33m,\u001b[0m\u001b[0msince\u001b[0m\u001b[1;33m=\u001b[0m \u001b[1;34mf'{yesterday}'\u001b[0m\u001b[1;33m,\u001b[0m\u001b[0muntil\u001b[0m\u001b[1;33m=\u001b[0m \u001b[1;34mf'{today}'\u001b[0m \u001b[1;33m)\u001b[0m \u001b[1;31m#.items(1400)\u001b[0m\u001b[1;33m\u001b[0m\u001b[1;33m\u001b[0m\u001b[0m\n\u001b[0m\u001b[0;32m     10\u001b[0m     \u001b[1;32mexcept\u001b[0m \u001b[0mtweepy\u001b[0m\u001b[1;33m.\u001b[0m\u001b[0mTweepError\u001b[0m\u001b[1;33m:\u001b[0m\u001b[1;33m\u001b[0m\u001b[1;33m\u001b[0m\u001b[0m\n\u001b[0;32m     11\u001b[0m         \u001b[0mtime\u001b[0m\u001b[1;33m.\u001b[0m\u001b[0msleep\u001b[0m\u001b[1;33m(\u001b[0m\u001b[1;36m60\u001b[0m \u001b[1;33m*\u001b[0m \u001b[1;36m15\u001b[0m\u001b[1;33m)\u001b[0m\u001b[1;33m\u001b[0m\u001b[1;33m\u001b[0m\u001b[0m\n",
                        "\u001b[1;32m~\\AppData\\Local\\Programs\\Python\\Python39\\lib\\site-packages\\tweepy\\api.py\u001b[0m in \u001b[0;36msearch\u001b[1;34m(self)\u001b[0m\n\u001b[0;32m   1275\u001b[0m                             \u001b[1;34m'include_entities'\u001b[0m\u001b[1;33m\u001b[0m\u001b[1;33m\u001b[0m\u001b[0m\n\u001b[0;32m   1276\u001b[0m         \"\"\"\n\u001b[1;32m-> 1277\u001b[1;33m         return bind_api(\n\u001b[0m\u001b[0;32m   1278\u001b[0m             \u001b[0mapi\u001b[0m\u001b[1;33m=\u001b[0m\u001b[0mself\u001b[0m\u001b[1;33m,\u001b[0m\u001b[1;33m\u001b[0m\u001b[1;33m\u001b[0m\u001b[0m\n\u001b[0;32m   1279\u001b[0m             \u001b[0mpath\u001b[0m\u001b[1;33m=\u001b[0m\u001b[1;34m'/search/tweets.json'\u001b[0m\u001b[1;33m,\u001b[0m\u001b[1;33m\u001b[0m\u001b[1;33m\u001b[0m\u001b[0m\n",
                        "\u001b[1;32m~\\AppData\\Local\\Programs\\Python\\Python39\\lib\\site-packages\\tweepy\\binder.py\u001b[0m in \u001b[0;36mbind_api\u001b[1;34m(**config)\u001b[0m\n\u001b[0;32m     23\u001b[0m \u001b[1;32mdef\u001b[0m \u001b[0mbind_api\u001b[0m\u001b[1;33m(\u001b[0m\u001b[1;33m**\u001b[0m\u001b[0mconfig\u001b[0m\u001b[1;33m)\u001b[0m\u001b[1;33m:\u001b[0m\u001b[1;33m\u001b[0m\u001b[1;33m\u001b[0m\u001b[0m\n\u001b[0;32m     24\u001b[0m \u001b[1;33m\u001b[0m\u001b[0m\n\u001b[1;32m---> 25\u001b[1;33m     \u001b[1;32mclass\u001b[0m \u001b[0mAPIMethod\u001b[0m\u001b[1;33m(\u001b[0m\u001b[0mobject\u001b[0m\u001b[1;33m)\u001b[0m\u001b[1;33m:\u001b[0m\u001b[1;33m\u001b[0m\u001b[1;33m\u001b[0m\u001b[0m\n\u001b[0m\u001b[0;32m     26\u001b[0m \u001b[1;33m\u001b[0m\u001b[0m\n\u001b[0;32m     27\u001b[0m         \u001b[0mapi\u001b[0m \u001b[1;33m=\u001b[0m \u001b[0mconfig\u001b[0m\u001b[1;33m[\u001b[0m\u001b[1;34m'api'\u001b[0m\u001b[1;33m]\u001b[0m\u001b[1;33m\u001b[0m\u001b[1;33m\u001b[0m\u001b[0m\n",
                        "\u001b[1;31mKeyboardInterrupt\u001b[0m: "
                    ]
                }
            ],
            "metadata": {}
        },
        {
            "cell_type": "code",
            "execution_count": 5,
            "source": [
                "userLocation = [ [tweet.user.screen_name, tweet.user.location] for tweet in query]\r\n",
                "userLocation\r\n",
                "\r\n",
                "tweetLocation = pd.DataFrame(data=userLocation,columns=['Users','Location'])\r\n",
                "tweetLocation"
            ],
            "outputs": [
                {
                    "output_type": "error",
                    "ename": "TypeError",
                    "evalue": "'Cursor' object is not iterable",
                    "traceback": [
                        "\u001b[1;31m---------------------------------------------------------------------------\u001b[0m",
                        "\u001b[1;31mTypeError\u001b[0m                                 Traceback (most recent call last)",
                        "\u001b[1;32m~\\AppData\\Local\\Temp/ipykernel_16288/267033982.py\u001b[0m in \u001b[0;36m<module>\u001b[1;34m\u001b[0m\n\u001b[1;32m----> 1\u001b[1;33m \u001b[0muserLocation\u001b[0m \u001b[1;33m=\u001b[0m \u001b[1;33m[\u001b[0m \u001b[1;33m[\u001b[0m\u001b[0mtweet\u001b[0m\u001b[1;33m.\u001b[0m\u001b[0muser\u001b[0m\u001b[1;33m.\u001b[0m\u001b[0mscreen_name\u001b[0m\u001b[1;33m,\u001b[0m \u001b[0mtweet\u001b[0m\u001b[1;33m.\u001b[0m\u001b[0muser\u001b[0m\u001b[1;33m.\u001b[0m\u001b[0mlocation\u001b[0m\u001b[1;33m]\u001b[0m \u001b[1;32mfor\u001b[0m \u001b[0mtweet\u001b[0m \u001b[1;32min\u001b[0m \u001b[0mquery\u001b[0m\u001b[1;33m]\u001b[0m\u001b[1;33m\u001b[0m\u001b[1;33m\u001b[0m\u001b[0m\n\u001b[0m\u001b[0;32m      2\u001b[0m \u001b[0muserLocation\u001b[0m\u001b[1;33m\u001b[0m\u001b[1;33m\u001b[0m\u001b[0m\n\u001b[0;32m      3\u001b[0m \u001b[1;33m\u001b[0m\u001b[0m\n\u001b[0;32m      4\u001b[0m \u001b[0mtweetLocation\u001b[0m \u001b[1;33m=\u001b[0m \u001b[0mpd\u001b[0m\u001b[1;33m.\u001b[0m\u001b[0mDataFrame\u001b[0m\u001b[1;33m(\u001b[0m\u001b[0mdata\u001b[0m\u001b[1;33m=\u001b[0m\u001b[0muserLocation\u001b[0m\u001b[1;33m,\u001b[0m\u001b[0mcolumns\u001b[0m\u001b[1;33m=\u001b[0m\u001b[1;33m[\u001b[0m\u001b[1;34m'Users'\u001b[0m\u001b[1;33m,\u001b[0m\u001b[1;34m'Location'\u001b[0m\u001b[1;33m]\u001b[0m\u001b[1;33m)\u001b[0m\u001b[1;33m\u001b[0m\u001b[1;33m\u001b[0m\u001b[0m\n\u001b[0;32m      5\u001b[0m \u001b[0mtweetLocation\u001b[0m\u001b[1;33m\u001b[0m\u001b[1;33m\u001b[0m\u001b[0m\n",
                        "\u001b[1;31mTypeError\u001b[0m: 'Cursor' object is not iterable"
                    ]
                }
            ],
            "metadata": {}
        },
        {
            "cell_type": "code",
            "execution_count": 6,
            "source": [
                "# Import tweets into a data frame\r\n",
                "# convert dictionary to list\r\n",
                "tweets = list(tweets) \r\n",
                "df = pd.DataFrame(tweets, columns=['Tweets','Timestamp'])\r\n",
                "# print(df)"
            ],
            "outputs": [
                {
                    "output_type": "error",
                    "ename": "NameError",
                    "evalue": "name 'tweets' is not defined",
                    "traceback": [
                        "\u001b[1;31m---------------------------------------------------------------------------\u001b[0m",
                        "\u001b[1;31mNameError\u001b[0m                                 Traceback (most recent call last)",
                        "\u001b[1;32m~\\AppData\\Local\\Temp/ipykernel_16288/2778224320.py\u001b[0m in \u001b[0;36m<module>\u001b[1;34m\u001b[0m\n\u001b[0;32m      1\u001b[0m \u001b[1;31m# Import tweets into a data frame\u001b[0m\u001b[1;33m\u001b[0m\u001b[1;33m\u001b[0m\u001b[0m\n\u001b[0;32m      2\u001b[0m \u001b[1;31m# convert dictionary to list\u001b[0m\u001b[1;33m\u001b[0m\u001b[1;33m\u001b[0m\u001b[0m\n\u001b[1;32m----> 3\u001b[1;33m \u001b[0mtweets\u001b[0m \u001b[1;33m=\u001b[0m \u001b[0mlist\u001b[0m\u001b[1;33m(\u001b[0m\u001b[0mtweets\u001b[0m\u001b[1;33m)\u001b[0m\u001b[1;33m\u001b[0m\u001b[1;33m\u001b[0m\u001b[0m\n\u001b[0m\u001b[0;32m      4\u001b[0m \u001b[0mdf\u001b[0m \u001b[1;33m=\u001b[0m \u001b[0mpd\u001b[0m\u001b[1;33m.\u001b[0m\u001b[0mDataFrame\u001b[0m\u001b[1;33m(\u001b[0m\u001b[0mtweets\u001b[0m\u001b[1;33m,\u001b[0m \u001b[0mcolumns\u001b[0m\u001b[1;33m=\u001b[0m\u001b[1;33m[\u001b[0m\u001b[1;34m'Tweets'\u001b[0m\u001b[1;33m,\u001b[0m\u001b[1;34m'Timestamp'\u001b[0m\u001b[1;33m]\u001b[0m\u001b[1;33m)\u001b[0m\u001b[1;33m\u001b[0m\u001b[1;33m\u001b[0m\u001b[0m\n\u001b[0;32m      5\u001b[0m \u001b[1;31m# print(df)\u001b[0m\u001b[1;33m\u001b[0m\u001b[1;33m\u001b[0m\u001b[0m\n",
                        "\u001b[1;31mNameError\u001b[0m: name 'tweets' is not defined"
                    ]
                }
            ],
            "metadata": {}
        },
        {
            "cell_type": "code",
            "execution_count": null,
            "source": [
                "\r\n",
                "# Cleaning tweets\r\n",
                "def clean_text(raw_text):\r\n",
                "    raw_text = re.sub(r'@[A-Za-z0-9]+','',raw_text) # Remove all @mentions and numbers\r\n",
                "    raw_text = re.sub(r'#','',raw_text) # Remove the # symbol\r\n",
                "    raw_text = re.sub(r'RT[\\s]+','',raw_text) # Removing the RT\r\n",
                "    raw_text = re.sub(r'https?:\\/\\/\\S+','',raw_text) # Remove hyper links\r\n",
                "    raw_text = re.sub(r':','',raw_text)\r\n",
                "    raw_text = re.sub(r'_','',raw_text)\r\n",
                "    raw_text = re.sub(r'\\n\\n','',raw_text)\r\n",
                "    raw_text = re.sub(r'--&','',raw_text)\r\n",
                "    raw_text = re.sub(r'\\n','',raw_text)\r\n",
                "    return raw_text\r\n",
                "\r\n",
                "df['Tweets'] = df['Tweets'].apply(clean_text)\r\n",
                "\r\n",
                "# print(df)\r\n",
                "#print(df.shape)"
            ],
            "outputs": [],
            "metadata": {}
        },
        {
            "cell_type": "code",
            "execution_count": null,
            "source": [
                "# Remove emorjis\r\n",
                "def removeEmojify(text):\r\n",
                "    regrex_pattern = re.compile(pattern = \"[\"\r\n",
                "        u\"\\U0001F600-\\U0001F64F\"  # emoticons\r\n",
                "        u\"\\U0001F300-\\U0001F5FF\"  # symbols & pictographs\r\n",
                "        u\"\\U0001F680-\\U0001F6FF\"  # transport & map symbols\r\n",
                "        u\"\\U0001F1E0-\\U0001F1FF\"  # flags (iOS)\r\n",
                "                           \"]+\", flags = re.UNICODE)\r\n",
                "    return regrex_pattern.sub(r'',text)\r\n",
                "\r\n",
                "df['Tweets'] = df['Tweets'].apply(removeEmojify)\r\n",
                "\r\n",
                "# print(df)"
            ],
            "outputs": [],
            "metadata": {}
        },
        {
            "cell_type": "code",
            "execution_count": null,
            "source": [
                "# Plot the word cloud\r\n",
                "# allword = ' '.join([twts for twts in df['Tweets']])\r\n",
                "# wordCloud = WordCloud(width = 500, height = 300, random_state = 21, max_font_size = 119).generate(allword)\r\n",
                "# plt.imshow(wordCloud, interpolation='bilinear')\r\n",
                "# plt.axis('off')\r\n",
                "# plt.show()"
            ],
            "outputs": [],
            "metadata": {}
        },
        {
            "cell_type": "code",
            "execution_count": null,
            "source": [
                "# Subjectivity and the polarity\r\n",
                "\r\n",
                "# How much a piece of text is based on emotion or how objective or subjective it is ranging from 0 to 1\r\n",
                "def getSubjectivity(text):\r\n",
                "    return TextBlob(text).sentiment.subjectivity\r\n",
                "\r\n",
                "# How positive or negative something is ranging from -1 to 1\r\n",
                "def getPolarity(text): \r\n",
                "    return TextBlob(text).sentiment.polarity\r\n",
                "\r\n",
                "df['Subjectivity'] = df['Tweets'].apply(getSubjectivity)\r\n",
                "df['Polarity'] = df['Tweets'].apply(getPolarity)\r\n",
                "\r\n",
                "# print(df)"
            ],
            "outputs": [],
            "metadata": {}
        },
        {
            "cell_type": "code",
            "execution_count": null,
            "source": [
                "# Create a new function to compute negative, neutral and positive analysis\r\n",
                "\r\n",
                "def getAnalysys(score):\r\n",
                "        if score<0:\r\n",
                "            return 'Negative'\r\n",
                "        elif score==0:\r\n",
                "            return 'Neutral'\r\n",
                "        else:\r\n",
                "            return 'Positive'\r\n",
                "\r\n",
                "df['Analysis'] = df['Polarity'].apply(getAnalysys)\r\n",
                "\r\n",
                "# print(df)"
            ],
            "outputs": [],
            "metadata": {}
        },
        {
            "cell_type": "code",
            "execution_count": null,
            "source": [
                " # print all positive tweets\r\n",
                "# print('*****Positive Tweets*****')\r\n",
                "j = 1\r\n",
                "sortedDF = df.sort_values(by=['Polarity']) # sorts value by polarity\r\n",
                "for i in range(0,sortedDF.shape[0]): # looping through number of rows\r\n",
                "    if (sortedDF['Analysis'][i]=='Positive'): # print if Analysis column is positive\r\n",
                "            # print(str(j) + ')'+ sortedDF['Tweets'][i])\r\n",
                "            # print()\r\n",
                "            j +=1"
            ],
            "outputs": [],
            "metadata": {}
        },
        {
            "cell_type": "code",
            "execution_count": null,
            "source": [
                "# print all negative tweets\r\n",
                "# print('*****Negative Tweets*****')\r\n",
                "j = 1\r\n",
                "sortedDF = df.sort_values(by=['Polarity'], ascending='False')\r\n",
                "for i in range(0,sortedDF.shape[0]):\r\n",
                "     if (sortedDF['Analysis'][i]=='Negative'):\r\n",
                "            # print(str(j) + ')'+ sortedDF['Tweets'][i])\r\n",
                "            # print()\r\n",
                "            j +=1"
            ],
            "outputs": [],
            "metadata": {}
        },
        {
            "cell_type": "code",
            "execution_count": null,
            "source": [
                "# Plot Polarity vs Subjectivity\r\n",
                "plt.figure(figsize=(8,6))\r\n",
                "for i in range(0,df.shape[0]):\r\n",
                "    plt.scatter(df['Polarity'][i],df['Subjectivity'][i], color='Blue')\r\n",
                "\r\n",
                "plt.title('Sentiment Analysis')\r\n",
                "plt.xlabel('Polarity')\r\n",
                "plt.ylabel('Subjectivity')\r\n",
                "plt.show()"
            ],
            "outputs": [],
            "metadata": {}
        },
        {
            "cell_type": "code",
            "execution_count": null,
            "source": [
                "\r\n",
                " # Get the percentage of positive tweets\r\n",
                "ptweets = df[df.Analysis == 'Positive']\r\n",
                "ptweets = ptweets['Tweets']\r\n",
                "percent = round((ptweets.shape[0] / df.shape[0]) * 100, 1)\r\n",
                "print(f'Positive tweets %: {percent}')\r\n",
                "\r\n",
                "\r\n",
                "# Get the percentage of negative tweets\r\n",
                "ntweets = df[df.Analysis == 'Negative']\r\n",
                "ntweets = ntweets['Tweets']\r\n",
                "percent = round((ntweets.shape[0] / df.shape[0]) * 100, 1)\r\n",
                "print(f'Negative tweets %: {percent}')"
            ],
            "outputs": [],
            "metadata": {}
        },
        {
            "cell_type": "code",
            "execution_count": null,
            "source": [
                "# Show value counts\r\n",
                "\r\n",
                "df['Analysis'].value_counts()\r\n",
                "\r\n",
                "# Plot and visualize the counts\r\n",
                "plt.title('Sentiment Analysis')\r\n",
                "plt.xlabel('Sentiment')\r\n",
                "plt.ylabel('Counts')\r\n",
                "df['Analysis'].value_counts().plot(kind='bar')\r\n",
                "plt.show()"
            ],
            "outputs": [],
            "metadata": {}
        }
    ],
    "metadata": {
        "orig_nbformat": 4,
        "language_info": {
            "name": "python",
            "version": "3.9.7",
            "mimetype": "text/x-python",
            "codemirror_mode": {
                "name": "ipython",
                "version": 3
            },
            "pygments_lexer": "ipython3",
            "nbconvert_exporter": "python",
            "file_extension": ".py"
        },
        "kernelspec": {
            "name": "python3",
            "display_name": "Python 3.9.7 64-bit"
        },
        "interpreter": {
            "hash": "247ab06e135bb35fa78c5eff31b2a9a0050dcb5fb773c2631d2a29ac689eeccb"
        }
    },
    "nbformat": 4,
    "nbformat_minor": 2
}